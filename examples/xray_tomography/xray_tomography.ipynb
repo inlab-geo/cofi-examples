{
 "cells": [
  {
   "cell_type": "markdown",
   "id": "25e146d8",
   "metadata": {
    "papermill": {
     "duration": 0.004315,
     "end_time": "2023-02-09T00:10:11.548176",
     "exception": false,
     "start_time": "2023-02-09T00:10:11.543861",
     "status": "completed"
    },
    "tags": []
   },
   "source": [
    "# Xray Tomography"
   ]
  },
  {
   "cell_type": "markdown",
   "id": "511f0c49",
   "metadata": {
    "papermill": {
     "duration": 0.003401,
     "end_time": "2023-02-09T00:10:11.575357",
     "exception": false,
     "start_time": "2023-02-09T00:10:11.571956",
     "status": "completed"
    },
    "tags": []
   },
   "source": [
    "[![Open In Colab](https://img.shields.io/badge/open%20in-Colab-b5e2fa?logo=googlecolab&style=flat-square&color=ffd670)](https://colab.research.google.com/github/inlab-geo/cofi-examples/blob/main/examples/xray_tomography/xray_tomography.ipynb)"
   ]
  },
  {
   "cell_type": "markdown",
   "id": "a0e17e58",
   "metadata": {
    "papermill": {
     "duration": 0.003365,
     "end_time": "2023-02-09T00:10:11.582143",
     "exception": false,
     "start_time": "2023-02-09T00:10:11.578778",
     "status": "completed"
    },
    "tags": []
   },
   "source": [
    "<!-- Again, please don't touch the markdown cell above. We'll generate badge \n",
    "     automatically from the above cell. -->\n",
    "\n",
    "<!-- This cell describes things related to environment setup, so please add more text \n",
    "     if something special (not listed below) is needed to run this notebook -->\n",
    "\n",
    "> If you are running this notebook locally, make sure you've followed [steps here](https://github.com/inlab-geo/cofi-examples#run-the-examples-with-cofi-locally)\n",
    "to set up the environment. (This [environment.yml](https://github.com/inlab-geo/cofi-examples/blob/main/envs/environment.yml) file\n",
    "specifies a list of packages required to run the notebooks)"
   ]
  },
  {
   "cell_type": "markdown",
   "id": "8fd1f050",
   "metadata": {
    "papermill": {
     "duration": 0.002865,
     "end_time": "2023-02-09T00:10:11.588133",
     "exception": false,
     "start_time": "2023-02-09T00:10:11.585268",
     "status": "completed"
    },
    "tags": []
   },
   "source": [
    "*Adapted from notebooks by Andrew Valentine & Malcolm Sambridge - Research School of Earth Sciences, The Australian National University*\n",
    "\n",
    "In this notebook, we look at an linear inverse problem based on Xray Tomography. \n",
    "We will use `cofi` to run a linear system solver (optionally with Tikhonov regularization \n",
    "and noise estimation) for this problem.\n",
    "\n",
    "As an example, we will consider performing X-Ray Tomography (XRT) to image the interior of a structure. We assume that the x-rays travel at the same speed regardless of the medium through which they are passing, and so their paths are straight lines between source and receiver. However, the medium causes the x-rays to attenuate: paths through dense objects (such as bones!) arrive at the receiver with far less energy than they had at the source. Thus, by analysing the attenuation along many different paths, we can build up a picture of the interior of an object.\n",
    "\n",
    "Specifically, we will assume that the intensity at the receiver, $I_{rec}$, is related to the intensity at the source, $I_{src}$ by $$I_{rec} = I_{src}\\exp\\left\\{-\\int_\\mathrm{path} \\mu(\\mathbf{x})\\,\\mathrm{d}\\mathbf{l}\\right\\}$$ where $\\mu(\\mathbf{x})$ is a position-dependent attenuation coefficient. To obtain a linear inverse problem, we rewrite this as $$-\\log \\frac{I_{rec}}{I_{src}}=\\int_\\mathrm{path} \\mu(\\mathbf{x})\\,\\mathrm{d}\\mathbf{l}\\,.$$ We know that $$\\int\\left[f(x) + g(x)\\right]\\,\\mathrm{d}x = \\int f(x)\\,\\mathrm{d}x + \\int g(x)\\,\\mathrm{d}x$$ so we say that integration is a *linear* operation, and hence we can solve the XRT problem with linear inverse theory. \n",
    "\n",
    "We will assume that the object we are interested in is 2-dimensional, so that $\\mu(\\boldsymbol{x}) = \\mu(x,y)$. If we discretize this model, with $N_x$ cells in the $x$-direction and $N_y$ cells in the $y$-direction, we can express $\\mu(x,y)$ as an $N_x \\times N_y$ vector $\\boldsymbol{\\mu}$. This is related to the data by\n",
    "$$d_i = A_{ij}\\mu_j $$\n",
    "where $d_i = -\\log {I^{(i)}_{rec}}/{I^{(i)}_{src}}$, and where $A_{ij}$ represents the path length in cell $j$ of the discretized model."
   ]
  },
  {
   "cell_type": "markdown",
   "id": "e231b034",
   "metadata": {
    "papermill": {
     "duration": 0.002928,
     "end_time": "2023-02-09T00:10:11.609193",
     "exception": false,
     "start_time": "2023-02-09T00:10:11.606265",
     "status": "completed"
    },
    "tags": []
   },
   "source": [
    "## 0. Import modules\n",
    "\n",
    "The package `cofi-espresso` contains the forward code for this problem."
   ]
  },
  {
   "cell_type": "code",
   "execution_count": 1,
   "id": "44f335e1",
   "metadata": {
    "execution": {
     "iopub.execute_input": "2023-02-09T00:10:11.616099Z",
     "iopub.status.busy": "2023-02-09T00:10:11.615857Z",
     "iopub.status.idle": "2023-02-09T00:10:11.618637Z",
     "shell.execute_reply": "2023-02-09T00:10:11.618292Z"
    },
    "papermill": {
     "duration": 0.007414,
     "end_time": "2023-02-09T00:10:11.619576",
     "exception": false,
     "start_time": "2023-02-09T00:10:11.612162",
     "status": "completed"
    },
    "tags": []
   },
   "outputs": [],
   "source": [
    "# -------------------------------------------------------- #\n",
    "#                                                          #\n",
    "#     Uncomment below to set up environment on \"colab\"     #\n",
    "#                                                          #\n",
    "# -------------------------------------------------------- #\n",
    "\n",
    "# !pip install -U cofi\n",
    "# !pip install -U cofi-espresso"
   ]
  },
  {
   "cell_type": "code",
   "execution_count": 2,
   "id": "54bc910e",
   "metadata": {
    "execution": {
     "iopub.execute_input": "2023-02-09T00:10:11.627298Z",
     "iopub.status.busy": "2023-02-09T00:10:11.627005Z",
     "iopub.status.idle": "2023-02-09T00:10:12.336906Z",
     "shell.execute_reply": "2023-02-09T00:10:12.336485Z"
    },
    "papermill": {
     "duration": 0.715288,
     "end_time": "2023-02-09T00:10:12.338316",
     "exception": false,
     "start_time": "2023-02-09T00:10:11.623028",
     "status": "completed"
    },
    "tags": []
   },
   "outputs": [],
   "source": [
    "import numpy as np\n",
    "from cofi import BaseProblem, InversionOptions, Inversion\n",
    "from cofi_espresso import XrayTomography"
   ]
  },
  {
   "cell_type": "markdown",
   "id": "6210bbd2",
   "metadata": {
    "papermill": {
     "duration": 0.003518,
     "end_time": "2023-02-09T00:10:12.346437",
     "exception": false,
     "start_time": "2023-02-09T00:10:12.342919",
     "status": "completed"
    },
    "tags": []
   },
   "source": [
    "## 1. Define the problem\n",
    "\n",
    "Firstly, we get some information from the `cofi-espresso` module.\n",
    "These include the dataset and the Jacobian matrix. In the Xray\n",
    "Tomography example, the Jacobian matrix is related to the lengths\n",
    "of paths within each grid. Since the paths are fixed, the Jacobian\n",
    "matrix stays constant."
   ]
  },
  {
   "cell_type": "code",
   "execution_count": 3,
   "id": "8673617c",
   "metadata": {
    "execution": {
     "iopub.execute_input": "2023-02-09T00:10:12.354590Z",
     "iopub.status.busy": "2023-02-09T00:10:12.354281Z",
     "iopub.status.idle": "2023-02-09T00:10:12.527195Z",
     "shell.execute_reply": "2023-02-09T00:10:12.526775Z"
    },
    "papermill": {
     "duration": 0.178635,
     "end_time": "2023-02-09T00:10:12.528620",
     "exception": false,
     "start_time": "2023-02-09T00:10:12.349985",
     "status": "completed"
    },
    "tags": []
   },
   "outputs": [],
   "source": [
    "xrt = XrayTomography()"
   ]
  },
  {
   "cell_type": "code",
   "execution_count": 4,
   "id": "fdbbee81",
   "metadata": {
    "execution": {
     "iopub.execute_input": "2023-02-09T00:10:12.567721Z",
     "iopub.status.busy": "2023-02-09T00:10:12.567482Z",
     "iopub.status.idle": "2023-02-09T00:10:13.788848Z",
     "shell.execute_reply": "2023-02-09T00:10:13.788375Z"
    },
    "papermill": {
     "duration": 1.25756,
     "end_time": "2023-02-09T00:10:13.789729",
     "exception": false,
     "start_time": "2023-02-09T00:10:12.532169",
     "status": "completed"
    },
    "tags": []
   },
   "outputs": [
    {
     "name": "stderr",
     "output_type": "stream",
     "text": [
      "\r",
      "Evaluating paths:   0%|                                                                                                                                                                                                                                                      | 0/10416 [00:00<?, ?it/s]"
     ]
    },
    {
     "name": "stderr",
     "output_type": "stream",
     "text": [
      "\r",
      "Evaluating paths:   8%|██████████████████▉                                                                                                                                                                                                                       | 844/10416 [00:00<00:01, 8433.01it/s]"
     ]
    },
    {
     "name": "stderr",
     "output_type": "stream",
     "text": [
      "\r",
      "Evaluating paths:  16%|██████████████████████████████████████▎                                                                                                                                                                                                  | 1714/10416 [00:00<00:01, 8588.91it/s]"
     ]
    },
    {
     "name": "stderr",
     "output_type": "stream",
     "text": [
      "\r",
      "Evaluating paths:  25%|█████████████████████████████████████████████████████████▌                                                                                                                                                                               | 2573/10416 [00:00<00:00, 8573.85it/s]"
     ]
    },
    {
     "name": "stderr",
     "output_type": "stream",
     "text": [
      "\r",
      "Evaluating paths:  33%|████████████████████████████████████████████████████████████████████████████▋                                                                                                                                                            | 3431/10416 [00:00<00:00, 8515.66it/s]"
     ]
    },
    {
     "name": "stderr",
     "output_type": "stream",
     "text": [
      "\r",
      "Evaluating paths:  41%|████████████████████████████████████████████████████████████████████████████████████████████████▎                                                                                                                                        | 4303/10416 [00:00<00:00, 8585.96it/s]"
     ]
    },
    {
     "name": "stderr",
     "output_type": "stream",
     "text": [
      "\r",
      "Evaluating paths:  50%|███████████████████████████████████████████████████████████████████████████████████████████████████████████████████▍                                                                                                                     | 5162/10416 [00:00<00:00, 8576.23it/s]"
     ]
    },
    {
     "name": "stderr",
     "output_type": "stream",
     "text": [
      "\r",
      "Evaluating paths:  58%|██████████████████████████████████████████████████████████████████████████████████████████████████████████████████████████████████████▉                                                                                                  | 6033/10416 [00:00<00:00, 8619.64it/s]"
     ]
    },
    {
     "name": "stderr",
     "output_type": "stream",
     "text": [
      "\r",
      "Evaluating paths:  66%|██████████████████████████████████████████████████████████████████████████████████████████████████████████████████████████████████████████████████████████▎                                                                              | 6898/10416 [00:00<00:00, 8629.09it/s]"
     ]
    },
    {
     "name": "stderr",
     "output_type": "stream",
     "text": [
      "\r",
      "Evaluating paths:  75%|█████████████████████████████████████████████████████████████████████████████████████████████████████████████████████████████████████████████████████████████████████████████▌                                                           | 7761/10416 [00:00<00:00, 8564.75it/s]"
     ]
    },
    {
     "name": "stderr",
     "output_type": "stream",
     "text": [
      "\r",
      "Evaluating paths:  83%|████████████████████████████████████████████████████████████████████████████████████████████████████████████████████████████████████████████████████████████████████████████████████████████████▊                                        | 8619/10416 [00:01<00:00, 8568.74it/s]"
     ]
    },
    {
     "name": "stderr",
     "output_type": "stream",
     "text": [
      "\r",
      "Evaluating paths:  91%|████████████████████████████████████████████████████████████████████████████████████████████████████████████████████████████████████████████████████████████████████████████████████████████████████████████████████▎                    | 9490/10416 [00:01<00:00, 8609.64it/s]"
     ]
    },
    {
     "name": "stderr",
     "output_type": "stream",
     "text": [
      "\r",
      "Evaluating paths:  99%|██████████████████████████████████████████████████████████████████████████████████████████████████████████████████████████████████████████████████████████████████████████████████████████████████████████████████████████████████████▋ | 10358/10416 [00:01<00:00, 8629.99it/s]"
     ]
    },
    {
     "name": "stderr",
     "output_type": "stream",
     "text": [
      "\r",
      "Evaluating paths: 100%|████████████████████████████████████████████████████████████████████████████████████████████████████████████████████████████████████████████████████████████████████████████████████████████████████████████████████████████████████████| 10416/10416 [00:01<00:00, 8589.28it/s]"
     ]
    },
    {
     "name": "stderr",
     "output_type": "stream",
     "text": [
      "\n"
     ]
    }
   ],
   "source": [
    "xrt_problem = BaseProblem()\n",
    "xrt_problem.set_data(xrt.data)\n",
    "xrt_problem.set_jacobian(xrt.jacobian(xrt.starting_model))"
   ]
  },
  {
   "cell_type": "markdown",
   "id": "e0f9440c-ade6-4d20-b039-f8dce371c2df",
   "metadata": {
    "papermill": {
     "duration": 0.004177,
     "end_time": "2023-02-09T00:10:13.797759",
     "exception": false,
     "start_time": "2023-02-09T00:10:13.793582",
     "status": "completed"
    },
    "tags": []
   },
   "source": [
    "We do some estimation on data noise and further perform a regularization."
   ]
  },
  {
   "cell_type": "code",
   "execution_count": 5,
   "id": "88104d1d",
   "metadata": {
    "execution": {
     "iopub.execute_input": "2023-02-09T00:10:13.806334Z",
     "iopub.status.busy": "2023-02-09T00:10:13.806099Z",
     "iopub.status.idle": "2023-02-09T00:10:13.982072Z",
     "shell.execute_reply": "2023-02-09T00:10:13.981616Z"
    },
    "papermill": {
     "duration": 0.181868,
     "end_time": "2023-02-09T00:10:13.983457",
     "exception": false,
     "start_time": "2023-02-09T00:10:13.801589",
     "status": "completed"
    },
    "tags": []
   },
   "outputs": [],
   "source": [
    "sigma = 0.002\n",
    "lamda = 50\n",
    "data_cov_inv = np.identity(xrt.data_size) * (1/sigma**2)\n",
    "reg_matrix = lamda * np.identity(xrt.model_size)"
   ]
  },
  {
   "cell_type": "code",
   "execution_count": 6,
   "id": "333e598c",
   "metadata": {
    "execution": {
     "iopub.execute_input": "2023-02-09T00:10:13.992576Z",
     "iopub.status.busy": "2023-02-09T00:10:13.992345Z",
     "iopub.status.idle": "2023-02-09T00:10:13.994976Z",
     "shell.execute_reply": "2023-02-09T00:10:13.994565Z"
    },
    "papermill": {
     "duration": 0.008527,
     "end_time": "2023-02-09T00:10:13.995926",
     "exception": false,
     "start_time": "2023-02-09T00:10:13.987399",
     "status": "completed"
    },
    "tags": []
   },
   "outputs": [],
   "source": [
    "xrt_problem.set_data_covariance_inv(data_cov_inv)\n",
    "xrt_problem.set_regularization(2, 1, reg_matrix)"
   ]
  },
  {
   "cell_type": "markdown",
   "id": "1412dd10",
   "metadata": {
    "papermill": {
     "duration": 0.011672,
     "end_time": "2023-02-09T00:10:14.011764",
     "exception": false,
     "start_time": "2023-02-09T00:10:14.000092",
     "status": "completed"
    },
    "tags": []
   },
   "source": [
    "Review what information is included in the `BaseProblem` object:"
   ]
  },
  {
   "cell_type": "code",
   "execution_count": 7,
   "id": "156b4476",
   "metadata": {
    "execution": {
     "iopub.execute_input": "2023-02-09T00:10:14.019629Z",
     "iopub.status.busy": "2023-02-09T00:10:14.019369Z",
     "iopub.status.idle": "2023-02-09T00:10:14.022098Z",
     "shell.execute_reply": "2023-02-09T00:10:14.021731Z"
    },
    "papermill": {
     "duration": 0.007775,
     "end_time": "2023-02-09T00:10:14.023008",
     "exception": false,
     "start_time": "2023-02-09T00:10:14.015233",
     "status": "completed"
    },
    "tags": []
   },
   "outputs": [
    {
     "name": "stdout",
     "output_type": "stream",
     "text": [
      "=====================================================================\n",
      "Summary for inversion problem: BaseProblem\n",
      "=====================================================================\n",
      "Model shape: Unknown\n",
      "---------------------------------------------------------------------\n",
      "List of functions/properties set by you:\n",
      "['jacobian', 'regularization', 'regularization_matrix', 'regularization_factor', 'data', 'data_covariance_inv']\n",
      "---------------------------------------------------------------------\n",
      "List of functions/properties created based on what you have provided:\n",
      "['jacobian_times_vector']\n",
      "---------------------------------------------------------------------\n",
      "List of functions/properties that can be further set for the problem:\n",
      "( not all of these may be relevant to your inversion workflow )\n",
      "['objective', 'log_posterior', 'log_posterior_with_blobs', 'log_likelihood', 'log_prior', 'gradient', 'hessian', 'hessian_times_vector', 'residual', 'jacobian_times_vector', 'data_misfit', 'forward', 'data_covariance', 'initial_model', 'model_shape', 'blobs_dtype', 'bounds', 'constraints']\n"
     ]
    }
   ],
   "source": [
    "xrt_problem.summary()"
   ]
  },
  {
   "cell_type": "markdown",
   "id": "40ec4ef2",
   "metadata": {
    "papermill": {
     "duration": 0.003685,
     "end_time": "2023-02-09T00:10:14.030522",
     "exception": false,
     "start_time": "2023-02-09T00:10:14.026837",
     "status": "completed"
    },
    "tags": []
   },
   "source": [
    "## 2. Define the inversion options"
   ]
  },
  {
   "cell_type": "code",
   "execution_count": 8,
   "id": "3c5a4b83",
   "metadata": {
    "execution": {
     "iopub.execute_input": "2023-02-09T00:10:14.038629Z",
     "iopub.status.busy": "2023-02-09T00:10:14.038418Z",
     "iopub.status.idle": "2023-02-09T00:10:14.040707Z",
     "shell.execute_reply": "2023-02-09T00:10:14.040326Z"
    },
    "papermill": {
     "duration": 0.00748,
     "end_time": "2023-02-09T00:10:14.041609",
     "exception": false,
     "start_time": "2023-02-09T00:10:14.034129",
     "status": "completed"
    },
    "tags": []
   },
   "outputs": [],
   "source": [
    "my_options = InversionOptions()\n",
    "my_options.set_tool(\"scipy.linalg.lstsq\")"
   ]
  },
  {
   "cell_type": "markdown",
   "id": "9465a4c8",
   "metadata": {
    "papermill": {
     "duration": 0.004092,
     "end_time": "2023-02-09T00:10:14.049832",
     "exception": false,
     "start_time": "2023-02-09T00:10:14.045740",
     "status": "completed"
    },
    "tags": []
   },
   "source": [
    "Review what's been defined for the inversion we are about to run:"
   ]
  },
  {
   "cell_type": "code",
   "execution_count": 9,
   "id": "9cfaa06d",
   "metadata": {
    "execution": {
     "iopub.execute_input": "2023-02-09T00:10:14.057890Z",
     "iopub.status.busy": "2023-02-09T00:10:14.057688Z",
     "iopub.status.idle": "2023-02-09T00:10:14.060235Z",
     "shell.execute_reply": "2023-02-09T00:10:14.059846Z"
    },
    "papermill": {
     "duration": 0.007506,
     "end_time": "2023-02-09T00:10:14.061160",
     "exception": false,
     "start_time": "2023-02-09T00:10:14.053654",
     "status": "completed"
    },
    "tags": []
   },
   "outputs": [
    {
     "name": "stdout",
     "output_type": "stream",
     "text": [
      "=============================\n",
      "Summary for inversion options\n",
      "=============================\n",
      "Solving method: None set\n",
      "Use `suggest_solving_methods()` to check available solving methods.\n",
      "-----------------------------\n",
      "Backend tool: `<class 'cofi.tools._scipy_lstsq.ScipyLstSq'>` - SciPy's wrapper function over LAPACK's linear least-squares solver, using 'gelsd', 'gelsy' (default), or 'gelss' as backend driver\n",
      "References: ['https://docs.scipy.org/doc/scipy/reference/generated/scipy.linalg.lstsq.html', 'https://www.netlib.org/lapack/lug/node27.html']\n",
      "Use `suggest_tools()` to check available backend tools.\n",
      "-----------------------------\n",
      "Solver-specific parameters: None set\n",
      "Use `suggest_solver_params()` to check required/optional solver-specific parameters.\n"
     ]
    }
   ],
   "source": [
    "my_options.summary()"
   ]
  },
  {
   "cell_type": "markdown",
   "id": "53109202",
   "metadata": {
    "papermill": {
     "duration": 0.003958,
     "end_time": "2023-02-09T00:10:14.069296",
     "exception": false,
     "start_time": "2023-02-09T00:10:14.065338",
     "status": "completed"
    },
    "tags": []
   },
   "source": [
    "## 3. Start an inversion\n",
    "\n",
    "We can now solve the inverse problem using the Tikhonov-regularized form of least-squares,\n",
    "$$\\mathbf{m}=\\left(\\mathbf{A^TA}+\\epsilon^2\\sigma^2\\mathbf{I}\\right)^\\mathbf{-1}\\mathbf{A^Td}$$\n",
    "where $\\sigma^2$ is the variance of the expected noise on the attenuation data.\n",
    "\n",
    "For this dataset, we've taken $\\sigma = 0.002$s and chosen $\\epsilon^2 = 50$. "
   ]
  },
  {
   "cell_type": "code",
   "execution_count": 10,
   "id": "c280c300",
   "metadata": {
    "execution": {
     "iopub.execute_input": "2023-02-09T00:10:14.078898Z",
     "iopub.status.busy": "2023-02-09T00:10:14.078693Z",
     "iopub.status.idle": "2023-02-09T00:10:15.904434Z",
     "shell.execute_reply": "2023-02-09T00:10:15.903823Z"
    },
    "papermill": {
     "duration": 1.832725,
     "end_time": "2023-02-09T00:10:15.905950",
     "exception": false,
     "start_time": "2023-02-09T00:10:14.073225",
     "status": "completed"
    },
    "tags": []
   },
   "outputs": [
    {
     "name": "stdout",
     "output_type": "stream",
     "text": [
      "============================\n",
      "Summary for inversion result\n",
      "============================\n",
      "SUCCESS\n",
      "----------------------------\n",
      "model: [1.13306453 0.86363911 1.01958229 ... 1.01319821 0.8615539  1.14691342]\n",
      "sum_of_squared_residuals: []\n",
      "effective_rank: 2500\n",
      "singular_values: [932638.73185699 860130.56593555 860130.56593555 ...   3644.1527398\n",
      "   3379.60041023   3379.60041023]\n",
      "model_covariance: [[ 7.47520869e-05 -3.87965698e-05 -4.62858729e-06 ...  2.58820545e-08\n",
      "  -8.37982995e-09 -8.03271846e-08]\n",
      " [-3.87965698e-05  1.21131273e-04 -2.70276186e-05 ... -1.63652129e-07\n",
      "   1.37850692e-07 -8.37982995e-09]\n",
      " [-4.62858729e-06 -2.70276186e-05  8.87810002e-05 ...  1.30995411e-07\n",
      "  -1.63652129e-07  2.58820545e-08]\n",
      " ...\n",
      " [ 2.58820545e-08 -1.63652129e-07  1.30995411e-07 ...  8.87810002e-05\n",
      "  -2.70276186e-05 -4.62858729e-06]\n",
      " [-8.37982995e-09  1.37850692e-07 -1.63652129e-07 ... -2.70276186e-05\n",
      "   1.21131273e-04 -3.87965698e-05]\n",
      " [-8.03271846e-08 -8.37982995e-09  2.58820545e-08 ... -4.62858729e-06\n",
      "  -3.87965698e-05  7.47520869e-05]]\n"
     ]
    }
   ],
   "source": [
    "inv = Inversion(xrt_problem, my_options)\n",
    "inv_result = inv.run()\n",
    "inv_result.summary()"
   ]
  },
  {
   "cell_type": "markdown",
   "id": "b1409c69",
   "metadata": {
    "papermill": {
     "duration": 0.008412,
     "end_time": "2023-02-09T00:10:15.923853",
     "exception": false,
     "start_time": "2023-02-09T00:10:15.915441",
     "status": "completed"
    },
    "tags": []
   },
   "source": [
    "## 4. Plotting\n",
    "\n",
    "Below the two figures refers to the inferred model and true model respectively."
   ]
  },
  {
   "cell_type": "code",
   "execution_count": 11,
   "id": "550a6217",
   "metadata": {
    "execution": {
     "iopub.execute_input": "2023-02-09T00:10:15.941536Z",
     "iopub.status.busy": "2023-02-09T00:10:15.941206Z",
     "iopub.status.idle": "2023-02-09T00:10:16.234192Z",
     "shell.execute_reply": "2023-02-09T00:10:16.233785Z"
    },
    "papermill": {
     "duration": 0.303195,
     "end_time": "2023-02-09T00:10:16.235108",
     "exception": false,
     "start_time": "2023-02-09T00:10:15.931913",
     "status": "completed"
    },
    "tags": []
   },
   "outputs": [
    {
     "data": {
      "image/png": "[encoded data removed]",
      "text/plain": [
       "<Figure size 640x480 with 2 Axes>"
      ]
     },
     "metadata": {},
     "output_type": "display_data"
    },
    {
     "data": {
      "image/png": "[encoded data removed]",
      "text/plain": [
       "<Figure size 640x480 with 2 Axes>"
      ]
     },
     "metadata": {},
     "output_type": "display_data"
    }
   ],
   "source": [
    "xrt.plot_model(inv_result.model, clim=(1, 1.5));       # inferred model\n",
    "xrt.plot_model(xrt.good_model, clim=(1, 1.5));          # true model"
   ]
  },
  {
   "cell_type": "markdown",
   "id": "8a6c93b9",
   "metadata": {
    "papermill": {
     "duration": 0.033105,
     "end_time": "2023-02-09T00:10:16.273907",
     "exception": false,
     "start_time": "2023-02-09T00:10:16.240802",
     "status": "completed"
    },
    "tags": []
   },
   "source": [
    "## 5. Estimated uncertainties\n",
    "\n",
    "We can now find the uncertainty on the recovered slowness parameters, which describes how noise in the data propagate into the\n",
    "slowness parameters with this data set. For the Tikhonov-regularised form of least-squares, the model covariance matrix is a square\n",
    "matrix of size $M\\times M$, where there are $M$ cells in the model.\n",
    "\n",
    "$$\\mathbf{C_m}=\\sigma^2\\left(\\mathbf{A^TA}+\\epsilon^2\\sigma^2\\mathbf{I}\\right)^\\mathbf{-1}$$.\n",
    "\n",
    "This matrix was calculated as part of the solver routine above. The square roots of the diagonal entries of this matrix are the $\\sigma$ errors in the slowness in each cell."
   ]
  },
  {
   "cell_type": "code",
   "execution_count": 12,
   "id": "2cc28358-9153-4c7b-8b95-e4ddd4ebf37c",
   "metadata": {
    "execution": {
     "iopub.execute_input": "2023-02-09T00:10:16.292520Z",
     "iopub.status.busy": "2023-02-09T00:10:16.292281Z",
     "iopub.status.idle": "2023-02-09T00:10:16.294661Z",
     "shell.execute_reply": "2023-02-09T00:10:16.294306Z"
    },
    "papermill": {
     "duration": 0.010186,
     "end_time": "2023-02-09T00:10:16.295471",
     "exception": false,
     "start_time": "2023-02-09T00:10:16.285285",
     "status": "completed"
    },
    "tags": []
   },
   "outputs": [],
   "source": [
    "Cm = inv_result.model_covariance"
   ]
  },
  {
   "cell_type": "markdown",
   "id": "b80bcf9a-4016-4443-badb-6fc3ae3921b7",
   "metadata": {
    "papermill": {
     "duration": 0.007297,
     "end_time": "2023-02-09T00:10:16.306910",
     "exception": false,
     "start_time": "2023-02-09T00:10:16.299613",
     "status": "completed"
    },
    "tags": []
   },
   "source": [
    "Lets plot the slowness uncertainties as a function of position across the cellular model."
   ]
  },
  {
   "cell_type": "code",
   "execution_count": 13,
   "id": "05d78456-cd03-46b3-98df-7a1a229e646f",
   "metadata": {
    "execution": {
     "iopub.execute_input": "2023-02-09T00:10:16.325055Z",
     "iopub.status.busy": "2023-02-09T00:10:16.324840Z",
     "iopub.status.idle": "2023-02-09T00:10:16.455493Z",
     "shell.execute_reply": "2023-02-09T00:10:16.455052Z"
    },
    "papermill": {
     "duration": 0.137005,
     "end_time": "2023-02-09T00:10:16.456504",
     "exception": false,
     "start_time": "2023-02-09T00:10:16.319499",
     "status": "completed"
    },
    "tags": []
   },
   "outputs": [
    {
     "data": {
      "image/png": "[encoded data removed]",
      "text/plain": [
       "<Figure size 640x480 with 2 Axes>"
      ]
     },
     "metadata": {},
     "output_type": "display_data"
    }
   ],
   "source": [
    "xrt.plot_model(np.sqrt(np.diag(Cm)));"
   ]
  },
  {
   "cell_type": "markdown",
   "id": "75131aa9-35a6-4320-9bfd-05cec638e720",
   "metadata": {
    "papermill": {
     "duration": 0.005554,
     "end_time": "2023-02-09T00:10:16.467734",
     "exception": false,
     "start_time": "2023-02-09T00:10:16.462180",
     "status": "completed"
    },
    "tags": []
   },
   "source": [
    "Uncertainty is uniformly low across the entire model and only significant near the corners where there are few ray paths.\n",
    "\n",
    "Similarly we can calculate uncertainty in velocity parameters using some calculus.\n",
    "$$ \\Delta v = \\left | \\frac{\\partial s}{\\partial v}  \\right | \\Delta s $$\n",
    "and since $s = 1/v$ we get\n",
    "$$ \\Delta v = s^2\\Delta s $$\n",
    "which gives the uncertainty image on velocity, which looks very similar."
   ]
  },
  {
   "cell_type": "code",
   "execution_count": 14,
   "id": "6fc03f1c-8320-4eb9-b53d-d8100607ecd7",
   "metadata": {
    "execution": {
     "iopub.execute_input": "2023-02-09T00:10:16.478913Z",
     "iopub.status.busy": "2023-02-09T00:10:16.478661Z",
     "iopub.status.idle": "2023-02-09T00:10:16.614880Z",
     "shell.execute_reply": "2023-02-09T00:10:16.614431Z"
    },
    "papermill": {
     "duration": 0.142867,
     "end_time": "2023-02-09T00:10:16.615879",
     "exception": false,
     "start_time": "2023-02-09T00:10:16.473012",
     "status": "completed"
    },
    "tags": []
   },
   "outputs": [
    {
     "data": {
      "image/png": "[encoded data removed]",
      "text/plain": [
       "<Figure size 640x480 with 2 Axes>"
      ]
     },
     "metadata": {},
     "output_type": "display_data"
    }
   ],
   "source": [
    "xrt.plot_model(np.sqrt(np.diag(Cm)) * inv_result.model);"
   ]
  },
  {
   "cell_type": "markdown",
   "id": "f409e4e3-5043-478b-9ca6-25dbbac9234e",
   "metadata": {
    "papermill": {
     "duration": 0.010043,
     "end_time": "2023-02-09T00:10:16.631507",
     "exception": false,
     "start_time": "2023-02-09T00:10:16.621464",
     "status": "completed"
    },
    "tags": []
   },
   "source": [
    "By clipping the colour range you can see an imprint of the true image, indicating that high slowness/low velcoity areas have slightly higher uncertainty."
   ]
  },
  {
   "cell_type": "markdown",
   "id": "9c6d1e8b",
   "metadata": {
    "papermill": {
     "duration": 0.004777,
     "end_time": "2023-02-09T00:10:16.641532",
     "exception": false,
     "start_time": "2023-02-09T00:10:16.636755",
     "status": "completed"
    },
    "tags": []
   },
   "source": [
    "---\n",
    "## Watermark\n",
    "\n",
    "<!-- Feel free to add more modules in the watermark_list below, if more packages are used -->\n",
    "<!-- Otherwise please leave the below code cell unchanged -->"
   ]
  },
  {
   "cell_type": "code",
   "execution_count": 15,
   "id": "c1f9646e",
   "metadata": {
    "execution": {
     "iopub.execute_input": "2023-02-09T00:10:16.652248Z",
     "iopub.status.busy": "2023-02-09T00:10:16.652001Z",
     "iopub.status.idle": "2023-02-09T00:10:16.655090Z",
     "shell.execute_reply": "2023-02-09T00:10:16.654691Z"
    },
    "papermill": {
     "duration": 0.009599,
     "end_time": "2023-02-09T00:10:16.655949",
     "exception": false,
     "start_time": "2023-02-09T00:10:16.646350",
     "status": "completed"
    },
    "tags": []
   },
   "outputs": [
    {
     "name": "stdout",
     "output_type": "stream",
     "text": [
      "cofi 0.1.2.dev25+7.gc214709\n",
      "cofi_espresso 0.0.2.dev0+26.gd6fe26d\n",
      "numpy 1.21.6\n",
      "scipy 1.9.1\n",
      "matplotlib 3.5.3\n"
     ]
    }
   ],
   "source": [
    "watermark_list = [\"cofi\", \"cofi_espresso\", \"numpy\", \"scipy\", \"matplotlib\"]\n",
    "for pkg in watermark_list:\n",
    "    pkg_var = __import__(pkg)\n",
    "    print(pkg, getattr(pkg_var, \"__version__\"))"
   ]
  }
 ],
 "metadata": {
  "kernelspec": {
   "display_name": "Python 3 (ipykernel)",
   "language": "python",
   "name": "python3"
  },
  "language_info": {
   "codemirror_mode": {
    "name": "ipython",
    "version": 3
   },
   "file_extension": ".py",
   "mimetype": "text/x-python",
   "name": "python",
   "nbconvert_exporter": "python",
   "pygments_lexer": "ipython3",
   "version": "3.10.6"
  },
  "papermill": {
   "default_parameters": {},
   "duration": 6.137075,
   "end_time": "2023-02-09T00:10:16.976204",
   "environment_variables": {},
   "exception": null,
   "input_path": "/home/jiawen/cofi-examples/examples/xray_tomography/xray_tomography.ipynb",
   "output_path": "/home/jiawen/cofi-examples/examples/xray_tomography/xray_tomography.ipynb",
   "parameters": {},
   "start_time": "2023-02-09T00:10:10.839129",
   "version": "2.4.0"
  },
  "vscode": {
   "interpreter": {
    "hash": "f53af8d4cb0cee79f8d6d6212f461365278bf68c0ce0b4237b6e88ef77d505ea"
   }
  }
 },
 "nbformat": 4,
 "nbformat_minor": 5
}