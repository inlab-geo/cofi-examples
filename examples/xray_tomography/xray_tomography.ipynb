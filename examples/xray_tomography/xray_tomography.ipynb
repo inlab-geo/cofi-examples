{
 "cells": [
  {
   "cell_type": "markdown",
   "id": "25e146d8",
   "metadata": {
    "papermill": {
     "duration": 0.004426,
     "end_time": "2024-02-11T23:28:41.828146",
     "exception": false,
     "start_time": "2024-02-11T23:28:41.823720",
     "status": "completed"
    },
    "tags": []
   },
   "source": [
    "# Xray Tomography"
   ]
  },
  {
   "cell_type": "markdown",
   "id": "511f0c49",
   "metadata": {
    "papermill": {
     "duration": 0.003171,
     "end_time": "2024-02-11T23:28:41.851962",
     "exception": false,
     "start_time": "2024-02-11T23:28:41.848791",
     "status": "completed"
    },
    "tags": []
   },
   "source": [
    "[![Open In Colab](https://img.shields.io/badge/open%20in-Colab-b5e2fa?logo=googlecolab&style=flat-square&color=ffd670)](https://colab.research.google.com/github/inlab-geo/cofi-examples/blob/main/examples/xray_tomography/xray_tomography.ipynb)"
   ]
  },
  {
   "cell_type": "markdown",
   "id": "a0e17e58",
   "metadata": {
    "papermill": {
     "duration": 0.003581,
     "end_time": "2024-02-11T23:28:41.858807",
     "exception": false,
     "start_time": "2024-02-11T23:28:41.855226",
     "status": "completed"
    },
    "tags": []
   },
   "source": [
    "<!-- Again, please don't touch the markdown cell above. We'll generate badge \n",
    "     automatically from the above cell. -->\n",
    "\n",
    "<!-- This cell describes things related to environment setup, so please add more text \n",
    "     if something special (not listed below) is needed to run this notebook -->\n",
    "\n",
    "> If you are running this notebook locally, make sure you've followed [steps here](https://github.com/inlab-geo/cofi-examples#run-the-examples-with-cofi-locally)\n",
    "to set up the environment. (This [environment.yml](https://github.com/inlab-geo/cofi-examples/blob/main/envs/environment.yml) file\n",
    "specifies a list of packages required to run the notebooks)"
   ]
  },
  {
   "cell_type": "markdown",
   "id": "8fd1f050",
   "metadata": {
    "papermill": {
     "duration": 0.007748,
     "end_time": "2024-02-11T23:28:41.916142",
     "exception": false,
     "start_time": "2024-02-11T23:28:41.908394",
     "status": "completed"
    },
    "tags": []
   },
   "source": [
    "*Adapted from notebooks by Andrew Valentine & Malcolm Sambridge - Research School of Earth Sciences, The Australian National University*\n",
    "\n",
    "In this notebook, we look at an linear inverse problem based on Xray Tomography. \n",
    "We will use `cofi` to run a linear system solver (optionally with Tikhonov regularization \n",
    "and noise estimation) for this problem.\n",
    "\n",
    "As an example, we will consider performing X-Ray Tomography (XRT) to image the interior of a structure. We assume that the x-rays travel at the same speed regardless of the medium through which they are passing, and so their paths are straight lines between source and receiver. However, the medium causes the x-rays to attenuate: paths through dense objects (such as bones!) arrive at the receiver with far less energy than they had at the source. Thus, by analysing the attenuation along many different paths, we can build up a picture of the interior of an object.\n",
    "\n",
    "Specifically, we will assume that the intensity at the receiver, $I_{rec}$, is related to the intensity at the source, $I_{src}$ by $$I_{rec} = I_{src}\\exp\\left\\{-\\int_\\mathrm{path} \\mu(\\mathbf{x})\\,\\mathrm{d}\\mathbf{l}\\right\\}$$ where $\\mu(\\mathbf{x})$ is a position-dependent attenuation coefficient. To obtain a linear inverse problem, we rewrite this as $$-\\log \\frac{I_{rec}}{I_{src}}=\\int_\\mathrm{path} \\mu(\\mathbf{x})\\,\\mathrm{d}\\mathbf{l}\\,.$$ We know that $$\\int\\left[f(x) + g(x)\\right]\\,\\mathrm{d}x = \\int f(x)\\,\\mathrm{d}x + \\int g(x)\\,\\mathrm{d}x$$ so we say that integration is a *linear* operation, and hence we can solve the XRT problem with linear inverse theory. \n",
    "\n",
    "We will assume that the object we are interested in is 2-dimensional, so that $\\mu(\\boldsymbol{x}) = \\mu(x,y)$. If we discretize this model, with $N_x$ cells in the $x$-direction and $N_y$ cells in the $y$-direction, we can express $\\mu(x,y)$ as an $N_x \\times N_y$ vector $\\boldsymbol{\\mu}$. This is related to the data by\n",
    "$$d_i = A_{ij}\\mu_j$$\n",
    "where $d_i = -\\log {I^{(i)}_{rec}}/{I^{(i)}_{src}}$, and where $A_{ij}$ represents the path length in cell $j$ of the discretized model."
   ]
  },
  {
   "cell_type": "markdown",
   "id": "e231b034",
   "metadata": {
    "papermill": {
     "duration": 0.003181,
     "end_time": "2024-02-11T23:28:41.943456",
     "exception": false,
     "start_time": "2024-02-11T23:28:41.940275",
     "status": "completed"
    },
    "tags": []
   },
   "source": [
    "## 0. Import modules\n",
    "\n",
    "The package `geo-espresso` contains the forward code for this problem."
   ]
  },
  {
   "cell_type": "code",
   "execution_count": 1,
   "id": "44f335e1",
   "metadata": {
    "execution": {
     "iopub.execute_input": "2024-02-11T23:28:41.963095Z",
     "iopub.status.busy": "2024-02-11T23:28:41.962831Z",
     "iopub.status.idle": "2024-02-11T23:28:41.965680Z",
     "shell.execute_reply": "2024-02-11T23:28:41.965279Z"
    },
    "papermill": {
     "duration": 0.020062,
     "end_time": "2024-02-11T23:28:41.966743",
     "exception": false,
     "start_time": "2024-02-11T23:28:41.946681",
     "status": "completed"
    },
    "tags": []
   },
   "outputs": [],
   "source": [
    "# -------------------------------------------------------- #\n",
    "#                                                          #\n",
    "#     Uncomment below to set up environment on \"colab\"     #\n",
    "#                                                          #\n",
    "# -------------------------------------------------------- #\n",
    "\n",
    "# !pip install -U cofi\n",
    "# !pip install -U geo-espresso"
   ]
  },
  {
   "cell_type": "code",
   "execution_count": 2,
   "id": "54bc910e",
   "metadata": {
    "execution": {
     "iopub.execute_input": "2024-02-11T23:28:41.975027Z",
     "iopub.status.busy": "2024-02-11T23:28:41.974804Z",
     "iopub.status.idle": "2024-02-11T23:28:42.771222Z",
     "shell.execute_reply": "2024-02-11T23:28:42.770707Z"
    },
    "papermill": {
     "duration": 0.80222,
     "end_time": "2024-02-11T23:28:42.772878",
     "exception": false,
     "start_time": "2024-02-11T23:28:41.970658",
     "status": "completed"
    },
    "tags": []
   },
   "outputs": [],
   "source": [
    "import numpy as np\n",
    "from cofi import BaseProblem, InversionOptions, Inversion\n",
    "from cofi.utils import QuadraticReg\n",
    "from espresso import XrayTomography"
   ]
  },
  {
   "cell_type": "markdown",
   "id": "6210bbd2",
   "metadata": {
    "papermill": {
     "duration": 0.003626,
     "end_time": "2024-02-11T23:28:42.781055",
     "exception": false,
     "start_time": "2024-02-11T23:28:42.777429",
     "status": "completed"
    },
    "tags": []
   },
   "source": [
    "## 1. Define the problem\n",
    "\n",
    "Firstly, we get some information from the `geo-espresso` module.\n",
    "These include the dataset and the Jacobian matrix. In the Xray\n",
    "Tomography example, the Jacobian matrix is related to the lengths\n",
    "of paths within each grid. Since the paths are fixed, the Jacobian\n",
    "matrix stays constant."
   ]
  },
  {
   "cell_type": "code",
   "execution_count": 3,
   "id": "8673617c",
   "metadata": {
    "execution": {
     "iopub.execute_input": "2024-02-11T23:28:42.788527Z",
     "iopub.status.busy": "2024-02-11T23:28:42.788087Z",
     "iopub.status.idle": "2024-02-11T23:28:43.004868Z",
     "shell.execute_reply": "2024-02-11T23:28:43.004455Z"
    },
    "papermill": {
     "duration": 0.222025,
     "end_time": "2024-02-11T23:28:43.006314",
     "exception": false,
     "start_time": "2024-02-11T23:28:42.784289",
     "status": "completed"
    },
    "tags": []
   },
   "outputs": [],
   "source": [
    "xrt = XrayTomography()"
   ]
  },
  {
   "cell_type": "code",
   "execution_count": 4,
   "id": "fdbbee81",
   "metadata": {
    "execution": {
     "iopub.execute_input": "2024-02-11T23:28:43.076089Z",
     "iopub.status.busy": "2024-02-11T23:28:43.075835Z",
     "iopub.status.idle": "2024-02-11T23:28:44.470172Z",
     "shell.execute_reply": "2024-02-11T23:28:44.469584Z"
    },
    "papermill": {
     "duration": 1.460947,
     "end_time": "2024-02-11T23:28:44.471171",
     "exception": false,
     "start_time": "2024-02-11T23:28:43.010224",
     "status": "completed"
    },
    "tags": []
   },
   "outputs": [
    {
     "name": "stderr",
     "output_type": "stream",
     "text": [
      "\r",
      "Evaluating paths:   0%|                                                                                                                                                          | 0/10416 [00:00<?, ?it/s]"
     ]
    },
    {
     "name": "stderr",
     "output_type": "stream",
     "text": [
      "\r",
      "Evaluating paths:   8%|███████████▋                                                                                                                                  | 856/10416 [00:00<00:01, 8557.05it/s]"
     ]
    },
    {
     "name": "stderr",
     "output_type": "stream",
     "text": [
      "\r",
      "Evaluating paths:  16%|███████████████████████▏                                                                                                                     | 1712/10416 [00:00<00:01, 7998.79it/s]"
     ]
    },
    {
     "name": "stderr",
     "output_type": "stream",
     "text": [
      "\r",
      "Evaluating paths:  24%|██████████████████████████████████                                                                                                           | 2515/10416 [00:00<00:01, 7636.88it/s]"
     ]
    },
    {
     "name": "stderr",
     "output_type": "stream",
     "text": [
      "\r",
      "Evaluating paths:  31%|████████████████████████████████████████████▍                                                                                                | 3281/10416 [00:00<00:00, 7475.53it/s]"
     ]
    },
    {
     "name": "stderr",
     "output_type": "stream",
     "text": [
      "\r",
      "Evaluating paths:  39%|██████████████████████████████████████████████████████▌                                                                                      | 4032/10416 [00:00<00:00, 7484.40it/s]"
     ]
    },
    {
     "name": "stderr",
     "output_type": "stream",
     "text": [
      "\r",
      "Evaluating paths:  46%|████████████████████████████████████████████████████████████████▋                                                                            | 4782/10416 [00:00<00:00, 7452.54it/s]"
     ]
    },
    {
     "name": "stderr",
     "output_type": "stream",
     "text": [
      "\r",
      "Evaluating paths:  53%|██████████████████████████████████████████████████████████████████████████▊                                                                  | 5528/10416 [00:00<00:00, 7429.87it/s]"
     ]
    },
    {
     "name": "stderr",
     "output_type": "stream",
     "text": [
      "\r",
      "Evaluating paths:  60%|████████████████████████████████████████████████████████████████████████████████████▉                                                        | 6272/10416 [00:00<00:00, 7389.05it/s]"
     ]
    },
    {
     "name": "stderr",
     "output_type": "stream",
     "text": [
      "\r",
      "Evaluating paths:  68%|███████████████████████████████████████████████████████████████████████████████████████████████▍                                             | 7050/10416 [00:00<00:00, 7505.65it/s]"
     ]
    },
    {
     "name": "stderr",
     "output_type": "stream",
     "text": [
      "\r",
      "Evaluating paths:  75%|█████████████████████████████████████████████████████████████████████████████████████████████████████████▌                                   | 7801/10416 [00:01<00:00, 7342.36it/s]"
     ]
    },
    {
     "name": "stderr",
     "output_type": "stream",
     "text": [
      "\r",
      "Evaluating paths:  82%|███████████████████████████████████████████████████████████████████████████████████████████████████████████████████▊                         | 8558/10416 [00:01<00:00, 7409.54it/s]"
     ]
    },
    {
     "name": "stderr",
     "output_type": "stream",
     "text": [
      "\r",
      "Evaluating paths:  89%|█████████████████████████████████████████████████████████████████████████████████████████████████████████████████████████████▉               | 9306/10416 [00:01<00:00, 7427.26it/s]"
     ]
    },
    {
     "name": "stderr",
     "output_type": "stream",
     "text": [
      "\r",
      "Evaluating paths:  97%|███████████████████████████████████████████████████████████████████████████████████████████████████████████████████████████████████████▍    | 10081/10416 [00:01<00:00, 7521.98it/s]"
     ]
    },
    {
     "name": "stderr",
     "output_type": "stream",
     "text": [
      "\r",
      "Evaluating paths: 100%|████████████████████████████████████████████████████████████████████████████████████████████████████████████████████████████████████████████| 10416/10416 [00:01<00:00, 7518.76it/s]"
     ]
    },
    {
     "name": "stderr",
     "output_type": "stream",
     "text": [
      "\n"
     ]
    }
   ],
   "source": [
    "xrt_problem = BaseProblem()\n",
    "xrt_problem.set_data(xrt.data)\n",
    "xrt_problem.set_jacobian(xrt.jacobian(xrt.starting_model))"
   ]
  },
  {
   "cell_type": "markdown",
   "id": "e0f9440c-ade6-4d20-b039-f8dce371c2df",
   "metadata": {
    "papermill": {
     "duration": 0.0043,
     "end_time": "2024-02-11T23:28:44.480586",
     "exception": false,
     "start_time": "2024-02-11T23:28:44.476286",
     "status": "completed"
    },
    "tags": []
   },
   "source": [
    "We do some estimation on data noise and further perform a regularization."
   ]
  },
  {
   "cell_type": "code",
   "execution_count": 5,
   "id": "88104d1d",
   "metadata": {
    "execution": {
     "iopub.execute_input": "2024-02-11T23:28:44.489209Z",
     "iopub.status.busy": "2024-02-11T23:28:44.488986Z",
     "iopub.status.idle": "2024-02-11T23:28:44.997157Z",
     "shell.execute_reply": "2024-02-11T23:28:44.996511Z"
    },
    "papermill": {
     "duration": 0.514366,
     "end_time": "2024-02-11T23:28:44.998785",
     "exception": false,
     "start_time": "2024-02-11T23:28:44.484419",
     "status": "completed"
    },
    "tags": []
   },
   "outputs": [],
   "source": [
    "sigma = 0.002\n",
    "lamda = 50\n",
    "data_cov_inv = np.identity(xrt.data_size) * (1/sigma**2)"
   ]
  },
  {
   "cell_type": "code",
   "execution_count": 6,
   "id": "333e598c",
   "metadata": {
    "execution": {
     "iopub.execute_input": "2024-02-11T23:28:45.009712Z",
     "iopub.status.busy": "2024-02-11T23:28:45.009391Z",
     "iopub.status.idle": "2024-02-11T23:28:45.240369Z",
     "shell.execute_reply": "2024-02-11T23:28:45.239928Z"
    },
    "papermill": {
     "duration": 0.237771,
     "end_time": "2024-02-11T23:28:45.241996",
     "exception": false,
     "start_time": "2024-02-11T23:28:45.004225",
     "status": "completed"
    },
    "tags": []
   },
   "outputs": [],
   "source": [
    "xrt_problem.set_data_covariance_inv(data_cov_inv)\n",
    "xrt_problem.set_regularization(lamda * QuadraticReg(model_shape=(xrt.model_size,)))"
   ]
  },
  {
   "cell_type": "markdown",
   "id": "1412dd10",
   "metadata": {
    "papermill": {
     "duration": 0.019222,
     "end_time": "2024-02-11T23:28:45.266434",
     "exception": false,
     "start_time": "2024-02-11T23:28:45.247212",
     "status": "completed"
    },
    "tags": []
   },
   "source": [
    "Review what information is included in the `BaseProblem` object:"
   ]
  },
  {
   "cell_type": "code",
   "execution_count": 7,
   "id": "156b4476",
   "metadata": {
    "execution": {
     "iopub.execute_input": "2024-02-11T23:28:45.275108Z",
     "iopub.status.busy": "2024-02-11T23:28:45.274641Z",
     "iopub.status.idle": "2024-02-11T23:28:45.277911Z",
     "shell.execute_reply": "2024-02-11T23:28:45.277502Z"
    },
    "papermill": {
     "duration": 0.008778,
     "end_time": "2024-02-11T23:28:45.278911",
     "exception": false,
     "start_time": "2024-02-11T23:28:45.270133",
     "status": "completed"
    },
    "tags": []
   },
   "outputs": [
    {
     "name": "stdout",
     "output_type": "stream",
     "text": [
      "=====================================================================\n",
      "Summary for inversion problem: BaseProblem\n",
      "=====================================================================\n",
      "Model shape: Unknown\n",
      "---------------------------------------------------------------------\n",
      "List of functions/properties set by you:\n",
      "['jacobian', 'regularization', 'data', 'data_covariance_inv']\n",
      "---------------------------------------------------------------------\n",
      "List of functions/properties created based on what you have provided:\n",
      "['jacobian_times_vector']\n",
      "---------------------------------------------------------------------\n",
      "List of functions/properties that can be further set for the problem:\n",
      "( not all of these may be relevant to your inversion workflow )\n",
      "['objective', 'log_posterior', 'log_posterior_with_blobs', 'log_likelihood', 'log_prior', 'gradient', 'hessian', 'hessian_times_vector', 'residual', 'jacobian_times_vector', 'data_misfit', 'regularization_matrix', 'forward', 'data_covariance', 'initial_model', 'model_shape', 'blobs_dtype', 'bounds', 'constraints']\n"
     ]
    }
   ],
   "source": [
    "xrt_problem.summary()"
   ]
  },
  {
   "cell_type": "markdown",
   "id": "40ec4ef2",
   "metadata": {
    "papermill": {
     "duration": 0.003846,
     "end_time": "2024-02-11T23:28:45.287065",
     "exception": false,
     "start_time": "2024-02-11T23:28:45.283219",
     "status": "completed"
    },
    "tags": []
   },
   "source": [
    "## 2. Define the inversion options"
   ]
  },
  {
   "cell_type": "code",
   "execution_count": 8,
   "id": "3c5a4b83",
   "metadata": {
    "execution": {
     "iopub.execute_input": "2024-02-11T23:28:45.295356Z",
     "iopub.status.busy": "2024-02-11T23:28:45.295131Z",
     "iopub.status.idle": "2024-02-11T23:28:45.297540Z",
     "shell.execute_reply": "2024-02-11T23:28:45.297159Z"
    },
    "papermill": {
     "duration": 0.007618,
     "end_time": "2024-02-11T23:28:45.298491",
     "exception": false,
     "start_time": "2024-02-11T23:28:45.290873",
     "status": "completed"
    },
    "tags": []
   },
   "outputs": [],
   "source": [
    "my_options = InversionOptions()\n",
    "my_options.set_tool(\"scipy.linalg.lstsq\")"
   ]
  },
  {
   "cell_type": "markdown",
   "id": "9465a4c8",
   "metadata": {
    "papermill": {
     "duration": 0.015811,
     "end_time": "2024-02-11T23:28:45.318670",
     "exception": false,
     "start_time": "2024-02-11T23:28:45.302859",
     "status": "completed"
    },
    "tags": []
   },
   "source": [
    "Review what's been defined for the inversion we are about to run:"
   ]
  },
  {
   "cell_type": "code",
   "execution_count": 9,
   "id": "9cfaa06d",
   "metadata": {
    "execution": {
     "iopub.execute_input": "2024-02-11T23:28:45.326789Z",
     "iopub.status.busy": "2024-02-11T23:28:45.326562Z",
     "iopub.status.idle": "2024-02-11T23:28:45.329197Z",
     "shell.execute_reply": "2024-02-11T23:28:45.328806Z"
    },
    "papermill": {
     "duration": 0.007832,
     "end_time": "2024-02-11T23:28:45.330167",
     "exception": false,
     "start_time": "2024-02-11T23:28:45.322335",
     "status": "completed"
    },
    "tags": []
   },
   "outputs": [
    {
     "name": "stdout",
     "output_type": "stream",
     "text": [
      "=============================\n",
      "Summary for inversion options\n",
      "=============================\n",
      "Solving method: None set\n",
      "Use `suggest_solving_methods()` to check available solving methods.\n",
      "-----------------------------\n",
      "Backend tool: `<class 'cofi.tools._scipy_lstsq.ScipyLstSq'>` - SciPy's wrapper function over LAPACK's linear least-squares solver, using 'gelsd', 'gelsy' (default), or 'gelss' as backend driver\n",
      "References: ['https://docs.scipy.org/doc/scipy/reference/generated/scipy.linalg.lstsq.html', 'https://www.netlib.org/lapack/lug/node27.html']\n",
      "Use `suggest_tools()` to check available backend tools.\n",
      "-----------------------------\n",
      "Solver-specific parameters: None set\n",
      "Use `suggest_solver_params()` to check required/optional solver-specific parameters.\n"
     ]
    }
   ],
   "source": [
    "my_options.summary()"
   ]
  },
  {
   "cell_type": "markdown",
   "id": "53109202",
   "metadata": {
    "papermill": {
     "duration": 0.021504,
     "end_time": "2024-02-11T23:28:45.356138",
     "exception": false,
     "start_time": "2024-02-11T23:28:45.334634",
     "status": "completed"
    },
    "tags": []
   },
   "source": [
    "## 3. Start an inversion\n",
    "\n",
    "We can now solve the inverse problem using the Tikhonov-regularized form of least-squares,\n",
    "$$\\mathbf{m}=\\left(\\mathbf{A^TA}+\\epsilon^2\\sigma^2\\mathbf{I}\\right)^\\mathbf{-1}\\mathbf{A^Td}$$\n",
    "where $\\sigma^2$ is the variance of the expected noise on the attenuation data.\n",
    "\n",
    "For this dataset, we've taken $\\sigma = 0.002$s and chosen $\\epsilon^2 = 50$. "
   ]
  },
  {
   "cell_type": "code",
   "execution_count": 10,
   "id": "c280c300",
   "metadata": {
    "execution": {
     "iopub.execute_input": "2024-02-11T23:28:45.364586Z",
     "iopub.status.busy": "2024-02-11T23:28:45.364358Z",
     "iopub.status.idle": "2024-02-11T23:28:48.819841Z",
     "shell.execute_reply": "2024-02-11T23:28:48.819133Z"
    },
    "papermill": {
     "duration": 3.461998,
     "end_time": "2024-02-11T23:28:48.822003",
     "exception": false,
     "start_time": "2024-02-11T23:28:45.360005",
     "status": "completed"
    },
    "tags": []
   },
   "outputs": [
    {
     "name": "stdout",
     "output_type": "stream",
     "text": [
      "============================\n",
      "Summary for inversion result\n",
      "============================\n",
      "SUCCESS\n",
      "----------------------------\n",
      "model: [0.98494811 1.03000048 0.95776419 ... 0.94168322 1.03668701 1.00048943]\n",
      "sum_of_squared_residuals: []\n",
      "effective_rank: 2500\n",
      "singular_values: [9.30139732e+05 8.57631566e+05 8.57631566e+05 ... 1.14515274e+03\n",
      " 8.80600410e+02 8.80600410e+02]\n",
      "model_covariance: [[ 1.17571588e-04 -8.57198189e-05 -1.62727362e-06 ...  1.56635037e-07\n",
      "  -6.08653282e-08 -1.36217397e-07]\n",
      " [-8.57198189e-05  2.14596891e-04 -5.56362665e-05 ... -6.06195208e-07\n",
      "   4.87748993e-07 -6.08653282e-08]\n",
      " [-1.62727362e-06 -5.56362665e-05  1.35540260e-04 ...  5.04358068e-07\n",
      "  -6.06195208e-07  1.56635037e-07]\n",
      " ...\n",
      " [ 1.56635037e-07 -6.06195208e-07  5.04358068e-07 ...  1.35540260e-04\n",
      "  -5.56362665e-05 -1.62727362e-06]\n",
      " [-6.08653282e-08  4.87748993e-07 -6.06195208e-07 ... -5.56362665e-05\n",
      "   2.14596891e-04 -8.57198189e-05]\n",
      " [-1.36217397e-07 -6.08653282e-08  1.56635037e-07 ... -1.62727362e-06\n",
      "  -8.57198189e-05  1.17571588e-04]]\n"
     ]
    }
   ],
   "source": [
    "inv = Inversion(xrt_problem, my_options)\n",
    "inv_result = inv.run()\n",
    "inv_result.summary()"
   ]
  },
  {
   "cell_type": "markdown",
   "id": "b1409c69",
   "metadata": {
    "papermill": {
     "duration": 0.016034,
     "end_time": "2024-02-11T23:28:48.846548",
     "exception": false,
     "start_time": "2024-02-11T23:28:48.830514",
     "status": "completed"
    },
    "tags": []
   },
   "source": [
    "## 4. Plotting\n",
    "\n",
    "Below the two figures refers to the inferred model and true model respectively."
   ]
  },
  {
   "cell_type": "code",
   "execution_count": 11,
   "id": "550a6217",
   "metadata": {
    "execution": {
     "iopub.execute_input": "2024-02-11T23:28:48.865531Z",
     "iopub.status.busy": "2024-02-11T23:28:48.865213Z",
     "iopub.status.idle": "2024-02-11T23:28:49.165039Z",
     "shell.execute_reply": "2024-02-11T23:28:49.164652Z"
    },
    "papermill": {
     "duration": 0.310048,
     "end_time": "2024-02-11T23:28:49.166063",
     "exception": false,
     "start_time": "2024-02-11T23:28:48.856015",
     "status": "completed"
    },
    "tags": []
   },
   "outputs": [
    {
     "data": {
      "image/png": "[encoded data removed]",
      "text/plain": [
       "<Figure size 640x480 with 2 Axes>"
      ]
     },
     "metadata": {},
     "output_type": "display_data"
    },
    {
     "data": {
      "image/png": "[encoded data removed]",
      "text/plain": [
       "<Figure size 640x480 with 2 Axes>"
      ]
     },
     "metadata": {},
     "output_type": "display_data"
    }
   ],
   "source": [
    "xrt.plot_model(inv_result.model, clim=(1, 1.5));       # inferred model\n",
    "xrt.plot_model(xrt.good_model, clim=(1, 1.5));          # true model"
   ]
  },
  {
   "cell_type": "markdown",
   "id": "8a6c93b9",
   "metadata": {
    "papermill": {
     "duration": 0.004738,
     "end_time": "2024-02-11T23:28:49.175715",
     "exception": false,
     "start_time": "2024-02-11T23:28:49.170977",
     "status": "completed"
    },
    "tags": []
   },
   "source": [
    "## 5. Estimated uncertainties\n",
    "\n",
    "We can now find the uncertainty on the recovered slowness parameters, which describes how noise in the data propagate into the\n",
    "slowness parameters with this data set. For the Tikhonov-regularised form of least-squares, the model covariance matrix is a square\n",
    "matrix of size $M\\times M$, where there are $M$ cells in the model.\n",
    "\n",
    "$$\\mathbf{C_m}=\\sigma^2\\left(\\mathbf{A^TA}+\\epsilon^2\\sigma^2\\mathbf{I}\\right)^\\mathbf{-1}$$.\n",
    "\n",
    "This matrix was calculated as part of the solver routine above. The square roots of the diagonal entries of this matrix are the $\\sigma$ errors in the slowness in each cell."
   ]
  },
  {
   "cell_type": "code",
   "execution_count": 12,
   "id": "2cc28358-9153-4c7b-8b95-e4ddd4ebf37c",
   "metadata": {
    "execution": {
     "iopub.execute_input": "2024-02-11T23:28:49.186232Z",
     "iopub.status.busy": "2024-02-11T23:28:49.185969Z",
     "iopub.status.idle": "2024-02-11T23:28:49.188523Z",
     "shell.execute_reply": "2024-02-11T23:28:49.188149Z"
    },
    "papermill": {
     "duration": 0.008851,
     "end_time": "2024-02-11T23:28:49.189440",
     "exception": false,
     "start_time": "2024-02-11T23:28:49.180589",
     "status": "completed"
    },
    "tags": []
   },
   "outputs": [],
   "source": [
    "Cm = inv_result.model_covariance"
   ]
  },
  {
   "cell_type": "markdown",
   "id": "b80bcf9a-4016-4443-badb-6fc3ae3921b7",
   "metadata": {
    "papermill": {
     "duration": 0.004562,
     "end_time": "2024-02-11T23:28:49.198652",
     "exception": false,
     "start_time": "2024-02-11T23:28:49.194090",
     "status": "completed"
    },
    "tags": []
   },
   "source": [
    "Lets plot the slowness uncertainties as a function of position across the cellular model."
   ]
  },
  {
   "cell_type": "code",
   "execution_count": 13,
   "id": "05d78456-cd03-46b3-98df-7a1a229e646f",
   "metadata": {
    "execution": {
     "iopub.execute_input": "2024-02-11T23:28:49.208430Z",
     "iopub.status.busy": "2024-02-11T23:28:49.208221Z",
     "iopub.status.idle": "2024-02-11T23:28:49.358317Z",
     "shell.execute_reply": "2024-02-11T23:28:49.357941Z"
    },
    "papermill": {
     "duration": 0.156232,
     "end_time": "2024-02-11T23:28:49.359425",
     "exception": false,
     "start_time": "2024-02-11T23:28:49.203193",
     "status": "completed"
    },
    "tags": []
   },
   "outputs": [
    {
     "data": {
      "image/png": "[encoded data removed]",
      "text/plain": [
       "<Figure size 640x480 with 2 Axes>"
      ]
     },
     "metadata": {},
     "output_type": "display_data"
    }
   ],
   "source": [
    "xrt.plot_model(np.sqrt(np.diag(Cm)));"
   ]
  },
  {
   "cell_type": "markdown",
   "id": "75131aa9-35a6-4320-9bfd-05cec638e720",
   "metadata": {
    "papermill": {
     "duration": 0.005035,
     "end_time": "2024-02-11T23:28:49.369751",
     "exception": false,
     "start_time": "2024-02-11T23:28:49.364716",
     "status": "completed"
    },
    "tags": []
   },
   "source": [
    "Uncertainty is uniformly low across the entire model and only significant near the corners where there are few ray paths.\n",
    "\n",
    "Similarly we can calculate uncertainty in velocity parameters using some calculus.\n",
    "$$ \\Delta v = \\left | \\frac{\\partial s}{\\partial v}  \\right | \\Delta s $$\n",
    "and since $s = 1/v$ we get\n",
    "$$ \\Delta v = s^2\\Delta s $$\n",
    "which gives the uncertainty image on velocity, which looks very similar."
   ]
  },
  {
   "cell_type": "code",
   "execution_count": 14,
   "id": "6fc03f1c-8320-4eb9-b53d-d8100607ecd7",
   "metadata": {
    "execution": {
     "iopub.execute_input": "2024-02-11T23:28:49.381528Z",
     "iopub.status.busy": "2024-02-11T23:28:49.381272Z",
     "iopub.status.idle": "2024-02-11T23:28:49.536216Z",
     "shell.execute_reply": "2024-02-11T23:28:49.535826Z"
    },
    "papermill": {
     "duration": 0.16229,
     "end_time": "2024-02-11T23:28:49.537399",
     "exception": false,
     "start_time": "2024-02-11T23:28:49.375109",
     "status": "completed"
    },
    "tags": []
   },
   "outputs": [
    {
     "data": {
      "image/png": "[encoded data removed]",
      "text/plain": [
       "<Figure size 640x480 with 2 Axes>"
      ]
     },
     "metadata": {},
     "output_type": "display_data"
    }
   ],
   "source": [
    "xrt.plot_model(np.sqrt(np.diag(Cm)) * inv_result.model);"
   ]
  },
  {
   "cell_type": "markdown",
   "id": "f409e4e3-5043-478b-9ca6-25dbbac9234e",
   "metadata": {
    "papermill": {
     "duration": 0.005447,
     "end_time": "2024-02-11T23:28:49.548333",
     "exception": false,
     "start_time": "2024-02-11T23:28:49.542886",
     "status": "completed"
    },
    "tags": []
   },
   "source": [
    "By clipping the colour range you can see an imprint of the true image, indicating that high slowness/low velcoity areas have slightly higher uncertainty."
   ]
  },
  {
   "cell_type": "markdown",
   "id": "9c6d1e8b",
   "metadata": {
    "papermill": {
     "duration": 0.005236,
     "end_time": "2024-02-11T23:28:49.559274",
     "exception": false,
     "start_time": "2024-02-11T23:28:49.554038",
     "status": "completed"
    },
    "tags": []
   },
   "source": [
    "---\n",
    "## Watermark\n",
    "\n",
    "<!-- Feel free to add more modules in the watermark_list below, if more packages are used -->\n",
    "<!-- Otherwise please leave the below code cell unchanged -->"
   ]
  },
  {
   "cell_type": "code",
   "execution_count": 15,
   "id": "c1f9646e",
   "metadata": {
    "execution": {
     "iopub.execute_input": "2024-02-11T23:28:49.570321Z",
     "iopub.status.busy": "2024-02-11T23:28:49.570077Z",
     "iopub.status.idle": "2024-02-11T23:28:49.573362Z",
     "shell.execute_reply": "2024-02-11T23:28:49.572941Z"
    },
    "papermill": {
     "duration": 0.010052,
     "end_time": "2024-02-11T23:28:49.574357",
     "exception": false,
     "start_time": "2024-02-11T23:28:49.564305",
     "status": "completed"
    },
    "tags": []
   },
   "outputs": [
    {
     "name": "stdout",
     "output_type": "stream",
     "text": [
      "cofi 0.2.5+6.gcc1c01d.dirty\n",
      "espresso 0.3.11\n",
      "numpy 1.24.4\n",
      "scipy 1.11.4\n",
      "matplotlib 3.8.2\n"
     ]
    }
   ],
   "source": [
    "watermark_list = [\"cofi\", \"espresso\", \"numpy\", \"scipy\", \"matplotlib\"]\n",
    "for pkg in watermark_list:\n",
    "    pkg_var = __import__(pkg)\n",
    "    print(pkg, getattr(pkg_var, \"__version__\"))"
   ]
  }
 ],
 "metadata": {
  "kernelspec": {
   "display_name": "Python 3 (ipykernel)",
   "language": "python",
   "name": "python3"
  },
  "language_info": {
   "codemirror_mode": {
    "name": "ipython",
    "version": 3
   },
   "file_extension": ".py",
   "mimetype": "text/x-python",
   "name": "python",
   "nbconvert_exporter": "python",
   "pygments_lexer": "ipython3",
   "version": "3.9.18"
  },
  "papermill": {
   "default_parameters": {},
   "duration": 8.927761,
   "end_time": "2024-02-11T23:28:49.996126",
   "environment_variables": {},
   "exception": null,
   "input_path": "/home/jiawen/cofi-examples/examples/xray_tomography/xray_tomography.ipynb",
   "output_path": "/home/jiawen/cofi-examples/examples/xray_tomography/xray_tomography.ipynb",
   "parameters": {},
   "start_time": "2024-02-11T23:28:41.068365",
   "version": "2.4.0"
  },
  "vscode": {
   "interpreter": {
    "hash": "f53af8d4cb0cee79f8d6d6212f461365278bf68c0ce0b4237b6e88ef77d505ea"
   }
  }
 },
 "nbformat": 4,
 "nbformat_minor": 5
}