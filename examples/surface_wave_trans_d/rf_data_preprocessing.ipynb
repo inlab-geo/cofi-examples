{
 "cells": [
  {
   "cell_type": "markdown",
   "id": "b31b9e43-3cce-45bb-84f7-af7b1098bd4e",
   "metadata": {},
   "source": [
    "# Receiver function data preprocessing\n",
    "\n",
    "This notebook does not demonstrate a CoFI example, but it pre-processes the \n",
    "receiver function data from SAC files into ASCII files for better readability.\n",
    "\n",
    "All the surface wave and receiver function data under the current folder are\n",
    "downloaded from: https://www.eas.slu.edu/eqc/eqc_cps/TUTORIAL/STRUCT/index.html"
   ]
  },
  {
   "cell_type": "code",
   "execution_count": 1,
   "id": "3de47098-3d86-459d-84dd-196c20e020b4",
   "metadata": {
    "tags": []
   },
   "outputs": [],
   "source": [
    "import obspy\n",
    "import numpy as np"
   ]
  },
  {
   "cell_type": "code",
   "execution_count": 2,
   "id": "58fbfae3-fb15-42ae-bdf8-23ed32978d8e",
   "metadata": {
    "tags": []
   },
   "outputs": [],
   "source": [
    "rftn_prefix = \"data/RFTN\""
   ]
  },
  {
   "cell_type": "code",
   "execution_count": 3,
   "id": "cd0ce01b-7164-44ff-951a-959bc5b93ab4",
   "metadata": {
    "tags": []
   },
   "outputs": [],
   "source": [
    "lst_files_rftn_data = f\"{rftn_prefix}/rftn.lst\"\n",
    "\n",
    "with open(lst_files_rftn_data, \"r\") as file:\n",
    "    lines = file.readlines()\n",
    "\n",
    "files_rftn_data = [line.strip() for line in lines if line]\n",
    "rftn_data_sacs = []\n",
    "rftn_data_vectors = []\n",
    "for file_rftn_data in files_rftn_data:\n",
    "    st = obspy.read(f\"{rftn_prefix}/{file_rftn_data}\", debug_headers=True)\n",
    "    rftn_data_sacs.append(st[0].stats.sac)\n",
    "    rftn_data_vectors.append(st[0].data)"
   ]
  },
  {
   "cell_type": "code",
   "execution_count": 4,
   "id": "6d4c7698-bb09-4d1d-bce4-8f7438e14c07",
   "metadata": {
    "tags": []
   },
   "outputs": [
    {
     "name": "stdout",
     "output_type": "stream",
     "text": [
      "Saved rf data of shape (2048, 2) to data/RFTN/rf_00.txt\n",
      "Saved rf data of shape (2048, 2) to data/RFTN/rf_01.txt\n",
      "Saved rf data of shape (2048, 2) to data/RFTN/rf_02.txt\n",
      "Saved rf data of shape (2048, 2) to data/RFTN/rf_03.txt\n",
      "Saved rf data of shape (2048, 2) to data/RFTN/rf_04.txt\n",
      "Saved rf data of shape (2048, 2) to data/RFTN/rf_05.txt\n",
      "Saved rf data of shape (2048, 2) to data/RFTN/rf_06.txt\n",
      "Saved rf data of shape (2048, 2) to data/RFTN/rf_07.txt\n",
      "Saved rf data of shape (2048, 2) to data/RFTN/rf_08.txt\n",
      "Saved rf data of shape (2048, 2) to data/RFTN/rf_09.txt\n",
      "Saved rf data of shape (2048, 2) to data/RFTN/rf_10.txt\n",
      "Saved rf data of shape (2048, 2) to data/RFTN/rf_11.txt\n",
      "Saved rf data of shape (2048, 2) to data/RFTN/rf_12.txt\n",
      "Saved rf data of shape (2048, 2) to data/RFTN/rf_13.txt\n",
      "Saved rf data of shape (2048, 2) to data/RFTN/rf_14.txt\n",
      "Saved rf data of shape (2048, 2) to data/RFTN/rf_15.txt\n",
      "Saved rf data of shape (2048, 2) to data/RFTN/rf_16.txt\n",
      "Saved rf data of shape (2048, 2) to data/RFTN/rf_17.txt\n",
      "Saved rf data of shape (2048, 2) to data/RFTN/rf_18.txt\n",
      "Saved rf data of shape (2048, 2) to data/RFTN/rf_19.txt\n",
      "Saved rf data of shape (2048, 2) to data/RFTN/rf_20.txt\n",
      "Saved rf data of shape (2048, 2) to data/RFTN/rf_21.txt\n",
      "Saved rf data of shape (2048, 2) to data/RFTN/rf_22.txt\n",
      "Saved rf data of shape (2048, 2) to data/RFTN/rf_23.txt\n",
      "Saved rf data of shape (2048, 2) to data/RFTN/rf_24.txt\n",
      "Saved rf data of shape (2048, 2) to data/RFTN/rf_25.txt\n",
      "Saved rf data of shape (2048, 2) to data/RFTN/rf_26.txt\n",
      "Saved rf data of shape (2048, 2) to data/RFTN/rf_27.txt\n",
      "Saved rf data of shape (2048, 2) to data/RFTN/rf_28.txt\n",
      "Saved rf data of shape (2048, 2) to data/RFTN/rf_29.txt\n",
      "Saved rf data of shape (2048, 2) to data/RFTN/rf_30.txt\n",
      "Saved rf data of shape (2048, 2) to data/RFTN/rf_31.txt\n",
      "Saved rf data of shape (2048, 2) to data/RFTN/rf_32.txt\n",
      "Saved rf data of shape (2048, 2) to data/RFTN/rf_33.txt\n",
      "Saved rf data of shape (2048, 2) to data/RFTN/rf_34.txt\n",
      "Saved rf data of shape (2048, 2) to data/RFTN/rf_35.txt\n",
      "Saved rf data of shape (2048, 2) to data/RFTN/rf_36.txt\n",
      "Saved rf data of shape (2048, 2) to data/RFTN/rf_37.txt\n",
      "Saved rf data of shape (2048, 2) to data/RFTN/rf_38.txt\n"
     ]
    }
   ],
   "source": [
    "rf_times = np.linspace(-5, 20, len(rftn_data_vectors[0]))\n",
    "\n",
    "for i, (sac, vector) in enumerate(zip(rftn_data_sacs, rftn_data_vectors)):\n",
    "    rf_data = np.vstack((rf_times, vector)).T\n",
    "    f_name = f\"{rftn_prefix}/rf_{i:02}.txt\"\n",
    "    np.savetxt(f_name, rf_data)\n",
    "    print(f\"Saved rf data of shape {rf_data.shape} to {f_name}\")"
   ]
  }
 ],
 "metadata": {
  "kernelspec": {
   "display_name": "Python 3 (ipykernel)",
   "language": "python",
   "name": "python3"
  },
  "language_info": {
   "codemirror_mode": {
    "name": "ipython",
    "version": 3
   },
   "file_extension": ".py",
   "mimetype": "text/x-python",
   "name": "python",
   "nbconvert_exporter": "python",
   "pygments_lexer": "ipython3",
   "version": "3.9.18"
  }
 },
 "nbformat": 4,
 "nbformat_minor": 5
}
