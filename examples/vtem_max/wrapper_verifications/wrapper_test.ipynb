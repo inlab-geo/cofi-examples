{
 "cells": [
  {
   "cell_type": "markdown",
   "id": "c337ff2d-3748-4b83-8ab2-08b706c8794f",
   "metadata": {},
   "source": [
    "# VtemMax system\n",
    "\n",
    "This is the forwad model for a transmitter waveform given by the current as a function of time"
   ]
  },
  {
   "cell_type": "code",
   "execution_count": 1,
   "id": "95211c44-34a9-4be5-bc9d-6ce0d6524ce4",
   "metadata": {},
   "outputs": [],
   "source": [
    "import sys\n",
    "import os\n",
    "import numpy\n",
    "import pyp223"
   ]
  },
  {
   "cell_type": "markdown",
   "id": "a4981fa9-3075-4dcb-a8ca-54981355bbef",
   "metadata": {},
   "source": [
    "## Forward problem "
   ]
  },
  {
   "cell_type": "markdown",
   "id": "df2b0066-dc80-40c7-905c-24a0a1ca05ac",
   "metadata": {},
   "source": [
    "### Model specification"
   ]
  },
  {
   "cell_type": "code",
   "execution_count": 2,
   "id": "f874f59d-4636-4661-9a96-de931b3a8c1f",
   "metadata": {},
   "outputs": [],
   "source": [
    "# number of layers (inlcuding halfspace)\n",
    "nlyr=2\n",
    "# number of fiducials/stations\n",
    "nstat=1\n",
    "# layer restitvities for each fiducial (Ohm meters) do not include halfspace\n",
    "res=numpy.array([300,1000])\n",
    "# basement resistvity\n",
    "pbres=1000.0\n",
    "# layer thicknesses\n",
    "thk=numpy.ones([(nlyr-1)*nstat])*25.0 \n",
    "# number of thin plates\n",
    "nplt=1\n",
    "# plate location - easting\n",
    "peast=numpy.array([50])\n",
    "# plote location - northing\n",
    "pnorth=numpy.array([25])\n",
    "# plate location - depth\n",
    "ptop=numpy.array([30])\n",
    "# plate resistivity\n",
    "pres=numpy.array([1.0])\n",
    "# plate length 1\n",
    "plngth1=numpy.array([100])\n",
    "# plate length 2\n",
    "plngth2=numpy.array([100])\n",
    "# plate width 1\n",
    "pwdth1=numpy.array([0.0])\n",
    "# plate width 2\n",
    "pwdth2=numpy.array([90])\n",
    "# cell width\n",
    "cellw = 25\n",
    "# plate thickness\n",
    "pthk=numpy.array([1])\n",
    "# dip azimuth\n",
    "pdzm=numpy.deg2rad(numpy.array([90]))\n",
    "# dip\n",
    "pdip=numpy.deg2rad(numpy.array([60]))\n",
    "# plunge\n",
    "plng=numpy.deg2rad(numpy.array([0]))"
   ]
  },
  {
   "cell_type": "markdown",
   "id": "77fd9fe5-e2f8-4953-bcac-4f11c1fbbb5a",
   "metadata": {},
   "source": [
    "### Vtem system specification - current waveform"
   ]
  },
  {
   "cell_type": "code",
   "execution_count": 3,
   "id": "238ec659-a2f8-4fbd-994b-98fa22a22679",
   "metadata": {},
   "outputs": [],
   "source": [
    "### Read gates and waveform\n",
    "fh=open('LeroiAir.cfl')\n",
    "lines=fh.readlines()\n",
    "nsx=int(lines[2].split()[1])\n",
    "nchnl=int(lines[2].split()[4])\n",
    "swx=[]\n",
    "waveform=[]\n",
    "\n",
    "for i in range(nsx):\n",
    "    fields=lines[3+i].split()\n",
    "    swx.append(float(fields[0])/1000.0)\n",
    "    waveform.append(fields[1])\n",
    "\n",
    "topn=[]\n",
    "tcls=[]\n",
    "for i in range(nchnl):\n",
    "    fields=lines[3+nsx+i].split()\n",
    "    topn.append(float(fields[0])/1000.)\n",
    "    tcls.append(float(fields[1])/1000.)\n",
    "\n",
    "\n",
    "swx=numpy.array(swx)\n",
    "waveform=numpy.array(waveform)\n",
    "topn=numpy.array(topn)\n",
    "tcls=numpy.array(tcls)\n",
    "\n",
    "\n",
    "# number of components\n",
    "ncmp=2\n",
    "# active components\n",
    "cmp=2\n",
    "# number transmitter turns\n",
    "ntrn=3\n",
    "# transmitter area\n",
    "txarea=531\n",
    "# number of channels nchnl read from cfl\n",
    "# time at which the channel opens topn read from cfl\n",
    "# time at which the channel closes tcls read from cfl\n",
    "# number of samples on waveform nsx read from cfl\n",
    "# times for waveform swx read from cfl\n",
    "# amplitude type AMPS 0\n",
    "ampt=0\n",
    "# amplitude  waveform read from cfl\n",
    "# transimtter easting/x-pos\n",
    "tx=numpy.array([225.0])\n",
    "# transmitter northing/y-pos\n",
    "ty=numpy.array([100.0])\n",
    "# transimtter height\n",
    "tz=numpy.array([105.0])\n",
    "# transmitter azimuth\n",
    "tazi=numpy.deg2rad(numpy.array([0.0]))\n",
    "# transmitter inclination\n",
    "tincl=numpy.deg2rad(numpy.array([6.]))\n",
    "# receiver easting/x-pos\n",
    "rx=numpy.array([225.])\n",
    "# receiever northin/y-pos\n",
    "ry=numpy.array([100.])\n",
    "# receiver height/z-pos\n",
    "rz=numpy.array([105.]) \n",
    "# transmiter receiver separation inline\n",
    "trdx=numpy.array([0.])\n",
    "# transmitter receiver separation crossline\n",
    "trdy=numpy.array([0.])\n",
    "# transmitter receiver separation vertical\n",
    "trdz=numpy.array([0.])"
   ]
  },
  {
   "cell_type": "markdown",
   "id": "057e6315-fb84-49bf-8985-56f62e7cae5f",
   "metadata": {},
   "source": [
    "### Model prediction"
   ]
  },
  {
   "cell_type": "code",
   "execution_count": 4,
   "id": "fc9fcc04-dfed-4cde-b118-d1b270f82cda",
   "metadata": {},
   "outputs": [],
   "source": [
    "# response\n",
    "xmodl=numpy.zeros([nchnl*ncmp])\n",
    "# ijac - active elements of Jacobian\n",
    "ijac=None\n",
    "# jacobian\n",
    "a=None\n",
    "# lCounter for leroiair failures\n",
    "leroiair_failure_count=0"
   ]
  },
  {
   "cell_type": "code",
   "execution_count": 5,
   "id": "37b69744-c0ec-4d26-bc7b-d728704aaf1e",
   "metadata": {},
   "outputs": [],
   "source": [
    "leroiair=pyp223.LeroiAir()"
   ]
  },
  {
   "cell_type": "code",
   "execution_count": 6,
   "id": "3c07eb1c-c667-4513-987c-b1e9948c1668",
   "metadata": {},
   "outputs": [],
   "source": [
    "prd=leroiair.formod_vtem_max_data(nlyr,nstat,res,pbres,thk,nplt,peast,pnorth,ptop,pres,\n",
    "                                         plngth1,plngth2,pwdth1,pwdth2,pthk,cellw,\n",
    "                                         pdzm,pdip,plng,\n",
    "                                         ncmp,cmp,\n",
    "                                          ntrn,txarea,\n",
    "                                         nchnl,topn,tcls,\n",
    "                                         nsx,swx,ampt,waveform,\n",
    "                                         tx,ty,tz,tazi,tincl,\n",
    "                                         rx,ry,rz,trdx,trdy,trdz,\n",
    "                                         xmodl,\n",
    "                                         leroiair_failure_count)\n",
    "        "
   ]
  },
  {
   "cell_type": "markdown",
   "id": "5e64b43c-0d21-4393-943a-cb9bb40a8be7",
   "metadata": {},
   "source": [
    "#### Difference in percentage between executable and wrapper"
   ]
  },
  {
   "cell_type": "code",
   "execution_count": 7,
   "id": "86797052-6a63-43d2-80f8-42ae263330b3",
   "metadata": {},
   "outputs": [],
   "source": [
    "fh=open('LeroiAir.out')\n",
    "lines=fh.readlines()\n",
    "ref=numpy.zeros([nchnl,ncmp])\n",
    "\n",
    "ref[:,0]=numpy.concatenate((numpy.array(lines[3388].split()[4:]),numpy.array(lines[3395].split()[4:])),axis=0)\n",
    "ref[:,1]=numpy.concatenate((numpy.array(lines[3405].split()[4:]),numpy.array(lines[3412].split()[4:])),axis=0)"
   ]
  },
  {
   "cell_type": "code",
   "execution_count": 8,
   "id": "7e6fa098-9619-4a4c-b4b7-63ba0d204fad",
   "metadata": {},
   "outputs": [
    {
     "data": {
      "text/plain": [
       "array([[-8.57968288e-03,  1.91985028e-02],\n",
       "       [ 6.87368104e-03, -6.60812973e-03],\n",
       "       [-8.06896552e-03, -1.35842264e-02],\n",
       "       [ 1.04547260e-02, -2.79356061e-02],\n",
       "       [ 4.51092118e-04, -5.84653756e-03],\n",
       "       [-1.04545455e-02,  5.14403292e-03],\n",
       "       [-1.66890337e-02, -1.66965124e-03],\n",
       "       [ 1.06276400e-03, -7.48852821e-03],\n",
       "       [ 3.88632015e-04, -4.91962603e-03],\n",
       "       [ 3.34711254e-03,  1.54378743e-02],\n",
       "       [-1.56856325e-02, -2.14911626e-02],\n",
       "       [ 2.54619069e-02,  3.92778302e-03],\n",
       "       [-2.67134733e-02, -8.04582904e-05],\n",
       "       [-2.15202421e-03, -4.17618471e-03],\n",
       "       [-5.19970522e-03, -3.92193775e-03],\n",
       "       [ 4.46457895e-03,  1.73888967e-02],\n",
       "       [ 4.78687306e-03, -2.86437282e-02],\n",
       "       [ 4.97616996e-03,  1.75840641e-02],\n",
       "       [-2.44922769e-02, -4.41686631e-03],\n",
       "       [-2.89171405e-02, -1.52047336e-03],\n",
       "       [ 4.55698744e-02,  1.42747931e-03],\n",
       "       [-5.51285282e-03,  1.26375409e-02],\n",
       "       [ 1.99403585e-03, -3.67866248e-03],\n",
       "       [ 4.16871052e-03, -1.60959574e-03],\n",
       "       [ 4.63332573e-03,  3.38910958e-03],\n",
       "       [-2.89542747e-03,  8.97809792e-03],\n",
       "       [ 4.03666534e-03, -2.75674686e-02],\n",
       "       [ 8.79055877e-03,  8.79013121e-03],\n",
       "       [ 1.16031214e-02, -1.21426466e-02],\n",
       "       [-3.28377502e-02, -7.24947878e-03],\n",
       "       [-4.93723005e-03,  2.80655050e-04],\n",
       "       [ 4.80451141e-03, -1.60952984e-03],\n",
       "       [-3.80362282e-03,  2.67299153e-03],\n",
       "       [ 9.63586522e-03, -7.16226543e-03],\n",
       "       [-1.63587159e-02, -1.98674458e-02],\n",
       "       [-3.97138541e-03, -1.95169101e-02],\n",
       "       [-1.88323186e-02, -3.00863577e-02],\n",
       "       [-3.03261394e-02, -5.00377856e-02],\n",
       "       [ 1.04815398e-02, -3.99298902e-02],\n",
       "       [ 8.01308857e-04, -3.10732660e-02],\n",
       "       [ 7.31985448e-03,  5.11976574e-02],\n",
       "       [-3.89043346e-03,  1.06711621e-01],\n",
       "       [ 1.42209407e-02,  3.82471830e-02],\n",
       "       [ 4.92476128e-02, -9.03735822e-02]])"
      ]
     },
     "execution_count": 8,
     "metadata": {},
     "output_type": "execute_result"
    }
   ],
   "source": [
    "(prd-ref)/ref*100.0"
   ]
  },
  {
   "cell_type": "markdown",
   "id": "25c42c79",
   "metadata": {},
   "source": [
    "#### Difference in percentage between wrapper1 and wrapper2"
   ]
  },
  {
   "cell_type": "code",
   "execution_count": 9,
   "id": "e89cb441",
   "metadata": {},
   "outputs": [
    {
     "data": {
      "text/plain": [
       "array([[0., 0.],\n",
       "       [0., 0.],\n",
       "       [0., 0.],\n",
       "       [0., 0.],\n",
       "       [0., 0.],\n",
       "       [0., 0.],\n",
       "       [0., 0.],\n",
       "       [0., 0.],\n",
       "       [0., 0.],\n",
       "       [0., 0.],\n",
       "       [0., 0.],\n",
       "       [0., 0.],\n",
       "       [0., 0.],\n",
       "       [0., 0.],\n",
       "       [0., 0.],\n",
       "       [0., 0.],\n",
       "       [0., 0.],\n",
       "       [0., 0.],\n",
       "       [0., 0.],\n",
       "       [0., 0.],\n",
       "       [0., 0.],\n",
       "       [0., 0.],\n",
       "       [0., 0.],\n",
       "       [0., 0.],\n",
       "       [0., 0.],\n",
       "       [0., 0.],\n",
       "       [0., 0.],\n",
       "       [0., 0.],\n",
       "       [0., 0.],\n",
       "       [0., 0.],\n",
       "       [0., 0.],\n",
       "       [0., 0.],\n",
       "       [0., 0.],\n",
       "       [0., 0.],\n",
       "       [0., 0.],\n",
       "       [0., 0.],\n",
       "       [0., 0.],\n",
       "       [0., 0.],\n",
       "       [0., 0.],\n",
       "       [0., 0.],\n",
       "       [0., 0.],\n",
       "       [0., 0.],\n",
       "       [0., 0.],\n",
       "       [0., 0.]])"
      ]
     },
     "execution_count": 9,
     "metadata": {},
     "output_type": "execute_result"
    }
   ],
   "source": [
    "from wrapper_test import *\n",
    "\n",
    "prd2 = forward(forward.model_vector(true_model)).reshape((-1,2))\n",
    "(prd-prd2)/prd*100.0"
   ]
  }
 ],
 "metadata": {
  "kernelspec": {
   "display_name": "Python 3 (ipykernel)",
   "language": "python",
   "name": "python3"
  },
  "language_info": {
   "codemirror_mode": {
    "name": "ipython",
    "version": 3
   },
   "file_extension": ".py",
   "mimetype": "text/x-python",
   "name": "python",
   "nbconvert_exporter": "python",
   "pygments_lexer": "ipython3",
   "version": "3.10.14"
  }
 },
 "nbformat": 4,
 "nbformat_minor": 5
}
