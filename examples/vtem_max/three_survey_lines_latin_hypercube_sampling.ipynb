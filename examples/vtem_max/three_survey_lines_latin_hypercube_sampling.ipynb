{
 "cells": [
  {
   "cell_type": "markdown",
   "metadata": {},
   "source": [
    "# Employ latin hypercube smapling for the objective function in three survey line example\n",
    "\n",
    "<!-- Please leave the cell below as it is -->"
   ]
  },
  {
   "cell_type": "markdown",
   "metadata": {},
   "source": [
    "[![Open In Colab](https://img.shields.io/badge/open%20in-Colab-b5e2fa?logo=googlecolab&style=flat-square&color=ffd670)](https://colab.research.google.com/github/inlab-geo/cofi-examples/blob/main/examples/airborne_em/airborne_em_three_lines_transmitters.ipynb)"
   ]
  },
  {
   "cell_type": "markdown",
   "metadata": {},
   "source": [
    "<!-- Again, please don't touch the markdown cell above. We'll generate badge \n",
    "     automatically from the above cell. -->\n",
    "\n",
    "<!-- This cell describes things related to environment setup, so please add more text \n",
    "     if something special (not listed below) is needed to run this notebook -->\n",
    "\n",
    "> If you are running this notebook locally, make sure you've followed [steps here](https://github.com/inlab-geo/cofi-examples#run-the-examples-with-cofi-locally)\n",
    "to set up the environment. (This [environment.yml](https://github.com/inlab-geo/cofi-examples/blob/main/envs/environment.yml) file\n",
    "specifies a list of packages required to run the notebooks)"
   ]
  },
  {
   "cell_type": "code",
   "execution_count": 5,
   "metadata": {},
   "outputs": [],
   "source": [
    "# -------------------------------------------------------- #\n",
    "#                                                          #\n",
    "#     Uncomment below to set up environment on \"colab\"     #\n",
    "#                                                          #\n",
    "# -------------------------------------------------------- #\n",
    "\n",
    "# !pip install -U cofi\n",
    "# !pip install git+https://github.com/JuergHauser/PyP223.git"
   ]
  },
  {
   "cell_type": "code",
   "execution_count": 6,
   "metadata": {},
   "outputs": [],
   "source": [
    "# !git clone https://github.com/inlab-geo/cofi-examples.git\n",
    "# %cd cofi-examples/examples/airborne_em"
   ]
  },
  {
   "cell_type": "code",
   "execution_count": 7,
   "metadata": {},
   "outputs": [],
   "source": [
    "import numpy\n",
    "import smt\n",
    "import smt.sampling_methods\n",
    "import tqdm\n",
    "from forward_lib import (\n",
    "    problem_setup, \n",
    "    system_spec, \n",
    "    survey_setup, \n",
    "    ForwardWrapper\n",
    ")\n",
    "\n",
    "numpy.random.seed(42)"
   ]
  },
  {
   "cell_type": "markdown",
   "metadata": {},
   "source": [
    "# Background\n",
    "\n",
    "This notebook performes latin hypercube smapling to creeate samples of the objective function for the three survey line example. It is recommended to covnert it into python script using the following command.\n",
    "\n",
    "`jupyter nbconvert --to script three_survey_lines_latin_hypercube_sampling.ipynb`\n",
    "\n",
    "This allows to run the ltain hypercube sampling as a script from the comandline to create the samples that form the training and test  dataset for the creation of a surrogate model.\n"
   ]
  },
  {
   "cell_type": "code",
   "execution_count": 8,
   "metadata": {},
   "outputs": [],
   "source": [
    "ntrain=1000\n",
    "ntest=50"
   ]
  },
  {
   "cell_type": "markdown",
   "metadata": {},
   "source": [
    "## Problem definition"
   ]
  },
  {
   "cell_type": "code",
   "execution_count": 9,
   "metadata": {},
   "outputs": [],
   "source": [
    "tx_min = 115\n",
    "tx_max = 281\n",
    "tx_interval = 15\n",
    "ty_min = 25\n",
    "ty_max = 176\n",
    "ty_interval = 75\n",
    "tx_points = numpy.arange(tx_min, tx_max, tx_interval)\n",
    "ty_points = numpy.arange(ty_min, ty_max, ty_interval)\n",
    "n_transmitters = len(tx_points) * len(ty_points)\n",
    "tx, ty = numpy.meshgrid(tx_points, ty_points)\n",
    "tx = tx.flatten()\n",
    "ty = ty.flatten()"
   ]
  },
  {
   "cell_type": "code",
   "execution_count": 10,
   "metadata": {},
   "outputs": [],
   "source": [
    "fiducial_id = numpy.arange(len(tx))\n",
    "line_id = numpy.zeros(len(tx), dtype=int)\n",
    "line_id[ty==ty_points[0]] = 0\n",
    "line_id[ty==ty_points[1]] = 1\n",
    "line_id[ty==ty_points[2]] = 2"
   ]
  },
  {
   "cell_type": "code",
   "execution_count": 11,
   "metadata": {},
   "outputs": [],
   "source": [
    "survey_setup = {\n",
    "    \"tx\": tx,                                                   # transmitter easting/x-position\n",
    "    \"ty\": ty,                                                   # transmitter northing/y-position\n",
    "    \"tz\": numpy.array([50]*n_transmitters),                     # transmitter height/z-position\n",
    "    \"tazi\": numpy.deg2rad(numpy.array([90]*n_transmitters)),    # transmitter azimuth\n",
    "    \"tincl\": numpy.deg2rad(numpy.array([6]*n_transmitters)),    # transmitter inclination\n",
    "    \"rx\": tx,                                                   # receiver easting/x-position\n",
    "    \"ry\": numpy.array([100]*n_transmitters),                    # receiver northing/y-position\n",
    "    \"rz\": numpy.array([50]*n_transmitters),                     # receiver height/z-position\n",
    "    \"trdx\": numpy.array([0]*n_transmitters),                    # transmitter receiver separation inline\n",
    "    \"trdy\": numpy.array([0]*n_transmitters),                    # transmitter receiver separation crossline\n",
    "    \"trdz\": numpy.array([0]*n_transmitters),                    # transmitter receiver separation vertical\n",
    "    \"fiducial_id\": fiducial_id,                                 # unique id for each transmitter\n",
    "    \"line_id\": line_id                  # id for each line\n",
    "}"
   ]
  },
  {
   "cell_type": "code",
   "execution_count": 12,
   "metadata": {},
   "outputs": [],
   "source": [
    "true_model = {\n",
    "    \"res\": numpy.array([300, 1000]), \n",
    "    \"thk\": numpy.array([25]), \n",
    "    \"peast\": numpy.array([175]), \n",
    "    \"pnorth\": numpy.array([100]), \n",
    "    \"ptop\": numpy.array([30]), \n",
    "    \"pres\": numpy.array([0.1]), \n",
    "    \"plngth1\": numpy.array([100]), \n",
    "    \"plngth2\": numpy.array([100]), \n",
    "    \"pwdth1\": numpy.array([0.1]), \n",
    "    \"pwdth2\": numpy.array([90]), \n",
    "    \"pdzm\": numpy.array([75]),\n",
    "    \"pdip\": numpy.array([60])\n",
    "}"
   ]
  },
  {
   "cell_type": "code",
   "execution_count": 13,
   "metadata": {},
   "outputs": [
    {
     "name": "stdout",
     "output_type": "stream",
     "text": [
      "['pdip', 'pdzm', 'peast', 'ptop', 'pwdth2']\n"
     ]
    }
   ],
   "source": [
    "forward = ForwardWrapper(true_model, problem_setup, system_spec, survey_setup,\n",
    "                         [\"pdip\",\"pdzm\", \"peast\", \"ptop\", \"pwdth2\"], data_returned=[\"vertical\"])"
   ]
  },
  {
   "cell_type": "code",
   "execution_count": 14,
   "metadata": {},
   "outputs": [
    {
     "data": {
      "text/plain": [
       "['pdip', 'pdzm', 'peast', 'ptop', 'pwdth2']"
      ]
     },
     "execution_count": 14,
     "metadata": {},
     "output_type": "execute_result"
    }
   ],
   "source": [
    "# check the order of parameters in a model vector\n",
    "forward.params_to_invert"
   ]
  },
  {
   "cell_type": "code",
   "execution_count": 15,
   "metadata": {},
   "outputs": [],
   "source": [
    "true_param_value = numpy.array([60,65, 175, 30, 90])"
   ]
  },
  {
   "cell_type": "markdown",
   "metadata": {},
   "source": [
    "**Generate synthetic data**"
   ]
  },
  {
   "cell_type": "code",
   "execution_count": 16,
   "metadata": {},
   "outputs": [],
   "source": [
    "data_noise = 0.01\n",
    "data_pred_true = forward(true_param_value)\n",
    "data_obs = data_pred_true + numpy.random.normal(0, data_noise, data_pred_true.shape)"
   ]
  },
  {
   "cell_type": "markdown",
   "metadata": {},
   "source": [
    "## Create surrogate model"
   ]
  },
  {
   "cell_type": "markdown",
   "metadata": {},
   "source": [
    "**Define objective function**"
   ]
  },
  {
   "cell_type": "code",
   "execution_count": 17,
   "metadata": {},
   "outputs": [],
   "source": [
    "def my_objective(model):\n",
    "    dpred = forward(model)\n",
    "    residual = dpred - data_obs\n",
    "    return residual.T @ residual"
   ]
  },
  {
   "cell_type": "code",
   "execution_count": 18,
   "metadata": {},
   "outputs": [],
   "source": [
    "ndim=len(true_param_value)\n",
    "xlimits=numpy.array([[10,90],[10,160],[150,190],[25,45],[50,150]])"
   ]
  },
  {
   "cell_type": "code",
   "execution_count": 19,
   "metadata": {},
   "outputs": [],
   "source": [
    "sampling = smt.sampling_methods.LHS(xlimits=xlimits,random_state=42)\n",
    "xtrain=sampling(ntrain)\n",
    "ytrain=[]\n",
    "xtest=sampling(ntest)\n",
    "ytest=[]\n"
   ]
  },
  {
   "cell_type": "code",
   "execution_count": 20,
   "metadata": {},
   "outputs": [
    {
     "name": "stderr",
     "output_type": "stream",
     "text": [
      "100%|████████████████████████████████████████████████████████████████████████████████████████████████████████████████████████████████████████████| 50/50 [01:50<00:00,  2.22s/it]\n",
      "100%|████████████████████████████████████████████████████████████████████████████████████████████████████████████████████████████████████████████| 10/10 [00:23<00:00,  2.32s/it]\n"
     ]
    }
   ],
   "source": [
    "for x in tqdm.tqdm(xtrain):\n",
    "    ytrain.append(my_objective(x))\n",
    "for x in tqdm.tqdm(xtest):\n",
    "    ytest.append(my_objective(x))"
   ]
  },
  {
   "cell_type": "code",
   "execution_count": 21,
   "metadata": {},
   "outputs": [],
   "source": [
    "xtrain=numpy.array(xtrain)\n",
    "ytrain=numpy.array(ytrain)\n",
    "\n",
    "xtest=numpy.array(xtest)\n",
    "ytest=numpy.array(ytest)"
   ]
  },
  {
   "cell_type": "code",
   "execution_count": 22,
   "metadata": {},
   "outputs": [],
   "source": [
    "with open('three_survey_lines_lhs.npy', 'wb') as f:\n",
    "    numpy.save(f,ndim)\n",
    "    numpy.save(f,xtrain)\n",
    "    numpy.save(f,ytrain)\n",
    "    numpy.save(f,xtest)\n",
    "    numpy.save(f,ytest)"
   ]
  },
  {
   "cell_type": "markdown",
   "metadata": {},
   "source": [
    "---\n",
    "## Watermark\n",
    "\n",
    "<!-- Feel free to add more modules in the watermark_list below, if more packages are used -->\n",
    "<!-- Otherwise please leave the below code cell unchanged -->"
   ]
  },
  {
   "cell_type": "code",
   "execution_count": 24,
   "metadata": {},
   "outputs": [
    {
     "name": "stdout",
     "output_type": "stream",
     "text": [
      "cofi 0.2.8\n",
      "numpy 1.26.4\n",
      "scipy 1.13.1\n",
      "matplotlib 3.9.0\n",
      "smt 2.6.3\n"
     ]
    }
   ],
   "source": [
    "watermark_list = [\"cofi\", \"numpy\", \"scipy\", \"matplotlib\",\"smt\"]\n",
    "for pkg in watermark_list:\n",
    "    pkg_var = __import__(pkg)\n",
    "    print(pkg, getattr(pkg_var, \"__version__\"))"
   ]
  },
  {
   "cell_type": "code",
   "execution_count": null,
   "metadata": {},
   "outputs": [],
   "source": []
  }
 ],
 "metadata": {
  "interpreter": {
   "hash": "82521f8c6d46dbe13b9e99c6a95164e7b000b3cca9173433679abe48ca711ce5"
  },
  "kernelspec": {
   "display_name": "Python 3 (ipykernel)",
   "language": "python",
   "name": "python3"
  },
  "language_info": {
   "codemirror_mode": {
    "name": "ipython",
    "version": 3
   },
   "file_extension": ".py",
   "mimetype": "text/x-python",
   "name": "python",
   "nbconvert_exporter": "python",
   "pygments_lexer": "ipython3",
   "version": "3.12.4"
  }
 },
 "nbformat": 4,
 "nbformat_minor": 4
}
