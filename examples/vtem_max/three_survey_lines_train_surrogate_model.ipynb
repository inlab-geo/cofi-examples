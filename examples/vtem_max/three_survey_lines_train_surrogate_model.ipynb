{
 "cells": [
  {
   "cell_type": "markdown",
   "metadata": {},
   "source": [
    "# Train a surrogate model for the objectve function for the three survey line example\n",
    "\n",
    "<!-- Please leave the cell below as it is -->"
   ]
  },
  {
   "cell_type": "markdown",
   "metadata": {},
   "source": [
    "[![Open In Colab](https://img.shields.io/badge/open%20in-Colab-b5e2fa?logo=googlecolab&style=flat-square&color=ffd670)](https://colab.research.google.com/github/inlab-geo/cofi-examples/blob/main/examples/airborne_em/airborne_em_three_lines_transmitters.ipynb)"
   ]
  },
  {
   "cell_type": "markdown",
   "metadata": {},
   "source": [
    "<!-- Again, please don't touch the markdown cell above. We'll generate badge \n",
    "     automatically from the above cell. -->\n",
    "\n",
    "<!-- This cell describes things related to environment setup, so please add more text \n",
    "     if something special (not listed below) is needed to run this notebook -->\n",
    "\n",
    "> If you are running this notebook locally, make sure you've followed [steps here](https://github.com/inlab-geo/cofi-examples#run-the-examples-with-cofi-locally)\n",
    "to set up the environment. (This [environment.yml](https://github.com/inlab-geo/cofi-examples/blob/main/envs/environment.yml) file\n",
    "specifies a list of packages required to run the notebooks)"
   ]
  },
  {
   "cell_type": "code",
   "execution_count": 1,
   "metadata": {},
   "outputs": [],
   "source": [
    "# -------------------------------------------------------- #\n",
    "#                                                          #\n",
    "#     Uncomment below to set up environment on \"colab\"     #\n",
    "#                                                          #\n",
    "# -------------------------------------------------------- #\n",
    "\n",
    "# !pip install -U cofi\n",
    "# !pip install git+https://github.com/JuergHauser/PyP223.git"
   ]
  },
  {
   "cell_type": "code",
   "execution_count": 2,
   "metadata": {},
   "outputs": [],
   "source": [
    "# !git clone https://github.com/inlab-geo/cofi-examples.git\n",
    "# %cd cofi-examples/examples/airborne_em"
   ]
  },
  {
   "cell_type": "code",
   "execution_count": 3,
   "metadata": {},
   "outputs": [],
   "source": [
    "import numpy\n",
    "import matplotlib.pyplot as plt\n",
    "import cofi\n",
    "import smt\n",
    "import smt.sampling_methods\n",
    "import smt.surrogate_models \n",
    "import smt.utils.misc\n",
    "import tqdm\n",
    "from forward_lib import (\n",
    "    problem_setup, \n",
    "    system_spec, \n",
    "    survey_setup, \n",
    "    ForwardWrapper\n",
    ")\n",
    "\n",
    "numpy.random.seed(42)"
   ]
  },
  {
   "cell_type": "markdown",
   "metadata": {},
   "source": [
    "# Background\n",
    "\n",
    "This example use the surrogate modellign toolbox to create a surrogate model for the objective function used in the sytnehtic example where we invert the vertica component of three survey lines of a VTEM max survey."
   ]
  },
  {
   "cell_type": "code",
   "execution_count": null,
   "metadata": {},
   "outputs": [],
   "source": [
    "with open('three_survey_lines_lhs.npy', 'rb') as f:\n",
    "    xtrain=numpy.load(f)\n",
    "    ytrain=numpy.load(f)\n",
    "    xtest=numpy.load(f)\n",
    "    xtrain=numpy.load(f)"
   ]
  },
  {
   "cell_type": "code",
   "execution_count": null,
   "metadata": {},
   "outputs": [],
   "source": [
    "########### The Kriging model\n",
    "\n",
    "# The variable 'theta0' is a list of length ndim.\n",
    "t = smt.surrogate_models.KRG(theta0=[1e-2]*ndim,print_prediction = False)\n",
    "t.set_training_values(xtrain,ytrain)\n",
    "t.train()\n",
    "# Prediction of the validation points\n",
    "y = t.predict_values(xtest)\n",
    "print('Kriging,  err: '+ str(smt.utils.misc.compute_rms_error(t,xtest,ytest)))\n",
    "# pot the function and the prediction\n",
    "fig = plt.figure()\n",
    "plt.plot(ytest, ytest, '-', label='$y_{true}$')\n",
    "plt.plot(ytest, y, 'r.', label='$\\\\hat{y}$')   \n",
    "plt.xlabel('$y_{true}$')\n",
    "plt.ylabel('$\\\\hat{y}$')\n",
    "plt.legend(loc='upper left')\n",
    "plt.title('Kriging model: validation of the prediction model')\n",
    "plt.show()\n",
    "# Value of theta\n",
    "print(\"theta values\",  t.optimal_theta)"
   ]
  },
  {
   "cell_type": "code",
   "execution_count": null,
   "metadata": {},
   "outputs": [],
   "source": [
    "# estimated variance for the validation points\n",
    "s2 = t.predict_variances(xtest)\n",
    "#plot with the associated interval confidence\n",
    "yerr= 2*3*numpy.sqrt(s2) #in order to use +/- 3 x standard deviation: 99% confidence interval estimation\n",
    "\n",
    "# Plot the function, the prediction and the 99% confidence interval based on\n",
    "# the MSE\n",
    "fig = plt.figure()\n",
    "plt.plot(ytest, ytest, '-', label='$y_{true}$')\n",
    "plt.plot(ytest, y, 'r.', label='$\\\\hat{y}$')\n",
    "plt.errorbar(numpy.squeeze(ytest), numpy.squeeze(y), yerr=numpy.squeeze(yerr), fmt = 'none', capsize = 5, ecolor = 'lightgray', elinewidth = 1, capthick = 0.5, label='confidence estimate 99%')\n",
    "plt.xlabel('$y_{true}$')\n",
    "plt.ylabel('$\\\\hat{y}$')\n",
    "\n",
    "plt.legend(loc='upper left')\n",
    "plt.title('Kriging model: validation of the prediction model with the estimate of confidence')   \n",
    "plt.show()"
   ]
  },
  {
   "cell_type": "markdown",
   "metadata": {},
   "source": [
    "---\n",
    "## Watermark\n",
    "\n",
    "<!-- Feel free to add more modules in the watermark_list below, if more packages are used -->\n",
    "<!-- Otherwise please leave the below code cell unchanged -->"
   ]
  },
  {
   "cell_type": "code",
   "execution_count": null,
   "metadata": {},
   "outputs": [],
   "source": [
    "watermark_list = [\"cofi\", \"numpy\", \"scipy\", \"matplotlib\"]\n",
    "for pkg in watermark_list:\n",
    "    pkg_var = __import__(pkg)\n",
    "    print(pkg, getattr(pkg_var, \"__version__\"))"
   ]
  }
 ],
 "metadata": {
  "interpreter": {
   "hash": "82521f8c6d46dbe13b9e99c6a95164e7b000b3cca9173433679abe48ca711ce5"
  },
  "kernelspec": {
   "display_name": "Python 3 (ipykernel)",
   "language": "python",
   "name": "python3"
  },
  "language_info": {
   "codemirror_mode": {
    "name": "ipython",
    "version": 3
   },
   "file_extension": ".py",
   "mimetype": "text/x-python",
   "name": "python",
   "nbconvert_exporter": "python",
   "pygments_lexer": "ipython3",
   "version": "3.12.4"
  }
 },
 "nbformat": 4,
 "nbformat_minor": 4
}
