{
 "cells": [
  {
   "cell_type": "markdown",
   "metadata": {},
   "source": [
    "# Invert three surveys line for a thin plate using the surrogate model\n",
    "\n",
    "<!-- Please leave the cell below as it is -->"
   ]
  },
  {
   "cell_type": "markdown",
   "metadata": {},
   "source": [
    "[![Open In Colab](https://img.shields.io/badge/open%20in-Colab-b5e2fa?logo=googlecolab&style=flat-square&color=ffd670)](https://colab.research.google.com/github/inlab-geo/cofi-examples/blob/main/examples/airborne_em/airborne_em_three_lines_transmitters.ipynb)"
   ]
  },
  {
   "cell_type": "markdown",
   "metadata": {},
   "source": [
    "<!-- Again, please don't touch the markdown cell above. We'll generate badge \n",
    "     automatically from the above cell. -->\n",
    "\n",
    "<!-- This cell describes things related to environment setup, so please add more text \n",
    "     if something special (not listed below) is needed to run this notebook -->\n",
    "\n",
    "> If you are running this notebook locally, make sure you've followed [steps here](https://github.com/inlab-geo/cofi-examples#run-the-examples-with-cofi-locally)\n",
    "to set up the environment. (This [environment.yml](https://github.com/inlab-geo/cofi-examples/blob/main/envs/environment.yml) file\n",
    "specifies a list of packages required to run the notebooks)"
   ]
  },
  {
   "cell_type": "markdown",
   "metadata": {},
   "source": [
    "> This notebook assumes that you have created a surrogate model by executing the following two notebooks:\n",
    "> - [Latin Hypercube Sampling](./three_survey_lines_latin_hypercube_sampling.ipynb) \n",
    "> - [Surrogate model creation](./three_survey_lines_surrogate_model_creation.ipynb)"
   ]
  },
  {
   "cell_type": "code",
   "execution_count": null,
   "metadata": {},
   "outputs": [],
   "source": [
    "# -------------------------------------------------------- #\n",
    "#                                                          #\n",
    "#     Uncomment below to set up environment on \"colab\"     #\n",
    "#                                                          #\n",
    "# -------------------------------------------------------- #\n",
    "\n",
    "# !pip install -U cofi\n",
    "# !pip install git+https://github.com/JuergHauser/PyP223.git\n",
    "# !pip install smt\n",
    "# !git clone https://github.com/inlab-geo/cofi-examples.git\n",
    "# %cd cofi-examples/examples/vtem_max"
   ]
  },
  {
   "cell_type": "code",
   "execution_count": null,
   "metadata": {},
   "outputs": [],
   "source": [
    "# If this notebook is run locally PyP223 and smt need to be installed separately by uncommenting the following lines, \n",
    "# that is by removing the # and the white space between it and the exclamation mark.\n",
    "# !pip install git+https://github.com/JuergHauser/PyP223.git\n",
    "# !pip install smt"
   ]
  },
  {
   "cell_type": "code",
   "execution_count": null,
   "metadata": {},
   "outputs": [],
   "source": [
    "import pickle\n",
    "import numpy\n",
    "import matplotlib.pyplot as plt\n",
    "from matplotlib.lines import Line2D\n",
    "import cofi\n",
    "import arviz\n",
    "from vtem_max_forward_lib import (\n",
    "    problem_setup, \n",
    "    system_spec, \n",
    "    survey_setup, \n",
    "    ForwardWrapper, \n",
    "    plot_predicted_profile, \n",
    "    plot_transient, \n",
    "    plot_plate_faces, \n",
    "    plot_plate_faces_single\n",
    ")\n",
    "\n",
    "numpy.random.seed(42)"
   ]
  },
  {
   "cell_type": "markdown",
   "metadata": {},
   "source": [
    "## Background\n",
    "\n",
    "This example inverts three survey line of VTEM max data using the vertical component for a thin plate target. It thus becomes possible to invert for the easting,northing, depth of the plate reference point, the plate dip and plate azimuth. Solving the forward problem, that is  calculating the objective function, usess the surrogate model that has been created by the [Kriging approach](./three_survey_lines_surrogate_model_creation.ipynb) applied to the [latin hypercube samples](three_survey_lines_latin_hypercube_sampling.ipynb) of the objective function."
   ]
  },
  {
   "cell_type": "markdown",
   "metadata": {},
   "source": [
    "## Problem definition"
   ]
  },
  {
   "cell_type": "code",
   "execution_count": null,
   "metadata": {},
   "outputs": [],
   "source": [
    "tx_min = 115\n",
    "tx_max = 281\n",
    "tx_interval = 15\n",
    "ty_min = 25\n",
    "ty_max = 176\n",
    "ty_interval = 75\n",
    "tx_points = numpy.arange(tx_min, tx_max, tx_interval)\n",
    "ty_points = numpy.arange(ty_min, ty_max, ty_interval)\n",
    "n_transmitters = len(tx_points) * len(ty_points)\n",
    "tx, ty = numpy.meshgrid(tx_points, ty_points)\n",
    "tx = tx.flatten()\n",
    "ty = ty.flatten()"
   ]
  },
  {
   "cell_type": "code",
   "execution_count": null,
   "metadata": {},
   "outputs": [],
   "source": [
    "fiducial_id = numpy.arange(len(tx))\n",
    "line_id = numpy.zeros(len(tx), dtype=int)\n",
    "line_id[ty==ty_points[0]] = 0\n",
    "line_id[ty==ty_points[1]] = 1\n",
    "line_id[ty==ty_points[2]] = 2"
   ]
  },
  {
   "cell_type": "code",
   "execution_count": null,
   "metadata": {},
   "outputs": [],
   "source": [
    "survey_setup = {\n",
    "    \"tx\": tx,                                                   # transmitter easting/x-position\n",
    "    \"ty\": ty,                                                   # transmitter northing/y-position\n",
    "    \"tz\": numpy.array([50]*n_transmitters),                     # transmitter height/z-position\n",
    "    \"tazi\": numpy.deg2rad(numpy.array([90]*n_transmitters)),    # transmitter azimuth\n",
    "    \"tincl\": numpy.deg2rad(numpy.array([6]*n_transmitters)),    # transmitter inclination\n",
    "    \"rx\": tx,                                                   # receiver easting/x-position\n",
    "    \"ry\": numpy.array([100]*n_transmitters),                    # receiver northing/y-position\n",
    "    \"rz\": numpy.array([50]*n_transmitters),                     # receiver height/z-position\n",
    "    \"trdx\": numpy.array([0]*n_transmitters),                    # transmitter receiver separation inline\n",
    "    \"trdy\": numpy.array([0]*n_transmitters),                    # transmitter receiver separation crossline\n",
    "    \"trdz\": numpy.array([0]*n_transmitters),                    # transmitter receiver separation vertical\n",
    "    \"fiducial_id\": fiducial_id,                                 # unique id for each transmitter\n",
    "    \"line_id\": line_id                  # id for each line\n",
    "}"
   ]
  },
  {
   "cell_type": "code",
   "execution_count": null,
   "metadata": {},
   "outputs": [],
   "source": [
    "true_model = {\n",
    "    \"res\": numpy.array([300, 1000]), \n",
    "    \"thk\": numpy.array([20]), \n",
    "    \"peast\": numpy.array([175]), \n",
    "    \"pnorth\": numpy.array([100]), \n",
    "    \"ptop\": numpy.array([30]), \n",
    "    \"pres\": numpy.array([0.1]), \n",
    "    \"plngth1\": numpy.array([100]), \n",
    "    \"plngth2\": numpy.array([100]), \n",
    "    \"pwdth1\": numpy.array([0.1]), \n",
    "    \"pwdth2\": numpy.array([90]), \n",
    "    \"pdzm\": numpy.array([75]),\n",
    "    \"pdip\": numpy.array([60])\n",
    "}"
   ]
  },
  {
   "cell_type": "code",
   "execution_count": null,
   "metadata": {},
   "outputs": [],
   "source": [
    "forward = ForwardWrapper(true_model, problem_setup, system_spec, survey_setup,\n",
    "                         [\"pdip\",\"pdzm\", \"peast\", \"ptop\", \"pwdth2\"], data_returned=[\"vertical\"])"
   ]
  },
  {
   "cell_type": "code",
   "execution_count": null,
   "metadata": {},
   "outputs": [],
   "source": [
    "# check the order of parameters in a model vector\n",
    "forward.params_to_invert"
   ]
  },
  {
   "cell_type": "code",
   "execution_count": null,
   "metadata": {},
   "outputs": [],
   "source": [
    "true_param_value = numpy.array([60.,65., 175., 30., 90.])"
   ]
  },
  {
   "cell_type": "markdown",
   "metadata": {},
   "source": [
    "##  Ensemble method using the surrogate model"
   ]
  },
  {
   "cell_type": "code",
   "execution_count": null,
   "metadata": {},
   "outputs": [],
   "source": [
    "sm = None\n",
    "filename = \"kriging_surrogate_model.pkl\"\n",
    "with open(filename, \"rb\") as f:\n",
    "   sm = pickle.load(f)"
   ]
  },
  {
   "cell_type": "markdown",
   "metadata": {},
   "source": [
    "**Initialise a model for inversion**"
   ]
  },
  {
   "cell_type": "code",
   "execution_count": null,
   "metadata": {},
   "outputs": [],
   "source": [
    "init_param_value = numpy.array([45, 90, 160, 35, 80])\n",
    "m_min = numpy.array([15, 35, 155, 30, 65])\n",
    "m_max = numpy.array([75, 145, 185, 40, 115])"
   ]
  },
  {
   "cell_type": "markdown",
   "metadata": {},
   "source": [
    "**Define helper functions for CoFI**"
   ]
  },
  {
   "cell_type": "code",
   "execution_count": null,
   "metadata": {},
   "outputs": [],
   "source": [
    "def my_objective(model):\n",
    "    val=sm.predict_values(numpy.array([model]))[0][0]\n",
    "    if val<1e-3:\n",
    "        return 1e-3\n",
    "    else:\n",
    "        return val\n",
    "        \n",
    "def my_log_likelihood(model):\n",
    "    return -0.5 * my_objective(model)\n",
    "\n",
    "def my_log_prior(model):    # uniform distribution\n",
    "    for i in range(len(model)):\n",
    "        if model[i] < m_min[i] or model[i] > m_max[i]: return -numpy.inf\n",
    "    return 0.0 # model lies within bounds -> return log(1)"
   ]
  },
  {
   "cell_type": "markdown",
   "metadata": {},
   "source": [
    "**Define CoFI problem**"
   ]
  },
  {
   "cell_type": "code",
   "execution_count": null,
   "metadata": {},
   "outputs": [],
   "source": [
    "my_problem = cofi.BaseProblem()\n",
    "my_problem.set_objective(my_objective)"
   ]
  },
  {
   "cell_type": "markdown",
   "metadata": {},
   "source": [
    "**Define CoFI options**"
   ]
  },
  {
   "cell_type": "code",
   "execution_count": null,
   "metadata": {},
   "outputs": [],
   "source": [
    "inv_options = cofi.InversionOptions()\n",
    "inv_options.set_tool(\"neighpy\")\n",
    "inv_options.suggest_solver_params()"
   ]
  },
  {
   "cell_type": "code",
   "execution_count": null,
   "metadata": {},
   "outputs": [],
   "source": [
    "inv_options.set_params(\n",
    "    n_samples_per_iteration=100,\n",
    "    n_initial_samples=10,\n",
    "    n_resample=8000,\n",
    "    n_iterations=100,\n",
    "    bounds=numpy.array([m_min, m_max]).T,\n",
    "    n_cells_to_resample=10,\n",
    "    n_walkers=4\n",
    ")\n",
    "######## Run it\n",
    "inv = cofi.Inversion(my_problem, inv_options)\n",
    "inv_result = inv.run()\n",
    "\n",
    "######## Check result\n",
    "print(f\"The inversion result from `neighpy`:\")\n",
    "inv_result.summary()"
   ]
  },
  {
   "cell_type": "markdown",
   "metadata": {},
   "source": [
    "## Plotting"
   ]
  },
  {
   "cell_type": "code",
   "execution_count": null,
   "metadata": {},
   "outputs": [],
   "source": [
    "arviz.style.use(\"default\")\n",
    "var_names = [\n",
    "    \"Dip (\\u00b0)\", \n",
    "    \"Dip azimuth (\\u00b0)\", \n",
    "    \"Easting (m)\", \n",
    "    \"Depth (m)\", \n",
    "    \"Width (m)\"\n",
    "]\n",
    "\n",
    "var_lines=(\n",
    "    ('Dip (\\u00b0)', {}, 60),\n",
    "        ('Dip azimuth (\\u00b0)', {}, 65),\n",
    "        ('Easting (m)', {}, 175),\n",
    "        ('Depth (m)', {}, 30),\n",
    "        ('Width (m)', {}, 90)\n",
    ")\n",
    "d = {k: v for k, v in zip(var_names, inv_result.appraisal_samples.T)}\n",
    "az_idata = arviz.convert_to_inference_data(d)\n",
    "arviz.plot_trace(az_idata.sel(draw=slice(2000,None)),lines=var_lines)\n",
    "plt.tight_layout()"
   ]
  },
  {
   "cell_type": "code",
   "execution_count": null,
   "metadata": {},
   "outputs": [],
   "source": [
    "arviz.style.use(\"default\")\n",
    "\n",
    "_, axes = plt.subplots(5, 5, figsize=(12,12))\n",
    "arviz.plot_pair(\n",
    "    az_idata.sel(draw=slice(4000,None)), \n",
    "    marginals=True, \n",
    "    ax = axes\n",
    ")\n",
    "plt.tight_layout()"
   ]
  },
  {
   "cell_type": "code",
   "execution_count": null,
   "metadata": {},
   "outputs": [],
   "source": [
    "arviz.style.use(\"default\")\n",
    "\n",
    "_, axes = plt.subplots(2, 2)\n",
    "axes[1,1].axis(\"off\")\n",
    "plot_plate_faces(\n",
    "    \"plate_true\", forward, true_param_value, \n",
    "    axes[0,0], axes[0,1], axes[1,0], color=\"purple\", label=\"True model\"\n",
    ")\n",
    "plot_plate_faces(\n",
    "    \"plate_init\", forward, init_param_value, \n",
    "    axes[0,0], axes[0,1], axes[1,0], color=\"green\", label=\"Starting model\"\n",
    ")\n",
    "\n",
    "\n",
    "plt.tight_layout()\n",
    "\n",
    "\n",
    "ichain=0\n",
    "idraw=2500\n",
    "sample=numpy.zeros(5)\n",
    "\n",
    "sample[0]=az_idata.posterior['Dip (\\u00b0)'][ichain][idraw]\n",
    "sample[1]=az_idata.posterior['Dip azimuth (\\u00b0)'][ichain][idraw]\n",
    "sample[2]=az_idata.posterior['Easting (m)'][ichain][idraw]\n",
    "sample[3]=az_idata.posterior['Depth (m)'][ichain][idraw]\n",
    "sample[4]=az_idata.posterior['Width (m)'][ichain][idraw]\n",
    "plot_plate_faces(\n",
    "    \"plate_inverted\", forward, sample, \n",
    "    axes[0,0], axes[0,1], axes[1,0], color=\"red\", label=\"Posterior sample\", linestyle=\"dotted\"\n",
    ")\n",
    "\n",
    "point = Line2D([0], [0], label='Fiducial', marker='o', markersize=5, \n",
    "         markeredgecolor='orange', markerfacecolor='orange', linestyle='')\n",
    "\n",
    "handles, labels = axes[1,0].get_legend_handles_labels()\n",
    "handles.extend([point])\n",
    "\n",
    "axes[1,0].legend(handles=handles,bbox_to_anchor=(1.04, 0), loc=\"lower left\")\n",
    "\n",
    "\n",
    "# plot 10 randomly selected samples of the posterior distirbution\n",
    "for i in range(10):\n",
    "    idraw=numpy.random.randint(2000,5000)\n",
    "    sample[0]=az_idata.posterior['Dip (\\u00b0)'][ichain][idraw]\n",
    "    sample[1]=az_idata.posterior['Dip azimuth (\\u00b0)'][ichain][idraw]\n",
    "    sample[2]=az_idata.posterior['Easting (m)'][ichain][idraw]\n",
    "    sample[3]=az_idata.posterior['Depth (m)'][ichain][idraw]\n",
    "    sample[4]=az_idata.posterior['Width (m)'][ichain][idraw]\n",
    "    plot_plate_faces(\n",
    "    \"plate_inverted\", forward, sample, \n",
    "    axes[0,0], axes[0,1], axes[1,0], color=\"red\", label=\"Posterior sample\", linestyle=\"dotted\"\n",
    ")\n"
   ]
  },
  {
   "cell_type": "markdown",
   "metadata": {},
   "source": [
    "---\n",
    "## Watermark\n",
    "\n",
    "<!-- Feel free to add more modules in the watermark_list below, if more packages are used -->\n",
    "<!-- Otherwise please leave the below code cell unchanged -->"
   ]
  },
  {
   "cell_type": "code",
   "execution_count": null,
   "metadata": {},
   "outputs": [],
   "source": [
    "watermark_list = [\"cofi\", \"numpy\", \"scipy\", \"matplotlib\"]\n",
    "for pkg in watermark_list:\n",
    "    pkg_var = __import__(pkg)\n",
    "    print(pkg, getattr(pkg_var, \"__version__\"))"
   ]
  }
 ],
 "metadata": {
  "interpreter": {
   "hash": "82521f8c6d46dbe13b9e99c6a95164e7b000b3cca9173433679abe48ca711ce5"
  },
  "kernelspec": {
   "display_name": "Python 3 (ipykernel)",
   "language": "python",
   "name": "python3"
  },
  "language_info": {
   "codemirror_mode": {
    "name": "ipython",
    "version": 3
   },
   "file_extension": ".py",
   "mimetype": "text/x-python",
   "name": "python",
   "nbconvert_exporter": "python",
   "pygments_lexer": "ipython3",
   "version": "3.13.3"
  }
 },
 "nbformat": 4,
 "nbformat_minor": 4
}
