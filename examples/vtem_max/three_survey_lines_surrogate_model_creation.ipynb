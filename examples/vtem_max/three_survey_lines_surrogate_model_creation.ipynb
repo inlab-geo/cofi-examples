{
 "cells": [
  {
   "cell_type": "markdown",
   "metadata": {},
   "source": [
    "# Create a surrogate model for the objective function for the three survey line example\n",
    "\n",
    "<!-- Please leave the cell below as it is -->"
   ]
  },
  {
   "cell_type": "markdown",
   "metadata": {},
   "source": [
    "[![Open In Colab](https://img.shields.io/badge/open%20in-Colab-b5e2fa?logo=googlecolab&style=flat-square&color=ffd670)](https://colab.research.google.com/github/inlab-geo/cofi-examples/blob/main/examples/airborne_em/airborne_em_three_lines_transmitters.ipynb)"
   ]
  },
  {
   "cell_type": "markdown",
   "metadata": {},
   "source": [
    "<!-- Again, please don't touch the markdown cell above. We'll generate badge \n",
    "     automatically from the above cell. -->\n",
    "\n",
    "<!-- This cell describes things related to environment setup, so please add more text \n",
    "     if something special (not listed below) is needed to run this notebook -->\n",
    "\n",
    "> If you are running this notebook locally, make sure you've followed [steps here](https://github.com/inlab-geo/cofi-examples#run-the-examples-with-cofi-locally)\n",
    "to set up the environment. (This [environment.yml](https://github.com/inlab-geo/cofi-examples/blob/main/envs/environment.yml) file\n",
    "specifies a list of packages required to run the notebooks)"
   ]
  },
  {
   "cell_type": "code",
   "execution_count": 1,
   "metadata": {},
   "outputs": [],
   "source": [
    "# -------------------------------------------------------- #\n",
    "#                                                          #\n",
    "#     Uncomment below to set up environment on \"colab\"     #\n",
    "#                                                          #\n",
    "# -------------------------------------------------------- #\n",
    "\n",
    "# !pip install -U cofi\n",
    "# !pip install git+https://github.com/JuergHauser/PyP223.git\n",
    "# !pip install smt\n",
    "# !git clone https://github.com/inlab-geo/cofi-examples.git\n",
    "# %cd cofi-examples/examples/vtem_max"
   ]
  },
  {
   "cell_type": "code",
   "execution_count": 7,
   "metadata": {},
   "outputs": [
    {
     "name": "stdout",
     "output_type": "stream",
     "text": [
      "Collecting git+https://github.com/JuergHauser/PyP223.git\n",
      "  Cloning https://github.com/JuergHauser/PyP223.git to /tmp/pip-req-build-w_iy0mzu\n",
      "  Running command git clone --filter=blob:none --quiet https://github.com/JuergHauser/PyP223.git /tmp/pip-req-build-w_iy0mzu\n",
      "  Resolved https://github.com/JuergHauser/PyP223.git to commit 34bdae4f3e74165f03e53374b39f718a03e9f63b\n",
      "  Installing build dependencies ... \u001b[?25ldone\n",
      "\u001b[?25h  Getting requirements to build wheel ... \u001b[?25ldone\n",
      "\u001b[?25h  Preparing metadata (pyproject.toml) ... \u001b[?25ldone\n",
      "\u001b[?25hBuilding wheels for collected packages: pyp223\n",
      "  Building wheel for pyp223 (pyproject.toml) ... \u001b[?25ldone\n",
      "\u001b[?25h  Created wheel for pyp223: filename=pyp223-0.1.0-cp313-cp313-linux_x86_64.whl size=558253 sha256=b541201c85b74dddd86d391445b02cefdf521959dd06c05ca955454390395346\n",
      "  Stored in directory: /tmp/pip-ephem-wheel-cache-q3lguurj/wheels/4e/a4/ff/3c8c552e3cea1b99f6491eba69622d3339918cd260970bf559\n",
      "Successfully built pyp223\n",
      "Installing collected packages: pyp223\n",
      "Successfully installed pyp223-0.1.0\n",
      "\n",
      "\u001b[1m[\u001b[0m\u001b[34;49mnotice\u001b[0m\u001b[1;39;49m]\u001b[0m\u001b[39;49m A new release of pip is available: \u001b[0m\u001b[31;49m24.2\u001b[0m\u001b[39;49m -> \u001b[0m\u001b[32;49m24.3.1\u001b[0m\n",
      "\u001b[1m[\u001b[0m\u001b[34;49mnotice\u001b[0m\u001b[1;39;49m]\u001b[0m\u001b[39;49m To update, run: \u001b[0m\u001b[32;49mpip install --upgrade pip\u001b[0m\n"
     ]
    }
   ],
   "source": [
    "# If this notebook is run locally PyP223 and smt need to be installed separately by uncommenting the following lines, \n",
    "# that is by removing the # and the white space between it and the exclamation mark.\n",
    "# !pip install git+https://github.com/JuergHauser/PyP223.git\n",
    "# !pip install smt"
   ]
  },
  {
   "cell_type": "code",
   "execution_count": 8,
   "metadata": {},
   "outputs": [],
   "source": [
    "import pickle\n",
    "import numpy\n",
    "import matplotlib.pyplot as plt\n",
    "import cofi\n",
    "import smt\n",
    "import smt.sampling_methods\n",
    "import smt.surrogate_models \n",
    "import smt.utils.misc\n",
    "import tqdm\n",
    "from vtem_max_forward_lib import (\n",
    "    problem_setup, \n",
    "    system_spec, \n",
    "    survey_setup, \n",
    "    ForwardWrapper\n",
    ")\n",
    "\n",
    "numpy.random.seed(42)\n",
    "numpy.set_printoptions()"
   ]
  },
  {
   "cell_type": "markdown",
   "metadata": {},
   "source": [
    "# Background\n",
    "\n",
    "This example use the surrogate modelling toolbox to create a surrogate model for the objective function used in the synthetic [example](./three_survey_lines.ipynb) where we invert the vertical component of three survey lines of a VTEM max survey. This notebook employs the  [Kriging approach](https://smt.readthedocs.io/en/latest/_src_docs/surrogate_models/gpr/krg.html) using the training and test samples generated [here](three_survey_lines_latin_hypercube_sampling.ipynb) to create a surrogate model.\n"
   ]
  },
  {
   "cell_type": "code",
   "execution_count": 9,
   "metadata": {},
   "outputs": [],
   "source": [
    "with open('three_survey_lines_lhs.npy', 'rb') as f:\n",
    "    ndim=int(numpy.load(f))\n",
    "    xlimits=numpy.load(f) \n",
    "    xtrain=numpy.load(f)\n",
    "    ytrain=numpy.load(f)\n",
    "    xtest=numpy.load(f)\n",
    "    ytest=numpy.load(f)\n",
    "\n",
    "xlimits=xlimits.astype('double')\n",
    "xtrain=xtrain[0:150].astype('double')\n",
    "ytrain=ytrain[0:150].astype('double')\n",
    "xtest=xtest[0:25].astype('double')\n",
    "ytest=ytest[0:25].astype('double')"
   ]
  },
  {
   "cell_type": "markdown",
   "metadata": {},
   "source": [
    "## Training "
   ]
  },
  {
   "cell_type": "code",
   "execution_count": 10,
   "metadata": {},
   "outputs": [
    {
     "name": "stdout",
     "output_type": "stream",
     "text": [
      "___________________________________________________________________________\n",
      "   \n",
      "                                  Kriging\n",
      "___________________________________________________________________________\n",
      "   \n",
      " Problem size\n",
      "   \n",
      "      # training points.        : 100\n",
      "   \n",
      "___________________________________________________________________________\n",
      "   \n",
      " Training\n",
      "   \n",
      "   Training ...\n",
      "   Training - done. Time (sec):  5.7195978\n"
     ]
    }
   ],
   "source": [
    "# The variable 'theta0' is a list of length ndim.\n",
    "t = smt.surrogate_models.KRG(theta0=[1e-2]*ndim,print_prediction = False)\n",
    "t.set_training_values(xtrain,ytrain)\n",
    "t.train()"
   ]
  },
  {
   "cell_type": "markdown",
   "metadata": {},
   "source": [
    "## Validation"
   ]
  },
  {
   "cell_type": "code",
   "execution_count": 11,
   "metadata": {},
   "outputs": [
    {
     "data": {
      "image/png": "[encoded data removed]",
      "text/plain": [
       "<Figure size 640x480 with 1 Axes>"
      ]
     },
     "metadata": {},
     "output_type": "display_data"
    }
   ],
   "source": [
    "# Prediction of the validation points\n",
    "y = t.predict_values(xtest)\n",
    "# Estimated variance for the validation points\n",
    "s2 = t.predict_variances(xtest)\n",
    "#plot with the associated interval confidence\n",
    "yerr= 2*3*numpy.sqrt(s2) #in order to use +/- 3 x standard deviation: 99% confidence interval estimation\n",
    "\n",
    "# Plot the function, the prediction and the 99% confidence interval based on\n",
    "# the MSE\n",
    "fig = plt.figure()\n",
    "plt.plot(ytest, ytest, '-', label='$y_{true}$')\n",
    "plt.plot(ytest, y, 'r.', label='$\\\\hat{y}$')\n",
    "plt.errorbar(numpy.squeeze(ytest), numpy.squeeze(y), yerr=numpy.squeeze(yerr), fmt = 'none', capsize = 5, ecolor = 'lightgray', elinewidth = 1, capthick = 0.5, label='confidence estimate 99%')\n",
    "plt.xlabel('$y_{true}$')\n",
    "plt.ylabel('$\\\\hat{y}$')\n",
    "\n",
    "plt.legend(loc='upper left')\n",
    "plt.title('Validation of the model prediction with confidence estimates')   \n",
    "plt.show()"
   ]
  },
  {
   "cell_type": "markdown",
   "metadata": {},
   "source": [
    "## Save the surrogate model for subsequent use"
   ]
  },
  {
   "cell_type": "code",
   "execution_count": 12,
   "metadata": {},
   "outputs": [],
   "source": [
    "filename = \"kriging_surrogate_model.pkl\"\n",
    "with open(filename, \"wb\") as f:\n",
    "   pickle.dump(t, f)"
   ]
  },
  {
   "cell_type": "markdown",
   "metadata": {},
   "source": [
    "---\n",
    "# Watermark\n",
    "\n",
    "<!-- Feel free to add more modules in the watermark_list below, if more packages are used -->\n",
    "<!-- Otherwise please leave the below code cell unchanged -->"
   ]
  },
  {
   "cell_type": "code",
   "execution_count": 13,
   "metadata": {},
   "outputs": [
    {
     "name": "stdout",
     "output_type": "stream",
     "text": [
      "cofi 0.2.9\n",
      "numpy 2.1.3\n",
      "scipy 1.14.1\n",
      "matplotlib 3.9.2\n",
      "smt 2.8.0\n"
     ]
    }
   ],
   "source": [
    "watermark_list = [\"cofi\", \"numpy\", \"scipy\", \"matplotlib\",\"smt\"]\n",
    "for pkg in watermark_list:\n",
    "    pkg_var = __import__(pkg)\n",
    "    print(pkg, getattr(pkg_var, \"__version__\"))"
   ]
  },
  {
   "cell_type": "code",
   "execution_count": null,
   "metadata": {},
   "outputs": [],
   "source": []
  }
 ],
 "metadata": {
  "interpreter": {
   "hash": "82521f8c6d46dbe13b9e99c6a95164e7b000b3cca9173433679abe48ca711ce5"
  },
  "kernelspec": {
   "display_name": "Python 3 (ipykernel)",
   "language": "python",
   "name": "python3"
  },
  "language_info": {
   "codemirror_mode": {
    "name": "ipython",
    "version": 3
   },
   "file_extension": ".py",
   "mimetype": "text/x-python",
   "name": "python",
   "nbconvert_exporter": "python",
   "pygments_lexer": "ipython3",
   "version": "3.13.0"
  }
 },
 "nbformat": 4,
 "nbformat_minor": 4
}
