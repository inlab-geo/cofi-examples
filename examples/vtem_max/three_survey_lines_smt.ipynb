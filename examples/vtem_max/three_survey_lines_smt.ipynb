{
 "cells": [
  {
   "cell_type": "markdown",
   "metadata": {},
   "source": [
    "# Invert three surveys line for a thin plate\n",
    "\n",
    "<!-- Please leave the cell below as it is -->"
   ]
  },
  {
   "cell_type": "markdown",
   "metadata": {},
   "source": [
    "[![Open In Colab](https://img.shields.io/badge/open%20in-Colab-b5e2fa?logo=googlecolab&style=flat-square&color=ffd670)](https://colab.research.google.com/github/inlab-geo/cofi-examples/blob/main/examples/airborne_em/airborne_em_three_lines_transmitters.ipynb)"
   ]
  },
  {
   "cell_type": "markdown",
   "metadata": {},
   "source": [
    "<!-- Again, please don't touch the markdown cell above. We'll generate badge \n",
    "     automatically from the above cell. -->\n",
    "\n",
    "<!-- This cell describes things related to environment setup, so please add more text \n",
    "     if something special (not listed below) is needed to run this notebook -->\n",
    "\n",
    "> If you are running this notebook locally, make sure you've followed [steps here](https://github.com/inlab-geo/cofi-examples#run-the-examples-with-cofi-locally)\n",
    "to set up the environment. (This [environment.yml](https://github.com/inlab-geo/cofi-examples/blob/main/envs/environment.yml) file\n",
    "specifies a list of packages required to run the notebooks)"
   ]
  },
  {
   "cell_type": "code",
   "execution_count": 1,
   "metadata": {},
   "outputs": [],
   "source": [
    "# -------------------------------------------------------- #\n",
    "#                                                          #\n",
    "#     Uncomment below to set up environment on \"colab\"     #\n",
    "#                                                          #\n",
    "# -------------------------------------------------------- #\n",
    "\n",
    "# !pip install -U cofi\n",
    "# !pip install git+https://github.com/JuergHauser/PyP223.git"
   ]
  },
  {
   "cell_type": "code",
   "execution_count": 2,
   "metadata": {},
   "outputs": [],
   "source": [
    "# !git clone https://github.com/inlab-geo/cofi-examples.git\n",
    "# %cd cofi-examples/examples/airborne_em"
   ]
  },
  {
   "cell_type": "code",
   "execution_count": 3,
   "metadata": {},
   "outputs": [],
   "source": [
    "import numpy\n",
    "import matplotlib.pyplot as plt\n",
    "import cofi\n",
    "\n",
    "from forward_lib import (\n",
    "    problem_setup, \n",
    "    system_spec, \n",
    "    survey_setup, \n",
    "    ForwardWrapper, \n",
    "    plot_predicted_profile, \n",
    "    plot_transient, \n",
    "    plot_plate_faces, \n",
    "    plot_plate_faces_single\n",
    ")\n",
    "\n",
    "numpy.random.seed(42)"
   ]
  },
  {
   "cell_type": "markdown",
   "metadata": {},
   "source": [
    "# Background\n",
    "\n",
    "This example inverts a three survey line of VTEM max data using the vertical  component for a thin plate target."
   ]
  },
  {
   "cell_type": "markdown",
   "metadata": {},
   "source": [
    "## Problem definition"
   ]
  },
  {
   "cell_type": "code",
   "execution_count": 4,
   "metadata": {},
   "outputs": [],
   "source": [
    "tx_min = 115\n",
    "tx_max = 281\n",
    "tx_interval = 15\n",
    "ty_min = 25\n",
    "ty_max = 176\n",
    "ty_interval = 75\n",
    "tx_points = numpy.arange(tx_min, tx_max, tx_interval)\n",
    "ty_points = numpy.arange(ty_min, ty_max, ty_interval)\n",
    "n_transmitters = len(tx_points) * len(ty_points)\n",
    "tx, ty = numpy.meshgrid(tx_points, ty_points)\n",
    "tx = tx.flatten()\n",
    "ty = ty.flatten()"
   ]
  },
  {
   "cell_type": "code",
   "execution_count": 5,
   "metadata": {},
   "outputs": [],
   "source": [
    "fiducial_id = numpy.arange(len(tx))\n",
    "line_id = numpy.zeros(len(tx), dtype=int)\n",
    "line_id[ty==ty_points[0]] = 0\n",
    "line_id[ty==ty_points[1]] = 1\n",
    "line_id[ty==ty_points[2]] = 2"
   ]
  },
  {
   "cell_type": "code",
   "execution_count": 6,
   "metadata": {},
   "outputs": [],
   "source": [
    "survey_setup = {\n",
    "    \"tx\": tx,                                                   # transmitter easting/x-position\n",
    "    \"ty\": ty,                                                   # transmitter northing/y-position\n",
    "    \"tz\": numpy.array([50]*n_transmitters),                     # transmitter height/z-position\n",
    "    \"tazi\": numpy.deg2rad(numpy.array([90]*n_transmitters)),    # transmitter azimuth\n",
    "    \"tincl\": numpy.deg2rad(numpy.array([6]*n_transmitters)),    # transmitter inclination\n",
    "    \"rx\": tx,                                                   # receiver easting/x-position\n",
    "    \"ry\": numpy.array([100]*n_transmitters),                    # receiver northing/y-position\n",
    "    \"rz\": numpy.array([50]*n_transmitters),                     # receiver height/z-position\n",
    "    \"trdx\": numpy.array([0]*n_transmitters),                    # transmitter receiver separation inline\n",
    "    \"trdy\": numpy.array([0]*n_transmitters),                    # transmitter receiver separation crossline\n",
    "    \"trdz\": numpy.array([0]*n_transmitters),                    # transmitter receiver separation vertical\n",
    "    \"fiducial_id\": fiducial_id,                                 # unique id for each transmitter\n",
    "    \"line_id\": line_id                  # id for each line\n",
    "}"
   ]
  },
  {
   "cell_type": "code",
   "execution_count": 7,
   "metadata": {},
   "outputs": [],
   "source": [
    "true_model = {\n",
    "    \"res\": numpy.array([300, 1000]), \n",
    "    \"thk\": numpy.array([25]), \n",
    "    \"peast\": numpy.array([175]), \n",
    "    \"pnorth\": numpy.array([100]), \n",
    "    \"ptop\": numpy.array([30]), \n",
    "    \"pres\": numpy.array([0.1]), \n",
    "    \"plngth1\": numpy.array([100]), \n",
    "    \"plngth2\": numpy.array([100]), \n",
    "    \"pwdth1\": numpy.array([0.1]), \n",
    "    \"pwdth2\": numpy.array([90]), \n",
    "    \"pdzm\": numpy.array([75]),\n",
    "    \"pdip\": numpy.array([60])\n",
    "}"
   ]
  },
  {
   "cell_type": "code",
   "execution_count": 8,
   "metadata": {},
   "outputs": [
    {
     "name": "stdout",
     "output_type": "stream",
     "text": [
      "['pdip', 'pdzm', 'peast', 'ptop', 'pwdth2']\n"
     ]
    }
   ],
   "source": [
    "forward = ForwardWrapper(true_model, problem_setup, system_spec, survey_setup,\n",
    "                         [\"pdip\",\"pdzm\", \"peast\", \"ptop\", \"pwdth2\"], data_returned=[\"vertical\"])"
   ]
  },
  {
   "cell_type": "code",
   "execution_count": 9,
   "metadata": {},
   "outputs": [
    {
     "data": {
      "text/plain": [
       "['pdip', 'pdzm', 'peast', 'ptop', 'pwdth2']"
      ]
     },
     "execution_count": 9,
     "metadata": {},
     "output_type": "execute_result"
    }
   ],
   "source": [
    "# check the order of parameters in a model vector\n",
    "forward.params_to_invert"
   ]
  },
  {
   "cell_type": "code",
   "execution_count": 10,
   "metadata": {},
   "outputs": [],
   "source": [
    "true_param_value = numpy.array([60,65, 175, 30, 90])"
   ]
  },
  {
   "cell_type": "markdown",
   "metadata": {},
   "source": [
    "**Generate synthetic data**"
   ]
  },
  {
   "cell_type": "code",
   "execution_count": 11,
   "metadata": {},
   "outputs": [],
   "source": [
    "data_noise = 0.01\n",
    "data_pred_true = forward(true_param_value)\n",
    "data_obs = data_pred_true + numpy.random.normal(0, data_noise, data_pred_true.shape)"
   ]
  },
  {
   "cell_type": "markdown",
   "metadata": {},
   "source": [
    "## Run the inversion"
   ]
  },
  {
   "cell_type": "markdown",
   "metadata": {},
   "source": [
    "**Initialise a model for inversion**"
   ]
  },
  {
   "cell_type": "code",
   "execution_count": 12,
   "metadata": {},
   "outputs": [],
   "source": [
    "init_param_value = numpy.array([45, 90, 150, 20, 80])"
   ]
  },
  {
   "cell_type": "markdown",
   "metadata": {},
   "source": [
    "**Define helper functions for inversion**"
   ]
  },
  {
   "cell_type": "code",
   "execution_count": 13,
   "metadata": {},
   "outputs": [],
   "source": [
    "def my_objective(model):\n",
    "    dpred = forward(model)\n",
    "    residual = dpred - data_obs\n",
    "    return residual.T @ residual\n",
    "\n",
    "def my_gradient(model):\n",
    "    dpred = forward(model)\n",
    "    jacobian = forward.jacobian(model)\n",
    "    residual = dpred - data_obs\n",
    "    return 2 * jacobian.T @ residual\n",
    "\n",
    "def my_hessian(model):\n",
    "    jacobian = forward.jacobian(model)\n",
    "    return 2 * jacobian.T @ jacobian\n",
    "\n",
    "class CallbackFunction:\n",
    "    def __init__(self):\n",
    "        self.x = None\n",
    "        self.i = 0\n",
    "\n",
    "    def __call__(self, xk):\n",
    "        print(f\"Iteration #{self.i+1}\")\n",
    "        print(f\"  objective value: {my_problem.objective(xk)}\")\n",
    "        self.x = xk\n",
    "        self.i += 1"
   ]
  },
  {
   "cell_type": "markdown",
   "metadata": {},
   "source": [
    "**Define CoFI problem**"
   ]
  },
  {
   "cell_type": "code",
   "execution_count": 14,
   "metadata": {},
   "outputs": [],
   "source": [
    "my_problem = cofi.BaseProblem()\n",
    "my_problem.set_objective(my_objective)\n",
    "my_problem.set_gradient(my_gradient)\n",
    "my_problem.set_hessian(my_hessian)\n",
    "my_problem.set_initial_model(init_param_value)"
   ]
  },
  {
   "cell_type": "markdown",
   "metadata": {},
   "source": [
    "**Define CoFI options**"
   ]
  },
  {
   "cell_type": "code",
   "execution_count": 15,
   "metadata": {},
   "outputs": [
    {
     "ename": "SyntaxError",
     "evalue": "unmatched ')' (3430497948.py, line 3)",
     "output_type": "error",
     "traceback": [
      "\u001b[0;36m  Cell \u001b[0;32mIn[15], line 3\u001b[0;36m\u001b[0m\n\u001b[0;31m    my_options.set_params(method=\"Newton-CG\",callback=CallbackFunction()))\u001b[0m\n\u001b[0m                                                                         ^\u001b[0m\n\u001b[0;31mSyntaxError\u001b[0m\u001b[0;31m:\u001b[0m unmatched ')'\n"
     ]
    }
   ],
   "source": [
    "my_options = cofi.InversionOptions()\n",
    "my_options.set_tool(\"scipy.optimize.minimize\")\n",
    "my_options.set_params(method=\"Newton-CG\",callback=CallbackFunction())"
   ]
  },
  {
   "cell_type": "markdown",
   "metadata": {},
   "source": [
    "**Define CoFI inversion**"
   ]
  },
  {
   "cell_type": "code",
   "execution_count": null,
   "metadata": {},
   "outputs": [],
   "source": [
    "my_inversion = cofi.Inversion(my_problem, my_options)\n",
    "my_result = my_inversion.run()\n",
    "print(my_result.model)"
   ]
  },
  {
   "cell_type": "markdown",
   "metadata": {},
   "source": [
    "## Plotting"
   ]
  },
  {
   "cell_type": "markdown",
   "metadata": {},
   "source": [
    "**Plotting the data**"
   ]
  },
  {
   "cell_type": "code",
   "execution_count": null,
   "metadata": {},
   "outputs": [],
   "source": [
    "_, ax = plt.subplots()\n",
    "plot_predicted_data(true_param_value, forward, \"data from true model\", ax, color=\"purple\")\n",
    "plot_predicted_data(init_param_value, forward, \"data from init model\", ax, color=\"green\", linestyle=\":\")\n",
    "plot_predicted_data(my_result.model, forward, \"data from inverted model\", ax, color=\"red\", linestyle=\"-.\")\n",
    "ax.legend(loc=\"upper center\")\n",
    "ax.set_title(\"vertical\")\n",
    "plt.tight_layout()"
   ]
  },
  {
   "cell_type": "code",
   "execution_count": null,
   "metadata": {},
   "outputs": [],
   "source": [
    "idx_to_plot = numpy.arange(8, 30)       # (0, 44)\n",
    "\n",
    "_, axes = plt.subplots(3, 1, figsize=(7,8))\n",
    "\n",
    "for i in range(3):\n",
    "    plot_synth_vertical_vs_tx(true_param_value, forward, \"data from true model\", gate_idx=idx_to_plot, \n",
    "                                        line_id=[i], ax=axes[i], color=\"purple\")\n",
    "    plot_synth_vertical_vs_tx(init_param_value, forward, \"data from init model\", gate_idx=idx_to_plot, \n",
    "                                        line_id=[i], ax=axes[i], color=\"green\", linestyle=\":\")\n",
    "    plot_synth_vertical_vs_tx(my_result.model, forward, \"data from inverted model\", gate_idx=idx_to_plot, \n",
    "                                        line_id=[i], ax=axes[i], color=\"red\", linestyle=\"-.\")\n",
    "ax.legend(loc=\"upper center\")\n",
    "plt.tight_layout()"
   ]
  },
  {
   "cell_type": "markdown",
   "metadata": {},
   "source": [
    "**Plotting the model**"
   ]
  },
  {
   "cell_type": "code",
   "execution_count": null,
   "metadata": {},
   "outputs": [],
   "source": [
    "_, axes = plt.subplots(2, 2, sharex=\"col\")\n",
    "axes[1,1].axis(\"off\")\n",
    "plot_plate_faces(\n",
    "    \"plate_true\", forward, true_param_value, \n",
    "    axes[0,0], axes[0,1], axes[1,0], color=\"purple\", label=\"true model\"\n",
    ")\n",
    "plot_plate_faces(\n",
    "    \"plate_init\", forward, init_param_value, \n",
    "    axes[0,0], axes[0,1], axes[1,0], color=\"green\", label=\"init model\"\n",
    ")\n",
    "plot_plate_faces(\n",
    "    \"plate_inverted\", forward, my_result.model, \n",
    "    axes[0,0], axes[0,1], axes[1,0], color=\"red\", label=\"inverted model\", linestyle=\"dotted\"\n",
    ")\n",
    "axes[0,0].legend()\n",
    "axes[0,1].legend()\n",
    "axes[1,0].legend()\n",
    "plt.tight_layout()"
   ]
  },
  {
   "cell_type": "code",
   "execution_count": null,
   "metadata": {},
   "outputs": [],
   "source": [
    "_, ax = plt.subplots(1, 1)\n",
    "plot_plate_faces_single(\"plate_true\", \"xz\", forward, true_param_value, ax, color=\"purple\", label=\"true model\")\n",
    "plot_plate_faces_single(\"plate_init\", \"xz\", forward, init_param_value, ax, color=\"green\", label=\"init model\")\n",
    "plot_plate_faces_single(\"plate_inverted\", \"xz\", forward, my_result.model, ax, color=\"red\", label=\"inverted model\", linestyle=\"dotted\")\n",
    "ax.legend();"
   ]
  },
  {
   "cell_type": "markdown",
   "metadata": {},
   "source": [
    "---\n",
    "## Watermark\n",
    "\n",
    "<!-- Feel free to add more modules in the watermark_list below, if more packages are used -->\n",
    "<!-- Otherwise please leave the below code cell unchanged -->"
   ]
  },
  {
   "cell_type": "code",
   "execution_count": null,
   "metadata": {},
   "outputs": [],
   "source": [
    "watermark_list = [\"cofi\", \"numpy\", \"scipy\", \"matplotlib\"]\n",
    "for pkg in watermark_list:\n",
    "    pkg_var = __import__(pkg)\n",
    "    print(pkg, getattr(pkg_var, \"__version__\"))"
   ]
  }
 ],
 "metadata": {
  "interpreter": {
   "hash": "82521f8c6d46dbe13b9e99c6a95164e7b000b3cca9173433679abe48ca711ce5"
  },
  "kernelspec": {
   "display_name": "Python 3 (ipykernel)",
   "language": "python",
   "name": "python3"
  },
  "language_info": {
   "codemirror_mode": {
    "name": "ipython",
    "version": 3
   },
   "file_extension": ".py",
   "mimetype": "text/x-python",
   "name": "python",
   "nbconvert_exporter": "python",
   "pygments_lexer": "ipython3",
   "version": "3.12.4"
  }
 },
 "nbformat": 4,
 "nbformat_minor": 4
}
