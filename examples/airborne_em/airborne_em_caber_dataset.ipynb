{
 "cells": [
  {
   "cell_type": "markdown",
   "metadata": {},
   "source": [
    "# Inversion of Airborne Electromagnetic for Basement Conductors (Caber Dataset)\n",
    "\n",
    "<!-- Please leave the cell below as it is -->"
   ]
  },
  {
   "cell_type": "markdown",
   "metadata": {},
   "source": [
    "[![Open In Colab](https://img.shields.io/badge/open%20in-Colab-b5e2fa?logo=googlecolab&style=flat-square&color=ffd670)](https://colab.research.google.com/github/inlab-geo/cofi-examples/blob/main/examples/airborne_em/airborne_em_caber_dataset.ipynb)"
   ]
  },
  {
   "cell_type": "markdown",
   "metadata": {},
   "source": [
    "<!-- Again, please don't touch the markdown cell above. We'll generate badge \n",
    "     automatically from the above cell. -->\n",
    "\n",
    "<!-- This cell describes things related to environment setup, so please add more text \n",
    "     if something special (not listed below) is needed to run this notebook -->\n",
    "\n",
    "> If you are running this notebook locally, make sure you've followed [steps here](https://github.com/inlab-geo/cofi-examples#run-the-examples-with-cofi-locally)\n",
    "to set up the environment. (This [environment.yml](https://github.com/inlab-geo/cofi-examples/blob/main/envs/environment.yml) file\n",
    "specifies a list of packages required to run the notebooks)"
   ]
  },
  {
   "cell_type": "code",
   "execution_count": 1,
   "metadata": {},
   "outputs": [],
   "source": [
    "# -------------------------------------------------------- #\n",
    "#                                                          #\n",
    "#     Uncomment below to set up environment on \"colab\"     #\n",
    "#                                                          #\n",
    "# -------------------------------------------------------- #\n",
    "\n",
    "# !pip install -U cofi\n",
    "# !pip install git+https://github.com/JuergHauser/PyP223.git"
   ]
  },
  {
   "cell_type": "code",
   "execution_count": 2,
   "metadata": {},
   "outputs": [],
   "source": [
    "# !git clone https://github.com/inlab-geo/cofi-examples.git\n",
    "# %cd cofi-examples/examples/airborne_em"
   ]
  },
  {
   "cell_type": "code",
   "execution_count": 3,
   "metadata": {},
   "outputs": [],
   "source": [
    "import numpy\n",
    "import pandas\n",
    "import matplotlib.pyplot as plt\n",
    "import cofi\n",
    "\n",
    "from forward_lib import (\n",
    "    ForwardWrapper, \n",
    "    plot_predicted_data, \n",
    "    plot_field_data, \n",
    "    plot_vertical_vs_horizontal_distance, \n",
    "    plot_plate_faces, \n",
    "    plot_plate_faces_single\n",
    ")\n",
    "\n",
    "numpy.random.seed(42)"
   ]
  },
  {
   "cell_type": "markdown",
   "metadata": {},
   "source": [
    "## Read dataset"
   ]
  },
  {
   "cell_type": "code",
   "execution_count": 4,
   "metadata": {},
   "outputs": [
    {
     "name": "stdout",
     "output_type": "stream",
     "text": [
      "(3201, 2)\n"
     ]
    },
    {
     "data": {
      "text/html": [
       "<div>\n",
       "<style scoped>\n",
       "    .dataframe tbody tr th:only-of-type {\n",
       "        vertical-align: middle;\n",
       "    }\n",
       "\n",
       "    .dataframe tbody tr th {\n",
       "        vertical-align: top;\n",
       "    }\n",
       "\n",
       "    .dataframe thead th {\n",
       "        text-align: right;\n",
       "    }\n",
       "</style>\n",
       "<table border=\"1\" class=\"dataframe\">\n",
       "  <thead>\n",
       "    <tr style=\"text-align: right;\">\n",
       "      <th></th>\n",
       "      <th>Time</th>\n",
       "      <th>TX_Current</th>\n",
       "    </tr>\n",
       "  </thead>\n",
       "  <tbody>\n",
       "    <tr>\n",
       "      <th>0</th>\n",
       "      <td>0.000000</td>\n",
       "      <td>0.351242</td>\n",
       "    </tr>\n",
       "    <tr>\n",
       "      <th>1</th>\n",
       "      <td>0.005208</td>\n",
       "      <td>0.584812</td>\n",
       "    </tr>\n",
       "    <tr>\n",
       "      <th>2</th>\n",
       "      <td>0.010417</td>\n",
       "      <td>0.916027</td>\n",
       "    </tr>\n",
       "    <tr>\n",
       "      <th>3</th>\n",
       "      <td>0.015625</td>\n",
       "      <td>1.356280</td>\n",
       "    </tr>\n",
       "    <tr>\n",
       "      <th>4</th>\n",
       "      <td>0.020833</td>\n",
       "      <td>1.908350</td>\n",
       "    </tr>\n",
       "  </tbody>\n",
       "</table>\n",
       "</div>"
      ],
      "text/plain": [
       "       Time  TX_Current\n",
       "0  0.000000    0.351242\n",
       "1  0.005208    0.584812\n",
       "2  0.010417    0.916027\n",
       "3  0.015625    1.356280\n",
       "4  0.020833    1.908350"
      ]
     },
     "execution_count": 4,
     "metadata": {},
     "output_type": "execute_result"
    }
   ],
   "source": [
    "waveform = pandas.read_csv(\"../../data/airborne_em_caber/Caber_Waveform_Final.csv\")\n",
    "\n",
    "print(waveform.shape)\n",
    "waveform.head()"
   ]
  },
  {
   "cell_type": "code",
   "execution_count": 5,
   "metadata": {},
   "outputs": [
    {
     "name": "stdout",
     "output_type": "stream",
     "text": [
      "(5726, 210)\n"
     ]
    },
    {
     "data": {
      "text/html": [
       "<div>\n",
       "<style scoped>\n",
       "    .dataframe tbody tr th:only-of-type {\n",
       "        vertical-align: middle;\n",
       "    }\n",
       "\n",
       "    .dataframe tbody tr th {\n",
       "        vertical-align: top;\n",
       "    }\n",
       "\n",
       "    .dataframe thead th {\n",
       "        text-align: right;\n",
       "    }\n",
       "</style>\n",
       "<table border=\"1\" class=\"dataframe\">\n",
       "  <thead>\n",
       "    <tr style=\"text-align: right;\">\n",
       "      <th></th>\n",
       "      <th>BFx[0]</th>\n",
       "      <th>BFx[1]</th>\n",
       "      <th>BFx[2]</th>\n",
       "      <th>BFx[3]</th>\n",
       "      <th>BFx[4]</th>\n",
       "      <th>BFx[5]</th>\n",
       "      <th>BFx[6]</th>\n",
       "      <th>BFx[7]</th>\n",
       "      <th>BFx[8]</th>\n",
       "      <th>BFx[9]</th>\n",
       "      <th>...</th>\n",
       "      <th>SFz[43]</th>\n",
       "      <th>SFz[44]</th>\n",
       "      <th>SFz[45]</th>\n",
       "      <th>SFz[46]</th>\n",
       "      <th>SFz[47]</th>\n",
       "      <th>SFz[48]</th>\n",
       "      <th>SFz[49]</th>\n",
       "      <th>x</th>\n",
       "      <th>y</th>\n",
       "      <th>z</th>\n",
       "    </tr>\n",
       "  </thead>\n",
       "  <tbody>\n",
       "    <tr>\n",
       "      <th>11555</th>\n",
       "      <td>NaN</td>\n",
       "      <td>NaN</td>\n",
       "      <td>NaN</td>\n",
       "      <td>NaN</td>\n",
       "      <td>NaN</td>\n",
       "      <td>NaN</td>\n",
       "      <td>NaN</td>\n",
       "      <td>NaN</td>\n",
       "      <td>NaN</td>\n",
       "      <td>NaN</td>\n",
       "      <td>...</td>\n",
       "      <td>3.028266e-05</td>\n",
       "      <td>0.000154</td>\n",
       "      <td>0.000121</td>\n",
       "      <td>-0.000034</td>\n",
       "      <td>0.000019</td>\n",
       "      <td>NaN</td>\n",
       "      <td>NaN</td>\n",
       "      <td>709369.992210</td>\n",
       "      <td>5.512354e+06</td>\n",
       "      <td>391.774920</td>\n",
       "    </tr>\n",
       "    <tr>\n",
       "      <th>11556</th>\n",
       "      <td>NaN</td>\n",
       "      <td>NaN</td>\n",
       "      <td>NaN</td>\n",
       "      <td>NaN</td>\n",
       "      <td>NaN</td>\n",
       "      <td>NaN</td>\n",
       "      <td>NaN</td>\n",
       "      <td>NaN</td>\n",
       "      <td>NaN</td>\n",
       "      <td>NaN</td>\n",
       "      <td>...</td>\n",
       "      <td>1.890258e-05</td>\n",
       "      <td>0.000155</td>\n",
       "      <td>0.000129</td>\n",
       "      <td>-0.000039</td>\n",
       "      <td>0.000025</td>\n",
       "      <td>NaN</td>\n",
       "      <td>NaN</td>\n",
       "      <td>709372.239799</td>\n",
       "      <td>5.512356e+06</td>\n",
       "      <td>391.933380</td>\n",
       "    </tr>\n",
       "    <tr>\n",
       "      <th>11557</th>\n",
       "      <td>NaN</td>\n",
       "      <td>NaN</td>\n",
       "      <td>NaN</td>\n",
       "      <td>NaN</td>\n",
       "      <td>NaN</td>\n",
       "      <td>NaN</td>\n",
       "      <td>NaN</td>\n",
       "      <td>NaN</td>\n",
       "      <td>NaN</td>\n",
       "      <td>NaN</td>\n",
       "      <td>...</td>\n",
       "      <td>8.561633e-06</td>\n",
       "      <td>0.000156</td>\n",
       "      <td>0.000137</td>\n",
       "      <td>-0.000042</td>\n",
       "      <td>0.000033</td>\n",
       "      <td>NaN</td>\n",
       "      <td>NaN</td>\n",
       "      <td>709374.484443</td>\n",
       "      <td>5.512359e+06</td>\n",
       "      <td>392.089797</td>\n",
       "    </tr>\n",
       "    <tr>\n",
       "      <th>11558</th>\n",
       "      <td>NaN</td>\n",
       "      <td>NaN</td>\n",
       "      <td>NaN</td>\n",
       "      <td>NaN</td>\n",
       "      <td>NaN</td>\n",
       "      <td>NaN</td>\n",
       "      <td>NaN</td>\n",
       "      <td>NaN</td>\n",
       "      <td>NaN</td>\n",
       "      <td>NaN</td>\n",
       "      <td>...</td>\n",
       "      <td>-4.981635e-07</td>\n",
       "      <td>0.000158</td>\n",
       "      <td>0.000145</td>\n",
       "      <td>-0.000043</td>\n",
       "      <td>0.000042</td>\n",
       "      <td>NaN</td>\n",
       "      <td>NaN</td>\n",
       "      <td>709376.726018</td>\n",
       "      <td>5.512361e+06</td>\n",
       "      <td>392.244661</td>\n",
       "    </tr>\n",
       "    <tr>\n",
       "      <th>11559</th>\n",
       "      <td>NaN</td>\n",
       "      <td>NaN</td>\n",
       "      <td>NaN</td>\n",
       "      <td>NaN</td>\n",
       "      <td>NaN</td>\n",
       "      <td>NaN</td>\n",
       "      <td>NaN</td>\n",
       "      <td>NaN</td>\n",
       "      <td>NaN</td>\n",
       "      <td>NaN</td>\n",
       "      <td>...</td>\n",
       "      <td>-8.034243e-06</td>\n",
       "      <td>0.000161</td>\n",
       "      <td>0.000152</td>\n",
       "      <td>-0.000043</td>\n",
       "      <td>0.000052</td>\n",
       "      <td>NaN</td>\n",
       "      <td>NaN</td>\n",
       "      <td>709378.964488</td>\n",
       "      <td>5.512364e+06</td>\n",
       "      <td>392.398422</td>\n",
       "    </tr>\n",
       "  </tbody>\n",
       "</table>\n",
       "<p>5 rows × 210 columns</p>\n",
       "</div>"
      ],
      "text/plain": [
       "       BFx[0]  BFx[1]  BFx[2]  BFx[3]  BFx[4]  BFx[5]  BFx[6]  BFx[7]  BFx[8]  \\\n",
       "11555     NaN     NaN     NaN     NaN     NaN     NaN     NaN     NaN     NaN   \n",
       "11556     NaN     NaN     NaN     NaN     NaN     NaN     NaN     NaN     NaN   \n",
       "11557     NaN     NaN     NaN     NaN     NaN     NaN     NaN     NaN     NaN   \n",
       "11558     NaN     NaN     NaN     NaN     NaN     NaN     NaN     NaN     NaN   \n",
       "11559     NaN     NaN     NaN     NaN     NaN     NaN     NaN     NaN     NaN   \n",
       "\n",
       "       BFx[9]  ...       SFz[43]   SFz[44]   SFz[45]   SFz[46]   SFz[47]  \\\n",
       "11555     NaN  ...  3.028266e-05  0.000154  0.000121 -0.000034  0.000019   \n",
       "11556     NaN  ...  1.890258e-05  0.000155  0.000129 -0.000039  0.000025   \n",
       "11557     NaN  ...  8.561633e-06  0.000156  0.000137 -0.000042  0.000033   \n",
       "11558     NaN  ... -4.981635e-07  0.000158  0.000145 -0.000043  0.000042   \n",
       "11559     NaN  ... -8.034243e-06  0.000161  0.000152 -0.000043  0.000052   \n",
       "\n",
       "       SFz[48]  SFz[49]              x             y           z  \n",
       "11555      NaN      NaN  709369.992210  5.512354e+06  391.774920  \n",
       "11556      NaN      NaN  709372.239799  5.512356e+06  391.933380  \n",
       "11557      NaN      NaN  709374.484443  5.512359e+06  392.089797  \n",
       "11558      NaN      NaN  709376.726018  5.512361e+06  392.244661  \n",
       "11559      NaN      NaN  709378.964488  5.512364e+06  392.398422  \n",
       "\n",
       "[5 rows x 210 columns]"
      ]
     },
     "execution_count": 5,
     "metadata": {},
     "output_type": "execute_result"
    }
   ],
   "source": [
    "survey = pandas.read_csv(\"../../data/airborne_em_caber/Caber_26-10-2012_Final.csv\")\n",
    "caber = survey.loc[(survey['x'] >= 709100) & (survey['y'] <= 5515000)]\n",
    "\n",
    "print(caber.shape)\n",
    "caber.head()"
   ]
  },
  {
   "cell_type": "code",
   "execution_count": 6,
   "metadata": {},
   "outputs": [
    {
     "name": "stdout",
     "output_type": "stream",
     "text": [
      "(34, 5)\n"
     ]
    },
    {
     "data": {
      "text/html": [
       "<div>\n",
       "<style scoped>\n",
       "    .dataframe tbody tr th:only-of-type {\n",
       "        vertical-align: middle;\n",
       "    }\n",
       "\n",
       "    .dataframe tbody tr th {\n",
       "        vertical-align: top;\n",
       "    }\n",
       "\n",
       "    .dataframe thead th {\n",
       "        text-align: right;\n",
       "    }\n",
       "</style>\n",
       "<table border=\"1\" class=\"dataframe\">\n",
       "  <thead>\n",
       "    <tr style=\"text-align: right;\">\n",
       "      <th></th>\n",
       "      <th>Index</th>\n",
       "      <th>Middle</th>\n",
       "      <th>Start</th>\n",
       "      <th>End</th>\n",
       "      <th>Width</th>\n",
       "    </tr>\n",
       "  </thead>\n",
       "  <tbody>\n",
       "    <tr>\n",
       "      <th>0</th>\n",
       "      <td>14</td>\n",
       "      <td>96.0</td>\n",
       "      <td>90.0</td>\n",
       "      <td>103.0</td>\n",
       "      <td>13.0</td>\n",
       "    </tr>\n",
       "    <tr>\n",
       "      <th>1</th>\n",
       "      <td>15</td>\n",
       "      <td>110.0</td>\n",
       "      <td>103.0</td>\n",
       "      <td>118.0</td>\n",
       "      <td>15.0</td>\n",
       "    </tr>\n",
       "    <tr>\n",
       "      <th>2</th>\n",
       "      <td>16</td>\n",
       "      <td>126.0</td>\n",
       "      <td>118.0</td>\n",
       "      <td>136.0</td>\n",
       "      <td>18.0</td>\n",
       "    </tr>\n",
       "    <tr>\n",
       "      <th>3</th>\n",
       "      <td>17</td>\n",
       "      <td>145.0</td>\n",
       "      <td>136.0</td>\n",
       "      <td>156.0</td>\n",
       "      <td>20.0</td>\n",
       "    </tr>\n",
       "    <tr>\n",
       "      <th>4</th>\n",
       "      <td>18</td>\n",
       "      <td>167.0</td>\n",
       "      <td>156.0</td>\n",
       "      <td>179.0</td>\n",
       "      <td>23.0</td>\n",
       "    </tr>\n",
       "  </tbody>\n",
       "</table>\n",
       "</div>"
      ],
      "text/plain": [
       "   Index  Middle  Start    End  Width\n",
       "0     14    96.0   90.0  103.0   13.0\n",
       "1     15   110.0  103.0  118.0   15.0\n",
       "2     16   126.0  118.0  136.0   18.0\n",
       "3     17   145.0  136.0  156.0   20.0\n",
       "4     18   167.0  156.0  179.0   23.0"
      ]
     },
     "execution_count": 6,
     "metadata": {},
     "output_type": "execute_result"
    }
   ],
   "source": [
    "# read time windows from readme file\n",
    "index = []\n",
    "middle = []\n",
    "start = []\n",
    "end = []\n",
    "width = []\n",
    "readme = open(\"../../data/airborne_em_caber/CaberNorth_readme.txt\", \"r\")\n",
    "\n",
    "for lino, line in enumerate(readme.readlines()):\n",
    "    if lino >= 110 and lino <= 143:\n",
    "        index.append(int(line.split()[0]))\n",
    "        middle.append(float(line.split()[1]))\n",
    "        start.append(float(line.split()[2]))\n",
    "        end.append(float(line.split()[3]))\n",
    "        width.append(float(line.split()[4]))\n",
    "\n",
    "windows = pandas.DataFrame(data={'Index':index,'Middle':middle,'Start':start,'End':end,'Width':width})\n",
    "\n",
    "print(windows.shape)\n",
    "windows.head()"
   ]
  },
  {
   "cell_type": "code",
   "execution_count": 7,
   "metadata": {},
   "outputs": [],
   "source": [
    "data_x = windows[\"Middle\"].to_numpy() * 1e-6\n",
    "data_obs = []\n",
    "\n",
    "for i in range(0, caber.shape[0]):     # for each transmitter\n",
    "    for j in range(14, 48):         # for each mid time of gate\n",
    "        data_obs.append(caber.iloc[i][f\"SFz[{j}]\"])\n",
    "\n",
    "data_obs = numpy.array(data_obs)"
   ]
  },
  {
   "cell_type": "code",
   "execution_count": 8,
   "metadata": {},
   "outputs": [
    {
     "data": {
      "image/png": "[encoded data removed]",
      "text/plain": [
       "<Figure size 600x300 with 1 Axes>"
      ]
     },
     "metadata": {},
     "output_type": "display_data"
    }
   ],
   "source": [
    "data_obs_for_plotting = []\n",
    "\n",
    "for i in range(0, caber.shape[0], 1000):\n",
    "    for j in range(14, 48):\n",
    "        data_obs_for_plotting.append(caber.iloc[i][f\"SFz[{j}]\"])\n",
    "\n",
    "_, ax = plt.subplots(1, 1, figsize=(6, 3))\n",
    "plot_field_data(data_x, data_obs_for_plotting, \"observed data\", ax)"
   ]
  },
  {
   "cell_type": "markdown",
   "metadata": {},
   "source": [
    "## Problem and system specification"
   ]
  },
  {
   "cell_type": "code",
   "execution_count": 9,
   "metadata": {},
   "outputs": [],
   "source": [
    "swx = waveform[\"Time\"].to_numpy() * 1e-6\n",
    "\n",
    "topn = windows[\"Start\"].to_numpy() * 1e-6\n",
    "tcls = windows[\"End\"].to_numpy() * 1e-6\n",
    "\n",
    "survey_data = {\n",
    "    \"nsx\": len(swx), \n",
    "    \"nchnl\": len(topn), \n",
    "    \"swx\": swx, \n",
    "    \"waveform\": waveform[\"TX_Current\"].to_numpy(), \n",
    "    \"topn\": topn, \n",
    "    \"tcls\": tcls\n",
    "}"
   ]
  },
  {
   "cell_type": "code",
   "execution_count": 10,
   "metadata": {},
   "outputs": [],
   "source": [
    "system_spec = {\n",
    "    \"ncmp\": 2, \n",
    "    \"cmp\": 2, \n",
    "    \"ntrn\": 4, \n",
    "    \"txarea\": 3848./4., \n",
    "    \"ampt\": 0\n",
    "}"
   ]
  },
  {
   "cell_type": "code",
   "execution_count": 11,
   "metadata": {},
   "outputs": [],
   "source": [
    "problem_setup = {\n",
    "    \"nlyr\": 2,                                  # number of layers (icl. halfspace)\n",
    "    \"nstat\": 1,                                 # numebr of fiducials/stations\n",
    "    \"nplt\": 1,                                  # number of thin plates\n",
    "    \"cellw\": 25,                                # cell width\n",
    "    \"pthk\": numpy.array([1]),                   # plates thickness\n",
    "    \"plng\": numpy.deg2rad(numpy.array([0])),    # plates plunge (orientation)\n",
    "}"
   ]
  },
  {
   "cell_type": "code",
   "execution_count": 12,
   "metadata": {},
   "outputs": [],
   "source": [
    "n_transmitters = caber.shape[0]\n",
    "fiducial_id = numpy.arange(n_transmitters)\n",
    "tx = caber.x.to_numpy()\n",
    "ty = caber.y.to_numpy()\n",
    "tz = caber.z.to_numpy()\n",
    "\n",
    "transmitters_setup = {\n",
    "    \"tx\": tx,                                                   # transmitter easting/x-position\n",
    "    \"ty\": ty,                                                   # transmitter northing/y-position\n",
    "    \"tz\": tz,                                                   # transmitter height/z-position\n",
    "    \"tazi\": numpy.deg2rad(numpy.array([90]*n_transmitters)),    # transmitter azimuth\n",
    "    \"tincl\": numpy.deg2rad(numpy.array([6]*n_transmitters)),    # transmitter inclination\n",
    "    \"rx\": tx,                                                   # receiver easting/x-position\n",
    "    \"ry\": ty,                                                   # receiver northing/y-position\n",
    "    \"rz\": tz,                                                   # receiver height/z-position\n",
    "    \"trdx\": numpy.array([0]*n_transmitters),                    # transmitter receiver separation inline\n",
    "    \"trdy\": numpy.array([0]*n_transmitters),                    # transmitter receiver separation crossline\n",
    "    \"trdz\": numpy.array([0]*n_transmitters),                    # transmitter receiver separation vertical\n",
    "    \"fiducial_id\": fiducial_id,                                 # unique id for each transmitter\n",
    "}"
   ]
  },
  {
   "cell_type": "code",
   "execution_count": 13,
   "metadata": {},
   "outputs": [],
   "source": [
    "example_model_params = {\n",
    "    \"res\": numpy.array([1000., 1000.]),        \n",
    "    \"thk\": numpy.array([5.]), \n",
    "    \"peast\": numpy.array([175]), \n",
    "    \"pnorth\": numpy.array([100]), \n",
    "    \"ptop\": numpy.array([30]), \n",
    "    \"pres\": numpy.array([0.1]), \n",
    "    \"plngth1\": numpy.array([100]), \n",
    "    \"plngth2\": numpy.array([100]), \n",
    "    \"pwdth1\": numpy.array([0.1]), \n",
    "    \"pwdth2\": numpy.array([90]), \n",
    "    \"pdzm\": numpy.array([75]),\n",
    "    \"pdip\": numpy.array([60])\n",
    "}"
   ]
  },
  {
   "cell_type": "markdown",
   "metadata": {},
   "source": [
    "## Forward utility definition"
   ]
  },
  {
   "cell_type": "code",
   "execution_count": 14,
   "metadata": {},
   "outputs": [],
   "source": [
    "forward = ForwardWrapper(example_model_params, problem_setup, system_spec, transmitters_setup, survey_data, \n",
    "                         [\"pdip\", \"peast\", \"ptop\", \"pwdth2\"], data_returned=[\"vertical\"])"
   ]
  },
  {
   "cell_type": "code",
   "execution_count": 15,
   "metadata": {},
   "outputs": [
    {
     "data": {
      "text/plain": [
       "['pdip', 'peast', 'ptop', 'pwdth2']"
      ]
     },
     "execution_count": 15,
     "metadata": {},
     "output_type": "execute_result"
    }
   ],
   "source": [
    "# check the order of parameters in a model vector\n",
    "forward.params_to_invert"
   ]
  },
  {
   "cell_type": "code",
   "execution_count": 16,
   "metadata": {},
   "outputs": [],
   "source": [
    "true_param_value = numpy.array([60, 175, 30, 90])"
   ]
  },
  {
   "cell_type": "markdown",
   "metadata": {},
   "source": [
    "## Run the inversion"
   ]
  },
  {
   "cell_type": "markdown",
   "metadata": {},
   "source": [
    "**Initialise a model for inversion**"
   ]
  },
  {
   "cell_type": "code",
   "execution_count": 17,
   "metadata": {},
   "outputs": [],
   "source": [
    "init_param_value = numpy.array([45, 150, 20, 80])"
   ]
  },
  {
   "cell_type": "markdown",
   "metadata": {},
   "source": [
    "**Define helper functions for inversion**"
   ]
  },
  {
   "cell_type": "code",
   "execution_count": 18,
   "metadata": {},
   "outputs": [],
   "source": [
    "def my_objective(model):\n",
    "    dpred = forward(model)\n",
    "    residual = dpred - data_obs\n",
    "    return residual.T @ residual\n",
    "\n",
    "def my_gradient(model):\n",
    "    dpred = forward(model)\n",
    "    jacobian = forward.jacobian(model)\n",
    "    residual = dpred - data_obs\n",
    "    return 2 * jacobian.T @ residual\n",
    "\n",
    "def my_hessian(model):\n",
    "    jacobian = forward.jacobian(model)\n",
    "    return 2 * jacobian.T @ jacobian"
   ]
  },
  {
   "cell_type": "markdown",
   "metadata": {},
   "source": [
    "**Define CoFI problem**"
   ]
  },
  {
   "cell_type": "code",
   "execution_count": 19,
   "metadata": {},
   "outputs": [],
   "source": [
    "my_problem = cofi.BaseProblem()\n",
    "my_problem.set_objective(my_objective)\n",
    "my_problem.set_gradient(my_gradient)\n",
    "my_problem.set_hessian(my_hessian)\n",
    "my_problem.set_initial_model(init_param_value)"
   ]
  },
  {
   "cell_type": "markdown",
   "metadata": {},
   "source": [
    "**Define CoFI options**"
   ]
  },
  {
   "cell_type": "code",
   "execution_count": 20,
   "metadata": {},
   "outputs": [
    {
     "ename": "",
     "evalue": "",
     "output_type": "error",
     "traceback": [
      "\u001b[1;31mThe Kernel crashed while executing code in the current cell or a previous cell. \n",
      "\u001b[1;31mPlease review the code in the cell(s) to identify a possible cause of the failure. \n",
      "\u001b[1;31mClick <a href='https://aka.ms/vscodeJupyterKernelCrash'>here</a> for more info. \n",
      "\u001b[1;31mView Jupyter <a href='command:jupyter.viewOutput'>log</a> for further details."
     ]
    }
   ],
   "source": [
    "my_options = cofi.InversionOptions()\n",
    "my_options.set_tool(\"scipy.optimize.minimize\")\n",
    "my_options.set_params(method=\"Newton-CG\")"
   ]
  },
  {
   "cell_type": "markdown",
   "metadata": {},
   "source": [
    "**Define CoFI inversion**"
   ]
  },
  {
   "cell_type": "code",
   "execution_count": 21,
   "metadata": {},
   "outputs": [],
   "source": [
    "my_inversion = cofi.Inversion(my_problem, my_options)\n",
    "my_result = my_inversion.run()\n",
    "print(my_result.model)"
   ]
  },
  {
   "cell_type": "markdown",
   "metadata": {},
   "source": [
    "## Plotting"
   ]
  },
  {
   "cell_type": "markdown",
   "metadata": {},
   "source": [
    "**Plotting the data**"
   ]
  },
  {
   "cell_type": "code",
   "execution_count": null,
   "metadata": {},
   "outputs": [],
   "source": [
    "_, ax = plt.subplots()\n",
    "plot_predicted_data(true_param_value, forward, \"data from true model\", ax, color=\"purple\")\n",
    "plot_predicted_data(init_param_value, forward, \"data from init model\", ax, color=\"green\", linestyle=\":\")\n",
    "plot_predicted_data(my_result.model, forward, \"data from inverted model\", ax, color=\"red\", linestyle=\"-.\")\n",
    "ax.legend(loc=\"upper center\")\n",
    "ax.set_title(\"vertical\")\n",
    "plt.tight_layout()"
   ]
  },
  {
   "cell_type": "code",
   "execution_count": null,
   "metadata": {},
   "outputs": [],
   "source": [
    "idx_to_plot = numpy.arange(8, 30)\n",
    "\n",
    "_, ax = plt.subplots(1, 1, figsize=(8,4))\n",
    "plot_vertical_vs_horizontal_distance(true_param_value, forward, \"data from true model\", data_idx=idx_to_plot, ax=ax, color=\"purple\")\n",
    "plot_vertical_vs_horizontal_distance(init_param_value, forward, \"data from init model\", data_idx=idx_to_plot, ax=ax, color=\"green\", linestyle=\":\")\n",
    "plot_vertical_vs_horizontal_distance(my_result.model, forward, \"data from inverted model\", data_idx=idx_to_plot, ax=ax, color=\"red\", linestyle=\"-.\")\n",
    "ax.legend(loc=\"upper center\")\n",
    "plt.tight_layout()"
   ]
  },
  {
   "cell_type": "markdown",
   "metadata": {},
   "source": [
    "**Plotting the model**"
   ]
  },
  {
   "cell_type": "code",
   "execution_count": null,
   "metadata": {},
   "outputs": [],
   "source": [
    "_, axes = plt.subplots(2, 2, sharex=\"col\")\n",
    "axes[1,1].axis(\"off\")\n",
    "plot_plate_faces(\n",
    "    \"plate_true\", forward, true_param_value, \n",
    "    axes[0,0], axes[0,1], axes[1,0], color=\"purple\", label=\"true model\"\n",
    ")\n",
    "plot_plate_faces(\n",
    "    \"plate_init\", forward, init_param_value, \n",
    "    axes[0,0], axes[0,1], axes[1,0], color=\"green\", label=\"init model\"\n",
    ")\n",
    "plot_plate_faces(\n",
    "    \"plate_inverted\", forward, my_result.model, \n",
    "    axes[0,0], axes[0,1], axes[1,0], color=\"red\", label=\"inverted model\", linestyle=\"dotted\"\n",
    ")\n",
    "axes[0,0].legend()\n",
    "axes[0,1].legend()\n",
    "axes[1,0].legend()\n",
    "plt.tight_layout()"
   ]
  },
  {
   "cell_type": "code",
   "execution_count": null,
   "metadata": {},
   "outputs": [],
   "source": [
    "_, ax = plt.subplots(1, 1)\n",
    "plot_plate_faces_single(\"plate_true\", \"xz\", forward, true_param_value, ax, color=\"purple\", label=\"true model\")\n",
    "plot_plate_faces_single(\"plate_init\", \"xz\", forward, init_param_value, ax, color=\"green\", label=\"init model\")\n",
    "plot_plate_faces_single(\"plate_inverted\", \"xz\", forward, my_result.model, ax, color=\"red\", label=\"inverted model\", linestyle=\"dotted\")\n",
    "ax.legend();"
   ]
  },
  {
   "cell_type": "markdown",
   "metadata": {},
   "source": [
    "---\n",
    "## Watermark\n",
    "\n",
    "<!-- Feel free to add more modules in the watermark_list below, if more packages are used -->\n",
    "<!-- Otherwise please leave the below code cell unchanged -->"
   ]
  },
  {
   "cell_type": "code",
   "execution_count": null,
   "metadata": {},
   "outputs": [],
   "source": [
    "watermark_list = [\"cofi\", \"numpy\", \"scipy\", \"matplotlib\"]\n",
    "for pkg in watermark_list:\n",
    "    pkg_var = __import__(pkg)\n",
    "    print(pkg, getattr(pkg_var, \"__version__\"))"
   ]
  }
 ],
 "metadata": {
  "interpreter": {
   "hash": "82521f8c6d46dbe13b9e99c6a95164e7b000b3cca9173433679abe48ca711ce5"
  },
  "kernelspec": {
   "display_name": "Python 3 (ipykernel)",
   "language": "python",
   "name": "python3"
  },
  "language_info": {
   "codemirror_mode": {
    "name": "ipython",
    "version": 3
   },
   "file_extension": ".py",
   "mimetype": "text/x-python",
   "name": "python",
   "nbconvert_exporter": "python",
   "pygments_lexer": "ipython3",
   "version": "3.10.14"
  }
 },
 "nbformat": 4,
 "nbformat_minor": 4
}
