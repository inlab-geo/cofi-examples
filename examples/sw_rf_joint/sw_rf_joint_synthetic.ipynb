{
 "cells": [
  {
   "cell_type": "markdown",
   "id": "178d6f7d-f85f-4212-a99b-08f4e0ce6758",
   "metadata": {
    "papermill": {
     "duration": 0.031925,
     "end_time": "2024-04-16T23:37:48.800615",
     "exception": false,
     "start_time": "2024-04-16T23:37:48.768690",
     "status": "completed"
    },
    "tags": []
   },
   "source": [
    "# Surface wave and receiver function - joint inversion (synthetic data)"
   ]
  },
  {
   "cell_type": "markdown",
   "id": "6ba90002-e4f8-484e-a8fe-8a3689102b3e",
   "metadata": {
    "papermill": {
     "duration": 0.014683,
     "end_time": "2024-04-16T23:37:48.845509",
     "exception": false,
     "start_time": "2024-04-16T23:37:48.830826",
     "status": "completed"
    },
    "tags": []
   },
   "source": [
    "[![Open In Colab](https://img.shields.io/badge/open%20in-Colab-b5e2fa?logo=googlecolab&style=flat-square&color=ffd670)](https://colab.research.google.com/github/inlab-geo/cofi-examples/blob/main/examples/sw_rf_joint/sw_rf_joint_synthetic.ipynb)"
   ]
  },
  {
   "cell_type": "markdown",
   "id": "95c8c68e-ef56-4d75-b924-efc428bb682b",
   "metadata": {
    "papermill": {
     "duration": 0.014926,
     "end_time": "2024-04-16T23:37:48.868754",
     "exception": false,
     "start_time": "2024-04-16T23:37:48.853828",
     "status": "completed"
    },
    "tags": []
   },
   "source": [
    "> If you are running this notebook locally, make sure you've followed [steps here](https://github.com/inlab-geo/cofi-examples#run-the-examples-with-cofi-locally)\n",
    "to set up the environment. (This [environment.yml](https://github.com/inlab-geo/cofi-examples/blob/main/envs/environment.yml) file\n",
    "specifies a list of packages required to run the notebooks)"
   ]
  },
  {
   "cell_type": "markdown",
   "id": "5bb79775-5688-47a8-aa9e-40db21767e1d",
   "metadata": {
    "papermill": {
     "duration": 0.008209,
     "end_time": "2024-04-16T23:37:48.885349",
     "exception": false,
     "start_time": "2024-04-16T23:37:48.877140",
     "status": "completed"
    },
    "tags": []
   },
   "source": [
    "---\n",
    "\n",
    "## What we do in this notebook\n",
    "\n",
    "Here we extend the example where CoFI has been used for the inversion of Rayleigh wave phase velocities for a 1D layered earth to a joint inversion where we also account for receiver functions.\n",
    "\n",
    "**Learning outcomes**\n",
    "\n",
    "- A demonstration of CoFI's ability to switch between parameter estimation and ensemble methods.\n",
    "- An application of CoFI for a joint inversion, here of Rayleigh wave pahse velocity and receiver function data, to a synthetic dataset"
   ]
  },
  {
   "cell_type": "markdown",
   "id": "4cc2f3ea-e4a8-4416-a012-b385684842df",
   "metadata": {
    "papermill": {
     "duration": 0.008192,
     "end_time": "2024-04-16T23:37:48.901802",
     "exception": false,
     "start_time": "2024-04-16T23:37:48.893610",
     "status": "completed"
    },
    "tags": []
   },
   "source": [
    "## Utilities preparation\n",
    "\n",
    "In this example, we look at a joint inversion problem of surface wave and receiver function.\n",
    "\n",
    "We use `pysurf96` for computing the forward step of surface wave, and use\n",
    "`espresso` for receiver function calculations."
   ]
  },
  {
   "cell_type": "code",
   "execution_count": 1,
   "id": "7c00cebe-8d92-4757-8163-f6b29160429e",
   "metadata": {
    "papermill": {
     "duration": 0.012156,
     "end_time": "2024-04-16T23:37:48.922214",
     "exception": false,
     "start_time": "2024-04-16T23:37:48.910058",
     "status": "completed"
    },
    "tags": []
   },
   "outputs": [],
   "source": [
    "# -------------------------------------------------------- #\n",
    "#                                                          #\n",
    "#     Uncomment below to set up environment on \"colab\"     #\n",
    "#                                                          #\n",
    "# -------------------------------------------------------- #\n",
    "\n",
    "# !pip install -U cofi \n",
    "# !pip install git+https://github.com/inlab-geo/pysurf96.git\n",
    "# !git clone https://github.com/inlab-geo/cofi-examples.git\n",
    "# %cd cofi-examples/examples/sw_rf_joint"
   ]
  },
  {
   "cell_type": "code",
   "execution_count": null,
   "id": "8baac73b-4287-4727-aba0-8a9f03f167b7",
   "metadata": {},
   "outputs": [],
   "source": [
    "# If this notebook is run locally pysurf96 needs to be installed separately by uncommenting the following line, \n",
    "# that is by removing the # and the white space between it and the exclammation mark.\n",
    "# !pip install -U cofi git+https://github.com/inlab-geo/pysurf96.git@ctypes"
   ]
  },
  {
   "cell_type": "code",
   "execution_count": 2,
   "id": "74429410-0206-4220-9928-cb4a045954d5",
   "metadata": {
    "papermill": {
     "duration": 0.757982,
     "end_time": "2024-04-16T23:37:49.688436",
     "exception": false,
     "start_time": "2024-04-16T23:37:48.930454",
     "status": "completed"
    },
    "tags": []
   },
   "outputs": [],
   "source": [
    "import glob\n",
    "import numpy as np\n",
    "import scipy\n",
    "import matplotlib.pyplot as plt\n",
    "import matplotlib.gridspec as gridspec\n",
    "\n",
    "import pysurf96\n",
    "import bayesbay\n",
    "import cofi\n",
    "import espresso"
   ]
  },
  {
   "cell_type": "code",
   "execution_count": 2,
   "id": "fcffc325-9433-46ae-a70a-11d63c53a5aa",
   "metadata": {
    "papermill": {
     "duration": 0.012735,
     "end_time": "2024-04-16T23:37:49.710989",
     "exception": false,
     "start_time": "2024-04-16T23:37:49.698254",
     "status": "completed"
    },
    "tags": []
   },
   "outputs": [],
   "source": [
    "np.seterr(all=\"ignore\");"
   ]
  },
  {
   "cell_type": "markdown",
   "id": "0af026f5-9e34-4043-82b0-d691a2413578",
   "metadata": {
    "papermill": {
     "duration": 0.008229,
     "end_time": "2024-04-16T23:37:49.727499",
     "exception": false,
     "start_time": "2024-04-16T23:37:49.719270",
     "status": "completed"
    },
    "tags": []
   },
   "source": [
    "**Model vector**"
   ]
  },
  {
   "cell_type": "code",
   "execution_count": 3,
   "id": "61796834-bdc5-4f25-b428-17a106716d03",
   "metadata": {
    "jupyter": {
     "source_hidden": true
    },
    "papermill": {
     "duration": 0.014768,
     "end_time": "2024-04-16T23:37:49.750508",
     "exception": false,
     "start_time": "2024-04-16T23:37:49.735740",
     "status": "completed"
    },
    "tags": []
   },
   "outputs": [
    {
     "data": {
      "text/markdown": [
       "Here we invert for a layered earth that is we assume that at a given location the earth can be describe by a set of layer with infite extension i.e. there are no lateral variation, the earth only varies in the depth direction. The forward solver typically requires the subsurface to be parametrised a certain way and inversion methods frequenly also assume a certain model parameterisation. This example makes use of two appraoche that are frequently employed to parametrise a layered earth. As we will see later both parametrisations can capture a 1D layered earth but for the different inversion methods it is advantegous to choose one over the other. To explore different approaches we need to be able to convert between the different model parameterisations.\n",
       "\n",
       "<figure>\n",
       "<img src=\"https://github.com/inlab-geo/cofi-examples/blob/main/theory/illustrations/layer_cake_voronoi.png?raw=true\" >\n",
       "<figcaption align = \"Parmaterisation of a 1D velcoity function using voronoi sites or a layers\"> Layer based and voronoi site based parameterisation of a 1D laereed earth where layers have constant velocities </figcaption>\n",
       "</figure>\n",
       "\n",
       "\n",
       "***Layer based parameterisation***\n",
       "\n",
       "In a layer based parameterisation the model vector is given as $\\mathbf{m}=(v_1,t_1,...,v_{n-1},t_{n-1},v_n)$ where $t_i$ is the thickness of the $i$-th layer with velocity $v_i$. The last layer is a half space and thus has only a velocity parameter but no thickness parameter. \n",
       "\n",
       "\n",
       "```python\n",
       "[velocity[1], thickness[1], velocity[2], thickness[2], velocity[3], ...,velocity[n-1], thickness[n-1], velocity[n]]\n",
       "```\n",
       "\n",
       "\n",
       "***Voronoi sites based parameterisation***\n",
       "\n",
       "The alternative to explictly parameterising the layer thickness is to use  Voronoi sites and assing to each site a depth and a velocity. HEre the model vector is given as $\\mathbf{m}=(d_1,...,d_n,v_1,...,v_n)$ where $d_i$ is the depth for the i-th vronoi site and  $v_i$ the velocity assinged to the layer represented by the voronoi site. In this parameterisation the interface between two layers is given as the halfway depth between the two corresponding Voronoi sites.\n",
       "\n",
       "```python\n",
       "[velocity[1], velocity[2], ..., velocity[n], depth[1], depth[2], ..., depth[n]]\n",
       "```\n"
      ],
      "text/plain": [
       "<IPython.core.display.Markdown object>"
      ]
     },
     "metadata": {},
     "output_type": "display_data"
    }
   ],
   "source": [
    "# display theory on the 1D model parameterisation\n",
    "from IPython.display import display, Markdown\n",
    "\n",
    "with open(\"../../theory/misc_1d_model_parameterisation.md\", \"r\") as f:\n",
    "    content = f.read()\n",
    "\n",
    "display(Markdown(content))"
   ]
  },
  {
   "cell_type": "code",
   "execution_count": 4,
   "id": "82aa1ad4-bbfb-47ce-b98d-6c510b5ba60c",
   "metadata": {
    "papermill": {
     "duration": 0.012441,
     "end_time": "2024-04-16T23:37:49.771731",
     "exception": false,
     "start_time": "2024-04-16T23:37:49.759290",
     "status": "completed"
    },
    "tags": []
   },
   "outputs": [],
   "source": [
    "# layercake model utilities\n",
    "def form_layercake_model(thicknesses, vs):\n",
    "    model = np.zeros((len(vs)*2-1,))\n",
    "    model[1::2] = thicknesses\n",
    "    model[::2] = vs\n",
    "    return model\n",
    "\n",
    "def split_layercake_model(model):\n",
    "    thicknesses = model[1::2]\n",
    "    vs = model[::2]\n",
    "    return thicknesses, vs"
   ]
  },
  {
   "cell_type": "code",
   "execution_count": 5,
   "id": "a09be52b-7a29-4e09-9c9d-091d51d953ec",
   "metadata": {
    "papermill": {
     "duration": 0.012271,
     "end_time": "2024-04-16T23:37:49.792361",
     "exception": false,
     "start_time": "2024-04-16T23:37:49.780090",
     "status": "completed"
    },
    "tags": []
   },
   "outputs": [],
   "source": [
    "# voronoi model utilities\n",
    "def form_voronoi_model(voronoi_sites, vs):\n",
    "    return np.hstack((vs, voronoi_sites))\n",
    "\n",
    "def split_voronoi_model(model):\n",
    "    voronoi_sites = model[len(model)//2:]\n",
    "    vs = model[:len(model)//2]\n",
    "    return voronoi_sites, vs"
   ]
  },
  {
   "cell_type": "code",
   "execution_count": 6,
   "id": "77437c1c-f718-45f1-9240-e32a9340da77",
   "metadata": {
    "papermill": {
     "duration": 0.013972,
     "end_time": "2024-04-16T23:37:49.814803",
     "exception": false,
     "start_time": "2024-04-16T23:37:49.800831",
     "status": "completed"
    },
    "tags": []
   },
   "outputs": [],
   "source": [
    "def voronoi_to_layercake(voronoi_vector: np.ndarray) -> np.ndarray:\n",
    "    n_layers = len(voronoi_vector) // 2\n",
    "    velocities = voronoi_vector[:n_layers]\n",
    "    voronoi_sites = voronoi_vector[n_layers:]\n",
    "    depths = (voronoi_sites[:-1] + voronoi_sites[1:]) / 2\n",
    "    thicknesses = depths - np.insert(depths[:-1], 0, 0)\n",
    "    layercake_vector = np.zeros((2*n_layers-1,))\n",
    "    layercake_vector[::2] = velocities\n",
    "    layercake_vector[1::2] = thicknesses\n",
    "    return layercake_vector\n",
    "\n",
    "def layercake_to_voronoi(layercake_vector: np.ndarray, first_voronoi_site: float = 0.0) -> np.ndarray:\n",
    "    n_layers = len(layercake_vector) // 2 + 1\n",
    "    thicknesses = layercake_vector[1::2]\n",
    "    velocities = layercake_vector[::2]\n",
    "    depths = np.cumsum(thicknesses)\n",
    "    voronoi_sites = np.zeros((n_layers,))\n",
    "    for i in range(1,len(voronoi_sites)):\n",
    "        voronoi_sites[i] = 2 * depths[i-1] - voronoi_sites[i-1]\n",
    "    voronoi_vector = np.hstack((velocities, voronoi_sites))\n",
    "    return voronoi_vector"
   ]
  },
  {
   "cell_type": "markdown",
   "id": "a319d173-3b99-4fc4-acfa-6cd571369a30",
   "metadata": {
    "papermill": {
     "duration": 0.008336,
     "end_time": "2024-04-16T23:37:49.831514",
     "exception": false,
     "start_time": "2024-04-16T23:37:49.823178",
     "status": "completed"
    },
    "tags": []
   },
   "source": [
    "**Interfacing to pysurf96**"
   ]
  },
  {
   "cell_type": "code",
   "execution_count": 7,
   "id": "0fb9bdd6-d971-400c-b7b9-8bbc12598364",
   "metadata": {
    "jupyter": {
     "source_hidden": true
    },
    "papermill": {
     "duration": 0.012839,
     "end_time": "2024-04-16T23:37:49.852715",
     "exception": false,
     "start_time": "2024-04-16T23:37:49.839876",
     "status": "completed"
    },
    "tags": []
   },
   "outputs": [
    {
     "data": {
      "text/markdown": [
       "CoFI relies on other libraries to solve the forward problem. Here we interface to pysurf96 (https://github.com/miili/pysurf96) to obtain the Rayleigh wave phase velocity dispersion curve given layer thicknesses and Vp, Vs and $\\rho$ for each layer. In addtion to the forward function we also implement a function to compute a numerical Jacobian via finite differencing.\n",
       "\n",
       "While surface waves are sensitive to the pressure wave proapgation velocity $V_p$, the shear wave propagtion velocity $V_s$ and the density $\\rho$, they however have limited information content and the three parameters are trading of against each other, thus here we assume that the $V_p/V_s$ ratio is constatn that the density is a linear function of $V_p$ and only invert for $V_s$. That is in the following:\n",
       "$$\n",
       "V_p=1.77*V_s\n",
       "$$\n",
       "and\n",
       "$$\n",
       "\\rho = 0.32*V_p* 0.77.\n",
       "$$\n"
      ],
      "text/plain": [
       "<IPython.core.display.Markdown object>"
      ]
     },
     "metadata": {},
     "output_type": "display_data"
    }
   ],
   "source": [
    "# display theory on the using the forward solver\n",
    "with open(\"../../theory/geo_surface_wave_dispersion2.md\", \"r\") as f:\n",
    "    content = f.read()\n",
    "\n",
    "display(Markdown(content))"
   ]
  },
  {
   "cell_type": "code",
   "execution_count": 8,
   "id": "14629fc2-49ed-4d2e-b7dd-27318b99ad9a",
   "metadata": {
    "papermill": {
     "duration": 0.012343,
     "end_time": "2024-04-16T23:37:49.873983",
     "exception": false,
     "start_time": "2024-04-16T23:37:49.861640",
     "status": "completed"
    },
    "tags": []
   },
   "outputs": [],
   "source": [
    "VP_VS = 1.77\n",
    "RHO_VP_K = 0.32\n",
    "RHO_VP_B = 0.77\n",
    "periods = np.geomspace(3, 80, 20)"
   ]
  },
  {
   "cell_type": "code",
   "execution_count": 9,
   "id": "ffe2d792-2160-4976-ab40-008b7da11977",
   "metadata": {
    "papermill": {
     "duration": 0.012498,
     "end_time": "2024-04-16T23:37:49.895356",
     "exception": false,
     "start_time": "2024-04-16T23:37:49.882858",
     "status": "completed"
    },
    "tags": []
   },
   "outputs": [],
   "source": [
    "# forward through pysurf96\n",
    "def forward_sw(model, periods):\n",
    "    thicknesses, vs = split_layercake_model(model)\n",
    "    thicknesses = np.append(thicknesses, 10)\n",
    "    vp = vs * VP_VS\n",
    "    rho = RHO_VP_K * vp + RHO_VP_B\n",
    "    return pysurf96.surf96(\n",
    "        thicknesses,\n",
    "        vp,\n",
    "        vs,\n",
    "        rho,\n",
    "        periods,\n",
    "        wave=\"rayleigh\",\n",
    "        mode=1,\n",
    "        velocity=\"phase\",\n",
    "        flat_earth=False,\n",
    "    )"
   ]
  },
  {
   "cell_type": "markdown",
   "id": "53b94a76-1e9c-4d88-88b5-533a1cc01386",
   "metadata": {
    "papermill": {
     "duration": 0.008419,
     "end_time": "2024-04-16T23:37:49.912321",
     "exception": false,
     "start_time": "2024-04-16T23:37:49.903902",
     "status": "completed"
    },
    "tags": []
   },
   "source": [
    "**Interfacing to Espresso**"
   ]
  },
  {
   "cell_type": "code",
   "execution_count": 10,
   "id": "120e68ad-2804-4b3f-ba1b-2c692e5d8388",
   "metadata": {
    "papermill": {
     "duration": 0.102042,
     "end_time": "2024-04-16T23:37:50.022737",
     "exception": false,
     "start_time": "2024-04-16T23:37:49.920695",
     "status": "completed"
    },
    "tags": []
   },
   "outputs": [
    {
     "ename": "ModuleNotFoundError",
     "evalue": "No module named 'espresso._receiver_function_inversion_knt.build'",
     "output_type": "error",
     "traceback": [
      "\u001b[0;31m---------------------------------------------------------------------------\u001b[0m",
      "\u001b[0;31mModuleNotFoundError\u001b[0m                       Traceback (most recent call last)",
      "Cell \u001b[0;32mIn[10], line 2\u001b[0m\n\u001b[1;32m      1\u001b[0m \u001b[38;5;66;03m# obtain the receiver function library\u001b[39;00m\n\u001b[0;32m----> 2\u001b[0m rf_lib \u001b[38;5;241m=\u001b[39m \u001b[43mespresso\u001b[49m\u001b[38;5;241;43m.\u001b[39;49m\u001b[43mReceiverFunctionInversionKnt\u001b[49m\u001b[43m(\u001b[49m\u001b[43m)\u001b[49m\u001b[38;5;241m.\u001b[39mrf\n",
      "File \u001b[0;32m~/mambaforge/envs/seislib/lib/python3.9/site-packages/espresso/_receiver_function_inversion_knt/_receiver_function_inversion_knt.py:42\u001b[0m, in \u001b[0;36mReceiverFunctionInversionKnt.__init__\u001b[0;34m(self, example_number)\u001b[0m\n\u001b[1;32m     39\u001b[0m \u001b[38;5;28;01mdef\u001b[39;00m \u001b[38;5;21m__init__\u001b[39m(\u001b[38;5;28mself\u001b[39m, example_number\u001b[38;5;241m=\u001b[39m\u001b[38;5;241m1\u001b[39m):\n\u001b[1;32m     40\u001b[0m     \u001b[38;5;28msuper\u001b[39m()\u001b[38;5;241m.\u001b[39m\u001b[38;5;21m__init__\u001b[39m(example_number)\n\u001b[0;32m---> 42\u001b[0m     \u001b[38;5;28;01mfrom\u001b[39;00m \u001b[38;5;21;01m.\u001b[39;00m\u001b[38;5;21;01mbuild\u001b[39;00m \u001b[38;5;28;01mimport\u001b[39;00m rf\n\u001b[1;32m     44\u001b[0m     \u001b[38;5;28mself\u001b[39m\u001b[38;5;241m.\u001b[39mrf \u001b[38;5;241m=\u001b[39m rf\n\u001b[1;32m     46\u001b[0m     \u001b[38;5;28;01mif\u001b[39;00m example_number \u001b[38;5;241m==\u001b[39m \u001b[38;5;241m1\u001b[39m:\n",
      "\u001b[0;31mModuleNotFoundError\u001b[0m: No module named 'espresso._receiver_function_inversion_knt.build'"
     ]
    }
   ],
   "source": [
    "# obtain the receiver function library\n",
    "rf_lib = espresso.ReceiverFunctionInversionKnt().rf"
   ]
  },
  {
   "cell_type": "code",
   "execution_count": 11,
   "id": "e6ebd4af-c323-41b9-a188-45cf1a67426b",
   "metadata": {
    "papermill": {
     "duration": 0.012287,
     "end_time": "2024-04-16T23:37:50.043475",
     "exception": false,
     "start_time": "2024-04-16T23:37:50.031188",
     "status": "completed"
    },
    "tags": []
   },
   "outputs": [],
   "source": [
    "t_shift = 5\n",
    "t_duration = 25\n",
    "t_sampling_interval = 0.1\n",
    "gauss = 1\n",
    "ray_param_s_km = 0.07"
   ]
  },
  {
   "cell_type": "code",
   "execution_count": null,
   "id": "69bde10f-174e-42cb-a782-0c49c2fe3e84",
   "metadata": {
    "papermill": {
     "duration": 0.017067,
     "end_time": "2024-04-16T23:37:50.076791",
     "exception": false,
     "start_time": "2024-04-16T23:37:50.059724",
     "status": "completed"
    },
    "tags": []
   },
   "outputs": [],
   "source": [
    "# forward through rf in espresso\n",
    "def forward_rf(\n",
    "    model, \n",
    "    t_shift=t_shift, \n",
    "    t_duration=t_duration, \n",
    "    t_sampling_interval=t_sampling_interval, \n",
    "    gauss=gauss, \n",
    "    ray_param_s_km=ray_param_s_km,\n",
    "    return_times=False\n",
    "):\n",
    "    h, vs = split_layercake_model(model)\n",
    "    data = rf_lib.rf_calc(ps=0, thik=h, beta=vs, kapa=np.ones((len(vs),))*VP_VS, p=ray_param_s_km, \n",
    "                      duration=t_duration, dt=t_sampling_interval, shft=t_shift, gauss=gauss)\n",
    "    if return_times:\n",
    "        times = np.arange(len(data)) * t_sampling_interval - t_shift\n",
    "        return data, times\n",
    "    else:\n",
    "        return data"
   ]
  },
  {
   "cell_type": "markdown",
   "id": "d9461e8c-e6c4-4b43-b821-58d5a6866b65",
   "metadata": {
    "papermill": {
     "duration": 0.008399,
     "end_time": "2024-04-16T23:37:50.093765",
     "exception": false,
     "start_time": "2024-04-16T23:37:50.085366",
     "status": "completed"
    },
    "tags": []
   },
   "source": [
    "**Numerical Jacobian**"
   ]
  },
  {
   "cell_type": "code",
   "execution_count": null,
   "id": "12adde63-cd54-4fc7-a881-452fe678425a",
   "metadata": {
    "papermill": {
     "duration": 0.01283,
     "end_time": "2024-04-16T23:37:50.114997",
     "exception": false,
     "start_time": "2024-04-16T23:37:50.102167",
     "status": "completed"
    },
    "tags": []
   },
   "outputs": [],
   "source": [
    "def jacobian(model, data_length, fwd, fwd_kwargs, relative_step=0.01):\n",
    "    jac = np.zeros((data_length, len(model)))\n",
    "    original_dpred = fwd(model, **fwd_kwargs)\n",
    "    for i in range(len(model)):\n",
    "        perturbed_model = model.copy()\n",
    "        step = relative_step * model[i]\n",
    "        perturbed_model[i] += step\n",
    "        perturbed_dpred = fwd(perturbed_model, **fwd_kwargs)\n",
    "        derivative = (perturbed_dpred - original_dpred) / step\n",
    "        jac[:, i] = derivative\n",
    "    return jac"
   ]
  },
  {
   "cell_type": "markdown",
   "id": "bb4a0663-b727-48e9-90e9-9b6a92772695",
   "metadata": {
    "papermill": {
     "duration": 0.008424,
     "end_time": "2024-04-16T23:37:50.131841",
     "exception": false,
     "start_time": "2024-04-16T23:37:50.123417",
     "status": "completed"
    },
    "tags": []
   },
   "source": [
    "**Plotting**"
   ]
  },
  {
   "cell_type": "code",
   "execution_count": null,
   "id": "3a6546bf-3792-4279-a9ee-f85260ec5930",
   "metadata": {
    "papermill": {
     "duration": 0.01442,
     "end_time": "2024-04-16T23:37:50.156651",
     "exception": false,
     "start_time": "2024-04-16T23:37:50.142231",
     "status": "completed"
    },
    "tags": []
   },
   "outputs": [],
   "source": [
    "def plot_model(model, ax=None, title=\"model\", **kwargs):\n",
    "    # process data\n",
    "    thicknesses = np.append(model[1::2], max(model[1::2]))\n",
    "    velocities = model[::2]\n",
    "    y = np.insert(np.cumsum(thicknesses), 0, 0)\n",
    "    x = np.insert(velocities, 0, velocities[0])\n",
    "    \n",
    "    # plot depth profile\n",
    "    if ax is None:\n",
    "        _, ax = plt.subplots()\n",
    "    plotting_style = {\n",
    "        \"linewidth\": kwargs.pop(\"linewidth\", kwargs.pop(\"lw\", 0.5)),\n",
    "        \"alpha\": 0.2,\n",
    "        \"color\": kwargs.pop(\"color\", kwargs.pop(\"c\", \"blue\")),\n",
    "    }\n",
    "    plotting_style.update(kwargs)\n",
    "    ax.step(x, y, where=\"post\", **plotting_style)\n",
    "    if ax.get_ylim()[0] < ax.get_ylim()[1]:\n",
    "        ax.invert_yaxis()\n",
    "    ax.set_xlabel(\"Vs (km/s)\")\n",
    "    ax.set_ylabel(\"Depth (km)\")\n",
    "    ax.set_title(title)\n",
    "    return ax"
   ]
  },
  {
   "cell_type": "code",
   "execution_count": null,
   "id": "5becd1f7-4546-42cc-9480-deb622c6eefd",
   "metadata": {
    "papermill": {
     "duration": 0.016526,
     "end_time": "2024-04-16T23:37:50.181671",
     "exception": false,
     "start_time": "2024-04-16T23:37:50.165145",
     "status": "completed"
    },
    "tags": []
   },
   "outputs": [],
   "source": [
    "def plot_data(x, y, ax=None, scatter=False, xlabel=None, ylabel=None, \n",
    "              title=\"surface wave data\", **kwargs):\n",
    "    if ax is None:\n",
    "        _, ax = plt.subplots()\n",
    "    plotting_style = {\n",
    "        \"linewidth\": kwargs.pop(\"linewidth\", kwargs.pop(\"lw\", 1)),\n",
    "        \"alpha\": 1,\n",
    "        \"color\": kwargs.pop(\"color\", kwargs.pop(\"c\", \"blue\")),\n",
    "    }\n",
    "    plotting_style.update(**kwargs)\n",
    "    if scatter:\n",
    "        ax.scatter(x, y, **plotting_style)\n",
    "    else:\n",
    "        ax.plot(x, y, **plotting_style)\n",
    "    ax.set_xlabel(xlabel)\n",
    "    ax.set_ylabel(ylabel)\n",
    "    ax.set_title(title)\n",
    "    return ax"
   ]
  },
  {
   "cell_type": "code",
   "execution_count": null,
   "id": "4f17830c-a44b-4eda-9d72-f0d3532d3c04",
   "metadata": {
    "papermill": {
     "duration": 0.013045,
     "end_time": "2024-04-16T23:37:50.203548",
     "exception": false,
     "start_time": "2024-04-16T23:37:50.190503",
     "status": "completed"
    },
    "tags": []
   },
   "outputs": [],
   "source": [
    "def plot_sw_data(rayleigh_phase_velocities, periods, ax=None, scatter=False, \n",
    "                 title=\"surface wave data\", **kwargs):\n",
    "    return plot_data(x=periods, \n",
    "                     y=rayleigh_phase_velocities, \n",
    "                     ax=ax, \n",
    "                     scatter=scatter, \n",
    "                     title=title, \n",
    "                     xlabel=\"Periods (s)\", \n",
    "                     ylabel=\"Rayleigh phase velocities (km/s)\", \n",
    "                     **kwargs)\n",
    "\n",
    "def plot_rf_data(rf_data, rf_times, ax=None, scatter=False,\n",
    "                 title=\"receiver function data\", **kwargs):\n",
    "    return plot_data(x=rf_times, \n",
    "                     y=rf_data, \n",
    "                     ax=ax, \n",
    "                     scatter=scatter, \n",
    "                     title=title, \n",
    "                     xlabel=\"Times (s)\", \n",
    "                     ylabel=\"Receiver function amplitudes\", \n",
    "                     **kwargs)"
   ]
  },
  {
   "cell_type": "markdown",
   "id": "ee0e60c1-ff8d-4c74-88c7-458a59f70ff1",
   "metadata": {
    "papermill": {
     "duration": 0.008426,
     "end_time": "2024-04-16T23:37:50.220957",
     "exception": false,
     "start_time": "2024-04-16T23:37:50.212531",
     "status": "completed"
    },
    "tags": []
   },
   "source": [
    "## Generate synthetic data"
   ]
  },
  {
   "cell_type": "code",
   "execution_count": null,
   "id": "6f663008-d0cd-4bd1-bdc1-b3b053182dfc",
   "metadata": {
    "papermill": {
     "duration": 0.012637,
     "end_time": "2024-04-16T23:37:50.242044",
     "exception": false,
     "start_time": "2024-04-16T23:37:50.229407",
     "status": "completed"
    },
    "tags": []
   },
   "outputs": [],
   "source": [
    "true_thickness = np.array([10, 10, 15, 20, 20, 20, 20, 20])\n",
    "true_voronoi_positions = np.array([5, 15, 25, 45, 65, 85, 105, 125, 145])\n",
    "true_vs = np.array([3.38, 3.44, 3.66, 4.25, 4.35, 4.32, 4.315, 4.38, 4.5])\n",
    "true_model = form_layercake_model(true_thickness, true_vs)"
   ]
  },
  {
   "cell_type": "code",
   "execution_count": null,
   "id": "c12d73cd-07e0-4dc5-a934-9c13386cb8a0",
   "metadata": {
    "papermill": {
     "duration": 0.01339,
     "end_time": "2024-04-16T23:37:50.264762",
     "exception": false,
     "start_time": "2024-04-16T23:37:50.251372",
     "status": "completed"
    },
    "tags": []
   },
   "outputs": [],
   "source": [
    "RAYLEIGH_STD = 0.02\n",
    "RF_STD = 0.015"
   ]
  },
  {
   "cell_type": "code",
   "execution_count": null,
   "id": "3e4e261b-4bdc-47f1-8bc9-4c416ebedc0b",
   "metadata": {
    "papermill": {
     "duration": 0.013755,
     "end_time": "2024-04-16T23:37:50.287161",
     "exception": false,
     "start_time": "2024-04-16T23:37:50.273406",
     "status": "completed"
    },
    "tags": []
   },
   "outputs": [],
   "source": [
    "rayleigh = forward_sw(true_model, periods)\n",
    "rayleigh_dobs = rayleigh + np.random.normal(0, RAYLEIGH_STD, rayleigh.size)\n",
    "\n",
    "rf, rf_times = forward_rf(true_model, return_times=True)\n",
    "rf_dobs = rf + np.random.normal(0, RF_STD, rf.size)"
   ]
  },
  {
   "cell_type": "code",
   "execution_count": null,
   "id": "5f73a42d-f212-430a-ab48-80e7b96ee2f1",
   "metadata": {
    "papermill": {
     "duration": 0.564021,
     "end_time": "2024-04-16T23:37:50.859870",
     "exception": false,
     "start_time": "2024-04-16T23:37:50.295849",
     "status": "completed"
    },
    "tags": []
   },
   "outputs": [],
   "source": [
    "_, (ax1, ax2, ax3) = plt.subplots(1, 3, figsize=(12,4), gridspec_kw={'width_ratios': [1, 2.5, 2.5]})\n",
    "\n",
    "# plot true model\n",
    "plot_model(true_model, ax=ax1, alpha=1, color=\"r\", label=\"true model\")\n",
    "ax1.grid()\n",
    "\n",
    "# plot surface wave data\n",
    "plot_sw_data(rayleigh, periods, ax=ax2, color=\"orange\", label=\"true rayleigh data (noiseless)\")\n",
    "plot_sw_data(rayleigh_dobs, periods, ax=ax2, scatter=True, color=\"brown\", s=4, \n",
    "          label=\"observed rayleigh data (noisy)\")\n",
    "ax2.grid()\n",
    "\n",
    "# plot receiver function data\n",
    "plot_rf_data(rf, rf_times, ax=ax3, color=\"lightblue\", label=\"true receiver function data (noiseless)\")\n",
    "plot_rf_data(rf_dobs, rf_times, ax=ax3, scatter=True, color=\"darkblue\", s=2, \n",
    "          label=\"observed receiver function data (noisy)\")\n",
    "ax3.grid()\n",
    "\n",
    "ax1.legend(loc=\"lower center\", bbox_to_anchor=(0.5, -0.4))\n",
    "ax2.legend(loc=\"lower center\", bbox_to_anchor=(0.5, -0.5))\n",
    "ax3.legend(loc=\"lower center\", bbox_to_anchor=(0.5, -0.5))\n",
    "\n",
    "plt.tight_layout()"
   ]
  },
  {
   "cell_type": "markdown",
   "id": "eb7b6cb0-e233-4c25-8c74-d1b7ae8555ef",
   "metadata": {
    "papermill": {
     "duration": 0.018686,
     "end_time": "2024-04-16T23:37:50.889151",
     "exception": false,
     "start_time": "2024-04-16T23:37:50.870465",
     "status": "completed"
    },
    "tags": []
   },
   "source": [
    "## Optimisation"
   ]
  },
  {
   "cell_type": "markdown",
   "id": "c521a557-ecbb-4db9-a7ef-ec9667153de0",
   "metadata": {
    "papermill": {
     "duration": 0.022552,
     "end_time": "2024-04-16T23:37:50.920917",
     "exception": false,
     "start_time": "2024-04-16T23:37:50.898365",
     "status": "completed"
    },
    "tags": []
   },
   "source": [
    "**Prepare `BaseProblem` for optimisation**"
   ]
  },
  {
   "cell_type": "code",
   "execution_count": null,
   "id": "39df2689-0d70-4f5c-8c99-f346948ccdec",
   "metadata": {
    "papermill": {
     "duration": 0.015727,
     "end_time": "2024-04-16T23:37:50.954045",
     "exception": false,
     "start_time": "2024-04-16T23:37:50.938318",
     "status": "completed"
    },
    "tags": []
   },
   "outputs": [],
   "source": [
    "n_dims = 17\n",
    "\n",
    "init_thicknesses = np.ones((n_dims//2,)) * 15\n",
    "init_vs = np.ones((n_dims//2+1,)) * 4.0\n",
    "init_model = form_layercake_model(init_thicknesses, init_vs)"
   ]
  },
  {
   "cell_type": "code",
   "execution_count": null,
   "id": "60fea627-4c3d-44fa-8bd7-56bb64d9eeaf",
   "metadata": {
    "papermill": {
     "duration": 0.54972,
     "end_time": "2024-04-16T23:37:51.513557",
     "exception": false,
     "start_time": "2024-04-16T23:37:50.963837",
     "status": "completed"
    },
    "tags": []
   },
   "outputs": [],
   "source": [
    "_, (ax1, ax2, ax3) = plt.subplots(1, 3, figsize=(12,4), gridspec_kw={'width_ratios': [1, 2.5, 2.5]})\n",
    "\n",
    "# plot true model\n",
    "plot_model(init_model, ax=ax1, alpha=1, color=\"purple\", label=\"starting model\")\n",
    "plot_model(true_model, ax=ax1, alpha=1, color=\"r\", label=\"true model\")\n",
    "ax1.grid()\n",
    "\n",
    "# plot surface wave data\n",
    "plot_sw_data(forward_sw(init_model, periods), periods, ax=ax2, color=\"purple\",\n",
    "             label=\"predicted rayleigh data from starting model\")\n",
    "plot_sw_data(rayleigh_dobs, periods, ax=ax2, scatter=True, color=\"orange\", s=4, \n",
    "          label=\"observed rayleigh data (noisy)\")\n",
    "ax2.grid()\n",
    "\n",
    "# plot receiver function data\n",
    "plot_rf_data(forward_rf(init_model), rf_times, ax=ax3, color=\"purple\",\n",
    "             label=\"predicted receiver function data from starting model\")\n",
    "plot_rf_data(rf_dobs, rf_times, ax=ax3, scatter=True, color=\"darkblue\", s=2, \n",
    "          label=\"observed receiver function data (noisy)\")\n",
    "ax3.grid()\n",
    "\n",
    "ax1.legend(loc=\"lower center\", bbox_to_anchor=(0.5, -0.5))\n",
    "ax2.legend(loc=\"lower center\", bbox_to_anchor=(0.5, -0.5))\n",
    "ax3.legend(loc=\"lower center\", bbox_to_anchor=(0.5, -0.5))\n",
    "\n",
    "plt.tight_layout()"
   ]
  },
  {
   "cell_type": "code",
   "execution_count": null,
   "id": "7085aae7-01f3-4eb3-8cc4-50fa928e14ad",
   "metadata": {
    "papermill": {
     "duration": 0.200503,
     "end_time": "2024-04-16T23:37:51.725875",
     "exception": false,
     "start_time": "2024-04-16T23:37:51.525372",
     "status": "completed"
    },
    "tags": []
   },
   "outputs": [],
   "source": [
    "my_reg = cofi.utils.QuadraticReg(\n",
    "    weighting_matrix=\"damping\", \n",
    "    model_shape=(n_dims,),\n",
    "    reference_model=init_model\n",
    ")"
   ]
  },
  {
   "cell_type": "code",
   "execution_count": null,
   "id": "70a85094-16c9-4c17-a245-c61bd37f1037",
   "metadata": {
    "papermill": {
     "duration": 0.016508,
     "end_time": "2024-04-16T23:37:51.752568",
     "exception": false,
     "start_time": "2024-04-16T23:37:51.736060",
     "status": "completed"
    },
    "tags": []
   },
   "outputs": [],
   "source": [
    "def my_objective(model, fwd_funcs, d_obs_list, lamda=1.0):\n",
    "    data_misfit = 0\n",
    "    for (fwd, fwd_kwargs), d_obs in zip(fwd_funcs, d_obs_list):\n",
    "        d_pred = fwd(model, **fwd_kwargs)\n",
    "        data_misfit += np.sum((d_obs - d_pred) ** 2)\n",
    "    reg = my_reg(model)\n",
    "    return data_misfit + lamda * reg\n",
    "\n",
    "def my_objective_gradient(model, fwd_funcs, d_obs_list, lamda=1.0):\n",
    "    data_misfit_grad = 0\n",
    "    for (fwd, fwd_kwargs), d_obs in zip(fwd_funcs, d_obs_list):\n",
    "        d_pred = fwd(model, **fwd_kwargs)\n",
    "        jac = jacobian(model, len(d_obs), fwd, fwd_kwargs)\n",
    "        data_misfit_grad += -2 * jac.T @ (d_obs - d_pred)\n",
    "    reg_grad = my_reg.gradient(model)\n",
    "    return data_misfit_grad + lamda * reg_grad\n",
    "\n",
    "def my_objective_hessian(model, fwd_funcs, d_obs_list, lamda=1.0):\n",
    "    data_misfit_hess = 0\n",
    "    for (fwd, fwd_kwargs), d_obs in zip(fwd_funcs, d_obs_list):\n",
    "        jac = jacobian(model, len(d_obs), fwd, fwd_kwargs)\n",
    "        data_misfit_hess += 2 * jac.T @ jac\n",
    "    reg_hess = my_reg.hessian(model)\n",
    "    return data_misfit_hess + lamda * reg_hess"
   ]
  },
  {
   "cell_type": "code",
   "execution_count": null,
   "id": "5ca92329-17cc-4a48-a908-da6e7f6f158f",
   "metadata": {
    "papermill": {
     "duration": 0.018741,
     "end_time": "2024-04-16T23:37:51.784700",
     "exception": false,
     "start_time": "2024-04-16T23:37:51.765959",
     "status": "completed"
    },
    "tags": []
   },
   "outputs": [],
   "source": [
    "fwd_funcs = [\n",
    "    (forward_sw, {\"periods\": periods}), \n",
    "    (forward_rf, {\n",
    "        \"t_shift\": t_shift, \n",
    "        \"t_duration\": t_duration, \n",
    "        \"t_sampling_interval\": t_sampling_interval, \n",
    "        \"gauss\": gauss, \n",
    "        \"ray_param_s_km\": ray_param_s_km\n",
    "    })\n",
    "]\n",
    "\n",
    "d_obs_list = [rayleigh_dobs, rf_dobs]"
   ]
  },
  {
   "cell_type": "markdown",
   "id": "2b832efa-1908-48d1-a0c0-44fbc3e0ecfd",
   "metadata": {
    "papermill": {
     "duration": 0.009875,
     "end_time": "2024-04-16T23:37:51.804943",
     "exception": false,
     "start_time": "2024-04-16T23:37:51.795068",
     "status": "completed"
    },
    "tags": []
   },
   "source": [
    "### Optimisation with no damping"
   ]
  },
  {
   "cell_type": "code",
   "execution_count": null,
   "id": "360120ca-3dab-4cb1-ad79-afec4eaa307a",
   "metadata": {
    "papermill": {
     "duration": 0.014389,
     "end_time": "2024-04-16T23:37:51.829460",
     "exception": false,
     "start_time": "2024-04-16T23:37:51.815071",
     "status": "completed"
    },
    "tags": []
   },
   "outputs": [],
   "source": [
    "lamda = 0\n",
    "\n",
    "kwargs = {\n",
    "    \"fwd_funcs\": fwd_funcs, \n",
    "    \"d_obs_list\": d_obs_list, \n",
    "    \"lamda\": lamda\n",
    "}\n",
    "joint_problem_no_reg = cofi.BaseProblem()\n",
    "joint_problem_no_reg.set_objective(my_objective, kwargs=kwargs)\n",
    "joint_problem_no_reg.set_gradient(my_objective_gradient, kwargs=kwargs)\n",
    "joint_problem_no_reg.set_hessian(my_objective_hessian, kwargs=kwargs)\n",
    "joint_problem_no_reg.set_initial_model(init_model)"
   ]
  },
  {
   "cell_type": "markdown",
   "id": "f3f75d84-a43a-4374-801d-0bac91652f82",
   "metadata": {
    "papermill": {
     "duration": 0.009846,
     "end_time": "2024-04-16T23:37:51.849270",
     "exception": false,
     "start_time": "2024-04-16T23:37:51.839424",
     "status": "completed"
    },
    "tags": []
   },
   "source": [
    "**Define `InversionOptions`**"
   ]
  },
  {
   "cell_type": "code",
   "execution_count": null,
   "id": "0ddca19a-1909-4125-b198-931c47f5cab5",
   "metadata": {
    "papermill": {
     "duration": 0.052474,
     "end_time": "2024-04-16T23:37:51.911847",
     "exception": false,
     "start_time": "2024-04-16T23:37:51.859373",
     "status": "completed"
    },
    "tags": []
   },
   "outputs": [],
   "source": [
    "inv_options_optimiser = cofi.InversionOptions()\n",
    "inv_options_optimiser.set_tool(\"scipy.optimize.minimize\")\n",
    "inv_options_optimiser.set_params(method=\"trust-exact\")"
   ]
  },
  {
   "cell_type": "markdown",
   "id": "fe53cb8d-4c67-43c4-b04f-44fbaa50340e",
   "metadata": {
    "papermill": {
     "duration": 0.010132,
     "end_time": "2024-04-16T23:37:51.932480",
     "exception": false,
     "start_time": "2024-04-16T23:37:51.922348",
     "status": "completed"
    },
    "tags": []
   },
   "source": [
    "**Define `Inversion` and run**"
   ]
  },
  {
   "cell_type": "code",
   "execution_count": null,
   "id": "4d4ce864-0173-432f-9644-59b18ebdf2bd",
   "metadata": {
    "papermill": {
     "duration": 1.103377,
     "end_time": "2024-04-16T23:37:53.046680",
     "exception": false,
     "start_time": "2024-04-16T23:37:51.943303",
     "status": "completed"
    },
    "tags": []
   },
   "outputs": [],
   "source": [
    "inv_optimiser_no_reg = cofi.Inversion(joint_problem_no_reg, inv_options_optimiser)\n",
    "inv_res_optimiser_no_reg = inv_optimiser_no_reg.run()"
   ]
  },
  {
   "cell_type": "markdown",
   "id": "87d1189a-1bd9-4e41-963f-90a5af1ee08e",
   "metadata": {
    "papermill": {
     "duration": 0.009947,
     "end_time": "2024-04-16T23:37:53.084699",
     "exception": false,
     "start_time": "2024-04-16T23:37:53.074752",
     "status": "completed"
    },
    "tags": []
   },
   "source": [
    "**Plot results**"
   ]
  },
  {
   "cell_type": "code",
   "execution_count": null,
   "id": "d9693059-8ac8-4d3e-ba5d-1e7c61d57fd7",
   "metadata": {
    "papermill": {
     "duration": 0.481124,
     "end_time": "2024-04-16T23:37:53.576308",
     "exception": false,
     "start_time": "2024-04-16T23:37:53.095184",
     "status": "completed"
    },
    "tags": []
   },
   "outputs": [],
   "source": [
    "_, (ax1, ax2, ax3) = plt.subplots(1, 3, figsize=(12,4), gridspec_kw={'width_ratios': [1, 2.5, 2.5]})\n",
    "\n",
    "# plot true model\n",
    "plot_model(inv_res_optimiser_no_reg.model, ax=ax1, alpha=1, color=\"purple\", \n",
    "           label=\"inverted model\")\n",
    "plot_model(true_model, ax=ax1, alpha=1, color=\"r\", label=\"true model\")\n",
    "ax1.grid()\n",
    "\n",
    "# plot surface wave data\n",
    "plot_sw_data(forward_sw(inv_res_optimiser_no_reg.model, periods), \n",
    "             periods, ax=ax2, color=\"purple\",\n",
    "             label=\"predicted rayleigh data from inverted model\")\n",
    "plot_sw_data(rayleigh_dobs, periods, ax=ax2, scatter=True, color=\"orange\", s=4, \n",
    "          label=\"observed rayleigh data (noisy)\")\n",
    "ax2.grid()\n",
    "\n",
    "# plot receiver function data\n",
    "plot_rf_data(forward_rf(inv_res_optimiser_no_reg.model), rf_times, \n",
    "             ax=ax3, color=\"purple\",\n",
    "             label=\"predicted receiver function data from inverted model\")\n",
    "plot_rf_data(rf_dobs, rf_times, ax=ax3, scatter=True, color=\"darkblue\", s=2, \n",
    "          label=\"observed receiver function data (noisy)\")\n",
    "ax3.grid()\n",
    "\n",
    "ax1.legend(loc=\"lower center\", bbox_to_anchor=(0.5, -0.5))\n",
    "ax2.legend(loc=\"lower center\", bbox_to_anchor=(0.5, -0.5))\n",
    "ax3.legend(loc=\"lower center\", bbox_to_anchor=(0.5, -0.5))\n",
    "\n",
    "plt.tight_layout()"
   ]
  },
  {
   "cell_type": "markdown",
   "id": "09f0950e-8c5f-467e-982a-6a8773244cf0",
   "metadata": {
    "papermill": {
     "duration": 0.023886,
     "end_time": "2024-04-16T23:37:53.611497",
     "exception": false,
     "start_time": "2024-04-16T23:37:53.587611",
     "status": "completed"
    },
    "tags": []
   },
   "source": [
    "### Optimal damping\n",
    "\n",
    "Oh no! The inverted model doesn't look good, and it even has negative thicknesses.\n",
    "\n",
    "Maybe adding a damping term to our objective function would help... but how can we \n",
    "determine a good damping factor?\n",
    "\n",
    "The `InversionPool` in CoFI can help you answer it."
   ]
  },
  {
   "cell_type": "code",
   "execution_count": null,
   "id": "f3d3fbfe-aa18-44c8-9dd7-ef18fd06ae2f",
   "metadata": {
    "papermill": {
     "duration": 9.190002,
     "end_time": "2024-04-16T23:38:02.813553",
     "exception": false,
     "start_time": "2024-04-16T23:37:53.623551",
     "status": "completed"
    },
    "tags": []
   },
   "outputs": [
    {
     "name": "stdout",
     "output_type": "stream",
     "text": [
      "Finished inversion with lambda=5.1794746792312125e-05: 0.07160638658554566, 6.164674103931352\n"
     ]
    },
    {
     "name": "stdout",
     "output_type": "stream",
     "text": [
      "Finished inversion with lambda=0.0003727593720314938: 0.0742412823984247, 4.01566194575182\n"
     ]
    },
    {
     "name": "stdout",
     "output_type": "stream",
     "text": [
      "Finished inversion with lambda=0.0026826957952797246: 0.08086773864724396, 3.0830829309412815\n"
     ]
    },
    {
     "name": "stdout",
     "output_type": "stream",
     "text": [
      "Finished inversion with lambda=0.019306977288832496: 0.13848530349997912, 1.5942341865296412\n"
     ]
    },
    {
     "name": "stdout",
     "output_type": "stream",
     "text": [
      "Finished inversion with lambda=0.1389495494373136: 0.1924594326889627, 1.007993536537915\n"
     ]
    },
    {
     "name": "stdout",
     "output_type": "stream",
     "text": [
      "Finished inversion with lambda=1.0: 0.4434917201925289, 0.6558357899856235\n"
     ]
    },
    {
     "name": "stdout",
     "output_type": "stream",
     "text": [
      "Finished inversion with lambda=7.196856730011514: 1.3847229204245646, 0.31168429432535333\n",
      "Finished inversion with lambda=51.79474679231202: 2.808672845671508, 0.06886180985254571\n"
     ]
    },
    {
     "name": "stdout",
     "output_type": "stream",
     "text": [
      "Finished inversion with lambda=372.7593720314938: 3.245858737550931, 0.010361029438134453\n"
     ]
    },
    {
     "name": "stdout",
     "output_type": "stream",
     "text": [
      "Finished inversion with lambda=2682.6957952797275: 3.3154446809943194, 0.001455626634471428\n"
     ]
    },
    {
     "name": "stdout",
     "output_type": "stream",
     "text": [
      "Finished inversion with lambda=19306.977288832455: 3.325304982660975, 0.00020262004077077224\n",
      "Finished inversion with lambda=138949.5494373136: 3.326696514681827, 2.8160220793340172e-05\n",
      "Finished inversion with lambda=1000000.0: 3.3268869187189964, 3.912978902566168e-06\n"
     ]
    }
   ],
   "source": [
    "lambdas = np.logspace(-6, 6, 15)\n",
    "\n",
    "my_lcurve_problems = []\n",
    "for lamb in lambdas:\n",
    "    my_problem = cofi.BaseProblem()\n",
    "    kwargs = {\n",
    "        \"fwd_funcs\": fwd_funcs, \n",
    "        \"d_obs_list\": d_obs_list, \n",
    "        \"lamda\": lamb\n",
    "    }\n",
    "    my_problem.set_objective(my_objective, kwargs=kwargs)\n",
    "    my_problem.set_gradient(my_objective_gradient, kwargs=kwargs)\n",
    "    my_problem.set_hessian(my_objective_hessian, kwargs=kwargs)\n",
    "    my_problem.set_initial_model(init_model)\n",
    "    my_lcurve_problems.append(my_problem)\n",
    "\n",
    "def my_callback(inv_result, i):\n",
    "    m = inv_result.model\n",
    "    res_norm = 0\n",
    "    for (fwd, fwd_kwargs), d_obs in zip(fwd_funcs, d_obs_list):\n",
    "        d_pred = fwd(m, **fwd_kwargs)\n",
    "        res_norm += np.sum((d_obs - d_pred) ** 2)\n",
    "    reg_norm = np.sqrt(my_reg(m))\n",
    "    print(f\"Finished inversion with lambda={lambdas[i]}: {res_norm}, {reg_norm}\")\n",
    "    return res_norm, reg_norm\n",
    "\n",
    "my_inversion_pool = cofi.utils.InversionPool(\n",
    "    list_of_inv_problems=my_lcurve_problems,\n",
    "    list_of_inv_options=inv_options_optimiser,\n",
    "    callback=my_callback,\n",
    "    parallel=False\n",
    ")\n",
    "all_res, all_cb_returns = my_inversion_pool.run()\n",
    "\n",
    "l_curve_points = list(zip(*all_cb_returns))"
   ]
  },
  {
   "cell_type": "code",
   "execution_count": null,
   "id": "18eed95b-a62b-40a8-8f00-deb782edc286",
   "metadata": {
    "papermill": {
     "duration": 0.031521,
     "end_time": "2024-04-16T23:38:02.857761",
     "exception": false,
     "start_time": "2024-04-16T23:38:02.826240",
     "status": "completed"
    },
    "tags": []
   },
   "outputs": [],
   "source": [
    "# print all the lambdas\n",
    "lambdas"
   ]
  },
  {
   "cell_type": "markdown",
   "id": "bae8036c-f810-489d-891e-e39b99889c0c",
   "metadata": {
    "papermill": {
     "duration": 0.011573,
     "end_time": "2024-04-16T23:38:02.880685",
     "exception": false,
     "start_time": "2024-04-16T23:38:02.869112",
     "status": "completed"
    },
    "tags": []
   },
   "source": [
    "**Plot L-curve**"
   ]
  },
  {
   "cell_type": "code",
   "execution_count": null,
   "id": "c0d12258-1c68-49ad-bb30-6c58acfeae89",
   "metadata": {
    "papermill": {
     "duration": 0.28289,
     "end_time": "2024-04-16T23:38:03.175841",
     "exception": false,
     "start_time": "2024-04-16T23:38:02.892951",
     "status": "completed"
    },
    "tags": []
   },
   "outputs": [],
   "source": [
    "# plot the L-curve\n",
    "res_norm, reg_norm = l_curve_points\n",
    "plt.plot(reg_norm, res_norm, '.-')\n",
    "plt.xlabel(r'Norm of regularization term $||Wm||_2$')\n",
    "plt.ylabel(r'Norm of residual $||g(m)-d||_2$')\n",
    "for i in range(0, len(lambdas), 2):\n",
    "    plt.annotate(f'{lambdas[i]:.1e}', (reg_norm[i], res_norm[i]), fontsize=8)"
   ]
  },
  {
   "cell_type": "markdown",
   "id": "3621ffcb-e7e6-4918-917f-b8ef1fa76209",
   "metadata": {
    "papermill": {
     "duration": 0.011804,
     "end_time": "2024-04-16T23:38:03.200021",
     "exception": false,
     "start_time": "2024-04-16T23:38:03.188217",
     "status": "completed"
    },
    "tags": []
   },
   "source": [
    "### Optimisation with damping"
   ]
  },
  {
   "cell_type": "markdown",
   "id": "e8292880-e2b8-4c00-b6db-51405a7c8203",
   "metadata": {
    "papermill": {
     "duration": 0.011855,
     "end_time": "2024-04-16T23:38:03.223984",
     "exception": false,
     "start_time": "2024-04-16T23:38:03.212129",
     "status": "completed"
    },
    "tags": []
   },
   "source": [
    "From the L-curve plot above, it seems that a damping factor of around 0.14\n",
    "would be good."
   ]
  },
  {
   "cell_type": "code",
   "execution_count": null,
   "id": "eb140752-2eed-4cdf-a090-38267cde58fc",
   "metadata": {
    "papermill": {
     "duration": 0.027252,
     "end_time": "2024-04-16T23:38:03.263971",
     "exception": false,
     "start_time": "2024-04-16T23:38:03.236719",
     "status": "completed"
    },
    "tags": []
   },
   "outputs": [],
   "source": [
    "lamda = 0.14\n",
    "\n",
    "kwargs = {\n",
    "    \"fwd_funcs\": fwd_funcs, \n",
    "    \"d_obs_list\": d_obs_list, \n",
    "    \"lamda\": lamda\n",
    "}\n",
    "joint_problem = cofi.BaseProblem()\n",
    "joint_problem.set_objective(my_objective, kwargs=kwargs)\n",
    "joint_problem.set_gradient(my_objective_gradient, kwargs=kwargs)\n",
    "joint_problem.set_hessian(my_objective_hessian, kwargs=kwargs)\n",
    "joint_problem.set_initial_model(init_model)"
   ]
  },
  {
   "cell_type": "markdown",
   "id": "f5460d56-2382-4cd2-adec-963181e237ee",
   "metadata": {
    "papermill": {
     "duration": 0.014518,
     "end_time": "2024-04-16T23:38:03.290593",
     "exception": false,
     "start_time": "2024-04-16T23:38:03.276075",
     "status": "completed"
    },
    "tags": []
   },
   "source": [
    "**Define `Inversion` and run**"
   ]
  },
  {
   "cell_type": "code",
   "execution_count": null,
   "id": "0f04b458-d2c5-45c6-9b09-88b101567071",
   "metadata": {
    "papermill": {
     "duration": 0.39445,
     "end_time": "2024-04-16T23:38:03.703382",
     "exception": false,
     "start_time": "2024-04-16T23:38:03.308932",
     "status": "completed"
    },
    "tags": []
   },
   "outputs": [],
   "source": [
    "inv_optimiser = cofi.Inversion(joint_problem, inv_options_optimiser)\n",
    "inv_res_optimiser = inv_optimiser.run()"
   ]
  },
  {
   "cell_type": "markdown",
   "id": "bf9d3c7f-62d5-48aa-9ed7-6d32a53a2b15",
   "metadata": {
    "papermill": {
     "duration": 0.012129,
     "end_time": "2024-04-16T23:38:03.727041",
     "exception": false,
     "start_time": "2024-04-16T23:38:03.714912",
     "status": "completed"
    },
    "tags": []
   },
   "source": [
    "**Plot results**"
   ]
  },
  {
   "cell_type": "code",
   "execution_count": null,
   "id": "3e7adadf-911a-4c36-ab18-d6adc5435c48",
   "metadata": {
    "papermill": {
     "duration": 0.483723,
     "end_time": "2024-04-16T23:38:04.222736",
     "exception": false,
     "start_time": "2024-04-16T23:38:03.739013",
     "status": "completed"
    },
    "tags": []
   },
   "outputs": [],
   "source": [
    "_, (ax1, ax2, ax3) = plt.subplots(1, 3, figsize=(12,4), gridspec_kw={'width_ratios': [1, 2.5, 2.5]})\n",
    "\n",
    "# plot true model\n",
    "plot_model(inv_res_optimiser.model, ax=ax1, alpha=1, color=\"purple\", \n",
    "           label=\"inverted model\")\n",
    "plot_model(true_model, ax=ax1, alpha=1, color=\"r\", label=\"true model\")\n",
    "ax1.grid()\n",
    "\n",
    "# plot surface wave data\n",
    "plot_sw_data(forward_sw(inv_res_optimiser_no_reg.model, periods), \n",
    "             periods, ax=ax2, color=\"purple\",\n",
    "             label=\"predicted rayleigh data from inverted model\")\n",
    "plot_sw_data(rayleigh_dobs, periods, ax=ax2, scatter=True, color=\"orange\", s=4, \n",
    "          label=\"observed rayleigh data (noisy)\")\n",
    "ax2.grid()\n",
    "\n",
    "# plot receiver function data\n",
    "plot_rf_data(forward_rf(inv_res_optimiser.model), rf_times, \n",
    "             ax=ax3, color=\"purple\",\n",
    "             label=\"predicted receiver function data from inverted model\")\n",
    "plot_rf_data(rf_dobs, rf_times, ax=ax3, scatter=True, color=\"darkblue\", s=2, \n",
    "          label=\"observed receiver function data (noisy)\")\n",
    "ax3.grid()\n",
    "\n",
    "ax1.legend(loc=\"lower center\", bbox_to_anchor=(0.5, -0.5))\n",
    "ax2.legend(loc=\"lower center\", bbox_to_anchor=(0.5, -0.5))\n",
    "ax3.legend(loc=\"lower center\", bbox_to_anchor=(0.5, -0.5))\n",
    "\n",
    "plt.tight_layout()"
   ]
  },
  {
   "cell_type": "markdown",
   "id": "f293b240-5c5b-4790-acdf-79c6d6ec4ba3",
   "metadata": {
    "papermill": {
     "duration": 0.012274,
     "end_time": "2024-04-16T23:38:04.248510",
     "exception": false,
     "start_time": "2024-04-16T23:38:04.236236",
     "status": "completed"
    },
    "tags": []
   },
   "source": [
    "## Fixed-dimensional sampling"
   ]
  },
  {
   "cell_type": "markdown",
   "id": "2071c63c-0527-4cc2-ab6f-5199ebe0d3e0",
   "metadata": {
    "papermill": {
     "duration": 0.013104,
     "end_time": "2024-04-16T23:38:04.275062",
     "exception": false,
     "start_time": "2024-04-16T23:38:04.261958",
     "status": "completed"
    },
    "tags": []
   },
   "source": [
    "**Prepare `BaseProblem` for fixed-dimensional sampling**"
   ]
  },
  {
   "cell_type": "code",
   "execution_count": null,
   "id": "c887a2ff-5ab0-43ac-88eb-39d4c53d400b",
   "metadata": {
    "papermill": {
     "duration": 0.017244,
     "end_time": "2024-04-16T23:38:04.312377",
     "exception": false,
     "start_time": "2024-04-16T23:38:04.295133",
     "status": "completed"
    },
    "tags": []
   },
   "outputs": [],
   "source": [
    "thick_min = 5\n",
    "thick_max = 30\n",
    "vs_min = 2\n",
    "vs_max = 5\n",
    "\n",
    "def my_log_prior(model):\n",
    "    thicknesses, vs = split_layercake_model(model)\n",
    "    thicknesses_out_of_bounds = (thicknesses < thick_min) | (thicknesses > thick_max)\n",
    "    vs_out_of_bounds = (vs < vs_min) | (vs > vs_max)\n",
    "    if np.any(thicknesses_out_of_bounds) or np.any(vs_out_of_bounds):\n",
    "        return float(\"-inf\")\n",
    "    log_prior = - np.log(thick_max - thick_min) * len(thicknesses) \\\n",
    "                - np.log(vs_max - vs_min) * len(vs)\n",
    "    return log_prior"
   ]
  },
  {
   "cell_type": "code",
   "execution_count": null,
   "id": "c48eef13-732a-40f4-9809-a826d502732f",
   "metadata": {
    "papermill": {
     "duration": 0.024849,
     "end_time": "2024-04-16T23:38:04.349893",
     "exception": false,
     "start_time": "2024-04-16T23:38:04.325044",
     "status": "completed"
    },
    "tags": []
   },
   "outputs": [],
   "source": [
    "# inverse data covariance matrix\n",
    "Cdinv_rayleigh = np.eye(len(rayleigh_dobs)) / (RAYLEIGH_STD**2)\n",
    "Cdinv_rf = np.eye(len(rf_dobs)) / (RF_STD**2)\n",
    "Cdinv_list = [Cdinv_rayleigh, Cdinv_rf]\n",
    "\n",
    "def my_log_likelihood(\n",
    "    model, \n",
    "    fwd_funcs=fwd_funcs, \n",
    "    d_obs_list=d_obs_list, \n",
    "    Cdinv_list=Cdinv_list\n",
    "):\n",
    "    log_like_sum = 0\n",
    "    for (fwd, fwd_kwargs), d_obs, Cdinv in zip(fwd_funcs, d_obs_list, Cdinv_list):\n",
    "        try:\n",
    "            d_pred = fwd(model, **fwd_kwargs)\n",
    "        except:\n",
    "            return float(\"-inf\")\n",
    "        residual = d_obs - d_pred\n",
    "        log_like_sum += -0.5 * residual @ (Cdinv @ residual).T\n",
    "    return log_like_sum"
   ]
  },
  {
   "cell_type": "code",
   "execution_count": null,
   "id": "993e56d7-5912-42d4-9421-857cdca474a2",
   "metadata": {
    "papermill": {
     "duration": 0.017216,
     "end_time": "2024-04-16T23:38:04.379848",
     "exception": false,
     "start_time": "2024-04-16T23:38:04.362632",
     "status": "completed"
    },
    "tags": []
   },
   "outputs": [],
   "source": [
    "n_walkers = 40\n",
    "\n",
    "my_walkers_start = np.ones((n_walkers, n_dims)) * inv_res_optimiser.model\n",
    "for i in range(n_walkers):\n",
    "    my_walkers_start[i,:] += np.random.normal(0, 0.5, n_dims)"
   ]
  },
  {
   "cell_type": "code",
   "execution_count": null,
   "id": "10ebccfa-4b14-466f-bfb4-ca433d974918",
   "metadata": {
    "papermill": {
     "duration": 0.015934,
     "end_time": "2024-04-16T23:38:04.409559",
     "exception": false,
     "start_time": "2024-04-16T23:38:04.393625",
     "status": "completed"
    },
    "tags": []
   },
   "outputs": [],
   "source": [
    "joint_problem.set_log_prior(my_log_prior)\n",
    "joint_problem.set_log_likelihood(my_log_likelihood)"
   ]
  },
  {
   "cell_type": "markdown",
   "id": "976d2753-8765-4dc8-b4b5-352114f8d999",
   "metadata": {
    "papermill": {
     "duration": 0.012924,
     "end_time": "2024-04-16T23:38:04.435045",
     "exception": false,
     "start_time": "2024-04-16T23:38:04.422121",
     "status": "completed"
    },
    "tags": []
   },
   "source": [
    "**Define `InversionOptions`**"
   ]
  },
  {
   "cell_type": "code",
   "execution_count": null,
   "id": "899195f8-a121-487c-9926-d18933368868",
   "metadata": {
    "papermill": {
     "duration": 0.016979,
     "end_time": "2024-04-16T23:38:04.472501",
     "exception": false,
     "start_time": "2024-04-16T23:38:04.455522",
     "status": "completed"
    },
    "tags": []
   },
   "outputs": [],
   "source": [
    "inv_options_fixed_d_sampling = cofi.InversionOptions()\n",
    "inv_options_fixed_d_sampling.set_tool(\"emcee\")\n",
    "inv_options_fixed_d_sampling.set_params(\n",
    "    nwalkers=n_walkers, \n",
    "    nsteps=2_000, \n",
    "    initial_state=my_walkers_start, \n",
    "    skip_initial_state_check=True, \n",
    "    progress=True\n",
    ")"
   ]
  },
  {
   "cell_type": "markdown",
   "id": "d3c8bb49-842a-4c78-8498-2929ed488e21",
   "metadata": {
    "papermill": {
     "duration": 0.01721,
     "end_time": "2024-04-16T23:38:04.502454",
     "exception": false,
     "start_time": "2024-04-16T23:38:04.485244",
     "status": "completed"
    },
    "tags": []
   },
   "source": [
    "**Define `Inversion` and run**"
   ]
  },
  {
   "cell_type": "markdown",
   "id": "0f55faa8-febb-4bd0-8f81-fb341174b8a9",
   "metadata": {
    "papermill": {
     "duration": 0.012318,
     "end_time": "2024-04-16T23:38:04.561303",
     "exception": false,
     "start_time": "2024-04-16T23:38:04.548985",
     "status": "completed"
    },
    "tags": []
   },
   "source": [
    "### Sample the prior"
   ]
  },
  {
   "cell_type": "code",
   "execution_count": null,
   "id": "57dbd8d3-786e-46b1-9a65-4b3991b42f5d",
   "metadata": {
    "papermill": {
     "duration": 1.797136,
     "end_time": "2024-04-16T23:38:06.372062",
     "exception": false,
     "start_time": "2024-04-16T23:38:04.574926",
     "status": "completed"
    },
    "tags": []
   },
   "outputs": [
    {
     "name": "stderr",
     "output_type": "stream",
     "text": [
      "\r",
      " 11%|███████████████████████                                                                                                                                                                                       | 224/2000 [00:00<00:01, 1116.83it/s]"
     ]
    },
    {
     "name": "stderr",
     "output_type": "stream",
     "text": [
      "\r",
      " 17%|██████████████████████████████████▋                                                                                                                                                                           | 337/2000 [00:00<00:01, 1118.76it/s]"
     ]
    },
    {
     "name": "stderr",
     "output_type": "stream",
     "text": [
      "\r",
      " 22%|██████████████████████████████████████████████▎                                                                                                                                                               | 450/2000 [00:00<00:01, 1119.75it/s]"
     ]
    },
    {
     "name": "stderr",
     "output_type": "stream",
     "text": [
      "\r",
      " 28%|█████████████████████████████████████████████████████████▉                                                                                                                                                    | 563/2000 [00:00<00:01, 1121.89it/s]"
     ]
    },
    {
     "name": "stderr",
     "output_type": "stream",
     "text": [
      "\r",
      " 34%|█████████████████████████████████████████████████████████████████████▋                                                                                                                                        | 676/2000 [00:00<00:01, 1124.07it/s]"
     ]
    },
    {
     "name": "stderr",
     "output_type": "stream",
     "text": [
      "\r",
      " 39%|█████████████████████████████████████████████████████████████████████████████████▎                                                                                                                            | 789/2000 [00:00<00:01, 1118.86it/s]"
     ]
    },
    {
     "name": "stderr",
     "output_type": "stream",
     "text": [
      "\r",
      " 45%|█████████████████████████████████████████████████████████████████████████████████████████████                                                                                                                 | 903/2000 [00:00<00:00, 1123.07it/s]"
     ]
    },
    {
     "name": "stderr",
     "output_type": "stream",
     "text": [
      "\r",
      " 51%|████████████████████████████████████████████████████████████████████████████████████████████████████████▎                                                                                                    | 1018/2000 [00:00<00:00, 1128.59it/s]"
     ]
    },
    {
     "name": "stderr",
     "output_type": "stream",
     "text": [
      "\r",
      " 57%|████████████████████████████████████████████████████████████████████████████████████████████████████████████████████▏                                                                                        | 1133/2000 [00:01<00:00, 1133.40it/s]"
     ]
    },
    {
     "name": "stderr",
     "output_type": "stream",
     "text": [
      "\r",
      " 62%|████████████████████████████████████████████████████████████████████████████████████████████████████████████████████████████████                                                                             | 1249/2000 [00:01<00:00, 1138.98it/s]"
     ]
    },
    {
     "name": "stderr",
     "output_type": "stream",
     "text": [
      "\r",
      " 68%|███████████████████████████████████████████████████████████████████████████████████████████████████████████████████████████████████████████▊                                                                 | 1364/2000 [00:01<00:00, 1141.53it/s]"
     ]
    },
    {
     "name": "stderr",
     "output_type": "stream",
     "text": [
      "\r",
      " 74%|███████████████████████████████████████████████████████████████████████████████████████████████████████████████████████████████████████████████████████▋                                                     | 1480/2000 [00:01<00:00, 1146.04it/s]"
     ]
    },
    {
     "name": "stderr",
     "output_type": "stream",
     "text": [
      "\r",
      " 80%|███████████████████████████████████████████████████████████████████████████████████████████████████████████████████████████████████████████████████████████████████▋                                         | 1597/2000 [00:01<00:00, 1151.67it/s]"
     ]
    },
    {
     "name": "stderr",
     "output_type": "stream",
     "text": [
      "\r",
      " 86%|███████████████████████████████████████████████████████████████████████████████████████████████████████████████████████████████████████████████████████████████████████████████▋                             | 1714/2000 [00:01<00:00, 1157.17it/s]"
     ]
    },
    {
     "name": "stderr",
     "output_type": "stream",
     "text": [
      "\r",
      " 92%|███████████████████████████████████████████████████████████████████████████████████████████████████████████████████████████████████████████████████████████████████████████████████████████▊                 | 1832/2000 [00:01<00:00, 1161.57it/s]"
     ]
    },
    {
     "name": "stderr",
     "output_type": "stream",
     "text": [
      "\r",
      " 97%|███████████████████████████████████████████████████████████████████████████████████████████████████████████████████████████████████████████████████████████████████████████████████████████████████████▊     | 1949/2000 [00:01<00:00, 1162.94it/s]"
     ]
    },
    {
     "name": "stderr",
     "output_type": "stream",
     "text": [
      "\r",
      "100%|█████████████████████████████████████████████████████████████████████████████████████████████████████████████████████████████████████████████████████████████████████████████████████████████████████████████| 2000/2000 [00:01<00:00, 1140.58it/s]"
     ]
    },
    {
     "name": "stderr",
     "output_type": "stream",
     "text": [
      "\n"
     ]
    }
   ],
   "source": [
    "prior_sampling_problem = cofi.BaseProblem()\n",
    "prior_sampling_problem.set_log_posterior(my_log_prior)\n",
    "prior_sampling_problem.set_model_shape(init_model.shape)\n",
    "prior_sampler = cofi.Inversion(prior_sampling_problem, inv_options_fixed_d_sampling)\n",
    "prior_results = prior_sampler.run()"
   ]
  },
  {
   "cell_type": "code",
   "execution_count": null,
   "id": "060bde7b-0748-406d-964a-cdbc4c7ea238",
   "metadata": {
    "papermill": {
     "duration": 9.333604,
     "end_time": "2024-04-16T23:38:15.745360",
     "exception": false,
     "start_time": "2024-04-16T23:38:06.411756",
     "status": "completed"
    },
    "tags": []
   },
   "outputs": [],
   "source": [
    "import arviz as az\n",
    "\n",
    "labels = [\"v0\", \"t0\", \"v1\", \"t1\", \"v2\", \"t2\", \"v3\", \"t3\", \"v4\", \"t4\", \"v5\", \"t5\", \"v6\", \"t6\", \"v7\", \"t7\", \"v8\"]\n",
    "\n",
    "prior_results_sampler = prior_results.sampler\n",
    "az_idata_prior = az.from_emcee(prior_results_sampler, var_names=labels)\n",
    "\n",
    "axes = az.plot_trace(\n",
    "    az_idata_prior, \n",
    "    backend_kwargs={\"constrained_layout\":True}, \n",
    "    figsize=(10,20),\n",
    ")\n",
    "\n",
    "for i, axes_pair in enumerate(axes):\n",
    "    ax1 = axes_pair[0]\n",
    "    ax2 = axes_pair[1]\n",
    "    ax1.set_xlabel(\"parameter value\")\n",
    "    ax1.set_ylabel(\"density value\")\n",
    "    ax2.set_xlabel(\"number of iterations\")\n",
    "    ax2.set_ylabel(\"parameter value\")"
   ]
  },
  {
   "cell_type": "markdown",
   "id": "ab4ac31a-b32c-4e2a-b9df-f97b2d895974",
   "metadata": {
    "papermill": {
     "duration": 0.03295,
     "end_time": "2024-04-16T23:38:15.806375",
     "exception": false,
     "start_time": "2024-04-16T23:38:15.773425",
     "status": "completed"
    },
    "tags": []
   },
   "source": [
    "### Sample the posterior"
   ]
  },
  {
   "cell_type": "code",
   "execution_count": null,
   "id": "fcb6fd2e-803a-405f-8665-ef3c6c03eb91",
   "metadata": {
    "papermill": {
     "duration": 123.017455,
     "end_time": "2024-04-16T23:40:18.878928",
     "exception": false,
     "start_time": "2024-04-16T23:38:15.861473",
     "status": "completed"
    },
    "tags": []
   },
   "outputs": [
    {
     "name": "stderr",
     "output_type": "stream",
     "text": [
      "\r",
      "  0%|▍                                                                                                                                                                                                                 | 4/2000 [00:00<01:48, 18.34it/s]"
     ]
    },
    {
     "name": "stderr",
     "output_type": "stream",
     "text": [
      "\r",
      "  0%|▋                                                                                                                                                                                                                 | 6/2000 [00:00<01:51, 17.90it/s]"
     ]
    },
    {
     "name": "stderr",
     "output_type": "stream",
     "text": [
      "\r",
      "  0%|▊                                                                                                                                                                                                                 | 8/2000 [00:00<01:58, 16.87it/s]"
     ]
    },
    {
     "name": "stderr",
     "output_type": "stream",
     "text": [
      "\r",
      "  0%|█                                                                                                                                                                                                                | 10/2000 [00:00<02:02, 16.22it/s]"
     ]
    },
    {
     "name": "stderr",
     "output_type": "stream",
     "text": [
      "\r",
      "  1%|█▎                                                                                                                                                                                                               | 12/2000 [00:00<02:08, 15.44it/s]"
     ]
    },
    {
     "name": "stderr",
     "output_type": "stream",
     "text": [
      "\r",
      "  1%|█▍                                                                                                                                                                                                               | 14/2000 [00:00<02:13, 14.84it/s]"
     ]
    },
    {
     "name": "stderr",
     "output_type": "stream",
     "text": [
      "\r",
      "  1%|█▋                                                                                                                                                                                                               | 16/2000 [00:01<02:29, 13.24it/s]"
     ]
    },
    {
     "name": "stderr",
     "output_type": "stream",
     "text": [
      "\r",
      "  1%|█▉                                                                                                                                                                                                               | 18/2000 [00:01<02:54, 11.33it/s]"
     ]
    },
    {
     "name": "stderr",
     "output_type": "stream",
     "text": [
      "\r",
      "  1%|██                                                                                                                                                                                                               | 20/2000 [00:01<02:47, 11.85it/s]"
     ]
    },
    {
     "name": "stderr",
     "output_type": "stream",
     "text": [
      "\r",
      "  1%|██▎                                                                                                                                                                                                              | 22/2000 [00:01<02:42, 12.15it/s]"
     ]
    },
    {
     "name": "stderr",
     "output_type": "stream",
     "text": [
      "\r",
      "  1%|██▌                                                                                                                                                                                                              | 24/2000 [00:01<02:38, 12.48it/s]"
     ]
    },
    {
     "name": "stderr",
     "output_type": "stream",
     "text": [
      "\r",
      "  1%|██▋                                                                                                                                                                                                              | 26/2000 [00:01<02:37, 12.54it/s]"
     ]
    },
    {
     "name": "stderr",
     "output_type": "stream",
     "text": [
      "\r",
      "  1%|██▉                                                                                                                                                                                                              | 28/2000 [00:02<02:37, 12.52it/s]"
     ]
    },
    {
     "name": "stderr",
     "output_type": "stream",
     "text": [
      "\r",
      "  2%|███▏                                                                                                                                                                                                             | 30/2000 [00:02<02:36, 12.61it/s]"
     ]
    },
    {
     "name": "stderr",
     "output_type": "stream",
     "text": [
      "\r",
      "  2%|███▎                                                                                                                                                                                                             | 32/2000 [00:02<02:35, 12.64it/s]"
     ]
    },
    {
     "name": "stderr",
     "output_type": "stream",
     "text": [
      "\r",
      "  2%|███▌                                                                                                                                                                                                             | 34/2000 [00:02<02:36, 12.53it/s]"
     ]
    },
    {
     "name": "stderr",
     "output_type": "stream",
     "text": [
      "\r",
      "  2%|███▊                                                                                                                                                                                                             | 36/2000 [00:02<02:36, 12.58it/s]"
     ]
    },
    {
     "name": "stderr",
     "output_type": "stream",
     "text": [
      "\r",
      "  2%|███▉                                                                                                                                                                                                             | 38/2000 [00:02<02:35, 12.61it/s]"
     ]
    },
    {
     "name": "stderr",
     "output_type": "stream",
     "text": [
      "\r",
      "  2%|████▏                                                                                                                                                                                                            | 40/2000 [00:03<02:35, 12.63it/s]"
     ]
    },
    {
     "name": "stderr",
     "output_type": "stream",
     "text": [
      "\r",
      "  2%|████▍                                                                                                                                                                                                            | 42/2000 [00:03<02:34, 12.64it/s]"
     ]
    },
    {
     "name": "stderr",
     "output_type": "stream",
     "text": [
      "\r",
      "  2%|████▌                                                                                                                                                                                                            | 44/2000 [00:03<02:34, 12.66it/s]"
     ]
    },
    {
     "name": "stderr",
     "output_type": "stream",
     "text": [
      "\r",
      "  2%|████▊                                                                                                                                                                                                            | 46/2000 [00:03<02:34, 12.66it/s]"
     ]
    },
    {
     "name": "stderr",
     "output_type": "stream",
     "text": [
      "\r",
      "  2%|█████                                                                                                                                                                                                            | 48/2000 [00:03<02:34, 12.66it/s]"
     ]
    },
    {
     "name": "stderr",
     "output_type": "stream",
     "text": [
      "\r",
      "  2%|█████▏                                                                                                                                                                                                           | 50/2000 [00:03<02:34, 12.66it/s]"
     ]
    },
    {
     "name": "stderr",
     "output_type": "stream",
     "text": [
      "\r",
      "  3%|█████▍                                                                                                                                                                                                           | 52/2000 [00:03<02:34, 12.59it/s]"
     ]
    },
    {
     "name": "stderr",
     "output_type": "stream",
     "text": [
      "\r",
      "  3%|█████▋                                                                                                                                                                                                           | 54/2000 [00:04<02:34, 12.59it/s]"
     ]
    },
    {
     "name": "stderr",
     "output_type": "stream",
     "text": [
      "\r",
      "  3%|█████▊                                                                                                                                                                                                           | 56/2000 [00:04<02:34, 12.61it/s]"
     ]
    },
    {
     "name": "stderr",
     "output_type": "stream",
     "text": [
      "\r",
      "  3%|██████                                                                                                                                                                                                           | 58/2000 [00:04<02:33, 12.64it/s]"
     ]
    },
    {
     "name": "stderr",
     "output_type": "stream",
     "text": [
      "\r",
      "  3%|██████▎                                                                                                                                                                                                          | 60/2000 [00:04<02:33, 12.64it/s]"
     ]
    },
    {
     "name": "stderr",
     "output_type": "stream",
     "text": [
      "\r",
      "  3%|██████▍                                                                                                                                                                                                          | 62/2000 [00:04<02:33, 12.64it/s]"
     ]
    },
    {
     "name": "stderr",
     "output_type": "stream",
     "text": [
      "\r",
      "  3%|██████▋                                                                                                                                                                                                          | 64/2000 [00:04<02:33, 12.65it/s]"
     ]
    },
    {
     "name": "stderr",
     "output_type": "stream",
     "text": [
      "\r",
      "  3%|██████▉                                                                                                                                                                                                          | 66/2000 [00:05<02:32, 12.66it/s]"
     ]
    },
    {
     "name": "stderr",
     "output_type": "stream",
     "text": [
      "\r",
      "  3%|███████                                                                                                                                                                                                          | 68/2000 [00:05<02:32, 12.65it/s]"
     ]
    },
    {
     "name": "stderr",
     "output_type": "stream",
     "text": [
      "\r",
      "  4%|███████▎                                                                                                                                                                                                         | 70/2000 [00:05<02:32, 12.65it/s]"
     ]
    },
    {
     "name": "stderr",
     "output_type": "stream",
     "text": [
      "\r",
      "  4%|███████▌                                                                                                                                                                                                         | 72/2000 [00:05<02:32, 12.63it/s]"
     ]
    },
    {
     "name": "stderr",
     "output_type": "stream",
     "text": [
      "\r",
      "  4%|███████▋                                                                                                                                                                                                         | 74/2000 [00:05<02:32, 12.62it/s]"
     ]
    },
    {
     "name": "stderr",
     "output_type": "stream",
     "text": [
      "\r",
      "  4%|███████▉                                                                                                                                                                                                         | 76/2000 [00:05<02:33, 12.57it/s]"
     ]
    },
    {
     "name": "stderr",
     "output_type": "stream",
     "text": [
      "\r",
      "  4%|████████▏                                                                                                                                                                                                        | 78/2000 [00:06<02:32, 12.57it/s]"
     ]
    },
    {
     "name": "stderr",
     "output_type": "stream",
     "text": [
      "\r",
      "  4%|████████▎                                                                                                                                                                                                        | 80/2000 [00:06<02:32, 12.60it/s]"
     ]
    },
    {
     "name": "stderr",
     "output_type": "stream",
     "text": [
      "\r",
      "  4%|████████▌                                                                                                                                                                                                        | 82/2000 [00:06<02:33, 12.47it/s]"
     ]
    },
    {
     "name": "stderr",
     "output_type": "stream",
     "text": [
      "\r",
      "  4%|████████▊                                                                                                                                                                                                        | 84/2000 [00:06<02:32, 12.52it/s]"
     ]
    },
    {
     "name": "stderr",
     "output_type": "stream",
     "text": [
      "\r",
      "  4%|████████▉                                                                                                                                                                                                        | 86/2000 [00:06<02:32, 12.54it/s]"
     ]
    },
    {
     "name": "stderr",
     "output_type": "stream",
     "text": [
      "\r",
      "  4%|█████████▏                                                                                                                                                                                                       | 88/2000 [00:06<02:32, 12.58it/s]"
     ]
    },
    {
     "name": "stderr",
     "output_type": "stream",
     "text": [
      "\r",
      "  4%|█████████▍                                                                                                                                                                                                       | 90/2000 [00:06<02:31, 12.57it/s]"
     ]
    },
    {
     "name": "stderr",
     "output_type": "stream",
     "text": [
      "\r",
      "  5%|█████████▌                                                                                                                                                                                                       | 92/2000 [00:07<02:31, 12.59it/s]"
     ]
    },
    {
     "name": "stderr",
     "output_type": "stream",
     "text": [
      "\r",
      "  5%|█████████▊                                                                                                                                                                                                       | 94/2000 [00:07<02:31, 12.60it/s]"
     ]
    },
    {
     "name": "stderr",
     "output_type": "stream",
     "text": [
      "\r",
      "  5%|██████████                                                                                                                                                                                                       | 96/2000 [00:07<02:31, 12.61it/s]"
     ]
    },
    {
     "name": "stderr",
     "output_type": "stream",
     "text": [
      "\r",
      "  5%|██████████▏                                                                                                                                                                                                      | 98/2000 [00:07<02:31, 12.59it/s]"
     ]
    },
    {
     "name": "stderr",
     "output_type": "stream",
     "text": [
      "\r",
      "  5%|██████████▍                                                                                                                                                                                                     | 100/2000 [00:07<02:30, 12.61it/s]"
     ]
    },
    {
     "name": "stderr",
     "output_type": "stream",
     "text": [
      "\r",
      "  5%|██████████▌                                                                                                                                                                                                     | 102/2000 [00:07<02:30, 12.60it/s]"
     ]
    },
    {
     "name": "stderr",
     "output_type": "stream",
     "text": [
      "\r",
      "  5%|██████████▊                                                                                                                                                                                                     | 104/2000 [00:08<02:30, 12.60it/s]"
     ]
    },
    {
     "name": "stderr",
     "output_type": "stream",
     "text": [
      "\r",
      "  5%|███████████                                                                                                                                                                                                     | 106/2000 [00:08<02:30, 12.59it/s]"
     ]
    },
    {
     "name": "stderr",
     "output_type": "stream",
     "text": [
      "\r",
      "  5%|███████████▏                                                                                                                                                                                                    | 108/2000 [00:08<02:30, 12.60it/s]"
     ]
    },
    {
     "name": "stderr",
     "output_type": "stream",
     "text": [
      "\r",
      "  6%|███████████▍                                                                                                                                                                                                    | 110/2000 [00:08<02:30, 12.53it/s]"
     ]
    },
    {
     "name": "stderr",
     "output_type": "stream",
     "text": [
      "\r",
      "  6%|███████████▋                                                                                                                                                                                                    | 112/2000 [00:08<02:30, 12.55it/s]"
     ]
    },
    {
     "name": "stderr",
     "output_type": "stream",
     "text": [
      "\r",
      "  6%|███████████▊                                                                                                                                                                                                    | 114/2000 [00:08<02:30, 12.55it/s]"
     ]
    },
    {
     "name": "stderr",
     "output_type": "stream",
     "text": [
      "\r",
      "  6%|████████████                                                                                                                                                                                                    | 116/2000 [00:09<02:30, 12.55it/s]"
     ]
    },
    {
     "name": "stderr",
     "output_type": "stream",
     "text": [
      "\r",
      "  6%|████████████▎                                                                                                                                                                                                   | 118/2000 [00:09<02:29, 12.57it/s]"
     ]
    },
    {
     "name": "stderr",
     "output_type": "stream",
     "text": [
      "\r",
      "  6%|████████████▍                                                                                                                                                                                                   | 120/2000 [00:09<02:30, 12.45it/s]"
     ]
    },
    {
     "name": "stderr",
     "output_type": "stream",
     "text": [
      "\r",
      "  6%|████████████▋                                                                                                                                                                                                   | 122/2000 [00:09<02:30, 12.50it/s]"
     ]
    },
    {
     "name": "stderr",
     "output_type": "stream",
     "text": [
      "\r",
      "  6%|████████████▉                                                                                                                                                                                                   | 124/2000 [00:09<02:29, 12.51it/s]"
     ]
    },
    {
     "name": "stderr",
     "output_type": "stream",
     "text": [
      "\r",
      "  6%|█████████████                                                                                                                                                                                                   | 126/2000 [00:09<02:29, 12.55it/s]"
     ]
    },
    {
     "name": "stderr",
     "output_type": "stream",
     "text": [
      "\r",
      "  6%|█████████████▎                                                                                                                                                                                                  | 128/2000 [00:10<02:29, 12.55it/s]"
     ]
    },
    {
     "name": "stderr",
     "output_type": "stream",
     "text": [
      "\r",
      "  6%|█████████████▌                                                                                                                                                                                                  | 130/2000 [00:10<02:28, 12.58it/s]"
     ]
    },
    {
     "name": "stderr",
     "output_type": "stream",
     "text": [
      "\r",
      "  7%|█████████████▋                                                                                                                                                                                                  | 132/2000 [00:10<02:28, 12.58it/s]"
     ]
    },
    {
     "name": "stderr",
     "output_type": "stream",
     "text": [
      "\r",
      "  7%|█████████████▉                                                                                                                                                                                                  | 134/2000 [00:10<02:29, 12.49it/s]"
     ]
    },
    {
     "name": "stderr",
     "output_type": "stream",
     "text": [
      "\r",
      "  7%|██████████████▏                                                                                                                                                                                                 | 136/2000 [00:10<02:28, 12.52it/s]"
     ]
    },
    {
     "name": "stderr",
     "output_type": "stream",
     "text": [
      "\r",
      "  7%|██████████████▎                                                                                                                                                                                                 | 138/2000 [00:10<02:29, 12.45it/s]"
     ]
    },
    {
     "name": "stderr",
     "output_type": "stream",
     "text": [
      "\r",
      "  7%|██████████████▌                                                                                                                                                                                                 | 140/2000 [00:10<02:28, 12.49it/s]"
     ]
    },
    {
     "name": "stderr",
     "output_type": "stream",
     "text": [
      "\r",
      "  7%|██████████████▊                                                                                                                                                                                                 | 142/2000 [00:11<02:28, 12.51it/s]"
     ]
    },
    {
     "name": "stderr",
     "output_type": "stream",
     "text": [
      "\r",
      "  7%|██████████████▉                                                                                                                                                                                                 | 144/2000 [00:11<02:28, 12.53it/s]"
     ]
    },
    {
     "name": "stderr",
     "output_type": "stream",
     "text": [
      "\r",
      "  7%|███████████████▏                                                                                                                                                                                                | 146/2000 [00:11<02:27, 12.57it/s]"
     ]
    },
    {
     "name": "stderr",
     "output_type": "stream",
     "text": [
      "\r",
      "  7%|███████████████▍                                                                                                                                                                                                | 148/2000 [00:11<02:27, 12.56it/s]"
     ]
    },
    {
     "name": "stderr",
     "output_type": "stream",
     "text": [
      "\r",
      "  8%|███████████████▌                                                                                                                                                                                                | 150/2000 [00:11<02:26, 12.59it/s]"
     ]
    },
    {
     "name": "stderr",
     "output_type": "stream",
     "text": [
      "\r",
      "  8%|███████████████▊                                                                                                                                                                                                | 152/2000 [00:11<02:26, 12.57it/s]"
     ]
    },
    {
     "name": "stderr",
     "output_type": "stream",
     "text": [
      "\r",
      "  8%|████████████████                                                                                                                                                                                                | 154/2000 [00:12<02:27, 12.55it/s]"
     ]
    },
    {
     "name": "stderr",
     "output_type": "stream",
     "text": [
      "\r",
      "  8%|████████████████▏                                                                                                                                                                                               | 156/2000 [00:12<02:26, 12.58it/s]"
     ]
    },
    {
     "name": "stderr",
     "output_type": "stream",
     "text": [
      "\r",
      "  8%|████████████████▍                                                                                                                                                                                               | 158/2000 [00:12<02:26, 12.57it/s]"
     ]
    },
    {
     "name": "stderr",
     "output_type": "stream",
     "text": [
      "\r",
      "  8%|████████████████▋                                                                                                                                                                                               | 160/2000 [00:12<02:26, 12.59it/s]"
     ]
    },
    {
     "name": "stderr",
     "output_type": "stream",
     "text": [
      "\r",
      "  8%|████████████████▊                                                                                                                                                                                               | 162/2000 [00:12<02:26, 12.57it/s]"
     ]
    },
    {
     "name": "stderr",
     "output_type": "stream",
     "text": [
      "\r",
      "  8%|█████████████████                                                                                                                                                                                               | 164/2000 [00:12<02:26, 12.55it/s]"
     ]
    },
    {
     "name": "stderr",
     "output_type": "stream",
     "text": [
      "\r",
      "  8%|█████████████████▎                                                                                                                                                                                              | 166/2000 [00:13<02:34, 11.90it/s]"
     ]
    },
    {
     "name": "stderr",
     "output_type": "stream",
     "text": [
      "\r",
      "  8%|█████████████████▍                                                                                                                                                                                              | 168/2000 [00:13<02:31, 12.09it/s]"
     ]
    },
    {
     "name": "stderr",
     "output_type": "stream",
     "text": [
      "\r",
      "  8%|█████████████████▋                                                                                                                                                                                              | 170/2000 [00:13<02:29, 12.23it/s]"
     ]
    },
    {
     "name": "stderr",
     "output_type": "stream",
     "text": [
      "\r",
      "  9%|█████████████████▉                                                                                                                                                                                              | 172/2000 [00:13<02:28, 12.34it/s]"
     ]
    },
    {
     "name": "stderr",
     "output_type": "stream",
     "text": [
      "\r",
      "  9%|██████████████████                                                                                                                                                                                              | 174/2000 [00:13<02:27, 12.39it/s]"
     ]
    },
    {
     "name": "stderr",
     "output_type": "stream",
     "text": [
      "\r",
      "  9%|██████████████████▎                                                                                                                                                                                             | 176/2000 [00:13<02:26, 12.45it/s]"
     ]
    },
    {
     "name": "stderr",
     "output_type": "stream",
     "text": [
      "\r",
      "  9%|██████████████████▌                                                                                                                                                                                             | 178/2000 [00:14<02:28, 12.24it/s]"
     ]
    },
    {
     "name": "stderr",
     "output_type": "stream",
     "text": [
      "\r",
      "  9%|██████████████████▋                                                                                                                                                                                             | 180/2000 [00:14<02:27, 12.34it/s]"
     ]
    },
    {
     "name": "stderr",
     "output_type": "stream",
     "text": [
      "\r",
      "  9%|██████████████████▉                                                                                                                                                                                             | 182/2000 [00:14<02:26, 12.41it/s]"
     ]
    },
    {
     "name": "stderr",
     "output_type": "stream",
     "text": [
      "\r",
      "  9%|███████████████████▏                                                                                                                                                                                            | 184/2000 [00:14<02:25, 12.44it/s]"
     ]
    },
    {
     "name": "stderr",
     "output_type": "stream",
     "text": [
      "\r",
      "  9%|███████████████████▎                                                                                                                                                                                            | 186/2000 [00:14<02:25, 12.49it/s]"
     ]
    },
    {
     "name": "stderr",
     "output_type": "stream",
     "text": [
      "\r",
      "  9%|███████████████████▌                                                                                                                                                                                            | 188/2000 [00:14<02:24, 12.50it/s]"
     ]
    },
    {
     "name": "stderr",
     "output_type": "stream",
     "text": [
      "\r",
      " 10%|███████████████████▊                                                                                                                                                                                            | 190/2000 [00:14<02:24, 12.53it/s]"
     ]
    },
    {
     "name": "stderr",
     "output_type": "stream",
     "text": [
      "\r",
      " 10%|███████████████████▉                                                                                                                                                                                            | 192/2000 [00:15<02:24, 12.52it/s]"
     ]
    },
    {
     "name": "stderr",
     "output_type": "stream",
     "text": [
      "\r",
      " 10%|████████████████████▏                                                                                                                                                                                           | 194/2000 [00:15<02:23, 12.54it/s]"
     ]
    },
    {
     "name": "stderr",
     "output_type": "stream",
     "text": [
      "\r",
      " 10%|████████████████████▍                                                                                                                                                                                           | 196/2000 [00:15<02:23, 12.53it/s]"
     ]
    },
    {
     "name": "stderr",
     "output_type": "stream",
     "text": [
      "\r",
      " 10%|████████████████████▌                                                                                                                                                                                           | 198/2000 [00:15<02:23, 12.54it/s]"
     ]
    },
    {
     "name": "stderr",
     "output_type": "stream",
     "text": [
      "\r",
      " 10%|████████████████████▊                                                                                                                                                                                           | 200/2000 [00:15<02:23, 12.53it/s]"
     ]
    },
    {
     "name": "stderr",
     "output_type": "stream",
     "text": [
      "\r",
      " 10%|█████████████████████                                                                                                                                                                                           | 202/2000 [00:15<02:23, 12.54it/s]"
     ]
    },
    {
     "name": "stderr",
     "output_type": "stream",
     "text": [
      "\r",
      " 10%|█████████████████████▏                                                                                                                                                                                          | 204/2000 [00:16<02:23, 12.53it/s]"
     ]
    },
    {
     "name": "stderr",
     "output_type": "stream",
     "text": [
      "\r",
      " 10%|█████████████████████▍                                                                                                                                                                                          | 206/2000 [00:16<02:23, 12.54it/s]"
     ]
    },
    {
     "name": "stderr",
     "output_type": "stream",
     "text": [
      "\r",
      " 10%|█████████████████████▋                                                                                                                                                                                          | 208/2000 [00:16<02:22, 12.54it/s]"
     ]
    },
    {
     "name": "stderr",
     "output_type": "stream",
     "text": [
      "\r",
      " 10%|█████████████████████▊                                                                                                                                                                                          | 210/2000 [00:16<02:22, 12.54it/s]"
     ]
    },
    {
     "name": "stderr",
     "output_type": "stream",
     "text": [
      "\r",
      " 11%|██████████████████████                                                                                                                                                                                          | 212/2000 [00:16<02:22, 12.52it/s]"
     ]
    },
    {
     "name": "stderr",
     "output_type": "stream",
     "text": [
      "\r",
      " 11%|██████████████████████▎                                                                                                                                                                                         | 214/2000 [00:16<02:22, 12.53it/s]"
     ]
    },
    {
     "name": "stderr",
     "output_type": "stream",
     "text": [
      "\r",
      " 11%|██████████████████████▍                                                                                                                                                                                         | 216/2000 [00:17<02:22, 12.53it/s]"
     ]
    },
    {
     "name": "stderr",
     "output_type": "stream",
     "text": [
      "\r",
      " 11%|██████████████████████▋                                                                                                                                                                                         | 218/2000 [00:17<02:22, 12.54it/s]"
     ]
    },
    {
     "name": "stderr",
     "output_type": "stream",
     "text": [
      "\r",
      " 11%|██████████████████████▉                                                                                                                                                                                         | 220/2000 [00:17<02:21, 12.54it/s]"
     ]
    },
    {
     "name": "stderr",
     "output_type": "stream",
     "text": [
      "\r",
      " 11%|███████████████████████                                                                                                                                                                                         | 222/2000 [00:17<02:22, 12.52it/s]"
     ]
    },
    {
     "name": "stderr",
     "output_type": "stream",
     "text": [
      "\r",
      " 11%|███████████████████████▎                                                                                                                                                                                        | 224/2000 [00:17<02:21, 12.54it/s]"
     ]
    },
    {
     "name": "stderr",
     "output_type": "stream",
     "text": [
      "\r",
      " 11%|███████████████████████▌                                                                                                                                                                                        | 226/2000 [00:17<02:21, 12.52it/s]"
     ]
    },
    {
     "name": "stderr",
     "output_type": "stream",
     "text": [
      "\r",
      " 11%|███████████████████████▋                                                                                                                                                                                        | 228/2000 [00:18<02:21, 12.53it/s]"
     ]
    },
    {
     "name": "stderr",
     "output_type": "stream",
     "text": [
      "\r",
      " 12%|███████████████████████▉                                                                                                                                                                                        | 230/2000 [00:18<02:21, 12.51it/s]"
     ]
    },
    {
     "name": "stderr",
     "output_type": "stream",
     "text": [
      "\r",
      " 12%|████████████████████████▏                                                                                                                                                                                       | 232/2000 [00:18<02:21, 12.53it/s]"
     ]
    },
    {
     "name": "stderr",
     "output_type": "stream",
     "text": [
      "\r",
      " 12%|████████████████████████▎                                                                                                                                                                                       | 234/2000 [00:18<02:22, 12.39it/s]"
     ]
    },
    {
     "name": "stderr",
     "output_type": "stream",
     "text": [
      "\r",
      " 12%|████████████████████████▌                                                                                                                                                                                       | 236/2000 [00:18<02:22, 12.41it/s]"
     ]
    },
    {
     "name": "stderr",
     "output_type": "stream",
     "text": [
      "\r",
      " 12%|████████████████████████▊                                                                                                                                                                                       | 238/2000 [00:18<02:21, 12.43it/s]"
     ]
    },
    {
     "name": "stderr",
     "output_type": "stream",
     "text": [
      "\r",
      " 12%|████████████████████████▉                                                                                                                                                                                       | 240/2000 [00:18<02:21, 12.45it/s]"
     ]
    },
    {
     "name": "stderr",
     "output_type": "stream",
     "text": [
      "\r",
      " 12%|█████████████████████████▏                                                                                                                                                                                      | 242/2000 [00:19<02:20, 12.48it/s]"
     ]
    },
    {
     "name": "stderr",
     "output_type": "stream",
     "text": [
      "\r",
      " 12%|█████████████████████████▍                                                                                                                                                                                      | 244/2000 [00:19<02:20, 12.48it/s]"
     ]
    },
    {
     "name": "stderr",
     "output_type": "stream",
     "text": [
      "\r",
      " 12%|█████████████████████████▌                                                                                                                                                                                      | 246/2000 [00:19<02:20, 12.49it/s]"
     ]
    },
    {
     "name": "stderr",
     "output_type": "stream",
     "text": [
      "\r",
      " 12%|█████████████████████████▊                                                                                                                                                                                      | 248/2000 [00:19<02:20, 12.47it/s]"
     ]
    },
    {
     "name": "stderr",
     "output_type": "stream",
     "text": [
      "\r",
      " 12%|██████████████████████████                                                                                                                                                                                      | 250/2000 [00:19<02:20, 12.49it/s]"
     ]
    },
    {
     "name": "stderr",
     "output_type": "stream",
     "text": [
      "\r",
      " 13%|██████████████████████████▏                                                                                                                                                                                     | 252/2000 [00:19<02:19, 12.50it/s]"
     ]
    },
    {
     "name": "stderr",
     "output_type": "stream",
     "text": [
      "\r",
      " 13%|██████████████████████████▍                                                                                                                                                                                     | 254/2000 [00:20<02:19, 12.51it/s]"
     ]
    },
    {
     "name": "stderr",
     "output_type": "stream",
     "text": [
      "\r",
      " 13%|██████████████████████████▌                                                                                                                                                                                     | 256/2000 [00:20<02:19, 12.49it/s]"
     ]
    },
    {
     "name": "stderr",
     "output_type": "stream",
     "text": [
      "\r",
      " 13%|██████████████████████████▊                                                                                                                                                                                     | 258/2000 [00:20<02:19, 12.50it/s]"
     ]
    },
    {
     "name": "stderr",
     "output_type": "stream",
     "text": [
      "\r",
      " 13%|███████████████████████████                                                                                                                                                                                     | 260/2000 [00:20<02:19, 12.51it/s]"
     ]
    },
    {
     "name": "stderr",
     "output_type": "stream",
     "text": [
      "\r",
      " 13%|███████████████████████████▏                                                                                                                                                                                    | 262/2000 [00:20<02:19, 12.50it/s]"
     ]
    },
    {
     "name": "stderr",
     "output_type": "stream",
     "text": [
      "\r",
      " 13%|███████████████████████████▍                                                                                                                                                                                    | 264/2000 [00:20<02:18, 12.51it/s]"
     ]
    },
    {
     "name": "stderr",
     "output_type": "stream",
     "text": [
      "\r",
      " 13%|███████████████████████████▋                                                                                                                                                                                    | 266/2000 [00:21<02:18, 12.52it/s]"
     ]
    },
    {
     "name": "stderr",
     "output_type": "stream",
     "text": [
      "\r",
      " 13%|███████████████████████████▊                                                                                                                                                                                    | 268/2000 [00:21<02:18, 12.53it/s]"
     ]
    },
    {
     "name": "stderr",
     "output_type": "stream",
     "text": [
      "\r",
      " 14%|████████████████████████████                                                                                                                                                                                    | 270/2000 [00:21<02:18, 12.51it/s]"
     ]
    },
    {
     "name": "stderr",
     "output_type": "stream",
     "text": [
      "\r",
      " 14%|████████████████████████████▎                                                                                                                                                                                   | 272/2000 [00:21<02:18, 12.51it/s]"
     ]
    },
    {
     "name": "stderr",
     "output_type": "stream",
     "text": [
      "\r",
      " 14%|████████████████████████████▍                                                                                                                                                                                   | 274/2000 [00:21<02:17, 12.52it/s]"
     ]
    },
    {
     "name": "stderr",
     "output_type": "stream",
     "text": [
      "\r",
      " 14%|████████████████████████████▋                                                                                                                                                                                   | 276/2000 [00:21<02:17, 12.52it/s]"
     ]
    },
    {
     "name": "stderr",
     "output_type": "stream",
     "text": [
      "\r",
      " 14%|████████████████████████████▉                                                                                                                                                                                   | 278/2000 [00:22<02:17, 12.50it/s]"
     ]
    },
    {
     "name": "stderr",
     "output_type": "stream",
     "text": [
      "\r",
      " 14%|█████████████████████████████                                                                                                                                                                                   | 280/2000 [00:22<02:17, 12.51it/s]"
     ]
    },
    {
     "name": "stderr",
     "output_type": "stream",
     "text": [
      "\r",
      " 14%|█████████████████████████████▎                                                                                                                                                                                  | 282/2000 [00:22<02:17, 12.49it/s]"
     ]
    },
    {
     "name": "stderr",
     "output_type": "stream",
     "text": [
      "\r",
      " 14%|█████████████████████████████▌                                                                                                                                                                                  | 284/2000 [00:22<02:17, 12.49it/s]"
     ]
    },
    {
     "name": "stderr",
     "output_type": "stream",
     "text": [
      "\r",
      " 14%|█████████████████████████████▋                                                                                                                                                                                  | 286/2000 [00:22<02:17, 12.48it/s]"
     ]
    },
    {
     "name": "stderr",
     "output_type": "stream",
     "text": [
      "\r",
      " 14%|█████████████████████████████▉                                                                                                                                                                                  | 288/2000 [00:22<02:16, 12.50it/s]"
     ]
    },
    {
     "name": "stderr",
     "output_type": "stream",
     "text": [
      "\r",
      " 14%|██████████████████████████████▏                                                                                                                                                                                 | 290/2000 [00:22<02:17, 12.47it/s]"
     ]
    },
    {
     "name": "stderr",
     "output_type": "stream",
     "text": [
      "\r",
      " 15%|██████████████████████████████▎                                                                                                                                                                                 | 292/2000 [00:23<02:16, 12.49it/s]"
     ]
    },
    {
     "name": "stderr",
     "output_type": "stream",
     "text": [
      "\r",
      " 15%|██████████████████████████████▌                                                                                                                                                                                 | 294/2000 [00:23<02:16, 12.47it/s]"
     ]
    },
    {
     "name": "stderr",
     "output_type": "stream",
     "text": [
      "\r",
      " 15%|██████████████████████████████▊                                                                                                                                                                                 | 296/2000 [00:23<02:16, 12.49it/s]"
     ]
    },
    {
     "name": "stderr",
     "output_type": "stream",
     "text": [
      "\r",
      " 15%|██████████████████████████████▉                                                                                                                                                                                 | 298/2000 [00:23<02:16, 12.47it/s]"
     ]
    },
    {
     "name": "stderr",
     "output_type": "stream",
     "text": [
      "\r",
      " 15%|███████████████████████████████▏                                                                                                                                                                                | 300/2000 [00:23<02:16, 12.48it/s]"
     ]
    },
    {
     "name": "stderr",
     "output_type": "stream",
     "text": [
      "\r",
      " 15%|███████████████████████████████▍                                                                                                                                                                                | 302/2000 [00:23<02:16, 12.47it/s]"
     ]
    },
    {
     "name": "stderr",
     "output_type": "stream",
     "text": [
      "\r",
      " 15%|███████████████████████████████▌                                                                                                                                                                                | 304/2000 [00:24<02:15, 12.48it/s]"
     ]
    },
    {
     "name": "stderr",
     "output_type": "stream",
     "text": [
      "\r",
      " 15%|███████████████████████████████▊                                                                                                                                                                                | 306/2000 [00:24<02:15, 12.47it/s]"
     ]
    },
    {
     "name": "stderr",
     "output_type": "stream",
     "text": [
      "\r",
      " 15%|████████████████████████████████                                                                                                                                                                                | 308/2000 [00:24<02:15, 12.47it/s]"
     ]
    },
    {
     "name": "stderr",
     "output_type": "stream",
     "text": [
      "\r",
      " 16%|████████████████████████████████▏                                                                                                                                                                               | 310/2000 [00:24<02:15, 12.46it/s]"
     ]
    },
    {
     "name": "stderr",
     "output_type": "stream",
     "text": [
      "\r",
      " 16%|████████████████████████████████▍                                                                                                                                                                               | 312/2000 [00:24<02:15, 12.48it/s]"
     ]
    },
    {
     "name": "stderr",
     "output_type": "stream",
     "text": [
      "\r",
      " 16%|████████████████████████████████▋                                                                                                                                                                               | 314/2000 [00:24<02:15, 12.47it/s]"
     ]
    },
    {
     "name": "stderr",
     "output_type": "stream",
     "text": [
      "\r",
      " 16%|████████████████████████████████▊                                                                                                                                                                               | 316/2000 [00:25<02:14, 12.48it/s]"
     ]
    },
    {
     "name": "stderr",
     "output_type": "stream",
     "text": [
      "\r",
      " 16%|█████████████████████████████████                                                                                                                                                                               | 318/2000 [00:25<02:14, 12.47it/s]"
     ]
    },
    {
     "name": "stderr",
     "output_type": "stream",
     "text": [
      "\r",
      " 16%|█████████████████████████████████▎                                                                                                                                                                              | 320/2000 [00:25<02:14, 12.49it/s]"
     ]
    },
    {
     "name": "stderr",
     "output_type": "stream",
     "text": [
      "\r",
      " 16%|█████████████████████████████████▍                                                                                                                                                                              | 322/2000 [00:25<02:14, 12.46it/s]"
     ]
    },
    {
     "name": "stderr",
     "output_type": "stream",
     "text": [
      "\r",
      " 16%|█████████████████████████████████▋                                                                                                                                                                              | 324/2000 [00:25<02:14, 12.47it/s]"
     ]
    },
    {
     "name": "stderr",
     "output_type": "stream",
     "text": [
      "\r",
      " 16%|█████████████████████████████████▉                                                                                                                                                                              | 326/2000 [00:25<02:14, 12.47it/s]"
     ]
    },
    {
     "name": "stderr",
     "output_type": "stream",
     "text": [
      "\r",
      " 16%|██████████████████████████████████                                                                                                                                                                              | 328/2000 [00:26<02:13, 12.48it/s]"
     ]
    },
    {
     "name": "stderr",
     "output_type": "stream",
     "text": [
      "\r",
      " 16%|██████████████████████████████████▎                                                                                                                                                                             | 330/2000 [00:26<02:13, 12.47it/s]"
     ]
    },
    {
     "name": "stderr",
     "output_type": "stream",
     "text": [
      "\r",
      " 17%|██████████████████████████████████▌                                                                                                                                                                             | 332/2000 [00:26<02:13, 12.49it/s]"
     ]
    },
    {
     "name": "stderr",
     "output_type": "stream",
     "text": [
      "\r",
      " 17%|██████████████████████████████████▋                                                                                                                                                                             | 334/2000 [00:26<02:13, 12.47it/s]"
     ]
    },
    {
     "name": "stderr",
     "output_type": "stream",
     "text": [
      "\r",
      " 17%|██████████████████████████████████▉                                                                                                                                                                             | 336/2000 [00:26<02:13, 12.47it/s]"
     ]
    },
    {
     "name": "stderr",
     "output_type": "stream",
     "text": [
      "\r",
      " 17%|███████████████████████████████████▏                                                                                                                                                                            | 338/2000 [00:26<02:13, 12.48it/s]"
     ]
    },
    {
     "name": "stderr",
     "output_type": "stream",
     "text": [
      "\r",
      " 17%|███████████████████████████████████▎                                                                                                                                                                            | 340/2000 [00:26<02:13, 12.47it/s]"
     ]
    },
    {
     "name": "stderr",
     "output_type": "stream",
     "text": [
      "\r",
      " 17%|███████████████████████████████████▌                                                                                                                                                                            | 342/2000 [00:27<02:12, 12.48it/s]"
     ]
    },
    {
     "name": "stderr",
     "output_type": "stream",
     "text": [
      "\r",
      " 17%|███████████████████████████████████▊                                                                                                                                                                            | 344/2000 [00:27<02:12, 12.47it/s]"
     ]
    },
    {
     "name": "stderr",
     "output_type": "stream",
     "text": [
      "\r",
      " 17%|███████████████████████████████████▉                                                                                                                                                                            | 346/2000 [00:27<02:12, 12.49it/s]"
     ]
    },
    {
     "name": "stderr",
     "output_type": "stream",
     "text": [
      "\r",
      " 17%|████████████████████████████████████▏                                                                                                                                                                           | 348/2000 [00:27<02:12, 12.48it/s]"
     ]
    },
    {
     "name": "stderr",
     "output_type": "stream",
     "text": [
      "\r",
      " 18%|████████████████████████████████████▍                                                                                                                                                                           | 350/2000 [00:27<02:12, 12.49it/s]"
     ]
    },
    {
     "name": "stderr",
     "output_type": "stream",
     "text": [
      "\r",
      " 18%|████████████████████████████████████▌                                                                                                                                                                           | 352/2000 [00:27<02:11, 12.55it/s]"
     ]
    },
    {
     "name": "stderr",
     "output_type": "stream",
     "text": [
      "\r",
      " 18%|████████████████████████████████████▊                                                                                                                                                                           | 354/2000 [00:28<02:11, 12.54it/s]"
     ]
    },
    {
     "name": "stderr",
     "output_type": "stream",
     "text": [
      "\r",
      " 18%|█████████████████████████████████████                                                                                                                                                                           | 356/2000 [00:28<02:11, 12.51it/s]"
     ]
    },
    {
     "name": "stderr",
     "output_type": "stream",
     "text": [
      "\r",
      " 18%|█████████████████████████████████████▏                                                                                                                                                                          | 358/2000 [00:28<02:11, 12.50it/s]"
     ]
    },
    {
     "name": "stderr",
     "output_type": "stream",
     "text": [
      "\r",
      " 18%|█████████████████████████████████████▍                                                                                                                                                                          | 360/2000 [00:28<02:11, 12.43it/s]"
     ]
    },
    {
     "name": "stderr",
     "output_type": "stream",
     "text": [
      "\r",
      " 18%|█████████████████████████████████████▋                                                                                                                                                                          | 362/2000 [00:28<02:11, 12.48it/s]"
     ]
    },
    {
     "name": "stderr",
     "output_type": "stream",
     "text": [
      "\r",
      " 18%|█████████████████████████████████████▊                                                                                                                                                                          | 364/2000 [00:28<02:10, 12.57it/s]"
     ]
    },
    {
     "name": "stderr",
     "output_type": "stream",
     "text": [
      "\r",
      " 18%|██████████████████████████████████████                                                                                                                                                                          | 366/2000 [00:29<02:09, 12.57it/s]"
     ]
    },
    {
     "name": "stderr",
     "output_type": "stream",
     "text": [
      "\r",
      " 18%|██████████████████████████████████████▎                                                                                                                                                                         | 368/2000 [00:29<02:09, 12.59it/s]"
     ]
    },
    {
     "name": "stderr",
     "output_type": "stream",
     "text": [
      "\r",
      " 18%|██████████████████████████████████████▍                                                                                                                                                                         | 370/2000 [00:29<02:08, 12.66it/s]"
     ]
    },
    {
     "name": "stderr",
     "output_type": "stream",
     "text": [
      "\r",
      " 19%|██████████████████████████████████████▋                                                                                                                                                                         | 372/2000 [00:29<02:06, 12.84it/s]"
     ]
    },
    {
     "name": "stderr",
     "output_type": "stream",
     "text": [
      "\r",
      " 19%|██████████████████████████████████████▉                                                                                                                                                                         | 374/2000 [00:29<02:05, 12.91it/s]"
     ]
    },
    {
     "name": "stderr",
     "output_type": "stream",
     "text": [
      "\r",
      " 19%|███████████████████████████████████████                                                                                                                                                                         | 376/2000 [00:29<02:04, 13.03it/s]"
     ]
    },
    {
     "name": "stderr",
     "output_type": "stream",
     "text": [
      "\r",
      " 19%|███████████████████████████████████████▎                                                                                                                                                                        | 378/2000 [00:29<02:04, 13.03it/s]"
     ]
    },
    {
     "name": "stderr",
     "output_type": "stream",
     "text": [
      "\r",
      " 19%|███████████████████████████████████████▌                                                                                                                                                                        | 380/2000 [00:30<02:19, 11.62it/s]"
     ]
    },
    {
     "name": "stderr",
     "output_type": "stream",
     "text": [
      "\r",
      " 19%|███████████████████████████████████████▋                                                                                                                                                                        | 382/2000 [00:30<02:15, 11.92it/s]"
     ]
    },
    {
     "name": "stderr",
     "output_type": "stream",
     "text": [
      "\r",
      " 19%|███████████████████████████████████████▉                                                                                                                                                                        | 384/2000 [00:30<02:11, 12.27it/s]"
     ]
    },
    {
     "name": "stderr",
     "output_type": "stream",
     "text": [
      "\r",
      " 19%|████████████████████████████████████████▏                                                                                                                                                                       | 386/2000 [00:30<02:08, 12.53it/s]"
     ]
    },
    {
     "name": "stderr",
     "output_type": "stream",
     "text": [
      "\r",
      " 19%|████████████████████████████████████████▎                                                                                                                                                                       | 388/2000 [00:30<02:07, 12.65it/s]"
     ]
    },
    {
     "name": "stderr",
     "output_type": "stream",
     "text": [
      "\r",
      " 20%|████████████████████████████████████████▌                                                                                                                                                                       | 390/2000 [00:30<02:05, 12.81it/s]"
     ]
    },
    {
     "name": "stderr",
     "output_type": "stream",
     "text": [
      "\r",
      " 20%|████████████████████████████████████████▊                                                                                                                                                                       | 392/2000 [00:31<02:04, 12.91it/s]"
     ]
    },
    {
     "name": "stderr",
     "output_type": "stream",
     "text": [
      "\r",
      " 20%|████████████████████████████████████████▉                                                                                                                                                                       | 394/2000 [00:31<02:25, 11.06it/s]"
     ]
    },
    {
     "name": "stderr",
     "output_type": "stream",
     "text": [
      "\r",
      " 20%|█████████████████████████████████████████▏                                                                                                                                                                      | 396/2000 [00:31<02:16, 11.74it/s]"
     ]
    },
    {
     "name": "stderr",
     "output_type": "stream",
     "text": [
      "\r",
      " 20%|█████████████████████████████████████████▍                                                                                                                                                                      | 398/2000 [00:31<02:14, 11.93it/s]"
     ]
    },
    {
     "name": "stderr",
     "output_type": "stream",
     "text": [
      "\r",
      " 20%|█████████████████████████████████████████▌                                                                                                                                                                      | 400/2000 [00:31<02:10, 12.25it/s]"
     ]
    },
    {
     "name": "stderr",
     "output_type": "stream",
     "text": [
      "\r",
      " 20%|█████████████████████████████████████████▊                                                                                                                                                                      | 402/2000 [00:31<02:07, 12.56it/s]"
     ]
    },
    {
     "name": "stderr",
     "output_type": "stream",
     "text": [
      "\r",
      " 20%|██████████████████████████████████████████                                                                                                                                                                      | 404/2000 [00:32<02:03, 12.89it/s]"
     ]
    },
    {
     "name": "stderr",
     "output_type": "stream",
     "text": [
      "\r",
      " 20%|██████████████████████████████████████████▏                                                                                                                                                                     | 406/2000 [00:32<02:03, 12.89it/s]"
     ]
    },
    {
     "name": "stderr",
     "output_type": "stream",
     "text": [
      "\r",
      " 20%|██████████████████████████████████████████▍                                                                                                                                                                     | 408/2000 [00:32<02:01, 13.10it/s]"
     ]
    },
    {
     "name": "stderr",
     "output_type": "stream",
     "text": [
      "\r",
      " 20%|██████████████████████████████████████████▋                                                                                                                                                                     | 410/2000 [00:32<01:57, 13.48it/s]"
     ]
    },
    {
     "name": "stderr",
     "output_type": "stream",
     "text": [
      "\r",
      " 21%|██████████████████████████████████████████▊                                                                                                                                                                     | 412/2000 [00:32<01:54, 13.89it/s]"
     ]
    },
    {
     "name": "stderr",
     "output_type": "stream",
     "text": [
      "\r",
      " 21%|███████████████████████████████████████████                                                                                                                                                                     | 414/2000 [00:32<01:53, 14.00it/s]"
     ]
    },
    {
     "name": "stderr",
     "output_type": "stream",
     "text": [
      "\r",
      " 21%|███████████████████████████████████████████▎                                                                                                                                                                    | 416/2000 [00:32<01:53, 13.99it/s]"
     ]
    },
    {
     "name": "stderr",
     "output_type": "stream",
     "text": [
      "\r",
      " 21%|███████████████████████████████████████████▍                                                                                                                                                                    | 418/2000 [00:33<01:54, 13.78it/s]"
     ]
    },
    {
     "name": "stderr",
     "output_type": "stream",
     "text": [
      "\r",
      " 21%|███████████████████████████████████████████▋                                                                                                                                                                    | 420/2000 [00:33<01:56, 13.56it/s]"
     ]
    },
    {
     "name": "stderr",
     "output_type": "stream",
     "text": [
      "\r",
      " 21%|███████████████████████████████████████████▉                                                                                                                                                                    | 422/2000 [00:33<01:54, 13.77it/s]"
     ]
    },
    {
     "name": "stderr",
     "output_type": "stream",
     "text": [
      "\r",
      " 21%|████████████████████████████████████████████                                                                                                                                                                    | 424/2000 [00:33<01:54, 13.78it/s]"
     ]
    },
    {
     "name": "stderr",
     "output_type": "stream",
     "text": [
      "\r",
      " 21%|████████████████████████████████████████████▎                                                                                                                                                                   | 426/2000 [00:33<01:52, 13.98it/s]"
     ]
    },
    {
     "name": "stderr",
     "output_type": "stream",
     "text": [
      "\r",
      " 21%|████████████████████████████████████████████▌                                                                                                                                                                   | 428/2000 [00:33<01:51, 14.15it/s]"
     ]
    },
    {
     "name": "stderr",
     "output_type": "stream",
     "text": [
      "\r",
      " 22%|████████████████████████████████████████████▋                                                                                                                                                                   | 430/2000 [00:33<01:49, 14.30it/s]"
     ]
    },
    {
     "name": "stderr",
     "output_type": "stream",
     "text": [
      "\r",
      " 22%|████████████████████████████████████████████▉                                                                                                                                                                   | 432/2000 [00:34<01:49, 14.30it/s]"
     ]
    },
    {
     "name": "stderr",
     "output_type": "stream",
     "text": [
      "\r",
      " 22%|█████████████████████████████████████████████▏                                                                                                                                                                  | 434/2000 [00:34<01:48, 14.37it/s]"
     ]
    },
    {
     "name": "stderr",
     "output_type": "stream",
     "text": [
      "\r",
      " 22%|█████████████████████████████████████████████▎                                                                                                                                                                  | 436/2000 [00:34<01:48, 14.39it/s]"
     ]
    },
    {
     "name": "stderr",
     "output_type": "stream",
     "text": [
      "\r",
      " 22%|█████████████████████████████████████████████▌                                                                                                                                                                  | 438/2000 [00:34<01:49, 14.27it/s]"
     ]
    },
    {
     "name": "stderr",
     "output_type": "stream",
     "text": [
      "\r",
      " 22%|█████████████████████████████████████████████▊                                                                                                                                                                  | 440/2000 [00:34<01:46, 14.66it/s]"
     ]
    },
    {
     "name": "stderr",
     "output_type": "stream",
     "text": [
      "\r",
      " 22%|█████████████████████████████████████████████▉                                                                                                                                                                  | 442/2000 [00:34<01:46, 14.58it/s]"
     ]
    },
    {
     "name": "stderr",
     "output_type": "stream",
     "text": [
      "\r",
      " 22%|██████████████████████████████████████████████▏                                                                                                                                                                 | 444/2000 [00:34<01:47, 14.46it/s]"
     ]
    },
    {
     "name": "stderr",
     "output_type": "stream",
     "text": [
      "\r",
      " 22%|██████████████████████████████████████████████▍                                                                                                                                                                 | 446/2000 [00:35<01:48, 14.26it/s]"
     ]
    },
    {
     "name": "stderr",
     "output_type": "stream",
     "text": [
      "\r",
      " 22%|██████████████████████████████████████████████▌                                                                                                                                                                 | 448/2000 [00:35<01:48, 14.26it/s]"
     ]
    },
    {
     "name": "stderr",
     "output_type": "stream",
     "text": [
      "\r",
      " 22%|██████████████████████████████████████████████▊                                                                                                                                                                 | 450/2000 [00:35<01:47, 14.47it/s]"
     ]
    },
    {
     "name": "stderr",
     "output_type": "stream",
     "text": [
      "\r",
      " 23%|███████████████████████████████████████████████                                                                                                                                                                 | 452/2000 [00:35<01:48, 14.21it/s]"
     ]
    },
    {
     "name": "stderr",
     "output_type": "stream",
     "text": [
      "\r",
      " 23%|███████████████████████████████████████████████▏                                                                                                                                                                | 454/2000 [00:35<01:48, 14.20it/s]"
     ]
    },
    {
     "name": "stderr",
     "output_type": "stream",
     "text": [
      "\r",
      " 23%|███████████████████████████████████████████████▍                                                                                                                                                                | 456/2000 [00:35<01:47, 14.39it/s]"
     ]
    },
    {
     "name": "stderr",
     "output_type": "stream",
     "text": [
      "\r",
      " 23%|███████████████████████████████████████████████▋                                                                                                                                                                | 458/2000 [00:35<01:47, 14.32it/s]"
     ]
    },
    {
     "name": "stderr",
     "output_type": "stream",
     "text": [
      "\r",
      " 23%|███████████████████████████████████████████████▊                                                                                                                                                                | 460/2000 [00:36<01:45, 14.64it/s]"
     ]
    },
    {
     "name": "stderr",
     "output_type": "stream",
     "text": [
      "\r",
      " 23%|████████████████████████████████████████████████                                                                                                                                                                | 462/2000 [00:36<01:41, 15.09it/s]"
     ]
    },
    {
     "name": "stderr",
     "output_type": "stream",
     "text": [
      "\r",
      " 23%|████████████████████████████████████████████████▎                                                                                                                                                               | 464/2000 [00:36<01:40, 15.21it/s]"
     ]
    },
    {
     "name": "stderr",
     "output_type": "stream",
     "text": [
      "\r",
      " 23%|████████████████████████████████████████████████▍                                                                                                                                                               | 466/2000 [00:36<01:43, 14.79it/s]"
     ]
    },
    {
     "name": "stderr",
     "output_type": "stream",
     "text": [
      "\r",
      " 23%|████████████████████████████████████████████████▋                                                                                                                                                               | 468/2000 [00:36<01:43, 14.75it/s]"
     ]
    },
    {
     "name": "stderr",
     "output_type": "stream",
     "text": [
      "\r",
      " 24%|████████████████████████████████████████████████▉                                                                                                                                                               | 470/2000 [00:36<01:41, 15.05it/s]"
     ]
    },
    {
     "name": "stderr",
     "output_type": "stream",
     "text": [
      "\r",
      " 24%|█████████████████████████████████████████████████                                                                                                                                                               | 472/2000 [00:36<01:41, 15.01it/s]"
     ]
    },
    {
     "name": "stderr",
     "output_type": "stream",
     "text": [
      "\r",
      " 24%|█████████████████████████████████████████████████▎                                                                                                                                                              | 474/2000 [00:36<01:41, 15.10it/s]"
     ]
    },
    {
     "name": "stderr",
     "output_type": "stream",
     "text": [
      "\r",
      " 24%|█████████████████████████████████████████████████▌                                                                                                                                                              | 476/2000 [00:37<01:38, 15.50it/s]"
     ]
    },
    {
     "name": "stderr",
     "output_type": "stream",
     "text": [
      "\r",
      " 24%|█████████████████████████████████████████████████▋                                                                                                                                                              | 478/2000 [00:37<01:40, 15.18it/s]"
     ]
    },
    {
     "name": "stderr",
     "output_type": "stream",
     "text": [
      "\r",
      " 24%|█████████████████████████████████████████████████▉                                                                                                                                                              | 480/2000 [00:37<01:38, 15.43it/s]"
     ]
    },
    {
     "name": "stderr",
     "output_type": "stream",
     "text": [
      "\r",
      " 24%|██████████████████████████████████████████████████▏                                                                                                                                                             | 482/2000 [00:37<01:39, 15.20it/s]"
     ]
    },
    {
     "name": "stderr",
     "output_type": "stream",
     "text": [
      "\r",
      " 24%|██████████████████████████████████████████████████▎                                                                                                                                                             | 484/2000 [00:37<01:41, 14.88it/s]"
     ]
    },
    {
     "name": "stderr",
     "output_type": "stream",
     "text": [
      "\r",
      " 24%|██████████████████████████████████████████████████▌                                                                                                                                                             | 486/2000 [00:37<01:42, 14.75it/s]"
     ]
    },
    {
     "name": "stderr",
     "output_type": "stream",
     "text": [
      "\r",
      " 24%|██████████████████████████████████████████████████▊                                                                                                                                                             | 488/2000 [00:37<01:43, 14.66it/s]"
     ]
    },
    {
     "name": "stderr",
     "output_type": "stream",
     "text": [
      "\r",
      " 24%|██████████████████████████████████████████████████▉                                                                                                                                                             | 490/2000 [00:38<01:43, 14.58it/s]"
     ]
    },
    {
     "name": "stderr",
     "output_type": "stream",
     "text": [
      "\r",
      " 25%|███████████████████████████████████████████████████▏                                                                                                                                                            | 492/2000 [00:38<01:43, 14.58it/s]"
     ]
    },
    {
     "name": "stderr",
     "output_type": "stream",
     "text": [
      "\r",
      " 25%|███████████████████████████████████████████████████▍                                                                                                                                                            | 494/2000 [00:38<01:42, 14.66it/s]"
     ]
    },
    {
     "name": "stderr",
     "output_type": "stream",
     "text": [
      "\r",
      " 25%|███████████████████████████████████████████████████▌                                                                                                                                                            | 496/2000 [00:38<01:41, 14.79it/s]"
     ]
    },
    {
     "name": "stderr",
     "output_type": "stream",
     "text": [
      "\r",
      " 25%|███████████████████████████████████████████████████▊                                                                                                                                                            | 498/2000 [00:38<01:40, 14.99it/s]"
     ]
    },
    {
     "name": "stderr",
     "output_type": "stream",
     "text": [
      "\r",
      " 25%|████████████████████████████████████████████████████                                                                                                                                                            | 500/2000 [00:38<01:42, 14.65it/s]"
     ]
    },
    {
     "name": "stderr",
     "output_type": "stream",
     "text": [
      "\r",
      " 25%|████████████████████████████████████████████████████▏                                                                                                                                                           | 502/2000 [00:38<01:41, 14.80it/s]"
     ]
    },
    {
     "name": "stderr",
     "output_type": "stream",
     "text": [
      "\r",
      " 25%|████████████████████████████████████████████████████▍                                                                                                                                                           | 504/2000 [00:39<01:41, 14.76it/s]"
     ]
    },
    {
     "name": "stderr",
     "output_type": "stream",
     "text": [
      "\r",
      " 25%|████████████████████████████████████████████████████▌                                                                                                                                                           | 506/2000 [00:39<01:40, 14.80it/s]"
     ]
    },
    {
     "name": "stderr",
     "output_type": "stream",
     "text": [
      "\r",
      " 25%|████████████████████████████████████████████████████▊                                                                                                                                                           | 508/2000 [00:39<01:40, 14.88it/s]"
     ]
    },
    {
     "name": "stderr",
     "output_type": "stream",
     "text": [
      "\r",
      " 26%|█████████████████████████████████████████████████████                                                                                                                                                           | 510/2000 [00:39<01:39, 15.04it/s]"
     ]
    },
    {
     "name": "stderr",
     "output_type": "stream",
     "text": [
      "\r",
      " 26%|█████████████████████████████████████████████████████▏                                                                                                                                                          | 512/2000 [00:39<01:39, 14.96it/s]"
     ]
    },
    {
     "name": "stderr",
     "output_type": "stream",
     "text": [
      "\r",
      " 26%|█████████████████████████████████████████████████████▍                                                                                                                                                          | 514/2000 [00:39<01:39, 14.87it/s]"
     ]
    },
    {
     "name": "stderr",
     "output_type": "stream",
     "text": [
      "\r",
      " 26%|█████████████████████████████████████████████████████▋                                                                                                                                                          | 516/2000 [00:39<01:38, 15.06it/s]"
     ]
    },
    {
     "name": "stderr",
     "output_type": "stream",
     "text": [
      "\r",
      " 26%|█████████████████████████████████████████████████████▊                                                                                                                                                          | 518/2000 [00:39<01:38, 15.07it/s]"
     ]
    },
    {
     "name": "stderr",
     "output_type": "stream",
     "text": [
      "\r",
      " 26%|██████████████████████████████████████████████████████                                                                                                                                                          | 520/2000 [00:40<01:36, 15.41it/s]"
     ]
    },
    {
     "name": "stderr",
     "output_type": "stream",
     "text": [
      "\r",
      " 26%|██████████████████████████████████████████████████████▎                                                                                                                                                         | 522/2000 [00:40<01:35, 15.41it/s]"
     ]
    },
    {
     "name": "stderr",
     "output_type": "stream",
     "text": [
      "\r",
      " 26%|██████████████████████████████████████████████████████▍                                                                                                                                                         | 524/2000 [00:40<01:37, 15.21it/s]"
     ]
    },
    {
     "name": "stderr",
     "output_type": "stream",
     "text": [
      "\r",
      " 26%|██████████████████████████████████████████████████████▋                                                                                                                                                         | 526/2000 [00:40<01:34, 15.63it/s]"
     ]
    },
    {
     "name": "stderr",
     "output_type": "stream",
     "text": [
      "\r",
      " 26%|██████████████████████████████████████████████████████▉                                                                                                                                                         | 528/2000 [00:40<01:33, 15.75it/s]"
     ]
    },
    {
     "name": "stderr",
     "output_type": "stream",
     "text": [
      "\r",
      " 26%|███████████████████████████████████████████████████████                                                                                                                                                         | 530/2000 [00:40<01:31, 16.05it/s]"
     ]
    },
    {
     "name": "stderr",
     "output_type": "stream",
     "text": [
      "\r",
      " 27%|███████████████████████████████████████████████████████▎                                                                                                                                                        | 532/2000 [00:40<01:31, 16.12it/s]"
     ]
    },
    {
     "name": "stderr",
     "output_type": "stream",
     "text": [
      "\r",
      " 27%|███████████████████████████████████████████████████████▌                                                                                                                                                        | 534/2000 [00:40<01:34, 15.59it/s]"
     ]
    },
    {
     "name": "stderr",
     "output_type": "stream",
     "text": [
      "\r",
      " 27%|███████████████████████████████████████████████████████▋                                                                                                                                                        | 536/2000 [00:41<01:35, 15.30it/s]"
     ]
    },
    {
     "name": "stderr",
     "output_type": "stream",
     "text": [
      "\r",
      " 27%|███████████████████████████████████████████████████████▉                                                                                                                                                        | 538/2000 [00:41<01:36, 15.16it/s]"
     ]
    },
    {
     "name": "stderr",
     "output_type": "stream",
     "text": [
      "\r",
      " 27%|████████████████████████████████████████████████████████▏                                                                                                                                                       | 540/2000 [00:41<01:37, 15.05it/s]"
     ]
    },
    {
     "name": "stderr",
     "output_type": "stream",
     "text": [
      "\r",
      " 27%|████████████████████████████████████████████████████████▎                                                                                                                                                       | 542/2000 [00:41<01:36, 15.18it/s]"
     ]
    },
    {
     "name": "stderr",
     "output_type": "stream",
     "text": [
      "\r",
      " 27%|████████████████████████████████████████████████████████▌                                                                                                                                                       | 544/2000 [00:41<01:36, 15.15it/s]"
     ]
    },
    {
     "name": "stderr",
     "output_type": "stream",
     "text": [
      "\r",
      " 27%|████████████████████████████████████████████████████████▊                                                                                                                                                       | 546/2000 [00:41<01:37, 14.84it/s]"
     ]
    },
    {
     "name": "stderr",
     "output_type": "stream",
     "text": [
      "\r",
      " 27%|████████████████████████████████████████████████████████▉                                                                                                                                                       | 548/2000 [00:41<01:36, 15.00it/s]"
     ]
    },
    {
     "name": "stderr",
     "output_type": "stream",
     "text": [
      "\r",
      " 28%|█████████████████████████████████████████████████████████▏                                                                                                                                                      | 550/2000 [00:42<01:35, 15.22it/s]"
     ]
    },
    {
     "name": "stderr",
     "output_type": "stream",
     "text": [
      "\r",
      " 28%|█████████████████████████████████████████████████████████▍                                                                                                                                                      | 552/2000 [00:42<01:32, 15.69it/s]"
     ]
    },
    {
     "name": "stderr",
     "output_type": "stream",
     "text": [
      "\r",
      " 28%|█████████████████████████████████████████████████████████▌                                                                                                                                                      | 554/2000 [00:42<01:33, 15.47it/s]"
     ]
    },
    {
     "name": "stderr",
     "output_type": "stream",
     "text": [
      "\r",
      " 28%|█████████████████████████████████████████████████████████▊                                                                                                                                                      | 556/2000 [00:42<01:33, 15.42it/s]"
     ]
    },
    {
     "name": "stderr",
     "output_type": "stream",
     "text": [
      "\r",
      " 28%|██████████████████████████████████████████████████████████                                                                                                                                                      | 558/2000 [00:42<01:30, 15.87it/s]"
     ]
    },
    {
     "name": "stderr",
     "output_type": "stream",
     "text": [
      "\r",
      " 28%|██████████████████████████████████████████████████████████▏                                                                                                                                                     | 560/2000 [00:42<01:31, 15.70it/s]"
     ]
    },
    {
     "name": "stderr",
     "output_type": "stream",
     "text": [
      "\r",
      " 28%|██████████████████████████████████████████████████████████▍                                                                                                                                                     | 562/2000 [00:42<01:31, 15.65it/s]"
     ]
    },
    {
     "name": "stderr",
     "output_type": "stream",
     "text": [
      "\r",
      " 28%|██████████████████████████████████████████████████████████▋                                                                                                                                                     | 564/2000 [00:42<01:31, 15.75it/s]"
     ]
    },
    {
     "name": "stderr",
     "output_type": "stream",
     "text": [
      "\r",
      " 28%|██████████████████████████████████████████████████████████▊                                                                                                                                                     | 566/2000 [00:43<01:32, 15.48it/s]"
     ]
    },
    {
     "name": "stderr",
     "output_type": "stream",
     "text": [
      "\r",
      " 28%|███████████████████████████████████████████████████████████                                                                                                                                                     | 568/2000 [00:43<01:31, 15.63it/s]"
     ]
    },
    {
     "name": "stderr",
     "output_type": "stream",
     "text": [
      "\r",
      " 28%|███████████████████████████████████████████████████████████▎                                                                                                                                                    | 570/2000 [00:43<01:32, 15.53it/s]"
     ]
    },
    {
     "name": "stderr",
     "output_type": "stream",
     "text": [
      "\r",
      " 29%|███████████████████████████████████████████████████████████▍                                                                                                                                                    | 572/2000 [00:43<01:31, 15.61it/s]"
     ]
    },
    {
     "name": "stderr",
     "output_type": "stream",
     "text": [
      "\r",
      " 29%|███████████████████████████████████████████████████████████▋                                                                                                                                                    | 574/2000 [00:43<01:30, 15.80it/s]"
     ]
    },
    {
     "name": "stderr",
     "output_type": "stream",
     "text": [
      "\r",
      " 29%|███████████████████████████████████████████████████████████▉                                                                                                                                                    | 576/2000 [00:43<01:31, 15.65it/s]"
     ]
    },
    {
     "name": "stderr",
     "output_type": "stream",
     "text": [
      "\r",
      " 29%|████████████████████████████████████████████████████████████                                                                                                                                                    | 578/2000 [00:43<01:31, 15.48it/s]"
     ]
    },
    {
     "name": "stderr",
     "output_type": "stream",
     "text": [
      "\r",
      " 29%|████████████████████████████████████████████████████████████▎                                                                                                                                                   | 580/2000 [00:43<01:30, 15.63it/s]"
     ]
    },
    {
     "name": "stderr",
     "output_type": "stream",
     "text": [
      "\r",
      " 29%|████████████████████████████████████████████████████████████▌                                                                                                                                                   | 582/2000 [00:44<01:32, 15.41it/s]"
     ]
    },
    {
     "name": "stderr",
     "output_type": "stream",
     "text": [
      "\r",
      " 29%|████████████████████████████████████████████████████████████▋                                                                                                                                                   | 584/2000 [00:44<01:30, 15.62it/s]"
     ]
    },
    {
     "name": "stderr",
     "output_type": "stream",
     "text": [
      "\r",
      " 29%|████████████████████████████████████████████████████████████▉                                                                                                                                                   | 586/2000 [00:44<01:30, 15.56it/s]"
     ]
    },
    {
     "name": "stderr",
     "output_type": "stream",
     "text": [
      "\r",
      " 29%|█████████████████████████████████████████████████████████████▏                                                                                                                                                  | 588/2000 [00:44<01:27, 16.05it/s]"
     ]
    },
    {
     "name": "stderr",
     "output_type": "stream",
     "text": [
      "\r",
      " 30%|█████████████████████████████████████████████████████████████▎                                                                                                                                                  | 590/2000 [00:44<01:25, 16.42it/s]"
     ]
    },
    {
     "name": "stderr",
     "output_type": "stream",
     "text": [
      "\r",
      " 30%|█████████████████████████████████████████████████████████████▌                                                                                                                                                  | 592/2000 [00:44<01:26, 16.35it/s]"
     ]
    },
    {
     "name": "stderr",
     "output_type": "stream",
     "text": [
      "\r",
      " 30%|█████████████████████████████████████████████████████████████▊                                                                                                                                                  | 594/2000 [00:44<01:25, 16.52it/s]"
     ]
    },
    {
     "name": "stderr",
     "output_type": "stream",
     "text": [
      "\r",
      " 30%|█████████████████████████████████████████████████████████████▉                                                                                                                                                  | 596/2000 [00:44<01:26, 16.25it/s]"
     ]
    },
    {
     "name": "stderr",
     "output_type": "stream",
     "text": [
      "\r",
      " 30%|██████████████████████████████████████████████████████████████▏                                                                                                                                                 | 598/2000 [00:45<01:27, 15.98it/s]"
     ]
    },
    {
     "name": "stderr",
     "output_type": "stream",
     "text": [
      "\r",
      " 30%|██████████████████████████████████████████████████████████████▍                                                                                                                                                 | 600/2000 [00:45<01:30, 15.50it/s]"
     ]
    },
    {
     "name": "stderr",
     "output_type": "stream",
     "text": [
      "\r",
      " 30%|██████████████████████████████████████████████████████████████▌                                                                                                                                                 | 602/2000 [00:45<01:29, 15.58it/s]"
     ]
    },
    {
     "name": "stderr",
     "output_type": "stream",
     "text": [
      "\r",
      " 30%|██████████████████████████████████████████████████████████████▊                                                                                                                                                 | 604/2000 [00:45<01:32, 15.17it/s]"
     ]
    },
    {
     "name": "stderr",
     "output_type": "stream",
     "text": [
      "\r",
      " 30%|███████████████████████████████████████████████████████████████                                                                                                                                                 | 606/2000 [00:45<01:31, 15.29it/s]"
     ]
    },
    {
     "name": "stderr",
     "output_type": "stream",
     "text": [
      "\r",
      " 30%|███████████████████████████████████████████████████████████████▏                                                                                                                                                | 608/2000 [00:45<01:31, 15.29it/s]"
     ]
    },
    {
     "name": "stderr",
     "output_type": "stream",
     "text": [
      "\r",
      " 30%|███████████████████████████████████████████████████████████████▍                                                                                                                                                | 610/2000 [00:45<01:30, 15.37it/s]"
     ]
    },
    {
     "name": "stderr",
     "output_type": "stream",
     "text": [
      "\r",
      " 31%|███████████████████████████████████████████████████████████████▋                                                                                                                                                | 612/2000 [00:45<01:29, 15.57it/s]"
     ]
    },
    {
     "name": "stderr",
     "output_type": "stream",
     "text": [
      "\r",
      " 31%|███████████████████████████████████████████████████████████████▊                                                                                                                                                | 614/2000 [00:46<01:29, 15.54it/s]"
     ]
    },
    {
     "name": "stderr",
     "output_type": "stream",
     "text": [
      "\r",
      " 31%|████████████████████████████████████████████████████████████████                                                                                                                                                | 616/2000 [00:46<01:27, 15.75it/s]"
     ]
    },
    {
     "name": "stderr",
     "output_type": "stream",
     "text": [
      "\r",
      " 31%|████████████████████████████████████████████████████████████████▎                                                                                                                                               | 618/2000 [00:46<01:29, 15.44it/s]"
     ]
    },
    {
     "name": "stderr",
     "output_type": "stream",
     "text": [
      "\r",
      " 31%|████████████████████████████████████████████████████████████████▍                                                                                                                                               | 620/2000 [00:46<01:28, 15.54it/s]"
     ]
    },
    {
     "name": "stderr",
     "output_type": "stream",
     "text": [
      "\r",
      " 31%|████████████████████████████████████████████████████████████████▋                                                                                                                                               | 622/2000 [00:46<01:27, 15.75it/s]"
     ]
    },
    {
     "name": "stderr",
     "output_type": "stream",
     "text": [
      "\r",
      " 31%|████████████████████████████████████████████████████████████████▉                                                                                                                                               | 624/2000 [00:46<01:26, 15.84it/s]"
     ]
    },
    {
     "name": "stderr",
     "output_type": "stream",
     "text": [
      "\r",
      " 31%|█████████████████████████████████████████████████████████████████                                                                                                                                               | 626/2000 [00:46<01:24, 16.20it/s]"
     ]
    },
    {
     "name": "stderr",
     "output_type": "stream",
     "text": [
      "\r",
      " 31%|█████████████████████████████████████████████████████████████████▎                                                                                                                                              | 628/2000 [00:46<01:25, 16.00it/s]"
     ]
    },
    {
     "name": "stderr",
     "output_type": "stream",
     "text": [
      "\r",
      " 32%|█████████████████████████████████████████████████████████████████▌                                                                                                                                              | 630/2000 [00:47<01:24, 16.16it/s]"
     ]
    },
    {
     "name": "stderr",
     "output_type": "stream",
     "text": [
      "\r",
      " 32%|█████████████████████████████████████████████████████████████████▋                                                                                                                                              | 632/2000 [00:47<01:22, 16.49it/s]"
     ]
    },
    {
     "name": "stderr",
     "output_type": "stream",
     "text": [
      "\r",
      " 32%|█████████████████████████████████████████████████████████████████▉                                                                                                                                              | 634/2000 [00:47<01:23, 16.36it/s]"
     ]
    },
    {
     "name": "stderr",
     "output_type": "stream",
     "text": [
      "\r",
      " 32%|██████████████████████████████████████████████████████████████████▏                                                                                                                                             | 636/2000 [00:47<01:24, 16.11it/s]"
     ]
    },
    {
     "name": "stderr",
     "output_type": "stream",
     "text": [
      "\r",
      " 32%|██████████████████████████████████████████████████████████████████▎                                                                                                                                             | 638/2000 [00:47<01:21, 16.70it/s]"
     ]
    },
    {
     "name": "stderr",
     "output_type": "stream",
     "text": [
      "\r",
      " 32%|██████████████████████████████████████████████████████████████████▌                                                                                                                                             | 640/2000 [00:47<01:24, 16.19it/s]"
     ]
    },
    {
     "name": "stderr",
     "output_type": "stream",
     "text": [
      "\r",
      " 32%|██████████████████████████████████████████████████████████████████▊                                                                                                                                             | 642/2000 [00:47<01:23, 16.36it/s]"
     ]
    },
    {
     "name": "stderr",
     "output_type": "stream",
     "text": [
      "\r",
      " 32%|██████████████████████████████████████████████████████████████████▉                                                                                                                                             | 644/2000 [00:47<01:23, 16.26it/s]"
     ]
    },
    {
     "name": "stderr",
     "output_type": "stream",
     "text": [
      "\r",
      " 32%|███████████████████████████████████████████████████████████████████▏                                                                                                                                            | 646/2000 [00:48<01:23, 16.31it/s]"
     ]
    },
    {
     "name": "stderr",
     "output_type": "stream",
     "text": [
      "\r",
      " 32%|███████████████████████████████████████████████████████████████████▍                                                                                                                                            | 648/2000 [00:48<01:21, 16.53it/s]"
     ]
    },
    {
     "name": "stderr",
     "output_type": "stream",
     "text": [
      "\r",
      " 32%|███████████████████████████████████████████████████████████████████▌                                                                                                                                            | 650/2000 [00:48<01:22, 16.29it/s]"
     ]
    },
    {
     "name": "stderr",
     "output_type": "stream",
     "text": [
      "\r",
      " 33%|███████████████████████████████████████████████████████████████████▊                                                                                                                                            | 652/2000 [00:48<01:22, 16.36it/s]"
     ]
    },
    {
     "name": "stderr",
     "output_type": "stream",
     "text": [
      "\r",
      " 33%|████████████████████████████████████████████████████████████████████                                                                                                                                            | 654/2000 [00:48<01:23, 16.05it/s]"
     ]
    },
    {
     "name": "stderr",
     "output_type": "stream",
     "text": [
      "\r",
      " 33%|████████████████████████████████████████████████████████████████████▏                                                                                                                                           | 656/2000 [00:48<01:23, 16.03it/s]"
     ]
    },
    {
     "name": "stderr",
     "output_type": "stream",
     "text": [
      "\r",
      " 33%|████████████████████████████████████████████████████████████████████▍                                                                                                                                           | 658/2000 [00:48<01:24, 15.88it/s]"
     ]
    },
    {
     "name": "stderr",
     "output_type": "stream",
     "text": [
      "\r",
      " 33%|████████████████████████████████████████████████████████████████████▋                                                                                                                                           | 660/2000 [00:48<01:21, 16.35it/s]"
     ]
    },
    {
     "name": "stderr",
     "output_type": "stream",
     "text": [
      "\r",
      " 33%|████████████████████████████████████████████████████████████████████▊                                                                                                                                           | 662/2000 [00:49<01:21, 16.36it/s]"
     ]
    },
    {
     "name": "stderr",
     "output_type": "stream",
     "text": [
      "\r",
      " 33%|█████████████████████████████████████████████████████████████████████                                                                                                                                           | 664/2000 [00:49<01:22, 16.18it/s]"
     ]
    },
    {
     "name": "stderr",
     "output_type": "stream",
     "text": [
      "\r",
      " 33%|█████████████████████████████████████████████████████████████████████▎                                                                                                                                          | 666/2000 [00:49<01:22, 16.20it/s]"
     ]
    },
    {
     "name": "stderr",
     "output_type": "stream",
     "text": [
      "\r",
      " 33%|█████████████████████████████████████████████████████████████████████▍                                                                                                                                          | 668/2000 [00:49<01:20, 16.45it/s]"
     ]
    },
    {
     "name": "stderr",
     "output_type": "stream",
     "text": [
      "\r",
      " 34%|█████████████████████████████████████████████████████████████████████▋                                                                                                                                          | 670/2000 [00:49<01:19, 16.64it/s]"
     ]
    },
    {
     "name": "stderr",
     "output_type": "stream",
     "text": [
      "\r",
      " 34%|█████████████████████████████████████████████████████████████████████▉                                                                                                                                          | 672/2000 [00:49<01:21, 16.30it/s]"
     ]
    },
    {
     "name": "stderr",
     "output_type": "stream",
     "text": [
      "\r",
      " 34%|██████████████████████████████████████████████████████████████████████                                                                                                                                          | 674/2000 [00:49<01:22, 16.13it/s]"
     ]
    },
    {
     "name": "stderr",
     "output_type": "stream",
     "text": [
      "\r",
      " 34%|██████████████████████████████████████████████████████████████████████▎                                                                                                                                         | 676/2000 [00:49<01:21, 16.31it/s]"
     ]
    },
    {
     "name": "stderr",
     "output_type": "stream",
     "text": [
      "\r",
      " 34%|██████████████████████████████████████████████████████████████████████▌                                                                                                                                         | 678/2000 [00:50<01:20, 16.40it/s]"
     ]
    },
    {
     "name": "stderr",
     "output_type": "stream",
     "text": [
      "\r",
      " 34%|██████████████████████████████████████████████████████████████████████▋                                                                                                                                         | 680/2000 [00:50<01:21, 16.10it/s]"
     ]
    },
    {
     "name": "stderr",
     "output_type": "stream",
     "text": [
      "\r",
      " 34%|██████████████████████████████████████████████████████████████████████▉                                                                                                                                         | 682/2000 [00:50<01:22, 15.96it/s]"
     ]
    },
    {
     "name": "stderr",
     "output_type": "stream",
     "text": [
      "\r",
      " 34%|███████████████████████████████████████████████████████████████████████▏                                                                                                                                        | 684/2000 [00:50<01:24, 15.62it/s]"
     ]
    },
    {
     "name": "stderr",
     "output_type": "stream",
     "text": [
      "\r",
      " 34%|███████████████████████████████████████████████████████████████████████▎                                                                                                                                        | 686/2000 [00:50<01:23, 15.69it/s]"
     ]
    },
    {
     "name": "stderr",
     "output_type": "stream",
     "text": [
      "\r",
      " 34%|███████████████████████████████████████████████████████████████████████▌                                                                                                                                        | 688/2000 [00:50<01:23, 15.78it/s]"
     ]
    },
    {
     "name": "stderr",
     "output_type": "stream",
     "text": [
      "\r",
      " 34%|███████████████████████████████████████████████████████████████████████▊                                                                                                                                        | 690/2000 [00:50<01:22, 15.88it/s]"
     ]
    },
    {
     "name": "stderr",
     "output_type": "stream",
     "text": [
      "\r",
      " 35%|███████████████████████████████████████████████████████████████████████▉                                                                                                                                        | 692/2000 [00:50<01:22, 15.88it/s]"
     ]
    },
    {
     "name": "stderr",
     "output_type": "stream",
     "text": [
      "\r",
      " 35%|████████████████████████████████████████████████████████████████████████▏                                                                                                                                       | 694/2000 [00:51<01:20, 16.18it/s]"
     ]
    },
    {
     "name": "stderr",
     "output_type": "stream",
     "text": [
      "\r",
      " 35%|████████████████████████████████████████████████████████████████████████▍                                                                                                                                       | 696/2000 [00:51<01:18, 16.64it/s]"
     ]
    },
    {
     "name": "stderr",
     "output_type": "stream",
     "text": [
      "\r",
      " 35%|████████████████████████████████████████████████████████████████████████▌                                                                                                                                       | 698/2000 [00:51<01:16, 17.01it/s]"
     ]
    },
    {
     "name": "stderr",
     "output_type": "stream",
     "text": [
      "\r",
      " 35%|████████████████████████████████████████████████████████████████████████▊                                                                                                                                       | 700/2000 [00:51<01:15, 17.12it/s]"
     ]
    },
    {
     "name": "stderr",
     "output_type": "stream",
     "text": [
      "\r",
      " 35%|█████████████████████████████████████████████████████████████████████████                                                                                                                                       | 702/2000 [00:51<01:17, 16.78it/s]"
     ]
    },
    {
     "name": "stderr",
     "output_type": "stream",
     "text": [
      "\r",
      " 35%|█████████████████████████████████████████████████████████████████████████▏                                                                                                                                      | 704/2000 [00:51<01:16, 16.87it/s]"
     ]
    },
    {
     "name": "stderr",
     "output_type": "stream",
     "text": [
      "\r",
      " 35%|█████████████████████████████████████████████████████████████████████████▍                                                                                                                                      | 706/2000 [00:51<01:18, 16.57it/s]"
     ]
    },
    {
     "name": "stderr",
     "output_type": "stream",
     "text": [
      "\r",
      " 35%|█████████████████████████████████████████████████████████████████████████▋                                                                                                                                      | 708/2000 [00:51<01:16, 16.93it/s]"
     ]
    },
    {
     "name": "stderr",
     "output_type": "stream",
     "text": [
      "\r",
      " 36%|█████████████████████████████████████████████████████████████████████████▊                                                                                                                                      | 710/2000 [00:51<01:16, 16.76it/s]"
     ]
    },
    {
     "name": "stderr",
     "output_type": "stream",
     "text": [
      "\r",
      " 36%|██████████████████████████████████████████████████████████████████████████                                                                                                                                      | 712/2000 [00:52<01:16, 16.73it/s]"
     ]
    },
    {
     "name": "stderr",
     "output_type": "stream",
     "text": [
      "\r",
      " 36%|██████████████████████████████████████████████████████████████████████████▎                                                                                                                                     | 714/2000 [00:52<01:17, 16.63it/s]"
     ]
    },
    {
     "name": "stderr",
     "output_type": "stream",
     "text": [
      "\r",
      " 36%|██████████████████████████████████████████████████████████████████████████▍                                                                                                                                     | 716/2000 [00:52<01:20, 16.02it/s]"
     ]
    },
    {
     "name": "stderr",
     "output_type": "stream",
     "text": [
      "\r",
      " 36%|██████████████████████████████████████████████████████████████████████████▋                                                                                                                                     | 718/2000 [00:52<01:18, 16.37it/s]"
     ]
    },
    {
     "name": "stderr",
     "output_type": "stream",
     "text": [
      "\r",
      " 36%|██████████████████████████████████████████████████████████████████████████▉                                                                                                                                     | 720/2000 [00:52<01:17, 16.45it/s]"
     ]
    },
    {
     "name": "stderr",
     "output_type": "stream",
     "text": [
      "\r",
      " 36%|███████████████████████████████████████████████████████████████████████████                                                                                                                                     | 722/2000 [00:52<01:17, 16.51it/s]"
     ]
    },
    {
     "name": "stderr",
     "output_type": "stream",
     "text": [
      "\r",
      " 36%|███████████████████████████████████████████████████████████████████████████▎                                                                                                                                    | 724/2000 [00:52<01:18, 16.26it/s]"
     ]
    },
    {
     "name": "stderr",
     "output_type": "stream",
     "text": [
      "\r",
      " 36%|███████████████████████████████████████████████████████████████████████████▌                                                                                                                                    | 726/2000 [00:52<01:19, 16.08it/s]"
     ]
    },
    {
     "name": "stderr",
     "output_type": "stream",
     "text": [
      "\r",
      " 36%|███████████████████████████████████████████████████████████████████████████▋                                                                                                                                    | 728/2000 [00:53<01:20, 15.80it/s]"
     ]
    },
    {
     "name": "stderr",
     "output_type": "stream",
     "text": [
      "\r",
      " 36%|███████████████████████████████████████████████████████████████████████████▉                                                                                                                                    | 730/2000 [00:53<01:19, 15.96it/s]"
     ]
    },
    {
     "name": "stderr",
     "output_type": "stream",
     "text": [
      "\r",
      " 37%|████████████████████████████████████████████████████████████████████████████▏                                                                                                                                   | 732/2000 [00:53<01:18, 16.09it/s]"
     ]
    },
    {
     "name": "stderr",
     "output_type": "stream",
     "text": [
      "\r",
      " 37%|████████████████████████████████████████████████████████████████████████████▎                                                                                                                                   | 734/2000 [00:53<01:20, 15.67it/s]"
     ]
    },
    {
     "name": "stderr",
     "output_type": "stream",
     "text": [
      "\r",
      " 37%|████████████████████████████████████████████████████████████████████████████▌                                                                                                                                   | 736/2000 [00:53<01:16, 16.42it/s]"
     ]
    },
    {
     "name": "stderr",
     "output_type": "stream",
     "text": [
      "\r",
      " 37%|████████████████████████████████████████████████████████████████████████████▊                                                                                                                                   | 738/2000 [00:53<01:18, 16.14it/s]"
     ]
    },
    {
     "name": "stderr",
     "output_type": "stream",
     "text": [
      "\r",
      " 37%|████████████████████████████████████████████████████████████████████████████▉                                                                                                                                   | 740/2000 [00:53<01:16, 16.48it/s]"
     ]
    },
    {
     "name": "stderr",
     "output_type": "stream",
     "text": [
      "\r",
      " 37%|█████████████████████████████████████████████████████████████████████████████▏                                                                                                                                  | 742/2000 [00:53<01:15, 16.57it/s]"
     ]
    },
    {
     "name": "stderr",
     "output_type": "stream",
     "text": [
      "\r",
      " 37%|█████████████████████████████████████████████████████████████████████████████▍                                                                                                                                  | 744/2000 [00:54<01:16, 16.37it/s]"
     ]
    },
    {
     "name": "stderr",
     "output_type": "stream",
     "text": [
      "\r",
      " 37%|█████████████████████████████████████████████████████████████████████████████▌                                                                                                                                  | 746/2000 [00:54<01:15, 16.57it/s]"
     ]
    },
    {
     "name": "stderr",
     "output_type": "stream",
     "text": [
      "\r",
      " 37%|█████████████████████████████████████████████████████████████████████████████▊                                                                                                                                  | 748/2000 [00:54<01:15, 16.60it/s]"
     ]
    },
    {
     "name": "stderr",
     "output_type": "stream",
     "text": [
      "\r",
      " 38%|██████████████████████████████████████████████████████████████████████████████                                                                                                                                  | 750/2000 [00:54<01:15, 16.54it/s]"
     ]
    },
    {
     "name": "stderr",
     "output_type": "stream",
     "text": [
      "\r",
      " 38%|██████████████████████████████████████████████████████████████████████████████▏                                                                                                                                 | 752/2000 [00:54<01:17, 16.03it/s]"
     ]
    },
    {
     "name": "stderr",
     "output_type": "stream",
     "text": [
      "\r",
      " 38%|██████████████████████████████████████████████████████████████████████████████▍                                                                                                                                 | 754/2000 [00:54<01:16, 16.39it/s]"
     ]
    },
    {
     "name": "stderr",
     "output_type": "stream",
     "text": [
      "\r",
      " 38%|██████████████████████████████████████████████████████████████████████████████▌                                                                                                                                 | 756/2000 [00:54<01:17, 16.09it/s]"
     ]
    },
    {
     "name": "stderr",
     "output_type": "stream",
     "text": [
      "\r",
      " 38%|██████████████████████████████████████████████████████████████████████████████▊                                                                                                                                 | 758/2000 [00:54<01:17, 16.00it/s]"
     ]
    },
    {
     "name": "stderr",
     "output_type": "stream",
     "text": [
      "\r",
      " 38%|███████████████████████████████████████████████████████████████████████████████                                                                                                                                 | 760/2000 [00:55<01:16, 16.25it/s]"
     ]
    },
    {
     "name": "stderr",
     "output_type": "stream",
     "text": [
      "\r",
      " 38%|███████████████████████████████████████████████████████████████████████████████▏                                                                                                                                | 762/2000 [00:55<01:17, 15.99it/s]"
     ]
    },
    {
     "name": "stderr",
     "output_type": "stream",
     "text": [
      "\r",
      " 38%|███████████████████████████████████████████████████████████████████████████████▍                                                                                                                                | 764/2000 [00:55<01:18, 15.82it/s]"
     ]
    },
    {
     "name": "stderr",
     "output_type": "stream",
     "text": [
      "\r",
      " 38%|███████████████████████████████████████████████████████████████████████████████▋                                                                                                                                | 766/2000 [00:55<01:17, 15.92it/s]"
     ]
    },
    {
     "name": "stderr",
     "output_type": "stream",
     "text": [
      "\r",
      " 38%|███████████████████████████████████████████████████████████████████████████████▊                                                                                                                                | 768/2000 [00:55<01:16, 16.07it/s]"
     ]
    },
    {
     "name": "stderr",
     "output_type": "stream",
     "text": [
      "\r",
      " 38%|████████████████████████████████████████████████████████████████████████████████                                                                                                                                | 770/2000 [00:55<01:16, 16.18it/s]"
     ]
    },
    {
     "name": "stderr",
     "output_type": "stream",
     "text": [
      "\r",
      " 39%|████████████████████████████████████████████████████████████████████████████████▎                                                                                                                               | 772/2000 [00:55<01:16, 16.03it/s]"
     ]
    },
    {
     "name": "stderr",
     "output_type": "stream",
     "text": [
      "\r",
      " 39%|████████████████████████████████████████████████████████████████████████████████▍                                                                                                                               | 774/2000 [00:55<01:15, 16.29it/s]"
     ]
    },
    {
     "name": "stderr",
     "output_type": "stream",
     "text": [
      "\r",
      " 39%|████████████████████████████████████████████████████████████████████████████████▋                                                                                                                               | 776/2000 [00:56<01:12, 16.81it/s]"
     ]
    },
    {
     "name": "stderr",
     "output_type": "stream",
     "text": [
      "\r",
      " 39%|████████████████████████████████████████████████████████████████████████████████▉                                                                                                                               | 778/2000 [00:56<01:13, 16.60it/s]"
     ]
    },
    {
     "name": "stderr",
     "output_type": "stream",
     "text": [
      "\r",
      " 39%|█████████████████████████████████████████████████████████████████████████████████                                                                                                                               | 780/2000 [00:56<01:13, 16.62it/s]"
     ]
    },
    {
     "name": "stderr",
     "output_type": "stream",
     "text": [
      "\r",
      " 39%|█████████████████████████████████████████████████████████████████████████████████▎                                                                                                                              | 782/2000 [00:56<01:13, 16.68it/s]"
     ]
    },
    {
     "name": "stderr",
     "output_type": "stream",
     "text": [
      "\r",
      " 39%|█████████████████████████████████████████████████████████████████████████████████▌                                                                                                                              | 784/2000 [00:56<01:14, 16.25it/s]"
     ]
    },
    {
     "name": "stderr",
     "output_type": "stream",
     "text": [
      "\r",
      " 39%|█████████████████████████████████████████████████████████████████████████████████▋                                                                                                                              | 786/2000 [00:56<01:14, 16.34it/s]"
     ]
    },
    {
     "name": "stderr",
     "output_type": "stream",
     "text": [
      "\r",
      " 39%|█████████████████████████████████████████████████████████████████████████████████▉                                                                                                                              | 788/2000 [00:56<01:13, 16.52it/s]"
     ]
    },
    {
     "name": "stderr",
     "output_type": "stream",
     "text": [
      "\r",
      " 40%|██████████████████████████████████████████████████████████████████████████████████▏                                                                                                                             | 790/2000 [00:56<01:10, 17.13it/s]"
     ]
    },
    {
     "name": "stderr",
     "output_type": "stream",
     "text": [
      "\r",
      " 40%|██████████████████████████████████████████████████████████████████████████████████▎                                                                                                                             | 792/2000 [00:56<01:09, 17.33it/s]"
     ]
    },
    {
     "name": "stderr",
     "output_type": "stream",
     "text": [
      "\r",
      " 40%|██████████████████████████████████████████████████████████████████████████████████▌                                                                                                                             | 794/2000 [00:57<01:09, 17.31it/s]"
     ]
    },
    {
     "name": "stderr",
     "output_type": "stream",
     "text": [
      "\r",
      " 40%|██████████████████████████████████████████████████████████████████████████████████▊                                                                                                                             | 796/2000 [00:57<01:09, 17.35it/s]"
     ]
    },
    {
     "name": "stderr",
     "output_type": "stream",
     "text": [
      "\r",
      " 40%|██████████████████████████████████████████████████████████████████████████████████▉                                                                                                                             | 798/2000 [00:57<01:07, 17.73it/s]"
     ]
    },
    {
     "name": "stderr",
     "output_type": "stream",
     "text": [
      "\r",
      " 40%|███████████████████████████████████████████████████████████████████████████████████▏                                                                                                                            | 800/2000 [00:57<01:08, 17.62it/s]"
     ]
    },
    {
     "name": "stderr",
     "output_type": "stream",
     "text": [
      "\r",
      " 40%|███████████████████████████████████████████████████████████████████████████████████▍                                                                                                                            | 802/2000 [00:57<01:08, 17.55it/s]"
     ]
    },
    {
     "name": "stderr",
     "output_type": "stream",
     "text": [
      "\r",
      " 40%|███████████████████████████████████████████████████████████████████████████████████▌                                                                                                                            | 804/2000 [00:57<01:06, 17.87it/s]"
     ]
    },
    {
     "name": "stderr",
     "output_type": "stream",
     "text": [
      "\r",
      " 40%|███████████████████████████████████████████████████████████████████████████████████▊                                                                                                                            | 806/2000 [00:57<01:06, 17.90it/s]"
     ]
    },
    {
     "name": "stderr",
     "output_type": "stream",
     "text": [
      "\r",
      " 40%|████████████████████████████████████████████████████████████████████████████████████                                                                                                                            | 808/2000 [00:57<01:06, 17.88it/s]"
     ]
    },
    {
     "name": "stderr",
     "output_type": "stream",
     "text": [
      "\r",
      " 40%|████████████████████████████████████████████████████████████████████████████████████▏                                                                                                                           | 810/2000 [00:58<01:08, 17.41it/s]"
     ]
    },
    {
     "name": "stderr",
     "output_type": "stream",
     "text": [
      "\r",
      " 41%|████████████████████████████████████████████████████████████████████████████████████▍                                                                                                                           | 812/2000 [00:58<01:10, 16.77it/s]"
     ]
    },
    {
     "name": "stderr",
     "output_type": "stream",
     "text": [
      "\r",
      " 41%|████████████████████████████████████████████████████████████████████████████████████▋                                                                                                                           | 814/2000 [00:58<01:10, 16.74it/s]"
     ]
    },
    {
     "name": "stderr",
     "output_type": "stream",
     "text": [
      "\r",
      " 41%|████████████████████████████████████████████████████████████████████████████████████▊                                                                                                                           | 816/2000 [00:58<01:12, 16.44it/s]"
     ]
    },
    {
     "name": "stderr",
     "output_type": "stream",
     "text": [
      "\r",
      " 41%|█████████████████████████████████████████████████████████████████████████████████████                                                                                                                           | 818/2000 [00:58<01:12, 16.23it/s]"
     ]
    },
    {
     "name": "stderr",
     "output_type": "stream",
     "text": [
      "\r",
      " 41%|█████████████████████████████████████████████████████████████████████████████████████▎                                                                                                                          | 820/2000 [00:58<01:10, 16.68it/s]"
     ]
    },
    {
     "name": "stderr",
     "output_type": "stream",
     "text": [
      "\r",
      " 41%|█████████████████████████████████████████████████████████████████████████████████████▍                                                                                                                          | 822/2000 [00:58<01:09, 16.93it/s]"
     ]
    },
    {
     "name": "stderr",
     "output_type": "stream",
     "text": [
      "\r",
      " 41%|█████████████████████████████████████████████████████████████████████████████████████▋                                                                                                                          | 824/2000 [00:58<01:08, 17.10it/s]"
     ]
    },
    {
     "name": "stderr",
     "output_type": "stream",
     "text": [
      "\r",
      " 41%|█████████████████████████████████████████████████████████████████████████████████████▉                                                                                                                          | 826/2000 [00:58<01:07, 17.48it/s]"
     ]
    },
    {
     "name": "stderr",
     "output_type": "stream",
     "text": [
      "\r",
      " 41%|██████████████████████████████████████████████████████████████████████████████████████                                                                                                                          | 828/2000 [00:59<01:07, 17.31it/s]"
     ]
    },
    {
     "name": "stderr",
     "output_type": "stream",
     "text": [
      "\r",
      " 42%|██████████████████████████████████████████████████████████████████████████████████████▎                                                                                                                         | 830/2000 [00:59<01:10, 16.70it/s]"
     ]
    },
    {
     "name": "stderr",
     "output_type": "stream",
     "text": [
      "\r",
      " 42%|██████████████████████████████████████████████████████████████████████████████████████▌                                                                                                                         | 832/2000 [00:59<01:09, 16.81it/s]"
     ]
    },
    {
     "name": "stderr",
     "output_type": "stream",
     "text": [
      "\r",
      " 42%|██████████████████████████████████████████████████████████████████████████████████████▋                                                                                                                         | 834/2000 [00:59<01:09, 16.78it/s]"
     ]
    },
    {
     "name": "stderr",
     "output_type": "stream",
     "text": [
      "\r",
      " 42%|██████████████████████████████████████████████████████████████████████████████████████▉                                                                                                                         | 836/2000 [00:59<01:09, 16.70it/s]"
     ]
    },
    {
     "name": "stderr",
     "output_type": "stream",
     "text": [
      "\r",
      " 42%|███████████████████████████████████████████████████████████████████████████████████████▏                                                                                                                        | 838/2000 [00:59<01:09, 16.61it/s]"
     ]
    },
    {
     "name": "stderr",
     "output_type": "stream",
     "text": [
      "\r",
      " 42%|███████████████████████████████████████████████████████████████████████████████████████▎                                                                                                                        | 840/2000 [00:59<01:10, 16.39it/s]"
     ]
    },
    {
     "name": "stderr",
     "output_type": "stream",
     "text": [
      "\r",
      " 42%|███████████████████████████████████████████████████████████████████████████████████████▌                                                                                                                        | 842/2000 [00:59<01:09, 16.71it/s]"
     ]
    },
    {
     "name": "stderr",
     "output_type": "stream",
     "text": [
      "\r",
      " 42%|███████████████████████████████████████████████████████████████████████████████████████▊                                                                                                                        | 844/2000 [01:00<01:09, 16.55it/s]"
     ]
    },
    {
     "name": "stderr",
     "output_type": "stream",
     "text": [
      "\r",
      " 42%|████████████████████████████████████████████████████████████████████████████████████████                                                                                                                        | 847/2000 [01:00<01:04, 17.89it/s]"
     ]
    },
    {
     "name": "stderr",
     "output_type": "stream",
     "text": [
      "\r",
      " 42%|████████████████████████████████████████████████████████████████████████████████████████▎                                                                                                                       | 849/2000 [01:00<01:18, 14.70it/s]"
     ]
    },
    {
     "name": "stderr",
     "output_type": "stream",
     "text": [
      "\r",
      " 43%|████████████████████████████████████████████████████████████████████████████████████████▌                                                                                                                       | 851/2000 [01:00<01:14, 15.41it/s]"
     ]
    },
    {
     "name": "stderr",
     "output_type": "stream",
     "text": [
      "\r",
      " 43%|████████████████████████████████████████████████████████████████████████████████████████▋                                                                                                                       | 853/2000 [01:00<01:13, 15.70it/s]"
     ]
    },
    {
     "name": "stderr",
     "output_type": "stream",
     "text": [
      "\r",
      " 43%|████████████████████████████████████████████████████████████████████████████████████████▉                                                                                                                       | 855/2000 [01:00<01:08, 16.67it/s]"
     ]
    },
    {
     "name": "stderr",
     "output_type": "stream",
     "text": [
      "\r",
      " 43%|█████████████████████████████████████████████████████████████████████████████████████████▏                                                                                                                      | 857/2000 [01:00<01:06, 17.10it/s]"
     ]
    },
    {
     "name": "stderr",
     "output_type": "stream",
     "text": [
      "\r",
      " 43%|█████████████████████████████████████████████████████████████████████████████████████████▎                                                                                                                      | 859/2000 [01:00<01:07, 16.81it/s]"
     ]
    },
    {
     "name": "stderr",
     "output_type": "stream",
     "text": [
      "\r",
      " 43%|█████████████████████████████████████████████████████████████████████████████████████████▌                                                                                                                      | 861/2000 [01:01<01:07, 16.92it/s]"
     ]
    },
    {
     "name": "stderr",
     "output_type": "stream",
     "text": [
      "\r",
      " 43%|█████████████████████████████████████████████████████████████████████████████████████████▊                                                                                                                      | 863/2000 [01:01<01:07, 16.83it/s]"
     ]
    },
    {
     "name": "stderr",
     "output_type": "stream",
     "text": [
      "\r",
      " 43%|█████████████████████████████████████████████████████████████████████████████████████████▉                                                                                                                      | 865/2000 [01:01<01:07, 16.73it/s]"
     ]
    },
    {
     "name": "stderr",
     "output_type": "stream",
     "text": [
      "\r",
      " 43%|██████████████████████████████████████████████████████████████████████████████████████████▏                                                                                                                     | 867/2000 [01:01<01:22, 13.65it/s]"
     ]
    },
    {
     "name": "stderr",
     "output_type": "stream",
     "text": [
      "\r",
      " 43%|██████████████████████████████████████████████████████████████████████████████████████████▍                                                                                                                     | 869/2000 [01:01<01:18, 14.39it/s]"
     ]
    },
    {
     "name": "stderr",
     "output_type": "stream",
     "text": [
      "\r",
      " 44%|██████████████████████████████████████████████████████████████████████████████████████████▌                                                                                                                     | 871/2000 [01:01<01:15, 15.00it/s]"
     ]
    },
    {
     "name": "stderr",
     "output_type": "stream",
     "text": [
      "\r",
      " 44%|██████████████████████████████████████████████████████████████████████████████████████████▊                                                                                                                     | 873/2000 [01:01<01:12, 15.46it/s]"
     ]
    },
    {
     "name": "stderr",
     "output_type": "stream",
     "text": [
      "\r",
      " 44%|███████████████████████████████████████████████████████████████████████████████████████████                                                                                                                     | 875/2000 [01:02<01:10, 16.03it/s]"
     ]
    },
    {
     "name": "stderr",
     "output_type": "stream",
     "text": [
      "\r",
      " 44%|███████████████████████████████████████████████████████████████████████████████████████████▏                                                                                                                    | 877/2000 [01:02<01:06, 16.77it/s]"
     ]
    },
    {
     "name": "stderr",
     "output_type": "stream",
     "text": [
      "\r",
      " 44%|███████████████████████████████████████████████████████████████████████████████████████████▍                                                                                                                    | 879/2000 [01:02<01:06, 16.90it/s]"
     ]
    },
    {
     "name": "stderr",
     "output_type": "stream",
     "text": [
      "\r",
      " 44%|███████████████████████████████████████████████████████████████████████████████████████████▌                                                                                                                    | 881/2000 [01:02<01:05, 17.21it/s]"
     ]
    },
    {
     "name": "stderr",
     "output_type": "stream",
     "text": [
      "\r",
      " 44%|███████████████████████████████████████████████████████████████████████████████████████████▊                                                                                                                    | 883/2000 [01:02<01:06, 16.91it/s]"
     ]
    },
    {
     "name": "stderr",
     "output_type": "stream",
     "text": [
      "\r",
      " 44%|████████████████████████████████████████████████████████████████████████████████████████████                                                                                                                    | 885/2000 [01:02<01:05, 17.13it/s]"
     ]
    },
    {
     "name": "stderr",
     "output_type": "stream",
     "text": [
      "\r",
      " 44%|████████████████████████████████████████████████████████████████████████████████████████████▏                                                                                                                   | 887/2000 [01:02<01:04, 17.14it/s]"
     ]
    },
    {
     "name": "stderr",
     "output_type": "stream",
     "text": [
      "\r",
      " 44%|████████████████████████████████████████████████████████████████████████████████████████████▌                                                                                                                   | 890/2000 [01:02<01:03, 17.35it/s]"
     ]
    },
    {
     "name": "stderr",
     "output_type": "stream",
     "text": [
      "\r",
      " 45%|████████████████████████████████████████████████████████████████████████████████████████████▊                                                                                                                   | 892/2000 [01:02<01:03, 17.43it/s]"
     ]
    },
    {
     "name": "stderr",
     "output_type": "stream",
     "text": [
      "\r",
      " 45%|████████████████████████████████████████████████████████████████████████████████████████████▉                                                                                                                   | 894/2000 [01:03<01:03, 17.37it/s]"
     ]
    },
    {
     "name": "stderr",
     "output_type": "stream",
     "text": [
      "\r",
      " 45%|█████████████████████████████████████████████████████████████████████████████████████████████▏                                                                                                                  | 896/2000 [01:03<01:04, 17.00it/s]"
     ]
    },
    {
     "name": "stderr",
     "output_type": "stream",
     "text": [
      "\r",
      " 45%|█████████████████████████████████████████████████████████████████████████████████████████████▍                                                                                                                  | 898/2000 [01:03<01:03, 17.28it/s]"
     ]
    },
    {
     "name": "stderr",
     "output_type": "stream",
     "text": [
      "\r",
      " 45%|█████████████████████████████████████████████████████████████████████████████████████████████▌                                                                                                                  | 900/2000 [01:03<01:03, 17.22it/s]"
     ]
    },
    {
     "name": "stderr",
     "output_type": "stream",
     "text": [
      "\r",
      " 45%|█████████████████████████████████████████████████████████████████████████████████████████████▊                                                                                                                  | 902/2000 [01:03<01:01, 17.78it/s]"
     ]
    },
    {
     "name": "stderr",
     "output_type": "stream",
     "text": [
      "\r",
      " 45%|██████████████████████████████████████████████████████████████████████████████████████████████                                                                                                                  | 904/2000 [01:03<01:03, 17.23it/s]"
     ]
    },
    {
     "name": "stderr",
     "output_type": "stream",
     "text": [
      "\r",
      " 45%|██████████████████████████████████████████████████████████████████████████████████████████████▏                                                                                                                 | 906/2000 [01:03<01:03, 17.24it/s]"
     ]
    },
    {
     "name": "stderr",
     "output_type": "stream",
     "text": [
      "\r",
      " 45%|██████████████████████████████████████████████████████████████████████████████████████████████▍                                                                                                                 | 908/2000 [01:03<01:05, 16.63it/s]"
     ]
    },
    {
     "name": "stderr",
     "output_type": "stream",
     "text": [
      "\r",
      " 46%|██████████████████████████████████████████████████████████████████████████████████████████████▋                                                                                                                 | 910/2000 [01:04<01:04, 16.92it/s]"
     ]
    },
    {
     "name": "stderr",
     "output_type": "stream",
     "text": [
      "\r",
      " 46%|██████████████████████████████████████████████████████████████████████████████████████████████▊                                                                                                                 | 912/2000 [01:04<01:03, 17.23it/s]"
     ]
    },
    {
     "name": "stderr",
     "output_type": "stream",
     "text": [
      "\r",
      " 46%|███████████████████████████████████████████████████████████████████████████████████████████████                                                                                                                 | 914/2000 [01:04<01:04, 16.84it/s]"
     ]
    },
    {
     "name": "stderr",
     "output_type": "stream",
     "text": [
      "\r",
      " 46%|███████████████████████████████████████████████████████████████████████████████████████████████▎                                                                                                                | 916/2000 [01:04<01:05, 16.55it/s]"
     ]
    },
    {
     "name": "stderr",
     "output_type": "stream",
     "text": [
      "\r",
      " 46%|███████████████████████████████████████████████████████████████████████████████████████████████▍                                                                                                                | 918/2000 [01:04<01:03, 17.00it/s]"
     ]
    },
    {
     "name": "stderr",
     "output_type": "stream",
     "text": [
      "\r",
      " 46%|███████████████████████████████████████████████████████████████████████████████████████████████▋                                                                                                                | 920/2000 [01:04<01:03, 16.90it/s]"
     ]
    },
    {
     "name": "stderr",
     "output_type": "stream",
     "text": [
      "\r",
      " 46%|███████████████████████████████████████████████████████████████████████████████████████████████▉                                                                                                                | 922/2000 [01:04<01:04, 16.83it/s]"
     ]
    },
    {
     "name": "stderr",
     "output_type": "stream",
     "text": [
      "\r",
      " 46%|████████████████████████████████████████████████████████████████████████████████████████████████                                                                                                                | 924/2000 [01:04<01:02, 17.20it/s]"
     ]
    },
    {
     "name": "stderr",
     "output_type": "stream",
     "text": [
      "\r",
      " 46%|████████████████████████████████████████████████████████████████████████████████████████████████▎                                                                                                               | 926/2000 [01:04<01:02, 17.12it/s]"
     ]
    },
    {
     "name": "stderr",
     "output_type": "stream",
     "text": [
      "\r",
      " 46%|████████████████████████████████████████████████████████████████████████████████████████████████▌                                                                                                               | 928/2000 [01:05<01:02, 17.23it/s]"
     ]
    },
    {
     "name": "stderr",
     "output_type": "stream",
     "text": [
      "\r",
      " 46%|████████████████████████████████████████████████████████████████████████████████████████████████▋                                                                                                               | 930/2000 [01:05<01:02, 17.21it/s]"
     ]
    },
    {
     "name": "stderr",
     "output_type": "stream",
     "text": [
      "\r",
      " 47%|████████████████████████████████████████████████████████████████████████████████████████████████▉                                                                                                               | 932/2000 [01:05<01:01, 17.34it/s]"
     ]
    },
    {
     "name": "stderr",
     "output_type": "stream",
     "text": [
      "\r",
      " 47%|█████████████████████████████████████████████████████████████████████████████████████████████████▏                                                                                                              | 934/2000 [01:05<00:59, 17.96it/s]"
     ]
    },
    {
     "name": "stderr",
     "output_type": "stream",
     "text": [
      "\r",
      " 47%|█████████████████████████████████████████████████████████████████████████████████████████████████▎                                                                                                              | 936/2000 [01:05<00:58, 18.25it/s]"
     ]
    },
    {
     "name": "stderr",
     "output_type": "stream",
     "text": [
      "\r",
      " 47%|█████████████████████████████████████████████████████████████████████████████████████████████████▌                                                                                                              | 938/2000 [01:05<00:58, 18.13it/s]"
     ]
    },
    {
     "name": "stderr",
     "output_type": "stream",
     "text": [
      "\r",
      " 47%|█████████████████████████████████████████████████████████████████████████████████████████████████▊                                                                                                              | 940/2000 [01:05<01:00, 17.67it/s]"
     ]
    },
    {
     "name": "stderr",
     "output_type": "stream",
     "text": [
      "\r",
      " 47%|█████████████████████████████████████████████████████████████████████████████████████████████████▉                                                                                                              | 942/2000 [01:05<01:00, 17.61it/s]"
     ]
    },
    {
     "name": "stderr",
     "output_type": "stream",
     "text": [
      "\r",
      " 47%|██████████████████████████████████████████████████████████████████████████████████████████████████▏                                                                                                             | 944/2000 [01:05<00:58, 18.13it/s]"
     ]
    },
    {
     "name": "stderr",
     "output_type": "stream",
     "text": [
      "\r",
      " 47%|██████████████████████████████████████████████████████████████████████████████████████████████████▍                                                                                                             | 946/2000 [01:06<00:59, 17.76it/s]"
     ]
    },
    {
     "name": "stderr",
     "output_type": "stream",
     "text": [
      "\r",
      " 47%|██████████████████████████████████████████████████████████████████████████████████████████████████▌                                                                                                             | 948/2000 [01:06<01:00, 17.51it/s]"
     ]
    },
    {
     "name": "stderr",
     "output_type": "stream",
     "text": [
      "\r",
      " 48%|██████████████████████████████████████████████████████████████████████████████████████████████████▊                                                                                                             | 950/2000 [01:06<00:59, 17.55it/s]"
     ]
    },
    {
     "name": "stderr",
     "output_type": "stream",
     "text": [
      "\r",
      " 48%|███████████████████████████████████████████████████████████████████████████████████████████████████                                                                                                             | 953/2000 [01:06<00:57, 18.25it/s]"
     ]
    },
    {
     "name": "stderr",
     "output_type": "stream",
     "text": [
      "\r",
      " 48%|███████████████████████████████████████████████████████████████████████████████████████████████████▎                                                                                                            | 955/2000 [01:06<00:58, 17.93it/s]"
     ]
    },
    {
     "name": "stderr",
     "output_type": "stream",
     "text": [
      "\r",
      " 48%|███████████████████████████████████████████████████████████████████████████████████████████████████▌                                                                                                            | 957/2000 [01:06<00:58, 17.77it/s]"
     ]
    },
    {
     "name": "stderr",
     "output_type": "stream",
     "text": [
      "\r",
      " 48%|███████████████████████████████████████████████████████████████████████████████████████████████████▋                                                                                                            | 959/2000 [01:06<00:58, 17.65it/s]"
     ]
    },
    {
     "name": "stderr",
     "output_type": "stream",
     "text": [
      "\r",
      " 48%|███████████████████████████████████████████████████████████████████████████████████████████████████▉                                                                                                            | 961/2000 [01:06<01:01, 16.91it/s]"
     ]
    },
    {
     "name": "stderr",
     "output_type": "stream",
     "text": [
      "\r",
      " 48%|████████████████████████████████████████████████████████████████████████████████████████████████████▏                                                                                                           | 963/2000 [01:07<00:59, 17.45it/s]"
     ]
    },
    {
     "name": "stderr",
     "output_type": "stream",
     "text": [
      "\r",
      " 48%|████████████████████████████████████████████████████████████████████████████████████████████████████▎                                                                                                           | 965/2000 [01:07<00:59, 17.25it/s]"
     ]
    },
    {
     "name": "stderr",
     "output_type": "stream",
     "text": [
      "\r",
      " 48%|████████████████████████████████████████████████████████████████████████████████████████████████████▌                                                                                                           | 967/2000 [01:07<00:59, 17.28it/s]"
     ]
    },
    {
     "name": "stderr",
     "output_type": "stream",
     "text": [
      "\r",
      " 48%|████████████████████████████████████████████████████████████████████████████████████████████████████▊                                                                                                           | 969/2000 [01:07<01:01, 16.79it/s]"
     ]
    },
    {
     "name": "stderr",
     "output_type": "stream",
     "text": [
      "\r",
      " 49%|████████████████████████████████████████████████████████████████████████████████████████████████████▉                                                                                                           | 971/2000 [01:07<01:00, 16.91it/s]"
     ]
    },
    {
     "name": "stderr",
     "output_type": "stream",
     "text": [
      "\r",
      " 49%|█████████████████████████████████████████████████████████████████████████████████████████████████████▏                                                                                                          | 973/2000 [01:07<00:59, 17.12it/s]"
     ]
    },
    {
     "name": "stderr",
     "output_type": "stream",
     "text": [
      "\r",
      " 49%|█████████████████████████████████████████████████████████████████████████████████████████████████████▍                                                                                                          | 975/2000 [01:07<00:59, 17.19it/s]"
     ]
    },
    {
     "name": "stderr",
     "output_type": "stream",
     "text": [
      "\r",
      " 49%|█████████████████████████████████████████████████████████████████████████████████████████████████████▌                                                                                                          | 977/2000 [01:07<01:00, 16.88it/s]"
     ]
    },
    {
     "name": "stderr",
     "output_type": "stream",
     "text": [
      "\r",
      " 49%|█████████████████████████████████████████████████████████████████████████████████████████████████████▊                                                                                                          | 979/2000 [01:08<01:00, 17.01it/s]"
     ]
    },
    {
     "name": "stderr",
     "output_type": "stream",
     "text": [
      "\r",
      " 49%|██████████████████████████████████████████████████████████████████████████████████████████████████████                                                                                                          | 981/2000 [01:08<00:59, 17.19it/s]"
     ]
    },
    {
     "name": "stderr",
     "output_type": "stream",
     "text": [
      "\r",
      " 49%|██████████████████████████████████████████████████████████████████████████████████████████████████████▏                                                                                                         | 983/2000 [01:08<00:56, 17.85it/s]"
     ]
    },
    {
     "name": "stderr",
     "output_type": "stream",
     "text": [
      "\r",
      " 49%|██████████████████████████████████████████████████████████████████████████████████████████████████████▍                                                                                                         | 985/2000 [01:08<00:59, 17.18it/s]"
     ]
    },
    {
     "name": "stderr",
     "output_type": "stream",
     "text": [
      "\r",
      " 49%|██████████████████████████████████████████████████████████████████████████████████████████████████████▋                                                                                                         | 987/2000 [01:08<00:59, 16.93it/s]"
     ]
    },
    {
     "name": "stderr",
     "output_type": "stream",
     "text": [
      "\r",
      " 49%|██████████████████████████████████████████████████████████████████████████████████████████████████████▊                                                                                                         | 989/2000 [01:08<01:00, 16.74it/s]"
     ]
    },
    {
     "name": "stderr",
     "output_type": "stream",
     "text": [
      "\r",
      " 50%|███████████████████████████████████████████████████████████████████████████████████████████████████████                                                                                                         | 991/2000 [01:08<00:58, 17.30it/s]"
     ]
    },
    {
     "name": "stderr",
     "output_type": "stream",
     "text": [
      "\r",
      " 50%|███████████████████████████████████████████████████████████████████████████████████████████████████████▎                                                                                                        | 993/2000 [01:08<00:58, 17.12it/s]"
     ]
    },
    {
     "name": "stderr",
     "output_type": "stream",
     "text": [
      "\r",
      " 50%|███████████████████████████████████████████████████████████████████████████████████████████████████████▍                                                                                                        | 995/2000 [01:08<00:58, 17.30it/s]"
     ]
    },
    {
     "name": "stderr",
     "output_type": "stream",
     "text": [
      "\r",
      " 50%|███████████████████████████████████████████████████████████████████████████████████████████████████████▋                                                                                                        | 997/2000 [01:09<01:00, 16.70it/s]"
     ]
    },
    {
     "name": "stderr",
     "output_type": "stream",
     "text": [
      "\r",
      " 50%|███████████████████████████████████████████████████████████████████████████████████████████████████████▉                                                                                                        | 999/2000 [01:09<00:59, 16.85it/s]"
     ]
    },
    {
     "name": "stderr",
     "output_type": "stream",
     "text": [
      "\r",
      " 50%|███████████████████████████████████████████████████████████████████████████████████████████████████████▌                                                                                                       | 1001/2000 [01:09<00:57, 17.30it/s]"
     ]
    },
    {
     "name": "stderr",
     "output_type": "stream",
     "text": [
      "\r",
      " 50%|███████████████████████████████████████████████████████████████████████████████████████████████████████▉                                                                                                       | 1004/2000 [01:09<00:54, 18.25it/s]"
     ]
    },
    {
     "name": "stderr",
     "output_type": "stream",
     "text": [
      "\r",
      " 50%|████████████████████████████████████████████████████████████████████████████████████████████████████████                                                                                                       | 1006/2000 [01:09<00:54, 18.35it/s]"
     ]
    },
    {
     "name": "stderr",
     "output_type": "stream",
     "text": [
      "\r",
      " 50%|████████████████████████████████████████████████████████████████████████████████████████████████████████▎                                                                                                      | 1008/2000 [01:09<00:57, 17.39it/s]"
     ]
    },
    {
     "name": "stderr",
     "output_type": "stream",
     "text": [
      "\r",
      " 50%|████████████████████████████████████████████████████████████████████████████████████████████████████████▌                                                                                                      | 1010/2000 [01:09<00:56, 17.54it/s]"
     ]
    },
    {
     "name": "stderr",
     "output_type": "stream",
     "text": [
      "\r",
      " 51%|████████████████████████████████████████████████████████████████████████████████████████████████████████▋                                                                                                      | 1012/2000 [01:09<00:57, 17.33it/s]"
     ]
    },
    {
     "name": "stderr",
     "output_type": "stream",
     "text": [
      "\r",
      " 51%|████████████████████████████████████████████████████████████████████████████████████████████████████████▉                                                                                                      | 1014/2000 [01:10<00:55, 17.68it/s]"
     ]
    },
    {
     "name": "stderr",
     "output_type": "stream",
     "text": [
      "\r",
      " 51%|█████████████████████████████████████████████████████████████████████████████████████████████████████████▏                                                                                                     | 1016/2000 [01:10<00:55, 17.77it/s]"
     ]
    },
    {
     "name": "stderr",
     "output_type": "stream",
     "text": [
      "\r",
      " 51%|█████████████████████████████████████████████████████████████████████████████████████████████████████████▎                                                                                                     | 1018/2000 [01:10<00:53, 18.21it/s]"
     ]
    },
    {
     "name": "stderr",
     "output_type": "stream",
     "text": [
      "\r",
      " 51%|█████████████████████████████████████████████████████████████████████████████████████████████████████████▌                                                                                                     | 1020/2000 [01:10<00:55, 17.51it/s]"
     ]
    },
    {
     "name": "stderr",
     "output_type": "stream",
     "text": [
      "\r",
      " 51%|█████████████████████████████████████████████████████████████████████████████████████████████████████████▉                                                                                                     | 1023/2000 [01:10<00:53, 18.41it/s]"
     ]
    },
    {
     "name": "stderr",
     "output_type": "stream",
     "text": [
      "\r",
      " 51%|██████████████████████████████████████████████████████████████████████████████████████████████████████████                                                                                                     | 1025/2000 [01:10<00:54, 18.02it/s]"
     ]
    },
    {
     "name": "stderr",
     "output_type": "stream",
     "text": [
      "\r",
      " 51%|██████████████████████████████████████████████████████████████████████████████████████████████████████████▎                                                                                                    | 1027/2000 [01:10<00:53, 18.05it/s]"
     ]
    },
    {
     "name": "stderr",
     "output_type": "stream",
     "text": [
      "\r",
      " 51%|██████████████████████████████████████████████████████████████████████████████████████████████████████████▌                                                                                                    | 1029/2000 [01:10<00:53, 17.99it/s]"
     ]
    },
    {
     "name": "stderr",
     "output_type": "stream",
     "text": [
      "\r",
      " 52%|██████████████████████████████████████████████████████████████████████████████████████████████████████████▋                                                                                                    | 1031/2000 [01:10<00:53, 18.21it/s]"
     ]
    },
    {
     "name": "stderr",
     "output_type": "stream",
     "text": [
      "\r",
      " 52%|██████████████████████████████████████████████████████████████████████████████████████████████████████████▉                                                                                                    | 1033/2000 [01:11<00:53, 18.01it/s]"
     ]
    },
    {
     "name": "stderr",
     "output_type": "stream",
     "text": [
      "\r",
      " 52%|███████████████████████████████████████████████████████████████████████████████████████████████████████████                                                                                                    | 1035/2000 [01:11<00:53, 18.12it/s]"
     ]
    },
    {
     "name": "stderr",
     "output_type": "stream",
     "text": [
      "\r",
      " 52%|███████████████████████████████████████████████████████████████████████████████████████████████████████████▎                                                                                                   | 1037/2000 [01:11<00:53, 17.95it/s]"
     ]
    },
    {
     "name": "stderr",
     "output_type": "stream",
     "text": [
      "\r",
      " 52%|███████████████████████████████████████████████████████████████████████████████████████████████████████████▌                                                                                                   | 1039/2000 [01:11<00:52, 18.33it/s]"
     ]
    },
    {
     "name": "stderr",
     "output_type": "stream",
     "text": [
      "\r",
      " 52%|███████████████████████████████████████████████████████████████████████████████████████████████████████████▋                                                                                                   | 1041/2000 [01:11<00:51, 18.52it/s]"
     ]
    },
    {
     "name": "stderr",
     "output_type": "stream",
     "text": [
      "\r",
      " 52%|███████████████████████████████████████████████████████████████████████████████████████████████████████████▉                                                                                                   | 1043/2000 [01:11<00:51, 18.46it/s]"
     ]
    },
    {
     "name": "stderr",
     "output_type": "stream",
     "text": [
      "\r",
      " 52%|████████████████████████████████████████████████████████████████████████████████████████████████████████████▏                                                                                                  | 1045/2000 [01:11<00:50, 18.80it/s]"
     ]
    },
    {
     "name": "stderr",
     "output_type": "stream",
     "text": [
      "\r",
      " 52%|████████████████████████████████████████████████████████████████████████████████████████████████████████████▎                                                                                                  | 1047/2000 [01:11<00:52, 18.07it/s]"
     ]
    },
    {
     "name": "stderr",
     "output_type": "stream",
     "text": [
      "\r",
      " 52%|████████████████████████████████████████████████████████████████████████████████████████████████████████████▌                                                                                                  | 1049/2000 [01:11<00:52, 18.02it/s]"
     ]
    },
    {
     "name": "stderr",
     "output_type": "stream",
     "text": [
      "\r",
      " 53%|████████████████████████████████████████████████████████████████████████████████████████████████████████████▊                                                                                                  | 1051/2000 [01:12<00:53, 17.90it/s]"
     ]
    },
    {
     "name": "stderr",
     "output_type": "stream",
     "text": [
      "\r",
      " 53%|████████████████████████████████████████████████████████████████████████████████████████████████████████████▉                                                                                                  | 1053/2000 [01:12<00:52, 18.20it/s]"
     ]
    },
    {
     "name": "stderr",
     "output_type": "stream",
     "text": [
      "\r",
      " 53%|█████████████████████████████████████████████████████████████████████████████████████████████████████████████▏                                                                                                 | 1055/2000 [01:12<00:51, 18.51it/s]"
     ]
    },
    {
     "name": "stderr",
     "output_type": "stream",
     "text": [
      "\r",
      " 53%|█████████████████████████████████████████████████████████████████████████████████████████████████████████████▍                                                                                                 | 1057/2000 [01:12<00:51, 18.24it/s]"
     ]
    },
    {
     "name": "stderr",
     "output_type": "stream",
     "text": [
      "\r",
      " 53%|█████████████████████████████████████████████████████████████████████████████████████████████████████████████▋                                                                                                 | 1060/2000 [01:12<00:49, 19.08it/s]"
     ]
    },
    {
     "name": "stderr",
     "output_type": "stream",
     "text": [
      "\r",
      " 53%|█████████████████████████████████████████████████████████████████████████████████████████████████████████████▉                                                                                                 | 1062/2000 [01:12<00:49, 19.12it/s]"
     ]
    },
    {
     "name": "stderr",
     "output_type": "stream",
     "text": [
      "\r",
      " 53%|██████████████████████████████████████████████████████████████████████████████████████████████████████████████                                                                                                 | 1064/2000 [01:12<00:49, 18.97it/s]"
     ]
    },
    {
     "name": "stderr",
     "output_type": "stream",
     "text": [
      "\r",
      " 53%|██████████████████████████████████████████████████████████████████████████████████████████████████████████████▎                                                                                                | 1066/2000 [01:12<00:50, 18.38it/s]"
     ]
    },
    {
     "name": "stderr",
     "output_type": "stream",
     "text": [
      "\r",
      " 53%|██████████████████████████████████████████████████████████████████████████████████████████████████████████████▌                                                                                                | 1068/2000 [01:12<00:51, 18.16it/s]"
     ]
    },
    {
     "name": "stderr",
     "output_type": "stream",
     "text": [
      "\r",
      " 54%|██████████████████████████████████████████████████████████████████████████████████████████████████████████████▋                                                                                                | 1070/2000 [01:13<00:50, 18.48it/s]"
     ]
    },
    {
     "name": "stderr",
     "output_type": "stream",
     "text": [
      "\r",
      " 54%|███████████████████████████████████████████████████████████████████████████████████████████████████████████████                                                                                                | 1073/2000 [01:13<00:49, 18.59it/s]"
     ]
    },
    {
     "name": "stderr",
     "output_type": "stream",
     "text": [
      "\r",
      " 54%|███████████████████████████████████████████████████████████████████████████████████████████████████████████████▎                                                                                               | 1076/2000 [01:13<00:48, 19.14it/s]"
     ]
    },
    {
     "name": "stderr",
     "output_type": "stream",
     "text": [
      "\r",
      " 54%|███████████████████████████████████████████████████████████████████████████████████████████████████████████████▌                                                                                               | 1078/2000 [01:13<00:48, 18.91it/s]"
     ]
    },
    {
     "name": "stderr",
     "output_type": "stream",
     "text": [
      "\r",
      " 54%|███████████████████████████████████████████████████████████████████████████████████████████████████████████████▉                                                                                               | 1081/2000 [01:13<00:47, 19.18it/s]"
     ]
    },
    {
     "name": "stderr",
     "output_type": "stream",
     "text": [
      "\r",
      " 54%|████████████████████████████████████████████████████████████████████████████████████████████████████████████████                                                                                               | 1083/2000 [01:13<00:47, 19.25it/s]"
     ]
    },
    {
     "name": "stderr",
     "output_type": "stream",
     "text": [
      "\r",
      " 54%|████████████████████████████████████████████████████████████████████████████████████████████████████████████████▎                                                                                              | 1085/2000 [01:13<00:49, 18.67it/s]"
     ]
    },
    {
     "name": "stderr",
     "output_type": "stream",
     "text": [
      "\r",
      " 54%|████████████████████████████████████████████████████████████████████████████████████████████████████████████████▌                                                                                              | 1087/2000 [01:13<00:48, 18.80it/s]"
     ]
    },
    {
     "name": "stderr",
     "output_type": "stream",
     "text": [
      "\r",
      " 54%|████████████████████████████████████████████████████████████████████████████████████████████████████████████████▋                                                                                              | 1089/2000 [01:14<00:49, 18.52it/s]"
     ]
    },
    {
     "name": "stderr",
     "output_type": "stream",
     "text": [
      "\r",
      " 55%|█████████████████████████████████████████████████████████████████████████████████████████████████████████████████                                                                                              | 1092/2000 [01:14<00:48, 18.74it/s]"
     ]
    },
    {
     "name": "stderr",
     "output_type": "stream",
     "text": [
      "\r",
      " 55%|█████████████████████████████████████████████████████████████████████████████████████████████████████████████████▏                                                                                             | 1094/2000 [01:14<00:48, 18.78it/s]"
     ]
    },
    {
     "name": "stderr",
     "output_type": "stream",
     "text": [
      "\r",
      " 55%|█████████████████████████████████████████████████████████████████████████████████████████████████████████████████▍                                                                                             | 1096/2000 [01:14<00:48, 18.56it/s]"
     ]
    },
    {
     "name": "stderr",
     "output_type": "stream",
     "text": [
      "\r",
      " 55%|█████████████████████████████████████████████████████████████████████████████████████████████████████████████████▋                                                                                             | 1098/2000 [01:14<00:47, 18.85it/s]"
     ]
    },
    {
     "name": "stderr",
     "output_type": "stream",
     "text": [
      "\r",
      " 55%|█████████████████████████████████████████████████████████████████████████████████████████████████████████████████▉                                                                                             | 1101/2000 [01:14<00:46, 19.36it/s]"
     ]
    },
    {
     "name": "stderr",
     "output_type": "stream",
     "text": [
      "\r",
      " 55%|██████████████████████████████████████████████████████████████████████████████████████████████████████████████████▏                                                                                            | 1103/2000 [01:14<00:46, 19.21it/s]"
     ]
    },
    {
     "name": "stderr",
     "output_type": "stream",
     "text": [
      "\r",
      " 55%|██████████████████████████████████████████████████████████████████████████████████████████████████████████████████▎                                                                                            | 1105/2000 [01:14<00:47, 19.00it/s]"
     ]
    },
    {
     "name": "stderr",
     "output_type": "stream",
     "text": [
      "\r",
      " 55%|██████████████████████████████████████████████████████████████████████████████████████████████████████████████████▌                                                                                            | 1107/2000 [01:15<00:47, 18.65it/s]"
     ]
    },
    {
     "name": "stderr",
     "output_type": "stream",
     "text": [
      "\r",
      " 55%|██████████████████████████████████████████████████████████████████████████████████████████████████████████████████▊                                                                                            | 1109/2000 [01:15<00:47, 18.60it/s]"
     ]
    },
    {
     "name": "stderr",
     "output_type": "stream",
     "text": [
      "\r",
      " 56%|██████████████████████████████████████████████████████████████████████████████████████████████████████████████████▉                                                                                            | 1111/2000 [01:15<00:47, 18.81it/s]"
     ]
    },
    {
     "name": "stderr",
     "output_type": "stream",
     "text": [
      "\r",
      " 56%|███████████████████████████████████████████████████████████████████████████████████████████████████████████████████▏                                                                                           | 1113/2000 [01:15<00:47, 18.55it/s]"
     ]
    },
    {
     "name": "stderr",
     "output_type": "stream",
     "text": [
      "\r",
      " 56%|███████████████████████████████████████████████████████████████████████████████████████████████████████████████████▍                                                                                           | 1115/2000 [01:15<00:47, 18.58it/s]"
     ]
    },
    {
     "name": "stderr",
     "output_type": "stream",
     "text": [
      "\r",
      " 56%|███████████████████████████████████████████████████████████████████████████████████████████████████████████████████▋                                                                                           | 1118/2000 [01:15<00:47, 18.73it/s]"
     ]
    },
    {
     "name": "stderr",
     "output_type": "stream",
     "text": [
      "\r",
      " 56%|███████████████████████████████████████████████████████████████████████████████████████████████████████████████████▉                                                                                           | 1120/2000 [01:15<00:47, 18.47it/s]"
     ]
    },
    {
     "name": "stderr",
     "output_type": "stream",
     "text": [
      "\r",
      " 56%|████████████████████████████████████████████████████████████████████████████████████████████████████████████████████▏                                                                                          | 1122/2000 [01:15<00:47, 18.32it/s]"
     ]
    },
    {
     "name": "stderr",
     "output_type": "stream",
     "text": [
      "\r",
      " 56%|████████████████████████████████████████████████████████████████████████████████████████████████████████████████████▎                                                                                          | 1124/2000 [01:15<00:48, 18.01it/s]"
     ]
    },
    {
     "name": "stderr",
     "output_type": "stream",
     "text": [
      "\r",
      " 56%|████████████████████████████████████████████████████████████████████████████████████████████████████████████████████▌                                                                                          | 1126/2000 [01:16<00:47, 18.27it/s]"
     ]
    },
    {
     "name": "stderr",
     "output_type": "stream",
     "text": [
      "\r",
      " 56%|████████████████████████████████████████████████████████████████████████████████████████████████████████████████████▊                                                                                          | 1129/2000 [01:16<00:45, 19.06it/s]"
     ]
    },
    {
     "name": "stderr",
     "output_type": "stream",
     "text": [
      "\r",
      " 57%|█████████████████████████████████████████████████████████████████████████████████████████████████████████████████████                                                                                          | 1131/2000 [01:16<00:47, 18.47it/s]"
     ]
    },
    {
     "name": "stderr",
     "output_type": "stream",
     "text": [
      "\r",
      " 57%|█████████████████████████████████████████████████████████████████████████████████████████████████████████████████████▎                                                                                         | 1133/2000 [01:16<00:47, 18.23it/s]"
     ]
    },
    {
     "name": "stderr",
     "output_type": "stream",
     "text": [
      "\r",
      " 57%|█████████████████████████████████████████████████████████████████████████████████████████████████████████████████████▍                                                                                         | 1135/2000 [01:16<00:48, 17.96it/s]"
     ]
    },
    {
     "name": "stderr",
     "output_type": "stream",
     "text": [
      "\r",
      " 57%|█████████████████████████████████████████████████████████████████████████████████████████████████████████████████████▊                                                                                         | 1138/2000 [01:16<00:47, 18.27it/s]"
     ]
    },
    {
     "name": "stderr",
     "output_type": "stream",
     "text": [
      "\r",
      " 57%|█████████████████████████████████████████████████████████████████████████████████████████████████████████████████████▉                                                                                         | 1140/2000 [01:16<00:47, 18.26it/s]"
     ]
    },
    {
     "name": "stderr",
     "output_type": "stream",
     "text": [
      "\r",
      " 57%|██████████████████████████████████████████████████████████████████████████████████████████████████████████████████████▏                                                                                        | 1142/2000 [01:16<00:47, 17.99it/s]"
     ]
    },
    {
     "name": "stderr",
     "output_type": "stream",
     "text": [
      "\r",
      " 57%|██████████████████████████████████████████████████████████████████████████████████████████████████████████████████████▍                                                                                        | 1144/2000 [01:17<00:46, 18.34it/s]"
     ]
    },
    {
     "name": "stderr",
     "output_type": "stream",
     "text": [
      "\r",
      " 57%|██████████████████████████████████████████████████████████████████████████████████████████████████████████████████████▋                                                                                        | 1147/2000 [01:17<00:45, 18.84it/s]"
     ]
    },
    {
     "name": "stderr",
     "output_type": "stream",
     "text": [
      "\r",
      " 57%|██████████████████████████████████████████████████████████████████████████████████████████████████████████████████████▉                                                                                        | 1149/2000 [01:17<00:45, 18.60it/s]"
     ]
    },
    {
     "name": "stderr",
     "output_type": "stream",
     "text": [
      "\r",
      " 58%|███████████████████████████████████████████████████████████████████████████████████████████████████████████████████████▏                                                                                       | 1151/2000 [01:17<00:47, 18.06it/s]"
     ]
    },
    {
     "name": "stderr",
     "output_type": "stream",
     "text": [
      "\r",
      " 58%|███████████████████████████████████████████████████████████████████████████████████████████████████████████████████████▎                                                                                       | 1153/2000 [01:17<00:46, 18.07it/s]"
     ]
    },
    {
     "name": "stderr",
     "output_type": "stream",
     "text": [
      "\r",
      " 58%|███████████████████████████████████████████████████████████████████████████████████████████████████████████████████████▌                                                                                       | 1155/2000 [01:17<00:46, 18.28it/s]"
     ]
    },
    {
     "name": "stderr",
     "output_type": "stream",
     "text": [
      "\r",
      " 58%|███████████████████████████████████████████████████████████████████████████████████████████████████████████████████████▋                                                                                       | 1157/2000 [01:17<00:47, 17.60it/s]"
     ]
    },
    {
     "name": "stderr",
     "output_type": "stream",
     "text": [
      "\r",
      " 58%|███████████████████████████████████████████████████████████████████████████████████████████████████████████████████████▉                                                                                       | 1159/2000 [01:17<00:48, 17.27it/s]"
     ]
    },
    {
     "name": "stderr",
     "output_type": "stream",
     "text": [
      "\r",
      " 58%|████████████████████████████████████████████████████████████████████████████████████████████████████████████████████████▏                                                                                      | 1161/2000 [01:18<00:48, 17.38it/s]"
     ]
    },
    {
     "name": "stderr",
     "output_type": "stream",
     "text": [
      "\r",
      " 58%|████████████████████████████████████████████████████████████████████████████████████████████████████████████████████████▎                                                                                      | 1163/2000 [01:18<00:47, 17.46it/s]"
     ]
    },
    {
     "name": "stderr",
     "output_type": "stream",
     "text": [
      "\r",
      " 58%|████████████████████████████████████████████████████████████████████████████████████████████████████████████████████████▌                                                                                      | 1165/2000 [01:18<00:48, 17.17it/s]"
     ]
    },
    {
     "name": "stderr",
     "output_type": "stream",
     "text": [
      "\r",
      " 58%|████████████████████████████████████████████████████████████████████████████████████████████████████████████████████████▊                                                                                      | 1167/2000 [01:18<00:48, 17.23it/s]"
     ]
    },
    {
     "name": "stderr",
     "output_type": "stream",
     "text": [
      "\r",
      " 58%|████████████████████████████████████████████████████████████████████████████████████████████████████████████████████████▉                                                                                      | 1169/2000 [01:18<00:47, 17.37it/s]"
     ]
    },
    {
     "name": "stderr",
     "output_type": "stream",
     "text": [
      "\r",
      " 59%|█████████████████████████████████████████████████████████████████████████████████████████████████████████████████████████▏                                                                                     | 1171/2000 [01:18<00:46, 17.91it/s]"
     ]
    },
    {
     "name": "stderr",
     "output_type": "stream",
     "text": [
      "\r",
      " 59%|█████████████████████████████████████████████████████████████████████████████████████████████████████████████████████████▌                                                                                     | 1174/2000 [01:18<00:45, 18.32it/s]"
     ]
    },
    {
     "name": "stderr",
     "output_type": "stream",
     "text": [
      "\r",
      " 59%|█████████████████████████████████████████████████████████████████████████████████████████████████████████████████████████▋                                                                                     | 1176/2000 [01:18<00:44, 18.31it/s]"
     ]
    },
    {
     "name": "stderr",
     "output_type": "stream",
     "text": [
      "\r",
      " 59%|█████████████████████████████████████████████████████████████████████████████████████████████████████████████████████████▉                                                                                     | 1178/2000 [01:18<00:44, 18.39it/s]"
     ]
    },
    {
     "name": "stderr",
     "output_type": "stream",
     "text": [
      "\r",
      " 59%|██████████████████████████████████████████████████████████████████████████████████████████████████████████████████████████▏                                                                                    | 1181/2000 [01:19<00:43, 18.91it/s]"
     ]
    },
    {
     "name": "stderr",
     "output_type": "stream",
     "text": [
      "\r",
      " 59%|██████████████████████████████████████████████████████████████████████████████████████████████████████████████████████████▍                                                                                    | 1183/2000 [01:19<00:43, 18.61it/s]"
     ]
    },
    {
     "name": "stderr",
     "output_type": "stream",
     "text": [
      "\r",
      " 59%|██████████████████████████████████████████████████████████████████████████████████████████████████████████████████████████▊                                                                                    | 1186/2000 [01:19<00:41, 19.79it/s]"
     ]
    },
    {
     "name": "stderr",
     "output_type": "stream",
     "text": [
      "\r",
      " 59%|██████████████████████████████████████████████████████████████████████████████████████████████████████████████████████████▉                                                                                    | 1188/2000 [01:19<00:42, 19.29it/s]"
     ]
    },
    {
     "name": "stderr",
     "output_type": "stream",
     "text": [
      "\r",
      " 60%|███████████████████████████████████████████████████████████████████████████████████████████████████████████████████████████▏                                                                                   | 1190/2000 [01:19<00:42, 19.10it/s]"
     ]
    },
    {
     "name": "stderr",
     "output_type": "stream",
     "text": [
      "\r",
      " 60%|███████████████████████████████████████████████████████████████████████████████████████████████████████████████████████████▎                                                                                   | 1192/2000 [01:19<00:41, 19.26it/s]"
     ]
    },
    {
     "name": "stderr",
     "output_type": "stream",
     "text": [
      "\r",
      " 60%|███████████████████████████████████████████████████████████████████████████████████████████████████████████████████████████▋                                                                                   | 1195/2000 [01:19<00:40, 19.99it/s]"
     ]
    },
    {
     "name": "stderr",
     "output_type": "stream",
     "text": [
      "\r",
      " 60%|███████████████████████████████████████████████████████████████████████████████████████████████████████████████████████████▉                                                                                   | 1198/2000 [01:19<00:39, 20.44it/s]"
     ]
    },
    {
     "name": "stderr",
     "output_type": "stream",
     "text": [
      "\r",
      " 60%|████████████████████████████████████████████████████████████████████████████████████████████████████████████████████████████▎                                                                                  | 1201/2000 [01:20<00:40, 19.69it/s]"
     ]
    },
    {
     "name": "stderr",
     "output_type": "stream",
     "text": [
      "\r",
      " 60%|████████████████████████████████████████████████████████████████████████████████████████████████████████████████████████████▌                                                                                  | 1203/2000 [01:20<00:40, 19.72it/s]"
     ]
    },
    {
     "name": "stderr",
     "output_type": "stream",
     "text": [
      "\r",
      " 60%|████████████████████████████████████████████████████████████████████████████████████████████████████████████████████████████▊                                                                                  | 1206/2000 [01:20<00:40, 19.56it/s]"
     ]
    },
    {
     "name": "stderr",
     "output_type": "stream",
     "text": [
      "\r",
      " 60%|█████████████████████████████████████████████████████████████████████████████████████████████████████████████████████████████                                                                                  | 1208/2000 [01:20<00:41, 19.14it/s]"
     ]
    },
    {
     "name": "stderr",
     "output_type": "stream",
     "text": [
      "\r",
      " 60%|█████████████████████████████████████████████████████████████████████████████████████████████████████████████████████████████▏                                                                                 | 1210/2000 [01:20<00:41, 18.82it/s]"
     ]
    },
    {
     "name": "stderr",
     "output_type": "stream",
     "text": [
      "\r",
      " 61%|█████████████████████████████████████████████████████████████████████████████████████████████████████████████████████████████▌                                                                                 | 1213/2000 [01:20<00:41, 19.12it/s]"
     ]
    },
    {
     "name": "stderr",
     "output_type": "stream",
     "text": [
      "\r",
      " 61%|█████████████████████████████████████████████████████████████████████████████████████████████████████████████████████████████▊                                                                                 | 1215/2000 [01:20<00:41, 19.07it/s]"
     ]
    },
    {
     "name": "stderr",
     "output_type": "stream",
     "text": [
      "\r",
      " 61%|█████████████████████████████████████████████████████████████████████████████████████████████████████████████████████████████▉                                                                                 | 1217/2000 [01:20<00:43, 18.15it/s]"
     ]
    },
    {
     "name": "stderr",
     "output_type": "stream",
     "text": [
      "\r",
      " 61%|██████████████████████████████████████████████████████████████████████████████████████████████████████████████████████████████▏                                                                                | 1219/2000 [01:21<00:44, 17.51it/s]"
     ]
    },
    {
     "name": "stderr",
     "output_type": "stream",
     "text": [
      "\r",
      " 61%|██████████████████████████████████████████████████████████████████████████████████████████████████████████████████████████████▍                                                                                | 1222/2000 [01:21<00:42, 18.43it/s]"
     ]
    },
    {
     "name": "stderr",
     "output_type": "stream",
     "text": [
      "\r",
      " 61%|██████████████████████████████████████████████████████████████████████████████████████████████████████████████████████████████▋                                                                                | 1224/2000 [01:21<00:41, 18.58it/s]"
     ]
    },
    {
     "name": "stderr",
     "output_type": "stream",
     "text": [
      "\r",
      " 61%|██████████████████████████████████████████████████████████████████████████████████████████████████████████████████████████████▉                                                                                | 1227/2000 [01:21<00:40, 18.98it/s]"
     ]
    },
    {
     "name": "stderr",
     "output_type": "stream",
     "text": [
      "\r",
      " 61%|███████████████████████████████████████████████████████████████████████████████████████████████████████████████████████████████▏                                                                               | 1229/2000 [01:21<00:41, 18.50it/s]"
     ]
    },
    {
     "name": "stderr",
     "output_type": "stream",
     "text": [
      "\r",
      " 62%|███████████████████████████████████████████████████████████████████████████████████████████████████████████████████████████████▌                                                                               | 1232/2000 [01:21<00:40, 18.76it/s]"
     ]
    },
    {
     "name": "stderr",
     "output_type": "stream",
     "text": [
      "\r",
      " 62%|███████████████████████████████████████████████████████████████████████████████████████████████████████████████████████████████▋                                                                               | 1234/2000 [01:21<00:40, 19.04it/s]"
     ]
    },
    {
     "name": "stderr",
     "output_type": "stream",
     "text": [
      "\r",
      " 62%|███████████████████████████████████████████████████████████████████████████████████████████████████████████████████████████████▉                                                                               | 1236/2000 [01:21<00:40, 18.70it/s]"
     ]
    },
    {
     "name": "stderr",
     "output_type": "stream",
     "text": [
      "\r",
      " 62%|████████████████████████████████████████████████████████████████████████████████████████████████████████████████████████████████▏                                                                              | 1238/2000 [01:22<00:41, 18.22it/s]"
     ]
    },
    {
     "name": "stderr",
     "output_type": "stream",
     "text": [
      "\r",
      " 62%|████████████████████████████████████████████████████████████████████████████████████████████████████████████████████████████████▎                                                                              | 1240/2000 [01:22<00:41, 18.15it/s]"
     ]
    },
    {
     "name": "stderr",
     "output_type": "stream",
     "text": [
      "\r",
      " 62%|████████████████████████████████████████████████████████████████████████████████████████████████████████████████████████████████▌                                                                              | 1242/2000 [01:22<00:41, 18.19it/s]"
     ]
    },
    {
     "name": "stderr",
     "output_type": "stream",
     "text": [
      "\r",
      " 62%|████████████████████████████████████████████████████████████████████████████████████████████████████████████████████████████████▊                                                                              | 1244/2000 [01:22<00:41, 18.39it/s]"
     ]
    },
    {
     "name": "stderr",
     "output_type": "stream",
     "text": [
      "\r",
      " 62%|████████████████████████████████████████████████████████████████████████████████████████████████████████████████████████████████▉                                                                              | 1246/2000 [01:22<00:40, 18.56it/s]"
     ]
    },
    {
     "name": "stderr",
     "output_type": "stream",
     "text": [
      "\r",
      " 62%|█████████████████████████████████████████████████████████████████████████████████████████████████████████████████████████████████▎                                                                             | 1249/2000 [01:22<00:38, 19.54it/s]"
     ]
    },
    {
     "name": "stderr",
     "output_type": "stream",
     "text": [
      "\r",
      " 63%|█████████████████████████████████████████████████████████████████████████████████████████████████████████████████████████████████▍                                                                             | 1251/2000 [01:22<00:39, 19.08it/s]"
     ]
    },
    {
     "name": "stderr",
     "output_type": "stream",
     "text": [
      "\r",
      " 63%|█████████████████████████████████████████████████████████████████████████████████████████████████████████████████████████████████▋                                                                             | 1253/2000 [01:22<00:41, 18.13it/s]"
     ]
    },
    {
     "name": "stderr",
     "output_type": "stream",
     "text": [
      "\r",
      " 63%|█████████████████████████████████████████████████████████████████████████████████████████████████████████████████████████████████▉                                                                             | 1255/2000 [01:23<00:40, 18.34it/s]"
     ]
    },
    {
     "name": "stderr",
     "output_type": "stream",
     "text": [
      "\r",
      " 63%|██████████████████████████████████████████████████████████████████████████████████████████████████████████████████████████████████                                                                             | 1257/2000 [01:23<00:40, 18.14it/s]"
     ]
    },
    {
     "name": "stderr",
     "output_type": "stream",
     "text": [
      "\r",
      " 63%|██████████████████████████████████████████████████████████████████████████████████████████████████████████████████████████████████▎                                                                            | 1259/2000 [01:23<00:41, 17.91it/s]"
     ]
    },
    {
     "name": "stderr",
     "output_type": "stream",
     "text": [
      "\r",
      " 63%|██████████████████████████████████████████████████████████████████████████████████████████████████████████████████████████████████▌                                                                            | 1261/2000 [01:23<00:42, 17.46it/s]"
     ]
    },
    {
     "name": "stderr",
     "output_type": "stream",
     "text": [
      "\r",
      " 63%|██████████████████████████████████████████████████████████████████████████████████████████████████████████████████████████████████▋                                                                            | 1263/2000 [01:23<00:41, 17.92it/s]"
     ]
    },
    {
     "name": "stderr",
     "output_type": "stream",
     "text": [
      "\r",
      " 63%|███████████████████████████████████████████████████████████████████████████████████████████████████████████████████████████████████                                                                            | 1266/2000 [01:23<00:39, 18.71it/s]"
     ]
    },
    {
     "name": "stderr",
     "output_type": "stream",
     "text": [
      "\r",
      " 63%|███████████████████████████████████████████████████████████████████████████████████████████████████████████████████████████████████▎                                                                           | 1269/2000 [01:23<00:38, 18.77it/s]"
     ]
    },
    {
     "name": "stderr",
     "output_type": "stream",
     "text": [
      "\r",
      " 64%|███████████████████████████████████████████████████████████████████████████████████████████████████████████████████████████████████▋                                                                           | 1272/2000 [01:23<00:38, 18.88it/s]"
     ]
    },
    {
     "name": "stderr",
     "output_type": "stream",
     "text": [
      "\r",
      " 64%|███████████████████████████████████████████████████████████████████████████████████████████████████████████████████████████████████▊                                                                           | 1274/2000 [01:24<00:39, 18.36it/s]"
     ]
    },
    {
     "name": "stderr",
     "output_type": "stream",
     "text": [
      "\r",
      " 64%|████████████████████████████████████████████████████████████████████████████████████████████████████████████████████████████████████                                                                           | 1276/2000 [01:24<00:38, 18.74it/s]"
     ]
    },
    {
     "name": "stderr",
     "output_type": "stream",
     "text": [
      "\r",
      " 64%|████████████████████████████████████████████████████████████████████████████████████████████████████████████████████████████████████▍                                                                          | 1279/2000 [01:24<00:37, 19.11it/s]"
     ]
    },
    {
     "name": "stderr",
     "output_type": "stream",
     "text": [
      "\r",
      " 64%|████████████████████████████████████████████████████████████████████████████████████████████████████████████████████████████████████▌                                                                          | 1281/2000 [01:24<00:37, 19.30it/s]"
     ]
    },
    {
     "name": "stderr",
     "output_type": "stream",
     "text": [
      "\r",
      " 64%|████████████████████████████████████████████████████████████████████████████████████████████████████████████████████████████████████▊                                                                          | 1283/2000 [01:24<00:37, 19.32it/s]"
     ]
    },
    {
     "name": "stderr",
     "output_type": "stream",
     "text": [
      "\r",
      " 64%|████████████████████████████████████████████████████████████████████████████████████████████████████████████████████████████████████▉                                                                          | 1285/2000 [01:24<00:37, 19.11it/s]"
     ]
    },
    {
     "name": "stderr",
     "output_type": "stream",
     "text": [
      "\r",
      " 64%|█████████████████████████████████████████████████████████████████████████████████████████████████████████████████████████████████████▏                                                                         | 1287/2000 [01:24<00:37, 18.86it/s]"
     ]
    },
    {
     "name": "stderr",
     "output_type": "stream",
     "text": [
      "\r",
      " 64%|█████████████████████████████████████████████████████████████████████████████████████████████████████████████████████████████████████▍                                                                         | 1289/2000 [01:24<00:37, 19.07it/s]"
     ]
    },
    {
     "name": "stderr",
     "output_type": "stream",
     "text": [
      "\r",
      " 65%|█████████████████████████████████████████████████████████████████████████████████████████████████████████████████████████████████████▌                                                                         | 1291/2000 [01:24<00:37, 18.93it/s]"
     ]
    },
    {
     "name": "stderr",
     "output_type": "stream",
     "text": [
      "\r",
      " 65%|█████████████████████████████████████████████████████████████████████████████████████████████████████████████████████████████████████▊                                                                         | 1293/2000 [01:25<00:37, 19.02it/s]"
     ]
    },
    {
     "name": "stderr",
     "output_type": "stream",
     "text": [
      "\r",
      " 65%|██████████████████████████████████████████████████████████████████████████████████████████████████████████████████████████████████████                                                                         | 1295/2000 [01:25<00:38, 18.21it/s]"
     ]
    },
    {
     "name": "stderr",
     "output_type": "stream",
     "text": [
      "\r",
      " 65%|██████████████████████████████████████████████████████████████████████████████████████████████████████████████████████████████████████▏                                                                        | 1297/2000 [01:25<00:38, 18.13it/s]"
     ]
    },
    {
     "name": "stderr",
     "output_type": "stream",
     "text": [
      "\r",
      " 65%|██████████████████████████████████████████████████████████████████████████████████████████████████████████████████████████████████████▌                                                                        | 1300/2000 [01:25<00:38, 18.30it/s]"
     ]
    },
    {
     "name": "stderr",
     "output_type": "stream",
     "text": [
      "\r",
      " 65%|██████████████████████████████████████████████████████████████████████████████████████████████████████████████████████████████████████▊                                                                        | 1302/2000 [01:25<00:38, 18.04it/s]"
     ]
    },
    {
     "name": "stderr",
     "output_type": "stream",
     "text": [
      "\r",
      " 65%|██████████████████████████████████████████████████████████████████████████████████████████████████████████████████████████████████████▉                                                                        | 1304/2000 [01:25<00:38, 18.10it/s]"
     ]
    },
    {
     "name": "stderr",
     "output_type": "stream",
     "text": [
      "\r",
      " 65%|███████████████████████████████████████████████████████████████████████████████████████████████████████████████████████████████████████▎                                                                       | 1307/2000 [01:25<00:37, 18.50it/s]"
     ]
    },
    {
     "name": "stderr",
     "output_type": "stream",
     "text": [
      "\r",
      " 65%|███████████████████████████████████████████████████████████████████████████████████████████████████████████████████████████████████████▍                                                                       | 1309/2000 [01:25<00:38, 17.85it/s]"
     ]
    },
    {
     "name": "stderr",
     "output_type": "stream",
     "text": [
      "\r",
      " 66%|███████████████████████████████████████████████████████████████████████████████████████████████████████████████████████████████████████▋                                                                       | 1311/2000 [01:26<00:38, 17.76it/s]"
     ]
    },
    {
     "name": "stderr",
     "output_type": "stream",
     "text": [
      "\r",
      " 66%|███████████████████████████████████████████████████████████████████████████████████████████████████████████████████████████████████████▉                                                                       | 1313/2000 [01:26<00:38, 17.96it/s]"
     ]
    },
    {
     "name": "stderr",
     "output_type": "stream",
     "text": [
      "\r",
      " 66%|████████████████████████████████████████████████████████████████████████████████████████████████████████████████████████████████████████                                                                       | 1315/2000 [01:26<00:38, 17.82it/s]"
     ]
    },
    {
     "name": "stderr",
     "output_type": "stream",
     "text": [
      "\r",
      " 66%|████████████████████████████████████████████████████████████████████████████████████████████████████████████████████████████████████████▎                                                                      | 1317/2000 [01:26<00:37, 18.22it/s]"
     ]
    },
    {
     "name": "stderr",
     "output_type": "stream",
     "text": [
      "\r",
      " 66%|████████████████████████████████████████████████████████████████████████████████████████████████████████████████████████████████████████▌                                                                      | 1319/2000 [01:26<00:37, 17.92it/s]"
     ]
    },
    {
     "name": "stderr",
     "output_type": "stream",
     "text": [
      "\r",
      " 66%|████████████████████████████████████████████████████████████████████████████████████████████████████████████████████████████████████████▋                                                                      | 1321/2000 [01:26<00:38, 17.71it/s]"
     ]
    },
    {
     "name": "stderr",
     "output_type": "stream",
     "text": [
      "\r",
      " 66%|████████████████████████████████████████████████████████████████████████████████████████████████████████████████████████████████████████▉                                                                      | 1323/2000 [01:26<00:39, 17.22it/s]"
     ]
    },
    {
     "name": "stderr",
     "output_type": "stream",
     "text": [
      "\r",
      " 66%|█████████████████████████████████████████████████████████████████████████████████████████████████████████████████████████████████████████▏                                                                     | 1325/2000 [01:26<00:38, 17.57it/s]"
     ]
    },
    {
     "name": "stderr",
     "output_type": "stream",
     "text": [
      "\r",
      " 66%|█████████████████████████████████████████████████████████████████████████████████████████████████████████████████████████████████████████▎                                                                     | 1327/2000 [01:26<00:38, 17.55it/s]"
     ]
    },
    {
     "name": "stderr",
     "output_type": "stream",
     "text": [
      "\r",
      " 66%|█████████████████████████████████████████████████████████████████████████████████████████████████████████████████████████████████████████▌                                                                     | 1329/2000 [01:27<00:38, 17.55it/s]"
     ]
    },
    {
     "name": "stderr",
     "output_type": "stream",
     "text": [
      "\r",
      " 67%|█████████████████████████████████████████████████████████████████████████████████████████████████████████████████████████████████████████▊                                                                     | 1331/2000 [01:27<00:39, 17.01it/s]"
     ]
    },
    {
     "name": "stderr",
     "output_type": "stream",
     "text": [
      "\r",
      " 67%|██████████████████████████████████████████████████████████████████████████████████████████████████████████████████████████████████████████                                                                     | 1334/2000 [01:27<00:37, 17.69it/s]"
     ]
    },
    {
     "name": "stderr",
     "output_type": "stream",
     "text": [
      "\r",
      " 67%|██████████████████████████████████████████████████████████████████████████████████████████████████████████████████████████████████████████▎                                                                    | 1336/2000 [01:27<00:37, 17.57it/s]"
     ]
    },
    {
     "name": "stderr",
     "output_type": "stream",
     "text": [
      "\r",
      " 67%|██████████████████████████████████████████████████████████████████████████████████████████████████████████████████████████████████████████▍                                                                    | 1338/2000 [01:27<00:37, 17.47it/s]"
     ]
    },
    {
     "name": "stderr",
     "output_type": "stream",
     "text": [
      "\r",
      " 67%|██████████████████████████████████████████████████████████████████████████████████████████████████████████████████████████████████████████▋                                                                    | 1340/2000 [01:27<00:38, 17.31it/s]"
     ]
    },
    {
     "name": "stderr",
     "output_type": "stream",
     "text": [
      "\r",
      " 67%|██████████████████████████████████████████████████████████████████████████████████████████████████████████████████████████████████████████▉                                                                    | 1342/2000 [01:27<00:37, 17.54it/s]"
     ]
    },
    {
     "name": "stderr",
     "output_type": "stream",
     "text": [
      "\r",
      " 67%|███████████████████████████████████████████████████████████████████████████████████████████████████████████████████████████████████████████                                                                    | 1344/2000 [01:27<00:36, 17.80it/s]"
     ]
    },
    {
     "name": "stderr",
     "output_type": "stream",
     "text": [
      "\r",
      " 67%|███████████████████████████████████████████████████████████████████████████████████████████████████████████████████████████████████████████▎                                                                   | 1346/2000 [01:28<00:36, 17.68it/s]"
     ]
    },
    {
     "name": "stderr",
     "output_type": "stream",
     "text": [
      "\r",
      " 67%|███████████████████████████████████████████████████████████████████████████████████████████████████████████████████████████████████████████▌                                                                   | 1348/2000 [01:28<00:37, 17.27it/s]"
     ]
    },
    {
     "name": "stderr",
     "output_type": "stream",
     "text": [
      "\r",
      " 68%|███████████████████████████████████████████████████████████████████████████████████████████████████████████████████████████████████████████▋                                                                   | 1350/2000 [01:28<00:36, 17.95it/s]"
     ]
    },
    {
     "name": "stderr",
     "output_type": "stream",
     "text": [
      "\r",
      " 68%|████████████████████████████████████████████████████████████████████████████████████████████████████████████████████████████████████████████                                                                   | 1353/2000 [01:28<00:35, 18.48it/s]"
     ]
    },
    {
     "name": "stderr",
     "output_type": "stream",
     "text": [
      "\r",
      " 68%|████████████████████████████████████████████████████████████████████████████████████████████████████████████████████████████████████████████▏                                                                  | 1355/2000 [01:28<00:34, 18.66it/s]"
     ]
    },
    {
     "name": "stderr",
     "output_type": "stream",
     "text": [
      "\r",
      " 68%|████████████████████████████████████████████████████████████████████████████████████████████████████████████████████████████████████████████▍                                                                  | 1357/2000 [01:28<00:34, 18.47it/s]"
     ]
    },
    {
     "name": "stderr",
     "output_type": "stream",
     "text": [
      "\r",
      " 68%|████████████████████████████████████████████████████████████████████████████████████████████████████████████████████████████████████████████▋                                                                  | 1359/2000 [01:28<00:36, 17.66it/s]"
     ]
    },
    {
     "name": "stderr",
     "output_type": "stream",
     "text": [
      "\r",
      " 68%|████████████████████████████████████████████████████████████████████████████████████████████████████████████████████████████████████████████▊                                                                  | 1361/2000 [01:28<00:36, 17.37it/s]"
     ]
    },
    {
     "name": "stderr",
     "output_type": "stream",
     "text": [
      "\r",
      " 68%|█████████████████████████████████████████████████████████████████████████████████████████████████████████████████████████████████████████████                                                                  | 1363/2000 [01:29<00:36, 17.31it/s]"
     ]
    },
    {
     "name": "stderr",
     "output_type": "stream",
     "text": [
      "\r",
      " 68%|█████████████████████████████████████████████████████████████████████████████████████████████████████████████████████████████████████████████▎                                                                 | 1365/2000 [01:29<00:35, 17.82it/s]"
     ]
    },
    {
     "name": "stderr",
     "output_type": "stream",
     "text": [
      "\r",
      " 68%|█████████████████████████████████████████████████████████████████████████████████████████████████████████████████████████████████████████████▌                                                                 | 1368/2000 [01:29<00:33, 18.72it/s]"
     ]
    },
    {
     "name": "stderr",
     "output_type": "stream",
     "text": [
      "\r",
      " 68%|█████████████████████████████████████████████████████████████████████████████████████████████████████████████████████████████████████████████▊                                                                 | 1370/2000 [01:29<00:34, 18.42it/s]"
     ]
    },
    {
     "name": "stderr",
     "output_type": "stream",
     "text": [
      "\r",
      " 69%|██████████████████████████████████████████████████████████████████████████████████████████████████████████████████████████████████████████████                                                                 | 1372/2000 [01:29<00:35, 17.61it/s]"
     ]
    },
    {
     "name": "stderr",
     "output_type": "stream",
     "text": [
      "\r",
      " 69%|██████████████████████████████████████████████████████████████████████████████████████████████████████████████████████████████████████████████▏                                                                | 1374/2000 [01:29<00:34, 17.97it/s]"
     ]
    },
    {
     "name": "stderr",
     "output_type": "stream",
     "text": [
      "\r",
      " 69%|██████████████████████████████████████████████████████████████████████████████████████████████████████████████████████████████████████████████▍                                                                | 1376/2000 [01:29<00:35, 17.54it/s]"
     ]
    },
    {
     "name": "stderr",
     "output_type": "stream",
     "text": [
      "\r",
      " 69%|██████████████████████████████████████████████████████████████████████████████████████████████████████████████████████████████████████████████▌                                                                | 1378/2000 [01:29<00:35, 17.59it/s]"
     ]
    },
    {
     "name": "stderr",
     "output_type": "stream",
     "text": [
      "\r",
      " 69%|██████████████████████████████████████████████████████████████████████████████████████████████████████████████████████████████████████████████▊                                                                | 1380/2000 [01:29<00:34, 17.98it/s]"
     ]
    },
    {
     "name": "stderr",
     "output_type": "stream",
     "text": [
      "\r",
      " 69%|███████████████████████████████████████████████████████████████████████████████████████████████████████████████████████████████████████████████                                                                | 1382/2000 [01:30<00:34, 17.80it/s]"
     ]
    },
    {
     "name": "stderr",
     "output_type": "stream",
     "text": [
      "\r",
      " 69%|███████████████████████████████████████████████████████████████████████████████████████████████████████████████████████████████████████████████▏                                                               | 1384/2000 [01:30<00:34, 17.85it/s]"
     ]
    },
    {
     "name": "stderr",
     "output_type": "stream",
     "text": [
      "\r",
      " 69%|███████████████████████████████████████████████████████████████████████████████████████████████████████████████████████████████████████████████▌                                                               | 1387/2000 [01:30<00:33, 18.41it/s]"
     ]
    },
    {
     "name": "stderr",
     "output_type": "stream",
     "text": [
      "\r",
      " 69%|███████████████████████████████████████████████████████████████████████████████████████████████████████████████████████████████████████████████▊                                                               | 1389/2000 [01:30<00:33, 18.45it/s]"
     ]
    },
    {
     "name": "stderr",
     "output_type": "stream",
     "text": [
      "\r",
      " 70%|███████████████████████████████████████████████████████████████████████████████████████████████████████████████████████████████████████████████▉                                                               | 1391/2000 [01:30<00:40, 14.99it/s]"
     ]
    },
    {
     "name": "stderr",
     "output_type": "stream",
     "text": [
      "\r",
      " 70%|████████████████████████████████████████████████████████████████████████████████████████████████████████████████████████████████████████████████▎                                                              | 1394/2000 [01:30<00:37, 16.29it/s]"
     ]
    },
    {
     "name": "stderr",
     "output_type": "stream",
     "text": [
      "\r",
      " 70%|████████████████████████████████████████████████████████████████████████████████████████████████████████████████████████████████████████████████▍                                                              | 1396/2000 [01:30<00:35, 16.98it/s]"
     ]
    },
    {
     "name": "stderr",
     "output_type": "stream",
     "text": [
      "\r",
      " 70%|████████████████████████████████████████████████████████████████████████████████████████████████████████████████████████████████████████████████▋                                                              | 1398/2000 [01:30<00:34, 17.33it/s]"
     ]
    },
    {
     "name": "stderr",
     "output_type": "stream",
     "text": [
      "\r",
      " 70%|█████████████████████████████████████████████████████████████████████████████████████████████████████████████████████████████████████████████████                                                              | 1401/2000 [01:31<00:32, 18.24it/s]"
     ]
    },
    {
     "name": "stderr",
     "output_type": "stream",
     "text": [
      "\r",
      " 70%|█████████████████████████████████████████████████████████████████████████████████████████████████████████████████████████████████████████████████▏                                                             | 1403/2000 [01:31<00:33, 17.84it/s]"
     ]
    },
    {
     "name": "stderr",
     "output_type": "stream",
     "text": [
      "\r",
      " 70%|█████████████████████████████████████████████████████████████████████████████████████████████████████████████████████████████████████████████████▍                                                             | 1405/2000 [01:31<00:34, 17.49it/s]"
     ]
    },
    {
     "name": "stderr",
     "output_type": "stream",
     "text": [
      "\r",
      " 70%|█████████████████████████████████████████████████████████████████████████████████████████████████████████████████████████████████████████████████▌                                                             | 1407/2000 [01:31<00:33, 17.75it/s]"
     ]
    },
    {
     "name": "stderr",
     "output_type": "stream",
     "text": [
      "\r",
      " 70%|█████████████████████████████████████████████████████████████████████████████████████████████████████████████████████████████████████████████████▊                                                             | 1409/2000 [01:31<00:33, 17.78it/s]"
     ]
    },
    {
     "name": "stderr",
     "output_type": "stream",
     "text": [
      "\r",
      " 71%|██████████████████████████████████████████████████████████████████████████████████████████████████████████████████████████████████████████████████                                                             | 1411/2000 [01:31<00:43, 13.61it/s]"
     ]
    },
    {
     "name": "stderr",
     "output_type": "stream",
     "text": [
      "\r",
      " 71%|██████████████████████████████████████████████████████████████████████████████████████████████████████████████████████████████████████████████████▏                                                            | 1413/2000 [01:31<00:39, 14.77it/s]"
     ]
    },
    {
     "name": "stderr",
     "output_type": "stream",
     "text": [
      "\r",
      " 71%|██████████████████████████████████████████████████████████████████████████████████████████████████████████████████████████████████████████████████▍                                                            | 1415/2000 [01:32<00:36, 15.94it/s]"
     ]
    },
    {
     "name": "stderr",
     "output_type": "stream",
     "text": [
      "\r",
      " 71%|██████████████████████████████████████████████████████████████████████████████████████████████████████████████████████████████████████████████████▋                                                            | 1417/2000 [01:32<00:35, 16.58it/s]"
     ]
    },
    {
     "name": "stderr",
     "output_type": "stream",
     "text": [
      "\r",
      " 71%|██████████████████████████████████████████████████████████████████████████████████████████████████████████████████████████████████████████████████▊                                                            | 1419/2000 [01:32<00:33, 17.32it/s]"
     ]
    },
    {
     "name": "stderr",
     "output_type": "stream",
     "text": [
      "\r",
      " 71%|███████████████████████████████████████████████████████████████████████████████████████████████████████████████████████████████████████████████████                                                            | 1421/2000 [01:32<00:33, 17.51it/s]"
     ]
    },
    {
     "name": "stderr",
     "output_type": "stream",
     "text": [
      "\r",
      " 71%|███████████████████████████████████████████████████████████████████████████████████████████████████████████████████████████████████████████████████▍                                                           | 1424/2000 [01:32<00:31, 18.30it/s]"
     ]
    },
    {
     "name": "stderr",
     "output_type": "stream",
     "text": [
      "\r",
      " 71%|███████████████████████████████████████████████████████████████████████████████████████████████████████████████████████████████████████████████████▌                                                           | 1426/2000 [01:32<00:31, 18.22it/s]"
     ]
    },
    {
     "name": "stderr",
     "output_type": "stream",
     "text": [
      "\r",
      " 71%|███████████████████████████████████████████████████████████████████████████████████████████████████████████████████████████████████████████████████▊                                                           | 1428/2000 [01:32<00:31, 18.23it/s]"
     ]
    },
    {
     "name": "stderr",
     "output_type": "stream",
     "text": [
      "\r",
      " 72%|████████████████████████████████████████████████████████████████████████████████████████████████████████████████████████████████████████████████████                                                           | 1430/2000 [01:32<00:30, 18.51it/s]"
     ]
    },
    {
     "name": "stderr",
     "output_type": "stream",
     "text": [
      "\r",
      " 72%|████████████████████████████████████████████████████████████████████████████████████████████████████████████████████████████████████████████████████▏                                                          | 1432/2000 [01:32<00:31, 18.31it/s]"
     ]
    },
    {
     "name": "stderr",
     "output_type": "stream",
     "text": [
      "\r",
      " 72%|████████████████████████████████████████████████████████████████████████████████████████████████████████████████████████████████████████████████████▌                                                          | 1435/2000 [01:33<00:29, 19.02it/s]"
     ]
    },
    {
     "name": "stderr",
     "output_type": "stream",
     "text": [
      "\r",
      " 72%|████████████████████████████████████████████████████████████████████████████████████████████████████████████████████████████████████████████████████▋                                                          | 1437/2000 [01:33<00:30, 18.65it/s]"
     ]
    },
    {
     "name": "stderr",
     "output_type": "stream",
     "text": [
      "\r",
      " 72%|█████████████████████████████████████████████████████████████████████████████████████████████████████████████████████████████████████████████████████                                                          | 1440/2000 [01:33<00:28, 19.65it/s]"
     ]
    },
    {
     "name": "stderr",
     "output_type": "stream",
     "text": [
      "\r",
      " 72%|█████████████████████████████████████████████████████████████████████████████████████████████████████████████████████████████████████████████████████▏                                                         | 1442/2000 [01:33<00:29, 19.20it/s]"
     ]
    },
    {
     "name": "stderr",
     "output_type": "stream",
     "text": [
      "\r",
      " 72%|█████████████████████████████████████████████████████████████████████████████████████████████████████████████████████████████████████████████████████▍                                                         | 1444/2000 [01:33<00:30, 18.40it/s]"
     ]
    },
    {
     "name": "stderr",
     "output_type": "stream",
     "text": [
      "\r",
      " 72%|█████████████████████████████████████████████████████████████████████████████████████████████████████████████████████████████████████████████████████▋                                                         | 1446/2000 [01:33<00:30, 18.19it/s]"
     ]
    },
    {
     "name": "stderr",
     "output_type": "stream",
     "text": [
      "\r",
      " 72%|█████████████████████████████████████████████████████████████████████████████████████████████████████████████████████████████████████████████████████▊                                                         | 1448/2000 [01:33<00:29, 18.59it/s]"
     ]
    },
    {
     "name": "stderr",
     "output_type": "stream",
     "text": [
      "\r",
      " 72%|██████████████████████████████████████████████████████████████████████████████████████████████████████████████████████████████████████████████████████                                                         | 1450/2000 [01:33<00:30, 18.22it/s]"
     ]
    },
    {
     "name": "stderr",
     "output_type": "stream",
     "text": [
      "\r",
      " 73%|██████████████████████████████████████████████████████████████████████████████████████████████████████████████████████████████████████████████████████▎                                                        | 1452/2000 [01:34<00:30, 18.24it/s]"
     ]
    },
    {
     "name": "stderr",
     "output_type": "stream",
     "text": [
      "\r",
      " 73%|██████████████████████████████████████████████████████████████████████████████████████████████████████████████████████████████████████████████████████▍                                                        | 1454/2000 [01:34<00:29, 18.26it/s]"
     ]
    },
    {
     "name": "stderr",
     "output_type": "stream",
     "text": [
      "\r",
      " 73%|██████████████████████████████████████████████████████████████████████████████████████████████████████████████████████████████████████████████████████▋                                                        | 1456/2000 [01:34<00:29, 18.65it/s]"
     ]
    },
    {
     "name": "stderr",
     "output_type": "stream",
     "text": [
      "\r",
      " 73%|██████████████████████████████████████████████████████████████████████████████████████████████████████████████████████████████████████████████████████▉                                                        | 1458/2000 [01:34<00:28, 18.83it/s]"
     ]
    },
    {
     "name": "stderr",
     "output_type": "stream",
     "text": [
      "\r",
      " 73%|███████████████████████████████████████████████████████████████████████████████████████████████████████████████████████████████████████████████████████                                                        | 1460/2000 [01:34<00:29, 18.52it/s]"
     ]
    },
    {
     "name": "stderr",
     "output_type": "stream",
     "text": [
      "\r",
      " 73%|███████████████████████████████████████████████████████████████████████████████████████████████████████████████████████████████████████████████████████▍                                                       | 1463/2000 [01:34<00:27, 19.30it/s]"
     ]
    },
    {
     "name": "stderr",
     "output_type": "stream",
     "text": [
      "\r",
      " 73%|███████████████████████████████████████████████████████████████████████████████████████████████████████████████████████████████████████████████████████▋                                                       | 1465/2000 [01:34<00:27, 19.45it/s]"
     ]
    },
    {
     "name": "stderr",
     "output_type": "stream",
     "text": [
      "\r",
      " 73%|███████████████████████████████████████████████████████████████████████████████████████████████████████████████████████████████████████████████████████▊                                                       | 1467/2000 [01:34<00:28, 18.97it/s]"
     ]
    },
    {
     "name": "stderr",
     "output_type": "stream",
     "text": [
      "\r",
      " 74%|████████████████████████████████████████████████████████████████████████████████████████████████████████████████████████████████████████████████████████▏                                                      | 1470/2000 [01:34<00:26, 19.86it/s]"
     ]
    },
    {
     "name": "stderr",
     "output_type": "stream",
     "text": [
      "\r",
      " 74%|████████████████████████████████████████████████████████████████████████████████████████████████████████████████████████████████████████████████████████▍                                                      | 1473/2000 [01:35<00:26, 19.82it/s]"
     ]
    },
    {
     "name": "stderr",
     "output_type": "stream",
     "text": [
      "\r",
      " 74%|████████████████████████████████████████████████████████████████████████████████████████████████████████████████████████████████████████████████████████▋                                                      | 1475/2000 [01:35<00:26, 19.68it/s]"
     ]
    },
    {
     "name": "stderr",
     "output_type": "stream",
     "text": [
      "\r",
      " 74%|████████████████████████████████████████████████████████████████████████████████████████████████████████████████████████████████████████████████████████▊                                                      | 1477/2000 [01:35<00:26, 19.65it/s]"
     ]
    },
    {
     "name": "stderr",
     "output_type": "stream",
     "text": [
      "\r",
      " 74%|█████████████████████████████████████████████████████████████████████████████████████████████████████████████████████████████████████████████████████████                                                      | 1479/2000 [01:35<00:26, 19.63it/s]"
     ]
    },
    {
     "name": "stderr",
     "output_type": "stream",
     "text": [
      "\r",
      " 74%|█████████████████████████████████████████████████████████████████████████████████████████████████████████████████████████████████████████████████████████▎                                                     | 1481/2000 [01:35<00:27, 18.92it/s]"
     ]
    },
    {
     "name": "stderr",
     "output_type": "stream",
     "text": [
      "\r",
      " 74%|█████████████████████████████████████████████████████████████████████████████████████████████████████████████████████████████████████████████████████████▍                                                     | 1483/2000 [01:35<00:26, 19.19it/s]"
     ]
    },
    {
     "name": "stderr",
     "output_type": "stream",
     "text": [
      "\r",
      " 74%|█████████████████████████████████████████████████████████████████████████████████████████████████████████████████████████████████████████████████████████▋                                                     | 1485/2000 [01:35<00:27, 18.69it/s]"
     ]
    },
    {
     "name": "stderr",
     "output_type": "stream",
     "text": [
      "\r",
      " 74%|█████████████████████████████████████████████████████████████████████████████████████████████████████████████████████████████████████████████████████████▉                                                     | 1487/2000 [01:35<00:27, 18.45it/s]"
     ]
    },
    {
     "name": "stderr",
     "output_type": "stream",
     "text": [
      "\r",
      " 74%|██████████████████████████████████████████████████████████████████████████████████████████████████████████████████████████████████████████████████████████                                                     | 1489/2000 [01:35<00:27, 18.32it/s]"
     ]
    },
    {
     "name": "stderr",
     "output_type": "stream",
     "text": [
      "\r",
      " 75%|██████████████████████████████████████████████████████████████████████████████████████████████████████████████████████████████████████████████████████████▎                                                    | 1491/2000 [01:36<00:27, 18.33it/s]"
     ]
    },
    {
     "name": "stderr",
     "output_type": "stream",
     "text": [
      "\r",
      " 75%|██████████████████████████████████████████████████████████████████████████████████████████████████████████████████████████████████████████████████████████▌                                                    | 1493/2000 [01:36<00:27, 18.33it/s]"
     ]
    },
    {
     "name": "stderr",
     "output_type": "stream",
     "text": [
      "\r",
      " 75%|██████████████████████████████████████████████████████████████████████████████████████████████████████████████████████████████████████████████████████████▋                                                    | 1495/2000 [01:36<00:27, 18.69it/s]"
     ]
    },
    {
     "name": "stderr",
     "output_type": "stream",
     "text": [
      "\r",
      " 75%|██████████████████████████████████████████████████████████████████████████████████████████████████████████████████████████████████████████████████████████▉                                                    | 1497/2000 [01:36<00:26, 18.77it/s]"
     ]
    },
    {
     "name": "stderr",
     "output_type": "stream",
     "text": [
      "\r",
      " 75%|███████████████████████████████████████████████████████████████████████████████████████████████████████████████████████████████████████████████████████████▎                                                   | 1500/2000 [01:36<00:26, 18.52it/s]"
     ]
    },
    {
     "name": "stderr",
     "output_type": "stream",
     "text": [
      "\r",
      " 75%|███████████████████████████████████████████████████████████████████████████████████████████████████████████████████████████████████████████████████████████▌                                                   | 1503/2000 [01:36<00:26, 18.76it/s]"
     ]
    },
    {
     "name": "stderr",
     "output_type": "stream",
     "text": [
      "\r",
      " 75%|███████████████████████████████████████████████████████████████████████████████████████████████████████████████████████████████████████████████████████████▊                                                   | 1505/2000 [01:36<00:26, 18.81it/s]"
     ]
    },
    {
     "name": "stderr",
     "output_type": "stream",
     "text": [
      "\r",
      " 75%|███████████████████████████████████████████████████████████████████████████████████████████████████████████████████████████████████████████████████████████▉                                                   | 1507/2000 [01:36<00:27, 18.06it/s]"
     ]
    },
    {
     "name": "stderr",
     "output_type": "stream",
     "text": [
      "\r",
      " 75%|████████████████████████████████████████████████████████████████████████████████████████████████████████████████████████████████████████████████████████████▏                                                  | 1509/2000 [01:37<00:26, 18.38it/s]"
     ]
    },
    {
     "name": "stderr",
     "output_type": "stream",
     "text": [
      "\r",
      " 76%|████████████████████████████████████████████████████████████████████████████████████████████████████████████████████████████████████████████████████████████▍                                                  | 1512/2000 [01:37<00:26, 18.70it/s]"
     ]
    },
    {
     "name": "stderr",
     "output_type": "stream",
     "text": [
      "\r",
      " 76%|████████████████████████████████████████████████████████████████████████████████████████████████████████████████████████████████████████████████████████████▋                                                  | 1514/2000 [01:37<00:25, 18.72it/s]"
     ]
    },
    {
     "name": "stderr",
     "output_type": "stream",
     "text": [
      "\r",
      " 76%|████████████████████████████████████████████████████████████████████████████████████████████████████████████████████████████████████████████████████████████▉                                                  | 1516/2000 [01:37<00:26, 18.30it/s]"
     ]
    },
    {
     "name": "stderr",
     "output_type": "stream",
     "text": [
      "\r",
      " 76%|█████████████████████████████████████████████████████████████████████████████████████████████████████████████████████████████████████████████████████████████                                                  | 1518/2000 [01:37<00:26, 18.35it/s]"
     ]
    },
    {
     "name": "stderr",
     "output_type": "stream",
     "text": [
      "\r",
      " 76%|█████████████████████████████████████████████████████████████████████████████████████████████████████████████████████████████████████████████████████████████▎                                                 | 1520/2000 [01:37<00:26, 18.37it/s]"
     ]
    },
    {
     "name": "stderr",
     "output_type": "stream",
     "text": [
      "\r",
      " 76%|█████████████████████████████████████████████████████████████████████████████████████████████████████████████████████████████████████████████████████████████▌                                                 | 1522/2000 [01:37<00:25, 18.50it/s]"
     ]
    },
    {
     "name": "stderr",
     "output_type": "stream",
     "text": [
      "\r",
      " 76%|█████████████████████████████████████████████████████████████████████████████████████████████████████████████████████████████████████████████████████████████▋                                                 | 1524/2000 [01:37<00:25, 18.32it/s]"
     ]
    },
    {
     "name": "stderr",
     "output_type": "stream",
     "text": [
      "\r",
      " 76%|██████████████████████████████████████████████████████████████████████████████████████████████████████████████████████████████████████████████████████████████                                                 | 1527/2000 [01:38<00:25, 18.46it/s]"
     ]
    },
    {
     "name": "stderr",
     "output_type": "stream",
     "text": [
      "\r",
      " 76%|██████████████████████████████████████████████████████████████████████████████████████████████████████████████████████████████████████████████████████████████▎                                                | 1529/2000 [01:38<00:25, 18.84it/s]"
     ]
    },
    {
     "name": "stderr",
     "output_type": "stream",
     "text": [
      "\r",
      " 77%|██████████████████████████████████████████████████████████████████████████████████████████████████████████████████████████████████████████████████████████████▌                                                | 1532/2000 [01:38<00:24, 19.30it/s]"
     ]
    },
    {
     "name": "stderr",
     "output_type": "stream",
     "text": [
      "\r",
      " 77%|██████████████████████████████████████████████████████████████████████████████████████████████████████████████████████████████████████████████████████████████▊                                                | 1534/2000 [01:38<00:24, 19.30it/s]"
     ]
    },
    {
     "name": "stderr",
     "output_type": "stream",
     "text": [
      "\r",
      " 77%|██████████████████████████████████████████████████████████████████████████████████████████████████████████████████████████████████████████████████████████████▉                                                | 1536/2000 [01:38<00:24, 19.07it/s]"
     ]
    },
    {
     "name": "stderr",
     "output_type": "stream",
     "text": [
      "\r",
      " 77%|███████████████████████████████████████████████████████████████████████████████████████████████████████████████████████████████████████████████████████████████▏                                               | 1538/2000 [01:38<00:25, 18.24it/s]"
     ]
    },
    {
     "name": "stderr",
     "output_type": "stream",
     "text": [
      "\r",
      " 77%|███████████████████████████████████████████████████████████████████████████████████████████████████████████████████████████████████████████████████████████████▍                                               | 1540/2000 [01:38<00:24, 18.49it/s]"
     ]
    },
    {
     "name": "stderr",
     "output_type": "stream",
     "text": [
      "\r",
      " 77%|███████████████████████████████████████████████████████████████████████████████████████████████████████████████████████████████████████████████████████████████▌                                               | 1542/2000 [01:38<00:25, 18.30it/s]"
     ]
    },
    {
     "name": "stderr",
     "output_type": "stream",
     "text": [
      "\r",
      " 77%|███████████████████████████████████████████████████████████████████████████████████████████████████████████████████████████████████████████████████████████████▊                                               | 1544/2000 [01:38<00:25, 17.80it/s]"
     ]
    },
    {
     "name": "stderr",
     "output_type": "stream",
     "text": [
      "\r",
      " 77%|████████████████████████████████████████████████████████████████████████████████████████████████████████████████████████████████████████████████████████████████                                               | 1546/2000 [01:39<00:25, 18.04it/s]"
     ]
    },
    {
     "name": "stderr",
     "output_type": "stream",
     "text": [
      "\r",
      " 77%|████████████████████████████████████████████████████████████████████████████████████████████████████████████████████████████████████████████████████████████████▏                                              | 1548/2000 [01:39<00:25, 17.45it/s]"
     ]
    },
    {
     "name": "stderr",
     "output_type": "stream",
     "text": [
      "\r",
      " 78%|████████████████████████████████████████████████████████████████████████████████████████████████████████████████████████████████████████████████████████████████▌                                              | 1551/2000 [01:39<00:24, 18.64it/s]"
     ]
    },
    {
     "name": "stderr",
     "output_type": "stream",
     "text": [
      "\r",
      " 78%|████████████████████████████████████████████████████████████████████████████████████████████████████████████████████████████████████████████████████████████████▋                                              | 1553/2000 [01:39<00:24, 17.95it/s]"
     ]
    },
    {
     "name": "stderr",
     "output_type": "stream",
     "text": [
      "\r",
      " 78%|█████████████████████████████████████████████████████████████████████████████████████████████████████████████████████████████████████████████████████████████████                                              | 1556/2000 [01:39<00:23, 18.58it/s]"
     ]
    },
    {
     "name": "stderr",
     "output_type": "stream",
     "text": [
      "\r",
      " 78%|█████████████████████████████████████████████████████████████████████████████████████████████████████████████████████████████████████████████████████████████████▎                                             | 1558/2000 [01:39<00:23, 18.85it/s]"
     ]
    },
    {
     "name": "stderr",
     "output_type": "stream",
     "text": [
      "\r",
      " 78%|█████████████████████████████████████████████████████████████████████████████████████████████████████████████████████████████████████████████████████████████████▍                                             | 1560/2000 [01:39<00:24, 18.33it/s]"
     ]
    },
    {
     "name": "stderr",
     "output_type": "stream",
     "text": [
      "\r",
      " 78%|█████████████████████████████████████████████████████████████████████████████████████████████████████████████████████████████████████████████████████████████████▋                                             | 1562/2000 [01:39<00:23, 18.32it/s]"
     ]
    },
    {
     "name": "stderr",
     "output_type": "stream",
     "text": [
      "\r",
      " 78%|█████████████████████████████████████████████████████████████████████████████████████████████████████████████████████████████████████████████████████████████████▊                                             | 1564/2000 [01:40<00:23, 18.49it/s]"
     ]
    },
    {
     "name": "stderr",
     "output_type": "stream",
     "text": [
      "\r",
      " 78%|██████████████████████████████████████████████████████████████████████████████████████████████████████████████████████████████████████████████████████████████████                                             | 1566/2000 [01:40<00:23, 18.61it/s]"
     ]
    },
    {
     "name": "stderr",
     "output_type": "stream",
     "text": [
      "\r",
      " 78%|██████████████████████████████████████████████████████████████████████████████████████████████████████████████████████████████████████████████████████████████████▎                                            | 1568/2000 [01:40<00:23, 18.59it/s]"
     ]
    },
    {
     "name": "stderr",
     "output_type": "stream",
     "text": [
      "\r",
      " 79%|██████████████████████████████████████████████████████████████████████████████████████████████████████████████████████████████████████████████████████████████████▌                                            | 1571/2000 [01:40<00:22, 19.23it/s]"
     ]
    },
    {
     "name": "stderr",
     "output_type": "stream",
     "text": [
      "\r",
      " 79%|██████████████████████████████████████████████████████████████████████████████████████████████████████████████████████████████████████████████████████████████████▊                                            | 1573/2000 [01:40<00:22, 19.07it/s]"
     ]
    },
    {
     "name": "stderr",
     "output_type": "stream",
     "text": [
      "\r",
      " 79%|███████████████████████████████████████████████████████████████████████████████████████████████████████████████████████████████████████████████████████████████████                                            | 1575/2000 [01:40<00:22, 18.93it/s]"
     ]
    },
    {
     "name": "stderr",
     "output_type": "stream",
     "text": [
      "\r",
      " 79%|███████████████████████████████████████████████████████████████████████████████████████████████████████████████████████████████████████████████████████████████████▏                                           | 1577/2000 [01:40<00:22, 19.12it/s]"
     ]
    },
    {
     "name": "stderr",
     "output_type": "stream",
     "text": [
      "\r",
      " 79%|███████████████████████████████████████████████████████████████████████████████████████████████████████████████████████████████████████████████████████████████████▍                                           | 1579/2000 [01:40<00:23, 18.02it/s]"
     ]
    },
    {
     "name": "stderr",
     "output_type": "stream",
     "text": [
      "\r",
      " 79%|███████████████████████████████████████████████████████████████████████████████████████████████████████████████████████████████████████████████████████████████████▋                                           | 1581/2000 [01:40<00:26, 15.82it/s]"
     ]
    },
    {
     "name": "stderr",
     "output_type": "stream",
     "text": [
      "\r",
      " 79%|███████████████████████████████████████████████████████████████████████████████████████████████████████████████████████████████████████████████████████████████████▊                                           | 1583/2000 [01:41<00:24, 16.70it/s]"
     ]
    },
    {
     "name": "stderr",
     "output_type": "stream",
     "text": [
      "\r",
      " 79%|████████████████████████████████████████████████████████████████████████████████████████████████████████████████████████████████████████████████████████████████████                                           | 1585/2000 [01:41<00:24, 16.90it/s]"
     ]
    },
    {
     "name": "stderr",
     "output_type": "stream",
     "text": [
      "\r",
      " 79%|████████████████████████████████████████████████████████████████████████████████████████████████████████████████████████████████████████████████████████████████████▎                                          | 1587/2000 [01:41<00:23, 17.29it/s]"
     ]
    },
    {
     "name": "stderr",
     "output_type": "stream",
     "text": [
      "\r",
      " 79%|████████████████████████████████████████████████████████████████████████████████████████████████████████████████████████████████████████████████████████████████████▍                                          | 1589/2000 [01:41<00:23, 17.32it/s]"
     ]
    },
    {
     "name": "stderr",
     "output_type": "stream",
     "text": [
      "\r",
      " 80%|████████████████████████████████████████████████████████████████████████████████████████████████████████████████████████████████████████████████████████████████████▋                                          | 1591/2000 [01:41<00:23, 17.69it/s]"
     ]
    },
    {
     "name": "stderr",
     "output_type": "stream",
     "text": [
      "\r",
      " 80%|████████████████████████████████████████████████████████████████████████████████████████████████████████████████████████████████████████████████████████████████████▉                                          | 1593/2000 [01:41<00:23, 17.59it/s]"
     ]
    },
    {
     "name": "stderr",
     "output_type": "stream",
     "text": [
      "\r",
      " 80%|█████████████████████████████████████████████████████████████████████████████████████████████████████████████████████████████████████████████████████████████████████                                          | 1595/2000 [01:41<00:23, 17.06it/s]"
     ]
    },
    {
     "name": "stderr",
     "output_type": "stream",
     "text": [
      "\r",
      " 80%|█████████████████████████████████████████████████████████████████████████████████████████████████████████████████████████████████████████████████████████████████████▎                                         | 1597/2000 [01:41<00:22, 17.81it/s]"
     ]
    },
    {
     "name": "stderr",
     "output_type": "stream",
     "text": [
      "\r",
      " 80%|█████████████████████████████████████████████████████████████████████████████████████████████████████████████████████████████████████████████████████████████████████▍                                         | 1599/2000 [01:42<00:22, 17.54it/s]"
     ]
    },
    {
     "name": "stderr",
     "output_type": "stream",
     "text": [
      "\r",
      " 80%|█████████████████████████████████████████████████████████████████████████████████████████████████████████████████████████████████████████████████████████████████████▋                                         | 1601/2000 [01:42<00:23, 17.28it/s]"
     ]
    },
    {
     "name": "stderr",
     "output_type": "stream",
     "text": [
      "\r",
      " 80%|█████████████████████████████████████████████████████████████████████████████████████████████████████████████████████████████████████████████████████████████████████▉                                         | 1603/2000 [01:42<00:22, 17.80it/s]"
     ]
    },
    {
     "name": "stderr",
     "output_type": "stream",
     "text": [
      "\r",
      " 80%|██████████████████████████████████████████████████████████████████████████████████████████████████████████████████████████████████████████████████████████████████████                                         | 1605/2000 [01:42<00:21, 18.05it/s]"
     ]
    },
    {
     "name": "stderr",
     "output_type": "stream",
     "text": [
      "\r",
      " 80%|██████████████████████████████████████████████████████████████████████████████████████████████████████████████████████████████████████████████████████████████████████▎                                        | 1607/2000 [01:42<00:21, 18.22it/s]"
     ]
    },
    {
     "name": "stderr",
     "output_type": "stream",
     "text": [
      "\r",
      " 80%|██████████████████████████████████████████████████████████████████████████████████████████████████████████████████████████████████████████████████████████████████████▌                                        | 1609/2000 [01:42<00:21, 18.53it/s]"
     ]
    },
    {
     "name": "stderr",
     "output_type": "stream",
     "text": [
      "\r",
      " 81%|██████████████████████████████████████████████████████████████████████████████████████████████████████████████████████████████████████████████████████████████████████▋                                        | 1611/2000 [01:42<00:21, 18.35it/s]"
     ]
    },
    {
     "name": "stderr",
     "output_type": "stream",
     "text": [
      "\r",
      " 81%|██████████████████████████████████████████████████████████████████████████████████████████████████████████████████████████████████████████████████████████████████████▉                                        | 1613/2000 [01:42<00:21, 17.77it/s]"
     ]
    },
    {
     "name": "stderr",
     "output_type": "stream",
     "text": [
      "\r",
      " 81%|███████████████████████████████████████████████████████████████████████████████████████████████████████████████████████████████████████████████████████████████████████▏                                       | 1615/2000 [01:42<00:21, 17.94it/s]"
     ]
    },
    {
     "name": "stderr",
     "output_type": "stream",
     "text": [
      "\r",
      " 81%|███████████████████████████████████████████████████████████████████████████████████████████████████████████████████████████████████████████████████████████████████████▎                                       | 1617/2000 [01:43<00:21, 17.46it/s]"
     ]
    },
    {
     "name": "stderr",
     "output_type": "stream",
     "text": [
      "\r",
      " 81%|███████████████████████████████████████████████████████████████████████████████████████████████████████████████████████████████████████████████████████████████████████▋                                       | 1620/2000 [01:43<00:20, 18.78it/s]"
     ]
    },
    {
     "name": "stderr",
     "output_type": "stream",
     "text": [
      "\r",
      " 81%|███████████████████████████████████████████████████████████████████████████████████████████████████████████████████████████████████████████████████████████████████████▉                                       | 1622/2000 [01:43<00:20, 18.70it/s]"
     ]
    },
    {
     "name": "stderr",
     "output_type": "stream",
     "text": [
      "\r",
      " 81%|████████████████████████████████████████████████████████████████████████████████████████████████████████████████████████████████████████████████████████████████████████                                       | 1624/2000 [01:43<00:20, 18.27it/s]"
     ]
    },
    {
     "name": "stderr",
     "output_type": "stream",
     "text": [
      "\r",
      " 81%|████████████████████████████████████████████████████████████████████████████████████████████████████████████████████████████████████████████████████████████████████████▎                                      | 1626/2000 [01:43<00:20, 18.15it/s]"
     ]
    },
    {
     "name": "stderr",
     "output_type": "stream",
     "text": [
      "\r",
      " 81%|████████████████████████████████████████████████████████████████████████████████████████████████████████████████████████████████████████████████████████████████████████▍                                      | 1628/2000 [01:43<00:20, 18.06it/s]"
     ]
    },
    {
     "name": "stderr",
     "output_type": "stream",
     "text": [
      "\r",
      " 82%|████████████████████████████████████████████████████████████████████████████████████████████████████████████████████████████████████████████████████████████████████████▋                                      | 1630/2000 [01:43<00:20, 18.17it/s]"
     ]
    },
    {
     "name": "stderr",
     "output_type": "stream",
     "text": [
      "\r",
      " 82%|████████████████████████████████████████████████████████████████████████████████████████████████████████████████████████████████████████████████████████████████████████▉                                      | 1632/2000 [01:43<00:19, 18.55it/s]"
     ]
    },
    {
     "name": "stderr",
     "output_type": "stream",
     "text": [
      "\r",
      " 82%|█████████████████████████████████████████████████████████████████████████████████████████████████████████████████████████████████████████████████████████████████████████                                      | 1634/2000 [01:43<00:19, 18.43it/s]"
     ]
    },
    {
     "name": "stderr",
     "output_type": "stream",
     "text": [
      "\r",
      " 82%|█████████████████████████████████████████████████████████████████████████████████████████████████████████████████████████████████████████████████████████████████████████▎                                     | 1636/2000 [01:44<00:19, 18.58it/s]"
     ]
    },
    {
     "name": "stderr",
     "output_type": "stream",
     "text": [
      "\r",
      " 82%|█████████████████████████████████████████████████████████████████████████████████████████████████████████████████████████████████████████████████████████████████████████▌                                     | 1638/2000 [01:44<00:19, 18.85it/s]"
     ]
    },
    {
     "name": "stderr",
     "output_type": "stream",
     "text": [
      "\r",
      " 82%|█████████████████████████████████████████████████████████████████████████████████████████████████████████████████████████████████████████████████████████████████████████▊                                     | 1641/2000 [01:44<00:18, 19.37it/s]"
     ]
    },
    {
     "name": "stderr",
     "output_type": "stream",
     "text": [
      "\r",
      " 82%|██████████████████████████████████████████████████████████████████████████████████████████████████████████████████████████████████████████████████████████████████████████▏                                    | 1644/2000 [01:44<00:16, 21.01it/s]"
     ]
    },
    {
     "name": "stderr",
     "output_type": "stream",
     "text": [
      "\r",
      " 82%|██████████████████████████████████████████████████████████████████████████████████████████████████████████████████████████████████████████████████████████████████████████▍                                    | 1647/2000 [01:44<00:17, 19.87it/s]"
     ]
    },
    {
     "name": "stderr",
     "output_type": "stream",
     "text": [
      "\r",
      " 82%|██████████████████████████████████████████████████████████████████████████████████████████████████████████████████████████████████████████████████████████████████████████▊                                    | 1650/2000 [01:44<00:18, 19.40it/s]"
     ]
    },
    {
     "name": "stderr",
     "output_type": "stream",
     "text": [
      "\r",
      " 83%|██████████████████████████████████████████████████████████████████████████████████████████████████████████████████████████████████████████████████████████████████████████▉                                    | 1652/2000 [01:44<00:18, 19.11it/s]"
     ]
    },
    {
     "name": "stderr",
     "output_type": "stream",
     "text": [
      "\r",
      " 83%|███████████████████████████████████████████████████████████████████████████████████████████████████████████████████████████████████████████████████████████████████████████▏                                   | 1654/2000 [01:44<00:17, 19.30it/s]"
     ]
    },
    {
     "name": "stderr",
     "output_type": "stream",
     "text": [
      "\r",
      " 83%|███████████████████████████████████████████████████████████████████████████████████████████████████████████████████████████████████████████████████████████████████████████▍                                   | 1656/2000 [01:45<00:18, 19.07it/s]"
     ]
    },
    {
     "name": "stderr",
     "output_type": "stream",
     "text": [
      "\r",
      " 83%|███████████████████████████████████████████████████████████████████████████████████████████████████████████████████████████████████████████████████████████████████████████▌                                   | 1658/2000 [01:45<00:17, 19.05it/s]"
     ]
    },
    {
     "name": "stderr",
     "output_type": "stream",
     "text": [
      "\r",
      " 83%|███████████████████████████████████████████████████████████████████████████████████████████████████████████████████████████████████████████████████████████████████████████▉                                   | 1661/2000 [01:45<00:17, 19.40it/s]"
     ]
    },
    {
     "name": "stderr",
     "output_type": "stream",
     "text": [
      "\r",
      " 83%|████████████████████████████████████████████████████████████████████████████████████████████████████████████████████████████████████████████████████████████████████████████▏                                  | 1664/2000 [01:45<00:16, 20.49it/s]"
     ]
    },
    {
     "name": "stderr",
     "output_type": "stream",
     "text": [
      "\r",
      " 83%|████████████████████████████████████████████████████████████████████████████████████████████████████████████████████████████████████████████████████████████████████████████▌                                  | 1667/2000 [01:45<00:16, 20.59it/s]"
     ]
    },
    {
     "name": "stderr",
     "output_type": "stream",
     "text": [
      "\r",
      " 84%|████████████████████████████████████████████████████████████████████████████████████████████████████████████████████████████████████████████████████████████████████████████▊                                  | 1670/2000 [01:45<00:16, 20.31it/s]"
     ]
    },
    {
     "name": "stderr",
     "output_type": "stream",
     "text": [
      "\r",
      " 84%|█████████████████████████████████████████████████████████████████████████████████████████████████████████████████████████████████████████████████████████████████████████████▏                                 | 1673/2000 [01:45<00:16, 20.25it/s]"
     ]
    },
    {
     "name": "stderr",
     "output_type": "stream",
     "text": [
      "\r",
      " 84%|█████████████████████████████████████████████████████████████████████████████████████████████████████████████████████████████████████████████████████████████████████████████▍                                 | 1676/2000 [01:46<00:16, 19.82it/s]"
     ]
    },
    {
     "name": "stderr",
     "output_type": "stream",
     "text": [
      "\r",
      " 84%|█████████████████████████████████████████████████████████████████████████████████████████████████████████████████████████████████████████████████████████████████████████████▋                                 | 1678/2000 [01:46<00:16, 19.37it/s]"
     ]
    },
    {
     "name": "stderr",
     "output_type": "stream",
     "text": [
      "\r",
      " 84%|█████████████████████████████████████████████████████████████████████████████████████████████████████████████████████████████████████████████████████████████████████████████▉                                 | 1680/2000 [01:46<00:17, 18.55it/s]"
     ]
    },
    {
     "name": "stderr",
     "output_type": "stream",
     "text": [
      "\r",
      " 84%|██████████████████████████████████████████████████████████████████████████████████████████████████████████████████████████████████████████████████████████████████████████████                                 | 1682/2000 [01:46<00:17, 18.31it/s]"
     ]
    },
    {
     "name": "stderr",
     "output_type": "stream",
     "text": [
      "\r",
      " 84%|██████████████████████████████████████████████████████████████████████████████████████████████████████████████████████████████████████████████████████████████████████████████▎                                | 1684/2000 [01:46<00:17, 18.32it/s]"
     ]
    },
    {
     "name": "stderr",
     "output_type": "stream",
     "text": [
      "\r",
      " 84%|██████████████████████████████████████████████████████████████████████████████████████████████████████████████████████████████████████████████████████████████████████████████▌                                | 1687/2000 [01:46<00:16, 18.81it/s]"
     ]
    },
    {
     "name": "stderr",
     "output_type": "stream",
     "text": [
      "\r",
      " 84%|██████████████████████████████████████████████████████████████████████████████████████████████████████████████████████████████████████████████████████████████████████████████▉                                | 1690/2000 [01:46<00:15, 19.45it/s]"
     ]
    },
    {
     "name": "stderr",
     "output_type": "stream",
     "text": [
      "\r",
      " 85%|███████████████████████████████████████████████████████████████████████████████████████████████████████████████████████████████████████████████████████████████████████████████                                | 1692/2000 [01:46<00:16, 18.78it/s]"
     ]
    },
    {
     "name": "stderr",
     "output_type": "stream",
     "text": [
      "\r",
      " 85%|███████████████████████████████████████████████████████████████████████████████████████████████████████████████████████████████████████████████████████████████████████████████▎                               | 1694/2000 [01:47<00:16, 18.86it/s]"
     ]
    },
    {
     "name": "stderr",
     "output_type": "stream",
     "text": [
      "\r",
      " 85%|███████████████████████████████████████████████████████████████████████████████████████████████████████████████████████████████████████████████████████████████████████████████▌                               | 1696/2000 [01:47<00:15, 19.07it/s]"
     ]
    },
    {
     "name": "stderr",
     "output_type": "stream",
     "text": [
      "\r",
      " 85%|███████████████████████████████████████████████████████████████████████████████████████████████████████████████████████████████████████████████████████████████████████████████▋                               | 1698/2000 [01:47<00:16, 18.83it/s]"
     ]
    },
    {
     "name": "stderr",
     "output_type": "stream",
     "text": [
      "\r",
      " 85%|███████████████████████████████████████████████████████████████████████████████████████████████████████████████████████████████████████████████████████████████████████████████▉                               | 1700/2000 [01:47<00:15, 18.98it/s]"
     ]
    },
    {
     "name": "stderr",
     "output_type": "stream",
     "text": [
      "\r",
      " 85%|████████████████████████████████████████████████████████████████████████████████████████████████████████████████████████████████████████████████████████████████████████████████▎                              | 1703/2000 [01:47<00:15, 19.36it/s]"
     ]
    },
    {
     "name": "stderr",
     "output_type": "stream",
     "text": [
      "\r",
      " 85%|████████████████████████████████████████████████████████████████████████████████████████████████████████████████████████████████████████████████████████████████████████████████▍                              | 1705/2000 [01:47<00:15, 18.78it/s]"
     ]
    },
    {
     "name": "stderr",
     "output_type": "stream",
     "text": [
      "\r",
      " 85%|████████████████████████████████████████████████████████████████████████████████████████████████████████████████████████████████████████████████████████████████████████████████▋                              | 1707/2000 [01:47<00:15, 19.01it/s]"
     ]
    },
    {
     "name": "stderr",
     "output_type": "stream",
     "text": [
      "\r",
      " 85%|████████████████████████████████████████████████████████████████████████████████████████████████████████████████████████████████████████████████████████████████████████████████▉                              | 1709/2000 [01:47<00:15, 19.10it/s]"
     ]
    },
    {
     "name": "stderr",
     "output_type": "stream",
     "text": [
      "\r",
      " 86%|█████████████████████████████████████████████████████████████████████████████████████████████████████████████████████████████████████████████████████████████████████████████████▏                             | 1712/2000 [01:47<00:14, 19.70it/s]"
     ]
    },
    {
     "name": "stderr",
     "output_type": "stream",
     "text": [
      "\r",
      " 86%|█████████████████████████████████████████████████████████████████████████████████████████████████████████████████████████████████████████████████████████████████████████████████▍                             | 1714/2000 [01:48<00:14, 19.11it/s]"
     ]
    },
    {
     "name": "stderr",
     "output_type": "stream",
     "text": [
      "\r",
      " 86%|█████████████████████████████████████████████████████████████████████████████████████████████████████████████████████████████████████████████████████████████████████████████████▌                             | 1716/2000 [01:48<00:15, 18.41it/s]"
     ]
    },
    {
     "name": "stderr",
     "output_type": "stream",
     "text": [
      "\r",
      " 86%|█████████████████████████████████████████████████████████████████████████████████████████████████████████████████████████████████████████████████████████████████████████████████▊                             | 1718/2000 [01:48<00:15, 18.69it/s]"
     ]
    },
    {
     "name": "stderr",
     "output_type": "stream",
     "text": [
      "\r",
      " 86%|██████████████████████████████████████████████████████████████████████████████████████████████████████████████████████████████████████████████████████████████████████████████████                             | 1721/2000 [01:48<00:14, 19.61it/s]"
     ]
    },
    {
     "name": "stderr",
     "output_type": "stream",
     "text": [
      "\r",
      " 86%|██████████████████████████████████████████████████████████████████████████████████████████████████████████████████████████████████████████████████████████████████████████████████▎                            | 1723/2000 [01:48<00:14, 19.62it/s]"
     ]
    },
    {
     "name": "stderr",
     "output_type": "stream",
     "text": [
      "\r",
      " 86%|██████████████████████████████████████████████████████████████████████████████████████████████████████████████████████████████████████████████████████████████████████████████████▌                            | 1725/2000 [01:48<00:13, 19.70it/s]"
     ]
    },
    {
     "name": "stderr",
     "output_type": "stream",
     "text": [
      "\r",
      " 86%|██████████████████████████████████████████████████████████████████████████████████████████████████████████████████████████████████████████████████████████████████████████████████▊                            | 1728/2000 [01:48<00:13, 19.71it/s]"
     ]
    },
    {
     "name": "stderr",
     "output_type": "stream",
     "text": [
      "\r",
      " 87%|███████████████████████████████████████████████████████████████████████████████████████████████████████████████████████████████████████████████████████████████████████████████████▏                           | 1731/2000 [01:48<00:13, 20.24it/s]"
     ]
    },
    {
     "name": "stderr",
     "output_type": "stream",
     "text": [
      "\r",
      " 87%|███████████████████████████████████████████████████████████████████████████████████████████████████████████████████████████████████████████████████████████████████████████████████▍                           | 1734/2000 [01:49<00:13, 20.29it/s]"
     ]
    },
    {
     "name": "stderr",
     "output_type": "stream",
     "text": [
      "\r",
      " 87%|███████████████████████████████████████████████████████████████████████████████████████████████████████████████████████████████████████████████████████████████████████████████████▊                           | 1737/2000 [01:49<00:13, 19.70it/s]"
     ]
    },
    {
     "name": "stderr",
     "output_type": "stream",
     "text": [
      "\r",
      " 87%|████████████████████████████████████████████████████████████████████████████████████████████████████████████████████████████████████████████████████████████████████████████████████                           | 1740/2000 [01:49<00:13, 19.67it/s]"
     ]
    },
    {
     "name": "stderr",
     "output_type": "stream",
     "text": [
      "\r",
      " 87%|████████████████████████████████████████████████████████████████████████████████████████████████████████████████████████████████████████████████████████████████████████████████████▎                          | 1742/2000 [01:49<00:13, 19.38it/s]"
     ]
    },
    {
     "name": "stderr",
     "output_type": "stream",
     "text": [
      "\r",
      " 87%|████████████████████████████████████████████████████████████████████████████████████████████████████████████████████████████████████████████████████████████████████████████████████▌                          | 1745/2000 [01:49<00:12, 19.74it/s]"
     ]
    },
    {
     "name": "stderr",
     "output_type": "stream",
     "text": [
      "\r",
      " 87%|████████████████████████████████████████████████████████████████████████████████████████████████████████████████████████████████████████████████████████████████████████████████████▉                          | 1748/2000 [01:49<00:12, 19.69it/s]"
     ]
    },
    {
     "name": "stderr",
     "output_type": "stream",
     "text": [
      "\r",
      " 88%|█████████████████████████████████████████████████████████████████████████████████████████████████████████████████████████████████████████████████████████████████████████████████████▏                         | 1750/2000 [01:49<00:13, 19.09it/s]"
     ]
    },
    {
     "name": "stderr",
     "output_type": "stream",
     "text": [
      "\r",
      " 88%|█████████████████████████████████████████████████████████████████████████████████████████████████████████████████████████████████████████████████████████████████████████████████████▎                         | 1752/2000 [01:50<00:13, 18.46it/s]"
     ]
    },
    {
     "name": "stderr",
     "output_type": "stream",
     "text": [
      "\r",
      " 88%|█████████████████████████████████████████████████████████████████████████████████████████████████████████████████████████████████████████████████████████████████████████████████████▌                         | 1754/2000 [01:50<00:13, 18.67it/s]"
     ]
    },
    {
     "name": "stderr",
     "output_type": "stream",
     "text": [
      "\r",
      " 88%|█████████████████████████████████████████████████████████████████████████████████████████████████████████████████████████████████████████████████████████████████████████████████████▋                         | 1756/2000 [01:50<00:13, 18.28it/s]"
     ]
    },
    {
     "name": "stderr",
     "output_type": "stream",
     "text": [
      "\r",
      " 88%|██████████████████████████████████████████████████████████████████████████████████████████████████████████████████████████████████████████████████████████████████████████████████████                         | 1759/2000 [01:50<00:12, 18.91it/s]"
     ]
    },
    {
     "name": "stderr",
     "output_type": "stream",
     "text": [
      "\r",
      " 88%|██████████████████████████████████████████████████████████████████████████████████████████████████████████████████████████████████████████████████████████████████████████████████████▎                        | 1761/2000 [01:50<00:12, 18.79it/s]"
     ]
    },
    {
     "name": "stderr",
     "output_type": "stream",
     "text": [
      "\r",
      " 88%|██████████████████████████████████████████████████████████████████████████████████████████████████████████████████████████████████████████████████████████████████████████████████████▍                        | 1763/2000 [01:50<00:13, 18.17it/s]"
     ]
    },
    {
     "name": "stderr",
     "output_type": "stream",
     "text": [
      "\r",
      " 88%|██████████████████████████████████████████████████████████████████████████████████████████████████████████████████████████████████████████████████████████████████████████████████████▊                        | 1766/2000 [01:50<00:12, 19.02it/s]"
     ]
    },
    {
     "name": "stderr",
     "output_type": "stream",
     "text": [
      "\r",
      " 88%|██████████████████████████████████████████████████████████████████████████████████████████████████████████████████████████████████████████████████████████████████████████████████████▉                        | 1768/2000 [01:50<00:12, 19.15it/s]"
     ]
    },
    {
     "name": "stderr",
     "output_type": "stream",
     "text": [
      "\r",
      " 89%|███████████████████████████████████████████████████████████████████████████████████████████████████████████████████████████████████████████████████████████████████████████████████████▎                       | 1771/2000 [01:50<00:11, 19.78it/s]"
     ]
    },
    {
     "name": "stderr",
     "output_type": "stream",
     "text": [
      "\r",
      " 89%|███████████████████████████████████████████████████████████████████████████████████████████████████████████████████████████████████████████████████████████████████████████████████████▌                       | 1773/2000 [01:51<00:11, 19.70it/s]"
     ]
    },
    {
     "name": "stderr",
     "output_type": "stream",
     "text": [
      "\r",
      " 89%|███████████████████████████████████████████████████████████████████████████████████████████████████████████████████████████████████████████████████████████████████████████████████████▋                       | 1775/2000 [01:51<00:11, 19.08it/s]"
     ]
    },
    {
     "name": "stderr",
     "output_type": "stream",
     "text": [
      "\r",
      " 89%|███████████████████████████████████████████████████████████████████████████████████████████████████████████████████████████████████████████████████████████████████████████████████████▉                       | 1777/2000 [01:51<00:11, 19.15it/s]"
     ]
    },
    {
     "name": "stderr",
     "output_type": "stream",
     "text": [
      "\r",
      " 89%|████████████████████████████████████████████████████████████████████████████████████████████████████████████████████████████████████████████████████████████████████████████████████████▏                      | 1780/2000 [01:51<00:10, 20.03it/s]"
     ]
    },
    {
     "name": "stderr",
     "output_type": "stream",
     "text": [
      "\r",
      " 89%|████████████████████████████████████████████████████████████████████████████████████████████████████████████████████████████████████████████████████████████████████████████████████████▍                      | 1782/2000 [01:51<00:11, 19.26it/s]"
     ]
    },
    {
     "name": "stderr",
     "output_type": "stream",
     "text": [
      "\r",
      " 89%|████████████████████████████████████████████████████████████████████████████████████████████████████████████████████████████████████████████████████████████████████████████████████████▋                      | 1785/2000 [01:51<00:11, 19.43it/s]"
     ]
    },
    {
     "name": "stderr",
     "output_type": "stream",
     "text": [
      "\r",
      " 89%|████████████████████████████████████████████████████████████████████████████████████████████████████████████████████████████████████████████████████████████████████████████████████████▉                      | 1787/2000 [01:51<00:11, 19.35it/s]"
     ]
    },
    {
     "name": "stderr",
     "output_type": "stream",
     "text": [
      "\r",
      " 89%|█████████████████████████████████████████████████████████████████████████████████████████████████████████████████████████████████████████████████████████████████████████████████████████▏                     | 1789/2000 [01:51<00:10, 19.52it/s]"
     ]
    },
    {
     "name": "stderr",
     "output_type": "stream",
     "text": [
      "\r",
      " 90%|█████████████████████████████████████████████████████████████████████████████████████████████████████████████████████████████████████████████████████████████████████████████████████████▎                     | 1791/2000 [01:52<00:11, 18.77it/s]"
     ]
    },
    {
     "name": "stderr",
     "output_type": "stream",
     "text": [
      "\r",
      " 90%|█████████████████████████████████████████████████████████████████████████████████████████████████████████████████████████████████████████████████████████████████████████████████████████▌                     | 1793/2000 [01:52<00:10, 19.02it/s]"
     ]
    },
    {
     "name": "stderr",
     "output_type": "stream",
     "text": [
      "\r",
      " 90%|█████████████████████████████████████████████████████████████████████████████████████████████████████████████████████████████████████████████████████████████████████████████████████████▉                     | 1796/2000 [01:52<00:10, 19.16it/s]"
     ]
    },
    {
     "name": "stderr",
     "output_type": "stream",
     "text": [
      "\r",
      " 90%|██████████████████████████████████████████████████████████████████████████████████████████████████████████████████████████████████████████████████████████████████████████████████████████▏                    | 1799/2000 [01:52<00:09, 20.11it/s]"
     ]
    },
    {
     "name": "stderr",
     "output_type": "stream",
     "text": [
      "\r",
      " 90%|██████████████████████████████████████████████████████████████████████████████████████████████████████████████████████████████████████████████████████████████████████████████████████████▌                    | 1802/2000 [01:52<00:10, 19.06it/s]"
     ]
    },
    {
     "name": "stderr",
     "output_type": "stream",
     "text": [
      "\r",
      " 90%|██████████████████████████████████████████████████████████████████████████████████████████████████████████████████████████████████████████████████████████████████████████████████████████▋                    | 1804/2000 [01:52<00:10, 19.06it/s]"
     ]
    },
    {
     "name": "stderr",
     "output_type": "stream",
     "text": [
      "\r",
      " 90%|██████████████████████████████████████████████████████████████████████████████████████████████████████████████████████████████████████████████████████████████████████████████████████████▉                    | 1806/2000 [01:52<00:10, 19.16it/s]"
     ]
    },
    {
     "name": "stderr",
     "output_type": "stream",
     "text": [
      "\r",
      " 90%|███████████████████████████████████████████████████████████████████████████████████████████████████████████████████████████████████████████████████████████████████████████████████████████▏                   | 1808/2000 [01:52<00:10, 18.78it/s]"
     ]
    },
    {
     "name": "stderr",
     "output_type": "stream",
     "text": [
      "\r",
      " 90%|███████████████████████████████████████████████████████████████████████████████████████████████████████████████████████████████████████████████████████████████████████████████████████████▎                   | 1810/2000 [01:53<00:10, 18.96it/s]"
     ]
    },
    {
     "name": "stderr",
     "output_type": "stream",
     "text": [
      "\r",
      " 91%|███████████████████████████████████████████████████████████████████████████████████████████████████████████████████████████████████████████████████████████████████████████████████████████▌                   | 1812/2000 [01:53<00:10, 18.70it/s]"
     ]
    },
    {
     "name": "stderr",
     "output_type": "stream",
     "text": [
      "\r",
      " 91%|███████████████████████████████████████████████████████████████████████████████████████████████████████████████████████████████████████████████████████████████████████████████████████████▊                   | 1815/2000 [01:53<00:09, 19.94it/s]"
     ]
    },
    {
     "name": "stderr",
     "output_type": "stream",
     "text": [
      "\r",
      " 91%|████████████████████████████████████████████████████████████████████████████████████████████████████████████████████████████████████████████████████████████████████████████████████████████                   | 1817/2000 [01:53<00:09, 19.71it/s]"
     ]
    },
    {
     "name": "stderr",
     "output_type": "stream",
     "text": [
      "\r",
      " 91%|████████████████████████████████████████████████████████████████████████████████████████████████████████████████████████████████████████████████████████████████████████████████████████████▎                  | 1819/2000 [01:53<00:09, 19.41it/s]"
     ]
    },
    {
     "name": "stderr",
     "output_type": "stream",
     "text": [
      "\r",
      " 91%|████████████████████████████████████████████████████████████████████████████████████████████████████████████████████████████████████████████████████████████████████████████████████████████▌                  | 1822/2000 [01:53<00:09, 19.62it/s]"
     ]
    },
    {
     "name": "stderr",
     "output_type": "stream",
     "text": [
      "\r",
      " 91%|████████████████████████████████████████████████████████████████████████████████████████████████████████████████████████████████████████████████████████████████████████████████████████████▊                  | 1824/2000 [01:53<00:09, 19.22it/s]"
     ]
    },
    {
     "name": "stderr",
     "output_type": "stream",
     "text": [
      "\r",
      " 91%|█████████████████████████████████████████████████████████████████████████████████████████████████████████████████████████████████████████████████████████████████████████████████████████████                  | 1827/2000 [01:53<00:08, 19.53it/s]"
     ]
    },
    {
     "name": "stderr",
     "output_type": "stream",
     "text": [
      "\r",
      " 92%|█████████████████████████████████████████████████████████████████████████████████████████████████████████████████████████████████████████████████████████████████████████████████████████████▍                 | 1830/2000 [01:54<00:08, 19.00it/s]"
     ]
    },
    {
     "name": "stderr",
     "output_type": "stream",
     "text": [
      "\r",
      " 92%|█████████████████████████████████████████████████████████████████████████████████████████████████████████████████████████████████████████████████████████████████████████████████████████████▋                 | 1833/2000 [01:54<00:08, 19.31it/s]"
     ]
    },
    {
     "name": "stderr",
     "output_type": "stream",
     "text": [
      "\r",
      " 92%|██████████████████████████████████████████████████████████████████████████████████████████████████████████████████████████████████████████████████████████████████████████████████████████████                 | 1836/2000 [01:54<00:08, 19.53it/s]"
     ]
    },
    {
     "name": "stderr",
     "output_type": "stream",
     "text": [
      "\r",
      " 92%|██████████████████████████████████████████████████████████████████████████████████████████████████████████████████████████████████████████████████████████████████████████████████████████████▏                | 1838/2000 [01:54<00:08, 19.14it/s]"
     ]
    },
    {
     "name": "stderr",
     "output_type": "stream",
     "text": [
      "\r",
      " 92%|██████████████████████████████████████████████████████████████████████████████████████████████████████████████████████████████████████████████████████████████████████████████████████████████▍                | 1840/2000 [01:54<00:08, 19.27it/s]"
     ]
    },
    {
     "name": "stderr",
     "output_type": "stream",
     "text": [
      "\r",
      " 92%|██████████████████████████████████████████████████████████████████████████████████████████████████████████████████████████████████████████████████████████████████████████████████████████████▊                | 1843/2000 [01:54<00:07, 20.10it/s]"
     ]
    },
    {
     "name": "stderr",
     "output_type": "stream",
     "text": [
      "\r",
      " 92%|███████████████████████████████████████████████████████████████████████████████████████████████████████████████████████████████████████████████████████████████████████████████████████████████                | 1846/2000 [01:54<00:07, 19.93it/s]"
     ]
    },
    {
     "name": "stderr",
     "output_type": "stream",
     "text": [
      "\r",
      " 92%|███████████████████████████████████████████████████████████████████████████████████████████████████████████████████████████████████████████████████████████████████████████████████████████████▎               | 1849/2000 [01:55<00:07, 20.28it/s]"
     ]
    },
    {
     "name": "stderr",
     "output_type": "stream",
     "text": [
      "\r",
      " 93%|███████████████████████████████████████████████████████████████████████████████████████████████████████████████████████████████████████████████████████████████████████████████████████████████▋               | 1852/2000 [01:55<00:07, 19.68it/s]"
     ]
    },
    {
     "name": "stderr",
     "output_type": "stream",
     "text": [
      "\r",
      " 93%|███████████████████████████████████████████████████████████████████████████████████████████████████████████████████████████████████████████████████████████████████████████████████████████████▉               | 1855/2000 [01:55<00:07, 20.24it/s]"
     ]
    },
    {
     "name": "stderr",
     "output_type": "stream",
     "text": [
      "\r",
      " 93%|████████████████████████████████████████████████████████████████████████████████████████████████████████████████████████████████████████████████████████████████████████████████████████████████▎              | 1858/2000 [01:55<00:06, 20.57it/s]"
     ]
    },
    {
     "name": "stderr",
     "output_type": "stream",
     "text": [
      "\r",
      " 93%|████████████████████████████████████████████████████████████████████████████████████████████████████████████████████████████████████████████████████████████████████████████████████████████████▌              | 1861/2000 [01:55<00:06, 19.96it/s]"
     ]
    },
    {
     "name": "stderr",
     "output_type": "stream",
     "text": [
      "\r",
      " 93%|████████████████████████████████████████████████████████████████████████████████████████████████████████████████████████████████████████████████████████████████████████████████████████████████▉              | 1864/2000 [01:55<00:06, 19.81it/s]"
     ]
    },
    {
     "name": "stderr",
     "output_type": "stream",
     "text": [
      "\r",
      " 93%|█████████████████████████████████████████████████████████████████████████████████████████████████████████████████████████████████████████████████████████████████████████████████████████████████▏             | 1866/2000 [01:55<00:06, 19.28it/s]"
     ]
    },
    {
     "name": "stderr",
     "output_type": "stream",
     "text": [
      "\r",
      " 93%|█████████████████████████████████████████████████████████████████████████████████████████████████████████████████████████████████████████████████████████████████████████████████████████████████▍             | 1869/2000 [01:56<00:06, 19.35it/s]"
     ]
    },
    {
     "name": "stderr",
     "output_type": "stream",
     "text": [
      "\r",
      " 94%|█████████████████████████████████████████████████████████████████████████████████████████████████████████████████████████████████████████████████████████████████████████████████████████████████▊             | 1872/2000 [01:56<00:06, 19.64it/s]"
     ]
    },
    {
     "name": "stderr",
     "output_type": "stream",
     "text": [
      "\r",
      " 94%|█████████████████████████████████████████████████████████████████████████████████████████████████████████████████████████████████████████████████████████████████████████████████████████████████▉             | 1874/2000 [01:56<00:06, 19.47it/s]"
     ]
    },
    {
     "name": "stderr",
     "output_type": "stream",
     "text": [
      "\r",
      " 94%|██████████████████████████████████████████████████████████████████████████████████████████████████████████████████████████████████████████████████████████████████████████████████████████████████▏            | 1876/2000 [01:56<00:06, 19.39it/s]"
     ]
    },
    {
     "name": "stderr",
     "output_type": "stream",
     "text": [
      "\r",
      " 94%|██████████████████████████████████████████████████████████████████████████████████████████████████████████████████████████████████████████████████████████████████████████████████████████████████▍            | 1879/2000 [01:56<00:06, 19.94it/s]"
     ]
    },
    {
     "name": "stderr",
     "output_type": "stream",
     "text": [
      "\r",
      " 94%|██████████████████████████████████████████████████████████████████████████████████████████████████████████████████████████████████████████████████████████████████████████████████████████████████▋            | 1881/2000 [01:56<00:06, 19.69it/s]"
     ]
    },
    {
     "name": "stderr",
     "output_type": "stream",
     "text": [
      "\r",
      " 94%|██████████████████████████████████████████████████████████████████████████████████████████████████████████████████████████████████████████████████████████████████████████████████████████████████▉            | 1884/2000 [01:56<00:05, 20.66it/s]"
     ]
    },
    {
     "name": "stderr",
     "output_type": "stream",
     "text": [
      "\r",
      " 94%|███████████████████████████████████████████████████████████████████████████████████████████████████████████████████████████████████████████████████████████████████████████████████████████████████▎           | 1887/2000 [01:56<00:05, 20.26it/s]"
     ]
    },
    {
     "name": "stderr",
     "output_type": "stream",
     "text": [
      "\r",
      " 94%|███████████████████████████████████████████████████████████████████████████████████████████████████████████████████████████████████████████████████████████████████████████████████████████████████▌           | 1890/2000 [01:57<00:05, 20.26it/s]"
     ]
    },
    {
     "name": "stderr",
     "output_type": "stream",
     "text": [
      "\r",
      " 95%|███████████████████████████████████████████████████████████████████████████████████████████████████████████████████████████████████████████████████████████████████████████████████████████████████▉           | 1893/2000 [01:57<00:05, 20.56it/s]"
     ]
    },
    {
     "name": "stderr",
     "output_type": "stream",
     "text": [
      "\r",
      " 95%|████████████████████████████████████████████████████████████████████████████████████████████████████████████████████████████████████████████████████████████████████████████████████████████████████▏          | 1896/2000 [01:57<00:05, 20.61it/s]"
     ]
    },
    {
     "name": "stderr",
     "output_type": "stream",
     "text": [
      "\r",
      " 95%|████████████████████████████████████████████████████████████████████████████████████████████████████████████████████████████████████████████████████████████████████████████████████████████████████▌          | 1899/2000 [01:57<00:05, 20.19it/s]"
     ]
    },
    {
     "name": "stderr",
     "output_type": "stream",
     "text": [
      "\r",
      " 95%|████████████████████████████████████████████████████████████████████████████████████████████████████████████████████████████████████████████████████████████████████████████████████████████████████▊          | 1902/2000 [01:57<00:04, 19.88it/s]"
     ]
    },
    {
     "name": "stderr",
     "output_type": "stream",
     "text": [
      "\r",
      " 95%|█████████████████████████████████████████████████████████████████████████████████████████████████████████████████████████████████████████████████████████████████████████████████████████████████████▏         | 1905/2000 [01:57<00:04, 19.61it/s]"
     ]
    },
    {
     "name": "stderr",
     "output_type": "stream",
     "text": [
      "\r",
      " 95%|█████████████████████████████████████████████████████████████████████████████████████████████████████████████████████████████████████████████████████████████████████████████████████████████████████▍         | 1908/2000 [01:57<00:04, 19.79it/s]"
     ]
    },
    {
     "name": "stderr",
     "output_type": "stream",
     "text": [
      "\r",
      " 96%|█████████████████████████████████████████████████████████████████████████████████████████████████████████████████████████████████████████████████████████████████████████████████████████████████████▋         | 1910/2000 [01:58<00:04, 19.08it/s]"
     ]
    },
    {
     "name": "stderr",
     "output_type": "stream",
     "text": [
      "\r",
      " 96%|█████████████████████████████████████████████████████████████████████████████████████████████████████████████████████████████████████████████████████████████████████████████████████████████████████▉         | 1912/2000 [01:58<00:04, 18.32it/s]"
     ]
    },
    {
     "name": "stderr",
     "output_type": "stream",
     "text": [
      "\r",
      " 96%|██████████████████████████████████████████████████████████████████████████████████████████████████████████████████████████████████████████████████████████████████████████████████████████████████████▏        | 1915/2000 [01:58<00:04, 18.78it/s]"
     ]
    },
    {
     "name": "stderr",
     "output_type": "stream",
     "text": [
      "\r",
      " 96%|██████████████████████████████████████████████████████████████████████████████████████████████████████████████████████████████████████████████████████████████████████████████████████████████████████▍        | 1917/2000 [01:58<00:04, 18.57it/s]"
     ]
    },
    {
     "name": "stderr",
     "output_type": "stream",
     "text": [
      "\r",
      " 96%|██████████████████████████████████████████████████████████████████████████████████████████████████████████████████████████████████████████████████████████████████████████████████████████████████████▌        | 1919/2000 [01:58<00:04, 18.72it/s]"
     ]
    },
    {
     "name": "stderr",
     "output_type": "stream",
     "text": [
      "\r",
      " 96%|██████████████████████████████████████████████████████████████████████████████████████████████████████████████████████████████████████████████████████████████████████████████████████████████████████▊        | 1921/2000 [01:58<00:04, 18.33it/s]"
     ]
    },
    {
     "name": "stderr",
     "output_type": "stream",
     "text": [
      "\r",
      " 96%|███████████████████████████████████████████████████████████████████████████████████████████████████████████████████████████████████████████████████████████████████████████████████████████████████████        | 1923/2000 [01:58<00:04, 18.22it/s]"
     ]
    },
    {
     "name": "stderr",
     "output_type": "stream",
     "text": [
      "\r",
      " 96%|███████████████████████████████████████████████████████████████████████████████████████████████████████████████████████████████████████████████████████████████████████████████████████████████████████▎       | 1926/2000 [01:58<00:03, 19.07it/s]"
     ]
    },
    {
     "name": "stderr",
     "output_type": "stream",
     "text": [
      "\r",
      " 96%|███████████████████████████████████████████████████████████████████████████████████████████████████████████████████████████████████████████████████████████████████████████████████████████████████████▋       | 1929/2000 [01:59<00:03, 19.46it/s]"
     ]
    },
    {
     "name": "stderr",
     "output_type": "stream",
     "text": [
      "\r",
      " 97%|███████████████████████████████████████████████████████████████████████████████████████████████████████████████████████████████████████████████████████████████████████████████████████████████████████▊       | 1931/2000 [01:59<00:03, 19.45it/s]"
     ]
    },
    {
     "name": "stderr",
     "output_type": "stream",
     "text": [
      "\r",
      " 97%|████████████████████████████████████████████████████████████████████████████████████████████████████████████████████████████████████████████████████████████████████████████████████████████████████████       | 1933/2000 [01:59<00:03, 19.36it/s]"
     ]
    },
    {
     "name": "stderr",
     "output_type": "stream",
     "text": [
      "\r",
      " 97%|████████████████████████████████████████████████████████████████████████████████████████████████████████████████████████████████████████████████████████████████████████████████████████████████████████▎      | 1935/2000 [01:59<00:03, 19.25it/s]"
     ]
    },
    {
     "name": "stderr",
     "output_type": "stream",
     "text": [
      "\r",
      " 97%|████████████████████████████████████████████████████████████████████████████████████████████████████████████████████████████████████████████████████████████████████████████████████████████████████████▌      | 1938/2000 [01:59<00:03, 19.61it/s]"
     ]
    },
    {
     "name": "stderr",
     "output_type": "stream",
     "text": [
      "\r",
      " 97%|████████████████████████████████████████████████████████████████████████████████████████████████████████████████████████████████████████████████████████████████████████████████████████████████████████▉      | 1941/2000 [01:59<00:02, 20.27it/s]"
     ]
    },
    {
     "name": "stderr",
     "output_type": "stream",
     "text": [
      "\r",
      " 97%|█████████████████████████████████████████████████████████████████████████████████████████████████████████████████████████████████████████████████████████████████████████████████████████████████████████▏     | 1944/2000 [01:59<00:02, 20.35it/s]"
     ]
    },
    {
     "name": "stderr",
     "output_type": "stream",
     "text": [
      "\r",
      " 97%|█████████████████████████████████████████████████████████████████████████████████████████████████████████████████████████████████████████████████████████████████████████████████████████████████████████▌     | 1947/2000 [01:59<00:02, 20.57it/s]"
     ]
    },
    {
     "name": "stderr",
     "output_type": "stream",
     "text": [
      "\r",
      " 98%|█████████████████████████████████████████████████████████████████████████████████████████████████████████████████████████████████████████████████████████████████████████████████████████████████████████▊     | 1950/2000 [02:00<00:02, 19.81it/s]"
     ]
    },
    {
     "name": "stderr",
     "output_type": "stream",
     "text": [
      "\r",
      " 98%|██████████████████████████████████████████████████████████████████████████████████████████████████████████████████████████████████████████████████████████████████████████████████████████████████████████▏    | 1953/2000 [02:00<00:02, 19.94it/s]"
     ]
    },
    {
     "name": "stderr",
     "output_type": "stream",
     "text": [
      "\r",
      " 98%|██████████████████████████████████████████████████████████████████████████████████████████████████████████████████████████████████████████████████████████████████████████████████████████████████████████▎    | 1955/2000 [02:00<00:02, 19.76it/s]"
     ]
    },
    {
     "name": "stderr",
     "output_type": "stream",
     "text": [
      "\r",
      " 98%|██████████████████████████████████████████████████████████████████████████████████████████████████████████████████████████████████████████████████████████████████████████████████████████████████████████▌    | 1957/2000 [02:00<00:02, 19.47it/s]"
     ]
    },
    {
     "name": "stderr",
     "output_type": "stream",
     "text": [
      "\r",
      " 98%|██████████████████████████████████████████████████████████████████████████████████████████████████████████████████████████████████████████████████████████████████████████████████████████████████████████▊    | 1959/2000 [02:00<00:02, 19.42it/s]"
     ]
    },
    {
     "name": "stderr",
     "output_type": "stream",
     "text": [
      "\r",
      " 98%|██████████████████████████████████████████████████████████████████████████████████████████████████████████████████████████████████████████████████████████████████████████████████████████████████████████▉    | 1961/2000 [02:00<00:02, 16.13it/s]"
     ]
    },
    {
     "name": "stderr",
     "output_type": "stream",
     "text": [
      "\r",
      " 98%|███████████████████████████████████████████████████████████████████████████████████████████████████████████████████████████████████████████████████████████████████████████████████████████████████████████▏   | 1963/2000 [02:00<00:02, 16.80it/s]"
     ]
    },
    {
     "name": "stderr",
     "output_type": "stream",
     "text": [
      "\r",
      " 98%|███████████████████████████████████████████████████████████████████████████████████████████████████████████████████████████████████████████████████████████████████████████████████████████████████████████▍   | 1965/2000 [02:01<00:02, 17.11it/s]"
     ]
    },
    {
     "name": "stderr",
     "output_type": "stream",
     "text": [
      "\r",
      " 98%|███████████████████████████████████████████████████████████████████████████████████████████████████████████████████████████████████████████████████████████████████████████████████████████████████████████▌   | 1967/2000 [02:01<00:01, 17.85it/s]"
     ]
    },
    {
     "name": "stderr",
     "output_type": "stream",
     "text": [
      "\r",
      " 98%|███████████████████████████████████████████████████████████████████████████████████████████████████████████████████████████████████████████████████████████████████████████████████████████████████████████▊   | 1969/2000 [02:01<00:01, 17.87it/s]"
     ]
    },
    {
     "name": "stderr",
     "output_type": "stream",
     "text": [
      "\r",
      " 99%|████████████████████████████████████████████████████████████████████████████████████████████████████████████████████████████████████████████████████████████████████████████████████████████████████████████   | 1972/2000 [02:01<00:01, 18.89it/s]"
     ]
    },
    {
     "name": "stderr",
     "output_type": "stream",
     "text": [
      "\r",
      " 99%|████████████████████████████████████████████████████████████████████████████████████████████████████████████████████████████████████████████████████████████████████████████████████████████████████████████▍  | 1975/2000 [02:01<00:01, 20.16it/s]"
     ]
    },
    {
     "name": "stderr",
     "output_type": "stream",
     "text": [
      "\r",
      " 99%|████████████████████████████████████████████████████████████████████████████████████████████████████████████████████████████████████████████████████████████████████████████████████████████████████████████▋  | 1978/2000 [02:01<00:01, 20.01it/s]"
     ]
    },
    {
     "name": "stderr",
     "output_type": "stream",
     "text": [
      "\r",
      " 99%|█████████████████████████████████████████████████████████████████████████████████████████████████████████████████████████████████████████████████████████████████████████████████████████████████████████████  | 1981/2000 [02:01<00:00, 19.67it/s]"
     ]
    },
    {
     "name": "stderr",
     "output_type": "stream",
     "text": [
      "\r",
      " 99%|█████████████████████████████████████████████████████████████████████████████████████████████████████████████████████████████████████████████████████████████████████████████████████████████████████████████▏ | 1983/2000 [02:02<00:01, 16.18it/s]"
     ]
    },
    {
     "name": "stderr",
     "output_type": "stream",
     "text": [
      "\r",
      " 99%|█████████████████████████████████████████████████████████████████████████████████████████████████████████████████████████████████████████████████████████████████████████████████████████████████████████████▍ | 1985/2000 [02:02<00:00, 16.87it/s]"
     ]
    },
    {
     "name": "stderr",
     "output_type": "stream",
     "text": [
      "\r",
      " 99%|█████████████████████████████████████████████████████████████████████████████████████████████████████████████████████████████████████████████████████████████████████████████████████████████████████████████▋ | 1987/2000 [02:02<00:00, 17.06it/s]"
     ]
    },
    {
     "name": "stderr",
     "output_type": "stream",
     "text": [
      "\r",
      " 99%|█████████████████████████████████████████████████████████████████████████████████████████████████████████████████████████████████████████████████████████████████████████████████████████████████████████████▊ | 1989/2000 [02:02<00:00, 17.45it/s]"
     ]
    },
    {
     "name": "stderr",
     "output_type": "stream",
     "text": [
      "\r",
      "100%|██████████████████████████████████████████████████████████████████████████████████████████████████████████████████████████████████████████████████████████████████████████████████████████████████████████████▏| 1992/2000 [02:02<00:00, 17.91it/s]"
     ]
    },
    {
     "name": "stderr",
     "output_type": "stream",
     "text": [
      "\r",
      "100%|██████████████████████████████████████████████████████████████████████████████████████████████████████████████████████████████████████████████████████████████████████████████████████████████████████████████▍| 1994/2000 [02:02<00:00, 18.04it/s]"
     ]
    },
    {
     "name": "stderr",
     "output_type": "stream",
     "text": [
      "\r",
      "100%|██████████████████████████████████████████████████████████████████████████████████████████████████████████████████████████████████████████████████████████████████████████████████████████████████████████████▌| 1996/2000 [02:02<00:00, 18.16it/s]"
     ]
    },
    {
     "name": "stderr",
     "output_type": "stream",
     "text": [
      "\r",
      "100%|██████████████████████████████████████████████████████████████████████████████████████████████████████████████████████████████████████████████████████████████████████████████████████████████████████████████▊| 1998/2000 [02:02<00:00, 18.14it/s]"
     ]
    },
    {
     "name": "stderr",
     "output_type": "stream",
     "text": [
      "\r",
      "100%|███████████████████████████████████████████████████████████████████████████████████████████████████████████████████████████████████████████████████████████████████████████████████████████████████████████████| 2000/2000 [02:02<00:00, 16.27it/s]"
     ]
    },
    {
     "name": "stderr",
     "output_type": "stream",
     "text": [
      "\n"
     ]
    }
   ],
   "source": [
    "inversion_fixed_d_sampler = cofi.Inversion(joint_problem, inv_options_fixed_d_sampling)\n",
    "inv_result_fixed_d_sampler = inversion_fixed_d_sampler.run()"
   ]
  },
  {
   "cell_type": "code",
   "execution_count": null,
   "id": "56acf120-3415-4911-a0c5-a30db3caa0fd",
   "metadata": {
    "papermill": {
     "duration": 0.072232,
     "end_time": "2024-04-16T23:40:19.075115",
     "exception": false,
     "start_time": "2024-04-16T23:40:19.002883",
     "status": "completed"
    },
    "tags": []
   },
   "outputs": [],
   "source": [
    "sampler = inv_result_fixed_d_sampler.sampler\n",
    "az_idata = az.from_emcee(sampler, var_names=labels)"
   ]
  },
  {
   "cell_type": "code",
   "execution_count": null,
   "id": "7dca16a2-690d-4be3-9aa1-8de67837e28b",
   "metadata": {
    "papermill": {
     "duration": 0.113562,
     "end_time": "2024-04-16T23:40:19.246418",
     "exception": false,
     "start_time": "2024-04-16T23:40:19.132856",
     "status": "completed"
    },
    "tags": []
   },
   "outputs": [],
   "source": [
    "az_idata.get(\"posterior\")"
   ]
  },
  {
   "cell_type": "code",
   "execution_count": null,
   "id": "ed97c7af-636d-48c4-905a-4ba18c6cf351",
   "metadata": {
    "papermill": {
     "duration": 0.949725,
     "end_time": "2024-04-16T23:40:20.254662",
     "exception": false,
     "start_time": "2024-04-16T23:40:19.304937",
     "status": "completed"
    },
    "tags": []
   },
   "outputs": [],
   "source": [
    "flat_samples = sampler.get_chain(discard=500, thin=500, flat=True)\n",
    "rand_indices = np.random.randint(len(flat_samples), size=100)\n",
    "\n",
    "_, (ax1, ax2, ax3) = plt.subplots(1, 3, figsize=(12,4), gridspec_kw={'width_ratios': [1, 3, 3]})\n",
    "\n",
    "ax1.set_ylim(170)\n",
    "\n",
    "# plot samples and data predictions from samples\n",
    "for idx in rand_indices:\n",
    "    sample = flat_samples[idx]\n",
    "    plot_model(sample, ax=ax1, alpha=0.2, lw=0.5, color=\"gray\")\n",
    "    plot_sw_data(forward_sw(sample, periods), periods, \n",
    "                 ax=ax2, alpha=0.2, lw=0.5, color=\"gray\")\n",
    "    plot_rf_data(forward_rf(sample), rf_times,\n",
    "                 ax=ax3, alpha=0.2, lw=0.5, color=\"gray\")\n",
    "\n",
    "# add labels to samples\n",
    "sample_0 = flat_samples[rand_indices[0]]\n",
    "plot_model(sample_0, ax=ax1, alpha=0.5, lw=0.5, color=\"gray\", label=\"samples\")\n",
    "plot_sw_data(forward_sw(sample_0, periods), periods, ax=ax2, \n",
    "             alpha=0.5, lw=0.5, color=\"gray\", label=\"rayleigh_dpred from samples\")\n",
    "plot_rf_data(forward_rf(sample_0), rf_times, ax=ax3, \n",
    "             alpha=0.5, lw=0.5, color=\"gray\", label=\"rf_dpred from samples\")\n",
    "\n",
    "# plot true model and data observations\n",
    "plot_model(true_model, ax=ax1, alpha=1, color=\"r\", label=\"true model\")\n",
    "plot_sw_data(rayleigh_dobs, periods, ax=ax2, scatter=True, color=\"r\", s=4, \n",
    "          label=\"rayleigh_dobs\")\n",
    "plot_rf_data(rf_dobs, rf_times, ax=ax3, scatter=True, color=\"r\", s=2, \n",
    "          label=\"rf_dobs\")\n",
    "\n",
    "# plot damped optimisation result\n",
    "plot_model(inv_res_optimiser.model, ax=ax1, alpha=1, color=\"green\", \n",
    "           label=\"damped solution\")\n",
    "plot_sw_data(forward_sw(inv_res_optimiser_no_reg.model, periods), \n",
    "             periods, ax=ax2, color=\"green\",\n",
    "             label=\"rayleigh_dpred from damped solution\")\n",
    "plot_rf_data(forward_rf(inv_res_optimiser.model), rf_times, \n",
    "             ax=ax3, color=\"green\",\n",
    "             label=\"rf_dpred from damped solution\")\n",
    "\n",
    "# plot initial model for dampied optimsiation\n",
    "plot_model(init_model, ax=ax1, alpha=1, color=\"purple\", \n",
    "           label=\"initial model for damped solution\")\n",
    "plot_sw_data(forward_sw(init_model, periods), periods, ax=ax2, color=\"purple\",\n",
    "             label=\"rayleigh_dpred from initial model for damped solution\")\n",
    "plot_rf_data(forward_rf(init_model), rf_times, ax=ax3, color=\"purple\",\n",
    "             label=\"rf_dpred from initial model for damped solution\")\n",
    "\n",
    "ax1.legend(loc=\"upper center\", bbox_to_anchor=(0.5, -0.18))\n",
    "ax2.legend(loc=\"upper center\", bbox_to_anchor=(0.5, -0.18))\n",
    "ax3.legend(loc=\"upper center\", bbox_to_anchor=(0.5, -0.18))\n",
    "ax1.grid()\n",
    "ax2.grid()\n",
    "ax3.grid()\n",
    "\n",
    "plt.tight_layout()"
   ]
  },
  {
   "cell_type": "code",
   "execution_count": null,
   "id": "d725be41-94b5-4741-aaaa-343871c178b5",
   "metadata": {
    "papermill": {
     "duration": 9.177228,
     "end_time": "2024-04-16T23:40:29.496146",
     "exception": false,
     "start_time": "2024-04-16T23:40:20.318918",
     "status": "completed"
    },
    "tags": []
   },
   "outputs": [],
   "source": [
    "axes = az.plot_trace(\n",
    "    az_idata, \n",
    "    backend_kwargs={\"constrained_layout\":True},\n",
    "    figsize=(10,20)\n",
    ")\n",
    "\n",
    "for i, axes_pair in enumerate(axes):\n",
    "    ax1 = axes_pair[0]\n",
    "    ax2 = axes_pair[1]\n",
    "    ax1.axvline(true_model[i], linestyle='dotted', color='red')\n",
    "    ax1.set_xlabel(\"parameter value\")\n",
    "    ax1.set_ylabel(\"density value\")\n",
    "    ax2.set_xlabel(\"number of iterations\")\n",
    "    ax2.set_ylabel(\"parameter value\")"
   ]
  },
  {
   "cell_type": "markdown",
   "id": "76cfbad5-8572-4ffd-bec6-d7adf02aa735",
   "metadata": {
    "papermill": {
     "duration": 0.067819,
     "end_time": "2024-04-16T23:40:29.632453",
     "exception": false,
     "start_time": "2024-04-16T23:40:29.564634",
     "status": "completed"
    },
    "tags": []
   },
   "source": [
    "## Trans-dimensional sampling"
   ]
  },
  {
   "cell_type": "markdown",
   "id": "e9516f3d-8bdc-4d83-b74d-38537cc4847e",
   "metadata": {
    "papermill": {
     "duration": 0.070142,
     "end_time": "2024-04-16T23:40:29.770539",
     "exception": false,
     "start_time": "2024-04-16T23:40:29.700397",
     "status": "completed"
    },
    "tags": []
   },
   "source": [
    "**Prepare utilities for trans-d sampling**"
   ]
  },
  {
   "cell_type": "code",
   "execution_count": null,
   "id": "d2902ab4-bba5-4462-a6aa-27021b250b70",
   "metadata": {
    "papermill": {
     "duration": 0.073742,
     "end_time": "2024-04-16T23:40:29.911897",
     "exception": false,
     "start_time": "2024-04-16T23:40:29.838155",
     "status": "completed"
    },
    "tags": []
   },
   "outputs": [],
   "source": [
    "def fwd_rayleigh_for_bayesbay(state):\n",
    "    vs = state[\"voronoi\"][\"vs\"]\n",
    "    voronoi_sites = state[\"voronoi\"][\"discretization\"]\n",
    "    depths = (voronoi_sites[:-1] + voronoi_sites[1:]) / 2\n",
    "    thicknesses = depths - np.insert(depths[:-1], 0, 0)\n",
    "    model = form_layercake_model(thicknesses, vs)\n",
    "    return forward_sw(model, periods)\n",
    "\n",
    "def fwd_rf_for_bayesbay(state):\n",
    "    vs = state[\"voronoi\"][\"vs\"]\n",
    "    voronoi_sites = state[\"voronoi\"][\"discretization\"]\n",
    "    depths = (voronoi_sites[:-1] + voronoi_sites[1:]) / 2\n",
    "    thicknesses = depths - np.insert(depths[:-1], 0, 0)\n",
    "    model = form_layercake_model(thicknesses, vs)\n",
    "    return forward_rf(model)"
   ]
  },
  {
   "cell_type": "code",
   "execution_count": null,
   "id": "9934f5a8-a2ab-453b-bd83-c23fb30cb14f",
   "metadata": {
    "papermill": {
     "duration": 0.072741,
     "end_time": "2024-04-16T23:40:30.053026",
     "exception": false,
     "start_time": "2024-04-16T23:40:29.980285",
     "status": "completed"
    },
    "tags": []
   },
   "outputs": [],
   "source": [
    "targets = [\n",
    "    bayesbay.Target(\"rayleigh\", rayleigh_dobs, covariance_mat_inv=1 / RAYLEIGH_STD**2),\n",
    "    bayesbay.Target(\"rf\", rf_dobs, covariance_mat_inv=1 / RF_STD**2),\n",
    "]\n",
    "forward_funcs = [fwd_rayleigh_for_bayesbay, fwd_rf_for_bayesbay]\n",
    "\n",
    "my_log_likelihood = bayesbay.LogLikelihood(targets, forward_funcs)"
   ]
  },
  {
   "cell_type": "code",
   "execution_count": null,
   "id": "8fe414cb-9de8-4a09-bec1-26b846e45915",
   "metadata": {
    "papermill": {
     "duration": 0.077157,
     "end_time": "2024-04-16T23:40:30.198025",
     "exception": false,
     "start_time": "2024-04-16T23:40:30.120868",
     "status": "completed"
    },
    "tags": []
   },
   "outputs": [],
   "source": [
    "param_vs = bayesbay.prior.UniformPrior(\n",
    "    name=\"vs\", \n",
    "    vmin=[2.7, 3.2, 3.75], \n",
    "    vmax=[4, 4.75, 5], \n",
    "    position=[0, 40, 80], \n",
    "    perturb_std=0.15\n",
    ")\n",
    "\n",
    "def param_vs_initialize(param, positions): \n",
    "    vmin, vmax = param.get_vmin_vmax(positions)\n",
    "    sorted_vals = np.sort(np.random.uniform(vmin, vmax, positions.size))\n",
    "    for i in range (len(sorted_vals)):\n",
    "        val = sorted_vals[i]\n",
    "        vmin_i = vmin if np.isscalar(vmin) else vmin[i]\n",
    "        vmax_i = vmax if np.isscalar(vmax) else vmax[i]\n",
    "        if val < vmin_i or val > vmax_i:\n",
    "            if val > vmax_i: sorted_vals[i] = vmax_i\n",
    "            if val < vmin_i: sorted_vals[i] = vmin_i\n",
    "    return sorted_vals\n",
    "\n",
    "param_vs.set_custom_initialize(param_vs_initialize)"
   ]
  },
  {
   "cell_type": "code",
   "execution_count": null,
   "id": "9a2e66ea-b920-4f3f-8fc8-083b0e856dfb",
   "metadata": {
    "papermill": {
     "duration": 0.072731,
     "end_time": "2024-04-16T23:40:30.339095",
     "exception": false,
     "start_time": "2024-04-16T23:40:30.266364",
     "status": "completed"
    },
    "tags": []
   },
   "outputs": [],
   "source": [
    "parameterization = bayesbay.parameterization.Parameterization(\n",
    "    bayesbay.discretization.Voronoi1D(\n",
    "        name=\"voronoi\", \n",
    "        vmin=0, \n",
    "        vmax=150, \n",
    "        perturb_std=10, \n",
    "        n_dimensions=None, \n",
    "        n_dimensions_min=4, \n",
    "        n_dimensions_max=15, \n",
    "        parameters=[param_vs], \n",
    "    )\n",
    ")\n",
    "my_perturbation_funcs = parameterization.perturbation_funcs"
   ]
  },
  {
   "cell_type": "code",
   "execution_count": null,
   "id": "48b35a53-4a8c-491d-98f7-dab2dbd76e8e",
   "metadata": {
    "papermill": {
     "duration": 0.07365,
     "end_time": "2024-04-16T23:40:30.480828",
     "exception": false,
     "start_time": "2024-04-16T23:40:30.407178",
     "status": "completed"
    },
    "tags": []
   },
   "outputs": [],
   "source": [
    "n_chains=12\n",
    "walkers_start = []\n",
    "for i in range(n_chains):\n",
    "    walkers_start.append(parameterization.initialize())"
   ]
  },
  {
   "cell_type": "markdown",
   "id": "5e195f29-d0a4-4f01-90d2-b76b8c687d1e",
   "metadata": {
    "papermill": {
     "duration": 0.069181,
     "end_time": "2024-04-16T23:40:30.617891",
     "exception": false,
     "start_time": "2024-04-16T23:40:30.548710",
     "status": "completed"
    },
    "tags": []
   },
   "source": [
    "**Define `InversionOptions`**"
   ]
  },
  {
   "cell_type": "code",
   "execution_count": null,
   "id": "3c86de65-00b1-4043-9494-c26006876074",
   "metadata": {
    "papermill": {
     "duration": 0.080886,
     "end_time": "2024-04-16T23:40:30.766964",
     "exception": false,
     "start_time": "2024-04-16T23:40:30.686078",
     "status": "completed"
    },
    "tags": []
   },
   "outputs": [],
   "source": [
    "inv_options_trans_d = cofi.InversionOptions()\n",
    "inv_options_trans_d.set_tool(\"bayesbay\")\n",
    "inv_options_trans_d.set_params(\n",
    "    walkers_starting_states=walkers_start,\n",
    "    perturbation_funcs=my_perturbation_funcs,\n",
    "    log_like_ratio_func=my_log_likelihood,\n",
    "    n_chains=n_chains, \n",
    "    n_iterations=2_000, \n",
    "    burnin_iterations=1_000,\n",
    "    verbose=False, \n",
    "    save_every=200, \n",
    ")"
   ]
  },
  {
   "cell_type": "markdown",
   "id": "21dc32f8-da30-43f3-8580-34650f188fd6",
   "metadata": {
    "papermill": {
     "duration": 0.067469,
     "end_time": "2024-04-16T23:40:30.902919",
     "exception": false,
     "start_time": "2024-04-16T23:40:30.835450",
     "status": "completed"
    },
    "tags": []
   },
   "source": [
    "**Define `Inversion` and run**"
   ]
  },
  {
   "cell_type": "code",
   "execution_count": null,
   "id": "8c90d681-183c-4b80-857e-aa476fb03a5d",
   "metadata": {
    "papermill": {
     "duration": 4.42984,
     "end_time": "2024-04-16T23:40:35.400478",
     "exception": false,
     "start_time": "2024-04-16T23:40:30.970638",
     "status": "completed"
    },
    "tags": []
   },
   "outputs": [],
   "source": [
    "inversion_trans_d_sampler = cofi.Inversion(joint_problem, inv_options_trans_d)\n",
    "inv_res_trans_d_sampler = inversion_trans_d_sampler.run()"
   ]
  },
  {
   "cell_type": "code",
   "execution_count": null,
   "id": "7543cac8-9db6-4267-b6ab-b63bee1f51e4",
   "metadata": {
    "papermill": {
     "duration": 0.073719,
     "end_time": "2024-04-16T23:40:35.544894",
     "exception": false,
     "start_time": "2024-04-16T23:40:35.471175",
     "status": "completed"
    },
    "tags": []
   },
   "outputs": [],
   "source": [
    "saved_states = inv_res_trans_d_sampler.models\n",
    "samples_voronoi = saved_states[\"voronoi.discretization\"]\n",
    "samples_vs = saved_states[\"voronoi.vs\"]\n",
    "interp_depths = np.arange(150, dtype=float)"
   ]
  },
  {
   "cell_type": "code",
   "execution_count": null,
   "id": "f40e9eb7-84ff-4a1e-876f-311968972eda",
   "metadata": {
    "papermill": {
     "duration": 1.004982,
     "end_time": "2024-04-16T23:40:36.620418",
     "exception": false,
     "start_time": "2024-04-16T23:40:35.615436",
     "status": "completed"
    },
    "tags": []
   },
   "outputs": [],
   "source": [
    "rand_indices = np.random.randint(len(samples_voronoi), size=100)\n",
    "\n",
    "_, (ax1, ax2, ax3) = plt.subplots(1, 3, figsize=(12,4), gridspec_kw={'width_ratios': [1, 3, 3]})\n",
    "\n",
    "ax1.set_ylim(170)\n",
    "\n",
    "# plot samples and data predictions from samples\n",
    "for idx in rand_indices:\n",
    "    sample_voronoi = form_voronoi_model(samples_voronoi[idx], samples_vs[idx])\n",
    "    sample = voronoi_to_layercake(sample_voronoi)\n",
    "    plot_model(sample, ax=ax1, alpha=0.2, lw=0.5, color=\"gray\")\n",
    "    plot_sw_data(forward_sw(sample, periods), periods, \n",
    "                 ax=ax2, alpha=0.2, lw=0.5, color=\"gray\")\n",
    "    plot_rf_data(forward_rf(sample), rf_times,\n",
    "                 ax=ax3, alpha=0.2, lw=0.5, color=\"gray\")\n",
    "\n",
    "# add labels to samples\n",
    "sample_0_voronoi = form_voronoi_model(samples_voronoi[0], samples_vs[0])\n",
    "sample_0 = voronoi_to_layercake(sample_0_voronoi)\n",
    "plot_model(sample_0, ax=ax1, alpha=0.2, lw=0.5, color=\"gray\", label=\"samples\")\n",
    "plot_sw_data(forward_sw(sample_0, periods), periods, ax=ax2, \n",
    "             alpha=0.2, lw=0.5, color=\"gray\", label=\"rayleigh_dpred from samples\")\n",
    "plot_rf_data(forward_rf(sample_0), rf_times, ax=ax3, \n",
    "             alpha=0.2, lw=0.5, color=\"gray\", label=\"rf_dpred from samples\")\n",
    "\n",
    "# plot true model and data observations\n",
    "plot_model(true_model, ax=ax1, alpha=1, color=\"r\", label=\"true model\")\n",
    "plot_sw_data(rayleigh_dobs, periods, ax=ax2, scatter=True, color=\"r\", s=4, \n",
    "          label=\"rayleigh_dobs\")\n",
    "plot_rf_data(rf_dobs, rf_times, ax=ax3, scatter=True, color=\"r\", s=2, \n",
    "          label=\"rf_dobs\")\n",
    "\n",
    "# plot damped optimisation result\n",
    "plot_model(inv_res_optimiser.model, ax=ax1, alpha=1, color=\"green\", \n",
    "           label=\"damped solution\")\n",
    "plot_sw_data(forward_sw(inv_res_optimiser_no_reg.model, periods), \n",
    "             periods, ax=ax2, color=\"green\",\n",
    "             label=\"rayleigh_dpred from damped solution\")\n",
    "plot_rf_data(forward_rf(inv_res_optimiser.model), rf_times, \n",
    "             ax=ax3, color=\"green\",\n",
    "             label=\"rf_dpred from damped solution\")\n",
    "\n",
    "# plot initial model for dampied optimsiation\n",
    "plot_model(init_model, ax=ax1, alpha=1, color=\"purple\", \n",
    "           label=\"initial model for damped solution\")\n",
    "plot_sw_data(forward_sw(init_model, periods), periods, ax=ax2, color=\"purple\",\n",
    "             label=\"rayleigh_dpred from initial model for damped solution\")\n",
    "plot_rf_data(forward_rf(init_model), rf_times, ax=ax3, color=\"purple\",\n",
    "             label=\"rf_dpred from initial model for damped solution\")\n",
    "\n",
    "ax1.legend(loc=\"upper center\", bbox_to_anchor=(0.5, -0.18))\n",
    "ax2.legend(loc=\"upper center\", bbox_to_anchor=(0.5, -0.18))\n",
    "ax3.legend(loc=\"upper center\", bbox_to_anchor=(0.5, -0.18))\n",
    "ax1.grid()\n",
    "ax2.grid()\n",
    "ax3.grid()\n",
    "\n",
    "plt.tight_layout()"
   ]
  },
  {
   "cell_type": "markdown",
   "id": "c3adbc27-4697-444a-b032-69d8c045e038",
   "metadata": {
    "papermill": {
     "duration": 0.068716,
     "end_time": "2024-04-16T23:40:36.760020",
     "exception": false,
     "start_time": "2024-04-16T23:40:36.691304",
     "status": "completed"
    },
    "tags": []
   },
   "source": [
    "----\n",
    "## Watermark"
   ]
  },
  {
   "cell_type": "code",
   "execution_count": null,
   "id": "866e1d47-1662-4029-926f-bfb8e1605939",
   "metadata": {
    "papermill": {
     "duration": 0.076342,
     "end_time": "2024-04-16T23:40:36.909589",
     "exception": false,
     "start_time": "2024-04-16T23:40:36.833247",
     "status": "completed"
    },
    "tags": []
   },
   "outputs": [],
   "source": [
    "watermark_list = [\"cofi\", \"espresso\", \"numpy\", \"matplotlib\", \"scipy\", \"bayesbay\"]\n",
    "for pkg in watermark_list:\n",
    "    pkg_var = __import__(pkg)\n",
    "    print(pkg, getattr(pkg_var, \"__version__\"))"
   ]
  }
 ],
 "metadata": {
  "kernelspec": {
   "display_name": "Python 3 (ipykernel)",
   "language": "python",
   "name": "python3"
  },
  "language_info": {
   "codemirror_mode": {
    "name": "ipython",
    "version": 3
   },
   "file_extension": ".py",
   "mimetype": "text/x-python",
   "name": "python",
   "nbconvert_exporter": "python",
   "pygments_lexer": "ipython3",
   "version": "3.13.0"
  },
  "papermill": {
   "default_parameters": {},
   "duration": 171.734027,
   "end_time": "2024-04-16T23:40:39.596530",
   "environment_variables": {},
   "exception": null,
   "input_path": "/home/jiawen/cofi-examples/examples/sw_rf_joint/sw_rf_joint_synthetic.ipynb",
   "output_path": "/home/jiawen/cofi-examples/examples/sw_rf_joint/sw_rf_joint_synthetic.ipynb",
   "parameters": {},
   "start_time": "2024-04-16T23:37:47.862503",
   "version": "2.4.0"
  }
 },
 "nbformat": 4,
 "nbformat_minor": 5
}
