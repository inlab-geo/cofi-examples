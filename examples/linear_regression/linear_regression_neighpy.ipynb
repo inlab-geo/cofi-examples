{
 "cells": [
  {
   "cell_type": "markdown",
   "id": "be79b37f",
   "metadata": {
    "papermill": {
     "duration": 0.007485,
     "end_time": "2024-04-16T23:44:20.132598",
     "exception": false,
     "start_time": "2024-04-16T23:44:20.125113",
     "status": "completed"
    },
    "tags": []
   },
   "source": [
    "# Polynomial Linear Regression with the Neighbourhood Algorithm"
   ]
  },
  {
   "cell_type": "markdown",
   "id": "edc36e32",
   "metadata": {
    "papermill": {
     "duration": 0.040552,
     "end_time": "2024-04-16T23:44:20.196666",
     "exception": false,
     "start_time": "2024-04-16T23:44:20.156114",
     "status": "completed"
    },
    "tags": []
   },
   "source": [
    "[![Open In Colab](https://img.shields.io/badge/open%20in-Colab-b5e2fa?logo=googlecolab&style=flat-square&color=ffd670)](https://colab.research.google.com/github/inlab-geo/cofi-examples/blob/main/examples/linear_regression/linear_regression.ipynb)"
   ]
  },
  {
   "cell_type": "markdown",
   "id": "96fb82c1",
   "metadata": {
    "papermill": {
     "duration": 0.006594,
     "end_time": "2024-04-16T23:44:20.209630",
     "exception": false,
     "start_time": "2024-04-16T23:44:20.203036",
     "status": "completed"
    },
    "tags": []
   },
   "source": [
    "> If you are running this notebook locally, make sure you've followed [steps here](https://github.com/inlab-geo/cofi-examples#run-the-examples-with-cofi-locally)\n",
    "to set up the environment. (This [environment.yml](https://github.com/inlab-geo/cofi-examples/blob/main/envs/environment.yml) file\n",
    "specifies a list of packages required to run the notebooks)"
   ]
  },
  {
   "cell_type": "markdown",
   "id": "29a04d89",
   "metadata": {
    "papermill": {
     "duration": 0.00631,
     "end_time": "2024-04-16T23:44:20.252305",
     "exception": false,
     "start_time": "2024-04-16T23:44:20.245995",
     "status": "completed"
    },
    "tags": []
   },
   "source": [
    "## Table of contents\n",
    "\n",
    "1. [Introduction](#introduction)\n",
    "   1. [Neighbourhood Algorithm](#na)\n",
    "   2. [CoFI and the NA](#cofiandna)\n",
    "   3. [Problem](#problem)\n",
    "2. [Import Modules and Plot Functions](#import)\n",
    "3. [Define the problem](#problemsetup)\n",
    "4. [Straight Up NA](#neighpy)\n",
    "5. [Just the Direct Search](#directsearch)\n",
    "6. [Just the Appraisal](#appraisal)\n",
    "   1. [Using the Direct Search samples](#appraisal_ds)\n",
    "   2. [Using the samples from somewhere else](#appraisal_emcee)\n"
   ]
  },
  {
   "cell_type": "markdown",
   "id": "fee83571",
   "metadata": {},
   "source": [
    "---"
   ]
  },
  {
   "cell_type": "markdown",
   "id": "d3ca6dab",
   "metadata": {
    "papermill": {
     "duration": 0.006853,
     "end_time": "2024-04-16T23:44:20.301100",
     "exception": false,
     "start_time": "2024-04-16T23:44:20.294247",
     "status": "completed"
    },
    "tags": []
   },
   "source": [
    "## 1. Introduction <a name=\"introduction\"></a>\n",
    "\n",
    "### 1.1 Neighbourhood Algorithm <a name=\"na\"></a>\n",
    "\n",
    "The Neighbourhood Algorithm (NA) is described in two papers ([Sambridge, 1999a]() and [Sambridge, 1999b]()) and became popular for geophysical inverse problems.\n",
    "We give a breif summary of the NA here for intuition.\n",
    "\n",
    "It can be divided into two main phases:\n",
    "1. Direct Search Phase\n",
    "2. Appraisal Phase\n",
    "\n",
    "As decribed in the papers, these phases use geometrical structures called Voronoi cells to define neighbourhoods of parameter space within which the value of the objective function is constant.\n",
    "These neighbourhoods are then repeatedly sampled and refined to find the optimum position in the parameter space.\n",
    "\n",
    "#### Direct Search Phase\n",
    "\n",
    "This is a derivative-free optimisation aglorithm that results in an ensemble of points/samples/neighbourhoods distributed according to the objective function being solved.\n",
    "More dense regions of points correspond to the more optimum areas of the objective function.\n",
    "\n",
    "In brief, the phase algorithm progresses as follows:\n",
    "1. Create an initial ensemble (of size $n_i$) of points by uniformly sampling the parameter space\n",
    "2. Interate $n$ times:\n",
    "   1. Rank the ensemble according to the objective function\n",
    "   2. Select the best $n_r$ points in the ensemble to be resampled\n",
    "   3. Resample the neighbourhoods/Voronoi cells of best $n_r$ points to obtain $n_s$ new samples\n",
    "   4. Add the new samples to the ensemble\n",
    "\n",
    "In the original papers the resampling is performed using a Gibbs sampler, although in theory any sampling algorithm can be used within each neighbourhood - the trick is in computing the neighbourhoods.\n",
    "\n",
    "The result of this phase is a large ensemble of size $N = n_i + n \\times n_s$ and their associated objective values, effectivly a discretisation of the objective function.\n",
    "\n",
    "#### Appraisal Phase\n",
    "\n",
    "This phase is used to reffine an ensemble of points, and produce new samples that are distributed according to the posterior distribution function.\n",
    "Effectively, this is just a Bayesian sampling of a step-wise constant posterior.\n",
    "In theory any sampling approach can be used to create the ensemble to be refined, and any sampling approach can be used to do the refining.\n",
    "In the original papers the initial ensemble is created using the Direct Search Phase, and the refining is done with a Gibbs sampler.\n",
    "\n",
    "A key advantage of this phase is that it avoids computing the forward function for all the new samples.\n",
    "So if you have already partially sampled the parameter space but the forward function is too slow that your initial method will take too long to get a sufficient number of samples, you can use the appraisal phase of the NA.\n",
    "\n",
    "### 1.2 CoFI and the NA <a name=\"cofiandna\"></a>\n",
    "\n",
    "The implementation of the NA that `cofi` wraps is called [`neighpy`]().\n",
    "This implementation implements both phases of the NA as describled in the original papers.\n",
    "\n",
    "Because of the multi-phase nature of the NA, `cofi` gives you 3 options:\n",
    "1. Only run the Direct Search Phase\n",
    "2. Only run the Appraisal Phase, using samples obtained from any method\n",
    "3. Run both phases, using the Direct Seach Phase samples as the initial ensemble for the Appraisal Phase\n",
    "\n",
    "We will look at all of these options in this tutorial.\n",
    "\n",
    "\n",
    "### 1.3 Problem <a name=\"problem\"></a>\n",
    "\n",
    "This tutorial focusses on linear regression - that is, fitting curves to datasets.\n",
    "\n",
    "We will work with polynomial curves, $$y(x) = \\sum_{n=0}^N m_n x^n\\,.$$\n",
    "Here, $N$ is the 'order' of the polynomial: if N=1 we have a straight line, if N=2 it will be a quadratic, and so on. The $m_n$ are the 'model coefficients'.\n",
    "\n",
    "\n",
    "We have a set of noisy data values, Y, measured at known locations, X, and wish to find the best fit degree 3 polynomial.\n",
    "\n",
    "The function we are going to fit is: $y=-6-5x+2x^2+x^3$"
   ]
  },
  {
   "cell_type": "markdown",
   "id": "e91a823f",
   "metadata": {},
   "source": [
    "---"
   ]
  },
  {
   "cell_type": "markdown",
   "id": "8e85c27b",
   "metadata": {
    "papermill": {
     "duration": 0.007106,
     "end_time": "2024-04-16T23:44:20.320360",
     "exception": false,
     "start_time": "2024-04-16T23:44:20.313254",
     "status": "completed"
    },
    "tags": []
   },
   "source": [
    "## 2. Import Modules and Plot Functions<a name=\"import\"></a>"
   ]
  },
  {
   "cell_type": "code",
   "execution_count": 1,
   "id": "05ba9958",
   "metadata": {
    "papermill": {
     "duration": 0.010945,
     "end_time": "2024-04-16T23:44:20.337679",
     "exception": false,
     "start_time": "2024-04-16T23:44:20.326734",
     "status": "completed"
    },
    "tags": []
   },
   "outputs": [],
   "source": [
    "# -------------------------------------------------------- #\n",
    "#                                                          #\n",
    "#     Uncomment below to set up environment on \"colab\"     #\n",
    "#                                                          #\n",
    "# -------------------------------------------------------- #\n",
    "\n",
    "# !pip install -U cofi"
   ]
  },
  {
   "cell_type": "code",
   "execution_count": 2,
   "id": "3162b7a9",
   "metadata": {
    "papermill": {
     "duration": 0.902847,
     "end_time": "2024-04-16T23:44:21.247566",
     "exception": false,
     "start_time": "2024-04-16T23:44:20.344719",
     "status": "completed"
    },
    "tags": []
   },
   "outputs": [],
   "source": [
    "import numpy as np\n",
    "import matplotlib.pyplot as plt\n",
    "from scipy.spatial import Voronoi, voronoi_plot_2d\n",
    "from functools import partial\n",
    "from numbers import Number\n",
    "\n",
    "from cofi import BaseProblem, InversionOptions, Inversion\n",
    "\n",
    "np.random.seed(42)"
   ]
  },
  {
   "cell_type": "code",
   "execution_count": 3,
   "id": "2724f1b3",
   "metadata": {},
   "outputs": [],
   "source": [
    "############## PLOTTING ###############################################################\n",
    "def _add_extra(plot_fn, extra):\n",
    "    # plot_fn = ax.plot, ax.scatter ....\n",
    "    # extra = [x, y, kwargs]\n",
    "    try:\n",
    "        kwargs = extra[2]\n",
    "    except IndexError:\n",
    "        kwargs = {}\n",
    "    plot_fn(extra[0], extra[1], **kwargs)\n",
    "\n",
    "def plot_data_space(basis_func, _m_true, x, y_observed, sigma, samples=None, samples_label=\"\", extras=None):\n",
    "    # extras = [[model, kwargs], ...]\n",
    "    _x_plot = np.linspace(-3.5, 2.5)\n",
    "    _G_plot = basis_func(_x_plot)\n",
    "    fig, ax = plt.subplots(figsize=(12, 5))\n",
    "    if samples is not None:\n",
    "        ax.plot(\n",
    "            _x_plot,\n",
    "            np.apply_along_axis(lambda m: _G_plot @ m, 1, samples).T,\n",
    "            color=\"k\",\n",
    "            alpha=0.1,\n",
    "            label=samples_label,\n",
    "        )\n",
    "    if extras is not None:\n",
    "        for extra in extras:\n",
    "            _y_plot = _G_plot @ extra[0]\n",
    "            _add_extra(ax.plot, [_x_plot, _y_plot, extra[1]])  # [x, y, kwargs]\n",
    "\n",
    "    _y_plot = _G_plot @ _m_true\n",
    "    ax.plot(_x_plot, _y_plot, color=\"r\", label=\"True model\")\n",
    "    ax.errorbar(\n",
    "        x, y_observed, yerr=sigma, fmt=\".\", color=\"lightcoral\", label=\"observed data\"\n",
    "    )\n",
    "    ax.set_xlabel(\"X\")\n",
    "    ax.set_ylabel(\"Y\")\n",
    "    ax.set_ylim(-11, 10)\n",
    "    handles, labels = [x[-5:] for x in ax.get_legend_handles_labels()]\n",
    "    by_label = dict(zip(labels, handles))\n",
    "    ax.legend(by_label.values(), by_label.keys())\n",
    "\n",
    "def plot_direct_search_evolution(objectives, n_initial, n_total):\n",
    "    fig, ax = plt.subplots(figsize=(12, 5))\n",
    "    ax.plot(objectives, marker=\".\", linestyle=\"\", markersize=2, color=\"black\")\n",
    "    ax.set_yscale(\"log\")\n",
    "    ax.set_xlabel(\"Sample number\")\n",
    "    ax.set_ylabel(\"Objective value\")\n",
    "    ax.set_title(\"Evolution of the objective function during the direct search\")\n",
    "    ax.plot(\n",
    "        [0, n_initial],\n",
    "        [1e1, 1e1],\n",
    "        linestyle=\"--\",\n",
    "        color=\"gray\",\n",
    "        marker=\"|\",\n",
    "        markersize=10,\n",
    "    )\n",
    "    ax.plot(\n",
    "        [n_initial, n_total],\n",
    "        [1e1, 1e1],\n",
    "        linestyle=\"--\",\n",
    "        color=\"gray\",\n",
    "        marker=\"|\",\n",
    "        markersize=10,\n",
    "    )\n",
    "    ax.text(n_initial // 2, 1e1, \"Initial random search\", ha=\"center\", va=\"bottom\")\n",
    "    ax.text(\n",
    "        n_initial + (n_total - n_initial) // 2,\n",
    "        1e1,\n",
    "        \"Optimisation search\",\n",
    "        ha=\"center\",\n",
    "        va=\"bottom\",\n",
    "    )\n",
    "\n",
    "def plot_direct_search_marginals(_m_true, bounds, ds_voronoi, extras=[]):\n",
    "    # extras = [[model, kwargs], ...]\n",
    "    fig, axs = plt.subplots(\n",
    "        3, 3, figsize=(7, 7), tight_layout=True, gridspec_kw={\"hspace\": 0, \"wspace\": 0}\n",
    "    )\n",
    "    for i in range(1, 4):\n",
    "        for j in range(3):\n",
    "            if j < i:\n",
    "                vor = Voronoi(ds_voronoi[:, [i, j]])\n",
    "                voronoi_plot_2d(\n",
    "                    vor,\n",
    "                    ax=axs[i - 1, j],\n",
    "                    show_vertices=False,\n",
    "                    show_points=False,\n",
    "                    line_width=0.1,\n",
    "                )\n",
    "                axs[i - 1, j].scatter(\n",
    "                    _m_true[i],\n",
    "                    _m_true[j],\n",
    "                    c=\"r\",\n",
    "                    marker=\"x\",\n",
    "                    s=100,\n",
    "                    label=\"True model\",\n",
    "                    zorder=10,\n",
    "                )\n",
    "                for extra in extras:\n",
    "                    m, kwargs = extra\n",
    "                    _add_extra(axs[i - 1, j].scatter, [m[i], m[j], kwargs]) # [x, y, kwargs]\n",
    "                axs[i - 1, j].set_xlim(bounds[i])\n",
    "                axs[i - 1, j].set_ylim(bounds[j])\n",
    "                if j == 0:\n",
    "                    axs[i - 1, j].set_ylabel(f\"$m_{i}$\")\n",
    "                else:\n",
    "                    axs[i - 1, j].set_yticks([])\n",
    "                if i == 3:\n",
    "                    axs[i - 1, j].set_xlabel(f\"$m_{j}$\")\n",
    "                else:\n",
    "                    axs[i - 1, j].set_xticks([])\n",
    "            else:\n",
    "                axs[i - 1, j].set_visible(False)\n",
    "    handles, labels = axs[1, 0].get_legend_handles_labels()\n",
    "    by_label = dict(zip(labels, handles))\n",
    "    fig.legend(\n",
    "        by_label.values(), by_label.keys(), loc=\"lower left\", bbox_to_anchor=(0.4, 0.65)\n",
    "    )\n",
    "    fig.suptitle(\"Direct Search Phase Results\")\n",
    "\n",
    "def plot_appraisal_marginals(_m_true, bounds, appraised, extras=[]):\n",
    "    appraised_mean = appraised.mean(axis=0)\n",
    "    fig, axs = plt.subplots(\n",
    "        4, 4, figsize=(7, 7), tight_layout=True, gridspec_kw={\"hspace\": 0, \"wspace\": 0}\n",
    "    )\n",
    "    for i in range(4):\n",
    "        for j in range(4):\n",
    "            if j == i:\n",
    "                axs[i, j].hist(appraised[:, i], bins=20, histtype=\"step\", color=\"k\", label=\"Appraisal samples\")\n",
    "                axs[i, j].axvline(appraised_mean[i], color=\"b\", linestyle=\"--\", label=\"Appraisal mean\")\n",
    "                axs[i, j].axvline(_m_true[i], color=\"r\", linestyle=\"--\", label=\"True model\")\n",
    "                for extra in extras:\n",
    "                    m, _kwargs = extra\n",
    "                    kwargs = {\"linestyle\": \"--\"}\n",
    "                    if \"color\" in _kwargs.keys():\n",
    "                        kwargs = {**kwargs, \"color\":_kwargs[\"color\"]}\n",
    "                    axs[i, j].axvline(m[i], **kwargs)\n",
    "                axs[i, j].set_xlim(bounds[i])\n",
    "                axs[i, j].set_yticks([])\n",
    "            elif j < i:\n",
    "                axs[i, j].scatter(\n",
    "                    appraised[:, i],\n",
    "                    appraised[:, j],\n",
    "                    c=\"gray\",\n",
    "                    s=0.1,\n",
    "                    label=\"Appraisal samples\",\n",
    "                )\n",
    "                axs[i, j].scatter(\n",
    "                    appraised_mean[i],\n",
    "                    appraised_mean[j],\n",
    "                    c=\"b\",\n",
    "                    marker=\"x\",\n",
    "                    s=100,\n",
    "                    label=\"Appraisal mean\",\n",
    "                    zorder=10,\n",
    "                )\n",
    "                axs[i, j].scatter(\n",
    "                    _m_true[i],\n",
    "                    _m_true[j],\n",
    "                    c=\"r\",\n",
    "                    marker=\"x\",\n",
    "                    s=100,\n",
    "                    label=\"True model\",\n",
    "                    zorder=10,\n",
    "                )\n",
    "                for extra in extras:\n",
    "                    m, kwargs = extra\n",
    "                    _add_extra(axs[i, j].scatter, [m[i], m[j], kwargs]) # [x, y, kwargs]\n",
    "                axs[i, j].set_xlim(bounds[i])\n",
    "                axs[i, j].set_ylim(bounds[j])\n",
    "            else:\n",
    "                axs[i, j].set_visible(False)\n",
    "            if j == 0:\n",
    "                if i != 0:\n",
    "                    axs[i, j].set_ylabel(f\"$m_{i}$\")\n",
    "            else:\n",
    "                axs[i, j].set_yticks([])\n",
    "            if i == 3:\n",
    "                axs[i, j].set_xlabel(f\"$m_{j}$\")\n",
    "            else:\n",
    "                axs[i, j].set_xticks([])\n",
    "    handles, labels = axs[1, 0].get_legend_handles_labels()\n",
    "    by_label = dict(zip(labels, handles))\n",
    "    fig.legend(\n",
    "        by_label.values(), by_label.keys(), loc=\"lower left\", bbox_to_anchor=(0.535, 0.51)\n",
    "    )\n",
    "    fig.suptitle(\"Appraisal Phase Results\")\n"
   ]
  },
  {
   "cell_type": "markdown",
   "id": "739a8eb7",
   "metadata": {},
   "source": [
    "---"
   ]
  },
  {
   "cell_type": "markdown",
   "id": "864c8863",
   "metadata": {
    "papermill": {
     "duration": 0.007261,
     "end_time": "2024-04-16T23:44:21.262580",
     "exception": false,
     "start_time": "2024-04-16T23:44:21.255319",
     "status": "completed"
    },
    "tags": []
   },
   "source": [
    "## 3. Define the problem <a name=\"problemsetup\"></a>\n",
    "\n",
    "Here we compute $y(x)$ for multiple $x$-values simultaneously, so write the forward operator\n",
    "in the following form:\n",
    "\n",
    "$$ \\left(\\begin{array}{c}y_1\\\\y_2\\\\\\vdots\\\\y_N\\end{array}\\right) = \\left(\\begin{array}{ccc}1&x_1&x_1^2&x_1^3\\\\1&x_2&x_2^2&x_2^3\\\\\\vdots&\\vdots&\\vdots\\\\1&x_N&x_N^2&x_N^3\\end{array}\\right)\\left(\\begin{array}{c}m_0\\\\m_1\\\\m_2\\end{array}\\right)$$\n",
    "\n",
    "This clearly has the required general form, $\\mathbf{y=Gm}$, and so the best-fitting model can be identified using the least-squares algorithm.\n",
    "\n",
    "In the following code block, we'll define the forward function and generate some random\n",
    "data points as our dataset.\n",
    "\n",
    "$$\n",
    "\\begin{align}\n",
    "\\text{forward}(\\textbf{m}) &= \\textbf{G}\\textbf{m}\\\\\n",
    "&= \\text{basis\\_func}(\\textbf{x})\\cdot\\textbf{m}\n",
    "\\end{align}\n",
    "$$\n",
    "\n",
    "where:\n",
    "\n",
    "- $\\text{forward}$ is the forward function that takes in a model and produces synthetic data,\n",
    "- $\\textbf{m}$ is the model vector,\n",
    "- $\\textbf{G}$ is the basis matrix (i.e. design matrix) of this linear regression problem and looks like the following:\n",
    "$$\\left(\\begin{array}{ccc}1&x_1&x_1^2&x_1^3\\\\1&x_2&x_2^2&x_2^3\\\\\\vdots&\\vdots&\\vdots\\\\1&x_N&x_N^2&x_N^3\\end{array}\\right)$$\n",
    "- $\\text{basis\\_func}$ is the basis function that converts $\\textbf{x}$ into $\\textbf{G}$\n",
    "\n",
    "Recall that the function we are going to fit is: $y=-6-5x+2x^2+x^3$"
   ]
  },
  {
   "cell_type": "code",
   "execution_count": 4,
   "id": "d57453c5",
   "metadata": {
    "papermill": {
     "duration": 0.214354,
     "end_time": "2024-04-16T23:44:21.484059",
     "exception": false,
     "start_time": "2024-04-16T23:44:21.269705",
     "status": "completed"
    },
    "tags": []
   },
   "outputs": [],
   "source": [
    "# generate data with random Gaussian noise\n",
    "def basis_func(x):\n",
    "    return np.array([x**i for i in range(4)]).T  # x -> G\n",
    "\n",
    "\n",
    "_m_true = np.array([-6, -5, 2, 1])  # m\n",
    "sample_size = 20  # N\n",
    "x = np.random.choice(np.linspace(-3.5, 2.5), size=sample_size)  # x\n",
    "\n",
    "\n",
    "def forward_func(m):\n",
    "    return basis_func(x) @ m  # m -> y_synthetic\n",
    "\n",
    "sigma = 1\n",
    "Cd = np.eye(sample_size) * sigma**2  # Cd\n",
    "y_observed = forward_func(_m_true) + np.random.normal(0, sigma, sample_size)  # d\n"
   ]
  },
  {
   "cell_type": "code",
   "execution_count": 5,
   "id": "651d2916",
   "metadata": {},
   "outputs": [],
   "source": [
    "# quickly redefining some plot functions\n",
    "plot_data_space = partial(plot_data_space, basis_func=basis_func, _m_true=_m_true, x=x, y_observed=y_observed, sigma=sigma)"
   ]
  },
  {
   "cell_type": "code",
   "execution_count": 6,
   "id": "ceea57aa",
   "metadata": {},
   "outputs": [
    {
     "data": {
      "image/png": "[encoded data removed]",
      "text/plain": [
       "<Figure size 1200x500 with 1 Axes>"
      ]
     },
     "metadata": {},
     "output_type": "display_data"
    }
   ],
   "source": [
    "plot_data_space()"
   ]
  },
  {
   "cell_type": "markdown",
   "id": "06fb1ed3",
   "metadata": {},
   "source": [
    "We will use a simple weighted $\\ell_2$-norm misfit as our objective function\n",
    "\n",
    "$$ F(\\mathbf{m}) = (\\mathbf{d} - \\mathbf{Gm})^T\\mathbf{C_d}^{-1}(\\mathbf{d} - \\mathbf{Gm}) $$\n",
    "\n",
    "where $\\mathbf{d}$ is the observed data vector and $\\mathbf{C_d}$ is the data covariance matrix."
   ]
  },
  {
   "cell_type": "code",
   "execution_count": 7,
   "id": "58713862",
   "metadata": {},
   "outputs": [],
   "source": [
    "Cd_inv = np.linalg.inv(Cd)\n",
    "\n",
    "def objective(m: np.ndarray) -> Number:\n",
    "    y_predicted = forward_func(m)\n",
    "    return (y_observed - y_predicted).T @ Cd_inv @ (y_observed - y_predicted)"
   ]
  },
  {
   "cell_type": "code",
   "execution_count": 8,
   "id": "f69df368",
   "metadata": {},
   "outputs": [
    {
     "name": "stdout",
     "output_type": "stream",
     "text": [
      "=====================================================================\n",
      "Summary for inversion problem: Polynomial Regression\n",
      "=====================================================================\n",
      "Model shape: Unknown\n",
      "---------------------------------------------------------------------\n",
      "List of functions/properties set by you:\n",
      "['objective', 'data']\n",
      "---------------------------------------------------------------------\n",
      "List of functions/properties created based on what you have provided:\n",
      "-- none --\n",
      "---------------------------------------------------------------------\n",
      "List of functions/properties that can be further set for the problem:\n",
      "( not all of these may be relevant to your inversion workflow )\n",
      "['log_posterior', 'log_posterior_with_blobs', 'log_likelihood', 'log_prior', 'gradient', 'hessian', 'hessian_times_vector', 'residual', 'jacobian', 'jacobian_times_vector', 'data_misfit', 'regularization', 'regularization_matrix', 'forward', 'data_covariance', 'data_covariance_inv', 'initial_model', 'model_shape', 'blobs_dtype', 'bounds', 'constraints']\n"
     ]
    }
   ],
   "source": [
    "# define the problem in cofi\n",
    "inv_problem = BaseProblem()\n",
    "inv_problem.name = \"Polynomial Regression\"\n",
    "inv_problem.set_data(y_observed)\n",
    "inv_problem.set_objective(objective)\n",
    "\n",
    "inv_problem.summary()"
   ]
  },
  {
   "cell_type": "markdown",
   "id": "18364296",
   "metadata": {},
   "source": [
    "---"
   ]
  },
  {
   "cell_type": "markdown",
   "id": "24ca8d04",
   "metadata": {},
   "source": [
    "## 4. Straight Up NA <a name=\"neighpy\"></a>"
   ]
  },
  {
   "cell_type": "markdown",
   "id": "b769fc53",
   "metadata": {},
   "source": [
    "Here we'll just run both phases of the NA in one go.\n",
    "\n",
    "For this we use the `cofi` tool called `Neighpy`."
   ]
  },
  {
   "cell_type": "code",
   "execution_count": 9,
   "id": "be49599b",
   "metadata": {},
   "outputs": [],
   "source": [
    "bounds=[[-10, 10]] * 4  # some loose prior bounds on all the polynomial coefficients\n",
    "n_samples_per_iteration=100  # number of samples to draw per iteration\n",
    "n_cells_to_resample=20  # number of cells to resample - the larger this is the more the algorithm will explore\n",
    "n_initial_samples=5000  # number of initial samples to draw\n",
    "n_iterations=100  # number of iterations (direct search) to run\n",
    "n_resample=1000  # number of resamples to draw from appraisal\n",
    "n_walkers=5  # number of walkers for the appraisal\n",
    "\n",
    "inv_options = InversionOptions()\n",
    "inv_options.set_tool(\"neighpy\")\n",
    "inv_options.set_params(\n",
    "    bounds=bounds,\n",
    "    n_samples_per_iteration=n_samples_per_iteration,\n",
    "    n_cells_to_resample=n_cells_to_resample,\n",
    "    n_initial_samples=n_initial_samples,\n",
    "    n_iterations=n_iterations,\n",
    "    n_resample=n_resample,\n",
    "    n_walkers=n_walkers,\n",
    ")"
   ]
  },
  {
   "cell_type": "code",
   "execution_count": 10,
   "id": "9e2abfde",
   "metadata": {},
   "outputs": [],
   "source": [
    "# quickly redefining some plot functions\n",
    "plot_direct_search_marginals = partial(plot_direct_search_marginals, _m_true=_m_true, bounds=bounds)\n",
    "plot_appraisal_marginals = partial(plot_appraisal_marginals, _m_true=_m_true, bounds=bounds)"
   ]
  },
  {
   "cell_type": "code",
   "execution_count": 11,
   "id": "989a4c29",
   "metadata": {
    "papermill": {
     "duration": 0.01275,
     "end_time": "2024-04-16T23:44:21.744523",
     "exception": false,
     "start_time": "2024-04-16T23:44:21.731773",
     "status": "completed"
    },
    "tags": []
   },
   "outputs": [
    {
     "ename": "ValueError",
     "evalue": "you've chosen Neighpy to be your solving tool, but not enough information is provided in the InversionOptions object - required: {'direct_search_nr', 'direct_search_ni', 'bounds', 'appraisal_n_resample', 'appraisal_n_walkers', 'direct_search_n', 'direct_search_ns'}; provided: {'bounds': [[-10, 10], [-10, 10], [-10, 10], [-10, 10]], 'n_samples_per_iteration': 100, 'n_cells_to_resample': 20, 'n_initial_samples': 5000, 'n_iterations': 100, 'n_resample': 1000, 'n_walkers': 5}",
     "output_type": "error",
     "traceback": [
      "\u001b[31m---------------------------------------------------------------------------\u001b[39m",
      "\u001b[31mValueError\u001b[39m                                Traceback (most recent call last)",
      "\u001b[36mCell\u001b[39m\u001b[36m \u001b[39m\u001b[32mIn[11]\u001b[39m\u001b[32m, line 1\u001b[39m\n\u001b[32m----> \u001b[39m\u001b[32m1\u001b[39m inv = \u001b[43mInversion\u001b[49m\u001b[43m(\u001b[49m\u001b[43minv_problem\u001b[49m\u001b[43m,\u001b[49m\u001b[43m \u001b[49m\u001b[43minv_options\u001b[49m\u001b[43m)\u001b[49m\n\u001b[32m      2\u001b[39m inv_result = inv.run()\n\u001b[32m      3\u001b[39m inv_result.summary()\n",
      "\u001b[36mFile \u001b[39m\u001b[32m~/cofi/lib/python3.13/site-packages/cofi/_inversion.py:196\u001b[39m, in \u001b[36mInversion.__init__\u001b[39m\u001b[34m(self, inv_problem, inv_options)\u001b[39m\n\u001b[32m    194\u001b[39m \u001b[38;5;28mself\u001b[39m.inv_options = inv_options\n\u001b[32m    195\u001b[39m \u001b[38;5;66;03m# dispatch inversion_solver from self.inv_options, validation is done by solver\u001b[39;00m\n\u001b[32m--> \u001b[39m\u001b[32m196\u001b[39m \u001b[38;5;28mself\u001b[39m.inv_solve = \u001b[38;5;28;43mself\u001b[39;49m\u001b[43m.\u001b[49m\u001b[43m_dispatch_solver\u001b[49m\u001b[43m(\u001b[49m\u001b[43m)\u001b[49m\u001b[43m(\u001b[49m\u001b[43minv_problem\u001b[49m\u001b[43m,\u001b[49m\u001b[43m \u001b[49m\u001b[43minv_options\u001b[49m\u001b[43m)\u001b[49m\n\u001b[32m    197\u001b[39m \u001b[38;5;28mself\u001b[39m.inv_result = \u001b[38;5;28;01mNone\u001b[39;00m\n",
      "\u001b[36mFile \u001b[39m\u001b[32m~/cofi/lib/python3.13/site-packages/cofi/tools/_neighpy.py:44\u001b[39m, in \u001b[36mNeighpy.__init__\u001b[39m\u001b[34m(self, inv_problem, inv_options)\u001b[39m\n\u001b[32m     43\u001b[39m \u001b[38;5;28;01mdef\u001b[39;00m\u001b[38;5;250m \u001b[39m\u001b[34m__init__\u001b[39m(\u001b[38;5;28mself\u001b[39m, inv_problem, inv_options):\n\u001b[32m---> \u001b[39m\u001b[32m44\u001b[39m     \u001b[38;5;28;43msuper\u001b[39;49m\u001b[43m(\u001b[49m\u001b[43m)\u001b[49m\u001b[43m.\u001b[49m\u001b[34;43m__init__\u001b[39;49m\u001b[43m(\u001b[49m\u001b[43minv_problem\u001b[49m\u001b[43m,\u001b[49m\u001b[43m \u001b[49m\u001b[43minv_options\u001b[49m\u001b[43m)\u001b[49m\n\u001b[32m     45\u001b[39m     \u001b[38;5;28mself\u001b[39m._params[\u001b[33m\"\u001b[39m\u001b[33mndim\u001b[39m\u001b[33m\"\u001b[39m] = \u001b[38;5;28mlen\u001b[39m(\u001b[38;5;28mself\u001b[39m._params[\u001b[33m\"\u001b[39m\u001b[33mbounds\u001b[39m\u001b[33m\"\u001b[39m])\n\u001b[32m     46\u001b[39m     \u001b[38;5;28mself\u001b[39m._components_used = \u001b[38;5;28mlist\u001b[39m(\u001b[38;5;28mself\u001b[39m.required_in_problem())\n",
      "\u001b[36mFile \u001b[39m\u001b[32m~/cofi/lib/python3.13/site-packages/cofi/tools/_base_inference_tool.py:152\u001b[39m, in \u001b[36mBaseInferenceTool.__init__\u001b[39m\u001b[34m(self, inv_problem, inv_options)\u001b[39m\n\u001b[32m    150\u001b[39m \u001b[38;5;28mself\u001b[39m._inv_options = inv_options\n\u001b[32m    151\u001b[39m \u001b[38;5;28mself\u001b[39m._validate_inv_problem()\n\u001b[32m--> \u001b[39m\u001b[32m152\u001b[39m \u001b[38;5;28;43mself\u001b[39;49m\u001b[43m.\u001b[49m\u001b[43m_validate_inv_options\u001b[49m\u001b[43m(\u001b[49m\u001b[43m)\u001b[49m\n\u001b[32m    153\u001b[39m \u001b[38;5;28mself\u001b[39m._assign_options()  \u001b[38;5;66;03m# assigns options to self._params\u001b[39;00m\n\u001b[32m    154\u001b[39m \u001b[38;5;28mself\u001b[39m._update_components_used()\n",
      "\u001b[36mFile \u001b[39m\u001b[32m~/cofi/lib/python3.13/site-packages/cofi/tools/_base_inference_tool.py:278\u001b[39m, in \u001b[36mBaseInferenceTool._validate_inv_options\u001b[39m\u001b[34m(self)\u001b[39m\n\u001b[32m    273\u001b[39m         warnings.warn(\n\u001b[32m    274\u001b[39m             \u001b[33m\"\u001b[39m\u001b[33mthe following options are defined but not in parameter list for \u001b[39m\u001b[33m\"\u001b[39m\n\u001b[32m    275\u001b[39m             \u001b[33mf\u001b[39m\u001b[33m\"\u001b[39m\u001b[33mthe chosen tool: \u001b[39m\u001b[38;5;132;01m{\u001b[39;00mitems\u001b[38;5;132;01m}\u001b[39;00m\u001b[33m\"\u001b[39m\n\u001b[32m    276\u001b[39m         )\n\u001b[32m    277\u001b[39m     \u001b[38;5;28;01mreturn\u001b[39;00m \u001b[38;5;28;01mTrue\u001b[39;00m\n\u001b[32m--> \u001b[39m\u001b[32m278\u001b[39m \u001b[38;5;28;01mraise\u001b[39;00m \u001b[38;5;167;01mValueError\u001b[39;00m(\n\u001b[32m    279\u001b[39m     \u001b[33mf\u001b[39m\u001b[33m\"\u001b[39m\u001b[33myou\u001b[39m\u001b[33m'\u001b[39m\u001b[33mve chosen \u001b[39m\u001b[38;5;132;01m{\u001b[39;00m\u001b[38;5;28mself\u001b[39m.\u001b[34m__class__\u001b[39m.\u001b[34m__name__\u001b[39m\u001b[38;5;132;01m}\u001b[39;00m\u001b[33m to be your solving tool, but \u001b[39m\u001b[33m\"\u001b[39m\n\u001b[32m    280\u001b[39m     \u001b[33m\"\u001b[39m\u001b[33mnot enough information is provided in the InversionOptions object - \u001b[39m\u001b[33m\"\u001b[39m\n\u001b[32m    281\u001b[39m     \u001b[33mf\u001b[39m\u001b[33m\"\u001b[39m\u001b[33mrequired: \u001b[39m\u001b[38;5;132;01m{\u001b[39;00mrequired\u001b[38;5;132;01m}\u001b[39;00m\u001b[33m; provided: \u001b[39m\u001b[38;5;132;01m{\u001b[39;00mdefined\u001b[38;5;132;01m}\u001b[39;00m\u001b[33m\"\u001b[39m\n\u001b[32m    282\u001b[39m )\n",
      "\u001b[31mValueError\u001b[39m: you've chosen Neighpy to be your solving tool, but not enough information is provided in the InversionOptions object - required: {'direct_search_nr', 'direct_search_ni', 'bounds', 'appraisal_n_resample', 'appraisal_n_walkers', 'direct_search_n', 'direct_search_ns'}; provided: {'bounds': [[-10, 10], [-10, 10], [-10, 10], [-10, 10]], 'n_samples_per_iteration': 100, 'n_cells_to_resample': 20, 'n_initial_samples': 5000, 'n_iterations': 100, 'n_resample': 1000, 'n_walkers': 5}"
     ]
    }
   ],
   "source": [
    "inv = Inversion(inv_problem, inv_options)\n",
    "inv_result = inv.run()\n",
    "inv_result.summary()"
   ]
  },
  {
   "cell_type": "markdown",
   "id": "799f8d10",
   "metadata": {},
   "source": [
    "The `InversionResult` object from an `Inversion` with the `Neighpy` tool contains the following results\n",
    "- `model` - the best fitting model from the direct search phase\n",
    "- `direct_search_samples`\n",
    "- `direct_search objectives`\n",
    "- `appraisal_samples`"
   ]
  },
  {
   "cell_type": "code",
   "execution_count": null,
   "id": "71b768ee",
   "metadata": {},
   "outputs": [],
   "source": [
    "best = inv_result.model\n",
    "ds_voronoi = inv_result.direct_search_samples\n",
    "ds_objs = inv_result.direct_search_objectives\n",
    "appraised = inv_result.appraisal_samples\n",
    "appraised_mean = inv_result.appraisal_samples.mean(axis=0)"
   ]
  },
  {
   "cell_type": "markdown",
   "id": "6c49e572",
   "metadata": {},
   "source": [
    "We can see how the objective function is optimised during the direct search phase by looking at the evolution of the objective value as the iterations progress"
   ]
  },
  {
   "cell_type": "code",
   "execution_count": null,
   "id": "fb8b7ce4",
   "metadata": {},
   "outputs": [],
   "source": [
    "plot_direct_search_evolution(\n",
    "    ds_objs,\n",
    "    n_initial_samples,\n",
    "    n_initial_samples + n_iterations * n_samples_per_iteration,\n",
    ")"
   ]
  },
  {
   "cell_type": "markdown",
   "id": "d95974e9",
   "metadata": {},
   "source": [
    "To plot the results we can look at the 2D projections of the parameter space, as well as the data space predictions"
   ]
  },
  {
   "cell_type": "code",
   "execution_count": null,
   "id": "1a322537",
   "metadata": {
    "papermill": {
     "duration": 0.01225,
     "end_time": "2024-04-16T23:44:21.831785",
     "exception": false,
     "start_time": "2024-04-16T23:44:21.819535",
     "status": "completed"
    },
    "tags": []
   },
   "outputs": [],
   "source": [
    "plot_direct_search_marginals(ds_voronoi=ds_voronoi, extras=[[best, {\"label\":\"Best Model\", \"color\":\"g\", \"marker\":\"x\", \"s\": 100}]])"
   ]
  },
  {
   "cell_type": "code",
   "execution_count": null,
   "id": "8b15ba6e",
   "metadata": {},
   "outputs": [],
   "source": [
    "plot_appraisal_marginals(appraised=appraised, extras=[[best, {\"label\":\"Best Model\", \"color\":\"g\", \"marker\":\"x\", \"s\": 100}]])"
   ]
  },
  {
   "cell_type": "code",
   "execution_count": null,
   "id": "9ae6ebad",
   "metadata": {},
   "outputs": [],
   "source": [
    "plot_data_space(\n",
    "    samples=appraised,\n",
    "    samples_label=\"Appraisal samples\",\n",
    "    extras=[\n",
    "        [best, {\"label\": \"Best model\", \"color\": \"g\"}],\n",
    "        [appraised_mean, {\"label\": \"Appraisal mean\", \"color\": \"b\"}],\n",
    "    ],\n",
    ")"
   ]
  },
  {
   "cell_type": "markdown",
   "id": "78fd1a13",
   "metadata": {},
   "source": [
    "---"
   ]
  },
  {
   "cell_type": "markdown",
   "id": "c5b2d65c",
   "metadata": {},
   "source": [
    "## 5. Just the Direct Search <a name=directsearch></a>"
   ]
  },
  {
   "cell_type": "markdown",
   "id": "a4390bc0",
   "metadata": {},
   "source": [
    "If you just want to optimise the objective function and find a point estimate, you can just run the direct search phase.\n",
    "\n",
    "In `cofi` this is implemented in the `NeighpyI` tool.  The results here should be very similar to the direct search results of `Neighpy` above."
   ]
  },
  {
   "cell_type": "code",
   "execution_count": null,
   "id": "8379ed18",
   "metadata": {},
   "outputs": [],
   "source": [
    "bounds=[[-10, 10]] * 4  # some loose prior bounds on all the polynomial coefficients\n",
    "n_samples_per_iteration=100  # number of samples to draw per iteration\n",
    "n_cells_to_resample=20  # number of cells to resample - the larger this is the more the algorithm will explore\n",
    "n_initial_samples=5000  # number of initial samples to draw\n",
    "n_iterations=100  # number of iterations (direct search) to run\n",
    "\n",
    "inv_options = InversionOptions()\n",
    "inv_options.set_tool(\"neighpyI\")\n",
    "inv_options.set_params(\n",
    "    bounds=bounds,\n",
    "    n_samples_per_iteration=n_samples_per_iteration,\n",
    "    n_cells_to_resample=n_cells_to_resample,\n",
    "    n_initial_samples=n_initial_samples,\n",
    "    n_iterations=n_iterations,\n",
    "    serial=False\n",
    ")\n",
    "\n",
    "inv = Inversion(inv_problem, inv_options)\n",
    "inv_result = inv.run()\n",
    "inv_result.summary()\n",
    "best = inv_result.model\n",
    "ds_voronoi = inv_result.samples\n",
    "ds_objs = inv_result.objectives"
   ]
  },
  {
   "cell_type": "code",
   "execution_count": null,
   "id": "f26adc47",
   "metadata": {},
   "outputs": [],
   "source": [
    "plot_direct_search_marginals(ds_voronoi=ds_voronoi, extras=[[best, {\"label\":\"Best Model\", \"color\":\"g\", \"marker\":\"x\", \"s\": 100}]])"
   ]
  },
  {
   "cell_type": "markdown",
   "id": "f2030873",
   "metadata": {},
   "source": [
    "---"
   ]
  },
  {
   "cell_type": "markdown",
   "id": "06e8f143",
   "metadata": {},
   "source": [
    "## 6. Just the Appraisal <a name=\"appraisal\"></a>"
   ]
  },
  {
   "cell_type": "markdown",
   "id": "fdf733f1",
   "metadata": {},
   "source": [
    "The appraisal phase is implemented in the `cofi` tool `NeighpyII` and takes a set of samples and their corresponding log posterior.\n"
   ]
  },
  {
   "cell_type": "markdown",
   "id": "c9a1cf26",
   "metadata": {},
   "source": [
    "### 6.1 Using the Direct Search samples <a name=\"appraisal_ds\"></a>\n",
    "\n",
    "There's a little subtlety here in that the Direct Search _minimises_ an objective function, but the appraisal _maximises_ a posterior.\n",
    "The objective function we're using here corresponds to the _negative log-likelihood_ of a Gaussian distribution, so when we pass the outputs of the direct seach phase we need to multiply by -1.\n",
    "The `Neiphy` tool we used earlier does this under the hood."
   ]
  },
  {
   "cell_type": "code",
   "execution_count": null,
   "id": "d445cba7",
   "metadata": {},
   "outputs": [],
   "source": [
    "inv_options = InversionOptions()\n",
    "inv_options.set_tool(\"neighpyII\")\n",
    "inv_options.set_params(\n",
    "    bounds=bounds,\n",
    "    initial_ensemble=ds_voronoi,  # ensemble from the direct search\n",
    "    log_ppd=-ds_objs,  # negative of the objective function for the direct search ensemble\n",
    "    n_resample=n_resample,\n",
    "    n_walkers=n_walkers,\n",
    ")\n",
    "\n",
    "inv = Inversion(inv_problem, inv_options)\n",
    "inv_result = inv.run()\n",
    "inv_result.summary()\n",
    "appraised = inv_result.new_samples\n",
    "appraised_mean = inv_result.new_samples.mean(axis=0)"
   ]
  },
  {
   "cell_type": "code",
   "execution_count": null,
   "id": "5c5851c1",
   "metadata": {},
   "outputs": [],
   "source": [
    "plot_appraisal_marginals(appraised=appraised, extras=[[best, {\"label\":\"Best Model\", \"color\":\"g\", \"marker\":\"x\", \"s\": 100}]])"
   ]
  },
  {
   "cell_type": "code",
   "execution_count": null,
   "id": "bb986af1",
   "metadata": {},
   "outputs": [],
   "source": [
    "plot_data_space(\n",
    "    samples=appraised,\n",
    "    samples_label=\"Appraisal samples\",\n",
    "    extras=[\n",
    "        [best, {\"label\": \"Best model\", \"color\": \"g\"}],\n",
    "        [appraised_mean, {\"label\": \"Appraisal mean\", \"color\": \"b\"}],\n",
    "    ],\n",
    ")"
   ]
  },
  {
   "cell_type": "markdown",
   "id": "4fe42066",
   "metadata": {},
   "source": [
    "### 6.2 Using samples from somewhere else <a name=\"appraisal_emcee\"></a>\n",
    "\n",
    "Nothing forces use to use NA Direct Search Phase samples to feed the Appraisal Phase!\n",
    "\n",
    "Here we use a small set of samples from the `emcee` sampler as our initial appraisal ensemble.\n",
    "We'll just pretend that we have a slow forward model and using `emcee` on its own will take too long.\n",
    "(We'll use `cofi` to get the `emcee` samples!)"
   ]
  },
  {
   "cell_type": "code",
   "execution_count": null,
   "id": "391b7141",
   "metadata": {},
   "outputs": [],
   "source": [
    "# Get initial ensemble from emcee\n",
    "\n",
    "def log_likelihood(m):\n",
    "    return -0.5 * objective(m)\n",
    "\n",
    "\n",
    "def log_prior(m):\n",
    "    for _m, (l, u) in zip(m, bounds):\n",
    "        if _m < l or _m > u:\n",
    "            return -np.inf  # model lies outside bounds -> return log(0)\n",
    "    return 0.0  # model lies within bounds -> return log(1)\n",
    "\n",
    "nwalkers = 8\n",
    "ndim = 4\n",
    "nsteps = 10000\n",
    "walkers_start = np.array([0.,0.,0.,0.]) + np.random.randn(nwalkers, ndim)\n",
    "\n",
    "inv_problem.set_log_prior(log_prior)\n",
    "inv_problem.set_log_likelihood(log_likelihood)\n",
    "inv_problem.set_model_shape(ndim)\n",
    "\n",
    "inv_options = InversionOptions()\n",
    "inv_options.set_tool(\"emcee\")\n",
    "inv_options.set_params(nwalkers=nwalkers, nsteps=nsteps, initial_state=walkers_start)\n",
    "\n",
    "inv = Inversion(inv_problem, inv_options)\n",
    "inv_result = inv.run()\n",
    "\n",
    "emcee_samples = inv_result.sampler.get_chain(flat=True)\n",
    "emcee_logppd = inv_result.sampler.get_log_prob(flat=True)"
   ]
  },
  {
   "cell_type": "code",
   "execution_count": null,
   "id": "ed5a6848",
   "metadata": {},
   "outputs": [],
   "source": [
    "# Appraise the emcee ensemble\n",
    "\n",
    "inv_options = InversionOptions()\n",
    "inv_options.set_tool(\"neighpyII\")\n",
    "inv_options.set_params(\n",
    "    bounds=bounds,\n",
    "    initial_ensemble=emcee_samples,\n",
    "    log_ppd=emcee_logppd,\n",
    "    n_resample=n_resample,\n",
    "    n_walkers=n_walkers,\n",
    ")\n",
    "\n",
    "inv = Inversion(inv_problem, inv_options)\n",
    "inv_result = inv.run()\n",
    "inv_result.summary()\n",
    "appraised = inv_result.new_samples\n",
    "appraised_mean = inv_result.new_samples.mean(axis=0)"
   ]
  },
  {
   "cell_type": "code",
   "execution_count": null,
   "id": "94adf876",
   "metadata": {},
   "outputs": [],
   "source": [
    "plot_appraisal_marginals(appraised=appraised, extras=[])"
   ]
  },
  {
   "cell_type": "code",
   "execution_count": null,
   "id": "d417511a",
   "metadata": {},
   "outputs": [],
   "source": [
    "plot_data_space(\n",
    "    samples=appraised,\n",
    "    samples_label=\"Appraisal samples\",\n",
    "    extras=[\n",
    "        [appraised_mean, {\"label\": \"Appraisal mean\", \"color\": \"b\"}],\n",
    "    ],\n",
    ")"
   ]
  },
  {
   "cell_type": "markdown",
   "id": "32c1800f",
   "metadata": {},
   "source": [
    "---"
   ]
  },
  {
   "cell_type": "markdown",
   "id": "7aa70db6",
   "metadata": {
    "papermill": {
     "duration": 0.025753,
     "end_time": "2024-04-16T23:44:32.006063",
     "exception": false,
     "start_time": "2024-04-16T23:44:31.980310",
     "status": "completed"
    },
    "tags": []
   },
   "source": [
    "## Watermark"
   ]
  },
  {
   "cell_type": "code",
   "execution_count": null,
   "id": "8e4d2061",
   "metadata": {
    "papermill": {
     "duration": 0.02123,
     "end_time": "2024-04-16T23:44:32.074090",
     "exception": false,
     "start_time": "2024-04-16T23:44:32.052860",
     "status": "completed"
    },
    "tags": []
   },
   "outputs": [],
   "source": [
    "watermark_list = [\"cofi\", \"numpy\", \"scipy\", \"matplotlib\", \"emcee\", \"arviz\"]\n",
    "for pkg in watermark_list:\n",
    "    pkg_var = __import__(pkg)\n",
    "    print(pkg, getattr(pkg_var, \"__version__\"))"
   ]
  }
 ],
 "metadata": {
  "kernelspec": {
   "display_name": "Python 3 (ipykernel)",
   "language": "python",
   "name": "python3"
  },
  "language_info": {
   "codemirror_mode": {
    "name": "ipython",
    "version": 3
   },
   "file_extension": ".py",
   "mimetype": "text/x-python",
   "name": "python",
   "nbconvert_exporter": "python",
   "pygments_lexer": "ipython3",
   "version": "3.13.1"
  },
  "papermill": {
   "default_parameters": {},
   "duration": 13.298239,
   "end_time": "2024-04-16T23:44:32.619331",
   "environment_variables": {},
   "exception": null,
   "input_path": "/home/jiawen/cofi-examples/examples/linear_regression/linear_regression.ipynb",
   "output_path": "/home/jiawen/cofi-examples/examples/linear_regression/linear_regression.ipynb",
   "parameters": {},
   "start_time": "2024-04-16T23:44:19.321092",
   "version": "2.3.4"
  },
  "vscode": {
   "interpreter": {
    "hash": "f53af8d4cb0cee79f8d6d6212f461365278bf68c0ce0b4237b6e88ef77d505ea"
   }
  }
 },
 "nbformat": 4,
 "nbformat_minor": 5
}
