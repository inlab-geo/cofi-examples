{
 "cells": [
  {
   "attachments": {},
   "cell_type": "markdown",
   "metadata": {
    "editable": true,
    "slideshow": {
     "slide_type": ""
    },
    "tags": []
   },
   "source": [
    "# Thin plate inversion"
   ]
  },
  {
   "cell_type": "markdown",
   "metadata": {},
   "source": [
    "[![Open In Colab](https://img.shields.io/badge/open%20in-Colab-b5e2fa?logo=googlecolab&style=flat-square&color=ffd670)](https://colab.research.google.com/github/inlab-geo/cofi-examples/blob/main/tutorials/thin_plate_inversion/thin_plate_inversion.ipynb)"
   ]
  },
  {
   "cell_type": "markdown",
   "metadata": {},
   "source": [
    "---\n",
    "\n",
    "## What we do in this notebook\n",
    "\n",
    "When modelling the airborne electromagnetic response of subvertical bodies such as a volcanogenic massive sulfide deposit they can be approximated using a thin plate in the halfspace of a layered earth, that is the 3D response of a thin plate is being considered. Here we use CoFI to infer such a thin plate target in the basement of a layered earth given airborne electromagnetic data. This tutorial provides a guided tour of a subset of the material in [`cofi-examples/examples/vtem_max`](https://github.com/inlab-geo/cofi-examples/tree/main/examples/vtem_max)\n",
    "\n",
    "---"
   ]
  },
  {
   "cell_type": "markdown",
   "metadata": {},
   "source": [
    "## Learning outcomes \n",
    "\n",
    "- An understaning of the pitfalls around using a numerical gradient\n",
    "- An exposé of CoFI's ability to combine a forward solver and a range of inference methods\n",
    "- An appreciation of the fact that CoFI only requires limited information about the forward problem\n"
   ]
  },
  {
   "cell_type": "code",
   "execution_count": null,
   "metadata": {},
   "outputs": [],
   "source": [
    "# Environment setup (uncomment code below)\n",
    "# !pip install -U cofi\n",
    "# !pip install git+https://github.com/JuergHauser/PyP223.git\n",
    "# !pip install smt"
   ]
  },
  {
   "cell_type": "code",
   "execution_count": null,
   "metadata": {
    "editable": true,
    "slideshow": {
     "slide_type": ""
    },
    "tags": []
   },
   "outputs": [],
   "source": [
    "# !git clone https://github.com/inlab-geo/cofi-examples.git\n",
    "# %cd cofi-examples/tutorials/thin_plate_inversion"
   ]
  },
  {
   "attachments": {},
   "cell_type": "markdown",
   "metadata": {},
   "source": [
    "## Problem description\n",
    "\n",
    "Given airborne electromagentic data a common goal in mineral exploration is to detect and delineate an econcomic target, and if this target is in the form of a subvertical body in the basement, its electromagnetic response can be approximated using at conductive thin plate located in the halfspace of a layered earth (e.g. Prikhodko et al. 2019). \n",
    "\n",
    "In this tutorial we look at the inference of such a thin plate with a conductance of $2 \\mathrm{S}$ located in a halfspace with a resistivity of $1000 \\mathrm{\\Omega m}$ with a $20 \\mathrm{m}$ thick covering layer that has a resistivity of $300 \\mathrm{\\Omega m}$. Specfically we develop a thin plate inversion method using CoFI to solve the inverse problem and P223 (Raiche et. al., 2007) to solve the forward problem. \n",
    "\n",
    "<img src=\"https://github.com/inlab-geo/cofi-examples/blob/main/data/pyp223/wpar8wl.png?raw=true\" width=50%> \n",
    "\n",
    "\n",
    "### Forward solver\n",
    "\n",
    "The forward solver is LeroiAir (Raiche et. al, 2007) and the code has been reorganised so that the response measured by an AEM system here VTEMmax is given by a function that can be called from Python. In LeroiAir plates are discretised into cells, with the accuracy of the forward solver being a function of the chosen cell-size. The forward solver is available in a seperate Python package that is available [here](https://github.com/JuergHauser/PyP223.git)\n",
    "\n",
    "Successful inversion frequently relies on the objective function being smooth and predictable. For the data being inverted here it is advantageous to convert measurements to scale logarithmically to obtain a smoother and more predictable objective function when compared with using the unscaled data. Similarly plate orientation angles are converted into radians. \n",
    "\n",
    "#### Jacobian via finite differencing\n",
    "\n",
    "Parameter estimation methods often rely on the provision of a Jacobian for efficient optimisation. If an analytical Jacobian is not available it can be computed via finite differencing.\n",
    "\n",
    "$\n",
    "f'(x_0) = {f(x_0 +h)-f(x_0)\\over h}\n",
    "$\n",
    "\n",
    "Care must though be taken when choosing the step size $h$, as a too small step size may result in a Jacobian that is affected by a limited accuracy of a forward solver and a too large step size $h$ might result in a Jacobian that is not representative of the derivatives at location $x_0$. Further to this the gradient of the objective function itself is affected by the noise on the data, thus for noisy data choosing a larger step size when computing the Jacobian can be advisable. \n",
    "\n",
    "In the following we will be using a relative step size $q$ with $h$ defined as $h=x0*(1.0+q)$. \n",
    "\n",
    "#### VTEMmax AEM system\n",
    "\n",
    "Airborne electromagnetic systems can be categorised into either helicopter or fixed wing systems. This tutorial is using a VTEMmax system, a helicopter based system developed and operated by Geotech.\n",
    "\n",
    "https://geotech.ca/services/electromagnetic/vtem-versatile-time-domain-electromagnetic-system/\n",
    "\n",
    "\n",
    "### Plate parametrisation\n",
    "\n",
    "The thin plate is parameterised using the parametrisation introduced in (Hauser et. al. 2016). Compared to the commonly employed parametrisation with a plate reference point on the edge of the plate this parametrisation allows for a thin plate to grow and shrink around a plate refrerence point, without the need to move the reference point. This can be advantageous  when there is for example a borehole intersecting a thin plate and we seek to determine the extent of the thin plate.\n",
    "\n",
    "<img src=\"https://github.com/inlab-geo/cofi-examples/blob/main/data/pyp223/wpar7wl.png?raw=true\" width=80%> \n",
    "\n",
    "\n",
    "### Implementation details\n",
    "\n",
    "The problem setup is imported from `forward_lib.py` but can be adjusted for other applications. The wrapper is created so that we can declare model parameters which are a subset of all the model parameters required by the forward problem. This allows to, for example, invert only for dip of the thin plate with all the other mode paremters assumed to be known. \n",
    "\n",
    "\n",
    "\n",
    "### Further reading\n",
    "\n",
    "Hauser, J., Gunning, J., & Annetts, D. (2016). Probabilistic inversion of airborne electromagnetic data for basement conductors. Geophysics, 81(5), E389-E400.\n",
    "\n",
    "Prikhodko, A., Morrison, E., Bagrianski, A., Kuzmin, P., Tishin, P., & Legault, J. (2010). Evolution of VTEM? technical solutions for effective exploration. ASEG Extended Abstracts, 2010(1), 1-4.\n",
    "\n",
    "Raiche, A., Sugeng, F. and Wilson, G. (2007) Practical 3D EM inversion the P223F software suite, ASEG Extended Abstracts, 2007:1, 1-5\n",
    "\n",
    "Wheelock, B., Constable, S., & Key, K. (2015). The advantages of logarithmically scaled data for electromagnetic inversion. Geophysical Journal International, 201(3), 1765–1780. https://doi.org/10.1093/GJI/GGV107\n"
   ]
  },
  {
   "cell_type": "code",
   "execution_count": null,
   "metadata": {},
   "outputs": [],
   "source": [
    "# import libraries needed for this example\n",
    "\n",
    "import pickle\n",
    "import functools\n",
    "import numpy\n",
    "import matplotlib.pyplot as plt\n",
    "from matplotlib.lines import Line2D\n",
    "import arviz\n",
    "import cofi\n",
    "import bayesbay\n",
    "import smt\n",
    "import smt.surrogate_models\n",
    "import tqdm\n",
    "from vtem_max_forward_lib import (\n",
    "    problem_setup, \n",
    "    system_spec,\n",
    "    survey_setup, \n",
    "    true_model, \n",
    "    ForwardWrapper, \n",
    "    plot_transient,\n",
    "    plot_predicted_profile,\n",
    "    plot_plate_faces, \n",
    "    plot_plate_faces_single\n",
    ")\n",
    "\n",
    "numpy.random.seed(42)"
   ]
  },
  {
   "cell_type": "markdown",
   "metadata": {},
   "source": [
    "### Problem definition\n",
    "For convenience we split the problem defintion into three objects that are intialised  with defaults for our synthetic example introduced in the problme description section. \n",
    "\n",
    "- System specification - `system_spec` - contains information about the AEM system such as the transmitter waveform as well as start and end times of gates.\n",
    "- Survey setup - `survey_setup` - contains information about the survey for example the transimtter and receiver locations.\n",
    "- Problem setup  - `problem_setup` - The problem setup cotains the model and exposes the declared moel parameters to CoFI.\n"
   ]
  },
  {
   "cell_type": "code",
   "execution_count": null,
   "metadata": {},
   "outputs": [],
   "source": [
    "survey_setup = {\n",
    "    \"tx\": numpy.array([205.]),                  # transmitter easting/x-position\n",
    "    \"ty\": numpy.array([100.]),                  # transmitter northing/y-position\n",
    "    \"tz\": numpy.array([50.]),                   # transmitter height/z-position\n",
    "    \"tazi\": numpy.deg2rad(numpy.array([90.])),  # transmitter azimuth\n",
    "    \"tincl\": numpy.deg2rad(numpy.array([6.])),  # transmitter inclination\n",
    "    \"rx\": numpy.array([205.]),                  # receiver easting/x-position\n",
    "    \"ry\": numpy.array([100.]),                  # receiver northing/y-position\n",
    "    \"rz\": numpy.array([50.]),                   # receiver height/z-position\n",
    "    \"trdx\": numpy.array([0.]),                  # transmitter receiver separation inline\n",
    "    \"trdy\": numpy.array([0.]),                  # transmitter receiver separation crossline\n",
    "    \"trdz\": numpy.array([0.]),                  # transmitter receiver separation vertical\n",
    "}"
   ]
  },
  {
   "cell_type": "markdown",
   "metadata": {},
   "source": [
    "# Inverting for the dip of a thin plate\n",
    "\n",
    "While a thin plate can not be recoverd from a single fiducial, its dip can be recovered form a carefully positioned fiducial. When setting up an inverse rpoblem it is good practice to initailly setup a the simplest possible problem and experiment with it to ensure that the forward solver and inference methods work as intendend. Before attempting an inversion it also is good practice to verify that the misfit function is sensitve to the parameter of itnerest and that the gradient of the objective function points in the right direction.\n",
    "\n",
    "Thus the dip of the thin plate which becomes our declared model parameter and we create the corresponding forward function and set the true value to $60\\degree$"
   ]
  },
  {
   "cell_type": "code",
   "execution_count": null,
   "metadata": {},
   "outputs": [],
   "source": [
    "forward = ForwardWrapper(true_model, problem_setup, system_spec, survey_setup, [\"pdip\"])\n",
    "true_param_value = numpy.array([60])"
   ]
  },
  {
   "cell_type": "markdown",
   "metadata": {},
   "source": [
    "## Problem setup"
   ]
  },
  {
   "cell_type": "markdown",
   "metadata": {},
   "source": [
    "### True model\n",
    "\n",
    "We first the plot the true model and the location of the VTEMmax measurement, which we will be inverting."
   ]
  },
  {
   "cell_type": "code",
   "execution_count": null,
   "metadata": {
    "cellView": "form",
    "editable": true,
    "jupyter": {
     "source_hidden": true
    },
    "slideshow": {
     "slide_type": ""
    },
    "tags": []
   },
   "outputs": [],
   "source": [
    "#@title plotting function (hidden)\n",
    "_, axes = plt.subplots(2, 2)\n",
    "axes[1,1].axis(\"off\")\n",
    "plot_plate_faces(\n",
    "    \"plate_true\", forward, true_param_value, \n",
    "    axes[0,0], axes[0,1], axes[1,0], color=\"purple\", label=\"True model\"\n",
    ")\n",
    "plt.tight_layout()\n",
    "point = Line2D([0], [0], label='Fiducial', marker='o', markersize=5, \n",
    "         markeredgecolor='orange', markerfacecolor='orange', linestyle='')\n",
    "\n",
    "handles, labels = axes[1,0].get_legend_handles_labels()\n",
    "handles.extend([point])\n",
    "axes[1,0].legend(handles=handles,bbox_to_anchor=(1.04, 0), loc=\"lower left\")"
   ]
  },
  {
   "cell_type": "markdown",
   "metadata": {},
   "source": [
    "### Generate synthetic data \n",
    "\n",
    "This tutorial uses a simplified noise model that assumes an absolute noise, that is a standard deviation of $0.05$ for the logarithms of the measured and observed data. In the objective and likelihood funtions the noise model is captured in the data covariance matrix, thus a more sophisticated noise model for example one that accounts for the known corrleation between time gates in AEM data could easily be implemented."
   ]
  },
  {
   "cell_type": "code",
   "execution_count": null,
   "metadata": {},
   "outputs": [],
   "source": [
    "# The data \n",
    "absolute_noise= 0.05\n",
    "\n",
    "# create data and ad a realisation of the noise\n",
    "data_pred_true = forward(true_param_value)\n",
    "data_obs = data_pred_true + numpy.random.randn(len(data_pred_true))*absolute_noise\n",
    "\n",
    "# define data covariance matrix\n",
    "sigma=absolute_noise\n",
    "Cdinv=numpy.identity(len(data_obs))*(1.0/(sigma*sigma))"
   ]
  },
  {
   "cell_type": "markdown",
   "metadata": {},
   "source": [
    "### Starting model\n",
    "\n",
    "Set an initial guess for the dip of the thin plate"
   ]
  },
  {
   "cell_type": "code",
   "execution_count": null,
   "metadata": {},
   "outputs": [],
   "source": [
    "init_param_value = numpy.array([45])"
   ]
  },
  {
   "cell_type": "markdown",
   "metadata": {},
   "source": [
    "## Define helper functions for CoFI"
   ]
  },
  {
   "cell_type": "markdown",
   "metadata": {},
   "source": [
    "### Challenge: Choose relative step size for the numerical Jacobian\n",
    "\n",
    "To compute the numerical Jacobian we need to choose the step size for the perturbation. Here we use a relative step size and if the chosen step size is too large the gradient of the objective function may miss the global minimum if it is located in a small basins of attraction and thus an inversion may never converge. If the step size is chosen too small the gradient of the objective function will be affected by the noise on the data and the numerical noise of the forward problem.  Thus the smallest step size providing a stable gradient is the ideal step size.\n",
    "\n",
    "*Experiment with relative stape size in the range between $0.01$ and $0.5$ and upload the figure of the gradient and misfit function as a function of plate dip*\n",
    "\n",
    "[![Upload to Excalidraw_1](https://img.shields.io/badge/Click%20&%20upload%20your%20results%20to-Excalidraw-lightgrey?logo=jamboard&style=for-the-badge&color=fcbf49&labelColor=edede9)](https://excalidraw.com/#room=f4481f8278ad2ddcb96d,i9Ki_GouExK4GylmrsrZ2A)\n"
   ]
  },
  {
   "cell_type": "markdown",
   "metadata": {},
   "source": [
    "Using the template below se the relative step size\n",
    "\n",
    "```\n",
    "my_relative_step = <DEFINE_ME>\n",
    "\n",
    "def my_objective(model):\n",
    "    dpred = forward(model)\n",
    "    residual = dpred - data_obs\n",
    "    return residual.T @ Cdinv @ residual\n",
    "\n",
    "def my_gradient(model):\n",
    "    dpred = forward(model)\n",
    "    jacobian = forward.jacobian(model, relative_step = my_relative_step)\n",
    "    residual = dpred - data_obs\n",
    "    return jacobian.T @ Cdinv @ residual\n",
    "\n",
    "def my_hessian(model):\n",
    "    jacobian = forward.jacobian(model, relative_step = my_relative_step)\n",
    "    return jacobian.T @ Cdinv @ jacobian\n",
    "\n",
    "class PerIterationCallbackFunction:\n",
    "    def __init__(self):\n",
    "        self.x = None\n",
    "        self.i = 0\n",
    "\n",
    "    def __call__(self, xk):\n",
    "        print(f\"Iteration #{self.i+1}\")\n",
    "        print(f\"  objective value: {my_problem.objective(xk)}\")\n",
    "        self.x = xk\n",
    "        self.i += 1\n",
    "```"
   ]
  },
  {
   "cell_type": "code",
   "execution_count": null,
   "metadata": {},
   "outputs": [],
   "source": [
    "# Copy the template above, Replace <DEFINE ME> with your answer"
   ]
  },
  {
   "cell_type": "code",
   "execution_count": null,
   "metadata": {
    "cellView": "form",
    "jupyter": {
     "source_hidden": true
    }
   },
   "outputs": [],
   "source": [
    "#@title Solution\n",
    "\n",
    "my_relative_step = 0.1\n",
    "\n",
    "def my_objective(model):\n",
    "    dpred = forward(model)\n",
    "    residual = dpred - data_obs\n",
    "    return residual.T @ Cdinv @ residual\n",
    "\n",
    "def my_gradient(model):\n",
    "    dpred = forward(model)\n",
    "    jacobian = forward.jacobian(model, relative_step = my_relative_step)\n",
    "    residual = dpred - data_obs\n",
    "    return jacobian.T @ Cdinv @ residual\n",
    "\n",
    "def my_hessian(model):\n",
    "    jacobian = forward.jacobian(model, relative_step = my_relative_step)\n",
    "    return jacobian.T @ Cdinv @ jacobian\n",
    "\n",
    "class PerIterationCallbackFunction:\n",
    "    def __init__(self):\n",
    "        self.x = None\n",
    "        self.i = 0\n",
    "\n",
    "    def __call__(self, xk):\n",
    "        print(f\"Iteration #{self.i+1}\")\n",
    "        print(f\"  objective value: {my_problem.objective(xk)}\")\n",
    "        self.x = xk\n",
    "        self.i += 1"
   ]
  },
  {
   "cell_type": "markdown",
   "metadata": {},
   "source": [
    "### Plot the misfit and gradient as a function of the plate dip"
   ]
  },
  {
   "cell_type": "code",
   "execution_count": null,
   "metadata": {
    "cellView": "form",
    "jupyter": {
     "source_hidden": true
    }
   },
   "outputs": [],
   "source": [
    "#@title plotting function (hidden)\n",
    "\n",
    "all_models = [numpy.array([pdip]) for pdip in range(40, 120, 5)]\n",
    "all_misfits = []\n",
    "all_gradients = []\n",
    "for model in all_models:\n",
    "    misfit = my_objective(model)\n",
    "    gradient = my_gradient(model)\n",
    "    all_misfits.append(misfit)\n",
    "    all_gradients.append(gradient)\n",
    "    print(f\"pdip: {model}, data misfit: {misfit}, gradient: {gradient}\")\n",
    "\n",
    "\n",
    "fig, ax1 = plt.subplots()\n",
    "color = 'tab:red'\n",
    "ax1.plot(all_models, all_misfits,color=color)\n",
    "ax1.tick_params(axis='y', labelcolor=color)\n",
    "ax1.set_xlabel(\"Plate dip\")\n",
    "ax1.set_ylabel(\"Data misfit\",color=color)\n",
    "\n",
    "ax2 = ax1.twinx() \n",
    "color = 'tab:blue'\n",
    "ax2.plot(all_models, all_gradients,color=color)\n",
    "ax2.set_ylabel('Gradient', color=color)\n",
    "ax2.tick_params(axis='y', labelcolor=color)\n",
    "\n",
    "fig.tight_layout()  # otherwise the right y-label is slightly clipped\n",
    "plt.show()"
   ]
  },
  {
   "cell_type": "markdown",
   "metadata": {},
   "source": [
    "## Parameter estimation\n",
    "\n",
    "First we solve the inverse problem using optimisation that is we seek to find the minimum of the objective function given as\n",
    "\n",
    "$$\n",
    "\\chi^2 = (\\mathbf{d} - \\mathbf{f}(\\mathbf{m}))^T\\mathbf{C}_d^{-1}(\\mathbf{d}-\\mathbf{f}(\\mathbf{m})),\n",
    "$$\n",
    "\n",
    "with the full Newton step being\n",
    "\n",
    "$$\n",
    "\\begin{equation} \\Delta \\mathbf{m}= (\\underbrace{\\mathbf{J}^T \\mathbf{C}_d^{-1} \\mathbf{J}}_{\\mathbf{Hessian}})^{-1}\n",
    "(\\underbrace{ \\mathbf{J}^T\\mathbf{C}_d^{-1} \n",
    "(\\mathbf{y}-\\mathbf{f}(\\mathbf{m}))}_\\mathbf{Gradient}).\n",
    "\\end{equation} \n",
    "$$\n",
    "\n",
    "The Jacobian and Hessian are only local measures of the first and second derivatives of the objective \n",
    "function and given this a non-linear inverse problem and the numericla derivates can be affected by noise, we can seldom  take the full Newton step to compute a model update as we are likely to overshoot and not improve fit to the data.\n",
    "\n",
    "One strategy is to employ a line search to determine the optimal step length, that means the  descent \n",
    "direction is given by the full Newton Step with the length adjusted so that it does not overshoot \n",
    "and results in an improvement of the fit to the data. The major alternative to employing a line search \n",
    "is to use a trust region method. Trust regions methods try to estimate the region around the current \n",
    "model within which  the assumption of local linearity holds and then limit the model update to \n",
    "stay within that region.\n",
    "\n",
    "### Further reading\n",
    "\n",
    "https://medium.com/intro-to-artificial-intelligence/line-search-and-trust-region-optimisation-strategies-638a4a7490ca\n"
   ]
  },
  {
   "cell_type": "markdown",
   "metadata": {},
   "source": [
    "#### Define CoFI problem"
   ]
  },
  {
   "cell_type": "code",
   "execution_count": null,
   "metadata": {},
   "outputs": [],
   "source": [
    "my_problem = cofi.BaseProblem()\n",
    "my_problem.set_objective(my_objective)\n",
    "my_problem.set_gradient(my_gradient)\n",
    "my_problem.set_hessian(my_hessian)\n",
    "my_problem.set_initial_model(init_param_value)"
   ]
  },
  {
   "cell_type": "markdown",
   "metadata": {},
   "source": [
    "#### Define CoFI options"
   ]
  },
  {
   "cell_type": "code",
   "execution_count": null,
   "metadata": {},
   "outputs": [],
   "source": [
    "my_options = cofi.InversionOptions()\n",
    "my_options.set_tool(\"scipy.optimize.minimize\")\n",
    "my_options.set_params(method=\"Newton-CG\",callback=PerIterationCallbackFunction())"
   ]
  },
  {
   "cell_type": "markdown",
   "metadata": {},
   "source": [
    "#### CoFI inversion"
   ]
  },
  {
   "cell_type": "code",
   "execution_count": null,
   "metadata": {},
   "outputs": [],
   "source": [
    "my_inversion = cofi.Inversion(my_problem, my_options)\n",
    "my_result = my_inversion.run()\n",
    "print(my_result.model)"
   ]
  },
  {
   "cell_type": "markdown",
   "metadata": {},
   "source": [
    "### Plotting"
   ]
  },
  {
   "cell_type": "markdown",
   "metadata": {
    "editable": true,
    "slideshow": {
     "slide_type": ""
    },
    "tags": []
   },
   "source": [
    "#### Data\n",
    "\n",
    "In the following we plot the vertical and inline component for the true model, the starting model and the MAP model that is the maximum a posterior model, the solution found by the chosen optimisation method."
   ]
  },
  {
   "cell_type": "code",
   "execution_count": null,
   "metadata": {
    "cellView": "form",
    "editable": true,
    "jupyter": {
     "source_hidden": true
    },
    "scrolled": true,
    "slideshow": {
     "slide_type": ""
    },
    "tags": []
   },
   "outputs": [],
   "source": [
    "#@title plotting function (hidden)\n",
    "_, (ax1, ax2) = plt.subplots(1, 2)\n",
    "plot_transient(true_param_value, forward, \"Data from true model\", ax1, ax2, color=\"purple\")\n",
    "plot_transient(init_param_value, forward, \"Data from starting model\", ax1, ax2, color=\"green\", linestyle=\":\")\n",
    "plot_transient(my_result.model, forward, \"Data from MAP model\", ax1, ax2, color=\"red\", linestyle=\"-.\")\n",
    "ax1.legend(loc=\"upper center\")\n",
    "ax2.legend(loc=\"upper center\")\n",
    "ax1.set_title(\"vertical\")\n",
    "ax2.set_title(\"inline\")\n",
    "plt.tight_layout()"
   ]
  },
  {
   "cell_type": "markdown",
   "metadata": {},
   "source": [
    "#### Model"
   ]
  },
  {
   "cell_type": "code",
   "execution_count": null,
   "metadata": {
    "cellView": "form",
    "jupyter": {
     "source_hidden": true
    }
   },
   "outputs": [],
   "source": [
    "#@title plotting function (hidden)\n",
    "\n",
    "_, axes = plt.subplots(2, 2)\n",
    "axes[1,1].axis(\"off\")\n",
    "plot_plate_faces(\n",
    "    \"plate_true\", forward, true_param_value, \n",
    "    axes[0,0], axes[0,1], axes[1,0], color=\"purple\", label=\"True model\"\n",
    ")\n",
    "plot_plate_faces(\n",
    "    \"plate_init\", forward, init_param_value, \n",
    "    axes[0,0], axes[0,1], axes[1,0], color=\"green\", label=\"Starting model\"\n",
    ")\n",
    "plot_plate_faces(\n",
    "    \"plate_inverted\", forward, my_result.model, \n",
    "    axes[0,0], axes[0,1], axes[1,0], color=\"red\", label=\"MAP solution\", linestyle=\"dotted\"\n",
    ")\n",
    "plt.tight_layout()\n",
    "point = Line2D([0], [0], label='Fiducial', marker='o', markersize=5, \n",
    "         markeredgecolor='orange', markerfacecolor='orange', linestyle='')\n",
    "\n",
    "handles, labels = axes[1,0].get_legend_handles_labels()\n",
    "handles.extend([point])\n",
    "\n",
    "axes[1,0].legend(handles=handles,bbox_to_anchor=(1.04, 0), loc=\"lower left\")"
   ]
  },
  {
   "cell_type": "markdown",
   "metadata": {},
   "source": [
    "## Ensemble method\n",
    "\n",
    "Parameter estimation methods require an objective function while ensemble methods require a likelihood functions typically given in the form of a log likelidhood function. \n",
    "The objective function used for the parameter estimation consists of only a data misfit term and thus is closely related to the likelihood function, with the log likelihood  being proportional to the value of the objective function multiplied by a factor of $\\frac{1}{2}$\n",
    "\n",
    "$$\n",
    "p({\\mathbf d} | {\\mathbf m}) \\propto \\exp \\left\\{- \\frac{1}{2} ({\\mathbf d}-{\\mathbf f}({\\mathbf m}))^T C_d^{-1} ({\\mathbf d}-{\\mathbf f}({\\mathbf m})) \\right\\}\n",
    "$$\n",
    "\n",
    "To use an ensemble method in CoFI we will need to define a likelihood function and  prior distribution. The prior distribution is a uniform distribution with an lower boundary of $10 \\degree$ and an upper boundary of $80 \\degree$. \n"
   ]
  },
  {
   "cell_type": "code",
   "execution_count": null,
   "metadata": {},
   "outputs": [],
   "source": [
    "m_min=numpy.array([10])\n",
    "m_max=numpy.array([80])\n",
    "\n",
    "def my_log_prior(m):    # uniform distribution\n",
    "    for i in range(len(m)):\n",
    "        if m[i] < m_min[i] or m[i] > m_max[i]: return -numpy.inf\n",
    "    return 0.0 # model lies within bounds -> return log(1)"
   ]
  },
  {
   "cell_type": "markdown",
   "metadata": {},
   "source": [
    "### Challenge: Given the objective function define a log likelihood function.\n",
    "\n",
    "In the previous section we defined the following objective function."
   ]
  },
  {
   "cell_type": "code",
   "execution_count": null,
   "metadata": {},
   "outputs": [],
   "source": [
    "def my_objective(model):\n",
    "    dpred = forward(model)\n",
    "    residual = dpred - data_obs\n",
    "    return residual.T @ Cdinv @ residual"
   ]
  },
  {
   "cell_type": "markdown",
   "metadata": {},
   "source": [
    "This function can be used to now create the log likelihood function typically needed by the ensemble methods made available in CoFI."
   ]
  },
  {
   "cell_type": "code",
   "execution_count": null,
   "metadata": {},
   "outputs": [],
   "source": [
    "def my_log_likelihood(model):\n",
    "    return # DEFINE ME"
   ]
  },
  {
   "cell_type": "code",
   "execution_count": null,
   "metadata": {
    "cellView": "form"
   },
   "outputs": [],
   "source": [
    "#@title Solution\n",
    "def my_log_likelihood(model):\n",
    "    return -0.5 * my_objective(model)"
   ]
  },
  {
   "cell_type": "markdown",
   "metadata": {},
   "source": [
    "### Augment the CoFI problem\n",
    "\n",
    "To finally be able to use an ensemble method we also need to augment our CoFI problem with the functions we defined for the log of the prior probability and the log of the likelihood function. We will again be using `emcee`, which we already used in the linear regression tutorial."
   ]
  },
  {
   "cell_type": "code",
   "execution_count": null,
   "metadata": {},
   "outputs": [],
   "source": [
    "my_problem.set_log_prior(my_log_prior)\n",
    "my_problem.set_log_likelihood(my_log_likelihood)\n",
    "my_problem.set_model_shape(len(init_param_value))"
   ]
  },
  {
   "cell_type": "markdown",
   "metadata": {},
   "source": [
    "### Define CoFI options"
   ]
  },
  {
   "cell_type": "code",
   "execution_count": null,
   "metadata": {},
   "outputs": [],
   "source": [
    "nwalkers = 2\n",
    "ndim = len(init_param_value)\n",
    "nsteps = 50\n",
    "walkers_start = init_param_value + 1 * numpy.random.randn(nwalkers, ndim)"
   ]
  },
  {
   "cell_type": "markdown",
   "metadata": {},
   "source": [
    "### CoFI Inversion"
   ]
  },
  {
   "cell_type": "code",
   "execution_count": null,
   "metadata": {},
   "outputs": [],
   "source": [
    "inv_options = cofi.InversionOptions()\n",
    "inv_options.set_tool(\"emcee\")\n",
    "inv_options.set_params(nwalkers=nwalkers, nsteps=nsteps, initial_state=walkers_start, progress=True)\n",
    "\n",
    "######## Run it\n",
    "inv = cofi.Inversion(my_problem, inv_options)\n",
    "my_result = inv.run()\n",
    "\n",
    "######## Check result\n",
    "print(f\"The inversion result from `emcee`:\")\n",
    "my_result.summary()"
   ]
  },
  {
   "cell_type": "code",
   "execution_count": null,
   "metadata": {
    "cellView": "form"
   },
   "outputs": [],
   "source": [
    "#@title plotting function (hidden)\n",
    "sampler = my_result.sampler\n",
    "arviz.style.use(\"default\")\n",
    "var_names = [\n",
    "    \"plate dip (\\u00b0)\", \n",
    "]\n",
    "az_idata = my_result.to_arviz(var_names=var_names)\n",
    "arviz.plot_trace(az_idata.sel(draw=slice(0,None)),lines=(('plate dip (\\u00b0)', {}, 60),));\n",
    "plt.tight_layout()"
   ]
  },
  {
   "cell_type": "markdown",
   "metadata": {},
   "source": [
    "While both chains have moved away from the starting model in the direction of the true dip the 50 samples are not enough to recover the posterior distribution. In practice a longer chain would be needed but this would increase the number of times we need to call the forward problem which is computationally expensive.\n"
   ]
  },
  {
   "cell_type": "markdown",
   "metadata": {},
   "source": [
    "### Limited computational resources \n",
    "From our tests we know that the objective function appears smooth and well behaved with a large basin of attraction thus we can create a surrogate model. The basic idea is that given samples of the objective function as a function of the declared model parameters we can interpolate a response surface and use it instead of solving the more expensive forward problem when we need to evaluate the log likelihood function. Evaluating the surrogate model will take a fraction of the time. In the following we thus create a surrogate model for the objective function using [the surrogate modelling toolbox](https://smt.readthedocs.io/en/latest/).\n",
    "\n",
    "We first generate random sampling of the objective function using latin hypercube sampling"
   ]
  },
  {
   "cell_type": "code",
   "execution_count": null,
   "metadata": {},
   "outputs": [],
   "source": [
    "## Generate random samples of the objective function in the range 10 to 90 for the dip.\n",
    "ndim=len(true_param_value)\n",
    "xlimits=numpy.array([[10,90]])\n",
    "ntrain=25\n",
    "ntest=5\n",
    "sampling = smt.sampling_methods.LHS(xlimits=xlimits,random_state=42)\n",
    "xtrain=sampling(ntrain)\n",
    "ytrain=[]\n",
    "xtest=sampling(ntest)\n",
    "ytest=[]\n",
    "for x in tqdm.tqdm(xtrain):\n",
    "    ytrain.append(my_objective(x))\n",
    "for x in tqdm.tqdm(xtest):\n",
    "    ytest.append(my_objective(x))\n",
    "ytrain=numpy.array(ytrain)\n",
    "ytest=numpy.array(ytest)"
   ]
  },
  {
   "cell_type": "markdown",
   "metadata": {},
   "source": [
    "Next we create the surrogate model itself that is here the construction of a response surface using Kriging."
   ]
  },
  {
   "cell_type": "code",
   "execution_count": null,
   "metadata": {},
   "outputs": [],
   "source": [
    "sm = smt.surrogate_models.KRG(theta0=[1e-2]*ndim,print_prediction = False)\n",
    "sm.set_training_values(xtrain,ytrain)\n",
    "sm.train()"
   ]
  },
  {
   "cell_type": "markdown",
   "metadata": {},
   "source": [
    "Finally we test how well our surrogate model predicts the value of the objective function"
   ]
  },
  {
   "cell_type": "code",
   "execution_count": null,
   "metadata": {},
   "outputs": [],
   "source": [
    "# Prediction of the validation points\n",
    "y = sm.predict_values(xtest)\n",
    "# Estimated variance for the validation points\n",
    "s2 = sm.predict_variances(xtest)\n",
    "#plot with the associated interval confidence\n",
    "yerr= 2*3*numpy.sqrt(s2) #in order to use +/- 3 x standard deviation: 99% confidence interval estimation\n",
    "\n",
    "# Plot the function, the prediction and the 99% confidence interval based on\n",
    "# the MSE\n",
    "fig = plt.figure()\n",
    "plt.plot(ytest, ytest, '-', label='$y_{true}$')\n",
    "plt.plot(ytest, y, 'r.', label='$\\\\hat{y}$')\n",
    "plt.errorbar(numpy.squeeze(ytest), numpy.squeeze(y), yerr=numpy.squeeze(yerr), fmt = 'none', capsize = 5, ecolor = 'lightgray', elinewidth = 1, capthick = 0.5, label='confidence estimate 99%')\n",
    "plt.xlabel('$y_{true}$')\n",
    "plt.ylabel('$\\\\hat{y}$')\n",
    "\n",
    "plt.legend(loc='upper left')\n",
    "plt.title('Validation of the model prediction with confidence estimates')   \n",
    "plt.show()\n"
   ]
  },
  {
   "cell_type": "markdown",
   "metadata": {},
   "source": [
    "Now we run emcee again but now we call the surrogate model instead of the P223 kernel and thus we can generate more samples of the posterior distribution in a fraction of the time. It is however important to keep in mind that the surrogate model is however only an approximation and likely to be inaccurate particularly if we increase the number of declared model parameters."
   ]
  },
  {
   "cell_type": "code",
   "execution_count": null,
   "metadata": {},
   "outputs": [],
   "source": [
    "nwalkers = 5\n",
    "ndim = len(init_param_value)\n",
    "nsteps = 500\n",
    "walkers_start = init_param_value + 1 * numpy.random.randn(nwalkers, ndim)"
   ]
  },
  {
   "cell_type": "code",
   "execution_count": null,
   "metadata": {},
   "outputs": [],
   "source": [
    "def my_objective(model):\n",
    "    val=sm.predict_values(numpy.array([model]))[0][0]\n",
    "    if val<1e-3:\n",
    "        return 1e-3\n",
    "    else:\n",
    "        return val"
   ]
  },
  {
   "cell_type": "code",
   "execution_count": null,
   "metadata": {},
   "outputs": [],
   "source": [
    "inv_options = cofi.InversionOptions()\n",
    "inv_options.set_tool(\"emcee\")\n",
    "inv_options.set_params(nwalkers=nwalkers, nsteps=nsteps, initial_state=walkers_start, progress=True)\n",
    "\n",
    "######## Run it\n",
    "inv = cofi.Inversion(my_problem, inv_options)\n",
    "my_result = inv.run()\n",
    "\n",
    "######## Check result\n",
    "print(f\"The inversion result from `emcee`:\")\n",
    "my_result.summary()"
   ]
  },
  {
   "cell_type": "code",
   "execution_count": null,
   "metadata": {},
   "outputs": [],
   "source": [
    "#@title plotting function (hidden)\n",
    "sampler = my_result.sampler\n",
    "arviz.style.use(\"default\")\n",
    "var_names = [\n",
    "    \"plate dip (\\u00b0)\", \n",
    "]\n",
    "az_idata = my_result.to_arviz(var_names=var_names)\n",
    "arviz.plot_trace(az_idata.sel(draw=slice(100,None)),lines=(('plate dip (\\u00b0)', {}, 60),));\n",
    "plt.tight_layout()"
   ]
  },
  {
   "cell_type": "markdown",
   "metadata": {},
   "source": [
    "# Inverting for a thin plate given three survey lines\n",
    "\n",
    "A more realistic synthetic example is the inference of a thin plate target given three survey lines. It now becomes possible to invert for the easting, depth of the plate reference point, the plate dip and plate azimuth and the plate length.\n"
   ]
  },
  {
   "cell_type": "markdown",
   "metadata": {},
   "source": [
    "## Problem setup\n",
    "\n",
    "In the following we define three survey lines covering the thin plate"
   ]
  },
  {
   "cell_type": "code",
   "execution_count": null,
   "metadata": {},
   "outputs": [],
   "source": [
    "tx_min = 115\n",
    "tx_max = 281\n",
    "tx_interval = 15\n",
    "ty_min = 25\n",
    "ty_max = 176\n",
    "ty_interval = 75\n",
    "tx_points = numpy.arange(tx_min, tx_max, tx_interval)\n",
    "ty_points = numpy.arange(ty_min, ty_max, ty_interval)\n",
    "n_transmitters = len(tx_points) * len(ty_points)\n",
    "tx, ty = numpy.meshgrid(tx_points, ty_points)\n",
    "tx = tx.flatten()\n",
    "ty = ty.flatten()"
   ]
  },
  {
   "cell_type": "code",
   "execution_count": null,
   "metadata": {},
   "outputs": [],
   "source": [
    "fiducial_id = numpy.arange(len(tx))\n",
    "line_id = numpy.zeros(len(tx), dtype=int)\n",
    "line_id[ty==ty_points[0]] = 0\n",
    "line_id[ty==ty_points[1]] = 1\n",
    "line_id[ty==ty_points[2]] = 2"
   ]
  },
  {
   "cell_type": "code",
   "execution_count": null,
   "metadata": {},
   "outputs": [],
   "source": [
    "survey_setup = {\n",
    "    \"tx\": tx,                                                   # transmitter easting/x-position\n",
    "    \"ty\": ty,                                                   # transmitter northing/y-position\n",
    "    \"tz\": numpy.array([50]*n_transmitters),                     # transmitter height/z-position\n",
    "    \"tazi\": numpy.deg2rad(numpy.array([90]*n_transmitters)),    # transmitter azimuth\n",
    "    \"tincl\": numpy.deg2rad(numpy.array([6]*n_transmitters)),    # transmitter inclination\n",
    "    \"rx\": tx,                                                   # receiver easting/x-position\n",
    "    \"ry\": numpy.array([100]*n_transmitters),                    # receiver northing/y-position\n",
    "    \"rz\": numpy.array([50]*n_transmitters),                     # receiver height/z-position\n",
    "    \"trdx\": numpy.array([0]*n_transmitters),                    # transmitter receiver separation inline\n",
    "    \"trdy\": numpy.array([0]*n_transmitters),                    # transmitter receiver separation crossline\n",
    "    \"trdz\": numpy.array([0]*n_transmitters),                    # transmitter receiver separation vertical\n",
    "    \"fiducial_id\": fiducial_id,                                 # unique id for each transmitter\n",
    "    \"line_id\": line_id                  # id for each line\n",
    "}"
   ]
  },
  {
   "cell_type": "markdown",
   "metadata": {},
   "source": [
    "### True model"
   ]
  },
  {
   "cell_type": "code",
   "execution_count": null,
   "metadata": {},
   "outputs": [],
   "source": [
    "true_model = {\n",
    "    \"res\": numpy.array([300, 1000]), \n",
    "    \"thk\": numpy.array([20]), \n",
    "    \"peast\": numpy.array([175]), \n",
    "    \"pnorth\": numpy.array([100]), \n",
    "    \"ptop\": numpy.array([30]), \n",
    "    \"pres\": numpy.array([0.1]), \n",
    "    \"plngth1\": numpy.array([100]), \n",
    "    \"plngth2\": numpy.array([100]), \n",
    "    \"pwdth1\": numpy.array([0.1]), \n",
    "    \"pwdth2\": numpy.array([90]), \n",
    "    \"pdzm\": numpy.array([75]),\n",
    "    \"pdip\": numpy.array([60])\n",
    "}"
   ]
  },
  {
   "cell_type": "markdown",
   "metadata": {},
   "source": [
    "We now increase the number of declared model parameters and they include the plate dip, the plate dip azimuth, the easting of the plate reference point, the depth of the plate reference point and the plate width and will only be using the vertical component.\n",
    "\n",
    "As a general rule we can only constrain parameters if there are fiducials in the survey that are sensitive to them and also fiducials that are not sensitive to them. In order words the anomly needs to be closed with respect to the model paratmeter in question. So to be able to constraint plate length we would need survey lines to the north and south that are not overflying the thin plate, as this is not the case we do not invert for plate length."
   ]
  },
  {
   "cell_type": "code",
   "execution_count": null,
   "metadata": {},
   "outputs": [],
   "source": [
    "forward = ForwardWrapper(true_model, problem_setup, system_spec, survey_setup,\n",
    "                         [\"pdip\",\"pdzm\", \"peast\", \"pwdth2\",\"ptop\"], data_returned=[\"vertical\"]);"
   ]
  },
  {
   "cell_type": "code",
   "execution_count": null,
   "metadata": {},
   "outputs": [],
   "source": [
    "# check the order of parameters in a model vector\n",
    "forward.params_to_invert"
   ]
  },
  {
   "cell_type": "code",
   "execution_count": null,
   "metadata": {},
   "outputs": [],
   "source": [
    "true_param_value = numpy.array([60,65, 175, 30, 90])"
   ]
  },
  {
   "cell_type": "code",
   "execution_count": null,
   "metadata": {
    "cellView": "form",
    "jupyter": {
     "source_hidden": true
    }
   },
   "outputs": [],
   "source": [
    "#@title plotting function (hidden)\n",
    "\n",
    "_, axes = plt.subplots(2, 2)\n",
    "axes[1,1].axis(\"off\")\n",
    "plot_plate_faces(\n",
    "    \"plate_true\", forward, true_param_value, \n",
    "    axes[0,0], axes[0,1], axes[1,0], color=\"purple\", label=\"True model\"\n",
    ")\n",
    "plt.tight_layout()\n",
    "point = Line2D([0], [0], label='Fiducial', marker='o', markersize=5, \n",
    "         markeredgecolor='orange', markerfacecolor='orange', linestyle='')\n",
    "\n",
    "handles, labels = axes[1,0].get_legend_handles_labels()\n",
    "handles.extend([point])\n",
    "\n",
    "axes[1,0].legend(handles=handles,bbox_to_anchor=(1.04, 0), loc=\"lower left\")"
   ]
  },
  {
   "cell_type": "markdown",
   "metadata": {},
   "source": [
    "### Generate synthetic data\n",
    "\n",
    "We again generate a synthetic data set and add a realisation of the noise."
   ]
  },
  {
   "cell_type": "code",
   "execution_count": null,
   "metadata": {},
   "outputs": [],
   "source": [
    "# The data \n",
    "absolute_noise= 0.05\n",
    "\n",
    "# create data and ad a realisation of the noise\n",
    "data_pred_true = forward(true_param_value)\n",
    "data_obs = data_pred_true + numpy.random.randn(len(data_pred_true))*absolute_noise\n",
    "\n",
    "# define data covariance matrix\n",
    "sigma=absolute_noise\n",
    "Cdinv=numpy.identity(len(data_obs))*(1.0/(sigma*sigma))"
   ]
  },
  {
   "cell_type": "markdown",
   "metadata": {},
   "source": [
    "##  Challenge: Implement a parameter estimation or ensemble method in CoFI\n",
    "\n",
    "CoFI is about experimentation and given the experiments in the previous section you can now head down a branch of the CoFI tree and infer a thin plate from the synthetic data we just generated.  The first choice is between Parameter estimation and ensemble methods. \n",
    "\n",
    "- [Parameter estimation](#Parameter-estimation-applied-to-three-survey-lines)\n",
    "- [Ensemble methods](#Ensemble-methods-applied-to-three-survey-lines)\n",
    "\n",
    "\n",
    "<div class=\"alert alert-block alert-info\">\n",
    "<b>Colab: </b>If this notebook is used on colab anchor links will currently not work and the table of contents needs to be used to navigate to the relevant section... <a href=\"https://github.com/googlecolab/colabtools/issues/3983\n",
    "\">#3983</a>    \n",
    "</div>\n",
    "\n",
    "\n",
    "The parameter estimation methods call the forward kernel and compute a numerical Jacobian while the ensemble methods will in the following use a surrogate model to compute the objective/likelihood function, which takes a fraction of a second. Thus the suggestion is to use an ensemble method.\n",
    "  \n",
    "*Once you have performed an inversion using CoFI upload your solution*\n",
    "\n",
    "[![Upload to Excalidraw_2](https://img.shields.io/badge/Click%20&%20upload%20your%20results%20to-Excalidraw-lightgrey?logo=jamboard&style=for-the-badge&color=fcbf49&labelColor=edede9)](https://excalidraw.com/#room=52f0ac5f10e0111ee085,3nYggMVJOpmqlV1ZbYj0Eg)\n",
    "\n"
   ]
  },
  {
   "cell_type": "markdown",
   "metadata": {},
   "source": [
    "## Parameter estimation applied to three survey lines"
   ]
  },
  {
   "cell_type": "markdown",
   "metadata": {},
   "source": [
    "**Initialise a model for inversion**"
   ]
  },
  {
   "cell_type": "code",
   "execution_count": null,
   "metadata": {},
   "outputs": [],
   "source": [
    "forward.params_to_invert"
   ]
  },
  {
   "cell_type": "code",
   "execution_count": null,
   "metadata": {},
   "outputs": [],
   "source": [
    "init_param_value = numpy.array([45, 90, 150, 20, 80])"
   ]
  },
  {
   "cell_type": "markdown",
   "metadata": {},
   "source": [
    "**Define helper functions for CoFI**"
   ]
  },
  {
   "cell_type": "code",
   "execution_count": null,
   "metadata": {},
   "outputs": [],
   "source": [
    "def my_objective(model):\n",
    "    dpred = forward(model)\n",
    "    residual = dpred - data_obs\n",
    "    return residual.T @ Cdinv @ residual\n",
    "\n",
    "def my_gradient(model):\n",
    "    dpred = forward(model)\n",
    "    jacobian = forward.jacobian(model, relative_step=0.1)\n",
    "    residual = dpred - data_obs\n",
    "    return jacobian.T @ Cdinv @ residual\n",
    "\n",
    "def my_hessian(model):\n",
    "    jacobian = forward.jacobian(model)\n",
    "    return jacobian.T @ Cdinv @ jacobian\n",
    "\n",
    "class PerIterationCallbackFunction:\n",
    "    def __init__(self):\n",
    "        self.x = None\n",
    "        self.i = 0\n",
    "\n",
    "    def __call__(self, xk):\n",
    "        print(f\"Iteration #{self.i+1}\")\n",
    "        print(f\"  objective value: {my_problem.objective(xk)}\")\n",
    "        self.x = xk\n",
    "        self.i += 1"
   ]
  },
  {
   "cell_type": "markdown",
   "metadata": {},
   "source": [
    "**Define CoFI problem**"
   ]
  },
  {
   "cell_type": "code",
   "execution_count": null,
   "metadata": {},
   "outputs": [],
   "source": [
    "my_problem = cofi.BaseProblem()\n",
    "my_problem.set_objective(my_objective)\n",
    "my_problem.set_gradient(my_gradient)\n",
    "my_problem.set_hessian(my_hessian)\n",
    "my_problem.set_initial_model(init_param_value)"
   ]
  },
  {
   "cell_type": "markdown",
   "metadata": {},
   "source": [
    "### Challenge: Choose a parameter estimation method\n",
    "\n",
    "CoFI provides access to the parameter estimation methods that are available in\n",
    "\n",
    "scipy.optimize.minimize https://docs.scipy.org/doc/scipy/reference/generated/scipy.optimize.minimize.html\n",
    "\n",
    "For practical application we are interested in a solver that converges with the fewest calls to the \n",
    "forward problem to a model that is acceptably close to the true model and explains the data. \n",
    "The consequence of employing a line search or trust region method or more broadly any \n",
    "method seeking to find the optimal step length is that typically additional calls to \n",
    "a forward problem need to be made to determine the optimal step length and different \n",
    "approaches require different numbers of calls to the forward problem depending on \n",
    "the shape of the objective function.\n",
    "\n",
    "<div class=\"alert alert-block alert-info\">\n",
    "<b>Colab: </b> The computational resources offered by colab for free are limited and thus the inverisons performed in the following may take a while if the free resources offered by colab are being used...   \n",
    "</div>\n",
    "\n",
    "\n",
    "*Choose one of the following two solvers and perform a parameter estimation using CoFI and upload your solution*\n",
    "- `newton-cg` - https://docs.scipy.org/doc/scipy/reference/optimize.minimize-newtoncg.html\n",
    "- `trust-ncg`- https://docs.scipy.org/doc/scipy/reference/optimize.minimize-trustncg.html\n",
    "\n",
    "[![Upload to Excalidraw_2](https://img.shields.io/badge/Click%20&%20upload%20your%20results%20to-Excalidraw-lightgrey?logo=jamboard&style=for-the-badge&color=fcbf49&labelColor=edede9)](https://excalidraw.com/#room=52f0ac5f10e0111ee085,3nYggMVJOpmqlV1ZbYj0Eg)"
   ]
  },
  {
   "cell_type": "markdown",
   "metadata": {},
   "source": [
    "**Define CoFI options**"
   ]
  },
  {
   "cell_type": "markdown",
   "metadata": {},
   "source": [
    "\n",
    "Use the template below and set the CoFI tool to `newton-cg` or `trust-ncg`\n",
    "```\n",
    "my_options = cofi.InversionOptions()\n",
    "my_options.set_tool(\"scipy.optimize.minimize\")\n",
    "my_options.set_params(method=<DEFINE_ME>,callback=PerIterationCallbackFunction(),options={\"maxiter\": 10})\n",
    "\n",
    "```"
   ]
  },
  {
   "cell_type": "code",
   "execution_count": null,
   "metadata": {},
   "outputs": [],
   "source": [
    "# Copy the template above, Replace <DEFINE ME> with your answer"
   ]
  },
  {
   "cell_type": "code",
   "execution_count": null,
   "metadata": {
    "cellView": "form",
    "editable": true,
    "jupyter": {
     "source_hidden": true
    },
    "slideshow": {
     "slide_type": ""
    },
    "tags": []
   },
   "outputs": [],
   "source": [
    "#@title Solution newton-cg\n",
    "my_options = cofi.InversionOptions()\n",
    "my_options.set_tool(\"scipy.optimize.minimize\")\n",
    "my_options.set_params(method=\"newton-cg\",callback=PerIterationCallbackFunction(),options={\"maxiter\": 10})"
   ]
  },
  {
   "cell_type": "code",
   "execution_count": null,
   "metadata": {
    "cellView": "form",
    "editable": true,
    "jupyter": {
     "source_hidden": true
    },
    "slideshow": {
     "slide_type": ""
    },
    "tags": []
   },
   "outputs": [],
   "source": [
    "#@title Solution trust-ncg\n",
    "my_options = cofi.InversionOptions()\n",
    "my_options.set_tool(\"scipy.optimize.minimize\")\n",
    "my_options.set_params(method=\"trust-ncg\",callback=PerIterationCallbackFunction(),options={\"maxiter\": 10})"
   ]
  },
  {
   "cell_type": "markdown",
   "metadata": {},
   "source": [
    "**Run CoFI inversion**"
   ]
  },
  {
   "cell_type": "code",
   "execution_count": null,
   "metadata": {},
   "outputs": [],
   "source": [
    "my_inversion = cofi.Inversion(my_problem, my_options)\n",
    "my_result = my_inversion.run()\n",
    "print(f\"\\nNumber of objective function evaluations: {my_result.nfev}\")\n",
    "print(f\"Number of gradient function evaluations: {my_result.njev}\")\n",
    "print(f\"Number of hessian function evaluations: {my_result.nhev}\")\n",
    "print(f\"Solution vector:\\n\",my_result.model)"
   ]
  },
  {
   "cell_type": "markdown",
   "metadata": {},
   "source": [
    "### Plotting"
   ]
  },
  {
   "cell_type": "markdown",
   "metadata": {},
   "source": [
    "#### Data - Profiles"
   ]
  },
  {
   "cell_type": "code",
   "execution_count": null,
   "metadata": {
    "cellView": "form",
    "editable": true,
    "jupyter": {
     "source_hidden": true
    },
    "slideshow": {
     "slide_type": ""
    },
    "tags": []
   },
   "outputs": [],
   "source": [
    "#@title plotting function (hidden)\n",
    "\n",
    "# Select gates to plot\n",
    "idx_to_plot = numpy.arange(8, 30) \n",
    "\n",
    "_, axes = plt.subplots(3, 1, figsize=(12,12))\n",
    "\n",
    "for i in range(3):\n",
    "    plot_predicted_profile(true_param_value, forward, \"Data from true model\", gate_idx=idx_to_plot, \n",
    "                                        line_id=[i], ax=axes[i], color=\"purple\")\n",
    "    plot_predicted_profile(init_param_value, forward, \"Data from starting model\", gate_idx=idx_to_plot, \n",
    "                                        line_id=[i], ax=axes[i], color=\"green\", linestyle=\":\")\n",
    "    plot_predicted_profile(my_result.model, forward, \"Data from MAP model\", gate_idx=idx_to_plot, \n",
    "                                        line_id=[i], ax=axes[i], color=\"red\", linestyle=\"-.\")\n",
    "    axes[i].set_title(\"Crossline {} (m)\".format(ty_points[i]))\n",
    "    axes[i].legend(bbox_to_anchor=(1.04, 0), loc=\"lower left\")\n",
    "plt.tight_layout()"
   ]
  },
  {
   "cell_type": "markdown",
   "metadata": {},
   "source": [
    "#### Model"
   ]
  },
  {
   "cell_type": "code",
   "execution_count": null,
   "metadata": {
    "cellView": "form",
    "editable": true,
    "jupyter": {
     "source_hidden": true
    },
    "slideshow": {
     "slide_type": ""
    },
    "tags": []
   },
   "outputs": [],
   "source": [
    "#@title plotting function (hidden)\n",
    "\n",
    "_, axes = plt.subplots(2, 2)\n",
    "axes[1,1].axis(\"off\")\n",
    "plot_plate_faces(\n",
    "    \"plate_true\", forward, true_param_value, \n",
    "    axes[0,0], axes[0,1], axes[1,0], color=\"purple\", label=\"True model\"\n",
    ")\n",
    "plot_plate_faces(\n",
    "    \"plate_init\", forward, init_param_value, \n",
    "    axes[0,0], axes[0,1], axes[1,0], color=\"green\", label=\"Starting model\"\n",
    ")\n",
    "plot_plate_faces(\n",
    "    \"plate_inverted\", forward, my_result.model, \n",
    "    axes[0,0], axes[0,1], axes[1,0], color=\"red\", label=\"MAP model\", linestyle=\"dotted\"\n",
    ")\n",
    "\n",
    "plt.tight_layout()\n",
    "\n",
    "point = Line2D([0], [0], label='Fiducial', marker='o', markersize=5, \n",
    "         markeredgecolor='orange', markerfacecolor='orange', linestyle='')\n",
    "\n",
    "handles, labels = axes[1,0].get_legend_handles_labels()\n",
    "handles.extend([point])\n",
    "\n",
    "axes[1,0].legend(handles=handles,bbox_to_anchor=(1.04, 0), loc=\"lower left\")"
   ]
  },
  {
   "cell_type": "markdown",
   "metadata": {},
   "source": [
    "## Ensemble methods applied to three survey lines\n",
    "\n",
    "To speed up the forward computations for this tutorial and to be able to use ensemble methods we again create a surrogate model for the objective function using [the surrogate modelling toolbox](https://smt.readthedocs.io/en/latest/).\n",
    "\n",
    "The two steps to create the surrogate model are the sampling of the objective function using latin hypercube smapling and the the creation of the surrogate model itself that is here the construction of a response surface using Kriging. For completness the two notebooks implementing this are given here:\n",
    "- [Latin Hypercube Sampling](https://github.com/inlab-geo/cofi-examples/blob/main/examples/vtem_max/three_survey_lines_latin_hypercube_sampling.ipynb)\n",
    "- [Surrogate model creation](https://github.com/inlab-geo/cofi-examples/blob/main/examples/vtem_max/three_survey_lines_surrogate_model_creation.ipynb)\n",
    "\n"
   ]
  },
  {
   "cell_type": "code",
   "execution_count": null,
   "metadata": {
    "cellView": "form"
   },
   "outputs": [],
   "source": [
    "#@title Create surrogate model given latin hypercube samples\n",
    "\n",
    "# Different versions of the surrogate modelling toolbox store the model in different\n",
    "# formats thus it is safer to just create the model on the fly given the latin hypercube\n",
    "# samples which here are pre-computed.\n",
    "\n",
    "with open('three_survey_lines_lhs.npy', 'rb') as f:\n",
    "    ndim=int(numpy.load(f))\n",
    "    xlimits=numpy.load(f) \n",
    "    xtrain=numpy.load(f)\n",
    "    ytrain=numpy.load(f)\n",
    "    xtest=numpy.load(f)\n",
    "    ytest=numpy.load(f)\n",
    "\n",
    "xlimits=xlimits.astype('double')\n",
    "xtrain=xtrain[0:100].astype('double')\n",
    "ytrain=ytrain[0:100].astype('double')\n",
    "xtest=xtest[0:10].astype('double')\n",
    "ytest=ytest[0:10].astype('double')\n",
    "\n",
    "sm = smt.surrogate_models.KRG(theta0=[1e-2]*ndim,print_prediction = False)\n",
    "sm.set_training_values(xtrain,ytrain)\n",
    "sm.train()"
   ]
  },
  {
   "cell_type": "markdown",
   "metadata": {},
   "source": [
    "**Initialise a model for inversion**"
   ]
  },
  {
   "cell_type": "code",
   "execution_count": null,
   "metadata": {},
   "outputs": [],
   "source": [
    "init_param_value = numpy.array([45, 90, 160, 35, 80])\n",
    "m_min = numpy.array([15, 35, 155, 30, 65])\n",
    "m_max = numpy.array([75, 145, 185, 40, 115])"
   ]
  },
  {
   "cell_type": "markdown",
   "metadata": {},
   "source": [
    "**Define helper functions for CoFI**"
   ]
  },
  {
   "cell_type": "code",
   "execution_count": null,
   "metadata": {
    "editable": true,
    "slideshow": {
     "slide_type": ""
    },
    "tags": []
   },
   "outputs": [],
   "source": [
    "def my_objective(model):\n",
    "    val=sm.predict_values(numpy.array([model]))[0][0]\n",
    "    if val<1e-3:\n",
    "        return 1e-3\n",
    "    else:\n",
    "        return val\n",
    "        \n",
    "def my_log_likelihood(model):\n",
    "    return -0.5 * my_objective(model)\n",
    "\n",
    "\n",
    "def my_log_prior(model):    # uniform distribution\n",
    "    for i in range(len(model)):\n",
    "        if model[i] < m_min[i] or model[i] > m_max[i]: return -numpy.inf\n",
    "    return 0.0 # model lies within bounds -> return log(1)"
   ]
  },
  {
   "cell_type": "markdown",
   "metadata": {},
   "source": [
    "### Challenge: Select an ensemble method\n",
    "\n",
    "The nature of the airborne  electromagnetic forward physics is that the deeper a feature of interest the less well it can be reocvered. This information is not captured in the solution obtained using a parameter estmation method in the previous section. CoFI provides access to range of esnemble  methods that recover the distribution of models that fit the data and thus allows estimate model uncertainty.\n",
    "\n",
    "*Using one of the following three ensemble methods available in CofI complete the relevant section and upload your solution*\n",
    "\n",
    "- [`emcee` Affine Invariant Markov chain Monte Carlo Ensemble sampler](#Affine-Invariant-Markov-chain-Monte-Carlo-Ensemble-sampler)\n",
    "- [`neighpy` Neighbourhood algorithm](#Neighbourhood-algorithm)\n",
    "- [`bayesbay` Metropolis Hastings algorithm](#Metropolis-Hastings-algorithm)\n",
    "\n",
    "<div class=\"alert alert-block alert-info\">\n",
    "<b>Colab: </b>If this notebook is used on colab anchor links will currently not work and the table of contents needs to be used to navigate to the relevant section... <a href=\"https://github.com/googlecolab/colabtools/issues/3983\n",
    "\">#3983</a>    \n",
    "</div>\n",
    "\n",
    "\n",
    "[![Upload to Excalidraw_2](https://img.shields.io/badge/Click%20&%20upload%20your%20results%20to-Excalidraw-lightgrey?logo=jamboard&style=for-the-badge&color=fcbf49&labelColor=edede9)](https://excalidraw.com/#room=52f0ac5f10e0111ee085,3nYggMVJOpmqlV1ZbYj0Eg)"
   ]
  },
  {
   "cell_type": "markdown",
   "metadata": {},
   "source": [
    "### Affine Invariant Markov chain Monte Carlo Ensemble sampler\n",
    "\n",
    "Using `emcee` as the string in `inv_options.set_tool()` CoFI offers an interface to the Affine Invariant Markov chain Monte Carlo (MCMC) Ensemble sampler by\n",
    "[Goodman and Weare 2010](https://msp.org/camcos/2010/5-1/p04.xhtml) to sample the posterior distribution. (See more details about [emcee](https://emcee.readthedocs.io/en/stable/)).\n",
    "\n",
    "\n",
    "[![Upload to Excalidraw_2](https://img.shields.io/badge/Click%20&%20upload%20your%20results%20to-Excalidraw-lightgrey?logo=jamboard&style=for-the-badge&color=fcbf49&labelColor=edede9)](https://excalidraw.com/#room=52f0ac5f10e0111ee085,3nYggMVJOpmqlV1ZbYj0Eg)"
   ]
  },
  {
   "cell_type": "code",
   "execution_count": null,
   "metadata": {},
   "outputs": [],
   "source": [
    "my_problem = cofi.BaseProblem()\n",
    "my_problem.set_log_prior(my_log_prior)\n",
    "my_problem.set_log_likelihood(my_log_likelihood)\n",
    "my_problem.set_model_shape(len(init_param_value))"
   ]
  },
  {
   "cell_type": "markdown",
   "metadata": {},
   "source": [
    "**Define CoFI options**"
   ]
  },
  {
   "cell_type": "code",
   "execution_count": null,
   "metadata": {
    "cellView": "form",
    "jupyter": {
     "source_hidden": true
    }
   },
   "outputs": [],
   "source": [
    "#@title defaults for emcee\n",
    "nwalkers = 12\n",
    "ndim = len(init_param_value)\n",
    "nsteps = 5000\n",
    "walkers_start = init_param_value + 0.5 * numpy.random.randn(nwalkers, ndim)"
   ]
  },
  {
   "cell_type": "markdown",
   "metadata": {},
   "source": [
    "Use the template below and set the CoFI tool to `emcee`\n",
    "```\n",
    "inv_options = cofi.InversionOptions()\n",
    "inv_options.set_tool(<DEFINE_ME>)\n",
    "inv_options.set_params(nwalkers=nwalkers, nsteps=nsteps, initial_state=walkers_start, progress=True)\n",
    "\n",
    "######## Run it\n",
    "inv = cofi.Inversion(my_problem, inv_options)\n",
    "my_result = inv.run()\n",
    "\n",
    "######## Check result\n",
    "print(f\"The inversion result from `emcee`:\")\n",
    "my_result.summary()\n",
    "```"
   ]
  },
  {
   "cell_type": "code",
   "execution_count": null,
   "metadata": {},
   "outputs": [],
   "source": [
    "# Copy the template above, Replace <DEFINE ME> with your answer"
   ]
  },
  {
   "cell_type": "code",
   "execution_count": null,
   "metadata": {
    "cellView": "form",
    "jupyter": {
     "source_hidden": true
    }
   },
   "outputs": [],
   "source": [
    "#@title Solution\n",
    "\n",
    "inv_options = cofi.InversionOptions()\n",
    "inv_options.set_tool(\"emcee\")\n",
    "inv_options.set_params(nwalkers=nwalkers, nsteps=nsteps, initial_state=walkers_start, progress=True)\n",
    "\n",
    "######## Run it\n",
    "inv = cofi.Inversion(my_problem, inv_options)\n",
    "my_result = inv.run()\n",
    "\n",
    "######## Check result\n",
    "print(f\"The inversion result from `emcee`:\")\n",
    "my_result.summary()"
   ]
  },
  {
   "cell_type": "code",
   "execution_count": null,
   "metadata": {},
   "outputs": [],
   "source": [
    "## Plotting"
   ]
  },
  {
   "cell_type": "code",
   "execution_count": null,
   "metadata": {
    "cellView": "form",
    "jupyter": {
     "source_hidden": true
    }
   },
   "outputs": [],
   "source": [
    "#@title plotting function (hidden)\n",
    "\n",
    "arviz.style.use(\"default\")\n",
    "\n",
    "var_names = [\n",
    "    \"Dip (\\u00b0)\",\n",
    "    \"Dip azimuth (\\u00b0)\",\n",
    "    \"Easting (m)\",\n",
    "    \"Depth (m)\",\n",
    "    \"Width (m)\",\n",
    "]\n",
    "\n",
    "var_lines=(\n",
    "        ('Dip (\\u00b0)', {}, 60),\n",
    "        ('Dip azimuth (\\u00b0)', {}, 65),\n",
    "        ('Easting (m)', {}, 175),\n",
    "        ('Depth (m)', {}, 30),\n",
    "        ('Width (m)', {}, 90)\n",
    ")\n",
    "sampler = my_result.sampler\n",
    "az_idata = my_result.to_arviz(var_names=var_names)\n",
    "arviz.plot_trace(az_idata.sel(draw=slice(2000,None)),lines=var_lines);\n",
    "plt.tight_layout()"
   ]
  },
  {
   "cell_type": "code",
   "execution_count": null,
   "metadata": {
    "cellView": "form",
    "jupyter": {
     "source_hidden": true
    }
   },
   "outputs": [],
   "source": [
    "#@title plotting function (hidden)\n",
    "\n",
    "true_values = {\n",
    "    f\"{var_names[i]}\": true_param_value[i] for i in range(init_param_value.size)\n",
    "}\n",
    "fig, axes = plt.subplots(5, 5, figsize=(10, 8))\n",
    "_ = arviz.plot_pair(\n",
    "az_idata.sel(draw=slice(4000,None)), \n",
    "    marginals=True,\n",
    "    kind=\"kde\",\n",
    "    kde_kwargs={\n",
    "        \"hdi_probs\": [0.3, 0.6, 0.9],  # Plot 30%, 60% and 90% HDI contours\n",
    "        \"contourf_kwargs\": {\"cmap\": \"Blues\"},\n",
    "    },\n",
    "    ax=axes,\n",
    "    textsize=10,\n",
    ")\n",
    "\n",
    "for i, j in numpy.ndindex(axes.shape):\n",
    "    if i == j:\n",
    "        continue\n",
    "    xlabel = axes[-1, j].get_xlabel()\n",
    "    ylabel = axes[i, 0].get_ylabel()\n",
    "    x_true = true_values[xlabel]\n",
    "    y_true = true_values[ylabel]        \n",
    "    axes[i, j].plot(x_true, y_true, \"yellow\", marker=\"o\", ms=10, markeredgecolor=\"k\")\n",
    "\n",
    "plt.show()"
   ]
  },
  {
   "cell_type": "code",
   "execution_count": null,
   "metadata": {
    "cellView": "form",
    "jupyter": {
     "source_hidden": true
    }
   },
   "outputs": [],
   "source": [
    "#@title plotting function (hidden)\n",
    "\n",
    "arviz.style.use(\"default\")\n",
    "\n",
    "_, axes = plt.subplots(2, 2)\n",
    "axes[1,1].axis(\"off\")\n",
    "plot_plate_faces(\n",
    "    \"plate_true\", forward, true_param_value, \n",
    "    axes[0,0], axes[0,1], axes[1,0], color=\"purple\", label=\"True model\"\n",
    ")\n",
    "plot_plate_faces(\n",
    "    \"plate_init\", forward, init_param_value, \n",
    "    axes[0,0], axes[0,1], axes[1,0], color=\"green\", label=\"Starting model\"\n",
    ")\n",
    "\n",
    "\n",
    "plt.tight_layout()\n",
    "\n",
    "\n",
    "ichain=0\n",
    "idraw=2500\n",
    "sample=numpy.zeros(5)\n",
    "\n",
    "sample[0]=az_idata.posterior['Dip (\\u00b0)'][ichain][idraw]\n",
    "sample[1]=az_idata.posterior['Dip azimuth (\\u00b0)'][ichain][idraw]\n",
    "sample[2]=az_idata.posterior['Easting (m)'][ichain][idraw]\n",
    "sample[3]=az_idata.posterior['Depth (m)'][ichain][idraw]\n",
    "sample[4]=az_idata.posterior['Width (m)'][ichain][idraw]\n",
    "plot_plate_faces(\n",
    "    \"plate_inverted\", forward, sample, \n",
    "    axes[0,0], axes[0,1], axes[1,0], color=\"red\", label=\"Posterior sample\", linestyle=\"dotted\"\n",
    ")\n",
    "\n",
    "point = Line2D([0], [0], label='Fiducial', marker='o', markersize=5, \n",
    "         markeredgecolor='orange', markerfacecolor='orange', linestyle='')\n",
    "\n",
    "handles, labels = axes[1,0].get_legend_handles_labels()\n",
    "handles.extend([point])\n",
    "\n",
    "axes[1,0].legend(handles=handles,bbox_to_anchor=(1.04, 0), loc=\"lower left\")\n",
    "\n",
    "\n",
    "# plot 10 randomly selected samples of the posterior distirbution\n",
    "for i in range(10):\n",
    "    ichain=numpy.random.randint(0,12)\n",
    "    idraw=numpy.random.randint(2000,5000)\n",
    "    sample[0]=az_idata.posterior['Dip (\\u00b0)'][ichain][idraw]\n",
    "    sample[1]=az_idata.posterior['Dip azimuth (\\u00b0)'][ichain][idraw]\n",
    "    sample[2]=az_idata.posterior['Easting (m)'][ichain][idraw]\n",
    "    sample[3]=az_idata.posterior['Depth (m)'][ichain][idraw]\n",
    "    sample[4]=az_idata.posterior['Width (m)'][ichain][idraw]\n",
    "    plot_plate_faces(\n",
    "    \"plate_inverted\", forward, sample, \n",
    "    axes[0,0], axes[0,1], axes[1,0], color=\"red\", label=\"Posterior sample\", linestyle=\"dotted\"\n",
    ")\n"
   ]
  },
  {
   "cell_type": "markdown",
   "metadata": {},
   "source": [
    "### Neighbourhood algorithm\n",
    "\n",
    "The [Neighbourhood Algorithm](https://iearth.edu.au/codes/NA/#:~:text=Overview-,The%20neighbourhood%20algorithm%20is%20a%20two%2Dstage%20numerical%20procedure%20for,in%20a%20multidimensional%20parameter%20space.) is a two-stage Ensemble method for non-linear inverse problems with application as a direct search method for global optimisation. The first stage seeks to find points in model space with acceptable values of the the objective function. The second stage analysis the ensemble of models generated in the first stage and provides Bayesian measures of properties of the ensemble such a resolution and covariance structure. \n",
    "\n",
    "Here CoFI is providing an interface the the implementation of the Neighbourhood Algorithm provided by [neighpy](https://neighpy.readthedocs.io/en/latest/) and it is accessed by using `neighpy` as the string in `inv_options.set_tool()` \n",
    "\n",
    "\n",
    "[![Upload to Excalidraw_2](https://img.shields.io/badge/Click%20&%20upload%20your%20results%20to-Excalidraw-lightgrey?logo=jamboard&style=for-the-badge&color=fcbf49&labelColor=edede9)](https://excalidraw.com/#room=52f0ac5f10e0111ee085,3nYggMVJOpmqlV1ZbYj0Eg)"
   ]
  },
  {
   "cell_type": "code",
   "execution_count": null,
   "metadata": {},
   "outputs": [],
   "source": [
    "my_problem = cofi.BaseProblem()\n",
    "my_problem.set_objective(my_objective)"
   ]
  },
  {
   "cell_type": "markdown",
   "metadata": {},
   "source": [
    "Using the template below set the CoFI  tool to `neighpy`\n",
    "```\n",
    "inv_options = cofi.InversionOptions()\n",
    "inv_options.set_tool(<DEFINE_ME>)\n",
    "inv_options.suggest_solver_params()\n",
    "```"
   ]
  },
  {
   "cell_type": "code",
   "execution_count": null,
   "metadata": {},
   "outputs": [],
   "source": [
    "# Copy the template above, Replace <DEFINE ME> with your answer"
   ]
  },
  {
   "cell_type": "code",
   "execution_count": null,
   "metadata": {
    "cellView": "form",
    "jupyter": {
     "source_hidden": true
    }
   },
   "outputs": [],
   "source": [
    "#@title Solution\n",
    "inv_options = cofi.InversionOptions()\n",
    "inv_options.set_tool(\"neighpy\")\n",
    "inv_options.suggest_solver_params()"
   ]
  },
  {
   "cell_type": "code",
   "execution_count": null,
   "metadata": {},
   "outputs": [],
   "source": [
    "\n",
    "inv_options.set_params(\n",
    "    direct_search_ni=1000,\n",
    "    direct_search_ns=100,\n",
    "    direct_search_nr=20,\n",
    "    direct_search_n=10,\n",
    "    bounds=numpy.array([m_min, m_max]).T,\n",
    "    appraisal_n_resample=10000,\n",
    "    appraisal_n_walkers=4\n",
    ")\n",
    "\n",
    "######## Run it\n",
    "inv = cofi.Inversion(my_problem, inv_options)\n",
    "my_result = inv.run()\n",
    "\n",
    "######## Check result\n",
    "print(f\"The inversion result from `neighpy`:\")\n",
    "my_result.summary()"
   ]
  },
  {
   "cell_type": "code",
   "execution_count": null,
   "metadata": {
    "cellView": "form",
    "jupyter": {
     "source_hidden": true
    }
   },
   "outputs": [],
   "source": [
    "#@title plotting function (hidden)\n",
    "\n",
    "arviz.style.use(\"default\")\n",
    "var_names = [\n",
    "    \"Dip (\\u00b0)\", \n",
    "    \"Dip azimuth (\\u00b0)\", \n",
    "    \"Easting (m)\", \n",
    "    \"Depth (m)\", \n",
    "    \"Width (m)\"\n",
    "]\n",
    "\n",
    "var_lines=(\n",
    "    ('Dip (\\u00b0)', {}, 60),\n",
    "        ('Dip azimuth (\\u00b0)', {}, 65),\n",
    "        ('Easting (m)', {}, 175),\n",
    "        ('Depth (m)', {}, 30),\n",
    "        ('Width (m)', {}, 90)\n",
    ")\n",
    "d = {k: v for k, v in zip(var_names, my_result.appraisal_samples.T)}\n",
    "az_idata = arviz.convert_to_inference_data(d)\n",
    "arviz.plot_trace(az_idata.sel(draw=slice(2000,None)),lines=var_lines)\n",
    "plt.tight_layout()"
   ]
  },
  {
   "cell_type": "code",
   "execution_count": null,
   "metadata": {
    "cellView": "form",
    "jupyter": {
     "source_hidden": true
    }
   },
   "outputs": [],
   "source": [
    "#@title plotting function (hidden)\n",
    "\n",
    "arviz.style.use(\"default\")\n",
    "\n",
    "_, axes = plt.subplots(5, 5, figsize=(12,12))\n",
    "arviz.plot_pair(\n",
    "    az_idata.sel(draw=slice(4000,None)), \n",
    "    marginals=True, \n",
    "    ax = axes\n",
    ")\n",
    "plt.tight_layout()"
   ]
  },
  {
   "cell_type": "code",
   "execution_count": null,
   "metadata": {
    "cellView": "form",
    "jupyter": {
     "source_hidden": true
    }
   },
   "outputs": [],
   "source": [
    "#@title plotting function (hidden)\n",
    "\n",
    "arviz.style.use(\"default\")\n",
    "\n",
    "_, axes = plt.subplots(2, 2)\n",
    "axes[1,1].axis(\"off\")\n",
    "plot_plate_faces(\n",
    "    \"plate_true\", forward, true_param_value, \n",
    "    axes[0,0], axes[0,1], axes[1,0], color=\"purple\", label=\"True model\"\n",
    ")\n",
    "plot_plate_faces(\n",
    "    \"plate_init\", forward, init_param_value, \n",
    "    axes[0,0], axes[0,1], axes[1,0], color=\"green\", label=\"Starting model\"\n",
    ")\n",
    "\n",
    "\n",
    "plt.tight_layout()\n",
    "\n",
    "\n",
    "ichain=0\n",
    "idraw=2500\n",
    "sample=numpy.zeros(5)\n",
    "\n",
    "sample[0]=az_idata.posterior['Dip (\\u00b0)'][ichain][idraw]\n",
    "sample[1]=az_idata.posterior['Dip azimuth (\\u00b0)'][ichain][idraw]\n",
    "sample[2]=az_idata.posterior['Easting (m)'][ichain][idraw]\n",
    "sample[3]=az_idata.posterior['Depth (m)'][ichain][idraw]\n",
    "sample[4]=az_idata.posterior['Width (m)'][ichain][idraw]\n",
    "plot_plate_faces(\n",
    "    \"plate_inverted\", forward, sample, \n",
    "    axes[0,0], axes[0,1], axes[1,0], color=\"red\", label=\"Posterior sample\", linestyle=\"dotted\"\n",
    ")\n",
    "\n",
    "point = Line2D([0], [0], label='Fiducial', marker='o', markersize=5, \n",
    "         markeredgecolor='orange', markerfacecolor='orange', linestyle='')\n",
    "\n",
    "handles, labels = axes[1,0].get_legend_handles_labels()\n",
    "handles.extend([point])\n",
    "\n",
    "axes[1,0].legend(handles=handles,bbox_to_anchor=(1.04, 0), loc=\"lower left\")\n",
    "\n",
    "\n",
    "# plot 10 randomly selected samples of the posterior distirbution\n",
    "for i in range(10):\n",
    "    idraw=numpy.random.randint(2000,5000)\n",
    "    sample[0]=az_idata.posterior['Dip (\\u00b0)'][ichain][idraw]\n",
    "    sample[1]=az_idata.posterior['Dip azimuth (\\u00b0)'][ichain][idraw]\n",
    "    sample[2]=az_idata.posterior['Easting (m)'][ichain][idraw]\n",
    "    sample[3]=az_idata.posterior['Depth (m)'][ichain][idraw]\n",
    "    sample[4]=az_idata.posterior['Width (m)'][ichain][idraw]\n",
    "    plot_plate_faces(\n",
    "    \"plate_inverted\", forward, sample, \n",
    "    axes[0,0], axes[0,1], axes[1,0], color=\"red\", label=\"Posterior sample\", linestyle=\"dotted\"\n",
    ")\n"
   ]
  },
  {
   "cell_type": "markdown",
   "metadata": {},
   "source": [
    "### Metropolis Hastings algorithm\n",
    "\n",
    "To sample the posterior distribution, [BayesBay](https://github.com/fmagrini/bayes-bay) implements an RJ-MCMC method, which is a generalization of the Metropolis-Hastings algorithm allowing for trans-dimensional inference. Here we use [BayesBay](https://github.com/fmagrini/bayes-bay) to solve a fixed dimensional problem as the number of thin plate targets is one. BayesBay is accessed from CoFI  by using `bayesbay` as the string in `inv_options.set_tool()` \n",
    "\n",
    "\n",
    "[![Upload to Excalidraw_2](https://img.shields.io/badge/Click%20&%20upload%20your%20results%20to-Excalidraw-lightgrey?logo=jamboard&style=for-the-badge&color=fcbf49&labelColor=edede9)](https://excalidraw.com/#room=52f0ac5f10e0111ee085,3nYggMVJOpmqlV1ZbYj0Eg)"
   ]
  },
  {
   "cell_type": "code",
   "execution_count": null,
   "metadata": {
    "cellView": "form",
    "jupyter": {
     "source_hidden": true
    }
   },
   "outputs": [],
   "source": [
    "#@title defaults for bayesbay\n",
    "\n",
    "def initialize_param(param, position=None, value=1):\n",
    "    return numpy.array([value]) + 0.5 * numpy.random.randn()\n",
    "\n",
    "parameters = []\n",
    "for iparam, (vmin, vmax) in enumerate(zip(m_min, m_max)):\n",
    "    parameter = bayesbay.prior.UniformPrior(\n",
    "        name=f\"m{iparam}\",\n",
    "        vmin=m_min[iparam],\n",
    "        vmax=m_max[iparam],\n",
    "        perturb_std=(vmax - vmin) / 20,\n",
    "    )\n",
    "    custom_init = functools.partial(initialize_param, value=init_param_value[iparam])\n",
    "    parameter.set_custom_initialize(custom_init)\n",
    "    parameters.append(parameter)\n",
    "\n",
    "param_space = bayesbay.parameterization.ParameterSpace(\n",
    "    name=\"param_space\",\n",
    "    n_dimensions=1,\n",
    "    parameters=parameters,\n",
    ")\n",
    "parameterization = bayesbay.parameterization.Parameterization(param_space)"
   ]
  },
  {
   "cell_type": "code",
   "execution_count": null,
   "metadata": {
    "jupyter": {
     "source_hidden": true
    }
   },
   "outputs": [],
   "source": [
    "def my_log_likelihood(state, *args, **kwargs):\n",
    "    model = numpy.array(\n",
    "        [state[\"param_space\"][f\"m{i}\"] for i in range(init_param_value.size)]\n",
    "    )\n",
    "    return -0.5 * my_objective(model.T[0])\n",
    "\n",
    "#log_likelihood = bayesbay.likelihood.LogLikelihood(log_like_func=my_log_likelihood) # BayesBay pre version 3.0\n",
    "log_likelihood = bayesbay.LogLikelihood(log_like_func=my_log_likelihood)  # BayesBay version 3.0 and above"
   ]
  },
  {
   "cell_type": "code",
   "execution_count": null,
   "metadata": {
    "cellView": "form",
    "jupyter": {
     "source_hidden": true
    }
   },
   "outputs": [],
   "source": [
    "#@title bayesbay initialisation\n",
    "n_chains = 12\n",
    "walkers_start = []\n",
    "for i in range(n_chains):\n",
    "    walkers_start.append(\n",
    "        parameterization.initialize()\n",
    "    )  # A bayesbay.State is appended to walkers_start for each chain"
   ]
  },
  {
   "cell_type": "markdown",
   "metadata": {},
   "source": [
    "Using the template below set the CoFI tool to `bayesbay`\n",
    "```\n",
    "inv_options = cofi.InversionOptions()\n",
    "inv_options.set_tool(<DEFINE ME>)\n",
    "inv_options.set_params(\n",
    "    walkers_starting_states=walkers_start,\n",
    "    #perturbation_funcs=parameterization.perturbation_funcs,  # BayesBay pre version 3.0\n",
    "    perturbation_funcs=parameterization.perturbation_functions, # BayesBay version 3.0 and above\n",
    "    log_like_ratio_func=log_likelihood,\n",
    "    n_chains=n_chains,\n",
    "    n_iterations=5_000,\n",
    "    burnin_iterations=500,\n",
    "    verbose=False,\n",
    "    save_every=25,\n",
    ")\n",
    "```"
   ]
  },
  {
   "cell_type": "code",
   "execution_count": null,
   "metadata": {},
   "outputs": [],
   "source": [
    "# Copy the template above, Replace <DEFINE ME> with your answer"
   ]
  },
  {
   "cell_type": "code",
   "execution_count": null,
   "metadata": {
    "cellView": "form",
    "jupyter": {
     "source_hidden": true
    }
   },
   "outputs": [],
   "source": [
    "#@title Solution\n",
    "inv_options = cofi.InversionOptions()\n",
    "inv_options.set_tool(\"bayesbay\")\n",
    "inv_options.set_params(\n",
    "    walkers_starting_states=walkers_start,\n",
    "    #perturbation_funcs=parameterization.perturbation_funcs,  # BayesBay pre version 3.0\n",
    "    perturbation_funcs=parameterization.perturbation_functions, # BayesBay version 3.0 and above\n",
    "    log_like_ratio_func=log_likelihood,\n",
    "    n_chains=n_chains,\n",
    "    n_iterations=5_000,\n",
    "    burnin_iterations=500,\n",
    "    verbose=False,\n",
    "    save_every=25,\n",
    ")"
   ]
  },
  {
   "cell_type": "code",
   "execution_count": null,
   "metadata": {},
   "outputs": [],
   "source": [
    "inv = cofi.Inversion(cofi.BaseProblem(), inv_options)\n",
    "my_result = inv.run()"
   ]
  },
  {
   "cell_type": "code",
   "execution_count": null,
   "metadata": {
    "cellView": "form",
    "jupyter": {
     "source_hidden": true
    }
   },
   "outputs": [],
   "source": [
    "#@title plotting function (hidden)\n",
    "\n",
    "arviz.style.use(\"default\")\n",
    "var_names = [\n",
    "    \"Dip (\\u00b0)\",\n",
    "    \"Dip Azimuth (\\u00b0)\",\n",
    "    \"Easting (m)\",\n",
    "    \"Depth (m)\",\n",
    "    \"Width (m)\",\n",
    "]\n",
    "\n",
    "results = my_result.models\n",
    "posterior_samples = {\n",
    "    f\"{var_names[i]}\": numpy.concatenate(results[f\"param_space.m{i}\"])\n",
    "    for i in range(init_param_value.size)\n",
    "}\n",
    "\n",
    "true_values = {\n",
    "    f\"{var_names[i]}\": true_param_value[i] for i in range(init_param_value.size)\n",
    "}\n",
    "\n",
    "\n",
    "fig, axes = plt.subplots(5, 5, figsize=(10, 8))\n",
    "_ = arviz.plot_pair(\n",
    "    posterior_samples,\n",
    "    marginals=True,\n",
    "    kind=\"kde\",\n",
    "    kde_kwargs={\n",
    "        \"hdi_probs\": [0.3, 0.6, 0.9],  # Plot 30%, 60% and 90% HDI contours\n",
    "        \"contourf_kwargs\": {\"cmap\": \"Blues\"},\n",
    "    },\n",
    "    ax=axes,\n",
    "    textsize=10,\n",
    ")\n",
    "\n",
    "for i, j in numpy.ndindex(axes.shape):\n",
    "    if i == j:\n",
    "        continue\n",
    "    xlabel = axes[-1, j].get_xlabel()\n",
    "    ylabel = axes[i, 0].get_ylabel()\n",
    "    x_true = true_values[xlabel]\n",
    "    y_true = true_values[ylabel]\n",
    "    axes[i, j].plot(x_true, y_true, \"yellow\", marker=\"o\", ms=10, markeredgecolor=\"k\")\n",
    "\n",
    "plt.show()"
   ]
  },
  {
   "cell_type": "code",
   "execution_count": null,
   "metadata": {
    "cellView": "form",
    "jupyter": {
     "source_hidden": true
    }
   },
   "outputs": [],
   "source": [
    "#@title plotting function (hidden)\n",
    "\n",
    "_, axes = plt.subplots(2, 2)\n",
    "axes[1, 1].axis(\"off\")\n",
    "plot_plate_faces(\n",
    "    \"plate_true\",\n",
    "    forward,\n",
    "    true_param_value,\n",
    "    axes[0, 0],\n",
    "    axes[0, 1],\n",
    "    axes[1, 0],\n",
    "    color=\"purple\",\n",
    "    label=\"True model\",\n",
    ")\n",
    "plot_plate_faces(\n",
    "    \"plate_init\",\n",
    "    forward,\n",
    "    init_param_value,\n",
    "    axes[0, 0],\n",
    "    axes[0, 1],\n",
    "    axes[1, 0],\n",
    "    color=\"green\",\n",
    "    label=\"Starting model\",\n",
    ")\n",
    "\n",
    "plt.tight_layout()\n",
    "idraw = numpy.random.randint(0, len(posterior_samples[var_names[0]]))\n",
    "sample = numpy.array([posterior_samples[name][idraw] for name in var_names])\n",
    "\n",
    "plot_plate_faces(\n",
    "    \"plate_inverted\",\n",
    "    forward,\n",
    "    sample,\n",
    "    axes[0, 0],\n",
    "    axes[0, 1],\n",
    "    axes[1, 0],\n",
    "    color=\"red\",\n",
    "    label=\"Posterior sample\",\n",
    "    linestyle=\"dotted\",\n",
    ")\n",
    "\n",
    "point = Line2D(\n",
    "    [0],\n",
    "    [0],\n",
    "    label=\"Fiducial\",\n",
    "    marker=\"o\",\n",
    "    markersize=5,\n",
    "    markeredgecolor=\"orange\",\n",
    "    markerfacecolor=\"orange\",\n",
    "    linestyle=\"\",\n",
    ")\n",
    "\n",
    "handles, labels = axes[1, 0].get_legend_handles_labels()\n",
    "handles.extend([point])\n",
    "\n",
    "axes[1, 0].legend(handles=handles, bbox_to_anchor=(1.04, 0), loc=\"lower left\")\n",
    "\n",
    "# plot 10 randomly selected samples of the posterior distribution\n",
    "idraws = numpy.random.choice(\n",
    "    numpy.arange(0, len(posterior_samples[var_names[0]])), 10, replace=False\n",
    ")\n",
    "for idraw in idraws:\n",
    "    sample = numpy.array([posterior_samples[name][idraw] for name in var_names])\n",
    "    plot_plate_faces(\n",
    "        \"plate_inverted\",\n",
    "        forward,\n",
    "        sample,\n",
    "        axes[0, 0],\n",
    "        axes[0, 1],\n",
    "        axes[1, 0],\n",
    "        color=\"red\",\n",
    "        label=\"Posterior sample\",\n",
    "        linestyle=\"dotted\",\n",
    "    )"
   ]
  },
  {
   "cell_type": "markdown",
   "metadata": {},
   "source": [
    "# Where to next?\n",
    "\n",
    "This tutorial is a based on the material avaiable as a a CoFI example under the following link\n",
    "\n",
    "https://github.com/inlab-geo/cofi-examples/tree/main/examples/vtem_max\n",
    "\n",
    "\n",
    "The following two notebooks explore the inversion of a field data set collected over the Caber deposit using the methods introduced in this tutorial.\n",
    "- [Preprocessing](https://github.com/inlab-geo/cofi-examples/blob/main/examples/vtem_max/caber_preprocessing.ipynb)\n",
    "- [Inversion](https://github.com/inlab-geo/cofi-examples/blob/main/examples/vtem_max/caber_inversion.ipynb)\n"
   ]
  },
  {
   "cell_type": "markdown",
   "metadata": {},
   "source": [
    "---\n",
    "# Watermark\n",
    "\n",
    "<!-- Feel free to add more modules in the watermark_list below, if more packages are used -->\n",
    "<!-- Otherwise please leave the below code cell unchanged -->"
   ]
  },
  {
   "cell_type": "code",
   "execution_count": null,
   "metadata": {},
   "outputs": [],
   "source": [
    "watermark_list = [\"cofi\", \"numpy\", \"scipy\", \"matplotlib\",\"bayesbay\",\"smt\"]\n",
    "for pkg in watermark_list:\n",
    "    pkg_var = __import__(pkg)\n",
    "    print(pkg, getattr(pkg_var, \"__version__\"))"
   ]
  }
 ],
 "metadata": {
  "kernelspec": {
   "display_name": "Python 3 (ipykernel)",
   "language": "python",
   "name": "python3"
  },
  "language_info": {
   "codemirror_mode": {
    "name": "ipython",
    "version": 3
   },
   "file_extension": ".py",
   "mimetype": "text/x-python",
   "name": "python",
   "nbconvert_exporter": "python",
   "pygments_lexer": "ipython3",
   "version": "3.12.6"
  }
 },
 "nbformat": 4,
 "nbformat_minor": 4
}
