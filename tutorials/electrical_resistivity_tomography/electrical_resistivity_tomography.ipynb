{
 "cells": [
  {
   "cell_type": "markdown",
   "id": "87af9d62",
   "metadata": {
    "papermill": {
     "duration": 0.006308,
     "end_time": "2024-03-19T00:39:55.845074",
     "exception": false,
     "start_time": "2024-03-19T00:39:55.838766",
     "status": "completed"
    },
    "tags": []
   },
   "source": [
    "# Electrical resistivity tomography"
   ]
  },
  {
   "cell_type": "markdown",
   "id": "31794dc1",
   "metadata": {
    "papermill": {
     "duration": 0.004542,
     "end_time": "2024-03-19T00:39:55.854301",
     "exception": false,
     "start_time": "2024-03-19T00:39:55.849759",
     "status": "completed"
    },
    "tags": []
   },
   "source": [
    "[![Open In Colab](https://img.shields.io/badge/open%20in-Colab-b5e2fa?logo=googlecolab&style=flat-square&color=ffd670)](https://colab.research.google.com/github/inlab-geo/cofi-examples/blob/main/tutorials/electrical_resistivity_tomography/electrical_resistivity_tomography.ipynb)"
   ]
  },
  {
   "cell_type": "markdown",
   "id": "dcfe1afe",
   "metadata": {
    "papermill": {
     "duration": 0.004395,
     "end_time": "2024-03-19T00:39:55.885127",
     "exception": false,
     "start_time": "2024-03-19T00:39:55.880732",
     "status": "completed"
    },
    "tags": []
   },
   "source": [
    "---\n",
    "\n",
    "## What we do in this notebook\n",
    "\n",
    "Here we look at applying CoFI to an electrical resistivity tomography problem,\n",
    "and explore different iterative non linear solvers.\n",
    "\n",
    "---\n",
    "\n",
    "## Learning outcomes\n",
    "\n",
    "- A demonstration of CoFI's ability to interface with PyGIMLi (Geophysical Inversion and Modelling Library), a mature package to solve the ERT forward problem\n",
    "- An exposé of CoFI's ability to interface with the iterative non-linear solvers in SciPy specifically `scipy.optimize` and PyTorch specificially `torch.optim`\n",
    "- An illustration of how CoFI can be used to identify the most appropriate iterative non-linear solver for a given problem\n"
   ]
  },
  {
   "cell_type": "code",
   "execution_count": null,
   "id": "28fa3845",
   "metadata": {
    "papermill": {
     "duration": 0.008319,
     "end_time": "2024-03-19T00:39:55.897808",
     "exception": false,
     "start_time": "2024-03-19T00:39:55.889489",
     "status": "completed"
    },
    "tags": []
   },
   "outputs": [],
   "source": [
    "# Environment setup (uncomment code lines below)\n",
    "\n",
    "# !pip install -U cofi geo-espresso pygimli tetgen"
   ]
  },
  {
   "cell_type": "code",
   "execution_count": null,
   "id": "a8b13687",
   "metadata": {
    "papermill": {
     "duration": 0.007683,
     "end_time": "2024-03-19T00:39:55.918619",
     "exception": false,
     "start_time": "2024-03-19T00:39:55.910936",
     "status": "completed"
    },
    "tags": []
   },
   "outputs": [],
   "source": [
    "# !git clone https://github.com/inlab-geo/cofi-examples.git\n",
    "# %cd cofi-examples/tutorials/electrical_resistivity_tomography/"
   ]
  },
  {
   "cell_type": "markdown",
   "id": "fd163d83",
   "metadata": {
    "papermill": {
     "duration": 0.00785,
     "end_time": "2024-03-19T00:39:55.934431",
     "exception": false,
     "start_time": "2024-03-19T00:39:55.926581",
     "status": "completed"
    },
    "tags": []
   },
   "source": [
    "## Problem description\n",
    "\n",
    "\n",
    "Electrical resistivity tomography is the inversion of measurements of apparent electrical resistivities measured between electrodes placed at the surface. A measured/known current is applied to one electrode pair and a second electrode pair is used to measure the voltage, this then allows to compute an apparent resistivity between the two electrode pairs. Its applications include the detection and delineation of groundwater resources, fracture zones, clay formations and the monitoring of pollution plumes.\n",
    "\n",
    "Here we illustrate the expandability of CoFI by combining a mature Python library for geophysical inversion that implements one iterative non-linear inversion method (Newton step with line search) for ERT (PyGIMLI https://www.pygimli.org/)  with the iterative non linear solvers we have made available in CoFI. In the following the forward problem will be solved using PyGIMLI, while the inverse problem will be solved using CoFI.\n",
    "\n",
    "The objective function we are minimizing is given as:\n",
    "\n",
    "$$\n",
    "\\Psi(\\mathbf{m}) = (\\mathbf{d} -\\mathrm{f}(\\mathbf{m}))^{\\mathrm{T}} C_{d}^{-1}(\\mathbf{d} -\\mathrm{f}(\\mathbf{m}))^{\\mathrm{T}} + \\lambda \\mathbf{m}^{T} W^{\\mathrm{T}} W \\mathbf{{m}},\n",
    "$$\n",
    "\n",
    "where $\\mathbf{d}$ represents the data vector of measured apparent resistivties, $\\mathrm{f}(\\mathbf{m})$ is the model prediction, $C_d^{-1}$ is the inverse of the data covariance matrix, $W$ the model smoothing matrix, $\\mathbf{m}$ the model vector and $\\lambda$ a regularization factor. \n",
    "\n",
    "The model update is then given as\n",
    "\n",
    "$$\n",
    "\\begin{equation} \\Delta \\mathbf{m}= (\\underbrace{\\mathbf{J}^T \\mathbf{C}_d^{-1} \\mathbf{J}+\\lambda W^{T} W}_{\\mathbf{Hessian}})^{-1}\n",
    "(\\underbrace{ \\mathbf{J}^T\\mathbf{C}_d^{-1} \n",
    "(\\mathbf{d}-\\mathrm{f}(\\mathbf{m}))+\\lambda W^{T} W \\mathbf{m}}_{\\mathbf{Gradient}}),\n",
    "\\end{equation} \n",
    "$$\n",
    "\n",
    "where $J$ represents the Jacobian.\n",
    "\n",
    "Successful inversion also relies on the objective function being smooth and predictable. For apparent resistivity data it is advantageous to convert measurements and model parameters to scale logarithmically to obtain a smoother and more predictable objective function when compared with using the unscaled data and unscaled model parameters.\n",
    "\n",
    "\n",
    "### Further reading\n",
    "\n",
    "- Rücker, C., Günther, T., & Spitzer, K. (2006). Three-dimensional modelling and inversion of dc resistivity data incorporating topography – I. Modelling. Geophys. J. Int, 166, 495–505. https://doi.org/10.1111/j.1365-246X.2006.03010.x\n",
    "- Günther, T., Rücker, C., & Spitzer, K. (2006). Three-dimensional modelling and inversion of dc resistivity data incorporating topography - II. Inversion. Geophysical Journal International, 166(2), 506–517. https://doi.org/10.1111/J.1365-246X.2006.03011.X\n",
    "- Wheelock, B., Constable, S., & Key, K. (2015). The advantages of logarithmically scaled data for electromagnetic inversion. Geophysical Journal International, 201(3), 1765–1780. https://doi.org/10.1093/GJI/GGV107\n"
   ]
  },
  {
   "cell_type": "markdown",
   "id": "27e06972",
   "metadata": {
    "papermill": {
     "duration": 0.004368,
     "end_time": "2024-03-19T00:39:55.943177",
     "exception": false,
     "start_time": "2024-03-19T00:39:55.938809",
     "status": "completed"
    },
    "tags": []
   },
   "source": [
    "## Interfacing to PyGIMLi\n",
    "\n",
    "PyGIMLi provides all the functionality to compute the apparent resistivities and Jacobian given a model. One of our goals around CoFI is to *never reinvent the wheel* and thus in the following we will\n",
    "- rely on PyGIMLi's functionality to plot the model and data; and\n",
    "- use PyGIMLi's capabilities to compute the response and the Jacobian from a model.\n",
    "\n",
    "To achieve this we first define a set of utility functions that will facilitate interfacing to PyGIMLi. We will also show how CoFI can directly interface with a mature package without the need to go via [Espresso](https://geo-espresso.readthedocs.io/en/latest/). \n",
    "\n",
    "PyGIMLi uses different meshes and  adaptive meshing capabilities via Gmsh https://gmsh.info/, all CoFI needs to access are the model vector, the Jacobian, the regularization matrix and the model prediction. This makes for a minimal interface."
   ]
  },
  {
   "cell_type": "code",
   "execution_count": null,
   "id": "5df95c9e",
   "metadata": {
    "papermill": {
     "duration": 0.401525,
     "end_time": "2024-03-19T00:39:56.365308",
     "exception": false,
     "start_time": "2024-03-19T00:39:55.963783",
     "status": "completed"
    },
    "tags": []
   },
   "outputs": [],
   "source": [
    "import numpy as np\n",
    "import matplotlib.pyplot as plt\n",
    "import matplotlib as mpl\n",
    "import pygimli\n",
    "from pygimli.physics import ert\n",
    "from pygimli import meshtools\n",
    "\n",
    "from cofi import BaseProblem, InversionOptions, Inversion\n",
    "\n",
    "np.random.seed(42)"
   ]
  },
  {
   "cell_type": "code",
   "execution_count": null,
   "id": "eeb67cc1",
   "metadata": {
    "cellView": "form",
    "editable": true,
    "jupyter": {
     "source_hidden": true
    },
    "papermill": {
     "duration": 0.02152,
     "end_time": "2024-03-19T00:39:56.391444",
     "exception": false,
     "start_time": "2024-03-19T00:39:56.369924",
     "status": "completed"
    },
    "slideshow": {
     "slide_type": ""
    },
    "tags": []
   },
   "outputs": [],
   "source": [
    "#@title utility functions (hidden)\n",
    "############# Utility functions using PyGIMLi ##############################################\n",
    "\n",
    "# inversion mesh bound\n",
    "x_inv_start = -5\n",
    "x_inv_stop = 55\n",
    "y_inv_start = -20\n",
    "y_inv_stop = 0\n",
    "x_invmesh = np.linspace(start=x_inv_start, stop=x_inv_stop, num=40)\n",
    "y_invmesh = np.linspace(start=y_inv_start,stop=y_inv_stop,num=10)\n",
    "\n",
    "# Dipole Dipole (dd) measuring scheme\n",
    "def survey_scheme(start=0, stop=50, num=51, schemeName=\"dd\"):\n",
    "    scheme = ert.createData(elecs=np.linspace(start=start, stop=stop, num=num),schemeName=schemeName)\n",
    "    return scheme\n",
    "\n",
    "# true geometry, forward mesh and true model\n",
    "def model_true(scheme, start=[-55, 0], end=[105, -80], anomaly_pos=[10,-7], anomaly_rad=5):\n",
    "    world = meshtools.createWorld(start=start, end=end, worldMarker=True)\n",
    "    for s in scheme.sensors():          # local refinement \n",
    "        world.createNode(s + [0.0, -0.1])\n",
    "    conductive_anomaly = meshtools.createCircle(pos=anomaly_pos, radius=anomaly_rad, marker=2)\n",
    "    geom = world + conductive_anomaly\n",
    "    rhomap = [[1, 200], [2,  50],]\n",
    "    mesh = meshtools.createMesh(geom, quality=33)\n",
    "    return mesh, rhomap\n",
    "\n",
    "# PyGIMLi ert.ERTManager\n",
    "def ert_manager(data, verbose=False):\n",
    "    return ert.ERTManager(data, verbose=verbose, useBert=True)\n",
    "\n",
    "# inversion mesh\n",
    "def inversion_mesh(ert_mgr):\n",
    "    inv_mesh = ert_mgr.createMesh(ert_mgr.data)\n",
    "    # print(\"model size\", inv_mesh.cellCount())   # 1031\n",
    "    ert_mgr.setMesh(inv_mesh)\n",
    "    return inv_mesh\n",
    "\n",
    "# inversion mesh rectangular (the above is by default triangular)\n",
    "def inversion_mesh_rect(ert_manager):\n",
    "    inv_mesh = pygimli.createGrid(x=x_invmesh, y=y_invmesh, marker=2)\n",
    "    inv_mesh = pygimli.meshtools.appendTriangleBoundary(inv_mesh, marker=1, xbound=50, ybound=50)\n",
    "    # print(\"model size\", inv_mesh.cellCount())    # 1213\n",
    "    ert_manager.setMesh(inv_mesh)\n",
    "    return inv_mesh\n",
    "\n",
    "# PyGIMLi ert.ERTModelling\n",
    "def ert_forward_operator(ert_manager, scheme, inv_mesh):\n",
    "    forward_operator = ert_manager.fop\n",
    "    forward_operator.setComplex(False)\n",
    "    forward_operator.setData(scheme)\n",
    "    forward_operator.setMesh(inv_mesh, ignoreRegionManager=True)\n",
    "    return forward_operator\n",
    "\n",
    "# regularization matrix\n",
    "def reg_matrix(forward_oprt):\n",
    "    region_manager = forward_oprt.regionManager()\n",
    "    region_manager.setConstraintType(2)\n",
    "    Wm = pygimli.matrix.SparseMapMatrix()\n",
    "    region_manager.fillConstraints(Wm)\n",
    "    Wm = pygimli.utils.sparseMatrix2coo(Wm)\n",
    "    return Wm\n",
    "\n",
    "# initialise model\n",
    "def starting_model(ert_mgr, val=None):\n",
    "    data = ert_mgr.data\n",
    "    start_val = val if val else np.median(data['rhoa'].array())     # this is how pygimli initialises\n",
    "    start_model = np.ones(ert_mgr.paraDomain.cellCount()) * start_val\n",
    "    start_val_log = np.log(start_val)\n",
    "    start_model_log = np.ones(ert_mgr.paraDomain.cellCount()) * start_val_log\n",
    "    return start_model, start_model_log\n",
    "\n",
    "# convert model to numpy array\n",
    "def model_vec(rhomap, fmesh):\n",
    "    model_true = pygimli.solver.parseArgToArray(rhomap, fmesh.cellCount(), fmesh)\n",
    "    return model_true\n",
    "\n",
    "# plot colorbar for model\n",
    "def colorbar_model(ax, init=False, orientation=\"horizontal\"):\n",
    "    val_min = 170 if init else rhomap[1][1]\n",
    "    val_max = 230 if init else rhomap[0][1]\n",
    "    norm = mpl.colors.Normalize(val_min, val_max)\n",
    "    sm = plt.cm.ScalarMappable(norm=norm)\n",
    "    cb = plt.colorbar(sm, orientation=orientation, ax=ax)\n",
    "    cb.set_label(r'$\\Omega \\mathrm{m}$')\n",
    "    cb.set_ticks(np.arange(val_min, val_max+1, 30))\n",
    "\n",
    "# plot colorbar for data\n",
    "def colorbar_data(ax, orientation=\"horizontal\"):\n",
    "    norm = mpl.colors.Normalize(min(data[\"rhoa\"]), max(data[\"rhoa\"]))\n",
    "    sm = plt.cm.ScalarMappable(norm=norm)\n",
    "    cb = plt.colorbar(sm, orientation=orientation, ax=ax)\n",
    "    cb.set_label(r'$\\Omega \\mathrm{m}$')\n",
    "    cb.set_ticks(np.arange(min(data[\"rhoa\"]), max(data[\"rhoa\"]), 30))\n",
    "    \n",
    "# plot true model, inferred model, provided data and synthetic data from inv_result\n",
    "def plot_result(inv_result, title=None):\n",
    "    # convert back to normal space from log space\n",
    "    model = np.exp(inv_result.model)\n",
    "\n",
    "    fig, axes = plt.subplots(1, 2, figsize=(12,4))\n",
    "    if title is not None:\n",
    "        fig.suptitle(title, fontsize=16)\n",
    "\n",
    "    # plot inferred model\n",
    "    # inv_result.summary()\n",
    "    pygimli.show(ert_mgr.paraDomain, data=model, label=r\"$\\Omega m$\", ax=axes[0], cMax=rhomap[0][1], cMin=rhomap[1][1], colorBar=False)\n",
    "    axes[0].set_title(\"Inferred model\")\n",
    "    axes[0].set_xlabel(\"Horizontal Distance (m)\")\n",
    "    axes[0].set_ylabel(\"Elevation (m)\")\n",
    "\n",
    "    # plot the true model\n",
    "    pygimli.show(mesh, data=rhomap, label=\"$\\Omega m$\", showMesh=True, ax=axes[1], colorBar=False)\n",
    "    axes[1].set_xlim(x_inv_start, x_inv_stop)\n",
    "    axes[1].set_ylim(y_inv_start, y_inv_stop)\n",
    "    axes[1].set_title(\"True model\")\n",
    "    axes[1].set_xlabel(\"Horizontal Distance (m)\")\n",
    "    colorbar_model(axes, orientation=\"vertical\")\n",
    "\n",
    "    # plot the data\n",
    "    _, axes = plt.subplots(1, 2, figsize=(12,4))\n",
    "\n",
    "    # plot synthetic data\n",
    "    d = forward_oprt.response(model)\n",
    "    ert.show(scheme, vals=d, cMin=np.min(data[\"rhoa\"]), cMax=np.max(data[\"rhoa\"]), ax=axes[0], colorBar=False)\n",
    "    axes[0].set_title(\"Synthetic data from inferred model\")\n",
    "    axes[0].set_xlabel(\"Horizontal Distance (m)\")\n",
    "    axes[0].set_ylabel(\"Dipole Dipole Separation (m)\")\n",
    "    # plot given data\n",
    "    ert.show(data, ax=axes[1], colorBar=False)\n",
    "    axes[1].set_title(\"Provided data\")\n",
    "    axes[1].set_xlabel(\"Horizontal Distance (m)\")\n",
    "    colorbar_data(axes, orientation=\"vertical\")\n",
    "    "
   ]
  },
  {
   "cell_type": "markdown",
   "id": "a55cc0d8",
   "metadata": {
    "papermill": {
     "duration": 0.004413,
     "end_time": "2024-03-19T00:39:56.400359",
     "exception": false,
     "start_time": "2024-03-19T00:39:56.395946",
     "status": "completed"
    },
    "tags": []
   },
   "source": [
    "### True model\n",
    "\n",
    "Our example is centred around inverting dipole dipole measurements of apparent resistivities in 2D with a circular shaped low resistivity anomaly. \n",
    "\n",
    "#### Further reading\n",
    "\n",
    "https://www.agiusa.com/dipole-dipole%E2%80%8B-%E2%80%8Barray%E2%80%8B"
   ]
  },
  {
   "cell_type": "code",
   "execution_count": null,
   "id": "15bb134a",
   "metadata": {
    "papermill": {
     "duration": 0.351913,
     "end_time": "2024-03-19T00:39:56.756683",
     "exception": false,
     "start_time": "2024-03-19T00:39:56.404770",
     "status": "completed"
    },
    "tags": []
   },
   "outputs": [],
   "source": [
    "# PyGIMLi - define measuring scheme, geometry, forward mesh and true model\n",
    "scheme = survey_scheme()\n",
    "mesh, rhomap = model_true(scheme)\n",
    "\n",
    "# plot the true model\n",
    "_, ax = plt.subplots(figsize=(10,8))\n",
    "pygimli.show(mesh, data=rhomap, label=\"$\\Omega \\mathrm{m}$\", showMesh=True, ax=ax, colorBar=False)\n",
    "ax.set_xlim(x_inv_start, x_inv_stop)\n",
    "ax.set_ylim(y_inv_start, y_inv_stop)\n",
    "ax.set_title(\"True model\")\n",
    "ax.set_xlabel(\"Horizontal Distance (m)\")\n",
    "ax.set_ylabel(\"Elevation (m)\")\n",
    "colorbar_model(ax)"
   ]
  },
  {
   "cell_type": "markdown",
   "id": "c03e4e80",
   "metadata": {
    "papermill": {
     "duration": 0.015497,
     "end_time": "2024-03-19T00:39:56.779008",
     "exception": false,
     "start_time": "2024-03-19T00:39:56.763511",
     "status": "completed"
    },
    "tags": []
   },
   "source": [
    "ERT measurements consist of the apparent resistivity measured between multiple electrode pairs and they are commonly plotted as pseudosections. The model response for the true model has been previously computed with PyGIMLi and noise has been added with the magnitude of the noise depending on the dipole dipole separation. "
   ]
  },
  {
   "cell_type": "code",
   "execution_count": null,
   "id": "b6ebf55b",
   "metadata": {
    "papermill": {
     "duration": 0.209559,
     "end_time": "2024-03-19T00:39:56.994912",
     "exception": false,
     "start_time": "2024-03-19T00:39:56.785353",
     "status": "completed"
    },
    "tags": []
   },
   "outputs": [],
   "source": [
    "# load data and covariance matrix\n",
    "log_data = np.loadtxt(\"ert_data_log.txt\")\n",
    "data_cov_inv = np.loadtxt(\"ert_data_cov_inv.txt\")\n",
    "\n",
    "# create PyGIMLi's ERT manager\n",
    "ert_mgr = ert_manager(\"ert_data.dat\")"
   ]
  },
  {
   "cell_type": "code",
   "execution_count": null,
   "id": "7475e165",
   "metadata": {
    "papermill": {
     "duration": 0.332135,
     "end_time": "2024-03-19T00:39:57.333938",
     "exception": false,
     "start_time": "2024-03-19T00:39:57.001803",
     "status": "completed"
    },
    "tags": []
   },
   "outputs": [],
   "source": [
    "# plot data\n",
    "data = ert_mgr.data\n",
    "_, ax = plt.subplots(figsize=(10,8))\n",
    "ert.show(data, ax=ax, colorBar=False)\n",
    "ax.set_title(\"Provided data\")\n",
    "ax.set_xlabel(\"Horizontal Distance (m)\")\n",
    "ax.set_ylabel(\"Dipole Dipole Separation (m)\")\n",
    "colorbar_data(ax)"
   ]
  },
  {
   "cell_type": "markdown",
   "id": "f66a309c",
   "metadata": {
    "papermill": {
     "duration": 0.006882,
     "end_time": "2024-03-19T00:39:57.347962",
     "exception": false,
     "start_time": "2024-03-19T00:39:57.341080",
     "status": "completed"
    },
    "tags": []
   },
   "source": [
    "### Forward operator\n",
    "\n",
    "PyGIMLi solves the ERT forward problem accurately and efficiently by defining boundary cells or ghost cells around the region of interest and creating an optimal triangular mesh. This is all handled by PyGIMLi and Gmsh and the model vector for the purpose of the inversion are the cells plotted in yellow."
   ]
  },
  {
   "cell_type": "code",
   "execution_count": null,
   "id": "9b37c22e",
   "metadata": {
    "editable": true,
    "papermill": {
     "duration": 0.201088,
     "end_time": "2024-03-19T00:39:57.555790",
     "exception": false,
     "start_time": "2024-03-19T00:39:57.354702",
     "status": "completed"
    },
    "slideshow": {
     "slide_type": ""
    },
    "tags": []
   },
   "outputs": [],
   "source": [
    "inv_mesh = inversion_mesh(ert_mgr)\n",
    "_, ax = plt.subplots(figsize=(10,8))\n",
    "pygimli.show(inv_mesh, showMesh=True, markers=False, colorBar=False, ax=ax)\n",
    "ax.set_title(\"Mesh used for inversion\");\n",
    "ax.set_xlabel(\"Horizontal Distance (m)\");\n",
    "ax.set_ylabel(\"Elevation (m)\");"
   ]
  },
  {
   "cell_type": "code",
   "execution_count": null,
   "id": "16f0915c",
   "metadata": {
    "editable": true,
    "papermill": {
     "duration": 0.342895,
     "end_time": "2024-03-19T00:39:57.909049",
     "exception": false,
     "start_time": "2024-03-19T00:39:57.566154",
     "status": "completed"
    },
    "slideshow": {
     "slide_type": ""
    },
    "tags": []
   },
   "outputs": [],
   "source": [
    "# PyGIMLi's forward operator (ERTModelling)\n",
    "forward_oprt = ert_forward_operator(ert_mgr, scheme, inv_mesh)\n",
    "\n",
    "# extract regularisation matrix\n",
    "Wm = reg_matrix(forward_oprt)\n",
    "\n",
    "# initialise a starting model for inversion\n",
    "start_model, start_model_log = starting_model(ert_mgr)\n",
    "_, ax = plt.subplots(figsize=(10,8))\n",
    "pygimli.show(ert_mgr.paraDomain, data=start_model, label=\"$\\Omega m$\", showMesh=True, colorBar=False, cMin=170, cMax=230, ax=ax)\n",
    "ax.set_title(\"Starting model\")\n",
    "ax.set_xlabel(\"Horizontal Distance (m)\");\n",
    "ax.set_ylabel(\"Elevation (m)\");\n",
    "colorbar_model(ax, init=True)"
   ]
  },
  {
   "cell_type": "markdown",
   "id": "d33596a5",
   "metadata": {
    "papermill": {
     "duration": 0.010059,
     "end_time": "2024-03-19T00:39:57.929649",
     "exception": false,
     "start_time": "2024-03-19T00:39:57.919590",
     "status": "completed"
    },
    "tags": []
   },
   "source": [
    "The next step is to define the functions for CoFI. Typically, a given inversion solver will only require a subset of the functions we define in the following but in this example we would like to explore a wide range of solvers."
   ]
  },
  {
   "cell_type": "code",
   "execution_count": null,
   "id": "f7ec2601",
   "metadata": {
    "cellView": "form",
    "editable": true,
    "jupyter": {
     "source_hidden": true
    },
    "papermill": {
     "duration": 0.028368,
     "end_time": "2024-03-19T00:39:57.968074",
     "exception": false,
     "start_time": "2024-03-19T00:39:57.939706",
     "status": "completed"
    },
    "slideshow": {
     "slide_type": ""
    },
    "tags": []
   },
   "outputs": [],
   "source": [
    "#@title additional utility functions (hidden)\n",
    "############# Functions provided to CoFI ##############################################\n",
    "\n",
    "## Note: all functions below assume the model in log space!\n",
    "\n",
    "def _ensure_numpy(model):\n",
    "    if \"torch.Tensor\" in str(type(model)):\n",
    "        model = model.cpu().detach().numpy()\n",
    "    return model\n",
    "\n",
    "def get_response(model, forward_operator):\n",
    "    model = _ensure_numpy(model)\n",
    "    return np.log(np.array(forward_operator.response(np.exp(model))))\n",
    "\n",
    "def get_residual(model, log_data, forward_operator):\n",
    "    response = get_response(model, forward_operator)\n",
    "    residual = log_data - response\n",
    "    return residual\n",
    "\n",
    "def get_jacobian(model, forward_operator):\n",
    "    response = get_response(model, forward_operator)\n",
    "    model = _ensure_numpy(model)\n",
    "    forward_operator.createJacobian(np.exp(model))\n",
    "    J = np.array(forward_operator.jacobian())\n",
    "    jac = J / np.exp(response[:, np.newaxis]) * np.exp(model)[np.newaxis, :]\n",
    "    return jac\n",
    "\n",
    "def get_jac_residual(model, log_data, forward_operator):\n",
    "    response = get_response(model, forward_operator)\n",
    "    residual = log_data - response\n",
    "    model = _ensure_numpy(model)\n",
    "    forward_operator.createJacobian(np.exp(model))\n",
    "    J = np.array(forward_operator.jacobian())\n",
    "    jac = J / np.exp(response[:, np.newaxis]) * np.exp(model)[np.newaxis, :]\n",
    "    return jac, residual\n",
    "\n",
    "def get_data_misfit(model, log_data, forward_operator, data_cov_inv=None):\n",
    "    residual = get_residual(model, log_data, forward_operator)\n",
    "    data_cov_inv = np.eye(log_data.shape[0]) if data_cov_inv is None else data_cov_inv\n",
    "    return np.abs(residual.T @ data_cov_inv @ residual)\n",
    "\n",
    "def get_regularization(model, Wm, lamda):\n",
    "    model = _ensure_numpy(model)\n",
    "    model = np.exp(model)\n",
    "    return lamda * (Wm @ model).T @ (Wm @ model)\n",
    "\n",
    "def get_objective(model, log_data, forward_operator, Wm, lamda, data_cov_inv=None):\n",
    "    data_misfit = get_data_misfit(model, log_data, forward_operator, data_cov_inv)\n",
    "    regularization = get_regularization(model, Wm, lamda)\n",
    "    obj = data_misfit + regularization\n",
    "    return obj\n",
    "\n",
    "def get_gradient(model, log_data, forward_operator, Wm, lamda, data_cov_inv=None):\n",
    "    jac, residual = get_jac_residual(model, log_data, forward_operator)\n",
    "    data_cov_inv = np.eye(log_data.shape[0]) if data_cov_inv is None else data_cov_inv\n",
    "    data_misfit_grad =  - residual.T @ data_cov_inv @ jac\n",
    "    regularization_grad = lamda * Wm.T @ Wm @ np.exp(model)\n",
    "    return data_misfit_grad + regularization_grad\n",
    "\n",
    "def get_hessian(model, log_data, forward_operator, Wm, lamda, data_cov_inv=None):\n",
    "    jac = get_jacobian(model, forward_operator)\n",
    "    data_cov_inv = np.eye(log_data.shape[0]) if data_cov_inv is None else data_cov_inv\n",
    "    hess = jac.T @ data_cov_inv @ jac + lamda * Wm.T @ Wm\n",
    "    return hess"
   ]
  },
  {
   "cell_type": "markdown",
   "id": "47809c79",
   "metadata": {
    "papermill": {
     "duration": 0.010995,
     "end_time": "2024-03-19T00:39:57.994265",
     "exception": false,
     "start_time": "2024-03-19T00:39:57.983270",
     "status": "completed"
    },
    "tags": []
   },
   "source": [
    "## CoFI BaseProblem\n",
    "\n",
    "As in the traveltime tomography example, we now use these functions to define our `BaseProblem`."
   ]
  },
  {
   "cell_type": "code",
   "execution_count": null,
   "id": "ad642446",
   "metadata": {
    "editable": true,
    "papermill": {
     "duration": 0.015393,
     "end_time": "2024-03-19T00:39:58.019554",
     "exception": false,
     "start_time": "2024-03-19T00:39:58.004161",
     "status": "completed"
    },
    "slideshow": {
     "slide_type": ""
    },
    "tags": []
   },
   "outputs": [],
   "source": [
    "# hyperparameters\n",
    "lamda = 0.0001\n",
    "\n",
    "# CoFI - define BaseProblem\n",
    "ert_problem = BaseProblem()\n",
    "ert_problem.name = \"Electrical Resistivity Tomography defined through PyGIMLi\"\n",
    "ert_problem.set_forward(get_response, args=[forward_oprt])\n",
    "ert_problem.set_jacobian(get_jacobian, args=[forward_oprt])\n",
    "ert_problem.set_residual(get_residual, args=[log_data, forward_oprt])\n",
    "ert_problem.set_data_misfit(get_data_misfit, args=[log_data, forward_oprt, data_cov_inv])\n",
    "ert_problem.set_regularization(get_regularization, args=[Wm, lamda])\n",
    "ert_problem.set_gradient(get_gradient, args=[log_data, forward_oprt, Wm, lamda, data_cov_inv])\n",
    "ert_problem.set_hessian(get_hessian, args=[log_data, forward_oprt, Wm, lamda, data_cov_inv])\n",
    "ert_problem.set_initial_model(start_model_log)"
   ]
  },
  {
   "cell_type": "markdown",
   "id": "1bf6be08",
   "metadata": {
    "papermill": {
     "duration": 0.009946,
     "end_time": "2024-03-19T00:39:58.039936",
     "exception": false,
     "start_time": "2024-03-19T00:39:58.029990",
     "status": "completed"
    },
    "tags": []
   },
   "source": [
    "With the `BaseProblem` defined, we can ask CoFI to list the solver libraries we can use for our problem."
   ]
  },
  {
   "cell_type": "code",
   "execution_count": null,
   "id": "ab24c24e",
   "metadata": {
    "editable": true,
    "papermill": {
     "duration": 0.2146,
     "end_time": "2024-03-19T00:39:58.264534",
     "exception": false,
     "start_time": "2024-03-19T00:39:58.049934",
     "status": "completed"
    },
    "slideshow": {
     "slide_type": ""
    },
    "tags": []
   },
   "outputs": [],
   "source": [
    "ert_problem.suggest_tools();"
   ]
  },
  {
   "cell_type": "markdown",
   "id": "654a4a50",
   "metadata": {
    "papermill": {
     "duration": 0.010274,
     "end_time": "2024-03-19T00:39:58.285126",
     "exception": false,
     "start_time": "2024-03-19T00:39:58.274852",
     "status": "completed"
    },
    "tags": []
   },
   "source": [
    "From the traveltime tomography example we know that the `cofi.simple_newton` solver worked well so we will try it."
   ]
  },
  {
   "cell_type": "markdown",
   "id": "5a22c30e",
   "metadata": {
    "papermill": {
     "duration": 0.01003,
     "end_time": "2024-03-19T00:39:58.305266",
     "exception": false,
     "start_time": "2024-03-19T00:39:58.295236",
     "status": "completed"
    },
    "tags": []
   },
   "source": [
    "## Newton step\n",
    "\n",
    "The Jacobian and Hessian are only local measures of the first and second derivatives of the objective function and given the ERT inverse problem is non-linear, we can no longer take the full Newton step to compute a model update. In practice:\n",
    "\n",
    "- If the step length is chosen too large we may end up with a model that is non-physical and the forward solver will crash and/or we will overshoot.\n",
    "- If the step size is chosen too small too many iterations might be needed to reach convergence"
   ]
  },
  {
   "cell_type": "code",
   "execution_count": null,
   "id": "ca8172bd",
   "metadata": {
    "papermill": {
     "duration": 9.498753,
     "end_time": "2024-03-19T00:40:07.813956",
     "exception": false,
     "start_time": "2024-03-19T00:39:58.315203",
     "status": "completed"
    },
    "tags": []
   },
   "outputs": [],
   "source": [
    "inv_options_newton = InversionOptions()\n",
    "inv_options_newton.set_tool(\"cofi.simple_newton\")\n",
    "inv_options_newton.set_params(num_iterations=5, step_length=0.01)\n",
    "\n",
    "inv = Inversion(ert_problem, inv_options_newton)\n",
    "inv_result = inv.run()\n",
    "# inv_result.summary()\n",
    "print(f\"\\nNumber of objective function evaluations: {inv_result.n_obj_evaluations}\")\n",
    "print(f\"Number of gradient function evaluations: {inv_result.n_grad_evaluations}\")\n",
    "print(f\"Number of hessian function evaluations: {inv_result.n_hess_evaluations}\")\n",
    "\n",
    "plot_result(inv_result, \"Newton Step\")"
   ]
  },
  {
   "cell_type": "markdown",
   "id": "b0afca21",
   "metadata": {
    "papermill": {
     "duration": 0.055893,
     "end_time": "2024-03-19T00:40:07.883865",
     "exception": false,
     "start_time": "2024-03-19T00:40:07.827972",
     "status": "completed"
    },
    "tags": []
   },
   "source": [
    "### Convergence of Newton's Method - A pathological example\n",
    "A simple illustrative example of the limitations around Newton's method is finding the $x$ where $f(x)=0$ for the following non-convex function:\n",
    "\n",
    "$f(x) = x^3 − 2x + 2$, with $\\nabla f(x) = 3x^2 -2$ and $H_f(x) = 6 x $\n",
    "\n",
    "If we start with $x=0$ or $x=1$ the result will oscillate between 0 and 1 and never converge to the correct solution of $x\\approx -1.77$\n",
    "\n",
    "#### Further reading\n",
    "\n",
    "https://math.libretexts.org/Bookshelves/Calculus/Book%3A_Calculus_(OpenStax)/04%3A_Applications_of_Derivatives/4.09%3A_Newtons_Method"
   ]
  },
  {
   "cell_type": "code",
   "execution_count": null,
   "id": "954b7432",
   "metadata": {
    "papermill": {
     "duration": 0.045394,
     "end_time": "2024-03-19T00:40:07.941305",
     "exception": false,
     "start_time": "2024-03-19T00:40:07.895911",
     "status": "completed"
    },
    "tags": []
   },
   "outputs": [],
   "source": [
    "import scipy\n",
    "x0=0.1\n",
    "scipy.optimize.newton(lambda x: x**3-2*x+2, x0, fprime=lambda x: 3 * x**2-2,\n",
    "                       fprime2=lambda x: 6 * x,full_output=True, disp=True,maxiter=51)"
   ]
  },
  {
   "cell_type": "markdown",
   "id": "fce3ce19",
   "metadata": {
    "papermill": {
     "duration": 0.017419,
     "end_time": "2024-03-19T00:40:07.970873",
     "exception": false,
     "start_time": "2024-03-19T00:40:07.953454",
     "status": "completed"
    },
    "tags": []
   },
   "source": [
    "PyGIMLi uses a line search to determine the optimal step length, that means the descent direction is given by the full Newton Step with the length adjusted so that it does not overshoot and results in an improvement of the fit to the data. The major alternative to employing a line search is to employ a trust region method. Trust regions methods try to estimate the region around the current model within which the assumption of local linearity holds and then limit the model update to stay within that region. \n",
    "\n",
    "\n",
    "#### Further reading\n",
    "\n",
    "https://medium.com/intro-to-artificial-intelligence/line-search-and-trust-region-optimisation-strategies-638a4a7490ca"
   ]
  },
  {
   "cell_type": "markdown",
   "id": "3d9fd7d8",
   "metadata": {
    "papermill": {
     "duration": 0.012607,
     "end_time": "2024-03-19T00:40:08.019191",
     "exception": false,
     "start_time": "2024-03-19T00:40:08.006584",
     "status": "completed"
    },
    "tags": []
   },
   "source": [
    "## First challenge\n",
    "\n",
    "CoFI provides access to more sophisticated solvers that are available in \n",
    "- `scipy.optimize.minimize` https://docs.scipy.org/doc/scipy/reference/generated/scipy.optimize.minimize.html\n",
    "\n",
    "For practical application we are interested in a solver that converges  with the fewest calls to the forward problem to a model that is acceptably close to the true model and explains the data. The consequence of employing a line search or trust region method or more broadly any method seeking to find the optimal step length is that typically additional calls to a forward problem need to be made to determine the optimal step length and different approaches require different numbers of calls to the forward problem depending on the shape of the objective function.\n",
    "\n",
    "*Which of the solvers from `scipy.optimize.minimize` result in an acceptable model with the fewest calls to the forward solver to compute the model response and to the forward solver to compute the Jacobian? We suggest to start with the following three solvers.*\n",
    "  - \"newton-cg\" - https://docs.scipy.org/doc/scipy/reference/optimize.minimize-newtoncg.html\n",
    "  - \"dogleg\" - https://docs.scipy.org/doc/scipy/reference/optimize.minimize-dogleg.html\n",
    "  - \"trust-ncg\"- https://docs.scipy.org/doc/scipy/reference/optimize.minimize-trustncg.html\n",
    "\n",
    "  \n",
    "[![Upload to Excalidraw_1](https://img.shields.io/badge/Click%20&%20upload%20your%20results%20to-Excalidraw-lightgrey?logo=jamboard&style=for-the-badge&color=fcbf49&labelColor=edede9)](https://excalidraw.com/#room=7b1714bef70e8ea681fe,-tOn8_drkRknEzfJdPJ7kg)\n"
   ]
  },
  {
   "cell_type": "code",
   "execution_count": null,
   "id": "f06885fd",
   "metadata": {
    "cellView": "form",
    "jupyter": {
     "source_hidden": true
    },
    "papermill": {
     "duration": 0.024179,
     "end_time": "2024-03-19T00:40:08.055425",
     "exception": false,
     "start_time": "2024-03-19T00:40:08.031246",
     "status": "completed"
    },
    "tags": []
   },
   "outputs": [],
   "source": [
    "#@title RUN ME - Utility Callback Function (hidden, no need to change)\n",
    "\n",
    "class CallbackFunction:\n",
    "    def __init__(self):\n",
    "        self.x = None\n",
    "        self.i = 0\n",
    "\n",
    "    def __call__(self, xk):\n",
    "        print(f\"Iteration #{self.i+1}\")\n",
    "        if self.x is not None:\n",
    "            print(f\"  model change: {np.linalg.norm(xk - self.x)}\")\n",
    "        print(f\"  objective value: {ert_problem.objective(xk)}\")\n",
    "        self.x = xk\n",
    "        self.i += 1"
   ]
  },
  {
   "cell_type": "markdown",
   "id": "cff5073f",
   "metadata": {
    "papermill": {
     "duration": 0.011978,
     "end_time": "2024-03-19T00:40:08.079506",
     "exception": false,
     "start_time": "2024-03-19T00:40:08.067528",
     "status": "completed"
    },
    "tags": []
   },
   "source": [
    "You may start from the following template:\n",
    "\n",
    "```\n",
    "inv_options_scipy = InversionOptions()\n",
    "inv_options_scipy.set_tool(\"scipy.optimize.minimize\")\n",
    "inv_options_scipy.set_params(method=\"CHANGE ME\", options={\"maxiter\": 5}, callback=CallbackFunction())\n",
    "\n",
    "inv = Inversion(ert_problem, inv_options_scipy)\n",
    "inv_result = inv.run()\n",
    "# inv_result.summary()\n",
    "#print(f\"\\nSolver message: {inv_result.message}\")\n",
    "print(f\"\\nNumber of objective function evaluations: {inv_result.nfev}\")\n",
    "print(f\"Number of gradient function evaluations: {inv_result.njev}\")\n",
    "print(f\"Number of hessian function evaluations: {inv_result.nhev}\")\n",
    "\n",
    "plot_result(inv_result, \"CHANGE ME\")\n",
    "```"
   ]
  },
  {
   "cell_type": "code",
   "execution_count": null,
   "id": "5bbafd5f",
   "metadata": {
    "papermill": {
     "duration": 0.045991,
     "end_time": "2024-03-19T00:40:08.139246",
     "exception": false,
     "start_time": "2024-03-19T00:40:08.093255",
     "status": "completed"
    },
    "tags": []
   },
   "outputs": [],
   "source": [
    "# Copy the template above, Replace <CHANGE ME> with your answer\n",
    "\n"
   ]
  },
  {
   "cell_type": "code",
   "execution_count": null,
   "id": "96471d87",
   "metadata": {
    "cellView": "form",
    "jupyter": {
     "source_hidden": true
    },
    "papermill": {
     "duration": 14.321677,
     "end_time": "2024-03-19T00:40:22.473190",
     "exception": false,
     "start_time": "2024-03-19T00:40:08.151513",
     "status": "completed"
    },
    "tags": []
   },
   "outputs": [],
   "source": [
    "#@title Solution: scipy.optimize.minimize 'newton-cg' \n",
    "\n",
    "inv_options_scipy = InversionOptions()\n",
    "inv_options_scipy.set_tool(\"scipy.optimize.minimize\")\n",
    "inv_options_scipy.set_params(method=\"newton-cg\", options={\"maxiter\": 5}, callback=CallbackFunction())\n",
    "\n",
    "inv = Inversion(ert_problem, inv_options_scipy)\n",
    "inv_result = inv.run()\n",
    "# inv_result.summary()\n",
    "#print(f\"\\nSolver message: {inv_result.message}\")\n",
    "print(f\"\\nNumber of objective function evaluations: {inv_result.nfev}\")\n",
    "print(f\"Number of gradient function evaluations: {inv_result.njev}\")\n",
    "print(f\"Number of hessian function evaluations: {inv_result.nhev}\")\n",
    "\n",
    "plot_result(inv_result, \"newton-cg\")"
   ]
  },
  {
   "cell_type": "code",
   "execution_count": null,
   "id": "b3624a50",
   "metadata": {
    "cellView": "form",
    "jupyter": {
     "source_hidden": true
    },
    "papermill": {
     "duration": 10.896491,
     "end_time": "2024-03-19T00:40:33.385799",
     "exception": false,
     "start_time": "2024-03-19T00:40:22.489308",
     "status": "completed"
    },
    "tags": []
   },
   "outputs": [],
   "source": [
    "#@title Solution: scipy.optimize.minimize 'dogleg' \n",
    "\n",
    "inv_options_scipy = InversionOptions()\n",
    "inv_options_scipy.set_tool(\"scipy.optimize.minimize\")\n",
    "inv_options_scipy.set_params(method=\"dogleg\", options={\"maxiter\": 5}, callback=CallbackFunction())\n",
    "    \n",
    "inv = Inversion(ert_problem, inv_options_scipy)\n",
    "inv_result = inv.run()\n",
    "# inv_result.summary()\n",
    "print(f\"\\nNumber of objective function evaluations: {inv_result.nfev}\")\n",
    "print(f\"Number of gradient function evaluations: {inv_result.njev}\")\n",
    "print(f\"Number of hessian function evaluations: {inv_result.nhev}\")\n",
    "\n",
    "plot_result(inv_result, \"dogleg\")"
   ]
  },
  {
   "cell_type": "code",
   "execution_count": null,
   "id": "f3d6db8b",
   "metadata": {
    "cellView": "form",
    "jupyter": {
     "source_hidden": true
    },
    "papermill": {
     "duration": 19.88476,
     "end_time": "2024-03-19T00:40:53.288591",
     "exception": false,
     "start_time": "2024-03-19T00:40:33.403831",
     "status": "completed"
    },
    "tags": []
   },
   "outputs": [],
   "source": [
    "#@title Solution: scipy.optimize.minimize 'trust-krylov' \n",
    "\n",
    "inv_options_scipy = InversionOptions()\n",
    "inv_options_scipy.set_tool(\"scipy.optimize.minimize\")\n",
    "inv_options_scipy.set_params(method=\"trust-krylov\", options={\"maxiter\": 5}, callback=CallbackFunction())\n",
    "\n",
    "inv = Inversion(ert_problem, inv_options_scipy)\n",
    "inv_result = inv.run()\n",
    "# inv_result.summary()\n",
    "print(f\"\\nNumber of objective function evaluations: {inv_result.nfev}\")\n",
    "print(f\"Number of gradient function evaluations: {inv_result.njev}\")\n",
    "print(f\"Number of hessian function evaluations: {inv_result.nhev}\")\n",
    "\n",
    "plot_result(inv_result, \"trust-krylov\")"
   ]
  },
  {
   "cell_type": "markdown",
   "id": "2b148e1b",
   "metadata": {
    "papermill": {
     "duration": 0.036094,
     "end_time": "2024-03-19T00:40:53.345138",
     "exception": false,
     "start_time": "2024-03-19T00:40:53.309044",
     "status": "completed"
    },
    "tags": []
   },
   "source": [
    "## Second challenge\n",
    "\n",
    "Iterative non linear optimisers can get trapped in a local minima, particularly if there is noise present in the data or the forward problem. The basic idea around momentum based solvers is that they account for the history of the parameter updates similarly to a ball rolling down a hill gaining momentum. They do this by computing a weighted average over past gradients. \n",
    "https://optimization.cbe.cornell.edu/index.php?title=Momentum\n",
    "\n",
    "The ADAM optimiser and it variants implement such a momentum approach and are frequently used in deep learning applications, for example to train a deep neural network.\n",
    "https://optimization.cbe.cornell.edu/index.php?title=Adam\n",
    "\n",
    "Here we will use the RAdam solver provided by pytorch and seek to find an optimal choice for the learning rate\n",
    "https://pytorch.org/docs/stable/generated/torch.optim.RAdam.html\n",
    "\n",
    "*Try to use `RAdam` from `torch.optim` and time permitting see if you can find a better value for the learning rate `lr=` which plays a similar role as the step length.*\n",
    "\n",
    "\n",
    " \n",
    "[![Upload to Excalidraw_1](https://img.shields.io/badge/Click%20&%20upload%20your%20results%20to-Excalidraw-lightgrey?logo=jamboard&style=for-the-badge&color=fcbf49&labelColor=edede9)](https://excalidraw.com/#room=eef0bcffba01a3457231,Cm-JfEUcm-PlzmOD4NYyPA)\n",
    "\n",
    " \n",
    "You may start from this template:\n",
    "\n",
    "```\n",
    "inv_options_torch = InversionOptions()\n",
    "inv_options_torch.set_tool(\"CHANGE ME\")\n",
    "inv_options_torch.set_params(algorithm=\"CHANGE ME\", lr=0.025, num_iterations=10, verbose=True)\n",
    "\n",
    "inv = Inversion(ert_problem, inv_options_torch)\n",
    "inv_result = inv.run()\n",
    "# inv_result.summary()\n",
    "print(f\"\\nNumber of objective function evaluations: {inv_result.n_obj_evaluations}\")\n",
    "print(f\"Number of gradient function evaluations: {inv_result.n_grad_evaluations}\")\n",
    "\n",
    "plot_result(inv_result, \"CHANGE ME\")\n",
    "```"
   ]
  },
  {
   "cell_type": "code",
   "execution_count": null,
   "id": "8619f107",
   "metadata": {
    "papermill": {
     "duration": 0.022692,
     "end_time": "2024-03-19T00:40:53.391460",
     "exception": false,
     "start_time": "2024-03-19T00:40:53.368768",
     "status": "completed"
    },
    "tags": []
   },
   "outputs": [],
   "source": [
    "# Copy the template above, Replace <CHANGE ME> with your answer\n",
    "\n"
   ]
  },
  {
   "cell_type": "code",
   "execution_count": null,
   "id": "774b32d9",
   "metadata": {
    "cellView": "form",
    "jupyter": {
     "source_hidden": true
    },
    "papermill": {
     "duration": 11.993753,
     "end_time": "2024-03-19T00:41:05.403678",
     "exception": false,
     "start_time": "2024-03-19T00:40:53.409925",
     "status": "completed"
    },
    "tags": []
   },
   "outputs": [],
   "source": [
    "#@title Solution: torch.optim 'RAdam' \n",
    "inv_options_torch = InversionOptions()\n",
    "inv_options_torch.set_tool(\"torch.optim\")\n",
    "inv_options_torch.set_params(algorithm=\"RAdam\", lr=0.025, num_iterations=10, verbose=True)\n",
    "\n",
    "inv = Inversion(ert_problem, inv_options_torch)\n",
    "inv_result = inv.run()\n",
    "# inv_result.summary()\n",
    "print(f\"\\nNumber of objective function evaluations: {inv_result.n_obj_evaluations}\")\n",
    "print(f\"Number of gradient function evaluations: {inv_result.n_grad_evaluations}\")\n",
    "\n",
    "plot_result(inv_result, \"RAdam\")"
   ]
  },
  {
   "cell_type": "markdown",
   "id": "875934d6",
   "metadata": {
    "papermill": {
     "duration": 0.027588,
     "end_time": "2024-03-19T00:41:05.453977",
     "exception": false,
     "start_time": "2024-03-19T00:41:05.426389",
     "status": "completed"
    },
    "tags": []
   },
   "source": [
    "## A word about convergence criteria...\n",
    "\n",
    "We have run each solver for a predetermined number of iterations and the rate at which the value of the objective function decreased was different for the different solvers. Typically, iterative non-linear algorithms terminate their iterations when a predefined fit to the data, minimum update to the model or minimum increase in fit to the data is achieved between subsequent iterations.\n"
   ]
  },
  {
   "cell_type": "markdown",
   "id": "77ae5f3e",
   "metadata": {
    "papermill": {
     "duration": 0.027773,
     "end_time": "2024-03-19T00:41:05.504678",
     "exception": false,
     "start_time": "2024-03-19T00:41:05.476905",
     "status": "completed"
    },
    "tags": []
   },
   "source": [
    "## Where to next?\n",
    "\n",
    "- Induced polarisation example with a real dataset!  - [link to notebook](https://github.com/inlab-geo/cofi-examples/blob/main/examples/pygimli_dcip/pygimli_dcip_century_tri_mesh.ipynb)\n"
   ]
  },
  {
   "cell_type": "markdown",
   "id": "4ac7cdd5",
   "metadata": {
    "papermill": {
     "duration": 0.020489,
     "end_time": "2024-03-19T00:41:05.569809",
     "exception": false,
     "start_time": "2024-03-19T00:41:05.549320",
     "status": "completed"
    },
    "tags": []
   },
   "source": [
    "## Watermark"
   ]
  },
  {
   "cell_type": "code",
   "execution_count": null,
   "id": "aef3138f",
   "metadata": {
    "papermill": {
     "duration": 0.026303,
     "end_time": "2024-03-19T00:41:05.616578",
     "exception": false,
     "start_time": "2024-03-19T00:41:05.590275",
     "status": "completed"
    },
    "tags": []
   },
   "outputs": [],
   "source": [
    "watermark_list = [\"cofi\", \"numpy\", \"scipy\", \"pygimli\", \"torch\", \"matplotlib\"]\n",
    "for pkg in watermark_list:\n",
    "    pkg_var = __import__(pkg)\n",
    "    print(pkg, getattr(pkg_var, \"__version__\"))"
   ]
  }
 ],
 "metadata": {
  "kernelspec": {
   "display_name": "Python 3 (ipykernel)",
   "language": "python",
   "name": "python3"
  },
  "language_info": {
   "codemirror_mode": {
    "name": "ipython",
    "version": 3
   },
   "file_extension": ".py",
   "mimetype": "text/x-python",
   "name": "python",
   "nbconvert_exporter": "python",
   "pygments_lexer": "ipython3",
   "version": "3.13.3"
  },
  "papermill": {
   "default_parameters": {},
   "duration": 70.997167,
   "end_time": "2024-03-19T00:41:06.253563",
   "environment_variables": {},
   "exception": null,
   "input_path": "/home/jiawen/test/cofi-examples/tutorials/3_electrical_resistivity_tomography.ipynb",
   "output_path": "/home/jiawen/test/cofi-examples/tutorials/3_electrical_resistivity_tomography.ipynb",
   "parameters": {},
   "start_time": "2024-03-19T00:39:55.256396",
   "version": "2.4.0"
  },
  "vscode": {
   "interpreter": {
    "hash": "397704579725e15f5c7cb49fe5f0341eb7531c82d19f2c29d197e8b64ab5776b"
   }
  }
 },
 "nbformat": 4,
 "nbformat_minor": 5
}
