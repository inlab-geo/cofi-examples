{
 "cells": [
  {
   "cell_type": "markdown",
   "id": "0c20824a",
   "metadata": {
    "papermill": {
     "duration": 0.008726,
     "end_time": "2024-03-19T00:38:47.311179",
     "exception": false,
     "start_time": "2024-03-19T00:38:47.302453",
     "status": "completed"
    },
    "tags": []
   },
   "source": [
    "# Linear regression"
   ]
  },
  {
   "cell_type": "markdown",
   "id": "dfea3c18",
   "metadata": {
    "papermill": {
     "duration": 0.007741,
     "end_time": "2024-03-19T00:38:47.326800",
     "exception": false,
     "start_time": "2024-03-19T00:38:47.319059",
     "status": "completed"
    },
    "tags": []
   },
   "source": [
    "[![Open In Colab](https://img.shields.io/badge/open%20in-Colab-b5e2fa?logo=googlecolab&style=flat-square&color=ffd670)](https://colab.research.google.com/github/inlab-geo/cofi-examples/blob/main/tutorials/linear_regression/linear_regression.ipynb)"
   ]
  },
  {
   "cell_type": "markdown",
   "id": "ea9a2fb0",
   "metadata": {
    "papermill": {
     "duration": 0.007557,
     "end_time": "2024-03-19T00:38:47.342386",
     "exception": false,
     "start_time": "2024-03-19T00:38:47.334829",
     "status": "completed"
    },
    "tags": []
   },
   "source": [
    "---\n",
    "\n",
    "## What we do in this notebook\n",
    "Here we demonstrate use of CoFI on a simple **linear regression** problem, where we fit a polynomial function to data, using three different algorithms:\n",
    "\n",
    "- by solution of a linear system of equations,\n",
    "- by optimization of a data misfit function\n",
    "- by Bayesian sampling of a Likelihood multiplied by a prior.\n",
    "\n",
    "---\n",
    "\n",
    "## Learning outcomes \n",
    "\n",
    "- A demonstration of running CoFI for a class of parameter fitting problem.  Example of a CoFI **template**.\n",
    "- A demonstration of how CoFI may be used to  **experiment with different inference approaches** under a common interface.\n",
    "- A demonstration of CoFI's **expandability** in that it may be used with pre-set, or user defined, misfits, likelihood or priors.  \n"
   ]
  },
  {
   "cell_type": "code",
   "execution_count": null,
   "id": "bff01cea",
   "metadata": {
    "papermill": {
     "duration": 0.011531,
     "end_time": "2024-03-19T00:38:47.361506",
     "exception": false,
     "start_time": "2024-03-19T00:38:47.349975",
     "status": "completed"
    },
    "tags": []
   },
   "outputs": [],
   "source": [
    "# Environment setup (uncomment code below)\n",
    "\n",
    "# !pip install -U cofi"
   ]
  },
  {
   "cell_type": "markdown",
   "id": "bfa540ce",
   "metadata": {
    "papermill": {
     "duration": 0.007598,
     "end_time": "2024-03-19T00:38:47.377186",
     "exception": false,
     "start_time": "2024-03-19T00:38:47.369588",
     "status": "completed"
    },
    "tags": []
   },
   "source": [
    "## Linear regression\n",
    "\n",
    "Lets start with some (x,y) data."
   ]
  },
  {
   "cell_type": "code",
   "execution_count": null,
   "id": "afab1163",
   "metadata": {
    "papermill": {
     "duration": 0.337556,
     "end_time": "2024-03-19T00:38:47.722360",
     "exception": false,
     "start_time": "2024-03-19T00:38:47.384804",
     "status": "completed"
    },
    "tags": []
   },
   "outputs": [],
   "source": [
    "import numpy as np\n",
    "import matplotlib.pyplot as plt"
   ]
  },
  {
   "cell_type": "code",
   "execution_count": null,
   "id": "4d9b5eaf",
   "metadata": {
    "papermill": {
     "duration": 0.013834,
     "end_time": "2024-03-19T00:38:47.744240",
     "exception": false,
     "start_time": "2024-03-19T00:38:47.730406",
     "status": "completed"
    },
    "tags": []
   },
   "outputs": [],
   "source": [
    "# here is some (x,y) data\n",
    "data_x = np.array([1.1530612244897958, -0.07142857142857162, -1.7857142857142858, \n",
    "                1.6428571428571423, -2.642857142857143, -1.0510204081632653, \n",
    "                1.1530612244897958, -1.295918367346939, -0.806122448979592, \n",
    "                -2.2755102040816326, -2.2755102040816326, -0.6836734693877551, \n",
    "                0.7857142857142856, 1.2755102040816322, -0.6836734693877551, \n",
    "                -3.2551020408163267, -0.9285714285714288, -3.377551020408163, \n",
    "                -0.6836734693877551, 1.7653061224489797])\n",
    "\n",
    "data_y = np.array([-7.550931153863841, -6.060810406314714, 3.080063056254076, \n",
    "                -4.499764131508964, 2.9462042659962333, -0.4645899453212615, \n",
    "                -7.43068837808917, 1.6273774547833582, -0.05922697815443567, \n",
    "                3.8462283231266903, 3.425851020301113, -0.05359797104829345, \n",
    "                -10.235538857712598, -5.929113775071286, -1.1871766078924957, \n",
    "                -4.124258811692425, 0.6969191559961637, -4.454022624935177, \n",
    "                -2.352842192972056, -4.25145590011172])\n",
    "sigma = 1   # estimation on the data noise"
   ]
  },
  {
   "cell_type": "markdown",
   "id": "c9264e92",
   "metadata": {
    "papermill": {
     "duration": 0.007577,
     "end_time": "2024-03-19T00:38:47.759887",
     "exception": false,
     "start_time": "2024-03-19T00:38:47.752310",
     "status": "completed"
    },
    "tags": []
   },
   "source": [
    "And now lets plot the data."
   ]
  },
  {
   "cell_type": "code",
   "execution_count": null,
   "id": "85091ea9",
   "metadata": {
    "papermill": {
     "duration": 0.128365,
     "end_time": "2024-03-19T00:38:47.895865",
     "exception": false,
     "start_time": "2024-03-19T00:38:47.767500",
     "status": "completed"
    },
    "tags": []
   },
   "outputs": [],
   "source": [
    "def plot_data(sigma=None):\n",
    "    if(sigma is None):\n",
    "        plt.scatter(data_x, data_y, color=\"lightcoral\", label=\"observed data\")\n",
    "    else:\n",
    "        plt.errorbar(data_x, data_y, yerr=sigma, fmt='.',color=\"lightcoral\",ecolor='lightgrey',ms=10)\n",
    "plot_data()"
   ]
  },
  {
   "cell_type": "markdown",
   "id": "451698d6",
   "metadata": {
    "papermill": {
     "duration": 0.007802,
     "end_time": "2024-03-19T00:38:47.912520",
     "exception": false,
     "start_time": "2024-03-19T00:38:47.904718",
     "status": "completed"
    },
    "tags": []
   },
   "source": [
    "## Problem description\n",
    "\n",
    "To begin with, we will work with polynomial curves, $$y(x) = \\sum_{j=0}^M m_j x^j\\,.$$\n",
    "Here, $M$ is the 'order' of the polynomial: if $M=1$ we have a straight line with 2 parameters, if $M=2$ it will be a quadratic with 3 parameters, and so on. The $m_j, (j=0,\\dots M)$ are the 'model coefficients' that we seek to constrain from the data.\n",
    "\n",
    "For this class of problem the forward operator takes the following form:\n",
    "\n",
    "$$\\left(\\begin{array}{c}y_0\\\\y_1\\\\\\vdots\\\\y_N\\end{array}\\right) = \\left(\\begin{array}{ccc}1&x_0&x_0^2&x_0^3\\\\1&x_1&x_1^2&x_1^3\\\\\\vdots&\\vdots&\\vdots\\\\1&x_N&x_N^2&x_N^3\\end{array}\\right)\\left(\\begin{array}{c}m_0\\\\m_1\\\\m_2\\\\m_3\\end{array}\\right)$$\n",
    "\n",
    "\n",
    "This clearly has the required general form, $\\mathbf{d} =G{\\mathbf m}$.\n",
    "\n",
    "where:\n",
    "\n",
    "- $\\textbf{d}$ is the vector of data values, ($y_0,y_1,\\dots,y_N$);\n",
    "- $\\textbf{m}$ is the vector of model parameters, ($m_0,m_1,m_2$);\n",
    "- $G$ is the basis matrix (or design matrix) of this linear regression problem (also called the ***Jacobian*** matrix for this linear problem).\n",
    "\n",
    "\n",
    "\n",
    "We have a set of noisy data values, $y_i (i=0,\\dots,N)$, measured at known locations, $x_i (i=0,\\dots,N)$, and wish to find the best fit degree 3 polynomial.\n",
    "\n",
    "The function that generated our data is : $y=-6-5x+2x^2+x^3$, and we have added Gaussian random noise, ${\\cal N}(0,\\sigma^2)$, with $\\sigma=1.0$."
   ]
  },
  {
   "cell_type": "markdown",
   "id": "a5bb1ebe",
   "metadata": {
    "papermill": {
     "duration": 0.007717,
     "end_time": "2024-03-19T00:38:47.928004",
     "exception": false,
     "start_time": "2024-03-19T00:38:47.920287",
     "status": "completed"
    },
    "tags": []
   },
   "source": [
    "We now build the Jacobian/G matrix for this problem and define a forward function which simply multiplies $\\mathbf m$ by $G$."
   ]
  },
  {
   "cell_type": "code",
   "execution_count": null,
   "id": "090a6cf4",
   "metadata": {
    "papermill": {
     "duration": 0.012481,
     "end_time": "2024-03-19T00:38:47.948234",
     "exception": false,
     "start_time": "2024-03-19T00:38:47.935753",
     "status": "completed"
    },
    "tags": []
   },
   "outputs": [],
   "source": [
    "nparams = 4 # Number of model parameters to be solved for\n",
    "\n",
    "def jacobian(x=data_x, n=nparams):\n",
    "    return np.array([x**i for i in range(n)]).T\n",
    "\n",
    "def forward(model):\n",
    "    return jacobian().dot(model)\n",
    "\n",
    "def Cd_inv(sigma=sigma, ndata=len(data_x)):\n",
    "    return 1/sigma**2 * np.identity(ndata)"
   ]
  },
  {
   "cell_type": "markdown",
   "id": "b4c82ad7",
   "metadata": {
    "papermill": {
     "duration": 0.007863,
     "end_time": "2024-03-19T00:38:47.963975",
     "exception": false,
     "start_time": "2024-03-19T00:38:47.956112",
     "status": "completed"
    },
    "tags": []
   },
   "source": [
    "Define the true model for later."
   ]
  },
  {
   "cell_type": "code",
   "execution_count": null,
   "id": "256db79b",
   "metadata": {
    "papermill": {
     "duration": 0.011927,
     "end_time": "2024-03-19T00:38:47.983664",
     "exception": false,
     "start_time": "2024-03-19T00:38:47.971737",
     "status": "completed"
    },
    "tags": []
   },
   "outputs": [],
   "source": [
    "# True model for plotting\n",
    "x = np.linspace(-3.5,2.5)              # x values to plot\n",
    "true_model = np.array([-6, -5, 2, 1])  # we know it for this case which will be useful later for comparison.\n",
    "\n",
    "true_y = jacobian(x,4).dot(true_model) # y values for true curve"
   ]
  },
  {
   "cell_type": "markdown",
   "id": "294ba6bf",
   "metadata": {
    "papermill": {
     "duration": 0.007769,
     "end_time": "2024-03-19T00:38:47.999256",
     "exception": false,
     "start_time": "2024-03-19T00:38:47.991487",
     "status": "completed"
    },
    "tags": []
   },
   "source": [
    "Now lets plot the data with the curve from the true polynomial coefficients."
   ]
  },
  {
   "cell_type": "code",
   "execution_count": null,
   "id": "ac253cf3",
   "metadata": {
    "papermill": {
     "duration": 0.013249,
     "end_time": "2024-03-19T00:38:48.020672",
     "exception": false,
     "start_time": "2024-03-19T00:38:48.007423",
     "status": "completed"
    },
    "tags": []
   },
   "outputs": [],
   "source": [
    "# Some plotting utilities\n",
    "def plot_model(x,y, label, color=None):\n",
    "    #x = np.linspace(-3.5,2.5)\n",
    "    #y = jacobian(x).dot(model)\n",
    "    plt.plot(x, y, color=color or \"green\", label=label)\n",
    "    plt.xlabel(\"X\")\n",
    "    plt.ylabel(\"Y\")\n",
    "    plt.legend()\n",
    "\n",
    "def plot_models(models, label=\"Posterior samples\", color=\"seagreen\", alpha=0.1):\n",
    "    x = np.linspace(-3.5,2.5)\n",
    "    G = jacobian(x)\n",
    "    plt.plot(x, G.dot(models[0]), color=color, label=label, alpha=alpha)\n",
    "    for m in models:\n",
    "        plt.plot(x, G.dot(m), color=color, alpha=alpha)\n",
    "    plt.xlabel(\"X\")\n",
    "    plt.ylabel(\"Y\")\n",
    "    plt.legend()"
   ]
  },
  {
   "cell_type": "code",
   "execution_count": null,
   "id": "d9902849",
   "metadata": {
    "papermill": {
     "duration": 0.12557,
     "end_time": "2024-03-19T00:38:48.154514",
     "exception": false,
     "start_time": "2024-03-19T00:38:48.028944",
     "status": "completed"
    },
    "tags": []
   },
   "outputs": [],
   "source": [
    "plot_data(sigma=sigma)\n",
    "plot_model(x,true_y, \"true model\")"
   ]
  },
  {
   "cell_type": "markdown",
   "id": "5ee936e7",
   "metadata": {
    "papermill": {
     "duration": 0.008186,
     "end_time": "2024-03-19T00:38:48.172370",
     "exception": false,
     "start_time": "2024-03-19T00:38:48.164184",
     "status": "completed"
    },
    "tags": []
   },
   "source": [
    "Now we have the data and the forward model we can start to try and estimate the coefficients of the polynomial from the data."
   ]
  },
  {
   "cell_type": "markdown",
   "id": "dd55d331",
   "metadata": {
    "papermill": {
     "duration": 0.008029,
     "end_time": "2024-03-19T00:38:48.188481",
     "exception": false,
     "start_time": "2024-03-19T00:38:48.180452",
     "status": "completed"
    },
    "tags": []
   },
   "source": [
    "## The structure of CoFI <a name=\"CoFI-structure\"></a>\n",
    "In the workflow of `cofi`, there are three main \n",
    "components: `BaseProblem`, `InversionOptions`, and `Inversion`.\n",
    "\n",
    "- `BaseProblem` defines the inverse problem including any user supplied quantities such as data vector, number of model parameters and measure of fit between model predictions and data. \n",
    "\n",
    "    ```python\n",
    "    inv_problem = BaseProblem()\n",
    "    inv_problem.set_objective(some_function_here)\n",
    "    inv_problem.set_jacobian(some_function_here)\n",
    "    inv_problem.set_initial_model(a_starting_point) # if needed, e.g. we are solving a nonlinear problem by optimization\n",
    "    ```\n",
    "    \n",
    "    &nbsp; \n",
    "- `InversionOptions` describes details about how one wants to run the inversion, including the backend tool and solver-specific parameters. It is based on the concept of a `method` and `tool`.\n",
    "\n",
    "    ```python\n",
    "    inv_options = InversionOptions()\n",
    "    inv_options.suggest_solving_methods()\n",
    "    inv_options.set_solving_method(\"matrix solvers\")\n",
    "    inv_options.suggest_tools()\n",
    "    inv_options.set_tool(\"scipy.linalg.lstsq\")\n",
    "    inv_options.summary()\n",
    "    ```\n",
    "\n",
    "    &nbsp; \n",
    "- `Inversion` can be seen as an inversion engine that takes in the above two as information,\n",
    "  and will produce an `InversionResult` upon running.\n",
    "  \n",
    "    ```python\n",
    "    inv = Inversion(inv_problem, inv_options)\n",
    "    result = inv.run()\n",
    "    ```\n",
    " \n",
    " Internally CoFI decides the nature of the problem from the quantities set by the user and performs internal checks to ensure it has all that it needs to solve a problem."
   ]
  },
  {
   "cell_type": "markdown",
   "id": "9d2abdff",
   "metadata": {
    "papermill": {
     "duration": 0.008092,
     "end_time": "2024-03-19T00:38:48.204775",
     "exception": false,
     "start_time": "2024-03-19T00:38:48.196683",
     "status": "completed"
    },
    "tags": []
   },
   "source": [
    "## 1. Linear system solver"
   ]
  },
  {
   "cell_type": "code",
   "execution_count": null,
   "id": "f34172ed",
   "metadata": {
    "papermill": {
     "duration": 0.044578,
     "end_time": "2024-03-19T00:38:48.257401",
     "exception": false,
     "start_time": "2024-03-19T00:38:48.212823",
     "status": "completed"
    },
    "tags": []
   },
   "outputs": [],
   "source": [
    "from cofi import BaseProblem, InversionOptions, Inversion"
   ]
  },
  {
   "cell_type": "markdown",
   "id": "5aec992c",
   "metadata": {
    "papermill": {
     "duration": 0.008127,
     "end_time": "2024-03-19T00:38:48.274113",
     "exception": false,
     "start_time": "2024-03-19T00:38:48.265986",
     "status": "completed"
    },
    "tags": []
   },
   "source": [
    "### Step 1. Define CoFI `BaseProblem`"
   ]
  },
  {
   "cell_type": "code",
   "execution_count": null,
   "id": "339a6353",
   "metadata": {
    "papermill": {
     "duration": 0.012439,
     "end_time": "2024-03-19T00:38:48.294630",
     "exception": false,
     "start_time": "2024-03-19T00:38:48.282191",
     "status": "completed"
    },
    "tags": []
   },
   "outputs": [],
   "source": [
    "inv_problem = BaseProblem()\n",
    "inv_problem.set_data(data_y)\n",
    "inv_problem.set_jacobian(jacobian())\n",
    "inv_problem.set_data_covariance_inv(Cd_inv())"
   ]
  },
  {
   "cell_type": "markdown",
   "id": "334aba59",
   "metadata": {
    "papermill": {
     "duration": 0.008117,
     "end_time": "2024-03-19T00:38:48.311373",
     "exception": false,
     "start_time": "2024-03-19T00:38:48.303256",
     "status": "completed"
    },
    "tags": []
   },
   "source": [
    "### Step 2. Define CoFI `InversionOptions`"
   ]
  },
  {
   "cell_type": "code",
   "execution_count": null,
   "id": "0fbb96e3",
   "metadata": {
    "papermill": {
     "duration": 0.011578,
     "end_time": "2024-03-19T00:38:48.331067",
     "exception": false,
     "start_time": "2024-03-19T00:38:48.319489",
     "status": "completed"
    },
    "tags": []
   },
   "outputs": [],
   "source": [
    "inv_options = InversionOptions()"
   ]
  },
  {
   "cell_type": "markdown",
   "id": "5048a463",
   "metadata": {
    "papermill": {
     "duration": 0.008082,
     "end_time": "2024-03-19T00:38:48.347209",
     "exception": false,
     "start_time": "2024-03-19T00:38:48.339127",
     "status": "completed"
    },
    "tags": []
   },
   "source": [
    "Using the information supplied, we can ask CoFI to suggest some solving methods."
   ]
  },
  {
   "cell_type": "code",
   "execution_count": null,
   "id": "3d6e3f17",
   "metadata": {
    "papermill": {
     "duration": 0.011907,
     "end_time": "2024-03-19T00:38:48.367199",
     "exception": false,
     "start_time": "2024-03-19T00:38:48.355292",
     "status": "completed"
    },
    "tags": []
   },
   "outputs": [],
   "source": [
    "inv_options.suggest_solving_methods()"
   ]
  },
  {
   "cell_type": "markdown",
   "id": "78511486",
   "metadata": {
    "papermill": {
     "duration": 0.008182,
     "end_time": "2024-03-19T00:38:48.383993",
     "exception": false,
     "start_time": "2024-03-19T00:38:48.375811",
     "status": "completed"
    },
    "tags": []
   },
   "source": [
    "We can ask CoFI to suggest some specific software tools as well. "
   ]
  },
  {
   "cell_type": "code",
   "execution_count": null,
   "id": "4bcf43f5",
   "metadata": {
    "papermill": {
     "duration": 0.011854,
     "end_time": "2024-03-19T00:38:48.403948",
     "exception": false,
     "start_time": "2024-03-19T00:38:48.392094",
     "status": "completed"
    },
    "tags": []
   },
   "outputs": [],
   "source": [
    "inv_options.suggest_tools()"
   ]
  },
  {
   "cell_type": "code",
   "execution_count": null,
   "id": "00ff93de",
   "metadata": {
    "papermill": {
     "duration": 0.012339,
     "end_time": "2024-03-19T00:38:48.425056",
     "exception": false,
     "start_time": "2024-03-19T00:38:48.412717",
     "status": "completed"
    },
    "tags": []
   },
   "outputs": [],
   "source": [
    "inv_options.set_solving_method(\"matrix solvers\") # lets decide to use a matrix solver.\n",
    "inv_options.summary()"
   ]
  },
  {
   "cell_type": "code",
   "execution_count": null,
   "id": "5582d2f4",
   "metadata": {
    "papermill": {
     "duration": 0.017115,
     "end_time": "2024-03-19T00:38:48.450948",
     "exception": false,
     "start_time": "2024-03-19T00:38:48.433833",
     "status": "completed"
    },
    "tags": []
   },
   "outputs": [],
   "source": [
    "# below is optional, as this has already been the default tool under \"linear least square\"\n",
    "inv_options.set_tool(\"scipy.linalg.lstsq\")"
   ]
  },
  {
   "cell_type": "markdown",
   "id": "17f4df3a",
   "metadata": {
    "papermill": {
     "duration": 0.008221,
     "end_time": "2024-03-19T00:38:48.468152",
     "exception": false,
     "start_time": "2024-03-19T00:38:48.459931",
     "status": "completed"
    },
    "tags": []
   },
   "source": [
    "### Step 3. Define CoFI `Inversion` and run\n",
    "\n",
    "Our choices so far have defined a linear parameter estimation problem (without any regularization) to be solved within a least squares framework. In this case \n",
    "the selection of a `matrix solvers` method will mean we are calculating the standard least squares solution \n",
    "\n",
    "$$\n",
    "m = (G^T C_d^{-1} G)^{-1} G^T C_d^{-1} d\n",
    "$$\n",
    "\n",
    "and our choice of backend tool `scipy.linalg.lstsq`, means that we will employ scipy's `linalg` package to perform the numerics.\n",
    "\n",
    "Lets run CoFI."
   ]
  },
  {
   "cell_type": "code",
   "execution_count": null,
   "id": "02aa92c3",
   "metadata": {
    "papermill": {
     "duration": 0.0124,
     "end_time": "2024-03-19T00:38:48.488791",
     "exception": false,
     "start_time": "2024-03-19T00:38:48.476391",
     "status": "completed"
    },
    "tags": []
   },
   "outputs": [],
   "source": [
    "inv = Inversion(inv_problem, inv_options)\n",
    "inv_result = inv.run()"
   ]
  },
  {
   "cell_type": "code",
   "execution_count": null,
   "id": "6a1b4706",
   "metadata": {
    "papermill": {
     "duration": 0.012969,
     "end_time": "2024-03-19T00:38:48.511146",
     "exception": false,
     "start_time": "2024-03-19T00:38:48.498177",
     "status": "completed"
    },
    "tags": []
   },
   "outputs": [],
   "source": [
    "print(f\"The inversion result from `scipy.linalg.lstsq`: {inv_result.model}\\n\")\n",
    "inv_result.summary()"
   ]
  },
  {
   "cell_type": "markdown",
   "id": "8f76e1dc",
   "metadata": {
    "papermill": {
     "duration": 0.008395,
     "end_time": "2024-03-19T00:38:48.528497",
     "exception": false,
     "start_time": "2024-03-19T00:38:48.520102",
     "status": "completed"
    },
    "tags": []
   },
   "source": [
    "Lets plot the solution."
   ]
  },
  {
   "cell_type": "code",
   "execution_count": null,
   "id": "ebf89658",
   "metadata": {
    "papermill": {
     "duration": 0.170701,
     "end_time": "2024-03-19T00:38:48.707453",
     "exception": false,
     "start_time": "2024-03-19T00:38:48.536752",
     "status": "completed"
    },
    "tags": []
   },
   "outputs": [],
   "source": [
    "plot_data()\n",
    "plot_model(x,jacobian(x).dot(inv_result.model), \"linear system solver\", color=\"seagreen\")\n",
    "plot_model(x,true_y, \"true model\", color=\"darkorange\")"
   ]
  },
  {
   "cell_type": "markdown",
   "id": "51cf6924",
   "metadata": {
    "papermill": {
     "duration": 0.008738,
     "end_time": "2024-03-19T00:38:48.725154",
     "exception": false,
     "start_time": "2024-03-19T00:38:48.716416",
     "status": "completed"
    },
    "tags": []
   },
   "source": [
    "## 2. Optimizer\n",
    "\n",
    "The same overdetermined linear problem, $\\textbf{d} = G\\textbf{m}$, with Gaussian data noise can also be solved by minimising the squares of the \n",
    "residual of the linear equations, e.g. $\\textbf{r}^T \\textbf{C}_d^{-1}\\textbf{r}$ where \n",
    "$\\textbf{r}=\\textbf{d}-G\\textbf{m}$. The above matrix solver solution gives us the best data fitting model, but a direct optimisation approach could also be used, say when the number of unknowns is large and we do not wish, or are unable to provide the Jacobian function.\n",
    "\n",
    "So we use a plain optimizer `scipy.optimize.minimize` to demonstrate this ability.\n",
    "\n",
    "<!-- For this backend solver to run successfully, some additional information should be provided, otherwise\n",
    "you'll see an error to notify what additional information is required by the solver.\n",
    "\n",
    "There are several ways to provide the information needed to solve an inverse problem with \n",
    "CoFI. In the example below we provide functions to calculate the data and the optional \n",
    "regularisation. CoFI then generates the objective function for us based on the information \n",
    "provided. The alternative to this would be to directly provide objective function to CoFI. -->"
   ]
  },
  {
   "cell_type": "code",
   "execution_count": null,
   "id": "f8910ffd",
   "metadata": {
    "papermill": {
     "duration": 0.102572,
     "end_time": "2024-03-19T00:38:48.836480",
     "exception": false,
     "start_time": "2024-03-19T00:38:48.733908",
     "status": "completed"
    },
    "tags": []
   },
   "outputs": [],
   "source": [
    "######## CoFI BaseProblem - provide additional information\n",
    "inv_problem.set_initial_model(np.ones(nparams))\n",
    "inv_problem.set_forward(forward)\n",
    "inv_problem.set_data_misfit(\"squared error\")\n",
    "\n",
    "# inv_problem.set_objective(your_own_misfit_function)    # (optionally) if you'd like to define your own misfit\n",
    "# inv_problem.set_gradient(your_own_gradient_of_misfit_function)    # (optionally) if you'd like to define your own misfit gradient\n",
    "\n",
    "######## CoFI InversionOptions - set a different tool\n",
    "inv_options_2 = InversionOptions()\n",
    "inv_options_2.set_tool(\"scipy.optimize.minimize\")\n",
    "inv_options_2.set_params(method=\"Nelder-Mead\")\n",
    "\n",
    "######## CoFI Inversion - run it\n",
    "inv_2 = Inversion(inv_problem, inv_options_2)\n",
    "inv_result_2 = inv_2.run()\n",
    "\n",
    "######## CoFI InversionResult - check result\n",
    "print(f\"The inversion result from `scipy.optimize.minimize`: {inv_result_2.model}\\n\")\n",
    "inv_result_2.summary()"
   ]
  },
  {
   "cell_type": "code",
   "execution_count": null,
   "id": "c42116b6",
   "metadata": {
    "papermill": {
     "duration": 0.164377,
     "end_time": "2024-03-19T00:38:49.009927",
     "exception": false,
     "start_time": "2024-03-19T00:38:48.845550",
     "status": "completed"
    },
    "tags": []
   },
   "outputs": [],
   "source": [
    "plot_data()\n",
    "plot_model(x,jacobian(x).dot(inv_result_2.model), \"optimization solution\", color=\"cornflowerblue\")\n",
    "plot_model(x,true_y, \"true model\", color=\"darkorange\")"
   ]
  },
  {
   "cell_type": "markdown",
   "id": "9457e95a",
   "metadata": {
    "papermill": {
     "duration": 0.009183,
     "end_time": "2024-03-19T00:38:49.028655",
     "exception": false,
     "start_time": "2024-03-19T00:38:49.019472",
     "status": "completed"
    },
    "tags": []
   },
   "source": [
    "-------"
   ]
  },
  {
   "cell_type": "markdown",
   "id": "e501c228",
   "metadata": {
    "papermill": {
     "duration": 0.009161,
     "end_time": "2024-03-19T00:38:49.052648",
     "exception": false,
     "start_time": "2024-03-19T00:38:49.043487",
     "status": "completed"
    },
    "tags": []
   },
   "source": [
    "### Challenge: Change the polynomial degree\n",
    "\n",
    "Try and replace the 3rd order polynomial with a 1st order polynomial (i.e. $M=1$) by adding the required commands below. What does the plot looks like? \n",
    "\n",
    "[![Upload to Excalidraw_1](https://img.shields.io/badge/Click%20&%20upload%20your%20results%20to-Excalidraw-lightgrey?logo=jamboard&style=for-the-badge&color=fcbf49&labelColor=edede9)](https://excalidraw.com/#room=351ca2833e3ad8315d6a,HzlQfpPleYrpXT8GaoD_cg)\n",
    "\n",
    "Start from code below:\n",
    "\n",
    "```\n",
    "inv_problem = BaseProblem()\n",
    "inv_problem.set_data(data_y)\n",
    "inv_problem.set_jacobian(jacobian(n=<CHANGE ME>))\n",
    "inv_problem.set_data_covariance_inv(Cd_inv())\n",
    "inv_options.set_solving_method(\"matrix solvers\") # lets decide to use a matrix solver.\n",
    "inv = Inversion(inv_problem, inv_options)\n",
    "inv_result = inv.run()\n",
    "\n",
    "print(\"Inferred curve with n = <CHANGE ME> \")\n",
    "plot_data()\n",
    "plot_model(x,jacobian(x,n=<CHANGE ME>).dot(inv_result.model), \"optimization solution\", color=\"cornflowerblue\")\n",
    "plot_model(x,true_y, \"true model\", color=\"darkorange\")\n",
    "\n",
    "```\n"
   ]
  },
  {
   "cell_type": "code",
   "execution_count": null,
   "id": "78e60226",
   "metadata": {
    "papermill": {
     "duration": 0.012909,
     "end_time": "2024-03-19T00:38:49.074720",
     "exception": false,
     "start_time": "2024-03-19T00:38:49.061811",
     "status": "completed"
    },
    "tags": []
   },
   "outputs": [],
   "source": [
    "# Copy the template above, Replace <CHANGE ME> with your answer\n",
    "\n"
   ]
  },
  {
   "cell_type": "code",
   "execution_count": null,
   "id": "b8bf7da6",
   "metadata": {
    "cellView": "form",
    "jupyter": {
     "source_hidden": true
    },
    "papermill": {
     "duration": 0.170497,
     "end_time": "2024-03-19T00:38:49.254865",
     "exception": false,
     "start_time": "2024-03-19T00:38:49.084368",
     "status": "completed"
    },
    "tags": []
   },
   "outputs": [],
   "source": [
    "#@title Solution\n",
    "\n",
    "inv_problem = BaseProblem()\n",
    "inv_problem.set_data(data_y)\n",
    "inv_problem.set_jacobian(jacobian(n=2))\n",
    "inv_problem.set_data_covariance_inv(Cd_inv())\n",
    "inv_options.set_solving_method(\"matrix solvers\") # lets decide to use a matrix solver.\n",
    "inv = Inversion(inv_problem, inv_options)\n",
    "inv_result = inv.run()\n",
    "\n",
    "print(\"Inferred curve with n = 2 \")\n",
    "plot_data()\n",
    "plot_model(x,jacobian(x,n=2).dot(inv_result.model), \"optimization solution\", color=\"cornflowerblue\")\n",
    "plot_model(x,true_y, \"true model\", color=\"darkorange\")"
   ]
  },
  {
   "cell_type": "markdown",
   "id": "74f75e37",
   "metadata": {
    "papermill": {
     "duration": 0.009629,
     "end_time": "2024-03-19T00:38:49.275117",
     "exception": false,
     "start_time": "2024-03-19T00:38:49.265488",
     "status": "completed"
    },
    "tags": []
   },
   "source": [
    "-------"
   ]
  },
  {
   "cell_type": "markdown",
   "id": "36b5194b",
   "metadata": {
    "papermill": {
     "duration": 0.009557,
     "end_time": "2024-03-19T00:38:49.294255",
     "exception": false,
     "start_time": "2024-03-19T00:38:49.284698",
     "status": "completed"
    },
    "tags": []
   },
   "source": [
    "## 3. Bayesian sampling\n"
   ]
  },
  {
   "cell_type": "markdown",
   "id": "1db3847f",
   "metadata": {
    "papermill": {
     "duration": 0.009571,
     "end_time": "2024-03-19T00:38:49.313421",
     "exception": false,
     "start_time": "2024-03-19T00:38:49.303850",
     "status": "completed"
    },
    "tags": []
   },
   "source": [
    "### Likelihood\n",
    "\n",
    "Since data errors follow a Gaussian in this example, we can define a Likelihood function, $p({\\mathbf d}_{obs}| {\\mathbf m})$. \n",
    "\n",
    "$$\n",
    "p({\\mathbf d}_{obs} | {\\mathbf m}) \\propto \\exp \\left\\{- \\frac{1}{2} ({\\mathbf d}_{obs}-{\\mathbf d}_{pred}({\\mathbf m}))^T C_D^{-1} ({\\mathbf d}_{obs}-{\\mathbf d}_{pred}({\\mathbf m})) \\right\\}\n",
    "$$\n",
    "\n",
    "where ${\\mathbf d}_{obs}$ represents the observed y values and ${\\mathbf d}_{pred}({\\mathbf m})$ are those predicted by the polynomial model $({\\mathbf m})$. The Likelihood is defined as the probability of observing the data actually observed, given a model. In practice we usually only need to evaluate the log of the Likelihood, $\\log p({\\mathbf d}_{obs} | {\\mathbf m})$.\n",
    "To do so, we require the inverse data covariance matrix describing the statistics of the noise in the data, $C_D^{-1}$ . For this problem the data errors are independent with identical standard deviation in noise for each datum. Hence $C_D^{-1} = \\frac{1}{\\sigma^2}I$ where $\\sigma=1$."
   ]
  },
  {
   "cell_type": "code",
   "execution_count": null,
   "id": "6060a9e1",
   "metadata": {
    "papermill": {
     "duration": 0.013993,
     "end_time": "2024-03-19T00:38:49.336999",
     "exception": false,
     "start_time": "2024-03-19T00:38:49.323006",
     "status": "completed"
    },
    "tags": []
   },
   "outputs": [],
   "source": [
    "sigma = 1.0                                     # common noise standard deviation\n",
    "Cdinv = np.eye(len(data_y))/(sigma**2)      # inverse data covariance matrix\n",
    "\n",
    "def log_likelihood(model):\n",
    "    y_synthetics = forward(model)\n",
    "    residual = data_y - y_synthetics\n",
    "    return -0.5 * residual @ (Cdinv @ residual).T"
   ]
  },
  {
   "cell_type": "markdown",
   "id": "1f31a156",
   "metadata": {
    "papermill": {
     "duration": 0.009566,
     "end_time": "2024-03-19T00:38:49.356192",
     "exception": false,
     "start_time": "2024-03-19T00:38:49.346626",
     "status": "completed"
    },
    "tags": []
   },
   "source": [
    "Note that the user could specify **any appropriate Likelihood function** of their choosing here."
   ]
  },
  {
   "cell_type": "markdown",
   "id": "52f5c635",
   "metadata": {
    "papermill": {
     "duration": 0.009567,
     "end_time": "2024-03-19T00:38:49.375539",
     "exception": false,
     "start_time": "2024-03-19T00:38:49.365972",
     "status": "completed"
    },
    "tags": []
   },
   "source": [
    "### Prior\n",
    "\n",
    "Bayesian sampling requires a prior probability density function. A common problem with polynomial coefficients as model parameters is that it is not at all obvious what a prior should be. Here we choose a uniform prior with specified bounds\n",
    "\n",
    "$$\n",
    "\\begin{align}\n",
    "p({\\mathbf m}) &= \\frac{1}{V},\\quad  l_i \\le m_i \\le u_i, \\quad (i=1,\\dots,M)\\\\\n",
    "\\\\\n",
    "         &= 0, \\quad {\\rm otherwise},\n",
    "\\end{align}\n",
    "$$\n",
    "\n",
    "where $l_i$ and $u_i$ are lower and upper bounds on the $i$th model coefficient.\n",
    "\n",
    "Here use the uniform distribution with ${\\mathbf l}^T = (-10.,-10.,-10.,-10.)$, and ${\\mathbf u}^T = (10.,10.,10.,10.)$."
   ]
  },
  {
   "cell_type": "code",
   "execution_count": null,
   "id": "97730727",
   "metadata": {
    "papermill": {
     "duration": 0.013992,
     "end_time": "2024-03-19T00:38:49.399127",
     "exception": false,
     "start_time": "2024-03-19T00:38:49.385135",
     "status": "completed"
    },
    "tags": []
   },
   "outputs": [],
   "source": [
    "m_lower_bound = np.ones(nparams) * (-10.)             # lower bound for uniform prior\n",
    "m_upper_bound = np.ones(nparams) * 10                 # upper bound for uniform prior\n",
    "\n",
    "def log_prior(model):    # uniform distribution\n",
    "    for i in range(len(m_lower_bound)):\n",
    "        if model[i] < m_lower_bound[i] or model[i] > m_upper_bound[i]: return -np.inf\n",
    "    return 0.0 # model lies within bounds -> return log(1)"
   ]
  },
  {
   "cell_type": "markdown",
   "id": "0d6453db",
   "metadata": {
    "papermill": {
     "duration": 0.009574,
     "end_time": "2024-03-19T00:38:49.418451",
     "exception": false,
     "start_time": "2024-03-19T00:38:49.408877",
     "status": "completed"
    },
    "tags": []
   },
   "source": [
    "Note that the user could specify **any appropriate Prior PDF** of their choosing here."
   ]
  },
  {
   "cell_type": "markdown",
   "id": "0e4e26fb",
   "metadata": {
    "papermill": {
     "duration": 0.009585,
     "end_time": "2024-03-19T00:38:49.437635",
     "exception": false,
     "start_time": "2024-03-19T00:38:49.428050",
     "status": "completed"
    },
    "tags": []
   },
   "source": [
    "### Bayesian sampling\n",
    "\n",
    "In this aproach we sample a probability distribution rather than find a single best fit solution. Bayes' theorem tells us the the posterior distribution is proportional to the Likelihood and the prior.\n",
    "\n",
    "$$p(\\mathbf{m}|\\mathbf{d}) = K p(\\mathbf{d}|\\mathbf{m})p(\\mathbf{m})$$\n",
    "\n",
    "where $K$ is some constant. Under the assumptions specified $p(\\mathbf{m}|\\mathbf{d})$ gives a probability density of models that are supported by the data. We seek to draw random samples from $p(\\mathbf{m}|\\mathbf{d})$ over model space and then to make inferences from the resulting ensemble of model parameters.\n",
    "\n",
    "In this example we make use of *The Affine Invariant Markov chain Monte Carlo (MCMC) Ensemble sampler*\n",
    "[Goodman and Weare 2010](https://msp.org/camcos/2010/5-1/p04.xhtml) to sample the\n",
    "posterior distribution of the model. (See more details about [emcee](https://emcee.readthedocs.io/en/stable/))."
   ]
  },
  {
   "cell_type": "markdown",
   "id": "74b332d7",
   "metadata": {
    "papermill": {
     "duration": 0.011505,
     "end_time": "2024-03-19T00:38:49.458730",
     "exception": false,
     "start_time": "2024-03-19T00:38:49.447225",
     "status": "completed"
    },
    "tags": []
   },
   "source": [
    "### Starting points for random walkers\n",
    "\n",
    "Now we define some hyperparameters (e.g. the number of walkers and steps), and initialise\n",
    "the starting positions of walkers. We start all walkers in a small ball about a chosen point\n",
    "$(0, 0, 0, 0)$."
   ]
  },
  {
   "cell_type": "code",
   "execution_count": null,
   "id": "327326df",
   "metadata": {
    "papermill": {
     "duration": 0.017056,
     "end_time": "2024-03-19T00:38:49.485516",
     "exception": false,
     "start_time": "2024-03-19T00:38:49.468460",
     "status": "completed"
    },
    "tags": []
   },
   "outputs": [],
   "source": [
    "nwalkers = 32\n",
    "ndim = nparams\n",
    "nsteps = 10000\n",
    "walkers_start = np.zeros(nparams) + 1e-4 * np.random.randn(nwalkers, ndim)"
   ]
  },
  {
   "cell_type": "markdown",
   "id": "47194dc5",
   "metadata": {
    "papermill": {
     "duration": 0.009573,
     "end_time": "2024-03-19T00:38:49.504734",
     "exception": false,
     "start_time": "2024-03-19T00:38:49.495161",
     "status": "completed"
    },
    "tags": []
   },
   "source": [
    "### Add the information and run with CoFI"
   ]
  },
  {
   "cell_type": "code",
   "execution_count": null,
   "id": "9d1a6f4c",
   "metadata": {
    "papermill": {
     "duration": 8.399512,
     "end_time": "2024-03-19T00:38:57.913877",
     "exception": false,
     "start_time": "2024-03-19T00:38:49.514365",
     "status": "completed"
    },
    "tags": []
   },
   "outputs": [
    {
     "name": "stderr",
     "output_type": "stream",
     "text": [
      "\r\n",
      " 13%|████████▎                                                     | 1338/10000 [00:01<00:07, 1211.22it/s]"
     ]
    },
    {
     "name": "stderr",
     "output_type": "stream",
     "text": [
      "\r\n",
      " 15%|█████████                                                     | 1460/10000 [00:01<00:07, 1212.56it/s]"
     ]
    },
    {
     "name": "stderr",
     "output_type": "stream",
     "text": [
      "\r\n",
      " 16%|█████████▊                                                    | 1582/10000 [00:01<00:06, 1213.19it/s]"
     ]
    },
    {
     "name": "stderr",
     "output_type": "stream",
     "text": [
      "\r\n",
      " 17%|██████████▌                                                   | 1704/10000 [00:01<00:06, 1211.76it/s]"
     ]
    },
    {
     "name": "stderr",
     "output_type": "stream",
     "text": [
      "\r\n",
      " 18%|███████████▎                                                  | 1826/10000 [00:01<00:06, 1212.48it/s]"
     ]
    },
    {
     "name": "stderr",
     "output_type": "stream",
     "text": [
      "\r\n",
      " 19%|████████████                                                  | 1948/10000 [00:01<00:06, 1213.89it/s]"
     ]
    },
    {
     "name": "stderr",
     "output_type": "stream",
     "text": [
      "\r\n",
      " 21%|████████████▊                                                 | 2070/10000 [00:01<00:06, 1214.64it/s]"
     ]
    },
    {
     "name": "stderr",
     "output_type": "stream",
     "text": [
      "\r\n",
      " 22%|█████████████▌                                                | 2192/10000 [00:01<00:06, 1213.95it/s]"
     ]
    },
    {
     "name": "stderr",
     "output_type": "stream",
     "text": [
      "\r\n",
      " 23%|██████████████▎                                               | 2314/10000 [00:01<00:06, 1214.02it/s]"
     ]
    },
    {
     "name": "stderr",
     "output_type": "stream",
     "text": [
      "\r\n",
      " 24%|███████████████                                               | 2436/10000 [00:02<00:06, 1214.10it/s]"
     ]
    },
    {
     "name": "stderr",
     "output_type": "stream",
     "text": [
      "\r\n",
      " 26%|███████████████▊                                              | 2558/10000 [00:02<00:06, 1214.00it/s]"
     ]
    },
    {
     "name": "stderr",
     "output_type": "stream",
     "text": [
      "\r\n",
      " 27%|████████████████▌                                             | 2680/10000 [00:02<00:06, 1214.52it/s]"
     ]
    },
    {
     "name": "stderr",
     "output_type": "stream",
     "text": [
      "\r\n",
      " 28%|█████████████████▎                                            | 2802/10000 [00:02<00:05, 1214.68it/s]"
     ]
    },
    {
     "name": "stderr",
     "output_type": "stream",
     "text": [
      "\r\n",
      " 29%|██████████████████▏                                           | 2924/10000 [00:02<00:05, 1214.87it/s]"
     ]
    },
    {
     "name": "stderr",
     "output_type": "stream",
     "text": [
      "\r\n",
      " 30%|██████████████████▉                                           | 3046/10000 [00:02<00:05, 1215.06it/s]"
     ]
    },
    {
     "name": "stderr",
     "output_type": "stream",
     "text": [
      "\r\n",
      " 32%|███████████████████▋                                          | 3168/10000 [00:02<00:05, 1214.89it/s]"
     ]
    },
    {
     "name": "stderr",
     "output_type": "stream",
     "text": [
      "\r\n",
      " 33%|████████████████████▍                                         | 3290/10000 [00:02<00:05, 1214.39it/s]"
     ]
    },
    {
     "name": "stderr",
     "output_type": "stream",
     "text": [
      "\r\n",
      " 34%|█████████████████████▏                                        | 3412/10000 [00:02<00:05, 1213.52it/s]"
     ]
    },
    {
     "name": "stderr",
     "output_type": "stream",
     "text": [
      "\r\n",
      " 35%|█████████████████████▉                                        | 3534/10000 [00:02<00:05, 1214.29it/s]"
     ]
    },
    {
     "name": "stderr",
     "output_type": "stream",
     "text": [
      "\r\n",
      " 37%|██████████████████████▋                                       | 3656/10000 [00:03<00:05, 1214.05it/s]"
     ]
    },
    {
     "name": "stderr",
     "output_type": "stream",
     "text": [
      "\r\n",
      " 38%|███████████████████████▍                                      | 3778/10000 [00:03<00:05, 1207.93it/s]"
     ]
    },
    {
     "name": "stderr",
     "output_type": "stream",
     "text": [
      "\r\n",
      " 39%|████████████████████████▏                                     | 3900/10000 [00:03<00:05, 1209.85it/s]"
     ]
    },
    {
     "name": "stderr",
     "output_type": "stream",
     "text": [
      "\r\n",
      " 40%|████████████████████████▉                                     | 4022/10000 [00:03<00:04, 1210.90it/s]"
     ]
    },
    {
     "name": "stderr",
     "output_type": "stream",
     "text": [
      "\r\n",
      " 41%|█████████████████████████▋                                    | 4144/10000 [00:03<00:04, 1210.03it/s]"
     ]
    },
    {
     "name": "stderr",
     "output_type": "stream",
     "text": [
      "\r\n",
      " 43%|██████████████████████████▍                                   | 4266/10000 [00:03<00:04, 1209.82it/s]"
     ]
    },
    {
     "name": "stderr",
     "output_type": "stream",
     "text": [
      "\r\n",
      " 44%|███████████████████████████▏                                  | 4388/10000 [00:03<00:04, 1212.20it/s]"
     ]
    },
    {
     "name": "stderr",
     "output_type": "stream",
     "text": [
      "\r\n",
      " 45%|███████████████████████████▉                                  | 4510/10000 [00:03<00:04, 1211.06it/s]"
     ]
    },
    {
     "name": "stderr",
     "output_type": "stream",
     "text": [
      "\r\n",
      " 46%|████████████████████████████▋                                 | 4632/10000 [00:03<00:04, 1211.43it/s]"
     ]
    },
    {
     "name": "stderr",
     "output_type": "stream",
     "text": [
      "\r\n",
      " 48%|█████████████████████████████▍                                | 4754/10000 [00:03<00:04, 1212.62it/s]"
     ]
    },
    {
     "name": "stderr",
     "output_type": "stream",
     "text": [
      "\r\n",
      " 49%|██████████████████████████████▏                               | 4876/10000 [00:04<00:04, 1213.46it/s]"
     ]
    },
    {
     "name": "stderr",
     "output_type": "stream",
     "text": [
      "\r\n",
      " 50%|██████████████████████████████▉                               | 4998/10000 [00:04<00:04, 1213.90it/s]"
     ]
    },
    {
     "name": "stderr",
     "output_type": "stream",
     "text": [
      "\r\n",
      " 51%|███████████████████████████████▋                              | 5120/10000 [00:04<00:04, 1214.33it/s]"
     ]
    },
    {
     "name": "stderr",
     "output_type": "stream",
     "text": [
      "\r\n",
      " 52%|████████████████████████████████▌                             | 5242/10000 [00:04<00:03, 1213.86it/s]"
     ]
    },
    {
     "name": "stderr",
     "output_type": "stream",
     "text": [
      "\r\n",
      " 54%|█████████████████████████████████▎                            | 5364/10000 [00:04<00:03, 1214.06it/s]"
     ]
    },
    {
     "name": "stderr",
     "output_type": "stream",
     "text": [
      "\r\n",
      " 55%|██████████████████████████████████                            | 5486/10000 [00:04<00:03, 1214.43it/s]"
     ]
    },
    {
     "name": "stderr",
     "output_type": "stream",
     "text": [
      "\r\n",
      " 56%|██████████████████████████████████▊                           | 5608/10000 [00:04<00:03, 1214.18it/s]"
     ]
    },
    {
     "name": "stderr",
     "output_type": "stream",
     "text": [
      "\r\n",
      " 57%|███████████████████████████████████▌                          | 5730/10000 [00:04<00:03, 1213.18it/s]"
     ]
    },
    {
     "name": "stderr",
     "output_type": "stream",
     "text": [
      "\r\n",
      " 59%|████████████████████████████████████▎                         | 5852/10000 [00:04<00:03, 1214.08it/s]"
     ]
    },
    {
     "name": "stderr",
     "output_type": "stream",
     "text": [
      "\r\n",
      " 60%|█████████████████████████████████████                         | 5974/10000 [00:04<00:03, 1214.71it/s]"
     ]
    },
    {
     "name": "stderr",
     "output_type": "stream",
     "text": [
      "\r\n",
      " 61%|█████████████████████████████████████▊                        | 6096/10000 [00:05<00:03, 1214.34it/s]"
     ]
    },
    {
     "name": "stderr",
     "output_type": "stream",
     "text": [
      "\r\n",
      " 62%|██████████████████████████████████████▌                       | 6218/10000 [00:05<00:03, 1214.50it/s]"
     ]
    },
    {
     "name": "stderr",
     "output_type": "stream",
     "text": [
      "\r\n",
      " 63%|███████████████████████████████████████▎                      | 6340/10000 [00:05<00:03, 1214.68it/s]"
     ]
    },
    {
     "name": "stderr",
     "output_type": "stream",
     "text": [
      "\r\n",
      " 65%|████████████████████████████████████████                      | 6462/10000 [00:05<00:02, 1214.16it/s]"
     ]
    },
    {
     "name": "stderr",
     "output_type": "stream",
     "text": [
      "\r\n",
      " 66%|████████████████████████████████████████▊                     | 6584/10000 [00:05<00:02, 1214.77it/s]"
     ]
    },
    {
     "name": "stderr",
     "output_type": "stream",
     "text": [
      "\r\n",
      " 67%|█████████████████████████████████████████▌                    | 6706/10000 [00:05<00:02, 1215.38it/s]"
     ]
    },
    {
     "name": "stderr",
     "output_type": "stream",
     "text": [
      "\r\n",
      " 68%|██████████████████████████████████████████▎                   | 6828/10000 [00:05<00:02, 1214.72it/s]"
     ]
    },
    {
     "name": "stderr",
     "output_type": "stream",
     "text": [
      "\r\n",
      " 70%|███████████████████████████████████████████                   | 6950/10000 [00:05<00:02, 1214.46it/s]"
     ]
    },
    {
     "name": "stderr",
     "output_type": "stream",
     "text": [
      "\r\n",
      " 71%|███████████████████████████████████████████▊                  | 7072/10000 [00:05<00:02, 1215.28it/s]"
     ]
    },
    {
     "name": "stderr",
     "output_type": "stream",
     "text": [
      "\r\n",
      " 72%|████████████████████████████████████████████▌                 | 7194/10000 [00:05<00:02, 1214.74it/s]"
     ]
    },
    {
     "name": "stderr",
     "output_type": "stream",
     "text": [
      "\r\n",
      " 73%|█████████████████████████████████████████████▎                | 7316/10000 [00:06<00:02, 1207.27it/s]"
     ]
    },
    {
     "name": "stderr",
     "output_type": "stream",
     "text": [
      "\r\n",
      " 74%|██████████████████████████████████████████████                | 7437/10000 [00:06<00:02, 1206.87it/s]"
     ]
    },
    {
     "name": "stderr",
     "output_type": "stream",
     "text": [
      "\r\n",
      " 76%|██████████████████████████████████████████████▊               | 7559/10000 [00:06<00:02, 1208.53it/s]"
     ]
    },
    {
     "name": "stderr",
     "output_type": "stream",
     "text": [
      "\r\n",
      " 77%|███████████████████████████████████████████████▌              | 7681/10000 [00:06<00:01, 1209.55it/s]"
     ]
    },
    {
     "name": "stderr",
     "output_type": "stream",
     "text": [
      "\r\n",
      " 78%|████████████████████████████████████████████████▍             | 7803/10000 [00:06<00:01, 1210.58it/s]"
     ]
    },
    {
     "name": "stderr",
     "output_type": "stream",
     "text": [
      "\r\n",
      " 79%|█████████████████████████████████████████████████▏            | 7925/10000 [00:06<00:01, 1210.90it/s]"
     ]
    },
    {
     "name": "stderr",
     "output_type": "stream",
     "text": [
      "\r\n",
      " 80%|█████████████████████████████████████████████████▉            | 8047/10000 [00:06<00:01, 1211.55it/s]"
     ]
    },
    {
     "name": "stderr",
     "output_type": "stream",
     "text": [
      "\r\n",
      " 82%|██████████████████████████████████████████████████▋           | 8169/10000 [00:06<00:01, 1211.44it/s]"
     ]
    },
    {
     "name": "stderr",
     "output_type": "stream",
     "text": [
      "\r\n",
      " 83%|███████████████████████████████████████████████████▍          | 8291/10000 [00:06<00:01, 1211.54it/s]"
     ]
    },
    {
     "name": "stderr",
     "output_type": "stream",
     "text": [
      "\r\n",
      " 84%|████████████████████████████████████████████████████▏         | 8413/10000 [00:06<00:01, 1211.57it/s]"
     ]
    },
    {
     "name": "stderr",
     "output_type": "stream",
     "text": [
      "\r\n",
      " 85%|████████████████████████████████████████████████████▉         | 8535/10000 [00:07<00:01, 1211.60it/s]"
     ]
    },
    {
     "name": "stderr",
     "output_type": "stream",
     "text": [
      "\r\n",
      " 87%|█████████████████████████████████████████████████████▋        | 8657/10000 [00:07<00:01, 1211.53it/s]"
     ]
    },
    {
     "name": "stderr",
     "output_type": "stream",
     "text": [
      "\r\n",
      " 88%|██████████████████████████████████████████████████████▍       | 8779/10000 [00:07<00:01, 1210.40it/s]"
     ]
    },
    {
     "name": "stderr",
     "output_type": "stream",
     "text": [
      "\r\n",
      " 89%|███████████████████████████████████████████████████████▏      | 8901/10000 [00:07<00:00, 1209.96it/s]"
     ]
    },
    {
     "name": "stderr",
     "output_type": "stream",
     "text": [
      "\r\n",
      " 90%|███████████████████████████████████████████████████████▉      | 9023/10000 [00:07<00:00, 1210.00it/s]"
     ]
    },
    {
     "name": "stderr",
     "output_type": "stream",
     "text": [
      "\r\n",
      " 91%|████████████████████████████████████████████████████████▋     | 9145/10000 [00:07<00:00, 1210.27it/s]"
     ]
    },
    {
     "name": "stderr",
     "output_type": "stream",
     "text": [
      "\r\n",
      " 93%|█████████████████████████████████████████████████████████▍    | 9267/10000 [00:07<00:00, 1210.58it/s]"
     ]
    },
    {
     "name": "stderr",
     "output_type": "stream",
     "text": [
      "\r\n",
      " 94%|██████████████████████████████████████████████████████████▏   | 9389/10000 [00:07<00:00, 1209.84it/s]"
     ]
    },
    {
     "name": "stderr",
     "output_type": "stream",
     "text": [
      "\r\n",
      " 95%|██████████████████████████████████████████████████████████▉   | 9511/10000 [00:07<00:00, 1210.53it/s]"
     ]
    },
    {
     "name": "stderr",
     "output_type": "stream",
     "text": [
      "\r\n",
      " 96%|███████████████████████████████████████████████████████████▋  | 9633/10000 [00:07<00:00, 1209.48it/s]"
     ]
    },
    {
     "name": "stderr",
     "output_type": "stream",
     "text": [
      "\r\n",
      " 98%|████████████████████████████████████████████████████████████▍ | 9754/10000 [00:08<00:00, 1209.17it/s]"
     ]
    },
    {
     "name": "stderr",
     "output_type": "stream",
     "text": [
      "\r\n",
      " 99%|█████████████████████████████████████████████████████████████▏| 9876/10000 [00:08<00:00, 1209.76it/s]"
     ]
    },
    {
     "name": "stderr",
     "output_type": "stream",
     "text": [
      "\r\n",
      "100%|█████████████████████████████████████████████████████████████▉| 9997/10000 [00:08<00:00, 1209.19it/s]"
     ]
    },
    {
     "name": "stderr",
     "output_type": "stream",
     "text": [
      "\r\n",
      "100%|█████████████████████████████████████████████████████████████| 10000/10000 [00:08<00:00, 1211.81it/s]"
     ]
    },
    {
     "name": "stdout",
     "output_type": "stream",
     "text": [
      "The inversion result from `emcee`:\n",
      "============================\n",
      "Summary for inversion result\n",
      "============================\n",
      "SUCCESS\n",
      "----------------------------\n",
      "sampler: <emcee.ensemble.EnsembleSampler object>\n",
      "blob_names: ['log_likelihood', 'log_prior']\n"
     ]
    },
    {
     "name": "stderr",
     "output_type": "stream",
     "text": [
      "\n"
     ]
    }
   ],
   "source": [
    "######## CoFI BaseProblem - provide additional information\n",
    "inv_problem.set_log_prior(log_prior)\n",
    "inv_problem.set_log_likelihood(log_likelihood)\n",
    "inv_problem.set_model_shape(ndim)\n",
    "\n",
    "######## CoFI InversionOptions - get a different tool\n",
    "inv_options_3 = InversionOptions()\n",
    "inv_options_3.set_tool(\"emcee\")      # Here we use to Affine Invariant McMC sampler from Goodman and Weare (2010).\n",
    "inv_options_3.set_params(nwalkers=nwalkers, nsteps=nsteps, initial_state=walkers_start, progress=True)\n",
    "\n",
    "######## CoFI Inversion - run it\n",
    "inv_3 = Inversion(inv_problem, inv_options_3)\n",
    "inv_result_3 = inv_3.run()\n",
    "\n",
    "######## CoFI InversionResult - check result\n",
    "print(f\"The inversion result from `emcee`:\")\n",
    "inv_result_3.summary()"
   ]
  },
  {
   "cell_type": "markdown",
   "id": "5cfe7e0b",
   "metadata": {
    "papermill": {
     "duration": 0.024176,
     "end_time": "2024-03-19T00:38:57.953872",
     "exception": false,
     "start_time": "2024-03-19T00:38:57.929696",
     "status": "completed"
    },
    "tags": []
   },
   "source": [
    "### Post-sampling analysis\n",
    "\n",
    "By default the raw sampler resulting object is attached to `cofi`'s inversion result.\n",
    "\n",
    "Optionally, you can convert that into an `arviz` data structure to have access to\n",
    "a range of analysis functions. (See more details in [arviz documentation](https://python.arviz.org/en/latest/index.html))."
   ]
  },
  {
   "cell_type": "code",
   "execution_count": null,
   "id": "56b73de2",
   "metadata": {
    "papermill": {
     "duration": 0.383525,
     "end_time": "2024-03-19T00:38:58.350115",
     "exception": false,
     "start_time": "2024-03-19T00:38:57.966590",
     "status": "completed"
    },
    "tags": []
   },
   "outputs": [],
   "source": [
    "import arviz as az\n",
    "\n",
    "labels = [\"m0\", \"m1\", \"m2\",\"m3\"]\n",
    "\n",
    "sampler = inv_result_3.sampler\n",
    "az_idata = az.from_emcee(sampler, var_names=labels)\n",
    "# az_idata = inv_result_3.to_arviz()      # alternatively"
   ]
  },
  {
   "cell_type": "code",
   "execution_count": null,
   "id": "645135bf",
   "metadata": {
    "papermill": {
     "duration": 0.078217,
     "end_time": "2024-03-19T00:38:58.442552",
     "exception": false,
     "start_time": "2024-03-19T00:38:58.364335",
     "status": "completed"
    },
    "tags": []
   },
   "outputs": [],
   "source": [
    "az_idata.get(\"posterior\")"
   ]
  },
  {
   "cell_type": "code",
   "execution_count": null,
   "id": "fcc2c92c",
   "metadata": {
    "papermill": {
     "duration": 3.199835,
     "end_time": "2024-03-19T00:39:01.656332",
     "exception": false,
     "start_time": "2024-03-19T00:38:58.456497",
     "status": "completed"
    },
    "tags": []
   },
   "outputs": [],
   "source": [
    "# a standard `trace` plot\n",
    "axes = az.plot_trace(az_idata, backend_kwargs={\"constrained_layout\":True}); \n",
    "\n",
    "# add legends\n",
    "for i, axes_pair in enumerate(axes):\n",
    "    ax1 = axes_pair[0]\n",
    "    ax2 = axes_pair[1]\n",
    "    ax1.axvline(true_model[i], linestyle='dotted', color='red')\n",
    "    ax1.set_xlabel(\"parameter value\")\n",
    "    ax1.set_ylabel(\"density value\")\n",
    "    ax2.set_xlabel(\"number of iterations\")\n",
    "    ax2.set_ylabel(\"parameter value\")"
   ]
  },
  {
   "cell_type": "code",
   "execution_count": null,
   "id": "3fc1db16",
   "metadata": {
    "papermill": {
     "duration": 0.236364,
     "end_time": "2024-03-19T00:39:01.911576",
     "exception": false,
     "start_time": "2024-03-19T00:39:01.675212",
     "status": "completed"
    },
    "tags": []
   },
   "outputs": [],
   "source": [
    "tau = sampler.get_autocorr_time()\n",
    "print(f\"autocorrelation time: {tau}\")"
   ]
  },
  {
   "cell_type": "code",
   "execution_count": null,
   "id": "486d4b00",
   "metadata": {
    "papermill": {
     "duration": 1.160259,
     "end_time": "2024-03-19T00:39:03.088135",
     "exception": false,
     "start_time": "2024-03-19T00:39:01.927876",
     "status": "completed"
    },
    "tags": []
   },
   "outputs": [],
   "source": [
    "# a Corner plot\n",
    "\n",
    "fig, axes = plt.subplots(nparams, nparams, figsize=(12,8))\n",
    "\n",
    "if(False): # if we are plotting the model ensemble use this\n",
    "    az.plot_pair(\n",
    "        az_idata.sel(draw=slice(300,None)), \n",
    "        marginals=True, \n",
    "        reference_values=dict(zip([f\"m{i}\" for i in range(4)], true_model.tolist())),\n",
    "        ax=axes,\n",
    "    );\n",
    "else: # if we wish to plot a kernel density plot then use this option\n",
    "    az.plot_pair(\n",
    "        az_idata.sel(draw=slice(300,None)), \n",
    "        marginals=True, \n",
    "        reference_values=dict(zip([f\"m{i}\" for i in range(4)], true_model.tolist())),\n",
    "        kind=\"kde\",\n",
    "        kde_kwargs={\n",
    "            \"hdi_probs\": [0.3, 0.6, 0.9],  # Plot 30%, 60% and 90% HDI contours\n",
    "            \"contourf_kwargs\": {\"cmap\": \"Blues\"},\n",
    "        },\n",
    "        ax=axes,\n",
    "    );"
   ]
  },
  {
   "cell_type": "markdown",
   "id": "ece8a331",
   "metadata": {
    "papermill": {
     "duration": 0.016788,
     "end_time": "2024-03-19T00:39:03.122399",
     "exception": false,
     "start_time": "2024-03-19T00:39:03.105611",
     "status": "completed"
    },
    "tags": []
   },
   "source": [
    "Now we plot the predicted curves for the posterior ensemble of solutions."
   ]
  },
  {
   "cell_type": "code",
   "execution_count": null,
   "id": "4cb25359",
   "metadata": {
    "papermill": {
     "duration": 0.362249,
     "end_time": "2024-03-19T00:39:03.501363",
     "exception": false,
     "start_time": "2024-03-19T00:39:03.139114",
     "status": "completed"
    },
    "tags": []
   },
   "outputs": [],
   "source": [
    "flat_samples = sampler.get_chain(discard=300, thin=30, flat=True)\n",
    "inds = np.random.randint(len(flat_samples), size=100) # get a random selection from posterior ensemble\n",
    "\n",
    "plot_data()\n",
    "plot_models(flat_samples[inds])\n",
    "plot_model(x,true_y, \"True model\", color=\"darkorange\")"
   ]
  },
  {
   "cell_type": "markdown",
   "id": "2af5d149",
   "metadata": {
    "papermill": {
     "duration": 0.021506,
     "end_time": "2024-03-19T00:39:03.541564",
     "exception": false,
     "start_time": "2024-03-19T00:39:03.520058",
     "status": "completed"
    },
    "tags": []
   },
   "source": [
    "#### Expected values, credible intervals and model covariance matrix from the ensemble"
   ]
  },
  {
   "cell_type": "code",
   "execution_count": null,
   "id": "53227be2",
   "metadata": {
    "papermill": {
     "duration": 0.02403,
     "end_time": "2024-03-19T00:39:03.583354",
     "exception": false,
     "start_time": "2024-03-19T00:39:03.559324",
     "status": "completed"
    },
    "tags": []
   },
   "outputs": [],
   "source": [
    "print(\"\\n Expected value and 95% credible intervals \")\n",
    "for i in range(ndim):\n",
    "    mcmc = np.percentile(flat_samples[:, i], [5, 50, 95])\n",
    "    print(\" {} {:7.3f} [{:7.3f}, {:7.3f}]\".format(labels[i],mcmc[1],mcmc[0],mcmc[2]))"
   ]
  },
  {
   "cell_type": "code",
   "execution_count": null,
   "id": "140a3532",
   "metadata": {
    "papermill": {
     "duration": 0.023015,
     "end_time": "2024-03-19T00:39:03.623957",
     "exception": false,
     "start_time": "2024-03-19T00:39:03.600942",
     "status": "completed"
    },
    "tags": []
   },
   "outputs": [],
   "source": [
    "CMpost = np.cov(flat_samples.T)\n",
    "CM_std= np.std(flat_samples,axis=0)\n",
    "print('Posterior model covariance matrix\\n',CMpost)\n",
    "print('\\n Posterior estimate of model standard deviations in each parameter')\n",
    "for i in range(ndim):\n",
    "    print(\"    {} {:7.4f}\".format(labels[i],CM_std[i]))"
   ]
  },
  {
   "cell_type": "markdown",
   "id": "a5c74229",
   "metadata": {
    "papermill": {
     "duration": 0.018328,
     "end_time": "2024-03-19T00:39:03.660383",
     "exception": false,
     "start_time": "2024-03-19T00:39:03.642055",
     "status": "completed"
    },
    "tags": []
   },
   "source": [
    "---------"
   ]
  },
  {
   "cell_type": "markdown",
   "id": "6807c365",
   "metadata": {
    "papermill": {
     "duration": 0.017577,
     "end_time": "2024-03-19T00:39:03.702675",
     "exception": false,
     "start_time": "2024-03-19T00:39:03.685098",
     "status": "completed"
    },
    "tags": []
   },
   "source": [
    "### Challenge: Change the prior model bounds"
   ]
  },
  {
   "cell_type": "markdown",
   "id": "ca7d1628",
   "metadata": {
    "papermill": {
     "duration": 0.017535,
     "end_time": "2024-03-19T00:39:03.738232",
     "exception": false,
     "start_time": "2024-03-19T00:39:03.720697",
     "status": "completed"
    },
    "tags": []
   },
   "source": [
    "Replace the previous prior bounds to new values\n",
    "\n",
    "The original  uniform bounds had  \n",
    "\n",
    "${\\mathbf l}^T = (-10.,-10.,-10.,-10.)$, and ${\\mathbf u}^T = (10.,10.,10.,10.)$.\n",
    "\n",
    "Lets replace with\n",
    "\n",
    "${\\mathbf l}^T = (-1.,-10.,-10.,-10.)$, and ${\\mathbf u}^T = (2.,10.,10.,10.)$.\n",
    "\n",
    "We have only changed the bounds of the first parameter. However since the true value of constant term was 6, these bounds are now inconsistent with the true model.\n",
    "\n",
    "What does this do to the posterior distribution?\n",
    "\n",
    "[![Upload to Excalidraw_2](https://img.shields.io/badge/Click%20&%20upload%20your%20results%20to-Excalidraw-lightgrey?logo=jamboard&style=for-the-badge&color=fcbf49&labelColor=edede9)](https://excalidraw.com/#room=feedcdce7f99f8ccd205,wTOddJkDrExrVTcxKsE6kA)\n",
    "\n",
    "Start from the code template below:\n",
    "\n",
    "```\n",
    "m_lower_bound = <CHANGE ME>             # lower bound for uniform prior\n",
    "m_upper_bound = <CHANGE ME>             # upper bound for uniform prior\n",
    "\n",
    "def log_prior(model):    # uniform distribution\n",
    "    for i in range(len(m_lower_bound)):\n",
    "        if model[i] < m_lower_bound[i] or model[i] > m_upper_bound[i]: return -np.inf\n",
    "    return 0.0 # model lies within bounds -> return log(1)\n",
    "\n",
    "######## CoFI BaseProblem - update information\n",
    "inv_problem.set_log_prior(log_prior)\n",
    "\n",
    "######## CoFI Inversion - run it\n",
    "inv_4 = Inversion(inv_problem, inv_options_3)\n",
    "inv_result_4 = inv_4.run()\n",
    "\n",
    "flat_samples = inv_result_4.sampler.get_chain(discard=300, thin=30, flat=True)\n",
    "inds = np.random.randint(len(flat_samples), size=100) # get a random selection from posterior ensemble\n",
    "\n",
    "print(\"Resulting samples with prior model lower bounds of <CHANGE ME>, upper bounds of <CHANGE ME>\")\n",
    "plot_data()\n",
    "plot_models(flat_samples[inds])\n",
    "plot_model(x, true_y, \"True model\", color=\"darkorange\")\n",
    "```"
   ]
  },
  {
   "cell_type": "code",
   "execution_count": null,
   "id": "c440f6ad",
   "metadata": {
    "papermill": {
     "duration": 0.022616,
     "end_time": "2024-03-19T00:39:03.778502",
     "exception": false,
     "start_time": "2024-03-19T00:39:03.755886",
     "status": "completed"
    },
    "tags": []
   },
   "outputs": [],
   "source": [
    "# Copy the template above, Replace <CHANGE ME> with your answer\n",
    "\n"
   ]
  },
  {
   "cell_type": "code",
   "execution_count": null,
   "id": "196cc467",
   "metadata": {
    "cellView": "form",
    "jupyter": {
     "source_hidden": true
    },
    "papermill": {
     "duration": 8.265161,
     "end_time": "2024-03-19T00:39:12.064597",
     "exception": false,
     "start_time": "2024-03-19T00:39:03.799436",
     "status": "completed"
    },
    "tags": []
   },
   "outputs": [
    {
     "name": "stderr",
     "output_type": "stream",
     "text": [
      "\r\n",
      " 15%|█████████▎                                                    | 1509/10000 [00:01<00:06, 1262.92it/s]"
     ]
    },
    {
     "name": "stderr",
     "output_type": "stream",
     "text": [
      "\r\n",
      " 16%|██████████▏                                                   | 1636/10000 [00:01<00:06, 1261.55it/s]"
     ]
    },
    {
     "name": "stderr",
     "output_type": "stream",
     "text": [
      "\r\n",
      " 18%|██████████▉                                                   | 1763/10000 [00:01<00:06, 1261.24it/s]"
     ]
    },
    {
     "name": "stderr",
     "output_type": "stream",
     "text": [
      "\r\n",
      " 19%|███████████▋                                                  | 1890/10000 [00:01<00:06, 1260.34it/s]"
     ]
    },
    {
     "name": "stderr",
     "output_type": "stream",
     "text": [
      "\r\n",
      " 20%|████████████▌                                                 | 2017/10000 [00:01<00:06, 1259.88it/s]"
     ]
    },
    {
     "name": "stderr",
     "output_type": "stream",
     "text": [
      "\r\n",
      " 21%|█████████████▎                                                | 2144/10000 [00:01<00:06, 1260.42it/s]"
     ]
    },
    {
     "name": "stderr",
     "output_type": "stream",
     "text": [
      "\r\n",
      " 23%|██████████████                                                | 2271/10000 [00:01<00:06, 1260.12it/s]"
     ]
    },
    {
     "name": "stderr",
     "output_type": "stream",
     "text": [
      "\r\n",
      " 24%|██████████████▊                                               | 2398/10000 [00:01<00:06, 1259.50it/s]"
     ]
    },
    {
     "name": "stderr",
     "output_type": "stream",
     "text": [
      "\r\n",
      " 25%|███████████████▋                                              | 2525/10000 [00:02<00:05, 1260.11it/s]"
     ]
    },
    {
     "name": "stderr",
     "output_type": "stream",
     "text": [
      "\r\n",
      " 27%|████████████████▍                                             | 2652/10000 [00:02<00:05, 1261.25it/s]"
     ]
    },
    {
     "name": "stderr",
     "output_type": "stream",
     "text": [
      "\r\n",
      " 28%|█████████████████▏                                            | 2779/10000 [00:02<00:05, 1256.69it/s]"
     ]
    },
    {
     "name": "stderr",
     "output_type": "stream",
     "text": [
      "\r\n",
      " 29%|██████████████████                                            | 2906/10000 [00:02<00:05, 1259.46it/s]"
     ]
    },
    {
     "name": "stderr",
     "output_type": "stream",
     "text": [
      "\r\n",
      " 30%|██████████████████▊                                           | 3033/10000 [00:02<00:05, 1259.98it/s]"
     ]
    },
    {
     "name": "stderr",
     "output_type": "stream",
     "text": [
      "\r\n",
      " 32%|███████████████████▌                                          | 3160/10000 [00:02<00:05, 1260.99it/s]"
     ]
    },
    {
     "name": "stderr",
     "output_type": "stream",
     "text": [
      "\r\n",
      " 33%|████████████████████▍                                         | 3287/10000 [00:02<00:05, 1261.99it/s]"
     ]
    },
    {
     "name": "stderr",
     "output_type": "stream",
     "text": [
      "\r\n",
      " 34%|█████████████████████▏                                        | 3414/10000 [00:02<00:05, 1259.03it/s]"
     ]
    },
    {
     "name": "stderr",
     "output_type": "stream",
     "text": [
      "\r\n",
      " 35%|█████████████████████▉                                        | 3540/10000 [00:02<00:05, 1257.34it/s]"
     ]
    },
    {
     "name": "stderr",
     "output_type": "stream",
     "text": [
      "\r\n",
      " 37%|██████████████████████▋                                       | 3666/10000 [00:02<00:05, 1255.84it/s]"
     ]
    },
    {
     "name": "stderr",
     "output_type": "stream",
     "text": [
      "\r\n",
      " 38%|███████████████████████▌                                      | 3792/10000 [00:03<00:04, 1255.46it/s]"
     ]
    },
    {
     "name": "stderr",
     "output_type": "stream",
     "text": [
      "\r\n",
      " 39%|████████████████████████▎                                     | 3918/10000 [00:03<00:04, 1252.63it/s]"
     ]
    },
    {
     "name": "stderr",
     "output_type": "stream",
     "text": [
      "\r\n",
      " 40%|█████████████████████████                                     | 4044/10000 [00:03<00:04, 1252.85it/s]"
     ]
    },
    {
     "name": "stderr",
     "output_type": "stream",
     "text": [
      "\r\n",
      " 42%|█████████████████████████▊                                    | 4170/10000 [00:03<00:04, 1253.43it/s]"
     ]
    },
    {
     "name": "stderr",
     "output_type": "stream",
     "text": [
      "\r\n",
      " 43%|██████████████████████████▋                                   | 4296/10000 [00:03<00:04, 1253.53it/s]"
     ]
    },
    {
     "name": "stderr",
     "output_type": "stream",
     "text": [
      "\r\n",
      " 44%|███████████████████████████▍                                  | 4422/10000 [00:03<00:04, 1247.88it/s]"
     ]
    },
    {
     "name": "stderr",
     "output_type": "stream",
     "text": [
      "\r\n",
      " 45%|████████████████████████████▏                                 | 4548/10000 [00:03<00:04, 1250.99it/s]"
     ]
    },
    {
     "name": "stderr",
     "output_type": "stream",
     "text": [
      "\r\n",
      " 47%|████████████████████████████▉                                 | 4674/10000 [00:03<00:04, 1249.69it/s]"
     ]
    },
    {
     "name": "stderr",
     "output_type": "stream",
     "text": [
      "\r\n",
      " 48%|█████████████████████████████▊                                | 4799/10000 [00:03<00:04, 1249.18it/s]"
     ]
    },
    {
     "name": "stderr",
     "output_type": "stream",
     "text": [
      "\r\n",
      " 49%|██████████████████████████████▌                               | 4926/10000 [00:03<00:04, 1252.74it/s]"
     ]
    },
    {
     "name": "stderr",
     "output_type": "stream",
     "text": [
      "\r\n",
      " 51%|███████████████████████████████▎                              | 5052/10000 [00:04<00:03, 1251.48it/s]"
     ]
    },
    {
     "name": "stderr",
     "output_type": "stream",
     "text": [
      "\r\n",
      " 52%|████████████████████████████████                              | 5179/10000 [00:04<00:03, 1254.97it/s]"
     ]
    },
    {
     "name": "stderr",
     "output_type": "stream",
     "text": [
      "\r\n",
      " 53%|████████████████████████████████▉                             | 5307/10000 [00:04<00:03, 1260.54it/s]"
     ]
    },
    {
     "name": "stderr",
     "output_type": "stream",
     "text": [
      "\r\n",
      " 54%|█████████████████████████████████▋                            | 5434/10000 [00:04<00:03, 1257.89it/s]"
     ]
    },
    {
     "name": "stderr",
     "output_type": "stream",
     "text": [
      "\r\n",
      " 56%|██████████████████████████████████▍                           | 5560/10000 [00:04<00:03, 1255.56it/s]"
     ]
    },
    {
     "name": "stderr",
     "output_type": "stream",
     "text": [
      "\r\n",
      " 57%|███████████████████████████████████▎                          | 5686/10000 [00:04<00:03, 1255.18it/s]"
     ]
    },
    {
     "name": "stderr",
     "output_type": "stream",
     "text": [
      "\r\n",
      " 58%|████████████████████████████████████                          | 5813/10000 [00:04<00:03, 1258.30it/s]"
     ]
    },
    {
     "name": "stderr",
     "output_type": "stream",
     "text": [
      "\r\n",
      " 59%|████████████████████████████████████▊                         | 5939/10000 [00:04<00:03, 1257.68it/s]"
     ]
    },
    {
     "name": "stderr",
     "output_type": "stream",
     "text": [
      "\r\n",
      " 61%|█████████████████████████████████████▌                        | 6065/10000 [00:04<00:03, 1257.62it/s]"
     ]
    },
    {
     "name": "stderr",
     "output_type": "stream",
     "text": [
      "\r\n",
      " 62%|██████████████████████████████████████▍                       | 6191/10000 [00:04<00:03, 1257.65it/s]"
     ]
    },
    {
     "name": "stderr",
     "output_type": "stream",
     "text": [
      "\r\n",
      " 63%|███████████████████████████████████████▏                      | 6317/10000 [00:05<00:02, 1255.98it/s]"
     ]
    },
    {
     "name": "stderr",
     "output_type": "stream",
     "text": [
      "\r\n",
      " 64%|███████████████████████████████████████▉                      | 6443/10000 [00:05<00:02, 1255.64it/s]"
     ]
    },
    {
     "name": "stderr",
     "output_type": "stream",
     "text": [
      "\r\n",
      " 66%|████████████████████████████████████████▋                     | 6569/10000 [00:05<00:02, 1255.70it/s]"
     ]
    },
    {
     "name": "stderr",
     "output_type": "stream",
     "text": [
      "\r\n",
      " 67%|█████████████████████████████████████████▌                    | 6695/10000 [00:05<00:02, 1253.62it/s]"
     ]
    },
    {
     "name": "stderr",
     "output_type": "stream",
     "text": [
      "\r\n",
      " 68%|██████████████████████████████████████████▎                   | 6821/10000 [00:05<00:02, 1251.24it/s]"
     ]
    },
    {
     "name": "stderr",
     "output_type": "stream",
     "text": [
      "\r\n",
      " 69%|███████████████████████████████████████████                   | 6948/10000 [00:05<00:02, 1255.25it/s]"
     ]
    },
    {
     "name": "stderr",
     "output_type": "stream",
     "text": [
      "\r\n",
      " 71%|███████████████████████████████████████████▊                  | 7074/10000 [00:05<00:02, 1255.70it/s]"
     ]
    },
    {
     "name": "stderr",
     "output_type": "stream",
     "text": [
      "\r\n",
      " 72%|████████████████████████████████████████████▋                 | 7201/10000 [00:05<00:02, 1257.31it/s]"
     ]
    },
    {
     "name": "stderr",
     "output_type": "stream",
     "text": [
      "\r\n",
      " 73%|█████████████████████████████████████████████▍                | 7328/10000 [00:05<00:02, 1258.59it/s]"
     ]
    },
    {
     "name": "stderr",
     "output_type": "stream",
     "text": [
      "\r\n",
      " 75%|██████████████████████████████████████████████▏               | 7454/10000 [00:05<00:02, 1254.88it/s]"
     ]
    },
    {
     "name": "stderr",
     "output_type": "stream",
     "text": [
      "\r\n",
      " 76%|██████████████████████████████████████████████▉               | 7580/10000 [00:06<00:01, 1256.06it/s]"
     ]
    },
    {
     "name": "stderr",
     "output_type": "stream",
     "text": [
      "\r\n",
      " 77%|███████████████████████████████████████████████▊              | 7707/10000 [00:06<00:01, 1258.52it/s]"
     ]
    },
    {
     "name": "stderr",
     "output_type": "stream",
     "text": [
      "\r\n",
      " 78%|████████████████████████████████████████████████▌             | 7834/10000 [00:06<00:01, 1259.66it/s]"
     ]
    },
    {
     "name": "stderr",
     "output_type": "stream",
     "text": [
      "\r\n",
      " 80%|█████████████████████████████████████████████████▎            | 7962/10000 [00:06<00:01, 1265.17it/s]"
     ]
    },
    {
     "name": "stderr",
     "output_type": "stream",
     "text": [
      "\r\n",
      " 81%|██████████████████████████████████████████████████▏           | 8089/10000 [00:06<00:01, 1265.11it/s]"
     ]
    },
    {
     "name": "stderr",
     "output_type": "stream",
     "text": [
      "\r\n",
      " 82%|██████████████████████████████████████████████████▉           | 8216/10000 [00:06<00:01, 1264.80it/s]"
     ]
    },
    {
     "name": "stderr",
     "output_type": "stream",
     "text": [
      "\r\n",
      " 83%|███████████████████████████████████████████████████▋          | 8343/10000 [00:06<00:01, 1264.00it/s]"
     ]
    },
    {
     "name": "stderr",
     "output_type": "stream",
     "text": [
      "\r\n",
      " 85%|████████████████████████████████████████████████████▌         | 8470/10000 [00:06<00:01, 1260.92it/s]"
     ]
    },
    {
     "name": "stderr",
     "output_type": "stream",
     "text": [
      "\r\n",
      " 86%|█████████████████████████████████████████████████████▎        | 8597/10000 [00:06<00:01, 1261.21it/s]"
     ]
    },
    {
     "name": "stderr",
     "output_type": "stream",
     "text": [
      "\r\n",
      " 87%|██████████████████████████████████████████████████████        | 8724/10000 [00:06<00:01, 1261.24it/s]"
     ]
    },
    {
     "name": "stderr",
     "output_type": "stream",
     "text": [
      "\r\n",
      " 89%|██████████████████████████████████████████████████████▉       | 8851/10000 [00:07<00:00, 1261.00it/s]"
     ]
    },
    {
     "name": "stderr",
     "output_type": "stream",
     "text": [
      "\r\n",
      " 90%|███████████████████████████████████████████████████████▋      | 8978/10000 [00:07<00:00, 1258.98it/s]"
     ]
    },
    {
     "name": "stderr",
     "output_type": "stream",
     "text": [
      "\r\n",
      " 91%|████████████████████████████████████████████████████████▍     | 9104/10000 [00:07<00:00, 1259.00it/s]"
     ]
    },
    {
     "name": "stderr",
     "output_type": "stream",
     "text": [
      "\r\n",
      " 92%|█████████████████████████████████████████████████████████▏    | 9231/10000 [00:07<00:00, 1261.39it/s]"
     ]
    },
    {
     "name": "stderr",
     "output_type": "stream",
     "text": [
      "\r\n",
      " 94%|██████████████████████████████████████████████████████████    | 9358/10000 [00:07<00:00, 1261.61it/s]"
     ]
    },
    {
     "name": "stderr",
     "output_type": "stream",
     "text": [
      "\r\n",
      " 95%|██████████████████████████████████████████████████████████▊   | 9485/10000 [00:07<00:00, 1260.55it/s]"
     ]
    },
    {
     "name": "stderr",
     "output_type": "stream",
     "text": [
      "\r\n",
      " 96%|███████████████████████████████████████████████████████████▌  | 9612/10000 [00:07<00:00, 1254.13it/s]"
     ]
    },
    {
     "name": "stderr",
     "output_type": "stream",
     "text": [
      "\r\n",
      " 97%|████████████████████████████████████████████████████████████▍ | 9738/10000 [00:07<00:00, 1253.59it/s]"
     ]
    },
    {
     "name": "stderr",
     "output_type": "stream",
     "text": [
      "\r\n",
      " 99%|█████████████████████████████████████████████████████████████▏| 9865/10000 [00:07<00:00, 1255.56it/s]"
     ]
    },
    {
     "name": "stderr",
     "output_type": "stream",
     "text": [
      "\r\n",
      "100%|█████████████████████████████████████████████████████████████▉| 9992/10000 [00:07<00:00, 1259.61it/s]"
     ]
    },
    {
     "name": "stderr",
     "output_type": "stream",
     "text": [
      "\r\n",
      "100%|█████████████████████████████████████████████████████████████| 10000/10000 [00:07<00:00, 1256.34it/s]"
     ]
    },
    {
     "name": "stderr",
     "output_type": "stream",
     "text": [
      "\n"
     ]
    },
    {
     "name": "stdout",
     "output_type": "stream",
     "text": [
      "Resulting samples with prior model lower bounds of [-1,-10,-10,-10], upper bounds of [2,10,10,10]\n"
     ]
    },
    {
     "data": {
      "image/png": "[encoded data removed]",
      "text/plain": [
       "<Figure size 640x480 with 1 Axes>"
      ]
     },
     "metadata": {},
     "output_type": "display_data"
    }
   ],
   "source": [
    "#@title Solution\n",
    "\n",
    "m_lower_bound = np.array([-1,-10,-10,-10])             # lower bound for uniform prior\n",
    "m_upper_bound = np.array([2,10,10,10])                 # upper bound for uniform prior\n",
    "\n",
    "def log_prior(model):    # uniform distribution\n",
    "    for i in range(len(m_lower_bound)):\n",
    "        if model[i] < m_lower_bound[i] or model[i] > m_upper_bound[i]: return -np.inf\n",
    "    return 0.0 # model lies within bounds -> return log(1)\n",
    "\n",
    "######## CoFI BaseProblem - update information\n",
    "inv_problem.set_log_prior(log_prior)\n",
    "\n",
    "######## CoFI Inversion - run it\n",
    "inv_4 = Inversion(inv_problem, inv_options_3)\n",
    "inv_result_4 = inv_4.run()\n",
    "\n",
    "flat_samples = inv_result_4.sampler.get_chain(discard=300, thin=30, flat=True)\n",
    "inds = np.random.randint(len(flat_samples), size=100) # get a random selection from posterior ensemble\n",
    "\n",
    "print(\"Resulting samples with prior model lower bounds of [-1,-10,-10,-10], upper bounds of [2,10,10,10]\")\n",
    "plot_data()\n",
    "plot_models(flat_samples[inds])\n",
    "plot_model(x, true_y, \"True model\", color=\"darkorange\")"
   ]
  },
  {
   "cell_type": "markdown",
   "id": "1eac787f",
   "metadata": {
    "papermill": {
     "duration": 0.021095,
     "end_time": "2024-03-19T00:39:12.109205",
     "exception": false,
     "start_time": "2024-03-19T00:39:12.088110",
     "status": "completed"
    },
    "tags": []
   },
   "source": [
    "Why do you think the posterior distribution looks like this?"
   ]
  },
  {
   "cell_type": "markdown",
   "id": "7f7e078b",
   "metadata": {
    "papermill": {
     "duration": 0.020802,
     "end_time": "2024-03-19T00:39:12.150926",
     "exception": false,
     "start_time": "2024-03-19T00:39:12.130124",
     "status": "completed"
    },
    "tags": []
   },
   "source": [
    "----------"
   ]
  },
  {
   "cell_type": "markdown",
   "id": "db6aa303",
   "metadata": {
    "papermill": {
     "duration": 0.02084,
     "end_time": "2024-03-19T00:39:12.192648",
     "exception": false,
     "start_time": "2024-03-19T00:39:12.171808",
     "status": "completed"
    },
    "tags": []
   },
   "source": [
    "### Challenge: Change the data uncertainty\n",
    "\n",
    "To change the data uncertainty we increase `sigma` and then redefine the log-Likelihood.\n",
    "\n",
    "Here we increase the assumed data standard deviation by a factor of of 50! So we are telling the inversion that the data are far less accurate than they actually are."
   ]
  },
  {
   "cell_type": "code",
   "execution_count": null,
   "id": "d7255b47",
   "metadata": {
    "papermill": {
     "duration": 0.026031,
     "end_time": "2024-03-19T00:39:12.239591",
     "exception": false,
     "start_time": "2024-03-19T00:39:12.213560",
     "status": "completed"
    },
    "tags": []
   },
   "outputs": [],
   "source": [
    "sigma = 50.0                                     # common noise standard deviation\n",
    "Cdinv = np.eye(len(data_y))/(sigma**2)      # inverse data covariance matrix\n",
    "\n",
    "def log_likelihood(model):\n",
    "    y_synthetics = forward(model)\n",
    "    residual = data_y - y_synthetics\n",
    "    return -0.5 * residual @ (Cdinv @ residual).T"
   ]
  },
  {
   "cell_type": "markdown",
   "id": "de4d4ddc",
   "metadata": {
    "papermill": {
     "duration": 0.020839,
     "end_time": "2024-03-19T00:39:12.281379",
     "exception": false,
     "start_time": "2024-03-19T00:39:12.260540",
     "status": "completed"
    },
    "tags": []
   },
   "source": [
    "Lets return the prior to the original bounds."
   ]
  },
  {
   "cell_type": "code",
   "execution_count": null,
   "id": "0b86326a",
   "metadata": {
    "papermill": {
     "duration": 0.025507,
     "end_time": "2024-03-19T00:39:12.327736",
     "exception": false,
     "start_time": "2024-03-19T00:39:12.302229",
     "status": "completed"
    },
    "tags": []
   },
   "outputs": [],
   "source": [
    "m_lower_bound = np.ones(4) * (-10.)             # lower bound for uniform prior\n",
    "m_upper_bound = np.ones(4) * 10                 # upper bound for uniform prior\n",
    "\n",
    "def log_prior(model):    # uniform distribution\n",
    "    for i in range(len(m_lower_bound)):\n",
    "        if model[i] < m_lower_bound[i] or model[i] > m_upper_bound[i]: return -np.inf\n",
    "    return 0.0 # model lies within bounds -> return log(1)"
   ]
  },
  {
   "cell_type": "markdown",
   "id": "fe93f319",
   "metadata": {
    "papermill": {
     "duration": 0.020813,
     "end_time": "2024-03-19T00:39:12.390049",
     "exception": false,
     "start_time": "2024-03-19T00:39:12.369236",
     "status": "completed"
    },
    "tags": []
   },
   "source": [
    "Your challenge is then to tell CoFI that the Likelihood and prior have changed and then to rerun the sample, and plot results.\n",
    "\n",
    "[![Upload to Excalidraw_3](https://img.shields.io/badge/Click%20&%20upload%20your%20results%20to-Excalidraw-lightgrey?logo=jamboard&style=for-the-badge&color=fcbf49&labelColor=edede9)](https://excalidraw.com/#room=9a22d4eab8a9189d3b9b,9R8JKoHdOsbWlOLBj2V1fQ)\n",
    "\n",
    "Feel free to start from the code below:\n",
    "\n",
    "```\n",
    "######## CoFI BaseProblem - update information\n",
    "inv_problem.set_log_likelihood(<CHANGE ME>)\n",
    "inv_problem.set_log_prior(<CHANGE ME>)\n",
    "\n",
    "######## CoFI Inversion - run it\n",
    "inv_5 = Inversion(inv_problem, inv_options_3)\n",
    "inv_result_5 = inv_5.run()\n",
    "\n",
    "flat_samples = inv_result_5.sampler.get_chain(discard=300, thin=30, flat=True)\n",
    "inds = np.random.randint(len(flat_samples), size=100) # get a random selection from posterior ensemble\n",
    "\n",
    "print(\"Resulting samples from changed data uncertainty\")\n",
    "plot_data()\n",
    "plot_models(flat_samples[inds])\n",
    "plot_model(x,true_y, \"True model\", color=\"darkorange\")\n",
    "```"
   ]
  },
  {
   "cell_type": "code",
   "execution_count": null,
   "id": "bc081a33",
   "metadata": {
    "papermill": {
     "duration": 0.024201,
     "end_time": "2024-03-19T00:39:12.435099",
     "exception": false,
     "start_time": "2024-03-19T00:39:12.410898",
     "status": "completed"
    },
    "tags": []
   },
   "outputs": [],
   "source": [
    "# Copy the template above, Replace <CHANGE ME> with your answer\n",
    "\n"
   ]
  },
  {
   "cell_type": "markdown",
   "id": "290bc973",
   "metadata": {
    "papermill": {
     "duration": 0.020819,
     "end_time": "2024-03-19T00:39:12.476855",
     "exception": false,
     "start_time": "2024-03-19T00:39:12.456036",
     "status": "completed"
    },
    "tags": []
   },
   "source": [
    "The answer is in the next cells if you want to run them."
   ]
  },
  {
   "cell_type": "code",
   "execution_count": null,
   "id": "c617ca30",
   "metadata": {
    "cellView": "form",
    "jupyter": {
     "source_hidden": true
    },
    "papermill": {
     "duration": 7.340664,
     "end_time": "2024-03-19T00:39:19.838460",
     "exception": false,
     "start_time": "2024-03-19T00:39:12.497796",
     "status": "completed"
    },
    "tags": []
   },
   "outputs": [
    {
     "name": "stderr",
     "output_type": "stream",
     "text": [
      "\r\n",
      " 17%|██████████▌                                                   | 1699/10000 [00:01<00:05, 1424.25it/s]"
     ]
    },
    {
     "name": "stderr",
     "output_type": "stream",
     "text": [
      "\r\n",
      " 18%|███████████▍                                                  | 1843/10000 [00:01<00:05, 1426.60it/s]"
     ]
    },
    {
     "name": "stderr",
     "output_type": "stream",
     "text": [
      "\r\n",
      " 20%|████████████▎                                                 | 1987/10000 [00:01<00:05, 1429.63it/s]"
     ]
    },
    {
     "name": "stderr",
     "output_type": "stream",
     "text": [
      "\r\n",
      " 21%|█████████████▏                                                | 2132/10000 [00:01<00:05, 1432.83it/s]"
     ]
    },
    {
     "name": "stderr",
     "output_type": "stream",
     "text": [
      "\r\n",
      " 23%|██████████████                                                | 2276/10000 [00:01<00:05, 1426.04it/s]"
     ]
    },
    {
     "name": "stderr",
     "output_type": "stream",
     "text": [
      "\r\n",
      " 24%|██████████████▉                                               | 2419/10000 [00:01<00:05, 1423.89it/s]"
     ]
    },
    {
     "name": "stderr",
     "output_type": "stream",
     "text": [
      "\r\n",
      " 26%|███████████████▉                                              | 2562/10000 [00:01<00:05, 1421.98it/s]"
     ]
    },
    {
     "name": "stderr",
     "output_type": "stream",
     "text": [
      "\r\n",
      " 27%|████████████████▊                                             | 2706/10000 [00:01<00:05, 1425.37it/s]"
     ]
    },
    {
     "name": "stderr",
     "output_type": "stream",
     "text": [
      "\r\n",
      " 28%|█████████████████▋                                            | 2849/10000 [00:02<00:05, 1425.04it/s]"
     ]
    },
    {
     "name": "stderr",
     "output_type": "stream",
     "text": [
      "\r\n",
      " 30%|██████████████████▌                                           | 2992/10000 [00:02<00:04, 1422.08it/s]"
     ]
    },
    {
     "name": "stderr",
     "output_type": "stream",
     "text": [
      "\r\n",
      " 31%|███████████████████▍                                          | 3135/10000 [00:02<00:04, 1423.66it/s]"
     ]
    },
    {
     "name": "stderr",
     "output_type": "stream",
     "text": [
      "\r\n",
      " 33%|████████████████████▎                                         | 3278/10000 [00:02<00:04, 1423.27it/s]"
     ]
    },
    {
     "name": "stderr",
     "output_type": "stream",
     "text": [
      "\r\n",
      " 34%|█████████████████████▏                                        | 3421/10000 [00:02<00:04, 1417.74it/s]"
     ]
    },
    {
     "name": "stderr",
     "output_type": "stream",
     "text": [
      "\r\n",
      " 36%|██████████████████████                                        | 3563/10000 [00:02<00:04, 1412.31it/s]"
     ]
    },
    {
     "name": "stderr",
     "output_type": "stream",
     "text": [
      "\r\n",
      " 37%|██████████████████████▉                                       | 3705/10000 [00:02<00:04, 1412.39it/s]"
     ]
    },
    {
     "name": "stderr",
     "output_type": "stream",
     "text": [
      "\r\n",
      " 38%|███████████████████████▊                                      | 3847/10000 [00:02<00:04, 1412.65it/s]"
     ]
    },
    {
     "name": "stderr",
     "output_type": "stream",
     "text": [
      "\r\n",
      " 40%|████████████████████████▋                                     | 3990/10000 [00:02<00:04, 1416.18it/s]"
     ]
    },
    {
     "name": "stderr",
     "output_type": "stream",
     "text": [
      "\r\n",
      " 41%|█████████████████████████▌                                    | 4133/10000 [00:02<00:04, 1419.70it/s]"
     ]
    },
    {
     "name": "stderr",
     "output_type": "stream",
     "text": [
      "\r\n",
      " 43%|██████████████████████████▌                                   | 4278/10000 [00:03<00:04, 1428.55it/s]"
     ]
    },
    {
     "name": "stderr",
     "output_type": "stream",
     "text": [
      "\r\n",
      " 44%|███████████████████████████▍                                  | 4423/10000 [00:03<00:03, 1432.19it/s]"
     ]
    },
    {
     "name": "stderr",
     "output_type": "stream",
     "text": [
      "\r\n",
      " 46%|████████████████████████████▎                                 | 4567/10000 [00:03<00:03, 1429.23it/s]"
     ]
    },
    {
     "name": "stderr",
     "output_type": "stream",
     "text": [
      "\r\n",
      " 47%|█████████████████████████████▏                                | 4710/10000 [00:03<00:03, 1426.19it/s]"
     ]
    },
    {
     "name": "stderr",
     "output_type": "stream",
     "text": [
      "\r\n",
      " 49%|██████████████████████████████                                | 4853/10000 [00:03<00:03, 1419.13it/s]"
     ]
    },
    {
     "name": "stderr",
     "output_type": "stream",
     "text": [
      "\r\n",
      " 50%|██████████████████████████████▉                               | 4996/10000 [00:03<00:03, 1421.93it/s]"
     ]
    },
    {
     "name": "stderr",
     "output_type": "stream",
     "text": [
      "\r\n",
      " 51%|███████████████████████████████▊                              | 5139/10000 [00:03<00:03, 1420.18it/s]"
     ]
    },
    {
     "name": "stderr",
     "output_type": "stream",
     "text": [
      "\r\n",
      " 53%|████████████████████████████████▋                             | 5282/10000 [00:03<00:03, 1417.58it/s]"
     ]
    },
    {
     "name": "stderr",
     "output_type": "stream",
     "text": [
      "\r\n",
      " 54%|█████████████████████████████████▋                            | 5426/10000 [00:03<00:03, 1421.44it/s]"
     ]
    },
    {
     "name": "stderr",
     "output_type": "stream",
     "text": [
      "\r\n",
      " 56%|██████████████████████████████████▌                           | 5569/10000 [00:03<00:03, 1412.84it/s]"
     ]
    },
    {
     "name": "stderr",
     "output_type": "stream",
     "text": [
      "\r\n",
      " 57%|███████████████████████████████████▍                          | 5713/10000 [00:04<00:03, 1418.61it/s]"
     ]
    },
    {
     "name": "stderr",
     "output_type": "stream",
     "text": [
      "\r\n",
      " 59%|████████████████████████████████████▎                         | 5856/10000 [00:04<00:02, 1421.15it/s]"
     ]
    },
    {
     "name": "stderr",
     "output_type": "stream",
     "text": [
      "\r\n",
      " 60%|█████████████████████████████████████▏                        | 5999/10000 [00:04<00:02, 1418.66it/s]"
     ]
    },
    {
     "name": "stderr",
     "output_type": "stream",
     "text": [
      "\r\n",
      " 61%|██████████████████████████████████████                        | 6141/10000 [00:04<00:02, 1415.64it/s]"
     ]
    },
    {
     "name": "stderr",
     "output_type": "stream",
     "text": [
      "\r\n",
      " 63%|██████████████████████████████████████▉                       | 6284/10000 [00:04<00:02, 1417.62it/s]"
     ]
    },
    {
     "name": "stderr",
     "output_type": "stream",
     "text": [
      "\r\n",
      " 64%|███████████████████████████████████████▊                      | 6427/10000 [00:04<00:02, 1418.67it/s]"
     ]
    },
    {
     "name": "stderr",
     "output_type": "stream",
     "text": [
      "\r\n",
      " 66%|████████████████████████████████████████▋                     | 6570/10000 [00:04<00:02, 1419.81it/s]"
     ]
    },
    {
     "name": "stderr",
     "output_type": "stream",
     "text": [
      "\r\n",
      " 67%|█████████████████████████████████████████▌                    | 6712/10000 [00:04<00:02, 1415.80it/s]"
     ]
    },
    {
     "name": "stderr",
     "output_type": "stream",
     "text": [
      "\r\n",
      " 69%|██████████████████████████████████████████▍                   | 6854/10000 [00:04<00:02, 1415.56it/s]"
     ]
    },
    {
     "name": "stderr",
     "output_type": "stream",
     "text": [
      "\r\n",
      " 70%|███████████████████████████████████████████▍                  | 6997/10000 [00:04<00:02, 1417.75it/s]"
     ]
    },
    {
     "name": "stderr",
     "output_type": "stream",
     "text": [
      "\r\n",
      " 71%|████████████████████████████████████████████▎                 | 7139/10000 [00:05<00:02, 1416.32it/s]"
     ]
    },
    {
     "name": "stderr",
     "output_type": "stream",
     "text": [
      "\r\n",
      " 73%|█████████████████████████████████████████████▏                | 7282/10000 [00:05<00:01, 1418.85it/s]"
     ]
    },
    {
     "name": "stderr",
     "output_type": "stream",
     "text": [
      "\r\n",
      " 74%|██████████████████████████████████████████████                | 7425/10000 [00:05<00:01, 1419.18it/s]"
     ]
    },
    {
     "name": "stderr",
     "output_type": "stream",
     "text": [
      "\r\n",
      " 76%|██████████████████████████████████████████████▉               | 7567/10000 [00:05<00:01, 1419.19it/s]"
     ]
    },
    {
     "name": "stderr",
     "output_type": "stream",
     "text": [
      "\r\n",
      " 77%|███████████████████████████████████████████████▊              | 7710/10000 [00:05<00:01, 1420.61it/s]"
     ]
    },
    {
     "name": "stderr",
     "output_type": "stream",
     "text": [
      "\r\n",
      " 79%|████████████████████████████████████████████████▋             | 7853/10000 [00:05<00:01, 1415.46it/s]"
     ]
    },
    {
     "name": "stderr",
     "output_type": "stream",
     "text": [
      "\r\n",
      " 80%|█████████████████████████████████████████████████▌            | 7997/10000 [00:05<00:01, 1421.28it/s]"
     ]
    },
    {
     "name": "stderr",
     "output_type": "stream",
     "text": [
      "\r\n",
      " 81%|██████████████████████████████████████████████████▍           | 8140/10000 [00:05<00:01, 1423.28it/s]"
     ]
    },
    {
     "name": "stderr",
     "output_type": "stream",
     "text": [
      "\r\n",
      " 83%|███████████████████████████████████████████████████▎          | 8283/10000 [00:05<00:01, 1419.15it/s]"
     ]
    },
    {
     "name": "stderr",
     "output_type": "stream",
     "text": [
      "\r\n",
      " 84%|████████████████████████████████████████████████████▏         | 8425/10000 [00:05<00:01, 1418.91it/s]"
     ]
    },
    {
     "name": "stderr",
     "output_type": "stream",
     "text": [
      "\r\n",
      " 86%|█████████████████████████████████████████████████████         | 8567/10000 [00:06<00:01, 1418.21it/s]"
     ]
    },
    {
     "name": "stderr",
     "output_type": "stream",
     "text": [
      "\r\n",
      " 87%|██████████████████████████████████████████████████████        | 8710/10000 [00:06<00:00, 1420.56it/s]"
     ]
    },
    {
     "name": "stderr",
     "output_type": "stream",
     "text": [
      "\r\n",
      " 89%|██████████████████████████████████████████████████████▉       | 8854/10000 [00:06<00:00, 1425.35it/s]"
     ]
    },
    {
     "name": "stderr",
     "output_type": "stream",
     "text": [
      "\r\n",
      " 90%|███████████████████████████████████████████████████████▊      | 8997/10000 [00:06<00:00, 1423.56it/s]"
     ]
    },
    {
     "name": "stderr",
     "output_type": "stream",
     "text": [
      "\r\n",
      " 91%|████████████████████████████████████████████████████████▋     | 9141/10000 [00:06<00:00, 1427.64it/s]"
     ]
    },
    {
     "name": "stderr",
     "output_type": "stream",
     "text": [
      "\r\n",
      " 93%|█████████████████████████████████████████████████████████▌    | 9284/10000 [00:06<00:00, 1427.31it/s]"
     ]
    },
    {
     "name": "stderr",
     "output_type": "stream",
     "text": [
      "\r\n",
      " 94%|██████████████████████████████████████████████████████████▍   | 9427/10000 [00:06<00:00, 1423.82it/s]"
     ]
    },
    {
     "name": "stderr",
     "output_type": "stream",
     "text": [
      "\r\n",
      " 96%|███████████████████████████████████████████████████████████▎  | 9570/10000 [00:06<00:00, 1425.55it/s]"
     ]
    },
    {
     "name": "stderr",
     "output_type": "stream",
     "text": [
      "\r\n",
      " 97%|████████████████████████████████████████████████████████████▏ | 9713/10000 [00:06<00:00, 1420.37it/s]"
     ]
    },
    {
     "name": "stderr",
     "output_type": "stream",
     "text": [
      "\r\n",
      " 99%|█████████████████████████████████████████████████████████████ | 9856/10000 [00:06<00:00, 1418.97it/s]"
     ]
    },
    {
     "name": "stderr",
     "output_type": "stream",
     "text": [
      "\r\n",
      "100%|█████████████████████████████████████████████████████████████▉| 9998/10000 [00:07<00:00, 1418.74it/s]"
     ]
    },
    {
     "name": "stderr",
     "output_type": "stream",
     "text": [
      "\r\n",
      "100%|█████████████████████████████████████████████████████████████| 10000/10000 [00:07<00:00, 1419.10it/s]"
     ]
    },
    {
     "name": "stderr",
     "output_type": "stream",
     "text": [
      "\n"
     ]
    },
    {
     "name": "stdout",
     "output_type": "stream",
     "text": [
      "Resulting samples from changed data uncertainty\n"
     ]
    },
    {
     "data": {
      "image/png": "[encoded data removed]",
      "text/plain": [
       "<Figure size 640x480 with 1 Axes>"
      ]
     },
     "metadata": {},
     "output_type": "display_data"
    }
   ],
   "source": [
    "#@title Solution\n",
    "\n",
    "######## CoFI BaseProblem - update information\n",
    "inv_problem.set_log_likelihood(log_likelihood)\n",
    "inv_problem.set_log_prior(log_prior)\n",
    "\n",
    "######## CoFI Inversion - run it\n",
    "inv_5 = Inversion(inv_problem, inv_options_3)\n",
    "inv_result_5 = inv_5.run()\n",
    "\n",
    "flat_samples = inv_result_5.sampler.get_chain(discard=300, thin=30, flat=True)\n",
    "inds = np.random.randint(len(flat_samples), size=100) # get a random selection from posterior ensemble\n",
    "\n",
    "print(\"Resulting samples from changed data uncertainty\")\n",
    "plot_data()\n",
    "plot_models(flat_samples[inds])\n",
    "plot_model(x,true_y, \"True model\", color=\"darkorange\")"
   ]
  },
  {
   "cell_type": "markdown",
   "id": "ed05852c",
   "metadata": {
    "papermill": {
     "duration": 0.024502,
     "end_time": "2024-03-19T00:39:19.888484",
     "exception": false,
     "start_time": "2024-03-19T00:39:19.863982",
     "status": "completed"
    },
    "tags": []
   },
   "source": [
    "### Challenge: Change the number of walkers / steps in the McMC algorithm (optional)\n",
    "\n",
    "Now lets decrease the number of steps performed by the McMC algorithm. It will be faster but perform less exploration of the model parameters.\n",
    "\n",
    "We suggest you reduce the number of steps taken by all 32 random walkers and see how it affects the posterior ensemble.\n",
    "\n",
    "[![Upload to Excalidraw_4](https://img.shields.io/badge/Click%20&%20upload%20your%20results%20to-Excalidraw-lightgrey?logo=jamboard&style=for-the-badge&color=fcbf49&labelColor=edede9)](https://excalidraw.com/#room=354b4a2d26551847421f,Cqqz1tpuHdT-g0dyMMqJlQ)\n",
    "\n",
    "You can start from code template below:\n",
    "\n",
    "```\n",
    "# change number of steps\n",
    "nsteps = <CHANGE ME>              # instead of 10000\n",
    "\n",
    "# change number of walkers\n",
    "nwalkers = <CHANGE ME>            # instead of 32\n",
    "walkers_start = np.zeros(nparams) + 1e-4 * np.random.randn(nwalkers, ndim)\n",
    "\n",
    "# let's return to the old uncertainty settings\n",
    "sigma = 1.0                                     # common noise standard deviation\n",
    "Cdinv = np.eye(len(data_y))/(sigma**2)      # inverse data covariance matrix\n",
    "\n",
    "######## CoFI InversionOptions - get a different tool\n",
    "inv_options_3.set_params(nsteps=nsteps, nwalkers=nwalkers, initial_state=walkers_start)\n",
    "\n",
    "######## CoFI Inversion - run it\n",
    "inv_6 = Inversion(inv_problem, inv_options_3)\n",
    "inv_result_6 = inv_6.run()\n",
    "\n",
    "######## CoFI InversionResult - plot result\n",
    "flat_samples = inv_result_6.sampler.get_chain(discard=300, thin=30, flat=True)\n",
    "inds = np.random.randint(len(flat_samples), size=10) # get a random selection from posterior ensemble\n",
    "\n",
    "print(f\"Inference results from {nsteps} steps and {nwalkers} walkers\")\n",
    "plot_data()\n",
    "plot_models(flat_samples[inds])\n",
    "plot_model(x,true_y, \"True model\", color=\"darkorange\")\n",
    "```"
   ]
  },
  {
   "cell_type": "code",
   "execution_count": null,
   "id": "d128d944",
   "metadata": {
    "papermill": {
     "duration": 0.036608,
     "end_time": "2024-03-19T00:39:19.949593",
     "exception": false,
     "start_time": "2024-03-19T00:39:19.912985",
     "status": "completed"
    },
    "tags": []
   },
   "outputs": [],
   "source": [
    "# Copy the template above, Replace <CHANGE ME> with your answer\n",
    "\n"
   ]
  },
  {
   "cell_type": "code",
   "execution_count": null,
   "id": "851fe2e3",
   "metadata": {
    "cellView": "form",
    "jupyter": {
     "source_hidden": true
    },
    "papermill": {
     "duration": 0.503387,
     "end_time": "2024-03-19T00:39:20.477465",
     "exception": false,
     "start_time": "2024-03-19T00:39:19.974078",
     "status": "completed"
    },
    "tags": []
   },
   "outputs": [],
   "source": [
    "#@title Solution\n",
    "\n",
    "# change number of steps\n",
    "nsteps = 400              # instead of 10000\n",
    "\n",
    "# change number of walkers\n",
    "nwalkers = 30             # instead of 32\n",
    "walkers_start = np.zeros(nparams) + 1e-4 * np.random.randn(nwalkers, ndim)\n",
    "\n",
    "# let's return to the old uncertainty settings\n",
    "sigma = 1.0                                     # common noise standard deviation\n",
    "Cdinv = np.eye(len(data_y))/(sigma**2)      # inverse data covariance matrix\n",
    "\n",
    "######## CoFI InversionOptions - get a different tool\n",
    "inv_options_3.set_params(nsteps=nsteps, nwalkers=nwalkers, initial_state=walkers_start)\n",
    "\n",
    "######## CoFI Inversion - run it\n",
    "inv_6 = Inversion(inv_problem, inv_options_3)\n",
    "inv_result_6 = inv_6.run()\n",
    "\n",
    "######## CoFI InversionResult - plot result\n",
    "flat_samples = inv_result_6.sampler.get_chain(discard=300, thin=30, flat=True)\n",
    "inds = np.random.randint(len(flat_samples), size=10) # get a random selection from posterior ensemble\n",
    "\n",
    "print(f\"Inference results from {nsteps} steps and {nwalkers} walkers\")\n",
    "plot_data()\n",
    "plot_models(flat_samples[inds])\n",
    "plot_model(x,true_y, \"True model\", color=\"darkorange\")"
   ]
  },
  {
   "cell_type": "markdown",
   "id": "904ae135",
   "metadata": {
    "papermill": {
     "duration": 0.025255,
     "end_time": "2024-03-19T00:39:20.529334",
     "exception": false,
     "start_time": "2024-03-19T00:39:20.504079",
     "status": "completed"
    },
    "tags": []
   },
   "source": [
    "---\n",
    "\n",
    "## Where to next?\n",
    "\n",
    "- Linear regression with Eustatic Sea-level data - [link to notebook](https://github.com/inlab-geo/cofi-examples/blob/main/examples/linear_regression/linear_regression_sealevel.ipynb)\n"
   ]
  },
  {
   "cell_type": "markdown",
   "id": "2b4aaa90",
   "metadata": {
    "papermill": {
     "duration": 0.030741,
     "end_time": "2024-03-19T00:39:20.585243",
     "exception": false,
     "start_time": "2024-03-19T00:39:20.554502",
     "status": "completed"
    },
    "tags": []
   },
   "source": [
    "---\n",
    "\n",
    "## Watermark"
   ]
  },
  {
   "cell_type": "code",
   "execution_count": null,
   "id": "82de4018",
   "metadata": {
    "papermill": {
     "duration": 0.029983,
     "end_time": "2024-03-19T00:39:20.640525",
     "exception": false,
     "start_time": "2024-03-19T00:39:20.610542",
     "status": "completed"
    },
    "tags": []
   },
   "outputs": [],
   "source": [
    "watermark_list = [\"cofi\", \"numpy\", \"scipy\", \"matplotlib\", \"emcee\", \"arviz\"]\n",
    "for pkg in watermark_list:\n",
    "    pkg_var = __import__(pkg)\n",
    "    print(pkg, getattr(pkg_var, \"__version__\"))"
   ]
  }
 ],
 "metadata": {
  "kernelspec": {
   "display_name": "Python 3 (ipykernel)",
   "language": "python",
   "name": "python3"
  },
  "language_info": {
   "codemirror_mode": {
    "name": "ipython",
    "version": 3
   },
   "file_extension": ".py",
   "mimetype": "text/x-python",
   "name": "python",
   "nbconvert_exporter": "python",
   "pygments_lexer": "ipython3",
   "version": "3.13.3"
  },
  "papermill": {
   "default_parameters": {},
   "duration": 34.676302,
   "end_time": "2024-03-19T00:39:21.181784",
   "environment_variables": {},
   "exception": null,
   "input_path": "/home/jiawen/test/cofi-examples/tutorials/1_linear_regression.ipynb",
   "output_path": "/home/jiawen/test/cofi-examples/tutorials/1_linear_regression.ipynb",
   "parameters": {},
   "start_time": "2024-03-19T00:38:46.505482",
   "version": "2.4.0"
  },
  "vscode": {
   "interpreter": {
    "hash": "397704579725e15f5c7cb49fe5f0341eb7531c82d19f2c29d197e8b64ab5776b"
   }
  }
 },
 "nbformat": 4,
 "nbformat_minor": 5
}
