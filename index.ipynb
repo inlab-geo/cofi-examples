{
 "cells": [
  {
   "attachments": {},
   "cell_type": "markdown",
   "metadata": {},
   "source": [
    "# <img src=\"https://raw.githubusercontent.com/inlab-geo/cofi/main/docs/source/_static/latte_art_cropped.png\" width=\"5%\" padding=\"0\" margin=\"0\"/> CoFI Examples\n",
    "\n",
    "👋 Welcome!\n",
    "\n",
    "Here are a series of examples that use CoFI to perform a complete inversion workflow. \n",
    "\n",
    "## Tutorials\n",
    "\n",
    "- 〰️ Linear regression [link](tutorials/linear_regression/linear_regression.ipynb)\n",
    "- 🔦 Linear & non-linear travel time tomography [link](tutorials/travel_time_tomography/travel_time_tomography.ipynb)\n",
    "- ⚡️ Electrical resistivity tomography [link](tutorials/electrical_resistivity_tomography/electrical_resistivity_tomography.ipynb)\n",
    "- 🌀 Surface wave phase velocity inversion [link](tutorials/rayleigh_wave_phase_velocity/1D_rayleigh_wave_phase_velocity_inversion.ipynb)\n",
    "\n",
    "## Examples\n",
    "\n",
    "Examples start from simple linear regression all the way up to practical geoscience applications.\n",
    "\n",
    "- 〰️ Polynomial linear regression \n",
    "    - [linear_regression.ipynb](examples/linear_regression/linear_regression.ipynb)\n",
    "    - [linear_regression_lab.ipynb](examples/linear_regression/linear_regression_lab.ipynb)\n",
    "- 〰️ Non-linear curve fitting\n",
    "    - [nonlinear_curve_fitting.ipynb](examples/nonlinear_curve_fitting/nonlinear_curve_fitting.ipynb)\n",
    "- 〰️ Modified Himmelblau problem\n",
    "    - [modified_himmelblau.ipynb](examples/test_functions_for_optimization/modified_himmelblau.ipynb)\n",
    "- ⚡️  Electrical resistivity tomography (ERT) via PyGIMLi\n",
    "    - [pygimli_ert.ipynb](examples/pygimli_ert/pygimli_ert.ipynb)\n",
    "- 🔋  Direct current induced polarization (DCIP) via PyGIMLi\n",
    "    - A synthetic data example [pygimli_dcip.ipynb](examples/pygimli_dcip/pygimli_dcip.ipynb)\n",
    "    - A real dataset example: [pygimli_dcip_century_tri_mesh.ipynb](examples/pygimli_dcip/pygimli_dcip_century_tri_mesh.ipynb)\n",
    "- 🔦 Xray tomography\n",
    "    - [xray_tompgraphy.ipynb](examples/xray_tomography/xray_tomography.ipynb)\n",
    "- 🌀 Seismic wave tomography via Fast Marching\n",
    "    - [fmm_tomography.ipynb](examples/fmm_tomography/fmm_tomography.ipynb)\n",
    "- 🌀 Surface wave tomography via Seislib\n",
    "    - [sw_tomography.ipynb](examples/sw_tomography/sw_tomography.ipynb)\n",
    "- 🌀 Receiver function inversion\n",
    "    - [receiver_function_inversion.ipynb](examples/receiver_function/receiver_function_inversion.ipynb)\n",
    "- 🌀 Surface wave phase velocity and receiver function joint inversion\n",
    "    - A synthetic data example: [sw_rf_joint_synthetic.ipynb](examples/sw_rf_joint/sw_rf_joint_synthetic.ipynb)\n",
    "    - A real dataset example: [surface_wave_receiver_function_joint.ipynb](examples/sw_rf_joint/surface_wave_receiver_function_joint.ipynb)\n",
    "\n",
    "## More resources & contacts\n",
    "\n",
    "Meantime, the CoFI documentation (access it [📄 here](https://cofi.readthedocs.io/en/latest/index.html)) is another useful resource for you to learn more about usages of CoFI.\n",
    "\n",
    "If you have any questions or feedback, please contact us at:\n",
    "- 💬 InLab Community Slack workspace [here](https://join.slack.com/t/inlab-community/shared_invite/zt-1ejny069z-v5ZyvP2tDjBR42OAu~TkHg) \n",
    "- 🔖 Github issues [here](https://github.com/inlab-geo/cofi-examples/issues) \n"
   ]
  }
 ],
 "metadata": {
  "kernelspec": {
   "display_name": "Python 3 (ipykernel)",
   "language": "python",
   "name": "python3"
  },
  "language_info": {
   "codemirror_mode": {
    "name": "ipython",
    "version": 3
   },
   "file_extension": ".py",
   "mimetype": "text/x-python",
   "name": "python",
   "nbconvert_exporter": "python",
   "pygments_lexer": "ipython3",
   "version": "3.9.16"
  },
  "vscode": {
   "interpreter": {
    "hash": "f53af8d4cb0cee79f8d6d6212f461365278bf68c0ce0b4237b6e88ef77d505ea"
   }
  }
 },
 "nbformat": 4,
 "nbformat_minor": 4
}
